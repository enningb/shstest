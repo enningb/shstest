{
 "cells": [
  {
   "cell_type": "raw",
   "id": "3ea1c7ba",
   "metadata": {},
   "source": [
    "---\n",
    "title: \"ANCOVA\"\n",
    "output:\n",
    "  html_document:\n",
    "    theme: lumen\n",
    "    toc: yes\n",
    "    toc_depth: 2\n",
    "    toc_float: \n",
    "      collapsed: FALSE \n",
    "    number_sections: true\n",
    "    includes:\n",
    "      in_header: [\"../01. Includes/html/nocache.html\", \"../01. Includes/html/favicon.html\", \"../01. Includes/html/analytics.html\"]\n",
    "  keywords: [statistisch handboek, studiedata]\n",
    "---"
   ]
  },
  {
   "cell_type": "markdown",
   "id": "f568df1a",
   "metadata": {
    "lines_to_next_cell": 0
   },
   "source": [
    "<!-- ## CLOSEDBLOK: Functies.R -->"
   ]
  },
  {
   "cell_type": "code",
   "execution_count": null,
   "id": "3899bb42",
   "metadata": {
    "include": true,
    "lines_to_next_cell": 0,
    "message": false,
    "name": "functies",
    "results": "asis",
    "tags": [
     "remove_input"
    ],
    "warning": false
   },
   "outputs": [],
   "source": [
    "library(here)\n",
    "if (!exists(\"Substitute_var\")) {\n",
    "  ## Installeer packages en functies\n",
    "  source(paste0(here::here(), \"/99. Functies en Libraries/00. Voorbereidingen.R\"), echo = FALSE)\n",
    "}"
   ]
  },
  {
   "cell_type": "markdown",
   "id": "a7217c56",
   "metadata": {
    "lines_to_next_cell": 0
   },
   "source": [
    "<!-- ## /CLOSEDBLOK: Functies.R -->\n",
    "\n",
    "<!-- ## CLOSEDBLOK: CSS -->\n",
    "<style>\n",
    "`r htmltools::includeHTML(paste0(here::here(),\"/01. Includes/css/Stylesheet_SHHO.css\"))`\n",
    "</style>\n",
    "<!-- ## /CLOSEDBLOK: CSS -->\n",
    "\n",
    "<!-- ## CLOSEDBLOK: Header.R -->"
   ]
  },
  {
   "cell_type": "code",
   "execution_count": null,
   "id": "1722722d",
   "metadata": {
    "code": "#R_CODE#readLines(paste0(here::here(),\"/01. Includes/code/Header.R\"))",
    "include": true,
    "lines_to_next_cell": 0,
    "name": "header",
    "results": "asis",
    "tags": [
     "remove_input"
    ]
   },
   "outputs": [],
   "source": []
  },
  {
   "cell_type": "markdown",
   "id": "b0eff5a7",
   "metadata": {
    "lines_to_next_cell": 0
   },
   "source": [
    "<!-- ## /CLOSEDBLOK: Header.R -->\n",
    "\n",
    "<!-- ## CLOSEDBLOK: Status.R -->"
   ]
  },
  {
   "cell_type": "code",
   "execution_count": null,
   "id": "8a9afa68",
   "metadata": {
    "code": "#R_CODE#readLines(paste0(here::here(),\"/01. Includes/code/Status.R\"))",
    "include": true,
    "lines_to_next_cell": 0,
    "name": "status",
    "results": "asis",
    "tags": [
     "remove_input"
    ]
   },
   "outputs": [],
   "source": []
  },
  {
   "cell_type": "markdown",
   "id": "996a2b81",
   "metadata": {
    "lines_to_next_cell": 0
   },
   "source": [
    "<!-- ## /CLOSEDBLOK: Status.R -->\n",
    "\n",
    "<!-- ## CLOSEDBLOK: Reticulate.R -->\n",
    "\n",
    "<!-- ## /CLOSEDBLOK: Reticulate.R -->\n",
    "\n",
    "<!-- ## OPENBLOK: Data-aanmaken.R -->"
   ]
  },
  {
   "cell_type": "code",
   "execution_count": null,
   "id": "1cb26fd8",
   "metadata": {
    "echo": true,
    "lines_to_next_cell": 0,
    "name": "aanmaken data",
    "tags": [
     "remove_cell"
    ]
   },
   "outputs": [],
   "source": [
    "set.seed(12345)\n",
    "source(paste0(here::here(),\"/01. Includes/data/31.R\"))"
   ]
  },
  {
   "cell_type": "markdown",
   "id": "e39050d2",
   "metadata": {},
   "source": [
    "<!-- ## /OPENBLOK: Data-aanmaken.R -->\n",
    "\n",
    "# Toepassing\n",
    "\n",
    "Gebruik de *ANCOVA* bij het toetsen of de gemiddelden van groepen op basis van één of meer onafhankelijke categorische variabelen van elkaar verschillen na het corrigeren voor één of meerdere achtergrondvariabelen. In de casus behorend bij deze toetspagina is er één onafhankelijke variabele die de groepen definieert. Er wordt dus een *one-way ANCOVA* uitgevoerd.[^1] \n",
    "\n",
    "# Onderwijscasus\n",
    "<div id = \"casus\">\n",
    "\n",
    "De docent van het vak Methoden & Statistiek van de faculteit Sociale Wetenschappen wil ontdekken of er verschillen zijn tussen studenten van verschillende opleidingen in het eindcijfer van zijn vak. Het vak wordt gevolgd door studenten Psychologie, Onderwijskunde en Sociologie. Uit ervaring blijkt dat het aantal gevolgde hoorcolleges en het gemiddeld eindexamencijfer van de middelbare school ook van invloed is op het eindcijfer en dat dit nogal eens verschilt tussen studenten. Om een eerlijke vergelijking te maken, wilt hij daarom corrigeren voor het aantal gevolgde hoorcolleges en het gemiddeld eindexamencijfer van de middelbare school. Op basis van de data van vorig jaar onderzoekt hij of er een verschil is tussen de drie opleidingen wat betreft het eindcijfer van het vak Methoden & Statistiek rekening houdend met het aantal gevolgde hoorcolleges.\n",
    "\n",
    "Dit onderzoek vertaalt zich in de volgende combinatie van hypothesen, waarbij de nulhypothese zo geformuleerd is dat er geen effect of verschil is en de alternatieve hypothese zo geformuleerd is dat er wel een effect of verschil is.\n",
    "\n",
    "*H~0~*: Er is geen verschil tussen de gemiddelde eindcijfers voor het vak Methoden & Statistiek voor studenten van de opleidingen Psychologie, Onderwijskunde en Sociologie na corrigeren voor het aantal gevolgde hoorcolleges en het gemiddeld eindexamencijfer van de middelbare school.\n",
    "\n",
    "*H~A~*: Er is een verschil tussen de gemiddelde eindcijfers voor het vak Methoden & Statistiek voor studenten van de opleidingen Psychologie, Onderwijskunde en Sociologie na corrigeren voor het aantal gevolgde hoorcolleges en het gemiddeld eindexamencijfer van de middelbare school.\n",
    "\n",
    "</div>"
   ]
  },
  {
   "cell_type": "markdown",
   "id": "c6204aac",
   "metadata": {
    "lines_to_next_cell": 0
   },
   "source": [
    "# ANCOVA\n",
    "\n",
    "Het doel van de *ANCOVA* is om de gemiddelde scores van groepen op een afhankelijke variabele te vergelijken rekening houdend met andere variabelen (covariaten) die ook invloed hebben op de afhankelijke variabele. In de huidige casus is het doel om de gemiddelde eindcijfers voor het vak Methoden & Statistiek te vergelijken voor studenten afkomstig van de opleidingen Psychologie, Onderwijskunde en Sociologie. Het aantal gevolgde hoorcolleges en het gemiddeld eindexamencijfer van de middelbare school is echter ook van invloed op het eindcijfer. Als het aantal gevolgde hoorcolleges of het gemiddeld eindexamencijfer verschillend is voor studenten van de drie opleidingen, dan heeft dit gevolgen voor de gemiddelde eindcijfers per opleiding. Daarom is het nuttig om covariaten mee te nemen bij het vergelijken van gemiddelden van groepen.[^3]\n",
    "\n",
    "De *ANCOVA* verschilt van de *one-way ANOVA* en *factoriële ANOVA* door het gebruik van covariaten. Het gebruik van covariaten heeft twee voordelen. Het eerste voordeel is dat het ruis in de data wegneemt waardoor er meer onderscheidend vermogen[^2] is om een verschil tussen groepen te kunnen vinden. Als eindcijfers bepaald worden door zowel de opleiding als het aantal gevolgde hoorcolleges en het gemiddeld eindexamencijfer van de student, dan kan het effect van de opleiding preciezer gevonden worden na het rekening houden met beide variabelen. Het tweede voordeel is dat er rekening gehouden wordt met verschillen in de achtergrondvariabelen voor de verschillende groepen. Als studenten van een bepaalde opleiding structureel minder hoorcolleges volgen, zal dat kunnen leiden tot lagere eindcijfers. De reden voor de lagere cijfers is dan dat de studenten minder hoorcolleges volgen en niet dat ze van een bepaalde opleiding afkomstig zijn. Als de studenten van die opleiding meer hoorcolleges zouden volgen, zou er misschien geen verschil met studenten van andere opleidingen zijn. Op deze manier kan opnieuw het effect van de opleiding preciezer gevonden worden. Het is alsof de opleidingen vergeleken worden voor studenten die hetzelfde aantal hoorcolleges volgen en hetzelfde gemiddeld eindexamencijfer op de middelbare school hebben behaald.[^3]\n",
    "\n",
    "# Experimenteel vs. cross-sectioneel\n",
    "\n",
    "Voor de interpretatie en het gebruik van de *ANCOVA* is het van belang om rekening te houden met de opzet van een onderzoek. Een onderzoek kan worden geplaatst binnen experimenteel en cross-sectioneel onderzoek. Bij experimenteel onderzoek worden deelnemers[^19] willekeurig aan verschillende groepen toegewezen en worden groepen vergeleken. Een voorbeeld is dat studenten Methoden & Statistiek willekeurig in twee groepen worden verdeeld, waarbij beide groepen een andere onderwijsmethode gebruiken. Bij cross-sectioneel onderzoek worden deelnemers niet aan groepen toegewezen, maar wordt er data verzameld van de deelnemers op basis waarvan groepen kunnen worden bepaald. De huidige casus is een voorbeeld van cross-sectioneel onderzoek. De studenten worden in groepen ingedeeld op basis van de opleiding die zij volgen. De opleiding is echter niet willekeurig toegewezen, want studenten hebben hun opleiding zelf gekozen. Cross-sectioneel onderzoek wordt vaak uitgevoerd omdat een experiment niet mogelijk is. Bepaalde variabelen kunnen niet willekeurig worden toegewezen, denk hierbij aan geslacht, opleiding en land van hoogste vooropleiding.[^3]\n",
    "\n",
    "Bij experimenteel onderzoek verschillen de groepen alleen wat betreft hun groepslidmaatschap. Omdat de deelnemers willekeurig zijn toegewezen, zouden de achtergrondvariabelen gelijk verdeeld moeten zijn voor de verschillende groepen. Het doel van de *ANCOVA* is in dat geval om ruis weg te nemen zodat er meer onderscheidend vermogen is om een verschil tussen groepen te vinden. Bij cross-sectioneel onderzoek verschillen de groepen mogelijk meer van elkaar dan alleen in hun groepslidmaatschap. Bepaalde achtergrondvariabelen kunnen ook verschillend zijn voor de verschillende groepen. Als deze variabelen gerelateerd zijn aan de afhankelijke variabele, dan heeft dit invloed op de groepsgemiddelden. In dat geval is het nuttig om te corrigeren voor deze variabelen, bijvoorbeeld met een *ANCOVA*. Bij cross-sectioneel onderzoek is het doel van de *ANCOVA* dus om ruis weg te nemen en rekening te houden met verschillen in achtergrondvariabelen. Let goed op bij de interpretatie van de *ANCOVA* bij cross-sectioneel onderzoek. Na het corrigeren voor achtergrondvariabelen is er nog steeds geen sprake van een experimenteel onderzoek. Een verschil in gemiddelde tussen de groepen wordt dus niet veroorzaakt door de groepen. In de huidige casus kan er een verschil tussen de opleidingen gevonden worden na het corrigeren voor het aantal gevolgde hoorcolleges en het gemiddeld eindexamencijfer. Dit betekent echter niet dat het lidmaatschap van een bepaalde opleiding ook de oorzaak is van verschillen in de eindcijfers Methoden & Statistiek. Let dus goed op dat de resultaten niet op deze manier geïnterpreteerd en gerapporteerd worden.[^3]\n",
    "\n",
    "# Uitleg assumpties\n",
    "\n",
    "Om een valide resultaat te vinden met de *ANCOVA*, dient er aan een aantal assumpties voldaan te worden.[^1]<sup>,</sup>[^3] In deze sectie worden de assumpties allen toegelicht en worden de opties bij het niet voldoen aan de assumptie weergegeven. Verderop in de toetspagina worden de assumpties getoetst met de dataset van de onderwijscasus.\n",
    "\n",
    "## Outliers\n",
    "\n",
    "Voordat gestart kan worden met de *ANCOVA*, moet de data gescreend worden op de aanwezigheid van outliers. Outliers (uitbijters) zijn observaties die sterk afwijken van de overige observaties. Univariate outliers zijn observaties die afwijken voor één specifieke variabele, zoals een student die twintig jaar over zijn studie heeft gedaan. Multivariate outliers zijn observaties die afwijken door de combinatie van meerdere variabelen, zoals een persoon van 18 jaar met een inkomen van €100.000,-. De leeftijd van 18 jaar is geen outlier op zichzelf en een inkomen van €100.000,- is dat ook niet. Echter, de combinatie van beide zorgt ervoor dat de observatie vrij onwaarschijnlijk is.[^4]\n",
    "\n",
    "Na het vinden van een outlier is de volgende stap om een goede oplossing voor de outlier te bedenken. Het is van belang hier goed over na te denken en niet zomaar een outlier te verwijderen met als enige argument dat het een outlier is. In het algemeen kan er onderscheid gemaakt worden tussen onmogelijke en onwaarschijnlijke outliers.[^5] Een onmogelijke outlier is een observatie die technisch gezien niet kan kloppen, bijvoorbeeld een leeftijd van 1000 jaar, een negatief salaris of een man die zwanger is. Bij deze outliers is het een optie om de waarde te vervangen als er een overduidelijke fout bij het invoeren van de data is gemaakt. Een andere optie is de waarde te verwijderen. Een onwaarschijnlijke outlier is een observatie die technisch gezien wel kan, maar heel erg afwijkt van de overige observaties. De rijksten der aarde zijn in de stad of het dorp waar zij wonen qua vermogen waarschijnlijk een outlier. Maar het zijn bestaande personen dus het verwijderen van de observatie zou hier foutief zijn. Opties in deze situatie zijn de variabele(n) te transformeren, de outlier gewoon mee te nemen in de analyse of de analyse met en zonder de outlier uit te voeren en beide te rapporteren. Ook is het niet verboden om de outlier toch te verwijderen, maar het is in dat geval wel van belang dit transparant te rapporteren en op een goede wijze te beargumenteren.[^5]\n",
    "\n",
    "Bij de *ANCOVA* zijn er drie nuttige methoden om outliers te vinden.[^3]\n",
    "\n",
    "### Boxplots en standaardiseren\n",
    "\n",
    "Begin voor de analyse met het screenen van de variabelen in de dataset op de aanwezigheid van univariate outliers. Voor continue variabelen bestaat deze screening uit het visualiseren van de variabele met een boxplot en het standaardiseren[^6] van de variabele. Als een observatie een gestandaardiseerde score van groter dan 3 of kleiner dan -3 heeft, wordt deze beschouwd als een outlier. In dat geval wijkt de observatie namelijk meer dan drie standaardafwijkingen af van het gemiddelde van de variabele. Gebruik zowel de boxplot als de standaardisering om outliers te vinden voor continue variabelen.[^5]\n",
    "\n",
    "### Mahalanobis afstand\n",
    "\n",
    "Multivariate outliers zijn deelnemers met een combinatie van observaties op verschillende variabelen die erg afwijken van de overige deelnemers. Deze multivariate outliers kunnen geïdentificeerd worden met de Mahalanobis afstand. De Mahalanobis afstand is een maat die aangeeft in hoeverre de observaties van een deelnemer voor alle covariaten afwijken van de gemiddeldes van de covariaten. Het is een maat voor een afstand tussen twee punten als meerdere covariaten worden gebruikt. Gebruik de Mahalanaobis afstand als er meerdere covariaten zijn om te onderzoeken of er multivariate outliers zijn bij de covariaten.[^3] Als er slechts één covariaat is, dan hoeft de Mahalanobis afstand niet gebruikt te worden. Bereken de Mahalanobis afstand voor elke deelnemer en vergelijk deze met de criteriumwaarde. De criteriumwaarde wordt bepaald op basis van de chi-kwadraat score bij een aantal vrijheidsgraden dat gelijk is aan het aantal variabelen en een significantieniveau van 0,001 (of een zelf gekozen significantieniveau). In de code wordt toegelicht hoe de criteriumwaarde bepaald kan worden.[^4]\n",
    "\n",
    "### Cook's afstand\n",
    "\n",
    "De Mahalanobis afstand geeft aan in hoeverre een deelnemer afwijkt van de andere deelnemers wat betreft de waardes van de covariaten. Een andere manier om multivariate outliers te vinden is te bepalen hoeveel invloed een deelnemer heeft op de resultaten van de *ANCOVA*. Als de uitkomsten van de *ANCOVA* sterk veranderen als een bepaalde deelnemer weggelaten wordt uit de dataset, dan is deze deelnemer invloedrijk. Met behulp van Cook's afstand worden invloedrijke deelnemers ontdekt. Als Cook's afstand groter dan 1 is, wordt de deelnemer beschouwd als invloedrijk.\n",
    "\n",
    "Hoewel de Mahalanobis afstand en Cook's afstand beide multivariate outliers identificeren, verschillen ze in het soort outlier waarop de focus ligt. Bij de Mahalanobis afstand worden afwijkende datapunten gevonden en bij Cook's distance invloedrijke datapunten. Het is echter niet zo dat een afwijkend datapunt ook tegelijkertijd invloedrijk is en dat een invloedrijk datapunt ook afwijkt. Een afwijkend datapunt kan ondanks zijn afwijking van de overige datapunten toch op een juiste manier voorspeld worden. En een invloedrijk datapunt hoeft niet per se sterk af te wijken van de overige datapunten wat betreft de waardes voor de covariaten. Houdt hier rekening mee bij het bepalen hoe om te gaan met de gevonden outlier(s).[^4]\n",
    "\n",
    "## Lineariteit\n",
    "\n",
    "In de *ANCOVA* wordt aangenomen dat er een lineaire relatie is tussen elke covariaat en de afhankelijke variabele. Een lineaire relatie houdt in dat de toename of afname van de afhankelijke variabele als gevolg van de toename van de covariaat constant is: er is een rechte lijn door de data heen te trekken. Een voorbeeld van een lineaire en niet-lineaire relatie is weergegeven in Figuur 1. Bij de linkerfiguur kan er duidelijk een rechte lijn door de punten getrokken worden en is er dus sprake van een lineaire relatie. Bij de rechterfiguur is dit niet het geval, daar is er sprake van een curve in de relatie tussen de covariaat en afhankelijke variabele. Als er geen lineair verband is tussen de covariaat en de afhankelijke variabele, dan wordt er niet op de juiste manier gecorrigeerd voor de covariaat wat gevolgen heeft voor de validiteit van de *ANCOVA*.[^4]<sup>,</sup>[^8] \n",
    "\n",
    "De assumptie van lineariteit wordt onderzocht met behulp van scatter plots, zoals in onderstaande figuren. Deze assumptie hoeft alleen onderzocht te worden voor continue variabelen. Bij categorische variabelen krijgt elke categorie een aparte waarde waardoor er geen lineariteit kan zijn. Als er geen lineaire relatie is, is het transformeren van de afwijkende variabele een optie. De variabele kan op verschillende manieren getransformeerd[^7] worden zodat er alsnog een lineaire relatie ontstaat.\n",
    "\n",
    "<div class = \"col-container\">\n",
    "  <div class=\"col\">\n",
    "<!-- ## CLOSEDBLOK: Lineariteit1.R -->"
   ]
  },
  {
   "cell_type": "code",
   "execution_count": null,
   "id": "2ce23725",
   "metadata": {
    "lines_to_next_cell": 0,
    "message": false,
    "tags": [
     "remove_input"
    ]
   },
   "outputs": [],
   "source": [
    "set.seed(12345)\n",
    "x <- rnorm(100,0,2)\n",
    "y <- 3 + 1.2 * x + rnorm(100,0,1)\n",
    "dataset <- data.frame(Afhankelijke_variabele = y, Covariaat = x)\n",
    "\n",
    "ggplot(dataset, aes(x = Covariaat, y = Afhankelijke_variabele)) +\n",
    "    geom_point() + ylab(\"Afhankelijke variabele\") + \n",
    "  ggtitle(\"Lineare relatie\")\n"
   ]
  },
  {
   "cell_type": "markdown",
   "id": "0e951449",
   "metadata": {
    "lines_to_next_cell": 0
   },
   "source": [
    "<!-- ## /CLOSEDBLOK: Lineariteit1.R -->\n",
    "  </div>\n",
    "  <div class = \"col\">\n",
    "<!-- ## CLOSEDBLOK: Lineariteit2.R -->"
   ]
  },
  {
   "cell_type": "code",
   "execution_count": null,
   "id": "d528ce4a",
   "metadata": {
    "lines_to_next_cell": 0,
    "message": false,
    "tags": [
     "remove_input"
    ]
   },
   "outputs": [],
   "source": [
    "set.seed(12345)\n",
    "x <- rnorm(100,0,2)\n",
    "y <- 3 + 1.2 * x^2 + rnorm(100,0,1)\n",
    "dataset <- data.frame(Afhankelijke_variabele = y, Covariaat = x)\n",
    "\n",
    "ggplot(dataset, aes(x = Covariaat, y = Afhankelijke_variabele)) +\n",
    "    geom_point()  + ylab(\"Afhankelijke variabele\") +\n",
    "  ggtitle(\"Niet-lineaire relatie\")\n"
   ]
  },
  {
   "cell_type": "markdown",
   "id": "dc0e6744",
   "metadata": {},
   "source": [
    "<!-- ## /CLOSEDBLOK: Lineariteit2.R -->\n",
    "  </div>\n",
    "</div>\n",
    "\n",
    "*Figuur 1.  Voorbeeld van een lineaire (links) en niet-lineaire (rechts) relatie tussen een afhankelijke variabele en een covariaat.*\n",
    "\n",
    "## Normaliteit van residuën\n",
    "\n",
    "Op basis van de groep van de deelnemer en de waarden van de covariaten kan voor elke deelnemer een voorspelling gemaakt worden voor de afhankelijke variabele. Het verschil tussen de voorspelling en de geobserveerde waarde heet het residu. De residuën van de *ANCOVA* moeten normaal verdeeld zijn met een gemiddelde van ongeveer 0. De assumptie wordt getoetst door een histogram te maken van de gestandaardiseerde residuën. Als de verdeling van de gestandaardiseerde residuën sterk afwijkt van de normale verdeling, is de assumptie geschonden. De *ANCOVA* is redelijk robuust ten opzichte van een schending van de assumptie van normaliteit. Als er kleine afwijkingen zijn, heeft dat relatief kleine gevolgen voor de validiteit van de toets. Bij grotere afwijkingen is het transformeren van de afhankelijke variabele een optie.[^2] Als dit niet werkt, dan is het een optie om de *ANCOVA* uit te voeren als *multipele lineaire regressie* en te bootstrappen; zie bijbehorende [toetspagina](28-Multipele-lineaire-regressie-R.html)."
   ]
  },
  {
   "cell_type": "markdown",
   "id": "5ec1b99f",
   "metadata": {
    "lines_to_next_cell": 0
   },
   "source": [
    "## Homoskedasticiteit\n",
    "\n",
    "Homoskedasticiteit houdt in dat de variantie van de residuën niet afhangt van de waarden van de covariaten. Deze assumptie wordt getoetst door een scatter plot te maken van de voorspellingen van de *ANCOVA* versus de gestandaardiseerde residuën. Figuur 2 geeft een voorbeeld weer van homoskedasticiteit en heteroskedasticiteit. Bij heteroskedasticiteit is zichtbaar dat de variantie in de residuën toeneemt als de waarde van de voorspellingen toeneemt. Als deze assumptie geschonden is, is het een optie om de *ANCOVA* uit te voeren als *multipele lineaire regressie* en te bootstrappen; zie bijbehorende [toetspagina](28-Multipele-lineaire-regressie-R.html).[^4]\n",
    "\n",
    "<div class = \"col-container\">\n",
    "  <div class=\"col\">\n",
    "<!-- ## CLOSEDBLOK: Homoskedasticiteit1.R -->"
   ]
  },
  {
   "cell_type": "code",
   "execution_count": null,
   "id": "d24123ec",
   "metadata": {
    "lines_to_next_cell": 0,
    "message": false,
    "tags": [
     "remove_input"
    ]
   },
   "outputs": [],
   "source": [
    "set.seed(12345)\n",
    "x <- rnorm(1000,10,2)\n",
    "y <- rnorm(1000,0,1)\n",
    "dataset <- data.frame(Residu = y, Voorspelling = x)\n",
    "\n",
    "ggplot(dataset, aes(x = Voorspelling, y = Residu)) +\n",
    "    geom_point() + ylab(\"Gestandaardiseerd residu\") + \n",
    "  ggtitle(\"Homoskedasticiteit\")\n"
   ]
  },
  {
   "cell_type": "markdown",
   "id": "6398ca36",
   "metadata": {
    "lines_to_next_cell": 0
   },
   "source": [
    "<!-- ## /CLOSEDBLOK: Homoskedasticiteit1.R -->\n",
    "  </div>\n",
    "  <div class = \"col\">\n",
    "<!-- ## CLOSEDBLOK: Homoskedasticiteit2.R -->"
   ]
  },
  {
   "cell_type": "code",
   "execution_count": null,
   "id": "42ee4a97",
   "metadata": {
    "lines_to_next_cell": 0,
    "message": false,
    "tags": [
     "remove_input"
    ]
   },
   "outputs": [],
   "source": [
    "set.seed(12345)\n",
    "x <- seq(from = 4.01,to = 16.5, length.out = 1000)\n",
    "y <- c(rnorm(200,0,0.5),\n",
    "       rnorm(200,0,1),\n",
    "       rnorm(200,0,2),\n",
    "       rnorm(200,0,4),\n",
    "       rnorm(200,0,8)) / 10\n",
    "\n",
    "dataset <- data.frame(Residu = y, Voorspelling = x)\n",
    "\n",
    "ggplot(dataset, aes(x = Voorspelling, y = Residu)) +\n",
    "    geom_point()  + ylab(\"Gestandaardiseerd residu\") +\n",
    "  ggtitle(\"Heteroskedasticiteit\")\n"
   ]
  },
  {
   "cell_type": "markdown",
   "id": "440179ae",
   "metadata": {},
   "source": [
    "<!-- ## /CLOSEDBLOK: Homoskedasticiteit2.R -->\n",
    "  </div>\n",
    "</div>\n",
    "*Figuur 2.  Voorbeeld van homoskedasticiteit (links) en heteroskedasticiteit (rechts) van residuën.*\n",
    "\n",
    "## Multicollineariteit\n",
    "\n",
    "Multicollineariteit houdt in dat er een hoge correlatie tussen twee of meerdere covariaten is. Er is perfecte multicollineariteit als één covariaat een lineaire combinatie is van een of meerdere andere covariaten. In andere woorden, de covariaat is precies te berekenen op basis van andere covariaten. In dat geval kan de *ANCOVA* niet wiskundig bepaald worden en werkt de *ANCOVA* niet. Dit komt zeer weinig voor en is vaak makkelijk op te lossen door goed naar de variabelen die het veroorzaken te kijken en een variabele te transformeren of te verwijderen.[^4]\n",
    "\n",
    "Bij een hoog niveau van multicollineariteit kan de *ANCOVA* wel uitgevoerd worden, maar zijn de uitkomsten minder betrouwbaar. Het is dan lastig om te ontdekken wat per covariaat de bijdrage is aan de voorspellingen van de afhankelijke variabele, omdat bepaalde covariaten sterk gecorreleerd zijn en overlappen in het deel van de variantie dat ze verklaren. Hierdoor is het moeilijker om goed te corrigeren voor de covariaten.[^4] \n",
    "\n",
    "Multicollineariteit wordt getoetst met de Variance Inflation Factor (VIF) die meet hoe sterk elke covariaat gecorreleerd is met de andere covariaten. Als de VIF van een covariaat hoger dan 10 is, is er multicollineariteit voor die covariaat.[^4]<sup>,</sup>[^9] Multicollineariteit kan opgelost worden door een van de covariaten die het veroorzaakt te verwijderen. Een andere optie is een principale componenten analyse (PCA) uitvoeren op de covariaten zodat er een onderliggende variabele gecreëerd wordt (zie Field[^4] voor meer informatie).\n",
    "\n",
    "## Homogeniteit van Varianties\n",
    "\n",
    "<!-- ## TEKSTBLOK: Link2.R -->\n",
    "Homogeniteit van varianties houdt in dat de variantie in alle groepen ongeveer hetzelfde is. Toets deze assumptie met de *Levene's Test*. Bij een p-waarde kleiner dan 0,05 is de variantie van de groepen significant verschillend.[^10]<sup>,</sup>[^11] De *ANCOVA* is redelijk robuust ten opzichte van een schending van de assumptie van homogeniteit van varianties als de steekproefgroottes groot zijn en niet veel van elkaar verschillen. Als de ratio van de grootste en kleinste steekproefgrootte van alle groepen kleiner dan 10 is en de ratio van de grootste en kleinste variantie van alle groepen kleiner dan 4 is, dan kan de *ANCOVA* gewoon uitgevoerd worden.[^12]  Als dit niet het geval is, dan is  het een optie om de *ANCOVA* uit te voeren als *multipele lineaire regressie* en te bootstrappen; zie bijbehorende [toetspagina](28-Multipele-lineaire-regressie-R.html).\n",
    "<!-- ## /TEKSTBLOK: Link2.R -->"
   ]
  },
  {
   "cell_type": "markdown",
   "id": "dd707ad9",
   "metadata": {
    "lines_to_next_cell": 0
   },
   "source": [
    "## Homogeniteit van regressielijnen\n",
    "\n",
    "Bij de *ANCOVA* worden groepen vergeleken na het corrigeren voor covariaten. Een vereiste is dan wel dat de relatie tussen de covariaat hetzelfde is voor elke groep. Deze voorwaarde is de assumptie van homogeniteit van regressielijnen. In de huidige casus wordt voor de *ANCOVA* aangenomen dat de relatie tussen het aantal hoorcolleges en het eindcijfer Methoden & Statistiek en tussen het gemiddeld eindexamencijfer en het eindcijfer Methoden & Statistiek hetzelfde is voor studenten van de opleidingen Psychologie, Onderwijskunde en Sociologie. Als dit niet het geval is, dan kan het verschil tussen groepen niet goed geanalyseerd worden. Het verschil tussen de groepen hangt dan namelijk ook af van de waarde van de covariaat. \n",
    "\n",
    "Een voorbeeld van homogeniteit en heterogeniteit van regressielijnen is weergegeven in Figuur 3. Bij de linkerfiguur lopen de regressielijnen parallel voor de drie groepen. Er is in dit geval aan de assumptie voldaan. Op basis van de regressielijnen kan al ingeschat worden op welke manier de groepen van elkaar verschillen. Bij de rechterfiguur is er sprake van heterogeniteit van regressielijnen. Hier lopen de regressielijnen niet parallel voor de drie groepen. De verschillen tussen  de groepen hangen dus af van de waarde van de covariaat. Een *ANCOVA* is dan geen goede manier om verschillen tussen groepen te onderzoeken.\n",
    "\n",
    "<div class = \"col-container\">\n",
    "  <div class=\"col\">\n",
    "<!-- ## CLOSEDBLOK: Homoskedasticiteit1.R -->"
   ]
  },
  {
   "cell_type": "code",
   "execution_count": null,
   "id": "9a9fb072",
   "metadata": {
    "lines_to_next_cell": 0,
    "message": false,
    "tags": [
     "remove_input"
    ]
   },
   "outputs": [],
   "source": [
    "set.seed(12345)\n",
    "library(ggplot2)\n",
    "## ANCOVA\n",
    "HC_Psychologie <- rnorm(50, 6, 1)\n",
    "HC_Onderwijskunde <- rnorm(50, 18, 1)\n",
    "HC_Sociologie <- rnorm(50, 29, 2)\n",
    "HC <- round(c(HC_Psychologie, HC_Onderwijskunde, HC_Sociologie))\n",
    "\n",
    "HC <- rnorm(50, 2, 1)\n",
    "\n",
    "Opleiding <- c(rep(\"Groep_1\", 50),\n",
    "             rep(\"Groep_2\", 50),\n",
    "             rep(\"Groep_3\", 50))\n",
    "\n",
    "Cijfer_gemiddeld_P <-  6 + 1 * HC + rnorm(50,0,1)\n",
    "Cijfer_gemiddeld_O <-  10 + 1 * HC + rnorm(50,0,1)\n",
    "Cijfer_gemiddeld_S <-  15 + 1 * HC + rnorm(50,0,1)\n",
    "Cijfer_gemiddeld <- c(Cijfer_gemiddeld_P, Cijfer_gemiddeld_O, Cijfer_gemiddeld_S)\n",
    "#Cijfer_gemiddeld[Cijfer_gemiddeld > 10] <- 10\n",
    "\n",
    "dataset <- data.frame(Covariaat = HC,\n",
    "                   Onafhankelijke_variabele = Opleiding,\n",
    "                    Afhankelijke_variabele = Cijfer_gemiddeld)\n",
    "\n",
    "ggplot(dataset, aes(x = Covariaat, y = Afhankelijke_variabele, color = Onafhankelijke_variabele)) +\n",
    "    geom_point() +\n",
    "    scale_color_manual(values = c(\"darkorange\", \"deepskyblue\", \"darkgreen\")) +\n",
    "    geom_abline(intercept = 6, slope = 1, color = \"darkorange \") +\n",
    "    geom_abline(intercept = 10, slope = 1, color = \"deepskyblue\") +\n",
    "    geom_abline(intercept = 15, slope = 1, color = \"darkgreen\")\n",
    "\n"
   ]
  },
  {
   "cell_type": "markdown",
   "id": "ca55d76c",
   "metadata": {
    "lines_to_next_cell": 0
   },
   "source": [
    "<!-- ## /CLOSEDBLOK: Homoskedasticiteit1.R -->\n",
    "  </div>\n",
    "  <div class = \"col\">\n",
    "<!-- ## CLOSEDBLOK: Homoskedasticiteit2.R -->"
   ]
  },
  {
   "cell_type": "code",
   "execution_count": null,
   "id": "e23e20ef",
   "metadata": {
    "lines_to_next_cell": 0,
    "message": false,
    "tags": [
     "remove_input"
    ]
   },
   "outputs": [],
   "source": [
    "set.seed(12345)\n",
    "library(ggplot2)\n",
    "## ANCOVA\n",
    "HC_Psychologie <- rnorm(50, 6, 1)\n",
    "HC_Onderwijskunde <- rnorm(50, 12, 1)\n",
    "HC_Sociologie <- rnorm(50, 20, 2)\n",
    "HC <- round(c(HC_Psychologie, HC_Onderwijskunde, HC_Sociologie))\n",
    "\n",
    "HC <- rnorm(50, 2, 1)\n",
    "\n",
    "Opleiding <- c(rep(\"Groep_1\", 50),\n",
    "             rep(\"Groep_2\", 50),\n",
    "             rep(\"Groep_3\", 50))\n",
    "\n",
    "Cijfer_gemiddeld_P <-  6 + 2 * HC + rnorm(50,0,1)\n",
    "Cijfer_gemiddeld_O <-  8 + 0 * HC + rnorm(50,0,1)\n",
    "Cijfer_gemiddeld_S <-  10 + -1 * HC + rnorm(50,0,1)\n",
    "Cijfer_gemiddeld <- c(Cijfer_gemiddeld_P, Cijfer_gemiddeld_O, Cijfer_gemiddeld_S)\n",
    "#Cijfer_gemiddeld[Cijfer_gemiddeld > 10] <- 10\n",
    "\n",
    "dataset <- data.frame(Covariaat = HC,\n",
    "                   Onafhankelijke_variabele = Opleiding,\n",
    "                    Afhankelijke_variabele = Cijfer_gemiddeld)\n",
    "\n",
    "ggplot(dataset, aes(x = Covariaat, y = Afhankelijke_variabele, color = Onafhankelijke_variabele)) +\n",
    "    geom_point() +\n",
    "    scale_color_manual(values = c(\"darkorange\", \"deepskyblue\", \"darkgreen\")) +\n",
    "    geom_abline(intercept = 6, slope = 2, color = \"darkorange\") +\n",
    "    geom_abline(intercept = 8, slope = 0, color = \" deepskyblue\") +\n",
    "    geom_abline(intercept = 10, slope = -1, color = \"darkgreen\")\n"
   ]
  },
  {
   "cell_type": "markdown",
   "id": "98a184db",
   "metadata": {
    "lines_to_next_cell": 0
   },
   "source": [
    "<!-- ## /CLOSEDBLOK: Homoskedasticiteit2.R -->\n",
    "  </div>\n",
    "</div>\n",
    "*Figuur 3.  Voorbeeld van homogeniteit (links) en heterogeniteit (rechts) van regressielijnen.*\n",
    "\n",
    "Toets deze assumptie door een *ANCOVA* uit te voeren waarbij er een interactieterm van de onafhankelijke variabele en de covariaat is meegenomen. Als deze interactieterm significant is, is er niet voldaan aan de assumptie. Het effect van de onafhankelijke variabele hangt dan af van de covariaat, dus er zijn geen parallelle regressielijnen. Als deze assumptie geschonden is, kan de *ANCOVA* niet uitgevoerd worden. Het betekent namelijk dat de afhankelijke variabele bepaald wordt door een interactie tussen de onafhankelijke variabele en de covariaat. Dit is op zichzelf al nuttige informatie, maar dit kan ook gemodelleerd worden met behulp van *multipele lineaire regressie*, zie bijbehorende [toetspagina](28-Multipele-lineaire-regressie-R.html).\n",
    "\n",
    "# Effectmaat\n",
    "De p-waarde geeft aan of het verschil tussen groepen significant is. De grootte van het verschil of effect is echter ook relevant. Een effectmaat is een gestandaardiseerde maat die de grootte van een effect weergeeft, zodat effecten van verschillende onderzoeken met elkaar vergeleken kunnen worden.[^13] Voor de *ANCOVA* wordt de effectmaat *partial eta squared* vaak gebruikt.[^14]\n",
    "\n",
    "De effectmaat *partial eta squared* (partial *η^2^*) berekent de proportie van de onverklaarde variantie (variantie die niet door de andere variabelen wordt verklaard) in de afhankelijke variabele die verklaard wordt door de onafhankelijke variabele.[^14] Voor de variabele Opleiding geeft de partial eta squared dus de proportie verklaarde variantie weer van de variantie die niet verklaard is door de variabelen Aantal Hoorcolleges en Eindexamencijfer. De partial eta squared van alle termen van het model tellen dus niet per se op tot 1.[^14] Een indicatie om partial *η^2^* te interpreteren is: rond 0,01 is een klein effect, rond 0,06 is een gemiddeld effect en rond 0,14 is een groot effect.[^15]\n",
    "\n",
    "# Post-hoc toetsen en marginale gemiddelden\n",
    "\n",
    "De *ANCOVA* toetst of er verschillen zijn tussen de gemiddelden van de verschillende groepen na het corrigeren voor covariaten. Voer een post-hoc toets uit om te bepalen welke specifieke groepen van elkaar verschillen. Gebruik een correctie voor de p-waarden, omdat er meerdere toetsen tegelijkertijd worden gebruikt. Meerdere toetsen tegelijkertijd uitvoeren verhoogt de kans dat een van de nulhypotheses onterecht wordt verworpen en er bij toeval een verband wordt ontdekt dat er niet is (type I fout). In deze toetspagina wordt de *Benjamini-Hochberg correctie* gebruikt. Deze correctie zorgt ervoor dat de proportie type I fouten (*false discovery rate*) in het aantal significante toetsen gereduceerd wordt. Deze correctie is minder strict dan de *Bonferroni correctie* die ervoor zorgt dat de kans op ten minste één type I fout in alle toetsen gereduceerd wordt.[^16]<sup>,</sup>[^17] Er zijn ook andere opties voor een correctie op de p-waarden.[^13]\n",
    "\n",
    "Naast de post-hoc toetsen, zijn de marginale gemiddelden van belang bij de *ANCOVA*. Het marginale gemiddelde van een groep is de voorspelde waarde op de afhankelijke variabele voor een bepaalde groep als de covariaten gelijk zijn aan het gemiddelde in de steekproef. In de huidige casus zou dit betekenen dat voor studenten Psychologie, Onderwijskunde en Sociologie het eindcijfer Methoden & Statistiek wordt berekend als het aantal gevolgde hoorcolleges en het gemiddelde eindexamencijfer van de middelbare school precies gelijk zijn aan de gemiddelden van alle studenten samen. In feite worden de groepen gelijk getrokken wat betreft de covariaten. Als er namelijk een verschil is in het aantal gevolgde hoorcolleges tussen de opleidingen, dan vertekent dat de waarde van het (echte) gemiddelde. Met het marginale gemiddelde kan er dus een eerlijke vergelijking tussen groepen gemaakt worden als er covariaten aanwezig zijn die invloed hebben op de afhankelijke variabele. De post-hoc toetsen toetsen in feite de marginale gemiddelden. Rapporteer daarom de post-hoc toetsen in combinatie met de marginale gemiddelden.\n",
    "\n",
    "# Uitvoering\n",
    "\n",
    "<!-- ## TEKSTBLOK: Dataset-inladen.R-->\n",
    "Er is een dataset ingeladen met daarin de eindcijfers voor het vak Methoden & Statistiek, het aantal gevolgde hoorcolleges, het gemiddeld eindexamencijfer, de opleiding en het studentnummers van de studenten die het vak Methoden & Statistiek hebben gevolgd. De dataset heet `Studenten_Methoden_Statistiek`. \n",
    "<!-- ## /TEKSTBLOK: Dataset-inladen.R-->\n",
    "\n",
    "## De data bekijken\n",
    "<!-- ## TEKSTBLOK: Data-bekijken.R -->\n",
    "Gebruik `head()` en `tail()` om de structuur van de data te bekijken.\n",
    "<!-- ## /TEKSTBLOK: Data-bekijken.R -->\n",
    "\n",
    "<!-- ## OPENBLOK: Data-bekijken.R -->"
   ]
  },
  {
   "cell_type": "code",
   "execution_count": null,
   "id": "262a2b5c",
   "metadata": {
    "collapse": true,
    "lines_to_next_cell": 0,
    "name": "data bekijken"
   },
   "outputs": [],
   "source": [
    "## Eerste 5 observaties\n",
    "head(Studenten_Methoden_Statistiek)\n",
    "\n",
    "## Laatste 5 observaties\n",
    "tail(Studenten_Methoden_Statistiek)"
   ]
  },
  {
   "cell_type": "markdown",
   "id": "da301224",
   "metadata": {},
   "source": [
    "<!-- ## /OPENBLOK: Data-bekijken.R -->\n"
   ]
  },
  {
   "cell_type": "markdown",
   "id": "44893460",
   "metadata": {
    "lines_to_next_cell": 0
   },
   "source": [
    "<!-- ## TEKSTBLOK: Data-beschrijven.R -->\n",
    "Inspecteer voor alle groepen het gemiddelde, de standaardafwijking, de mediaan en het aantal observaties voor de variabelen Eindcijfer Methoden & Statistiek, Eindexamencijfer en Aantal Hoorcolleges om meer inzicht te krijgen. Gebruik hiervoor de functie `descr` en `stby` van het package `summarytools` om de beschrijvende statistieken per groep weer te geven. Voer de gewenste statistieken in met het argument `stats = c(\"mean\",\"sd\",\"med\",\"n.valid\")`.\n",
    "<!-- ## /TEKSTBLOK: Data-beschrijven.R -->\n",
    "\n",
    "<!-- ## OPENBLOK: Data-beschrijven-1.R -->"
   ]
  },
  {
   "cell_type": "code",
   "execution_count": null,
   "id": "288b7b7f",
   "metadata": {
    "lines_to_next_cell": 0,
    "message": false,
    "name": "Data beschrijven 1"
   },
   "outputs": [],
   "source": [
    "# Gemiddelde, standaardafwijking, mediaan en aantal observaties\n",
    "library(summarytools)\n",
    "\n",
    "with(Studenten_Methoden_Statistiek, \n",
    "     stby(data = cbind(Aantal_Hoorcolleges, Eindexamencijfer, Eindcijfer_MS), \n",
    "          list(Opleiding), \n",
    "          descr, \n",
    "          stats = c(\"mean\", \"sd\", \"med\", \"n.valid\")))\n",
    "\n"
   ]
  },
  {
   "cell_type": "markdown",
   "id": "ab765b25",
   "metadata": {
    "lines_to_next_cell": 0
   },
   "source": [
    "<!-- ## /OPENBLOK: Data-beschrijven-1.R -->\n",
    "\n",
    "Uit de beschrijvende statistieken blijkt dat het gemiddelde eindcijfer Methoden & Statistiek ongeveer gelijk is voor de opleidingen Psychologie en Sociologie en iets hoger is voor Onderwijskunde. Het aantal gevolgde hoorcolleges verschilt echter per opleiding waarbij opvalt dat het voor de opleiding Psychologie een stuk lager is. Het gemiddeld eindexamencijfer op de middelbare school is echter redelijk gelijk voor studenten van de drie opleidingen.\n",
    "\n",
    "# Toetsing assumpties\n",
    "\n",
    "Gebruik de *ANCOVA* om te onderzoeken of het eindcijfer voor het vak Methoden & Statistiek van de faculteit Sociale Wetenschappen verschilt voor studenten afkomstig van de opleidingen Psychologie, Onderwijskunde en Sociologie na corrigeren voor het aantal gevolgde hoorcolleges en het gemiddeld eindexamencijfer. Start met het toetsen van de assumpties en voer vervolgens de *ANCOVA* uit als hieraan voldaan is.\n",
    "\n",
    "<!-- ## TEKSTBLOK: Uitvoering1.R -->\n",
    "Voer eerst de *ANCOVA* uit omdat deze nodig is voor het toetsen van assumpties en sla het resultaat op. Interpreteer de resultaten pas na het toetsen van de assumpties. Gebruik de functie `aov()` met als eerste argument de vergelijking `Eindcijfer_MS ~ Opleiding + Aantal_Hoorcolleges + Eindexamencijfer` met links van de tilde de afhankelijke variabele `Eindcijfer_MS` en rechts de onafhankelijke variabele `Opleiding` en de covariaten `Aantal_Hoorcolleges` en `Eindexamencijfer`. Het tweede argument is de dataset `Studenten_Methoden_Statistiek`.\n",
    "<!-- ## /TEKSTBLOK: Uitvoering1.R -->\n",
    "\n",
    "<!-- ## OPENBLOK: Uitvoering2.R -->"
   ]
  },
  {
   "cell_type": "code",
   "execution_count": null,
   "id": "83936767",
   "metadata": {
    "lines_to_next_cell": 0
   },
   "outputs": [],
   "source": [
    "ANCOVA <- aov(Eindcijfer_MS ~ Opleiding + Aantal_Hoorcolleges + Eindexamencijfer,\n",
    "              Studenten_Methoden_Statistiek)\n"
   ]
  },
  {
   "cell_type": "markdown",
   "id": "725e1cef",
   "metadata": {},
   "source": [
    "<!-- ## /OPENBLOK: Uitvoering2.R -->"
   ]
  },
  {
   "cell_type": "markdown",
   "id": "f80727cc",
   "metadata": {
    "lines_to_next_cell": 0
   },
   "source": [
    "## Outliers\n",
    "\n",
    "### Boxplots en standaardiseren\n",
    "\n",
    "<!-- ## TEKSTBLOK: Outlier1.R -->\n",
    "Onderzoek of er univariate outliers zijn met behulp van boxplots en gestandaardiseerde scores voor continue variabelen en tabellen voor categorische variabelen. Begin met de boxplot voor de variabelen `Eindexamencijfer`, `Aantal_Hoorcolleges` en `Eindcijfer_MS`.\n",
    "<!-- ## /TEKSTBLOK: Outlier1.R -->\n",
    "\n",
    "<!-- ## OPENBLOK: Outlier2.R -->"
   ]
  },
  {
   "cell_type": "code",
   "execution_count": null,
   "id": "5a01aa7e",
   "metadata": {
    "lines_to_next_cell": 0
   },
   "outputs": [],
   "source": [
    "# Maak een boxplot van de continue variabelen in de dataset\n",
    "boxplot(Studenten_Methoden_Statistiek[,c(\"Aantal_Hoorcolleges\",\n",
    "                                         \"Eindexamencijfer\",\n",
    "                                         \"Eindcijfer_MS\")])\n"
   ]
  },
  {
   "cell_type": "markdown",
   "id": "4edb6aa4",
   "metadata": {
    "lines_to_next_cell": 0
   },
   "source": [
    "<!-- ## /OPENBLOK: Outlier2.R -->\n",
    "\n",
    "Voor de drie variabelen zijn er geen onmogelijke scores en zijn er geen grote afwijkingen op basis van de boxplot. Onderzoek de gestandaardiseerde scores door een functie te schrijven die het aantal observaties per variabele telt met een gestandaardiseerde score hoger dan 3 of lager dan -3. Pas deze functie vervolgens toe op de drie continue variabelen in de dataset.\n",
    "\n",
    "<!-- ## OPENBLOK: Outlier3.R -->"
   ]
  },
  {
   "cell_type": "code",
   "execution_count": null,
   "id": "b0d0ee22",
   "metadata": {
    "lines_to_next_cell": 0
   },
   "outputs": [],
   "source": [
    "# Maak een functie om het aantal observaties met een gestandaardiseerde score hoger dan 3 of lager dan -3 te tellen\n",
    "Outlier_standaardiseren <- function(variabele){\n",
    "  # Standaardiseer de variabele met de scale functie\n",
    "  Z_score <- scale(variabele)\n",
    "  # Tel het aantal observaties met een absolute score hoger dan 3\n",
    "  Aantal_outliers <- sum(abs(Z_score) > 3)\n",
    "  # Retourneer dit aantal\n",
    "  return(Aantal_outliers)\n",
    "}\n",
    "\n",
    "# Tel voor de continue variabelen het aantal observaties met een gestandaardiseerde score hoger dan 3 of lager dan -3\n",
    "Outlier_standaardiseren(Studenten_Methoden_Statistiek$Aantal_Hoorcolleges)\n",
    "Outlier_standaardiseren(Studenten_Methoden_Statistiek$Eindcijfer_MS)\n"
   ]
  },
  {
   "cell_type": "markdown",
   "id": "a97a4222",
   "metadata": {},
   "source": [
    "<!-- ## /OPENBLOK: Outlier3.R -->"
   ]
  },
  {
   "cell_type": "markdown",
   "id": "1d8ce9f8",
   "metadata": {
    "lines_to_next_cell": 0
   },
   "source": [
    "Beide variabelen hebben nul observaties met een gestandaardiseerde score hoger dan 3 of lager dan -3. Er zijn in de stap voor de continue variabelen geen outliers gevonden.\n",
    "\n",
    "Opleiding is de enige categorische variabele in deze dataset. Maak een tabel met de frequenties voor alle categoriëen van deze variabele om te onderzoeken of hier afwijkende waardes zijn.\n",
    "\n",
    "<!-- ## OPENBLOK: Outlier4.R -->"
   ]
  },
  {
   "cell_type": "code",
   "execution_count": null,
   "id": "a847132c",
   "metadata": {
    "lines_to_next_cell": 0
   },
   "outputs": [],
   "source": [
    "table(Studenten_Methoden_Statistiek$Opleiding)\n"
   ]
  },
  {
   "cell_type": "markdown",
   "id": "89031ef9",
   "metadata": {
    "lines_to_next_cell": 0
   },
   "source": [
    "<!-- ## /OPENBLOK: Outlier4.R -->\n",
    "\n",
    "De categorieën van de variabele Opleiding zijn `Onderwijskunde`, `Psychologie` en `Sociologie`. Er zijn dus geen opmerkelijke waarden bij de variabele Opleiding.\n",
    "\n",
    "### Mahalanobis distance\n",
    "\n",
    "<!-- ## TEKSTBLOK: Outlier7.R -->\n",
    "Onderzoek of er multivariate outliers zijn met behulp van de Mahalanobis distance met behulp van de functie `mahalanobis()`. De Mahalanobis afstand geeft aan in hoeverre een deelnemer afwijkt van het gemiddelde van alle deelnemers voor alle covariaten samen. Een voorwaarde voor de functie is dat alle variabelen numeriek zijn. Bij een categorische covariaat moet deze dus omgezet worden. Het omzetten van een categorische variabele in een of meer numerieke variabele heet dummycoderen; de variabelen worden vaak dummies genoemd.\n",
    "\n",
    "Neem vervolgens een subset van de dataset met alleen de covariaten en gebruik deze voor de Mahalanobis afstand. Gebruik de functie `mahalanobis()` met als argumenten de dataset `Subset`, de gemiddeldes van elke kolom berekend met `colMeans(Subset)` en de covariantiematrix van de dataset berekend met `cov(Subset)`.\n",
    "\n",
    "Bereken daarna de criteriumwaarde op basis van het gewenste significantieniveau en het aantal covariaten. Plot de Mahalanobis afstanden en tel het aantal deelnemers met een Mahalanobis afstand groter dan de criteriumwaarde. Het gehanteerde significantieniveau is 0,001.\n",
    "<!-- ## /TEKSTBLOK: Outlier7.R -->\n",
    "\n",
    "<!-- ## OPENBLOK: Outlier8.R -->"
   ]
  },
  {
   "cell_type": "code",
   "execution_count": null,
   "id": "d52808d7",
   "metadata": {
    "lines_to_next_cell": 0
   },
   "outputs": [],
   "source": [
    "# Maak een subset van de dataset met alle cvoariaten\n",
    "Subset <- Studenten_Methoden_Statistiek[,c(\"Eindexamencijfer\",\n",
    "                                         \"Aantal_Hoorcolleges\")]\n",
    "\n",
    "# Bereken de Mahalanobis afstand voor elke deelnemer \n",
    "Mahalanobis_afstanden <- mahalanobis(Subset,\n",
    "                                     colMeans(Subset),\n",
    "                                     cov(Subset))\n",
    "\n",
    "# Bepaal de criteriumwaarde voor de Mahalanobis afstand met de functie qchisq() met als eerste argument 1 - het significantieniveau en als tweede argument het aantal covariaten. In deze casus is het significantieniveau voor de Mahalanobis afstand 0.001 en het aantal covariaten berekend met ncol(Subset).\n",
    "(Criteriumwaarde <- qchisq(1 - 0.001, ncol(Subset)))\n",
    "\n",
    "# Plot de Mahalanobis afstanden\n",
    "plot(Mahalanobis_afstanden, xlab = \"Volgorde\", ylab = \"Mahalanobis afstanden\")\n",
    "\n",
    "# Tel het aantal Mahalanobis afstanden groter dan de criteriumwaarde\n",
    "sum(Mahalanobis_afstanden > Criteriumwaarde)\n"
   ]
  },
  {
   "cell_type": "markdown",
   "id": "0cdd1ba3",
   "metadata": {
    "lines_to_next_cell": 0
   },
   "source": [
    "<!-- ## /OPENBLOK: Outlier8.R -->\n",
    "\n",
    "<!-- ## TEKSTBLOK: Outlier9.R -->\n",
    "Er zijn geen deelnemers met een Mahalanobis afstand groter dan de criteriumwaarde van `r Round_and_format(Criteriumwaarde)`, dus er lijken geen multivariate outliers te zijn op basis van de Mahalanobis afstand.\n",
    "<!-- ## /TEKSTBLOK: Outlier9.R -->\n",
    "\n",
    "### Cook's afstand\n",
    "\n",
    "<!-- ## TEKSTBLOK: Outlier10.R -->\n",
    "Onderzoek of er multivariate outliers zijn met behulp van Cook's afstand. Cook's afstand geeft aan hoeveel invloed het weglaten van een deelnemer heeft op de uitkomsten van de *ANCOVA*. Gebruik hiervoor de functie `cooks.distance` met als argument  `ANCOVA` (het object van de *ANCOVA*). Plot de Cook's afstanden daarna en tel het aantal Cook's afstanden dat groter is dan de criteriumwaarde van 1.\n",
    "<!-- ## /TEKSTBLOK: Outlier10.R -->\n",
    "\n",
    "<!-- ## OPENBLOK: Outlier11.R -->"
   ]
  },
  {
   "cell_type": "code",
   "execution_count": null,
   "id": "bb2a49ba",
   "metadata": {
    "lines_to_next_cell": 0
   },
   "outputs": [],
   "source": [
    "# Bepaal Cook's afstand voor elke deelnemer\n",
    "Cooks_afstand <-  cooks.distance(ANCOVA)\n",
    "\n",
    "# Plot Cook's afstanden\n",
    "plot(Cooks_afstand, xlab = \"Volgorde\", ylab = \"Cook's afstanden\")\n",
    "\n",
    "# Tel het aantal Cook's afstanden groter dan de criteriumwaarde van 1\n",
    "sum(Cooks_afstand > 1)"
   ]
  },
  {
   "cell_type": "markdown",
   "id": "0b0b34c6",
   "metadata": {
    "lines_to_next_cell": 0
   },
   "source": [
    "<!-- ## /OPENBLOK: Outlier11.R -->\n",
    "\n",
    "Er zijn geen deelnemers met een Cook's afstand groter dan de criteriumwaarde van 1. Er lijken dus geen invloedrijke datapunten of multivariate outliers te zijn.\n",
    "\n",
    "## Lineariteit\n",
    "\n",
    "Onderzoek of er een lineaire relatie is tussen de covariaten en de afhankelijke variabele met behulp van scatter plots. \n",
    "\n",
    "<div class = \"col-container\">\n",
    "  <div class=\"col\">\n",
    "<!-- ## OPENBLOK: AssLineariteit1.R -->"
   ]
  },
  {
   "cell_type": "code",
   "execution_count": null,
   "id": "ecdeec52",
   "metadata": {
    "lines_to_next_cell": 0
   },
   "outputs": [],
   "source": [
    "plot(Eindcijfer_MS ~ Eindexamencijfer, data = Studenten_Methoden_Statistiek,\n",
    "     xlab = \"Eindexamencijfer\", ylab = \"Eindcijfer Methoden & Statistiek\")\n"
   ]
  },
  {
   "cell_type": "markdown",
   "id": "52a5b102",
   "metadata": {
    "lines_to_next_cell": 0
   },
   "source": [
    "<!-- ## /OPENBLOK: AssLineariteit1.R -->\n",
    "  </div>\n",
    "  <div class = \"col\">\n",
    "<!-- ## OPENBLOK: AssLineariteit2.R -->"
   ]
  },
  {
   "cell_type": "code",
   "execution_count": null,
   "id": "23f0962a",
   "metadata": {
    "lines_to_next_cell": 0
   },
   "outputs": [],
   "source": [
    "plot(Eindcijfer_MS ~ Aantal_Hoorcolleges, data = Studenten_Methoden_Statistiek,\n",
    "     xlab = \"Aantal hoorcolleges\", ylab = \"Eindcijfer Methoden & Statistiek\")\n"
   ]
  },
  {
   "cell_type": "markdown",
   "id": "ee8c618b",
   "metadata": {
    "lines_to_next_cell": 0
   },
   "source": [
    "<!-- ## /OPENBLOK: AssLineariteit2.R -->\n",
    "  </div>\n",
    "</div>\n",
    "\n",
    "Bij beide covariaten lijkt er een lineaire relatie te zijn met de afhankelijke variabele. Er is dus aan de assumptie van lineariteit voldaan.\n",
    "\n",
    "## Normaliteit\n",
    "\n",
    "<!-- ## TEKSTBLOK: AssNormaliteit1.R -->\n",
    "Onderzoek of de gestandaardiseerde residuën van de *ANCOVA* een normale verdeling volgen. Sla eerst de gestandaardiseerde residuën op met behulp van de functie `rstandard()` met als argument `ANCOVA` (het object van de *ANCOVA*) en maak vervolgens een histogram[^18] om de verdeling te inspecteren. Het is ook mogelijk om normaliteit te onderzoeken met behulp van een QQ-plot.\n",
    "<!-- ## /TEKSTBLOK: AssNormaliteit1.R -->\n",
    "\n",
    "<!-- ## OPENBLOK: AssNormaliteit2.R -->"
   ]
  },
  {
   "cell_type": "code",
   "execution_count": null,
   "id": "db95b2ef",
   "metadata": {
    "lines_to_next_cell": 0
   },
   "outputs": [],
   "source": [
    "# Sla de gestandaardiseerde residuën op\n",
    "Residu_gestandaardiseerd <- rstandard(ANCOVA)\n",
    "\n",
    "# Maak een histogram\n",
    "hist(Residu_gestandaardiseerd, xlab = \"Gestandaardiseerde residuën\", ylab = \"Frequentie\", main = \"\")"
   ]
  },
  {
   "cell_type": "markdown",
   "id": "0f27344b",
   "metadata": {
    "lines_to_next_cell": 0
   },
   "source": [
    "<!-- ## /OPENBLOK: AssNormaliteit2.R -->\n",
    "\n",
    "De verdeling van de gestandaardiseerde residuën lijkt een normaalverdeling te benaderen. Er is dus voldaan aan de assumptie van normaliteit.\n",
    "\n",
    "## Homoskedasticiteit\n",
    "\n",
    "<!-- ## TEKSTBLOK: AssHomoskedasticiteit1.R -->\n",
    "Toets de assumptie van homoskedasticiteit door te onderzoeken of de variantie ongeveer gelijk is voor alle waarden van de voorspellingen van de afhankelijke variabele. Maak hiervoor een plot van de gestandaardiseerde residuën versus de voorspellingen. De gestandaardiseerde residuën zijn te vinden met de functie `rstandard()` met als argument `ANCOVA` (het object van de *ANCOVA*) en de voorspellingen met de functie `fitted()` met opnieuw als argument `ANCOVA`.\n",
    "<!-- ## /TEKSTBLOK: AssHomoskedasticiteit1.R -->\n",
    "\n",
    "<!-- ## OPENBLOK: AssHomoskedasticiteit2.R -->"
   ]
  },
  {
   "cell_type": "code",
   "execution_count": null,
   "id": "87cb698f",
   "metadata": {
    "lines_to_next_cell": 0
   },
   "outputs": [],
   "source": [
    "# Sla de gestandaardiseerde residuën op\n",
    "Residu_gestandaardiseerd <- rstandard(ANCOVA)\n",
    "\n",
    "# Sla de voorspellingen op\n",
    "Voorspellingen <- fitted(ANCOVA)\n",
    "\n",
    "# Maak een scatter plot\n",
    "plot(Voorspellingen, Residu_gestandaardiseerd, ylab = \"Gestandaardiseerde residuën\", xlab = \"Voorspellingen\", main = \"\")\n"
   ]
  },
  {
   "cell_type": "markdown",
   "id": "16741f5b",
   "metadata": {},
   "source": [
    "<!-- ## /OPENBLOK: AssHomoskedasticiteit2.R -->\n",
    "\n",
    "De spreiding van de gestandaardiseerde residuën lijkt redelijk constant te zijn voor de verschillende waarden van de voorspellingen. Er is dus voldaan aan de assumptie van homoskedasticiteit.\n",
    "\n",
    "## Multicollineariteit\n",
    "\n",
    "<!-- ## TEKSTBLOK: AssMulticollineariteit1.R -->\n",
    "Onderzoek of er sprake is van multicollineariteit bij de covariaten met behulp van Variance Inflation Factors (VIFs). Bereken de VIFs voor elke covariaat met de functie `VIF()` van het package `DescTools` waarbij de functie als argument `ANCOVA_multicollineariteit` heeft. Voer hiervoor eerst een *ANCOVA* uit met alleen de covariaten zonder de onafhankelijke variabele en sla deze op als `ANCOVA_multicollineariteit`. Gebruik de functie `aov()` met als eerste argument de vergelijking `Eindcijfer_MS ~ Aantal_Hoorcolleges + Eindexamencijfer` met links van de tilde de afhankelijke variabele `Eindcijfer_MS` en rechts de covariaten `Aantal_Hoorcolleges` en `Eindexamencijfer`. Het tweede argument is de dataset `Studenten_Methoden_Statistiek`.\n",
    "<!-- ## /TEKSTBLOK: AssMulticollineariteit1.R -->"
   ]
  },
  {
   "cell_type": "markdown",
   "id": "aa8bae34",
   "metadata": {
    "lines_to_next_cell": 0
   },
   "source": [
    "<!-- ## OPENBLOK: AssMulticollineariteit2.R -->"
   ]
  },
  {
   "cell_type": "code",
   "execution_count": null,
   "id": "85f5c932",
   "metadata": {
    "lines_to_next_cell": 0
   },
   "outputs": [],
   "source": [
    "library(DescTools)\n",
    "\n",
    "# Voer de ANCOVA uit en sla het op in een object\n",
    "ANCOVA_multicollineariteit <- aov(Eindcijfer_MS ~ Aantal_Hoorcolleges + Eindexamencijfer,\n",
    "                                  Studenten_Methoden_Statistiek)\n",
    "\n",
    "# Bereken de VIF voor elke covariaat\n",
    "VIF(ANCOVA_multicollineariteit)"
   ]
  },
  {
   "cell_type": "markdown",
   "id": "5d44d10a",
   "metadata": {
    "lines_to_next_cell": 0
   },
   "source": [
    "<!-- ## /OPENBLOK: AssMulticollineariteit2.R -->\n",
    "\n",
    "Geen enkele van de VIFs is hoger dan 10, dus er is voldaan aan de assumptie van multicollineariteit.\n",
    "\n",
    "## Homogeniteit van varianties\n",
    "\n",
    "<!-- ## TEKSTBLOK: LeveneTest1.R -->\n",
    "Toets met de *Levene's test* de assumptie homogeniteit van varianties voor de onafhankelijke variabele Opleiding. Gebruik hiervoor de functie `leveneTest` van het package `car` met het argument `Eindcijfer_MS ~ Opleiding` met daarin de afhankelijke variabele `Eindcijfer_MS` en de onafhankelijke variabelen `Opleiding` en het argument `data = Studenten_Methoden_Statistiek`.\n",
    "<!-- ## /TEKSTBLOK: LeveneTest1.R -->\n",
    "\n",
    "<!-- ## OPENBLOK: Levenes-test.R -->"
   ]
  },
  {
   "cell_type": "code",
   "execution_count": null,
   "id": "37023b3e",
   "metadata": {
    "lines_to_next_cell": 0,
    "message": false,
    "name": "LeveneTest",
    "warning": false
   },
   "outputs": [],
   "source": [
    "library(car)\n",
    "\n",
    "leveneTest(Eindcijfer_MS ~ Opleiding, \n",
    "           data = Studenten_Methoden_Statistiek)"
   ]
  },
  {
   "cell_type": "markdown",
   "id": "7121c2f8",
   "metadata": {
    "lines_to_next_cell": 0
   },
   "source": [
    "<!-- ## /OPENBLOK: Levenes-test.R -->\n",
    "\n",
    "<!-- ## CLOSEDBLOK: Levenes-test.R -->"
   ]
  },
  {
   "cell_type": "code",
   "execution_count": null,
   "id": "08469886",
   "metadata": {
    "lines_to_next_cell": 0,
    "name": "Levenes test als object",
    "tags": [
     "remove_input"
    ]
   },
   "outputs": [],
   "source": [
    "L <- leveneTest(Eindcijfer_MS ~ Opleiding, \n",
    "           data = Studenten_Methoden_Statistiek)\n",
    "\n",
    "vF_waarde <- Round_and_format(L$`F value`[1])\n",
    "vF_p <- Round_and_format(L$`Pr(>F)`[1])\n",
    "vDF1 <- Round_and_format(L$`Df`[1])\n",
    "vDF2 <- Round_and_format(L$`Df`[2])"
   ]
  },
  {
   "cell_type": "markdown",
   "id": "793d90fd",
   "metadata": {},
   "source": [
    "<!-- ## /CLOSEDBLOK: Levenes-test.R -->\n",
    "\n",
    "<!-- ## TEKSTBLOK: Levenes-test.R -->\n",
    "* *F*(`r vDF1`,`r vDF2`) = `r vF_waarde`, p-waarde = `r vF_p`, \n",
    "* De p-waarde is groter dan 0,05, dus er is geen significant verschil gevonden tussen de groepen in variantie.[^11] Er is dus aan de assumptie van homogeniteit van varianties voldaan.\n",
    "\n",
    "<!-- ## TEKSTBLOK: Levenes-test.R -->"
   ]
  },
  {
   "cell_type": "markdown",
   "id": "fdb55a4f",
   "metadata": {
    "lines_to_next_cell": 0
   },
   "source": [
    "## Homogeniteit van regressielijnen\n",
    "\n",
    "<!-- ## TEKSTBLOK: Uitvoering1.R -->\n",
    "Toets de assumptie van homogeniteit van regressielijnen voor elke covariaat door een interactieterm van de covariaat met de onafhankelijke variabele toe te voegen aan de *ANCOVA*. Gebruik hiervoor de functie `aov()` met als eerste argument de vergelijking `Eindcijfer_MS ~ Opleiding + Aantal_Hoorcolleges + Eindexamencijfer + `\n",
    "`Opleiding:Aantal_Hoorcolleges + Opleiding:Eindexamencijfer` met links van de tilde de afhankelijke variabele `Eindcijfer_MS` en rechts de onafhankelijke variabele `Opleiding`, de covariaten `Aantal_Hoorcolleges` en `Eindexamencijfer` en de interactietermen `Opleiding:Aantal_Hoorcolleges` en `Opleiding:Eindexamencijfer`. Het tweede argument is de dataset `Studenten_Methoden_Statistiek`.\n",
    "<!-- ## /TEKSTBLOK: Uitvoering1.R -->\n",
    "\n",
    "<!-- ## OPENBLOK: Uitvoering2.R -->"
   ]
  },
  {
   "cell_type": "code",
   "execution_count": null,
   "id": "b6bb53b9",
   "metadata": {},
   "outputs": [],
   "source": [
    "ANCOVA_interacties <- aov(Eindcijfer_MS ~ Opleiding + Aantal_Hoorcolleges + \n",
    "                            Eindexamencijfer + Opleiding:Aantal_Hoorcolleges +\n",
    "                            Opleiding:Eindexamencijfer,\n",
    "                          Studenten_Methoden_Statistiek)\n",
    "\n",
    "summary(ANCOVA_interacties)\n"
   ]
  },
  {
   "cell_type": "code",
   "execution_count": null,
   "id": "63f93453",
   "metadata": {
    "lines_to_next_cell": 0,
    "tags": [
     "remove_input"
    ]
   },
   "outputs": [],
   "source": [
    "AI <- summary(ANCOVA_interacties)[[1]]\n",
    "\n",
    "AHvF_waarde <- Round_and_format(AI$`F value`[4])\n",
    "AHvDF1 <- Round_and_format(AI$Df[4])\n",
    "AHvDF2 <- Round_and_format(AI$Df[6])\n",
    "AHvp <- Round_and_format(AI$`Pr(>F)`[4])\n",
    "\n",
    "ECvF_waarde <- Round_and_format(AI$`F value`[5])\n",
    "ECvDF1 <- Round_and_format(AI$Df[5])\n",
    "ECvDF2 <- Round_and_format(AI$Df[6])\n",
    "ECvp <- Round_and_format(AI$`Pr(>F)`[5])\n"
   ]
  },
  {
   "cell_type": "markdown",
   "id": "0db40e93",
   "metadata": {},
   "source": [
    "<!-- ## /OPENBLOK: Uitvoering2.R -->\n",
    "\n",
    "Zowel de interactie tussen Opleiding en Aantal_Hoorcolleges (*F* (`r AHvDF1`,`r AHvDF2`) = `r AHvF_waarde`, *p* = `r AHvp`) als de interactie tussen Opleiding en Eindexamencijfer (*F* (`r ECvDF1`,`r ECvDF2`) = `r ECvF_waarde`, *p* = `r ECvp`) is niet significant.[^11] Dit betekent dat er geen interactie is tussen de covariaat en onafhankelijke variabele wat betekent dat er voldaan is aan de assumptie van homogeniteit van regressielijnen."
   ]
  },
  {
   "cell_type": "markdown",
   "id": "e6fafe55",
   "metadata": {
    "lines_to_next_cell": 0
   },
   "source": [
    "# ANCOVA\n",
    "\n",
    "Voer de *ANCOVA* uit om te onderzoeken of het eindcijfer voor het vak Methoden & Statistiek van de faculteit Sociale Wetenschappen verschilt voor studenten afkomstig van de opleidingen Psychologie, Onderwijskunde en Sociologie na corrigeren voor het aantal gevolgde hoorcolleges en het gemiddeld eindexamencijfer.\n",
    "\n",
    "Gebruik de functie `aov()` met als eerste argument de vergelijking `Eindcijfer_MS ~ Opleiding + Aantal_Hoorcolleges + Eindexamencijfer` met links van de tilde de afhankelijke variabele `Eindcijfer_MS` en rechts de onafhankelijke variabele `Opleiding` en de covariaten `Aantal_Hoorcolleges` en `Eindexamencijfer`. Het tweede argument is de dataset `Studenten_Methoden_Statistiek`. Sla het resultaat op als een object met de naam `ANCOVA` en laat de resultaten vervolgens zien met de functie `summary()`.\n",
    "<!-- ## /TEKSTBLOK: Uitvoering1.R -->\n",
    "\n",
    "<!-- ## OPENBLOK: Uitvoering2.R -->"
   ]
  },
  {
   "cell_type": "code",
   "execution_count": null,
   "id": "8aca57c0",
   "metadata": {
    "lines_to_next_cell": 0
   },
   "outputs": [],
   "source": [
    "ANCOVA <- aov(Eindcijfer_MS ~ Opleiding + Aantal_Hoorcolleges + Eindexamencijfer,\n",
    "              Studenten_Methoden_Statistiek)\n",
    "\n",
    "summary(ANCOVA)"
   ]
  },
  {
   "cell_type": "markdown",
   "id": "773e7674",
   "metadata": {
    "lines_to_next_cell": 0
   },
   "source": [
    "<!-- ## /OPENBLOK: Uitvoering2.R -->\n",
    "\n",
    "<!-- ## CLOSEDBLOK: Uitvoering3.R -->"
   ]
  },
  {
   "cell_type": "code",
   "execution_count": null,
   "id": "ac218c51",
   "metadata": {
    "lines_to_next_cell": 0,
    "tags": [
     "remove_input"
    ]
   },
   "outputs": [],
   "source": [
    "AC <- summary(ANCOVA)[[1]]\n",
    "\n",
    "OLvF_waarde <- Round_and_format(AC$`F value`[1])\n",
    "OLvDF1 <- Round_and_format(AC$Df[1])\n",
    "OLvDF2 <- Round_and_format(AC$Df[4])\n",
    "OLvp <- Round_and_format(AC$`Pr(>F)`[1])\n",
    "\n",
    "AHvF_waarde <- Round_and_format(AC$`F value`[2])\n",
    "AHvDF1 <- Round_and_format(AC$Df[2])\n",
    "AHvDF2 <- Round_and_format(AC$Df[4])\n",
    "AHvp <- Round_and_format(AC$`Pr(>F)`[2])\n",
    "\n",
    "ECvF_waarde <- Round_and_format(AC$`F value`[3])\n",
    "ECvDF1 <- Round_and_format(AC$Df[3])\n",
    "ECvDF2 <- Round_and_format(AC$Df[4])\n",
    "ECvp <- Round_and_format(AC$`Pr(>F)`[3])\n"
   ]
  },
  {
   "cell_type": "markdown",
   "id": "8769dd0d",
   "metadata": {},
   "source": [
    "<!-- ## /CLOSEDBLOK: Uitvoering3.R -->"
   ]
  },
  {
   "cell_type": "markdown",
   "id": "46a8b115",
   "metadata": {
    "lines_to_next_cell": 0
   },
   "source": [
    "<!-- ## TEKSTBLOK: ANOVA-toets2.R -->\n",
    "Bereken vervolgens de effectmaat partial eta squared met behulp van de functie `EtaSq` van het package `DescTools` met als argument het ANOVA-object `ANOVA_object`.\n",
    "<!-- ## /TEKSTBLOK: ANOVA-toets2.R -->\n",
    "\n",
    "<!-- ## OPENBLOK: ANOVA-toets3.R -->"
   ]
  },
  {
   "cell_type": "code",
   "execution_count": null,
   "id": "3d5b21cf",
   "metadata": {
    "lines_to_next_cell": 0
   },
   "outputs": [],
   "source": [
    "library(DescTools)\n",
    "\n",
    "EtaSq(ANCOVA)\n"
   ]
  },
  {
   "cell_type": "markdown",
   "id": "233aca0f",
   "metadata": {
    "lines_to_next_cell": 0
   },
   "source": [
    "<!-- ## /OPENBLOK: ANOVA-toets3.R -->\n",
    "\n",
    "<!-- ## CLOSEDBLOK: ANOVA-toets4.R -->"
   ]
  },
  {
   "cell_type": "code",
   "execution_count": null,
   "id": "4933210b",
   "metadata": {
    "lines_to_next_cell": 0,
    "tags": [
     "remove_input"
    ]
   },
   "outputs": [],
   "source": [
    "pes <- EtaSq(ANCOVA)\n",
    "EsqOL <- Round_and_format(pes[1,2])\n",
    "EsqAH <- Round_and_format(pes[2,2])\n",
    "EsqEC <- Round_and_format(pes[3,2])"
   ]
  },
  {
   "cell_type": "markdown",
   "id": "8a3ea587",
   "metadata": {},
   "source": [
    "<!-- ## /CLOSEDBLOK: ANOVA-toets4.R -->\n",
    "\n",
    "<!-- ## TEKSTBLOK: ANOVA-toets5.R -->\n",
    "\n",
    "* Er is een significant[^11] effect van Opleiding op Eindcijfer Methoden & Statistiek na corrigeren voor het aantal gevolgde hoorcolleges en het gemiddeld eindexamencijfer, *F* (`r OLvDF1`,`r OLvDF2`) = `r OLvF_waarde`, *p* < 0,0001, *η^2^* = `r EsqOL`\n",
    "* De covariaat Aantal_Hoorcolleges heeft een significant[^11] effect op het Eindcijfer Methoden & Statistiek, *F* (`r AHvDF1`,`r AHvDF2`) = `r AHvF_waarde`, *p* < 0,0001, *η^2^* = `r EsqAH`\n",
    "* De covariaat Eindexamencijfer heeft een significant[^11] effect op het Eindcijfer Methoden & Statistiek, *F* (`r ECvDF1`,`r ECvDF2`) = `r ECvF_waarde`, *p* < 0,0001, *η^2^* = `r EsqEC`\n",
    "* Het effect van Opleiding op Eindcijfer Methoden & Statistiek is klein tot gemiddeld\n",
    "\n",
    "<!-- ## /TEKSTBLOK: ANOVA-toets5.R -->"
   ]
  },
  {
   "cell_type": "markdown",
   "id": "13d095af",
   "metadata": {
    "lines_to_next_cell": 0
   },
   "source": [
    "# Post-hoc toetsen en marginale gemiddelden\n",
    "\n",
    "<!-- ## TEKSTBLOK: PHtest1.R -->\n",
    "Omdat er significante verschillen tussen de gemiddelde eindcijfers Methoden & Statistiek zijn voor studenten afkomstig van de opleidingen Psychologie, Onderwijskunde en Sociologie na corrigeren voor het aantal gevolgde hoorcolleges en het gemiddeld eindexamencijfer van de middelbare school, kunnen er post-hoc toetsen uitgevoerd worden om te onderzoeken tussen welke opleidingen er significante verschillen zijn.  Gebruik hiervoor de functie `emmeans_test` van het package `rstatix` met als argumenten de dataset `Studenten_Methoden_Statistiek`, de formule `Eindcijfer_MS ~ Opleiding` met als afhankelijke variabele `Eindcijfer_MS` en onafhankelijke variabele `Opleiding`, de covariaten `covariate = c(Aantal_Hoorcolleges, Eindexamencijfer)` en de correctie voor meerdere toetsen `p.adjust.method = \"fdr\"`. Hier staat `fdr` voor de *false discovery rate* oftewel de Benjamini-Hochberg correctie.\n",
    "<!-- ## /TEKSTBLOK: PHtest1.R -->\n",
    "\n",
    "<!-- ## OPENBLOK: PHtest2.R -->"
   ]
  },
  {
   "cell_type": "code",
   "execution_count": null,
   "id": "db1a6581",
   "metadata": {},
   "outputs": [],
   "source": [
    "library(rstatix)\n",
    "#install.packages(\"emmeans\")\n",
    "#install.packages(\"rstatix\")\n",
    "emmeans_test(Studenten_Methoden_Statistiek,\n",
    "             Eindcijfer_MS ~ Opleiding, \n",
    "             covariate = c(Aantal_Hoorcolleges, \n",
    "                           Eindexamencijfer),\n",
    "             p.adjust.method = \"fdr\"\n",
    "    )\n",
    "\n"
   ]
  },
  {
   "cell_type": "markdown",
   "id": "48ca5450",
   "metadata": {},
   "source": [
    "Bereken vervolgens de marginale gemiddelden voor elke opleiding. Het marginale gemiddelde is een gemiddelde dat gecorrigeerd is voor de covariaten. Gebruik de functie `get_emmeans()` van het package `rstatix` met als argument een object dat gemaakt wordt door de post-hoc toetsen uit te voeren.\n"
   ]
  },
  {
   "cell_type": "code",
   "execution_count": null,
   "id": "35654fea",
   "metadata": {
    "lines_to_next_cell": 0
   },
   "outputs": [],
   "source": [
    "library(rstatix)\n",
    "\n",
    "# Voer de post-hoc toetsen uit en sla het resultaat op in een object\n",
    "Marginale_gemiddelden <- emmeans_test(Studenten_Methoden_Statistiek,\n",
    "    Eindcijfer_MS ~ Opleiding, covariate = c(Aantal_Hoorcolleges, Eindexamencijfer),\n",
    "    p.adjust.method = \"fdr\"\n",
    "    )\n",
    "\n",
    "# Bepaal de marginale gemiddelden\n",
    "get_emmeans(Marginale_gemiddelden)"
   ]
  },
  {
   "cell_type": "markdown",
   "id": "717ec7fb",
   "metadata": {
    "lines_to_next_cell": 0
   },
   "source": [
    "<!-- ## /OPENBLOK: PHtest2.R -->\n",
    "\n",
    "<!-- ## CLOSEDBLOK: PHtest3.R -->"
   ]
  },
  {
   "cell_type": "code",
   "execution_count": null,
   "id": "598891de",
   "metadata": {
    "lines_to_next_cell": 0,
    "tags": [
     "remove_input"
    ]
   },
   "outputs": [],
   "source": [
    "posthoc <- emmeans_test(Studenten_Methoden_Statistiek,\n",
    "             Eindcijfer_MS ~ Opleiding, \n",
    "             covariate = c(Aantal_Hoorcolleges, \n",
    "                           Eindexamencijfer),\n",
    "             p.adjust.method = \"fdr\"\n",
    "    )\n",
    "\n",
    "marmeans <- get_emmeans(Marginale_gemiddelden)\n"
   ]
  },
  {
   "cell_type": "markdown",
   "id": "0328332d",
   "metadata": {},
   "source": [
    "<!-- ## /CLOSEDBLOK: PHtest3.R -->"
   ]
  },
  {
   "cell_type": "markdown",
   "id": "09614de9",
   "metadata": {
    "lines_to_next_cell": 0
   },
   "source": [
    "<!-- ## TEKSTBLOK: PHtest7.R -->\n",
    "De verschillen voor de groepen van de onafhankelijke variabele Opleiding zijn[^11]:\n",
    "\n",
    "* Onderwijskunde versus Psychologie: de marginale gemiddelden van de studenten Onderwijskunde (`r Round_and_format(marmeans$emmean[1])`) en de studenten Psychologie (`r Round_and_format(marmeans$emmean[2])`) zijn niet significant verschillend van elkaar (*p* = 1,00)\n",
    "* Onderwijskunde versus Sociologie: de marginale gemiddelden van de studenten Onderwijskunde (`r Round_and_format(marmeans$emmean[1])`) en de studenten Psychologie (`r Round_and_format(marmeans$emmean[3])`) zijn niet significant verschillend van elkaar (*p* < 0,0001)\n",
    "* Psychologie versus Sociologie: de marginale gemiddelden van de studenten Onderwijskunde (`r Round_and_format(marmeans$emmean[2])`) en de studenten Psychologie (`r Round_and_format(marmeans$emmean[3])`) zijn niet significant verschillend van elkaar (*p* < 0,0001)\n",
    "\n",
    "De marginale gemiddelden zijn hier gelijk aan de op basis van de *ANCOVA* voorspelde waarde van het eindcijfer Methoden & Statistiek bij een waarde van het aantal gevolgde hoorcolleges en gemiddeld eindexamencijfer dat gelijk is aan het steekproefgemiddelde van beide variabelen. Het gemiddelde aantal hoorcolleges in de steekproef is `r Round_and_format(marmeans$Aantal_Hoorcolleges[1])` en het gemiddelde van het gemiddelde eindexamencijfer is `r Round_and_format(marmeans$Eindexamencijfer[1])`.\n",
    "<!-- ## /TEKSTBLOK: PHtest7.R -->\n",
    "\n",
    "# Rapportage\n",
    "\n",
    "<!-- ## TEKSTBLOK: Rapportage.R -->\n",
    "De *ANCOVA* is uitgevoerd om te toetsen of er verschillen zijn tussen studenten afkomstig van de opleidingen Psychologie, Onderwijskunde en Sociologie wat betreft het gemiddelde eindcijfer voor het vak Methoden & Statistiek corrigerend voor het aantal gevolgde hoorcolleges en het gemiddelde eindexamencijfer van de middelbare school. De resultaten laten zien dat er significante verschillen zijn tussen de gemiddelde eindcijfers van de drie opleidingen na corrigeren voor beide covariaten,  *F* (`r OLvDF1`,`r OLvDF2`) = `r OLvF_waarde`, *p* < 0,0001, *η^2^* = `r EsqOL`.\n",
    "\n",
    "Om te onderzoeken welke opleidingen van elkaar verschillen in het gemiddeld eindcijfer Methoden & Statistiek, zijn post-hoc toetsen uitgevoerd met een Benjamini-Hochberg correctie voor meerdere toetsen. De marginale gemiddelden van de opleidingen Psychologie (`r Round_and_format(marmeans$emmean[2])`) en Onderwijskunde (`r Round_and_format(marmeans$emmean[1])`) zijn beide significant hoger dan het marginale gemiddelde van de opleiding Sociologie (`r Round_and_format(marmeans$emmean[3])`), maar verschillen niet significant van elkaar. De resultaten suggereren dat Sociologie studenten minder hoge cijfers halen dan studenten Psychologie en Onderwijskunde als er rekening gehouden wordt met het aantal gevolgde hoorcolleges en het gemiddeld eindexamencijfer van de middelbare school.\n",
    "\n",
    "<!-- ## /TEKSTBLOK: Rapportage.R -->\n",
    "\n",
    "<!-- ## CLOSEDBLOK: Footer.R -->"
   ]
  },
  {
   "cell_type": "code",
   "execution_count": null,
   "id": "0df6aed6",
   "metadata": {
    "code": "#R_CODE#readLines(paste0(here::here(),\"/01. Includes/code/Footer.R\"))",
    "include": true,
    "lines_to_next_cell": 0,
    "name": "footer",
    "results": "asis",
    "tags": [
     "remove_input"
    ]
   },
   "outputs": [],
   "source": []
  },
  {
   "cell_type": "markdown",
   "id": "9e75b594",
   "metadata": {},
   "source": [
    "<!-- ## /CLOSEDBLOK: Footer.R -->\n",
    "\n",
    "[^1]: Laerd Statistics (2018). *One-way ANCOVA in SPSS Statistics*. https://statistics.laerd.com/spss-tutorials/ancova-using-spss-statistics.php\n",
    "[^2]: Onderscheidend vermogen, in het Engels power genoemd, is de kans dat de nulhypothese verworpen wordt wanneer de alternatieve hypothese 'waar' is.  \n",
    "[^3]: Tabachnick, B.G. & Fidell, L.S. (2013). *Using multivariate statistics*. Sixth Edition, Pearson. Pagina 86.\n",
    "[^4]: Field, A. (2013). *Discovering statistics using IBM SPSS statistics*. Sage. Pagina 293-356.\n",
    "[^5]: Universiteit van Amsterdam (13 augustus 2016). *Outliers*. [UvA Wiki Methodologiewinkel](https://wiki.uva.nl/methodologiewinkel/index.php/Outliers).  \n",
    "[^6]: Standaardiseren houdt in dat de variabelen getransformeerd worden zodat ze een gemiddelde van 0 hebben en een standaardafwijking van 1. Dit wordt gedaan door voor alle observaties van een variabele eerst het gemiddelde af te trekken en daarna te delen door de standaardafwijking, i.e. $\\frac{x_i - \\mu}{\\sigma}$.\n",
    "[^7]: Er zijn verschillende opties om variabelen te transformeren, zoals de logaritme, wortel of inverse (1 gedeeld door de variabele) nemen van de variabele. Zie *Discovering statistics using IBM SPSS statistics* van Field (2013) pagina 201-210 voor meer informatie over welke transformaties wanneer gebruikt kunnen worden.\n",
    "[^8]: Universiteit van Amsterdam (7 juli 2014). *Lineariteit*. [UvA Wiki Methodologiewinkel](https://wiki.uva.nl/methodologiewinkel/index.php/Lineariteit).  \n",
    "[^9]: Stat 501. *12.4 - Detecting Multicollinearity Using Variance Inflation Factors*. [PennState Eberly College of Science](https://online.stat.psu.edu/stat501/lesson/12/12.4).\n",
    "[^10]: Field, A. (2013). *Discovering statistics using IBM SPSS statistics*. \n",
    "Sage. Pagina 507-542.\n",
    "[^11]: In dit voorbeeld wordt uitgegaan van een waarschijnlijkheid van 95% c.q. een p-waardegrens van 0,05. De grens is naar eigen inzicht aan te passen; houd hierbij rekening met type I en type II fouten.\n",
    "[^12]: Tabachnick, B.G. & Fidell, L.S. (2013). *Using multivariate statistics*. Sixth Edition, Pearson. Pagina 86.\n",
    "[^13]: Field, A., Miles, J., & Field, Z. (2012). *Discovering statistics using R*. London: Sage publications.\n",
    "[^14]: Tabachnick, B.G. & Fidell, L.S. (2013). *Using multivariate statistics*. Sixth Edition, Pearson. Pagina 54 - 55.\n",
    "[^15]: Allen, P. & Bennett, K. (2012). *SPSS A practical Guide version 20.0*. Cengage Learning Australia Pty Limited. Pagina 84.\n",
    "[^16]: Statistics How To (29 oktober 2017). *False Discovery Rate: Simple Definition, Adjusting for FDR*. [Statistics How to](https://www.statisticshowto.datasciencecentral.com/false-discovery-rate/). \n",
    "[^17]: Statistics How To (12 oktober 2015). *Benjamini-Hochberg Procedure*. [Statistics How to](https://www.statisticshowto.datasciencecentral.com/benjamini-hochberg-procedure/). \n",
    "[^18]: De breedte van de staven van het histogram wordt vaak automatisch bepaald, maar kan handmatig aangepast worden. Aangezien de breedte van de staven bepalend zijn voor de indruk die de visualisatie geeft, is het verstandig om hier goed op te letten.\n",
    "[^19]: Met een deelnemer wordt het object bedoeld dat geobserveerd wordt, bijvoorbeeld een student, een inwoner van Nederland, een opleiding of een organisatie. Met een observatie wordt de waarde bedoeld die de deelnemer heeft voor een bepaalde variabele. Een deelnemer heeft dus meestal een observatie voor meerdere variabelen."
   ]
  }
 ],
 "metadata": {
  "jupytext": {
   "cell_metadata_filter": "message,tags,name,warning,echo,code,results,collapse,include,-all",
   "main_language": "R",
   "notebook_metadata_filter": "-all"
  }
 },
 "nbformat": 4,
 "nbformat_minor": 5
}
