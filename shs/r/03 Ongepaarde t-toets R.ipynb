{
 "cells": [
  {
   "cell_type": "raw",
   "id": "b0309e5a",
   "metadata": {},
   "source": [
    "---\n",
    "title: \"Ongepaarde t-toets\"\n",
    "output:\n",
    "  html_document:\n",
    "    includes:\n",
    "      in_header:\n",
    "      - ../01. Includes/html/nocache.html\n",
    "      - ../01. Includes/html/favicon.html\n",
    "      - ../01. Includes/html/analytics.html\n",
    "    number_sections: yes\n",
    "    theme: lumen\n",
    "    toc: yes\n",
    "    toc_depth: 2\n",
    "    toc_float:\n",
    "      collapsed: no\n",
    "  keywords:\n",
    "  - statistisch handboek\n",
    "  - studiedata\n",
    "  word_document:\n",
    "    toc: yes\n",
    "---"
   ]
  },
  {
   "cell_type": "markdown",
   "id": "996053cc",
   "metadata": {
    "lines_to_next_cell": 0
   },
   "source": [
    "<!-- ## CLOSEDBLOK: Functies.R -->"
   ]
  },
  {
   "cell_type": "code",
   "execution_count": null,
   "id": "922d6c17",
   "metadata": {
    "include": true,
    "lines_to_next_cell": 0,
    "message": false,
    "name": "functies",
    "results": "asis",
    "tags": [
     "remove_input"
    ],
    "warning": false
   },
   "outputs": [],
   "source": [
    "library(here)\n",
    "if (!exists(\"Substitute_var\")) {\n",
    "  ## Installeer packages en functies\n",
    "  source(paste0(here::here(), \"/99. Functies en Libraries/00. Voorbereidingen.R\"), echo = FALSE)\n",
    "}"
   ]
  },
  {
   "cell_type": "markdown",
   "id": "05dab92a",
   "metadata": {
    "lines_to_next_cell": 0
   },
   "source": [
    "<!-- ## /CLOSEDBLOK: Functies.R -->\n",
    "\n",
    "<!-- ## CLOSEDBLOK: CSS -->\n",
    "<style>\n",
    "`r htmltools::includeHTML(paste0(here::here(),\"/01. Includes/css/Stylesheet_SHHO.css\"))`\n",
    "</style>\n",
    "<!-- ## /CLOSEDBLOK: CSS -->\n",
    "\n",
    "<!-- ## CLOSEDBLOK: Header.R -->"
   ]
  },
  {
   "cell_type": "code",
   "execution_count": null,
   "id": "a8a305ec",
   "metadata": {
    "code": "#R_CODE#readLines(paste0(here::here(),\"/01. Includes/code/Header.R\"))",
    "include": true,
    "lines_to_next_cell": 0,
    "name": "header",
    "results": "asis",
    "tags": [
     "remove_input"
    ]
   },
   "outputs": [],
   "source": []
  },
  {
   "cell_type": "markdown",
   "id": "8c83c536",
   "metadata": {
    "lines_to_next_cell": 0
   },
   "source": [
    "<!-- ## /CLOSEDBLOK: Header.R -->\n",
    "\n",
    "<!-- ## CLOSEDBLOK: Status.R -->"
   ]
  },
  {
   "cell_type": "code",
   "execution_count": null,
   "id": "733e12c4",
   "metadata": {
    "code": "#R_CODE#readLines(paste0(here::here(),\"/01. Includes/code/Status.R\"))",
    "include": true,
    "lines_to_next_cell": 0,
    "name": "status",
    "results": "asis",
    "tags": [
     "remove_input"
    ]
   },
   "outputs": [],
   "source": []
  },
  {
   "cell_type": "markdown",
   "id": "f98ce55e",
   "metadata": {
    "lines_to_next_cell": 0
   },
   "source": [
    "<!-- ## /CLOSEDBLOK: Status.R -->\n",
    "\n",
    "<!-- ## CLOSEDBLOK: Reticulate.R -->\n",
    "\n",
    "<!-- ## /CLOSEDBLOK: Reticulate.R -->\n",
    "\n",
    "<!-- ## OPENBLOK: Data-aanmaken.R -->"
   ]
  },
  {
   "cell_type": "code",
   "execution_count": null,
   "id": "3b5a1aaf",
   "metadata": {
    "echo": true,
    "lines_to_next_cell": 0,
    "name": "aanmaken data",
    "tags": [
     "remove_cell"
    ]
   },
   "outputs": [],
   "source": [
    "source(paste0(here::here(),\"/01. Includes/data/03.R\"))"
   ]
  },
  {
   "cell_type": "markdown",
   "id": "3cc7b728",
   "metadata": {
    "lines_to_next_cell": 0
   },
   "source": [
    "<!-- ## /OPENBLOK: Data-aanmaken.R -->\n",
    "\n",
    "# Toepassing\n",
    "Gebruik de *ongepaarde t-toets* om de gemiddelden van twee onafhankelijke groepen te vergelijken.[^1]\n",
    "\n",
    "# Onderwijscasus\n",
    "<div id = \"casus\">\n",
    "Vanaf 2011 heeft de opleiding Taalwetenschap een Bindend Studieadvies (BSA) die de selectiviteit van het eerste jaar moet vergroten. De studieadviseur vraagt zich af of het gemiddelde cijfer van de opleiding Taalwetenschap op 1 februari, na invoering van het BSA, veranderd is. De data is beschikbaar voor het cohort gestart in 2010 en voor het cohort gestart in 2011.\n",
    "\n",
    "Dit onderzoek vertaalt zich in de volgende combinatie van hypothesen, waarbij de nulhypothese zo geformuleerd is dat er geen effect of verschil is en de alternatieve hypothese zo geformuleerd is dat er wel een effect of verschil is.\n",
    "\n",
    "*H~0~*: Het gemiddelde tentamencijfer dat de studenten halen aan de opleiding Taalwetenschap is niet veranderd na de invoer van het BSA, µ~0~ = µ~1~  \n",
    "\n",
    "*H~A~*: Het gemiddelde tentamencijfer dat de studenten halen aan de opleiding Taalwetenschap is veranderd na de invoer van het BSA, µ~0~ ≠ µ~1~\n",
    "</div>\n",
    "\n",
    "# Assumpties\n",
    "Voor een valide resultaat moet de data aan een aantal voorwaarden voldoen voordat de toets uitgevoerd kan worden.\n",
    "\n",
    "## Normaliteit \n",
    "De *ongepaarde t-toets* gaat ervan uit dat de afhankelijke variabele normaal verdeeld is voor alle groepen. Als elke groep een aantal observaties (*n*) heeft dat groter dan 100 is,  ga er dan vanuit dat de *ongepaarde t-toets* robuust genoeg is om uit te voeren zonder dat de afhankelijke variabele een normale verdeling volgt.\n",
    "\n",
    "Controleer de assumptie van normaliteit met de volgende stappen:  \n",
    "1. Controleer de afhankelijke variabele per groep visueel met een histogram, een boxplot en een Q-Q plot.   \n",
    "2. Toets of de afhankelijke variabele voor beide groepen normaal verdeeld is met de *Kolmogorov-Smirnov test* of bij een kleinere steekproef (*n* < 50) met de *Shapiro-Wilk test*.[^3]<sup>, </sup>[^4]  \n",
    "\n",
    "De eerste stap heeft als doel een goede indruk te krijgen van de verdeling van de steekproef. In de tweede stap wordt de assumptie van normaliteit getoetst. De statistische toets laat zien of de verdeling van de observaties van een groep voldoet aan de assumptie van normaliteit. Voor beide groepen moet er voldaan zijn aan de assumptie van normaliteit.\n",
    "\n",
    "<!-- ## TEKSTBLOK: Link1.R-->\n",
    "Als blijkt dat de afhankelijke variabele niet normaal verdeeld is voor één van of allebei de groepen, transformeer[^5] dan de afhankelijke variabele en bepaal daarna of deze wel normaal verdeeld is of gebruik de [Mann-Whitney U toets](08-Mann-Whitney-U-toets-R.html).[^6]<sup>, </sup>[^7]  \n",
    "<!-- ## /TEKSTBLOK: Link1.R-->\n",
    "\n",
    "## Wel of geen gepoolde variantie\n",
    "De *ongepaarde t-toets* kan met en zonder gepoolde variantie uitgevoerd worden. Bij een gepoolde variantie is de berekening van de variantie van het verschil in gemiddelden anders en wordt aangenomen dat de varianties van beide steekproeven even groot zijn. Deze aanname is te toetsen met de *Levene's test*, waarbij een significant resultaat aangeeft dat er een verschil is in de varianties van beide groepen. De hedendaagse consensus is echter om altijd deze aanname niet te toetsen en de *ongepaarde t-toets* zonder gepoolde variantie uit te voeren.[^8] Een gepoolde variantie zorgt ervoor dat het onderscheidend vermogen[^14] van de *ongepaarde t-toets* iets hoger is als de varianties van beide groepen ongeveer gelijk zijn, maar geeft verkeerde resultaten als de varianties van elkaar afwijken. Daarnaast heeft *Levene's test* een laag onderscheidend vermogen, wat betekent dat het lastig is om ongelijke varianties goed te toetsen. Gebruik daarom de *ongepaarde t-toets* zonder gepoolde variantie; deze staat ook wel bekend als *Welch's t-toets*.[^8]\n",
    "\n",
    "# Uitvoering\n",
    "<!-- ## TEKSTBLOK: Dataset-inladen.R-->\n",
    "Er is een dataset ingeladen met gemiddelde cijfers van eerstejaarsstudenten bij de opleiding Taalwetenschap: `Cijfers_gemiddeld`. De dataset bevat cijfers van 180 studenten begonnen in 2010 en cijfers van 160 studenten begonnen in 2011.\n",
    "<!-- ## /TEKSTBLOK: Dataset-inladen.R-->\n",
    "\n",
    "## De data bekijken\n",
    "<!-- ## TEKSTBLOK: Data-bekijken.R -->\n",
    "Gebruik `head()` en `tail()` om de structuur van de data te bekijken.\n",
    "<!-- ## /TEKSTBLOK: Data-bekijken.R -->\n",
    "<!-- ## OPENBLOK: Data-bekijken.R -->"
   ]
  },
  {
   "cell_type": "code",
   "execution_count": null,
   "id": "de768b7d",
   "metadata": {
    "lines_to_next_cell": 0,
    "name": "data bekijken"
   },
   "outputs": [],
   "source": [
    "## Eerste 6 observaties\n",
    "head(Cijfers_gemiddeld)\n",
    "\n",
    "## Laatste 6 observaties\n",
    "tail(Cijfers_gemiddeld)"
   ]
  },
  {
   "cell_type": "markdown",
   "id": "d9fdb893",
   "metadata": {
    "lines_to_next_cell": 0
   },
   "source": [
    "<!-- ## /OPENBLOK: Data-bekijken.R -->\n",
    "\n",
    "Selecteer beide groepen en sla deze op in een vector om deze makkelijker aan te kunnen roepen. \n",
    "<!-- ## OPENBLOK: Data-selecteren.R -->"
   ]
  },
  {
   "cell_type": "code",
   "execution_count": null,
   "id": "9cda0798",
   "metadata": {
    "lines_to_next_cell": 0,
    "name": "data selecteren"
   },
   "outputs": [],
   "source": [
    "Cijfers_2010 <- Cijfers_gemiddeld$Cijfers[Cijfers_gemiddeld$Cohort == \"2010\"]\n",
    "Cijfers_2011 <- Cijfers_gemiddeld$Cijfers[Cijfers_gemiddeld$Cohort == \"2011\"]"
   ]
  },
  {
   "cell_type": "markdown",
   "id": "571e95a3",
   "metadata": {
    "lines_to_next_cell": 0
   },
   "source": [
    "<!-- ## /OPENBLOK: Data-selecteren.R -->\n",
    "\n",
    "<!-- ## TEKSTBLOK: Data-beschrijven.R-->\n",
    "Inspecteer de data met `length()`, `mean()`en `sd()` om meer inzicht te krijgen in de data.\n",
    "<!-- ## /TEKSTBLOK: Data-beschrijven.R-->\n",
    "\n",
    "<!-- ## OPENBLOK: Data-beschrijven-inladen.R -->\n",
    "\n",
    "<!-- ## /OPENBLOK: Data-beschrijven-inladen.R -->\n",
    "\n",
    "<div class=\"col-container\">\n",
    "  <div class=\"col\">\n",
    "<!-- ## OPENBLOK: Data-beschrijven-1.R -->"
   ]
  },
  {
   "cell_type": "code",
   "execution_count": null,
   "id": "4d1b963a",
   "metadata": {
    "lines_to_next_cell": 0,
    "name": "Data beschrijven 1"
   },
   "outputs": [],
   "source": [
    "## Aantallen, gemiddelde en standaarddeviatie 2010\n",
    "length(Cijfers_2010)\n",
    "mean(Cijfers_2010)\n",
    "sd(Cijfers_2010)"
   ]
  },
  {
   "cell_type": "markdown",
   "id": "ed65ac84",
   "metadata": {
    "lines_to_next_cell": 0
   },
   "source": [
    "<!-- ## /OPENBLOK: Data-beschrijven-1.R -->\n",
    "  </div>\n",
    "  <div class =\"col\">\n",
    "<!-- ## OPENBLOK: Data-beschrijven-2.R -->"
   ]
  },
  {
   "cell_type": "code",
   "execution_count": null,
   "id": "90c17138",
   "metadata": {
    "lines_to_next_cell": 0,
    "name": "Data beschrijven 2"
   },
   "outputs": [],
   "source": [
    "## Aantallen, gemiddelde en standaarddeviatie 2011\n",
    "length(Cijfers_2011)\n",
    "mean(Cijfers_2011)\n",
    "sd(Cijfers_2011)"
   ]
  },
  {
   "cell_type": "markdown",
   "id": "b7bf3de5",
   "metadata": {
    "lines_to_next_cell": 0
   },
   "source": [
    "<!-- ## /OPENBLOK: Data-beschrijven-2.R -->\n",
    "  </div>\n",
    "</div>\n",
    "<!-- ## CLOSEDBLOK: Data-beschrijven-3.R -->"
   ]
  },
  {
   "cell_type": "code",
   "execution_count": null,
   "id": "17b9f786",
   "metadata": {
    "echo": true,
    "lines_to_next_cell": 0,
    "name": "Var beschrijven t1",
    "tags": [
     "remove_cell"
    ]
   },
   "outputs": [],
   "source": [
    "vN_t0 <- Round_and_format(length(Cijfers_2010))\n",
    "vMean_t0 <- Round_and_format(mean(Cijfers_2010))\n",
    "vSD_t0 <- Round_and_format(sd(Cijfers_2010))\n",
    "vN_t1 <- Round_and_format(length(Cijfers_2011))\n",
    "vMean_t1 <- Round_and_format(mean(Cijfers_2011))\n",
    "vSD_t1 <- Round_and_format(sd(Cijfers_2011))"
   ]
  },
  {
   "cell_type": "markdown",
   "id": "cbc075b4",
   "metadata": {
    "lines_to_next_cell": 0
   },
   "source": [
    "<!-- ## /CLOSEDBLOK: Data-beschrijven-3.R -->\n",
    "\n",
    "<!-- ## TEKSTBLOK: Data-beschrijven-4.R -->\n",
    "* Gemiddeld tentamencijfer 2010 (standaarddeviatie): `r vMean_t0` (`r vSD_t0`). *n* = `r vN_t0`.\n",
    "* Gemiddeld tentamencijfer 2011 (standaarddeviatie): `r vMean_t1` (`r vSD_t1`). *n* = `r vN_t1`.\n",
    "\n",
    "<!-- ## /TEKSTBLOK: Data-beschrijven-4.R -->\n",
    "\n",
    "## Visuele inspectie van normaliteit\n",
    "Geef de verdeling van de tentamencijfers van beide groepen visueel weer met een histogram, Q-Q plot en boxplot.\n",
    "\n",
    "### Histogram\n",
    "\n",
    "Focus bij het analyseren van een histogram[^18] op de symmetrie van de verdeling, de hoeveelheid toppen (modaliteit) en mogelijke uitbijters. Een normale verdeling is symmetrisch, heeft één top en geen uitbijters.[^9]<sup>, </sup>[^10]\n",
    "\n",
    "<!-- ## OPENBLOK: Histogram.R -->"
   ]
  },
  {
   "cell_type": "code",
   "execution_count": null,
   "id": "16abea33",
   "metadata": {
    "lines_to_next_cell": 0,
    "name": "histogram"
   },
   "outputs": [],
   "source": [
    "## Histogram met ggplot2\n",
    "library(ggplot2)\n",
    "\n",
    "ggplot(Cijfers_gemiddeld,\n",
    "  aes(x = Cijfers)) +\n",
    "  geom_histogram(aes(y = ..density..),\n",
    "                 binwidth = 1,\n",
    "                 color = \"grey30\",\n",
    "                 fill = \"#0089CF\") +\n",
    "  facet_wrap(~ Cohort) +\n",
    "  geom_density(alpha = .2, adjust = 1) +\n",
    "  ylab(\"Frequentiedichtheid\") +\n",
    "  scale_x_continuous(\n",
    "    labels = as.character(seq(1, 10)),\n",
    "    breaks = seq(1, 10)) +\n",
    "  coord_fixed(ylim = c(0, 0.4),\n",
    "              xlim = c(1, 10),\n",
    "              ratio = 22) +\n",
    "  labs(title = \"Taalwetenschap gemiddelde cijfers voor en na de BSA\")"
   ]
  },
  {
   "cell_type": "markdown",
   "id": "03f03ebf",
   "metadata": {
    "lines_to_next_cell": 0
   },
   "source": [
    "<!-- ## /OPENBLOK: Histogram.R -->\n",
    "\n",
    "Beide histogrammen laten een verdeling zien die redelijk symmetrisch is, één top heeft en geen uitbijters. Daarom zijn beide verdelingen bij benadering normaal verdeeld.\n",
    "\n",
    "### Q-Q plot\n",
    "<!-- ## TEKSTBLOK: QQplot.R-->\n",
    "Gebruik `qqnorm()` en `qqline()` met `pch = 1`om een Q-Q plot te maken, met als datapunten kleine cirkels.\n",
    "<!-- ## /TEKSTBLOK: QQplot.R-->\n",
    "\n",
    "Als over het algemeen de meeste datapunten op de lijn liggen, kan aangenomen worden dat de data normaal verdeeld is.\n",
    "<div class =\"col-container\">\n",
    "  <div class = \"col\"> \n",
    "<!-- ## OPENBLOK: QQplot-t1.R -->"
   ]
  },
  {
   "cell_type": "code",
   "execution_count": null,
   "id": "ef8aa720",
   "metadata": {
    "lines_to_next_cell": 0,
    "name": "QQplot-t1"
   },
   "outputs": [],
   "source": [
    "qqnorm(Cijfers_2010, pch = 1,\n",
    "       main = \"Normaal Q-Q plot van tentamencijfers 2010\",\n",
    "       ylab = \"Kwantielen in data\",\n",
    "       xlab = \"Theoretische kwantielen\")\n",
    "qqline(Cijfers_2010)"
   ]
  },
  {
   "cell_type": "markdown",
   "id": "c0864450",
   "metadata": {
    "lines_to_next_cell": 0
   },
   "source": [
    "<!-- ## /OPENBLOK: QQplot-t1.R -->\n",
    "  </div>\n",
    "  <div class = \"col\">\n",
    "<!-- ## OPENBLOK: QQplot-t2.R -->"
   ]
  },
  {
   "cell_type": "code",
   "execution_count": null,
   "id": "af42a649",
   "metadata": {
    "lines_to_next_cell": 0,
    "name": "QQplot-t2"
   },
   "outputs": [],
   "source": [
    "qqnorm(Cijfers_2011, pch = 1,\n",
    "       main = \"Normaal Q-Q plot van tentamencijfers 2011\",\n",
    "       ylab = \"Kwantielen in data\",\n",
    "       xlab = \"Theoretische kwantielen\")\n",
    "qqline(Cijfers_2011)\n"
   ]
  },
  {
   "cell_type": "markdown",
   "id": "dfb63c96",
   "metadata": {
    "lines_to_next_cell": 0
   },
   "source": [
    "<!-- ## /OPENBLOK: QQplot-t2.R -->\n",
    "  </div>\n",
    "</div>\n",
    "\n",
    "Voor beide Q-Q plots liggen de meeste datapunten op of vlakbij de lijn. Hoewel er bij de uiteinden van de verdeling wat afwijkingen zijn, duidt deze grafiek op een goede benadering van de normaalverdeling voor beide cohorten.\n",
    "\n",
    "### Boxplot\n",
    "De box geeft de middelste 50% van de tentamencijfers weer. De zwarte lijn binnen de box is de mediaan. In de staarten of snorreharen zitten de eerste 25% en de laatste 25%. Cirkels visualiseren mogelijke uitbijters.[^9] Hoe meer de boxen overlappen, hoe waarschijnlijker er geen significant verschil is tussen de groepen. \n",
    "\n",
    "<!-- ## OPENBLOK: Boxplot.R -->"
   ]
  },
  {
   "cell_type": "code",
   "execution_count": null,
   "id": "091493e0",
   "metadata": {
    "lines_to_next_cell": 0,
    "name": "boxplot"
   },
   "outputs": [],
   "source": [
    "boxplot(Cijfers ~ Cohort, Cijfers_gemiddeld,\n",
    "        main = \"Tentamencijfers Taalwetenschap voor en na de BSA\")"
   ]
  },
  {
   "cell_type": "markdown",
   "id": "f4c034ef",
   "metadata": {
    "lines_to_next_cell": 0
   },
   "source": [
    "<!-- ## /OPENBLOK: Boxplot.R -->\n",
    "\n",
    "De boxplotten geven de spreiding weer van het gemiddelde tentamencijfer voor de BSA en na de BSA. De boxplotten en de staarten lijken symmetrisch, wat een teken is van een bij benadering normale verdeling. Het cohort van 2011 heeft een aantal mogelijke uitbijters.[^10] \n",
    "\n",
    "## Toetsen van normaliteit\n",
    "Om te controleren of de afhankelijke variabele voor beide groepen normaal verdeeld is, kan de normaliteit getoetst worden. Twee veelgebruikte toetsen zijn: de *Kolmogorov-Smirnov test* en de *Shapiro-Wilk test*.\n",
    "\n",
    "### Kolmogorov-Smirnov\n",
    "De *Kolmogorov-Smirnov test* toetst het verschil tussen twee verdelingen. Standaard toetst deze test het verschil tussen een normale verdeling en de verdeling van de steekproef. De Lilliefors correctie is vereist als het gemiddelde en de standaardafwijking niet van tevoren bekend of bepaald zijn, wat meestal het geval is bij een steekproef. Als de p-waarde kleiner dan 0,05 is, is de verdeling van de steekproef significant verschillend van de normale verdeling.\n",
    "\n",
    "<!-- ## TEKSTBLOK: Lilliefors-test1.R -->\n",
    "\n",
    "<!-- ## /TEKSTBLOK: Lilliefors-test1.R -->\n",
    "\n",
    "<!-- ## OPENBLOK: Library-nortest.R -->"
   ]
  },
  {
   "cell_type": "code",
   "execution_count": null,
   "id": "21fbdde7",
   "metadata": {
    "lines_to_next_cell": 0,
    "name": "library nortest",
    "warning": false
   },
   "outputs": [],
   "source": [
    "library(nortest)"
   ]
  },
  {
   "cell_type": "markdown",
   "id": "4db5d8e3",
   "metadata": {
    "lines_to_next_cell": 0
   },
   "source": [
    "<!-- ## /OPENBLOK: Library-nortest.R -->\n",
    "\n",
    "<div class=\"col-container\">\n",
    "  <div class = \"col\">\n",
    "<!-- ## OPENBLOK: Lilliefors-test-1.R -->\n",
    "``` {r Lilliefors Test-1, warning=FALSE}\n",
    "lillie.test(Cijfers_2010)\n",
    "```\n",
    "<!-- ## /OPENBLOK: Lilliefors-test-1.R -->\n",
    "  </div>\n",
    "  <div class = \"col\">\n",
    "<!-- ## OPENBLOK: Lilliefors-test-2.R -->\n",
    "``` {r Lilliefors Test-2, warning=FALSE}\n",
    "lillie.test(Cijfers_2011)\n",
    "```\n",
    "<!-- ## /OPENBLOK: Lilliefors-test-2.R -->\n",
    "  </div>\n",
    "</div>\n",
    "\n",
    "Bij deze casus is van beide groepen de p-waarde groter dan 0,05, dus er zijn geen significante verschillen gevonden tussen de verdeling van de steekproef en de normale verdeling. De *ongepaarde t-toets* kan uitgevoerd worden.\n",
    "\n",
    "### Shapiro-Wilk Test\n",
    "De *Shapiro-Wilk test* is een soortgelijke test als de *Kolmogorov-Smirnov test* en vooral geschikt bij kleine steekproeven (*n* < 50). Als de p-waarde kleiner dan 0,05 is, is de verdeling van de steekproef significant verschillend van de normale verdeling. \n",
    "<!-- ## TEKSTBLOK: Shapiro-Wilk-test.R -->\n",
    "Er zijn twee subsets van `Cijfers_gemiddeld` ingeladen: `Cijfers_2010_n30` en `Cijfers_2011_n30`. Beide subsets bevatten `r length(Cijfers_2010_n30)` studenten. Voor relatief kleine steekproeven als deze is de *Shapiro-Wilk Test* geschikt.\n",
    "\n",
    "<!-- ## /TEKSTBLOK: Shapiro-Wilk-test.R -->\n",
    "<div class = \"col-container\">\n",
    "  <div class=\"col\">\n",
    "<!-- ## OPENBLOK: Shapiro-Wilk-test-1.R -->\n",
    "``` {r Shapiro-Wilk Test-1, warning=FALSE}\n",
    "shapiro.test(Cijfers_2010_n30)\n",
    "```\n",
    "<!-- ## /OPENBLOK: Shapiro-Wilk-test-1.R -->\n",
    "  </div>\n",
    "  <div class=\"col\">\n",
    "<!-- ## OPENBLOK: Shapiro-Wilk-test-2.R -->\n",
    "``` {r Shapiro-Wilk Test-2, warning=FALSE}\n",
    "shapiro.test(Cijfers_2011_n30)\n",
    "```\n",
    "<!-- ## /OPENBLOK: Shapiro-Wilk-test-2.R -->\n",
    "  </div>\n",
    "</div>\n",
    "\n",
    "De p-waarde is groter dan 0,05 voor beide groepen, dus er zijn geen significante verschillen gevonden tussen de verdeling van de steekproef en de normale verdeling. De *ongepaarde t-toets* kan uitgevoerd worden.\n",
    "\n",
    "## Ongepaarde t-toets\n",
    "<!-- ## TEKSTBLOK: T-test.R -->\n",
    "Voer een ongepaarde `t.test()` uit met `paired = FALSE` (vanwege de ongepaarde groepen) en `var.equal = FALSE` (omdat de varianties niet per se aan elkaar gelijk zijn). Het eerste argument bestaat uit de afhankelijke variabele `Cijfers` en de groepvariabele `Cohort`.\n",
    "<!-- ## /TEKSTBLOK: T-test.R -->\n",
    "\n",
    "<!-- ## OPENBLOK: T-test.R -->"
   ]
  },
  {
   "cell_type": "code",
   "execution_count": null,
   "id": "84ebb898",
   "metadata": {
    "lines_to_next_cell": 0,
    "name": "statistische toets"
   },
   "outputs": [],
   "source": [
    "t.test(Cijfers ~ Cohort, Cijfers_gemiddeld, \n",
    "       paired = FALSE,\n",
    "       alternative = \"two.sided\",\n",
    "       var.equal = FALSE)"
   ]
  },
  {
   "cell_type": "markdown",
   "id": "c9a827bf",
   "metadata": {
    "lines_to_next_cell": 0
   },
   "source": [
    "<!-- ## /OPENBLOK: T-test.R -->\n",
    "<!-- ## CLOSEDBLOK: T-test.R -->"
   ]
  },
  {
   "cell_type": "code",
   "execution_count": null,
   "id": "a99384d6",
   "metadata": {
    "lines_to_next_cell": 0,
    "name": "T-test als object",
    "tags": [
     "remove_input"
    ]
   },
   "outputs": [],
   "source": [
    "t <- t.test(Cijfers ~ Cohort, Cijfers_gemiddeld, paired = FALSE, var.equal = FALSE)\n",
    "vT_waarde <- Round_and_format(t$statistic)\n",
    "vN <- t$parameter + 1\n",
    "vDF <- Round_and_format(t$parameter)\n",
    "vConf.int1 <- Round_and_format(t$conf.int[1])\n",
    "vConf.int2 <- Round_and_format(t$conf.int[2])\n",
    "vP <- Round_and_format(t$p.value, 3)"
   ]
  },
  {
   "cell_type": "markdown",
   "id": "d462b7b0",
   "metadata": {
    "lines_to_next_cell": 0
   },
   "source": [
    "<!-- ## /CLOSEDBLOK: T-test.R -->\n",
    "\n",
    "<!-- ## TEKSTBLOK: T-test2.R -->\n",
    "* *t* = `r vT_waarde`, *p* = `r vP`\n",
    "* De p-waarde is groter dan 0,05, dus de H~0~ wordt niet verworpen [^11]\n",
    "* Vrijheidsgraden: *df* = `r vDF`, niet gelijk aan aantal observaties min één bij een ongepaarde t-toets zonder gepoolde varianties\n",
    "* 95%-betrouwbaarheidsinterval: bij het herhalen van het experiment met verschillende steekproeven van de populatie zal 95% van de betrouwbaarheidsintervallen de daadwerkelijke parameter bevatten, het verschil tussen de hoogte van de cijfers voor en na de BSA  cursus, µ~verschil~ = µ~T2011~ - µ~T2010~. In deze casus is het interval tussen `r vConf.int1` en `r vConf.int2`. Aangezien 0 in dit interval zit, is er geen significant verschil tussen beide gemiddelden in 2010 en 2011.\n",
    "* Het gemiddelde van de steekproef is in 2010 `r vMean_t0`\n",
    "* Het gemiddelde van de steekproef is in 2011 `r vMean_t1`\n",
    "\n",
    "<!-- ## /TEKSTBLOK: T-test2.R -->\n",
    "\n",
    "### Effectmaat: Cohen's d \n",
    "De p-waarde geeft aan of het verschil tussen twee groepen significant is. De grootte van het verschil of effect is echter ook relevant. Een effectmaat is een gestandaardiseerde maat die de grootte van een effect weergeeft, zodat effecten van verschillende onderzoeken met elkaar vergeleken kunnen worden.[^12] Een veel gebruikte effectmaat is Cohen's *d*. Cohen's *d* geeft een gestandaardiseerd verschil weer: het verschil in gemiddelden tussen twee groepen gecorrigeerd voor de gecombineerde standaardafwijking van de twee groepen. Een indicatie om *d* te interpreteren is: rond 0,3 is het een klein effect, rond 0,5 is het een gemiddeld effect en rond 0,8 is het een groot effect.[^13]\n",
    "\n",
    "In dit voorbeeld is de p-waarde groter dan 0,05, dus is een effectmaat uitrekenen onnodig. Pas de volgende stappen toe bij een p-waarde kleiner dan 0,05.\n",
    "\n",
    "<!-- ## TEKSTBLOK: Cohen-d.R -->\n",
    "Gebruik de functie `cohensD()` van het package `lsr` met de argumenten `Cijfers ~ Cohort` waarbij `Cijfers` de afhankelijke variabele is en `Cohort` de onafhankelijke variabele die de groepen aangeeft, het argument `Cijfers_gemiddeld` dat de dataset aangeeft en het argument `method = unequal` omdat er niet aangenomen wordt dat de varianties aan elkaar gelijk zijn.\n",
    "<!-- ## /TEKSTBLOK: Cohen-d.R -->\n",
    "\n",
    "<!-- ## OPENBLOK: Cohens-d-test.R -->"
   ]
  },
  {
   "cell_type": "code",
   "execution_count": null,
   "id": "fb92b592",
   "metadata": {
    "lines_to_next_cell": 0,
    "name": "Cohen s d"
   },
   "outputs": [],
   "source": [
    "library(lsr)\n",
    "cohensD(Cijfers ~ Cohort, Cijfers_gemiddeld, method = \"unequal\")"
   ]
  },
  {
   "cell_type": "markdown",
   "id": "62ca8527",
   "metadata": {
    "lines_to_next_cell": 0
   },
   "source": [
    "<!-- ## /OPENBLOK: Cohens-d-test.R -->\n",
    "<!-- ## CLOSEDBLOK: Cohens-d-test.R -->"
   ]
  },
  {
   "cell_type": "code",
   "execution_count": null,
   "id": "246eaac1",
   "metadata": {
    "lines_to_next_cell": 0,
    "name": "var Cohens d",
    "tags": [
     "remove_input"
    ]
   },
   "outputs": [],
   "source": [
    "vD_waarde <- cohensD(Cijfers ~ Cohort, Cijfers_gemiddeld, method = \"unequal\")\n"
   ]
  },
  {
   "cell_type": "markdown",
   "id": "ab69c2b5",
   "metadata": {
    "lines_to_next_cell": 0
   },
   "source": [
    "<!-- ## /CLOSEDBLOK: Cohens-d-test.R -->\n",
    "<!-- ## TEKSTBLOK: Cohens-d-test.R -->\n",
    "*d* = `r vD_waarde`. De sterkte van het effect van het BSA op het cijfer is verwaarloosbaar. \n",
    "<!-- ## /TEKSTBLOK: Cohens-d-test.R -->\n",
    "\n",
    "# Rapportage\n",
    "<!-- ## TEKSTBLOK: Rapportage.R -->\n",
    "Een *ongepaarde t-toets* is uitgevoerd om te toetsen of het gemiddelde tentamencijfer is veranderd na de invoer van het BSA. Het verschil tussen het gemiddelde tentamencijfer van cohort 2010 (*M~2010~* = `r vMean_t0`,  *SD~2010~* = `r vSD_t0`) en het gemiddelde tentamencijfer van cohort 2011 (*M~2011~* = `r vMean_t1`,  *SD~2011~* = `r vSD_t1`) is niet significant, *t* = `r vT_waarde`, *p* = `r vP`. Het 95% betrouwbaarheidsinterval voor het verschil tussen het gemiddelde van beide groepen loopt van `r vConf.int1` tot `r vConf.int2`. Het gemiddelde tentamencijfer lijkt niet veranderd te zijn na de invoering van het BSA. \n",
    "\n",
    "| Cohort   | N         | M            | SD         |\n",
    "| -------- | --------- | ------------ | ---------- |\n",
    "| 2010     | `r vN_t0` | `r vMean_t0` | `r vSD_t0` |\n",
    "| 2011     | `r vN_t1` | `r vMean_t1` | `r vSD_t1` |\n",
    "<!-- ## /TEKSTBLOK: Rapportage.R -->\n",
    "*Tabel 1. Groepsgrootte, gemiddeld tentamencijfer en standaarddeviatie per cohort*\n",
    "\n",
    "<!-- ## CLOSEDBLOK: Footer.R -->"
   ]
  },
  {
   "cell_type": "code",
   "execution_count": null,
   "id": "a7f038a5",
   "metadata": {
    "code": "#R_CODE#readLines(paste0(here::here(),\"/01. Includes/code/Footer.R\"))",
    "include": true,
    "lines_to_next_cell": 0,
    "name": "footer",
    "results": "asis",
    "tags": [
     "remove_input"
    ]
   },
   "outputs": [],
   "source": []
  },
  {
   "cell_type": "markdown",
   "id": "52ef8f0c",
   "metadata": {},
   "source": [
    "<!-- ## /CLOSEDBLOK: Footer.R -->\n",
    "\n",
    "[^1]: Van Geloven, N. (25 mei 2016). *T-toets* [Wiki Statistiek Academisch Medisch Centrum](https://wikistatistiek.amc.nl/index.php/T-toets#ongepaarde_t-toets).\n",
    "[^2]: Lumley, T., Diehr, P., Emerson, S., & Chen, L. (2002). The importance of the normality assumption in large public health data sets. *Annu Rev Public Health, 23*, 151-69. doi: 10.1146/annurev.publheath.23.100901.140546 http://rctdesign.org/techreports/arphnonnormality.pdf \n",
    "[^3]: Laerd statistics. (2018). [Testing for Normality using SPSS Statistics](https://statistics.laerd.com/spss-tutorials/testing-for-normality-using-spss-statistics.php).\n",
    "[^4]: Normaliteit. (14 juli 2014). [UvA Wiki Methodologiewinkel](https://wiki.uva.nl/methodologiewinkel/index.php/Normaliteit).\n",
    "[^5]: Er zijn verschillende opties om variabelen te transformeren, zoals de logaritme, wortel of inverse (1 gedeeld door de variabele) nemen van de variabele. Zie *Discovering statistics using IBM SPSS statistics* van Field (2013) pagina 201-210 voor meer informatie over welke transformaties wanneer gebruikt kunnen worden.\n",
    "[^6]: Van Geloven, N. (13 maart 2018). *Mann-Whitney U toets* [Wiki Statistiek Academisch Medisch Centrum](https://wikistatistiek.amc.nl/index.php/Mann-Whitney_U_toets).\n",
    "[^7]: De [Mann-Whitney U toets](08-Mann-Whitney-U-toets-R.html) maakt een rangschikking van de data. Hierdoor is de test verdelingsvrij en is normaliteit geen assumptie. Ook zijn uitbijters minder van invloed op het eindresultaat. Toch wordt er voor deze test minder vaak gekozen, doordat bij het maken van een rankschikking de data informatie verliest. Als de data wel normaal verdeeld is, heeft de [Mann-Whitney U toets](08-Mann-Whitney-U-toets-R.html) minder onderscheidend vermogen dan wanneer de *ongepaarde t-toets* uitgevoerd zou worden. \n",
    "[^8]: Lakens, D. (26 januari 2015). *Always use Welch's t-test instead of Student's t-test*. [The 20% Statistician](http://daniellakens.blogspot.com/2015/01/always-use-welchs-t-test-instead-of.html).\n",
    "[^9]: Outliers (13 augustus 2016). [UvA Wiki Methodologiewinkel](https://wiki.uva.nl/methodologiewinkel/index.php/Outliers).\n",
    "[^10]: Uitbijters kunnen bepalend zijn voor de uitkomst van toetsen. Bekijk of de uitbijters valide uitbijters zijn en niet een meetfout of op een andere manier incorrect verkregen data. Het weghalen van uitbijters kan de uitkomst ook vertekenen, daarom is het belangrijk om verwijderde uitbijters te melden in een rapport. \n",
    "[^11]: In dit voorbeeld wordt uitgegaan van een waarschijnlijkheid van 95% c.q. een p-waardegrens van 0,05. De grens is naar eigen inzicht aan te passen; houd hierbij rekening met type I en type II fouten.\n",
    "[^12]: Field, A., Miles, J., & Field, Z. (2012). *Discovering statistics using R*. London: Sage publications.\n",
    "[^13]: Marshall, E., & Boggis, E. (2016). *The statistics tutor’s quick guide to commonly used statistical tests*. http://www.statstutor.ac.uk/resources/uploaded/tutorsquickguidetostatistics.pdf.\n",
    "[^14]: Onderscheidend vermogen, in het Engels power genoemd, is de kans dat de nulhypothese verworpen wordt wanneer de alternatieve hypothese 'waar' is.  \n",
    "[^18]: De breedte van de staven van het histogram wordt vaak automatisch bepaald, maar kan handmatig aangepast worden. Aangezien de breedte van de staven bepalend zijn voor de indruk die de visualisatie geeft, is het verstandig om hier goed op te letten.\n",
    "\n",
    "<!-- ## TEKSTBLOK: Extra-Bron.R -->\n",
    "\n",
    "<!-- ## /TEKSTBLOK: Extra-Bron.R -->\n"
   ]
  }
 ],
 "metadata": {
  "jupytext": {
   "cell_metadata_filter": "message,tags,name,warning,echo,code,results,include,-all",
   "main_language": "R",
   "notebook_metadata_filter": "-all"
  }
 },
 "nbformat": 4,
 "nbformat_minor": 5
}
