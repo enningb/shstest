{
 "cells": [
  {
   "cell_type": "raw",
   "id": "f606338b",
   "metadata": {},
   "source": [
    "---\n",
    "title: \"Tekentoets\"\n",
    "output:\n",
    "  html_document:\n",
    "    theme: lumen\n",
    "    toc: yes\n",
    "    toc_depth: 2\n",
    "    toc_float: \n",
    "      collapsed: FALSE \n",
    "    number_sections: true\n",
    "    includes:\n",
    "      in_header: [\"../01. Includes/html/nocache.html\", \"../01. Includes/html/favicon.html\", \"../01. Includes/html/analytics.html\"]\n",
    "  keywords: [statistisch handboek, studiedata]\n",
    "---"
   ]
  },
  {
   "cell_type": "markdown",
   "id": "97a6b577",
   "metadata": {
    "lines_to_next_cell": 0
   },
   "source": [
    "<!-- ## CLOSEDBLOK: Functies.R -->"
   ]
  },
  {
   "cell_type": "code",
   "execution_count": null,
   "id": "d052c69a",
   "metadata": {
    "include": true,
    "lines_to_next_cell": 0,
    "message": false,
    "name": "functies",
    "results": "asis",
    "tags": [
     "remove_input"
    ],
    "warning": false
   },
   "outputs": [],
   "source": [
    "library(here)\n",
    "if (!exists(\"Substitute_var\")) {\n",
    "  ## Installeer packages en functies\n",
    "  source(paste0(here::here(), \"/99. Functies en Libraries/00. Voorbereidingen.R\"), echo = FALSE)\n",
    "}"
   ]
  },
  {
   "cell_type": "markdown",
   "id": "1c34f4a8",
   "metadata": {
    "lines_to_next_cell": 0
   },
   "source": [
    "<!-- ## /CLOSEDBLOK: Functies.R -->\n",
    "\n",
    "<!-- ## CLOSEDBLOK: CSS -->\n",
    "<style>\n",
    "`r htmltools::includeHTML(paste0(here::here(),\"/01. Includes/css/Stylesheet_SHHO.css\"))`\n",
    "</style>\n",
    "<!-- ## /CLOSEDBLOK: CSS -->\n",
    "\n",
    "<!-- ## CLOSEDBLOK: Header.R -->"
   ]
  },
  {
   "cell_type": "code",
   "execution_count": null,
   "id": "df7430dc",
   "metadata": {
    "code": "#R_CODE#readLines(paste0(here::here(),\"/01. Includes/code/Header.R\"))",
    "include": true,
    "lines_to_next_cell": 0,
    "name": "header",
    "results": "asis",
    "tags": [
     "remove_input"
    ]
   },
   "outputs": [],
   "source": []
  },
  {
   "cell_type": "markdown",
   "id": "1b4123de",
   "metadata": {
    "lines_to_next_cell": 0
   },
   "source": [
    "<!-- ## /CLOSEDBLOK: Header.R -->\n",
    "\n",
    "<!-- ## CLOSEDBLOK: Status.R -->"
   ]
  },
  {
   "cell_type": "code",
   "execution_count": null,
   "id": "254e2aec",
   "metadata": {
    "code": "#R_CODE#readLines(paste0(here::here(),\"/01. Includes/code/Status.R\"))",
    "include": true,
    "lines_to_next_cell": 0,
    "name": "status",
    "results": "asis",
    "tags": [
     "remove_input"
    ]
   },
   "outputs": [],
   "source": []
  },
  {
   "cell_type": "markdown",
   "id": "e6c0b906",
   "metadata": {
    "lines_to_next_cell": 0
   },
   "source": [
    "<!-- ## /CLOSEDBLOK: Status.R -->\n",
    "\n",
    "<!-- ## CLOSEDBLOK: Reticulate.R -->\n",
    "<!-- ## /CLOSEDBLOK: Reticulate.R -->\n",
    "\n",
    "<!-- ## OPENBLOK: Data-aanmaken.R -->"
   ]
  },
  {
   "cell_type": "code",
   "execution_count": null,
   "id": "03351c61",
   "metadata": {
    "echo": true,
    "lines_to_next_cell": 0,
    "name": "aanmaken data",
    "tags": [
     "remove_cell"
    ]
   },
   "outputs": [],
   "source": [
    "source(paste0(here::here(),\"/01. Includes/data/06.R\"))"
   ]
  },
  {
   "cell_type": "markdown",
   "id": "c73fc9a1",
   "metadata": {
    "lines_to_next_cell": 0
   },
   "source": [
    "<!-- ## /OPENBLOK: Data-aanmaken.R -->\n",
    "\n",
    "# Toepassing\n",
    "\n",
    "<!-- ## TEKSTBLOK: Link1.R -->\n",
    "Gebruik de *tekentoets* om de mediaan van een steekproef te vergelijken met een bekende mediaan of norm in een populatie.[^1] Deze toets wordt gebruikt als er niet aan de assumpties is voldaan bij sterkere toetsen zoals de [one sample t-toets](01-One-sample-t-toets-R.html) en de [Wilcoxon signed rank toets](07-Wilcoxon-signed-rank-toets-I-R.html). Als de verdeling van de steekproef bij benadering normaal verdeeld is, dan kan de [one sample t-toets](01-One-sample-t-toets-R.html) gebruikt worden om het gemiddelde van een steekproef te vergelijken met een bekend gemiddelde of norm in een populatie. Als de verdeling symmetrisch is, kan de [Wilcoxon signed rank toets](07-Wilcoxon-signed-rank-toets-I-R.html) gebruikt worden om de mediaan van een steekproef te vergelijken met een bekende mediaan of norm in een populatie. De [Wilcoxon signed rank toets](07-Wilcoxon-signed-rank-toets-I-R.html) heeft in dat geval een hoger onderscheidend vermogen[^9].\n",
    "\n",
    "<!-- ## /TEKSTBLOK: Link1.R -->\n",
    "\n",
    "# Onderwijscasus\n",
    "<div id =\"casus\">\n",
    "De opleidingsdirecteur van de school voor Journalistiek is benieuwd wat alumni verdienen ten opzichte van de gemiddelde Nederlander. Daarom wil zij de jaarinkomens van oud-studenten vergelijken met het mediane jaarinkomen van werknemers in Nederland van €35.200.[^2] Op deze manier vergaart zij meer informatie over het succes op de arbeidsmarkt na de opleiding Journalistiek.\n",
    "\n",
    "Dit onderzoek vertaalt zich in de volgende combinatie van hypothesen, waarbij de nulhypothese zo geformuleerd is dat er geen effect of verschil is en de alternatieve hypothese zo geformuleerd is dat er wel een effect of verschil is.\n",
    "\n",
    "*H~0~*: De mediaan van het jaarinkomen van alumni Journalistiek is gelijk aan €35.200, het mediane jaarinkomen in Nederland.\n",
    "\n",
    "*H~A~*: De mediaan van het jaarinkomen van alumni Journalistiek is niet gelijk aan €35.200, het mediane jaarinkomen in Nederland.\n",
    "</div>\n",
    "\n",
    "# Assumpties\n",
    "\n",
    "Het meetniveau van de variabele is continu.[^10]\n",
    "\n",
    "# Uitvoering\n",
    "<!-- ## TEKSTBLOK: Data-inladen.R -->\n",
    "Er is data ingeladen met jaarlijkse bruto inkomens van alumni van de school voor Journalistiek genaamd `Jaarlijks_inkomen`. De directeur wil kijken hoe haar oud-studenten scoren ten opzichte van het mediane jaarinkomen in Nederland.\n",
    "<!-- ## /TEKSTBLOK: Data-inladen.R -->\n",
    "\n",
    "## De data bekijken\n",
    "<!-- ## TEKSTBLOK: Data-bekijken.R -->\n",
    "Gebruik `head()` en `tail()` om de data te bekijken.\n",
    "<!-- ## /TEKSTBLOK: Data-bekijken.R -->\n",
    "\n",
    "<!-- ## OPENBLOK: Data-bekijken.R -->"
   ]
  },
  {
   "cell_type": "code",
   "execution_count": null,
   "id": "3874062e",
   "metadata": {
    "collapse": true,
    "lines_to_next_cell": 0,
    "name": "data bekijken"
   },
   "outputs": [],
   "source": [
    "## Eerste 6 observaties\n",
    "head(Jaarlijks_inkomen)\n",
    "\n",
    "## Laatste 6 observaties\n",
    "tail(Jaarlijks_inkomen)"
   ]
  },
  {
   "cell_type": "markdown",
   "id": "7f94b55c",
   "metadata": {
    "lines_to_next_cell": 0
   },
   "source": [
    "<!-- ## /OPENBLOK: Data-bekijken.R -->\n",
    "\n",
    "<!-- ## TEKSTBLOK: Data-beschrijven.R -->\n",
    "Inspecteer de data met `mean()`, `sd()`, `median()` en `length()` om meer inzicht te krijgen in de data.\n",
    "<!-- ## /TEKSTBLOK: Data-beschrijven.R -->\n",
    "\n",
    "<!-- ## OPENBLOK: Data-beschrijven.R -->"
   ]
  },
  {
   "cell_type": "code",
   "execution_count": null,
   "id": "14a12ef0",
   "metadata": {
    "collapse": true,
    "lines_to_next_cell": 0,
    "name": "data beschrijven"
   },
   "outputs": [],
   "source": [
    "mean(Jaarlijks_inkomen$Inkomen)\n",
    "sd(Jaarlijks_inkomen$Inkomen)\n",
    "median(Jaarlijks_inkomen$Inkomen)\n",
    "length(Jaarlijks_inkomen$Inkomen)"
   ]
  },
  {
   "cell_type": "markdown",
   "id": "346c3061",
   "metadata": {
    "lines_to_next_cell": 0
   },
   "source": [
    "<!-- ## /OPENBLOK: Data-beschrijven.R -->\n",
    "<!-- ## CLOSEDBLOK: Data-beschrijven2.R -->"
   ]
  },
  {
   "cell_type": "code",
   "execution_count": null,
   "id": "4a099af1",
   "metadata": {
    "echo": true,
    "lines_to_next_cell": 0,
    "name": "Var beschrijven",
    "tags": [
     "remove_cell"
    ]
   },
   "outputs": [],
   "source": [
    "vMean <- Round_and_format(mean(Jaarlijks_inkomen$Inkomen))\n",
    "vSD   <- Round_and_format(sd(Jaarlijks_inkomen$Inkomen))\n",
    "vN    <- Round_and_format(length(Jaarlijks_inkomen$Inkomen))\n",
    "vMed  <- Round_and_format(median(Jaarlijks_inkomen$Inkomen))"
   ]
  },
  {
   "cell_type": "markdown",
   "id": "7a31eedb",
   "metadata": {
    "lines_to_next_cell": 0
   },
   "source": [
    "<!-- ## /CLOSEDBLOK: Data-beschrijven2.R -->\n",
    "\n",
    "<!-- ## TEKSTBLOK: Datatekst-beschrijven2.R -->\n",
    "Het gemiddelde jaarinkomen van de alumni is `r paste(\"€\", vMean, sep=\"\")` met een standaardafwijking van `r paste(\"€\", vSD, sep=\"\")` (*n* = `r vN`). De mediaan van het inkomen is `r paste(\"€\", vMed, sep=\"\")`.\n",
    "<!-- ## /TEKSTBLOK: Datatekst-beschrijven2.R -->\n",
    "\n",
    "## De data visualiseren\n",
    "\n",
    "Visualiseer de data om een goed beeld van de jaarinkomens van de alumni te krijgen. Geef de verdeling van de data weer in een histogram[^18]. Focus bij het analyseren van een histogram op de symmetrie van de verdeling, de hoeveelheid toppen (modaliteit) en mogelijke uitbijters.[^6]<sup>, </sup>[^7]\n",
    "\n",
    "<!-- ## OPENBLOK: Histogram.R -->"
   ]
  },
  {
   "cell_type": "code",
   "execution_count": null,
   "id": "8fd2af65",
   "metadata": {
    "lines_to_next_cell": 0,
    "message": false,
    "name": "histogram",
    "warning": false
   },
   "outputs": [],
   "source": [
    "## Histogram met ggplot2\n",
    "library(ggplot2)\n",
    "\n",
    "ggplot(Jaarlijks_inkomen, \n",
    "       aes(x = Inkomen)) +\n",
    "  geom_histogram(aes(y = ..density..),\n",
    "                 binwidth = 10000, \n",
    "                 color = \"white\", \n",
    "                 fill = \"#158CBA\") +\n",
    "  #geom_density(alpha = .2, adjust = 1) +\n",
    "  ylab(\"Frequentiedichtheid\") +\n",
    "  xlab(\"Jaarlijks inkomen\") +\n",
    "scale_x_continuous(labels = as.character(seq(20000, 100000, 20000)), \n",
    "                   breaks = seq(20000, 100000, 20000)) +\n",
    "labs(title = \"Jaarinkomen alumni Journalistiek\", \n",
    "     subtitle = \"\")\n"
   ]
  },
  {
   "cell_type": "markdown",
   "id": "2923dd1f",
   "metadata": {
    "lines_to_next_cell": 0
   },
   "source": [
    "<!-- ## /OPENBLOK: Histogram.R -->\n",
    "\n",
    "<!-- ## TEKSTBLOK: Link3.R -->\n",
    "De verdeling heeft één top en geen uitbijters. De histogram laat echter ook zien dat de verdeling een langere staart aan de rechterkant heeft en dus enigszins afwijkt van de (symmetrische) normaalverdeling. Aangezien de verdeling niet symmetrisch is, kan de [Wilcoxon signed rank toets](07-Wilcoxon-signed-rank-toets-I-R.html) niet gebruikt worden om een hypothese over de mediaan te toetsen.\n",
    "<!-- ## /TEKSTBLOK: Link3.R -->\n",
    "\n",
    "# Tekentoets \n",
    "\n",
    "<!-- ## TEKSTBLOK: Tekentoets0.R -->\n",
    "Voer een tweezijdige *tekentoets* uit om te bepalen of het mediane jaarinkomen van de alumni Journalistiek hoger ligt dan het mediane jaarinkomen in Nederland van €35.200. Gebruik van het `DescTools` package de `SignTest()` functie met de argumenten `x = Jaarlijks_inkomen` voor de data van de steekproef, `mu = 35200` voor de waarde van de mediaan die getoetst wordt en `alternative = \"two.sided\"` om een tweezijdige alternatieve hypothese te toetsen.\n",
    "<!-- ## /TEKSTBLOK: Tekentoets0.R -->\n",
    "\n",
    "<!-- ## OPENBLOK: Tekentoets.R -->"
   ]
  },
  {
   "cell_type": "code",
   "execution_count": null,
   "id": "3b3a1bec",
   "metadata": {
    "lines_to_next_cell": 0,
    "name": "Tekentoets"
   },
   "outputs": [],
   "source": [
    "library(DescTools)\n",
    "SignTest(x = Jaarlijks_inkomen$Inkomen, mu = 35200, alternative = \"two.sided\")"
   ]
  },
  {
   "cell_type": "markdown",
   "id": "c4e2c5d1",
   "metadata": {
    "lines_to_next_cell": 0
   },
   "source": [
    "<!-- ## /OPENBLOK: Tekentoets.R -->\n",
    "\n",
    "<!-- ## CLOSEDBLOK: Tekentoets.R -->"
   ]
  },
  {
   "cell_type": "code",
   "execution_count": null,
   "id": "d01b52c0",
   "metadata": {
    "lines_to_next_cell": 0,
    "name": "T-test als object",
    "tags": [
     "remove_input"
    ]
   },
   "outputs": [],
   "source": [
    "b <- SignTest(x = Jaarlijks_inkomen$Inkomen, mu = 35200, alternative = \"two.sided\")\n",
    "\n",
    "vS <- b$statistic\n",
    "vN <- b$parameter\n",
    "vconf.int1 <- Round_and_format(b$conf.int[1])\n",
    "vconf.int2 <- Round_and_format(b$conf.int[2])\n",
    "vMed <- Round_and_format(b$estimate)"
   ]
  },
  {
   "cell_type": "markdown",
   "id": "b9d3acc7",
   "metadata": {},
   "source": [
    "<!-- ## /CLOSEDBLOK: Tekentoets.R -->\n",
    "\n",
    "<!-- ## TEKSTBLOK: Tekentoets.R -->\n",
    "* De mediaan van de steekproef is significant verschillend van €35.200, *S* = `r vS`, *N* = `r vN`, *p* < 0,001. De H~0~ wordt verworpen. [^5]\n",
    "* De toetsstatistiek *S* is het aantal positieve verschillen (inkomen hoger dan het mediane jaarinkomen in Nederland), *N* is het totaal aantal verschillen\n",
    "* Van de `r vN` alumni verdienen `r vS` alumni boven het mediane jaarinkomen in Nederland\n",
    "* De geschatte mediaan van de steekproef is `r vMed` met bijbehorend 95%-betrouwbaarheidsinterval van `r vconf.int1` tot `r vconf.int2`.\n",
    "\n",
    "<!-- ## /TEKSTBLOK: Tekentoets.R -->"
   ]
  },
  {
   "cell_type": "markdown",
   "id": "9d2d87b2",
   "metadata": {
    "lines_to_next_cell": 0
   },
   "source": [
    "# Rapportage\n",
    "\n",
    "<!-- ## TEKSTBLOK: Rapportage.R -->\n",
    "De *tekentoets* is uitgevoerd om te toetsen of het mediane inkomen van alumni van de opleiding Journalistiek veschilt van het mediane jaarinkomen van werknemers in Nederland van €35.200. Het mediane inkomen van alumni verschilt significant van €35.200 (*S* = `r vS`, *N* = `r vN`, *p* < 0,001). De geschatte mediaan is `r paste(\"€\", vMed, sep=\"\")` met bijbehorend 95%-betrouwbaarheidsinterval van `r paste(\"€\", vconf.int1, sep=\"\")` tot `r paste(\"€\", vconf.int2, sep=\"\")`. Van de `r vN` alumni verdienen `r vS` alumni boven het mediane jaarinkomen in Nederland. Deze resultaten duiden op een verschil tussen het mediane jaarinkomen van alumni van de opleiding Journalistiek en het mediane jaarinkomen van de gemiddelde Nederlander waarbij de inkomens van de alumni hoger lijken te liggen.\n",
    "<!-- ## /TEKSTBLOK: Rapportage.R -->\n",
    "\n",
    "<!-- ## CLOSEDBLOK: Footer.R -->"
   ]
  },
  {
   "cell_type": "code",
   "execution_count": null,
   "id": "b5b8543b",
   "metadata": {
    "code": "#R_CODE#readLines(paste0(here::here(),\"/01. Includes/code/Footer.R\"))",
    "include": true,
    "lines_to_next_cell": 0,
    "name": "footer",
    "results": "asis",
    "tags": [
     "remove_input"
    ]
   },
   "outputs": [],
   "source": []
  },
  {
   "cell_type": "markdown",
   "id": "8ec8f53c",
   "metadata": {},
   "source": [
    "<!-- ## /CLOSEDBLOK: Footer.R -->\n",
    "\n",
    "[^1]: Van Geloven, N. (25 mei 2016). *Tekentoets* [Wiki Statistiek Academisch Medisch Centrum](https://wikistatistiek.amc.nl/index.php/Tekentoets). \n",
    "[^2]: Doorsnee inkomen werkenden al 10 jaar vrijwel constant (22 maart 2019). [Centraal Bureau voor de Statistiek](https://www.cbs.nl/nl-nl/nieuws/2019/12/doorsnee-inkomen-werkenden-al-10-jaar-vrijwel-constant)\n",
    "[^5]: In dit voorbeeld wordt uitgegaan van een waarschijnlijkheid van 95% c.q. een p-waardegrens van 0,05. De grens is naar eigen inzicht aan te passen; houd hierbij rekening met type I en type II fouten.\n",
    "[^6]: Outliers (13 augustus 2016). [UvA Wiki Methodologiewinkel](https://wiki.uva.nl/methodologiewinkel/index.php/Outliers).\n",
    "[^7]: Uitbijters kunnen bepalend zijn voor de uitkomst van toetsen. Bekijk of de uitbijters valide uitbijters zijn en niet een meetfout of op een andere manier incorrect verkregen data. Het weghalen van uitbijters kan de uitkomst ook vertekenen, daarom is het belangrijk om verwijderde uitbijters te melden in een rapport.\n",
    "[^8]: Statistics How To (27 mei 2018). *One Sample Median Test*. [Statistics How to](https://www.statisticshowto.datasciencecentral.com/one-sample-median-test/).\n",
    "[^9]: Onderscheidend vermogen, in het Engels power genoemd, is de kans dat de nulhypothese verworpen wordt wanneer de alternatieve hypothese waar is.\n",
    "[^10]: Miller, I. & Miller, C. (2012). *John E. Freund's Mathematical Statistics with Applications*. Pearson: eighth edition.\n",
    "[^18]: De breedte van de staven van het histogram wordt vaak automatisch bepaald, maar kan handmatig aangepast worden. Aangezien de breedte van de staven bepalend zijn voor de indruk die de visualisatie geeft, is het verstandig om hier goed op te letten."
   ]
  }
 ],
 "metadata": {
  "jupytext": {
   "cell_metadata_filter": "message,tags,name,warning,echo,code,results,collapse,include,-all",
   "main_language": "R",
   "notebook_metadata_filter": "-all"
  }
 },
 "nbformat": 4,
 "nbformat_minor": 5
}
