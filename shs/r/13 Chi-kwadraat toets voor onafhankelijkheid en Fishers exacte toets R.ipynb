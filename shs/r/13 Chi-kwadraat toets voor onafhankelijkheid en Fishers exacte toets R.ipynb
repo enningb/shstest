{
 "cells": [
  {
   "cell_type": "raw",
   "id": "de39454c",
   "metadata": {},
   "source": [
    "---\n",
    "title: \"Chi-kwadraat toets voor onafhankelijkheid en Fisher's exacte toets\"\n",
    "output:\n",
    "  html_document:\n",
    "    theme: lumen\n",
    "    toc: yes\n",
    "    toc_depth: 2\n",
    "    toc_float: \n",
    "      collapsed: FALSE \n",
    "    number_sections: true\n",
    "    includes:\n",
    "      in_header: [\"../01. Includes/html/nocache.html\", \"../01. Includes/html/favicon.html\", \"../01. Includes/html/analytics.html\"]\n",
    "  keywords: [statistisch handboek, studiedata]\n",
    "---"
   ]
  },
  {
   "cell_type": "markdown",
   "id": "b82c12b2",
   "metadata": {
    "lines_to_next_cell": 0
   },
   "source": [
    "<!-- ## CLOSEDBLOK: Functies.R -->"
   ]
  },
  {
   "cell_type": "code",
   "execution_count": null,
   "id": "be588d9d",
   "metadata": {
    "include": true,
    "lines_to_next_cell": 0,
    "message": false,
    "name": "functies",
    "results": "asis",
    "tags": [
     "remove_input"
    ],
    "warning": false
   },
   "outputs": [],
   "source": [
    "library(here)\n",
    "if (!exists(\"Substitute_var\")) {\n",
    "  ## Installeer packages en functies\n",
    "  source(paste0(here::here(), \"/99. Functies en Libraries/00. Voorbereidingen.R\"), echo = FALSE)\n",
    "}"
   ]
  },
  {
   "cell_type": "markdown",
   "id": "f70b69d1",
   "metadata": {
    "lines_to_next_cell": 0
   },
   "source": [
    "<!-- ## /CLOSEDBLOK: Functies.R -->\n",
    "\n",
    "<!-- ## CLOSEDBLOK: CSS -->\n",
    "<style>\n",
    "`r htmltools::includeHTML(paste0(here::here(),\"/01. Includes/css/Stylesheet_SHHO.css\"))`\n",
    "</style>\n",
    "<!-- ## /CLOSEDBLOK: CSS -->\n",
    "\n",
    "<!-- ## CLOSEDBLOK: Header.R -->"
   ]
  },
  {
   "cell_type": "code",
   "execution_count": null,
   "id": "8bd1948a",
   "metadata": {
    "code": "#R_CODE#readLines(paste0(here::here(),\"/01. Includes/code/Header.R\"))",
    "include": true,
    "lines_to_next_cell": 0,
    "name": "header",
    "results": "asis",
    "tags": [
     "remove_input"
    ]
   },
   "outputs": [],
   "source": []
  },
  {
   "cell_type": "markdown",
   "id": "49b24577",
   "metadata": {
    "lines_to_next_cell": 0
   },
   "source": [
    "<!-- ## /CLOSEDBLOK: Header.R -->\n",
    "\n",
    "<!-- ## CLOSEDBLOK: Status.R -->"
   ]
  },
  {
   "cell_type": "code",
   "execution_count": null,
   "id": "c18f5966",
   "metadata": {
    "code": "#R_CODE#readLines(paste0(here::here(),\"/01. Includes/code/Status.R\"))",
    "include": true,
    "lines_to_next_cell": 0,
    "name": "status",
    "results": "asis",
    "tags": [
     "remove_input"
    ]
   },
   "outputs": [],
   "source": []
  },
  {
   "cell_type": "markdown",
   "id": "1f854e4e",
   "metadata": {
    "lines_to_next_cell": 0
   },
   "source": [
    "<!-- ## /CLOSEDBLOK: Status.R -->\n",
    "\n",
    "<!-- ## CLOSEDBLOK: Reticulate.R -->\n",
    "\n",
    "<!-- ## /CLOSEDBLOK: Reticulate.R -->\n",
    "\n",
    "<!-- ## OPENBLOK: Data-aanmaken.R -->"
   ]
  },
  {
   "cell_type": "code",
   "execution_count": null,
   "id": "930f68c7",
   "metadata": {
    "eval": false,
    "lines_to_next_cell": 0,
    "name": "opmerking TODO",
    "tags": [
     "remove_cell"
    ]
   },
   "outputs": [],
   "source": [
    "# TODO: Uitleg extra pagina: nominaal, ordinaal etc., afhankelijk en onafhankelijk  \n",
    "# TODO: Uitleg transformeren data "
   ]
  },
  {
   "cell_type": "code",
   "execution_count": null,
   "id": "c6d70184",
   "metadata": {
    "echo": true,
    "lines_to_next_cell": 0,
    "name": "aanmaken data",
    "tags": [
     "remove_cell"
    ]
   },
   "outputs": [],
   "source": [
    "source(paste0(here::here(),\"/01. Includes/data/13.R\"))"
   ]
  },
  {
   "cell_type": "markdown",
   "id": "cb281242",
   "metadata": {},
   "source": [
    "<!-- ## /OPENBLOK: Data-aanmaken.R -->\n",
    "\n",
    "# Toepassing\n",
    "Gebruik de *Chi-kwadraat toets voor onafhankelijkheid* of de *Fisher's exacte toets* om te toetsen of er een afhankelijkheid bestaat tussen twee ongepaarde, binaire variabelen.[^1]<sup>, </sup>[^2] In tegenstelling tot de *Chi-kwadraat toets voor onafhankelijkheid* kan de *Fisher's exacte toets* ook bij een laag aantal observaties gebruikt worden, dit wordt bij de assumpties toegelicht.[^4] De *Chi-kwadraat toets voor onafhankelijkheid* kan ook gebruikt worden wanneer de twee categorische variabelen meer dan twee categorieën bevatten, maar *Fisher's exacte toets* vereist wel dat beide variabelen binair zijn. Deze toetspagina illustreert de toets echter voor twee ongepaarde binaire variabelen."
   ]
  },
  {
   "cell_type": "markdown",
   "id": "923b7490",
   "metadata": {
    "lines_to_next_cell": 0
   },
   "source": [
    "# Onderwijscasus\n",
    "<div id = \"casus\">\n",
    "De studentendecaan van een hogeschool vraagt zich af of het invoeren van het leenstelsel van invloed is op het uitvallen van studenten met een functiebeperking. Daarom onderzoekt hij of er een afhankelijkheid is tussen het wel of niet uitvallen van studenten met een functiebeperking en het wel of niet invoeren van het leenstelsel.\n",
    "\n",
    "Dit onderzoek vertaalt zich in de volgende combinatie van hypothesen, waarbij de nulhypothese zo geformuleerd is dat er geen effect of verschil is en de alternatieve hypothese zo geformuleerd is dat er wel een effect of verschil is.\n",
    "\n",
    "*H~0~*: Er is geen afhankelijkheid tussen het wel of niet uitvallen van studenten met een functiebeperking en het wel of niet invoeren van het leenstelsel.\n",
    "\n",
    "*H~A~*: Er is een afhankelijkheid tussen het wel of niet uitvallen van studenten met een functiebeperking en het wel of niet invoeren van het leenstelsel.\n",
    "</div>\n",
    "\n",
    "# Assumpties\n",
    "Voor een valide resultaat moeten de data aan een aantal voorwaarden voldoen voordat de toets uitgevoerd kan worden. De variabelen zijn categorisch (nominaal[^6] of ordinaal[^5]) en de observaties zijn onafhankelijk van elkaar. \n",
    "\n",
    "## Groepsgrootte\n",
    "De *Chi-kwadraat toets voor onafhankelijkheid* heeft een assumptie wat betreft het aantal observaties in een kruistabel. Een kruistabel is een tabel waarin de aantallen observaties worden weergegeven per combinatie van de categorieën van beide variabelen. De kruistabel van de data in de huidige casus is te vinden in Tabel 1.   \n",
    "\n",
    "<!-- ## CLOSEDBLOK: Groepsgrootte2.R -->"
   ]
  },
  {
   "cell_type": "code",
   "execution_count": null,
   "id": "72457ee7",
   "metadata": {
    "echo": true,
    "lines_to_next_cell": 0,
    "name": "opslaan tabel cellen",
    "tags": [
     "remove_cell"
    ]
   },
   "outputs": [],
   "source": [
    "# Sla geobserveerde aantallen op\n",
    "n11 <- Tabel_uitval_functiebeperking[1,1]\n",
    "n12 <- Tabel_uitval_functiebeperking[1,2]\n",
    "n21 <- Tabel_uitval_functiebeperking[2,1]\n",
    "n22 <- Tabel_uitval_functiebeperking[2,2]\n",
    "NN <- sum(Tabel_uitval_functiebeperking)\n",
    "\n",
    "# Bereken verwachte aantallen\n",
    "En11 <- ((n11 + n12) * (n11 + n21) / NN)\n",
    "En12 <- ((n11 + n12) * (n12 + n22) / NN)\n",
    "En21 <- ((n21 + n22) * (n11 + n21) / NN)\n",
    "En22 <- ((n21 + n22) * (n12 + n22) / NN)\n"
   ]
  },
  {
   "cell_type": "markdown",
   "id": "6245e8b8",
   "metadata": {},
   "source": [
    "<!-- ## /CLOSEDBLOK: Groepsgrootte2.R -->"
   ]
  },
  {
   "cell_type": "markdown",
   "id": "c5fc8259",
   "metadata": {},
   "source": [
    "<!-- ## TEKSTBLOK: Groepsgrootte1.R -->\n",
    "\n",
    "|                      | geen uitval   | uitval | totaal | \n",
    "| -------------------- | ---------| ------------| -------------| \n",
    "| **geen leenstelsel** |`r n11`   | `r n12`          | **`r n11 + n12`**|\n",
    "| **wel leenstelsel**  |`r n21`   | `r n22`          | **`r n21 + n22`**|\n",
    "|**totaal**            |**`r n11 + n21`**   | **`r n12 + n22`**     | **`r NN`** |\n",
    "*Tabel 1. Geobserveerde aantallen casus uitval met of zonder leenstelsel*"
   ]
  },
  {
   "cell_type": "markdown",
   "id": "440427db",
   "metadata": {},
   "source": [
    "De *Chi-kwadraat toets voor onafhankelijkheid* wordt onbetrouwbaar als er in meer dan 20% van de cellen van de kruistabel een verwacht aantal observaties van 5 of lager is. Gebruik in dat geval *Fisher's exacte toets*.[^8] Het verwacht aantal observaties in een cel is het aantal observaties dat zich in een cel op basis van kansrekening zou moeten bevinden wanneer er geen afhankelijkheid tussen de twee variabelen is. Op basis van de nulhypothese van onafhankelijkheid tussen de variabelen kunnen de verwachte aantallen observaties in elke cel berekend worden. Een voorbeeldberekening van het verwacht aantal observaties voor de cel linksboven (geen leenstelsel; geen uitval) werkt als volgt: vermenigvuldig het totaal aantal studenten in de groep geen leenstelsel (`r n11 + n12`) met het totaal aantal studenten dat niet uitvalt (`r n11 + n21`) en deel dit door het totaal aantal studenten (`r NN`).\n",
    "\n",
    "* aantal studenten geen leenstelsel: `r n11 + n12`   \n",
    "* aantal studenten geen uitval: `r n11 + n21`  \n",
    "* totaal aantal studenten: `r NN`\n",
    "* verwacht aantal uitgevallen studenten geen leenstelsel: `r n11 + n12` * `r n11 + n21` / `r NN` ≈ `r Round_and_format((n11 + n12) * (n11 + n21) / NN)` \n",
    "\n",
    "Alle verwachte aantallen observaties zijn te vinden in Tabel 2. Merk ook op dat de totalen in de rijen en kolommen gelijk zijn aan de totalen in Tabel 1, de kruistabel met de aantallen observaties. Geen van de verwachte aantallen is kleiner of gelijk aan vijf, dus er is voldaan aan de assumptie van groepsgrootte voor de *Chi-kwadraat toets voor onafhankelijkheid*."
   ]
  },
  {
   "cell_type": "markdown",
   "id": "44d17e36",
   "metadata": {},
   "source": [
    "|                      | geen uitval   | uitval | totaal | \n",
    "| -------------------- | ---------| ------------| -------------| \n",
    "| **geen leenstelsel** |`r Round_and_format(En11)`   | `r Round_and_format(En12)`          | **`r Round_and_format(En11 + En12)`**|\n",
    "| **wel leenstelsel**  |`r Round_and_format(En21)`   | `r Round_and_format(En22)`          | **`r Round_and_format(En21 + En22)`**|\n",
    "|**totaal**            |**`r Round_and_format(En11 + En21)`**   | **`r Round_and_format(En12 + En22)`**     | **`r NN`** |\n",
    "*Tabel 2. Verwachte aantallen casus uitval met of zonder leenstelsel*\n",
    "<!-- ## /TEKSTBLOK: Groepsgrootte1.R -->"
   ]
  },
  {
   "cell_type": "markdown",
   "id": "552e6cdd",
   "metadata": {},
   "source": [
    "# Effectmaat\n",
    "\n",
    "De p-waarde geeft aan of een (mogelijk) verschil tussen twee groepen statistisch significant is. De grootte van het verschil of effect is echter ook relevant. Een effectmaat is een gestandaardiseerde maat die de grootte van een effect weergeeft, zodat effecten van verschillende onderzoeken met elkaar vergeleken kunnen worden.[^7] \n",
    "De *Chi-kwadraat toets voor onafhankelijkheid* heeft als effectmaat Cohen's *w*.[^9] Een indicatie om Cohen's *w* te interpreteren is: rond 0,1 is het een klein effect, rond 0,3 is het een gemiddeld effect en rond 0,5 is het een groot effect.[^10]\n",
    "\n",
    "De odds ratio is een andere effectmaat die voor zowel de *Chi-kwadraat toets voor onafhankelijkheid* als de *Fisher's exacte toets* kan worden gebruikt. Een voorwaarde is echter dat beide variabelen binair zijn. In andere woorden, er moet een 2x2 kruistabel gevormd kunnen worden. Odds is een Engelse term voor de verhouding van twee kansen, bijvoorbeeld de verhouding tussen het aantal studenten dat uitvalt en niet uitvalt. Een odds ratio is de verhouding tussen twee odds, dus de verhouding van de odds van studentenuitval voor de periode met leenstelsel en de periode zonder leenstelsel. De odds ratio geeft dus een interpretatie van het effect van een leenstelsel op het uitvallen van studenten.[^7]"
   ]
  },
  {
   "cell_type": "markdown",
   "id": "90dd2bbc",
   "metadata": {
    "lines_to_next_cell": 0
   },
   "source": [
    "# De data bekijken\n",
    "\n",
    "<!-- ## TEKSTBLOK: Data-bekijken1.R -->\n",
    "Er is een dataset ingeladen genaamd `Uitval_studenten_functiebeperking_leenstelsel`. In deze dataset is voor elke student met een functiebeperking aangegeven of ze studeerden voor of na invoering van het leenstelsel en of ze wel of niet uitgevallen zijn.\n",
    "<!-- ## /TEKSTBLOK: Data-bekijken1.R -->\n",
    "\n",
    "<!-- ## OPENBLOK: Data-bekijken2.R -->"
   ]
  },
  {
   "cell_type": "code",
   "execution_count": null,
   "id": "358a4e3d",
   "metadata": {
    "collapse": true,
    "lines_to_next_cell": 0,
    "name": "data bekijken"
   },
   "outputs": [],
   "source": [
    "## Eerste 6 observaties\n",
    "head(Uitval_studenten_functiebeperking_leenstelsel)\n",
    "\n",
    "## Laatste 6 observaties\n",
    "tail(Uitval_studenten_functiebeperking_leenstelsel)"
   ]
  },
  {
   "cell_type": "markdown",
   "id": "34c3b64e",
   "metadata": {},
   "source": [
    "<!-- ## /OPENBLOK: Data-bekijken2.R -->\n",
    "\n",
    "<!-- ## TEKSTBLOK: Data-kruistabel1.R -->\n",
    "Een kruistabel geeft de aantallen observaties weer voor de combinaties van de categorieën van de variabelen `Periode` en `Uitval`. Maak de kruistabel met de functie `table()` met als argumenten de variabele `Uitval_studenten_functiebeperking_leenstelsel$Periode` (voor of na invoering leenstelsel) en `Uitval_studenten_functiebeperking_leenstelsel$Uitval` (wel of niet uitgevallen). \n",
    "<!-- ## /TEKSTBLOK: Data-kruistabel1.R -->\n",
    "\n",
    "<!-- ## OPENBLOK: Data-kruistabel2.R -->"
   ]
  },
  {
   "cell_type": "code",
   "execution_count": null,
   "id": "e8c42160",
   "metadata": {
    "lines_to_next_cell": 0,
    "name": "kruistabel"
   },
   "outputs": [],
   "source": [
    "\n",
    "## Maak een kruistabel\n",
    "Uitval_studenten_kruistabel <- table(Uitval_studenten_functiebeperking_leenstelsel$Periode, Uitval_studenten_functiebeperking_leenstelsel$Uitval)\n",
    "\n",
    "## Print de kruistabel \n",
    "print(Uitval_studenten_kruistabel)\n",
    "\n",
    "## Print een tabel met proporties, tweede argument 2 zorgt ervoor dat de \n",
    "## proporties per rij berekend worden\n",
    "prop.table(Uitval_studenten_kruistabel, 1)"
   ]
  },
  {
   "cell_type": "markdown",
   "id": "2ddaede6",
   "metadata": {},
   "source": [
    "<!-- ## /OPENBLOK: Data-kruistabel2.R -->\n",
    "\n",
    "<!-- ## TEKSTBLOK: Data-kruistabel3.R -->\n",
    "De kruistabel en bijbehorende tabel met proporties laat zien dat het percentage uitgevallen studenten hoger is na invoering van het leenstelsel (`r Round_and_format(100 * prop.table(Uitval_studenten_kruistabel, 1)[2,2])`%) dan voor invoering van het leenstelsel (`r Round_and_format(100 * prop.table(Uitval_studenten_kruistabel, 1)[1,2])`%).\n",
    "<!-- ## /TEKSTBLOK: Data-kruistabel3.R -->"
   ]
  },
  {
   "cell_type": "markdown",
   "id": "5fa9ac32",
   "metadata": {
    "lines_to_next_cell": 0
   },
   "source": [
    "## Assumptie groepsgrootte\n",
    "\n",
    "<!-- ## TEKSTBLOK: Assumptie.R -->\n",
    "Toets de assumptie dat niet meer dan 20% van de verwachte aantallen observaties gelijk aan of kleiner dan vijf is. Bereken het verwacht aantal observaties met het argument `chisq.test()$expected` van de functie `chisq.test()` met als argumenten de variabelen `Uitval_studenten_functiebeperking_leenstelsel$Periode` (voor of na invoering leenstelsel) en `Uitval_studenten_functiebeperking_leenstelsel$Uitval` (wel of niet uitgevallen). \n",
    "<!-- ## /TEKSTBLOK: Assumptie.R -->\n",
    "\n",
    "<!-- ## OPENBLOK: Assumptie1.R -->"
   ]
  },
  {
   "cell_type": "code",
   "execution_count": null,
   "id": "4992c6fc",
   "metadata": {
    "lines_to_next_cell": 0,
    "name": "chi2 assumptie"
   },
   "outputs": [],
   "source": [
    "chisq.test(Uitval_studenten_functiebeperking_leenstelsel$Periode,\n",
    "           Uitval_studenten_functiebeperking_leenstelsel$Uitval)$expected"
   ]
  },
  {
   "cell_type": "markdown",
   "id": "37aed778",
   "metadata": {},
   "source": [
    "<!-- ## /OPENBLOK: Assumptie1.R -->\n",
    "\n",
    "Geen van de verwachte aantallen observaties is gelijk aan of kleiner dan vijf, dus de *Chi-kwadraat toets voor onafhankelijkheid* kan worden uitgevoerd."
   ]
  },
  {
   "cell_type": "markdown",
   "id": "a9183e0d",
   "metadata": {
    "lines_to_next_cell": 0
   },
   "source": [
    "# Chi-kwadraat toets voor onafhankelijkheid\n",
    "## Uitvoering\n",
    "<!-- ## TEKSTBLOK: Chi2-toets-1.R -->\n",
    "De *Chi-kwadraat toets voor onafhankelijkheid* wordt uitgevoerd om de vraag te beantwoorden of er een afhankelijkheid is tussen het uitvallen van studenten met een functiebeperking en het wel of niet invoeren van het leenstelsel. Gebruik de functie `chisq.test()` met als argumenten de variabelen `Uitval_studenten_functiebeperking_leenstelsel$Periode` (voor of na invoering leenstelsel) en `Uitval_studenten_functiebeperking_leenstelsel$Uitval` (wel of niet uitgevallen). \n",
    "<!-- ## /TEKSTBLOK: Chi2-toets-1.R -->\n",
    "\n",
    "<!-- ## OPENBLOK: Chi2-toets-2.R -->"
   ]
  },
  {
   "cell_type": "code",
   "execution_count": null,
   "id": "6e04c5e3",
   "metadata": {
    "lines_to_next_cell": 0,
    "name": "chi2 toets"
   },
   "outputs": [],
   "source": [
    "chisq.test(Uitval_studenten_functiebeperking_leenstelsel$Periode,\n",
    "           Uitval_studenten_functiebeperking_leenstelsel$Uitval)"
   ]
  },
  {
   "cell_type": "markdown",
   "id": "34d959ae",
   "metadata": {
    "lines_to_next_cell": 0
   },
   "source": [
    "<!-- ## /OPENBLOK: Chi2-toets-2.R -->\n",
    "\n",
    "Bereken de effectmaat Cohen's *w* vervolgens op basis van de &chi;^2^-waarde van de *Chi-kwadraat toets voor onafhankelijkheid*.\n",
    "<!-- ## OPENBLOK: Chi2-toets-3.R -->"
   ]
  },
  {
   "cell_type": "code",
   "execution_count": null,
   "id": "aaf99d7a",
   "metadata": {
    "lines_to_next_cell": 0,
    "name": "effectsize"
   },
   "outputs": [],
   "source": [
    "# Sla de teststatistiek op\n",
    "Chi2_teststatistiek <- chisq.test(Tabel_uitval_functiebeperking)$statistic\n",
    "\n",
    "# Bereken het totaal aantal observaties als som van de kruistabel\n",
    "N <- sum(Tabel_uitval_functiebeperking)\n",
    "\n",
    "# Bereken eta squared\n",
    "w <- sqrt(Chi2_teststatistiek / N)\n",
    "\n",
    "# Print de effectgrootte\n",
    "paste(\"De effectgrootte is\",w)\n",
    "\n"
   ]
  },
  {
   "cell_type": "markdown",
   "id": "b52aeeac",
   "metadata": {},
   "source": [
    "<!-- ## /OPENBLOK: Chi2-toets-3.R -->"
   ]
  },
  {
   "cell_type": "markdown",
   "id": "2818db1f",
   "metadata": {
    "lines_to_next_cell": 0
   },
   "source": [
    "<!-- ## CLOSEDBLOK: Chi2-toets-4.R -->"
   ]
  },
  {
   "cell_type": "code",
   "execution_count": null,
   "id": "1518c10b",
   "metadata": {
    "echo": true,
    "lines_to_next_cell": 0,
    "name": "chi2 als object",
    "tags": [
     "remove_cell"
    ]
   },
   "outputs": [],
   "source": [
    "Chi2 <- chisq.test(Tabel_uitval_functiebeperking)\n",
    "vChi2 <- Round_and_format(Chi2$statistic)\n",
    "vP <- Round_and_format(Chi2$p.value)\n",
    "vDF <- Chi2$parameter"
   ]
  },
  {
   "cell_type": "markdown",
   "id": "4f7f000d",
   "metadata": {
    "lines_to_next_cell": 0
   },
   "source": [
    "<!-- ## /CLOSEDBLOK: Chi2-toets-4.R -->\n",
    "\n",
    "<!-- ## TEKSTBLOK: Chi2-toets-5.R-->\n",
    "* &chi;^2^ ~1~ = `r vChi2`, *p* = `r vP`, *w* = `r Round_and_format(w)`  \n",
    "* Vrijheidsgraden: *df* = (*k*-1)(*r*-1), waar *k* staat voor kolom en *r* voor rij. In dit geval geldt *df* = `r vDF`.  \n",
    "* p-waarde < 0,05, dus de H~0~ wordt verworpen.[^11]\n",
    "* Effectmaat is `r Round_and_format(w)`, dus een klein effect\n",
    "\n",
    "<!-- ## /TEKSTBLOK: Chi2-toets-5.R-->\n",
    "\n",
    "## Rapportage\n",
    "\n",
    "<!-- ## CLOSEDBLOK: Rapportage1.R -->"
   ]
  },
  {
   "cell_type": "code",
   "execution_count": null,
   "id": "3b960d11",
   "metadata": {
    "echo": true,
    "lines_to_next_cell": 0,
    "name": "kruistabel rapportage",
    "tags": [
     "remove_cell"
    ]
   },
   "outputs": [],
   "source": [
    "## Maak een kruistabel\n",
    "Uitval_studenten_kruistabel <- table(Uitval_studenten_functiebeperking_leenstelsel$Periode, Uitval_studenten_functiebeperking_leenstelsel$Uitval)\n",
    "\n",
    "## Print de kruistabel \n",
    "print(Uitval_studenten_kruistabel)\n",
    "\n",
    "## Print een tabel met proporties, tweede argument 2 zorgt ervoor dat de \n",
    "## proporties per rij berekend worden\n",
    "ptable <- prop.table(Uitval_studenten_kruistabel, 1)"
   ]
  },
  {
   "cell_type": "markdown",
   "id": "4e778f29",
   "metadata": {},
   "source": [
    "<!-- ## /CLOSEDBLOK: Rapportage1.R -->"
   ]
  },
  {
   "cell_type": "markdown",
   "id": "f2053700",
   "metadata": {},
   "source": [
    "<!-- ## TEKSTBLOK: Rapportage2.R -->\n",
    "De *Chi-kwadraat toets voor onafhankelijkheid* is uitgevoerd om te toetsen of er een afhankelijkheid is tussen het uitvallen van studenten met een functiebeperking en het wel of niet invoeren van het leenstelsel. De nulhypothese dat uitval en invoering van het leenstelsel onafhankelijk zijn kan verworpen worden, &chi;^2^ ~`r vDF`~ = `r vChi2`, *p* = `r vP`, *w* = `r Round_and_format(w)`. De propoties per rij in Tabel 3 laten zien dat er relatief meer studenten uitvallen nadat er een leenstelsel is ingevoerd.\n",
    "\n",
    "|                      | geen uitval   | uitval | \n",
    "| -------------------- | ---------| ------------| \n",
    "| **geen leenstelsel** |`r Round_and_format(ptable[1,1])`   | `r Round_and_format(ptable[1,2])`          | \n",
    "| **wel leenstelsel**  |`r Round_and_format(ptable[2,1])`   | `r Round_and_format(ptable[2,2])`          |\n",
    "*Tabel 3. Proporties wel of niet uitvallen studenten met of zonder leenstelsel berekend per rij.*\n",
    "<!-- ## /TEKSTBLOK: Rapportage2.R -->\n"
   ]
  },
  {
   "cell_type": "markdown",
   "id": "13b587aa",
   "metadata": {},
   "source": [
    "# Fisher's exacte toets\n",
    "## Uitvoering \n",
    "<!-- ## TEKSTBLOK: Data-inladen-Fisher.R -->\n",
    "*Fisher's exacte toets* wordt uitgevoerd om de vraag te beantwoorden of er een afhankelijkheid is tussen het uitvallen van studenten met een functiebeperking en het wel of niet invoeren van het leenstelsel. Deze toets is ook betrouwbaar bij een laag aantal observaties. Om de toets te illustreren is een subset van de dataset `Uitval_studenten_functiebeperking_leenstelsel` ingeladen; de subset heet `Fisher_Uitval_studenten_functiebeperking_leenstelsel`.\n",
    "\n",
    "Een kruistabel geeft de aantallen observaties weer voor de combinaties van de categorieën van de variabelen `Periode` en `Uitval`. Maak de kruistabel met de functie `table()` met als argumenten de variabele `Fisher_Uitval_studenten_functiebeperking_leenstelsel$Periode` (voor of na invoering leenstelsel) en `Fisher_Uitval_studenten_functiebeperking_leenstelsel$Uitval` (wel of niet uitgevallen). \n",
    "<!-- ## /TEKSTBLOK: Data-inladen-Fisher.R -->\n",
    "\n",
    "<!-- ## OPENBLOK: Data-kruistabel2Fisher.R -->"
   ]
  },
  {
   "cell_type": "code",
   "execution_count": null,
   "id": "69bdf9f4",
   "metadata": {
    "lines_to_next_cell": 0,
    "name": "kruistabel fisher"
   },
   "outputs": [],
   "source": [
    "\n",
    "## Maak een kruistabel\n",
    "Fisher_Uitval_studenten_kruistabel <- table(Fisher_Uitval_studenten_functiebeperking_leenstelsel$Periode, Fisher_Uitval_studenten_functiebeperking_leenstelsel$Uitval)\n",
    "\n",
    "## Print de kruistabel \n",
    "print(Fisher_Uitval_studenten_kruistabel)\n",
    "\n",
    "## Print een tabel met proporties, tweede argument 2 zorgt ervoor dat de \n",
    "## proporties per rij berekend worden\n",
    "prop.table(Fisher_Uitval_studenten_kruistabel, 1)"
   ]
  },
  {
   "cell_type": "markdown",
   "id": "14318295",
   "metadata": {},
   "source": [
    "<!-- ## /OPENBLOK: Data-kruistabel2Fisher.R -->\n",
    "\n",
    "<!-- ## TEKSTBLOK: Data-kruistabel3Fisher.R -->\n",
    "De kruistabel en bijbehorende tabel met proporties laat zien dat het percentage uitgevallen studenten hoger is na invoering van het leenstelsel (`r Round_and_format(100 * prop.table(Fisher_Uitval_studenten_kruistabel, 1)[2,2])`%) dan voor invoering van het leenstelsel (`r Round_and_format(100 * prop.table(Fisher_Uitval_studenten_kruistabel, 1)[1,2])`%).\n",
    "<!-- ## /TEKSTBLOK: Data-kruistabel3Fisher.R -->"
   ]
  },
  {
   "cell_type": "markdown",
   "id": "9a0b4309",
   "metadata": {
    "lines_to_next_cell": 0
   },
   "source": [
    "## Assumptie groepsgrootte\n",
    "\n",
    "<!-- ## TEKSTBLOK: AssumptieFisher.R -->\n",
    "Toets de assumptie dat niet meer dan 20% van de verwachte aantallen observaties gelijk aan of kleiner dan vijf is. Bereken het verwachte aantal observaties met het argument `chisq.test()$expected` van de functie `chisq.test()` met als argumenten de variabelen `Fisher_Uitval_studenten_functiebeperking_leenstelsel$Periode` (voor of na invoering leenstelsel) en `Fisher_Uitval_studenten_functiebeperking_leenstelsel$Uitval` (wel of niet uitgevallen). \n",
    "<!-- ## /TEKSTBLOK: AssumptieFisher.R -->\n",
    "\n",
    "<!-- ## OPENBLOK: Assumptie1Fisher.R -->"
   ]
  },
  {
   "cell_type": "code",
   "execution_count": null,
   "id": "4a26b014",
   "metadata": {
    "lines_to_next_cell": 0,
    "name": "chi2 fisher"
   },
   "outputs": [],
   "source": [
    "chisq.test(Fisher_Uitval_studenten_functiebeperking_leenstelsel$Periode,\n",
    "           Fisher_Uitval_studenten_functiebeperking_leenstelsel$Uitval)$expected"
   ]
  },
  {
   "cell_type": "markdown",
   "id": "1ccd9a8b",
   "metadata": {},
   "source": [
    "<!-- ## /OPENBLOK: Assumptie1Fisher.R -->\n",
    "\n",
    "Een van de verwachte aantallen observaties is kleiner dan vijf, dus de *Chi-kwadraat toets voor onafhankelijkheid* kan niet worden uitgevoerd. *Fisher's exacte toets* moet inderdaad gebruikt worden voor deze dataset."
   ]
  },
  {
   "cell_type": "markdown",
   "id": "18164f3f",
   "metadata": {},
   "source": [
    "## Fisher's exacte toets\n",
    "\n",
    "<!-- ## TEKSTBLOK: Fisher1.R -->\n",
    "Voer *Fisher's exacte toets* uit met de functie `fisher.test` met als argumenten de variabelen `Fisher_Uitval_studenten_functiebeperking_leenstelsel$Periode` (voor of na invoering leenstelsel) en `Fisher_Uitval_studenten_functiebeperking_leenstelsel$Uitval` (wel of niet uitgevallen). \n",
    "<!-- ## /TEKSTBLOK: Fisher1.R -->"
   ]
  },
  {
   "cell_type": "markdown",
   "id": "5258beea",
   "metadata": {
    "lines_to_next_cell": 0
   },
   "source": [
    "<!-- ## OPENBLOK: Fishers-Exact-toets.R -->"
   ]
  },
  {
   "cell_type": "code",
   "execution_count": null,
   "id": "f2605c34",
   "metadata": {
    "lines_to_next_cell": 0,
    "name": "fishers exact"
   },
   "outputs": [],
   "source": [
    "fisher.test(Fisher_Uitval_studenten_functiebeperking_leenstelsel$Periode,\n",
    "           Fisher_Uitval_studenten_functiebeperking_leenstelsel$Uitval)"
   ]
  },
  {
   "cell_type": "markdown",
   "id": "07cb81fa",
   "metadata": {},
   "source": [
    "<!-- ## /OPENBLOK: Fishers-Exact-toets.R -->"
   ]
  },
  {
   "cell_type": "markdown",
   "id": "22650938",
   "metadata": {
    "lines_to_next_cell": 0
   },
   "source": [
    "<!-- ## CLOSEDBLOK: Fishers-Exact-toets.R -->"
   ]
  },
  {
   "cell_type": "code",
   "execution_count": null,
   "id": "184b8348",
   "metadata": {
    "echo": true,
    "lines_to_next_cell": 0,
    "name": "fishers exact als object",
    "tags": [
     "remove_cell"
    ]
   },
   "outputs": [],
   "source": [
    "fish <- fisher.test(Fisher_Uitval_studenten_functiebeperking_leenstelsel$Periode,\n",
    "           Fisher_Uitval_studenten_functiebeperking_leenstelsel$Uitval)\n",
    "vF_p <- Round_and_format(fish$p.value)\n",
    "vConf.int1 <- Round_and_format(fish$conf.int[1])\n",
    "vConf.int2 <- Round_and_format(fish$conf.int[2])\n",
    "vOR <- Round_and_format(fish$estimate)"
   ]
  },
  {
   "cell_type": "markdown",
   "id": "530623bb",
   "metadata": {},
   "source": [
    "<!-- ## /CLOSEDBLOK: Fishers-Exact-toets.R -->\n",
    "\n",
    "<!-- ## TEKSTBLOK: Fishers-Exact-toets.R -->\n",
    "* *p* = `r vF_p`; p-waarde > 0,05, dus de H~0~ wordt niet verworpen.[^11]  \n",
    "* De odds ratio is `r vOR` met een 95%-betrouwbaarheidsinterval van `r vConf.int1` tot `r vConf.int2`. De kans op uitval van studenten met een functiebeperking met leenstelsel is dus `r vOR` keer zo groot is als de kans op uitval van studenten met een functiebeperking zonder het leenstelsel. Deze relatie is echter niet significant.\n",
    "\n",
    "<!-- ## /TEKSTBLOK: Fishers-Exact-toets.R -->\n"
   ]
  },
  {
   "cell_type": "markdown",
   "id": "bfc45ba2",
   "metadata": {
    "lines_to_next_cell": 0
   },
   "source": [
    "## Rapportage\n",
    "\n",
    "<!-- ## CLOSEDBLOK: Rapportage1Fisher.R -->"
   ]
  },
  {
   "cell_type": "code",
   "execution_count": null,
   "id": "a94fb123",
   "metadata": {
    "echo": true,
    "lines_to_next_cell": 0,
    "name": "kruistabel rapportage fisher",
    "tags": [
     "remove_cell"
    ]
   },
   "outputs": [],
   "source": [
    "## Maak een kruistabel\n",
    "Fisher_Uitval_studenten_kruistabel <- table(Fisher_Uitval_studenten_functiebeperking_leenstelsel$Periode, Fisher_Uitval_studenten_functiebeperking_leenstelsel$Uitval)\n",
    "\n",
    "## Print de kruistabel \n",
    "print(Fisher_Uitval_studenten_kruistabel)\n",
    "\n",
    "## Print een tabel met proporties, tweede argument 2 zorgt ervoor dat de \n",
    "## proporties per rij berekend worden\n",
    "Fisher_ptable <- prop.table(Fisher_Uitval_studenten_kruistabel, 1)"
   ]
  },
  {
   "cell_type": "markdown",
   "id": "342f2835",
   "metadata": {},
   "source": [
    "<!-- ## /CLOSEDBLOK: Rapportage1Fisher.R -->"
   ]
  },
  {
   "cell_type": "markdown",
   "id": "f647f925",
   "metadata": {},
   "source": [
    "<!-- ## TEKSTBLOK: Rapportage2Fisher.R -->\n",
    "*Fisher's exacte toets* is uitgevoerd om te toetsen of er een afhankelijkheid is tussen het uitvallen van studenten met een functiebeperking en het wel of niet invoeren van het leenstelsel. De nulhypothese dat uitval en invoering van het leenstelsel onafhankelijk zijn kan niet verworpen worden, *p* = `r vF_p`. De proporties per rij in Tabel 4 laten zien dat er relatief meer studenten uitvallen nadat er een leenstelsel is ingevoerd, dit verschil is echter niet significant.\n",
    "\n",
    "|                      | geen uitval   | uitval | \n",
    "| -------------------- | ---------| ------------| \n",
    "| **geen leenstelsel** |`r Round_and_format(Fisher_ptable[1,1])`   | `r Round_and_format(Fisher_ptable[1,2])`          | \n",
    "| **wel leenstelsel**  |`r Round_and_format(Fisher_ptable[2,1])`   | `r Round_and_format(Fisher_ptable[2,2])`          |\n",
    "*Tabel 4. Proporties wel of niet uitvallen studenten met of zonder leenstelsel berekend per rij voor dataset Fisher's exacte toets.*\n",
    "<!-- ## /TEKSTBLOK: Rapportage2Fisher.R -->\n",
    "\n"
   ]
  },
  {
   "cell_type": "markdown",
   "id": "699ff1f2",
   "metadata": {
    "lines_to_next_cell": 0
   },
   "source": [
    "<!-- ## CLOSEDBLOK: Footer.R -->"
   ]
  },
  {
   "cell_type": "code",
   "execution_count": null,
   "id": "a1bbd4bc",
   "metadata": {
    "code": "#R_CODE#readLines(paste0(here::here(),\"/01. Includes/code/Footer.R\"))",
    "include": true,
    "lines_to_next_cell": 0,
    "name": "footer",
    "results": "asis",
    "tags": [
     "remove_input"
    ]
   },
   "outputs": [],
   "source": []
  },
  {
   "cell_type": "markdown",
   "id": "a81df5d5",
   "metadata": {},
   "source": [
    "<!-- ## /CLOSEDBLOK: Footer.R -->\n",
    "\n",
    "[^1]: Binaire variabelen: twee elkaar uitsluitende waarden, zoals ja of nee, 0 of 1, aan of uit. \n",
    "[^2]: Prabhakaran, S. (2016-2017). *Statistical Tests*. http://r-statistics.co/Statistical-Tests-in-R.html.\n",
    "[^4]: Van Geloven, N., & Holman, R., (6 mei 2016). *Fisher's exact toets*. [Wiki Statistiek Academisch Medisch Centrum](https://wikistatistiek.amc.nl/index.php/Fisher's_exact_toets).\n",
    "[^5]: Een ordinale variabele is een categorische variabele waarbij de categorieën geordend kunnen worden. Een voorbeeld is de variabele beoordeling met de categorieën Onvoldoende, Voldoende, Goed en Uitstekend.\n",
    "[^6]: Een nominale variabele is een categorische variabele waarbij de categorieën niet geordend kunnen worden. Een voorbeeld is de variabele windstreek (noord, oost, zuid, west) en geslacht (man of vrouw).\n",
    "[^7]: Field, A., Miles, J., & Field, Z. (2012). *Discovering statistics using R*. London: Sage publications.\n",
    "[^8]: Van Geloven, N. (20 augustus 2015). *Chi-kwadraat toets*. [Wiki Statistiek Academisch Medisch Centrum](https://wikistatistiek.amc.nl/index.php/Chi-kwadraat_toets).\n",
    "[^9]: De effectmaat Cohen's *w* wordt voor de *Chi-kwadraat toets* berekend door de wortel te nemen van de\n",
    "&chi;^2^-waarde gedeeld door het totaal aantal observaties, i.e. $\\sqrt{ \\frac{\\chi^2}{N} }$.\n",
    "[^10]: Allen, P. & Bennett, K. (2012). *SPSS A practical Guide version 20.0*. Cengage Learning Australia Pty Limited.\n",
    "[^11]: In dit voorbeeld wordt uitgegaan van een waarschijnlijkheid van 95% c.q. een p-waardegrens van 0,05. De grens is naar eigen inzicht aan te passen; houd hierbij rekening met type I en type II fouten."
   ]
  },
  {
   "cell_type": "markdown",
   "id": "73a33ece",
   "metadata": {},
   "source": [
    "<!-- ## TEKSTBLOK: Extra-Bron.R -->\n",
    "\n",
    "<!-- ## /TEKSTBLOK: Extra-Bron.R -->"
   ]
  }
 ],
 "metadata": {
  "jupytext": {
   "cell_metadata_filter": "message,tags,name,warning,echo,code,results,collapse,include,eval,-all",
   "main_language": "R",
   "notebook_metadata_filter": "-all"
  }
 },
 "nbformat": 4,
 "nbformat_minor": 5
}
