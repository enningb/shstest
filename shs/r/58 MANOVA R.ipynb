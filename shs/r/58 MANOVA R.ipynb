{
 "cells": [
  {
   "cell_type": "raw",
   "id": "3d1f9f6b",
   "metadata": {},
   "source": [
    "---\n",
    "title: \"MANOVA\"\n",
    "output:\n",
    "  html_document:\n",
    "    theme: lumen\n",
    "    toc: yes\n",
    "    toc_depth: 2\n",
    "    toc_float: \n",
    "      collapsed: FALSE \n",
    "    number_sections: true\n",
    "    includes:\n",
    "      in_header: [\"../01. Includes/html/nocache.html\", \"../01. Includes/html/favicon.html\", \"../01. Includes/html/analytics.html\"]\n",
    "  keywords: [statistisch handboek, studiedata]\n",
    "---"
   ]
  },
  {
   "cell_type": "markdown",
   "id": "024b7375",
   "metadata": {
    "lines_to_next_cell": 0
   },
   "source": [
    "<!-- ## CLOSEDBLOK: Functies.R -->"
   ]
  },
  {
   "cell_type": "code",
   "execution_count": null,
   "id": "2b800be9",
   "metadata": {
    "include": true,
    "lines_to_next_cell": 0,
    "message": false,
    "name": "functies",
    "results": "asis",
    "tags": [
     "remove_input"
    ],
    "warning": false
   },
   "outputs": [],
   "source": [
    "library(here)\n",
    "if (!exists(\"Substitute_var\")) {\n",
    "  ## Installeer packages en functies\n",
    "  source(paste0(here::here(), \"/99. Functies en Libraries/00. Voorbereidingen.R\"), echo = FALSE)\n",
    "}"
   ]
  },
  {
   "cell_type": "markdown",
   "id": "c094b255",
   "metadata": {
    "lines_to_next_cell": 0
   },
   "source": [
    "<!-- ## /CLOSEDBLOK: Functies.R -->\n",
    "\n",
    "<!-- ## CLOSEDBLOK: CSS -->\n",
    "<style>\n",
    "`r htmltools::includeHTML(paste0(here::here(),\"/01. Includes/css/Stylesheet_SHHO.css\"))`\n",
    "</style>\n",
    "<!-- ## /CLOSEDBLOK: CSS -->\n",
    "\n",
    "<!-- ## CLOSEDBLOK: Header.R -->"
   ]
  },
  {
   "cell_type": "code",
   "execution_count": null,
   "id": "94d3682c",
   "metadata": {
    "code": "#R_CODE#readLines(paste0(here::here(),\"/01. Includes/code/Header.R\"))",
    "include": true,
    "lines_to_next_cell": 0,
    "name": "header",
    "results": "asis",
    "tags": [
     "remove_input"
    ]
   },
   "outputs": [],
   "source": []
  },
  {
   "cell_type": "markdown",
   "id": "c6a3ba8a",
   "metadata": {
    "lines_to_next_cell": 0
   },
   "source": [
    "<!-- ## /CLOSEDBLOK: Header.R -->\n",
    "\n",
    "<!-- ## CLOSEDBLOK: Status.R -->"
   ]
  },
  {
   "cell_type": "code",
   "execution_count": null,
   "id": "508fc6e3",
   "metadata": {
    "code": "#R_CODE#readLines(paste0(here::here(),\"/01. Includes/code/Status.R\"))",
    "include": true,
    "lines_to_next_cell": 0,
    "name": "status",
    "results": "asis",
    "tags": [
     "remove_input"
    ]
   },
   "outputs": [],
   "source": []
  },
  {
   "cell_type": "markdown",
   "id": "c94e33a4",
   "metadata": {
    "lines_to_next_cell": 0
   },
   "source": [
    "<!-- ## /CLOSEDBLOK: Status.R -->\n",
    "\n",
    "<!-- ## CLOSEDBLOK: Reticulate.R -->\n",
    "\n",
    "<!-- ## /CLOSEDBLOK: Reticulate.R -->\n",
    "\n",
    "<!-- ## OPENBLOK: Data-aanmaken.R -->"
   ]
  },
  {
   "cell_type": "code",
   "execution_count": null,
   "id": "da643a71",
   "metadata": {
    "echo": true,
    "lines_to_next_cell": 0,
    "name": "aanmaken data",
    "tags": [
     "remove_cell"
    ]
   },
   "outputs": [],
   "source": [
    "source(paste0(here::here(),\"/01. Includes/data/58.R\"))"
   ]
  },
  {
   "cell_type": "markdown",
   "id": "bdf3fce2",
   "metadata": {
    "lines_to_next_cell": 0
   },
   "source": [
    "<!-- ## /OPENBLOK: Data-aanmaken.R -->\n",
    "\n",
    "# Toepassing\n",
    "\n",
    "Gebruik de *MANOVA* om te toetsen of groepen gebaseerd op één of meer onafhankelijke categorische variabelen van elkaar verschillen voor meerdere afhankelijke variabelen tegelijk. In de casus behorend bij deze toetspagina is er één onafhankelijke variabele die de groepen definieert. Er wordt dus een *one-way MANOVA* uitgevoerd.[^1]<sup>,</sup>[^20]\n",
    "\n",
    "# Onderwijscasus\n",
    "<div id = \"casus\">\n",
    "\n",
    "Bij de masteropleiding Bioinformatics worden studenten met een bachelor Biologie, Wiskunde en Informatica toegelaten. De decaan van de faculteit wil deze toelatingseisen evalueren en onderzoeken of het curriculum aansluit bij de studenten van deze vooropleidingen. Daarom vergelijkt zij de studenten van de drie vooropleidingen wat betreft hun gemiddelde cijfers in periode 1, 2 en 3. Op basis hiervan kan zij de toelaatbaarheid voor de drie bacheloropleidingen heroverwegen of overwegen om daarnaast een aantal specifiek te volgen bachelorvakken op te nemen in de ingangseisen.\n",
    "\n",
    "Dit onderzoek vertaalt zich in de volgende combinatie van hypothesen, waarbij de nulhypothese zo geformuleerd is dat er geen effect of verschil is en de alternatieve hypothese zo geformuleerd is dat er wel een effect of verschil is.\n",
    "\n",
    "*H~0~*: Er is geen verschil tussen de gemiddelde cijfers in periode 1, 2 en 3 voor studenten afkomstig van de bacheloropleidingen Biologie, Wiskunde en Informatica.\n",
    "\n",
    "*H~A~*: Er is een verschil tussen de gemiddelde cijfers van ten minste een van de onderwijsperiodes (periode 1, 2 en 3) voor studenten afkomstig van de bacheloropleidingen Biologie, Wiskunde en Informatica.\n",
    "\n",
    "</div>\n",
    "\n",
    "# MANOVA\n",
    "\n",
    "De *MANOVA* is de multivariate versie van de *ANOVA*. De *ANOVA* toetst een verschil in het gemiddelde van een afhankelijke variabele tussen verschillende groepen. De *MANOVA* vergelijkt ook een verschil tussen groepen, maar nu het verschil in gemiddelden van meerdere afhankelijke variabelen tegelijk. Om precies te zijn wordt er een lineaire combinatie van de afhankelijke variabelen gevonden waarvoor de groepen het meest van elkaar verschillen.\n",
    "\n",
    "Als alternatief voor de *MANOVA* zou er ook voor elke afhankelijke variabele apart een *ANOVA* uitgevoerd kunnen worden. De *MANOVA* heeft twee voordelen ten opzichte van dit alternatief. Allereerst heeft de *MANOVA* een hoger onderscheidend vermogen[^3] om een verschil tussen groepen te vinden, omdat er rekening wordt gehouden met de onderlinge samenhang van de afhankelijke variabelen. Daarnaast heeft de *MANOVA* een kleinere type I fout. Dit is de kans dat de nulhypothese ten onrechte verworpen wordt en er dus een effect gevonden wordt dat er eigenlijk niet is. De reden hiervoor is dat het aantal toetsen verschilt. Bij de *MANOVA* is er slechts één toets, wat een type I fout van 5% oplevert voor een significantieniveau van 0,05. Bij het uitvoeren van meerdere *ANOVA's* is er een type I fout van 5% voor elke afhankelijke variabele. De overall type I fout - de kans dat bij minimaal een van de toetsen de nulhypothese ten onrechte verworpen wordt - is dan logischerwijs hoger dan 5%. De overall type I fout is te berekenen met de formule $1 - (1-\\alpha)^p$ waarbij $p$ het aantal afhankelijke variabelen is en $\\alpha$ het significantieniveau. In de huidige casus zijn er drie afhankelijke variabelen en wordt een significantieniveau van 0,05 gehanteerd. De overall type I fout voor het uitvoeren van meerdere *ANOVA's* zou dus $1 - 0,95^3 = 0,14$ zijn, wat bijna drie keer zo hoog is als de type I fout bij een *MANOVA*.[^20]\n",
    "\n",
    "Net zoals bij de *ANOVA* is de *MANOVA* uit te voeren voor één of meerdere onafhankelijke variabelen. Bij de *one-way MANOVA* worden groepen gebaseerd op één onafhankelijke variabele vergeleken voor meerdere afhankelijke variabelen. Bij de *factoriële MANOVA* worden groepen vergeleken die gebaseerd zijn op meerdere onafhankelijke variabelen. Hierbij kunnen er ook interactie-effecten tussen de onafhankelijke variabelen optreden. In deze toetspagina wordt een voorbeeld van de *one-way MANOVA* uitgewerkt. Op vergelijkbare wijze kan een *factoriële MANOVA* uitgevoerd worden. Voor meer informatie over de aanpak bij meerdere onafhankelijke variabelen, zie de [toetspagina](29-Factoriele-ANOVA-R.html) van de *factoriële ANOVA*.\n",
    "\n",
    "# Procedure\n",
    "\n",
    "De procedure bij de *MANOVA* bestaat uit meerdere stappen. De eerste stap is de *MANOVA* zelf: hierbij wordt onderzocht of er een verschil tussen de groepen is voor minimaal één van de afhankelijke variabelen. Als er in deze stap geen significant resultaat is, dan is de conclusie dat er voor geen enkele afhankelijke variabele een verschil lijkt te zijn tussen de groepen. Als de *MANOVA* wel significant is, dan is de volgende stap om te onderzoeken voor welke afhankelijke variabele(n) er een verschil tussen de groepen is. \n",
    "\n",
    "Voer hiervoor een *ANOVA* uit voor elke afhankelijke variabele apart. Omdat er meerdere toetsen tegelijkertijd worden uitgevoerd, is de overall type I fout hoger. Daarom is het nuttig om een correctie op de p-waarde van de *ANOVA's* uit te voeren. Aangezien dit niet in de ANOVA-functie in R gedaan kan worden, moet dit handmatig. Een simpel uit te voeren correctie is de Bonferroni correctie. Hierbij wordt het significantieniveau gedeeld door het aantal toetsen wat leidt tot een lager significantieniveau en dus een strengere toets. In de huidige casus wordt het significantieniveau van 0,05 gedeeld door drie (gemiddelde cijfers van periode 1, 2 en 3) wat leidt tot een nieuw significantieniveau van 0,017.[^20] Er zijn ook andere opties voor een correctie op de p-waarden.[^13]\n",
    "\n",
    "Zeer waarschijnlijk wordt er voor één of meerdere afhankelijke variabelen een significant verschil in gemiddelde van de groepen gevonden. De derde stap is in dat geval om voor deze significante *ANOVA's* post-hoc toetsen uit te voeren. Met post-hoc toetsen wordt bepaald welke specifieke groepen van elkaar verschillen voor die afhankelijke variabele. Hierbij worden er opnieuw meerdere toetsen tegelijkertijd uitgevoerd wat de overall type I fout verhoogt. Voer daarom weer een correctie voor meerdere toetsenuit. Bij de *one-way ANOVA* is de Tukey HSD correctie hiervoor een gebruikelijke optie; bij de *factoriële ANOVA* is de Games-Howell correctie een gebruikelijke optie. Er zijn ook andere opties voor een correctie op de p-waarden.[^13]\n",
    "\n",
    "# Toetsstatistiek\n",
    "\n",
    "Er zijn meerdere methoden om de toetsstatistiek van de *MANOVA* te berekenen. De vier meeste gebruikte versie zijn *Wilks's Lambda*, *Hotelling's Trace*, *Roy's Largest Root* en *Pillai's Trace*. Afhankelijk van allerlei karakteristieken van de data met betrekking tot bijvoorbeeld steekproefgroottes en assumpties is soms de ene toetsstatistiek en soms de andere toetsstatistiek de beste optie. Meer informatie hierover is te vinden in de boeken van Field[^22] en Tabachnick & Fidell[^20]. In het algemeen wordt *Wilks's Lambda* gebruikt, omdat deze in de meeste situaties het hoogste onderscheidend vermogen heeft. Bij een laag aantal observaties, verschillen in het aantal observaties per groep en afwijkingen van de assumptie van homogeniteit van variantie-covariantie matrices is *Pillai's Trace* vanwege zijn robuustheid een betere optie. De keuze voor een toetsstatistiek is echter iets om goed over na te denken en uiteindelijk aan de onderzoeker.[^20]\n",
    "\n",
    "# Uitleg assumpties\n",
    "\n",
    "Om een valide resultaat te vinden met de *MANOVA*, dient er aan een aantal assumpties voldaan te worden.[^1]<sup>,</sup>[^20] In deze sectie worden de assumpties allen toegelicht en worden de opties bij het niet voldoen aan de assumptie weergegeven. Verderop in de toetspagina worden de assumpties getoetst met de dataset van de onderwijscasus.\n",
    "\n",
    "## Outliers\n",
    "\n",
    "Voordat gestart kan worden met de *MANOVA*, moet de data gescreend worden op de aanwezigheid van outliers. Outliers (uitbijters) zijn observaties die sterk afwijken van de overige observaties. Univariate outliers zijn observaties die afwijken voor één specifieke variabele, zoals een student die twintig jaar over zijn studie heeft gedaan. Multivariate outliers zijn observaties die afwijken door de combinatie van meerdere variabelen, zoals een persoon van 18 jaar met een inkomen van €100.000,-. De leeftijd van 18 jaar is geen outlier op zichzelf en een inkomen van €100.000,- is dat ook niet. Echter, de combinatie van beide zorgt ervoor dat de observatie vrij onwaarschijnlijk is.[^4]\n",
    "\n",
    "Na het vinden van een outlier is de volgende stap om een goede oplossing voor te outlier te bedenken. Het is van belang hier goed over na te denken en niet zomaar een outlier te verwijderen met als enige argument dat het een outlier is. In het algemeen kan er onderscheid gemaakt worden tussen onmogelijke en onwaarschijnlijke outliers.[^5] Een onmogelijke outlier is een observatie die technisch gezien niet kan kloppen, bijvoorbeeld een leeftijd van 1000 jaar, een negatief salaris of een man die zwanger is. Bij deze outliers is het een optie om de waarde te vervangen als er een overduidelijke fout bij het invoeren van de data is gemaakt. Een andere optie is de waarde te verwijderen. Een onwaarschijnlijke outlier is een observatie die technisch gezien wel kan, maar heel erg afwijkt van de overige observaties. De rijksten der aarde zijn in de stad of het dorp waar zij wonen qua vermogen waarschijnlijk een outlier. Maar het zijn bestaande personen dus het verwijderen van de observatie zou hier foutief zijn. Opties in deze situatie zijn de variabele(n) te transformeren, de outlier gewoon mee te nemen in de analyse of de analyse met en zonder de outlier uit te voeren en beide te rapporteren. Ook is het niet verboden om de outlier toch te verwijderen, maar het is in dat geval wel van belang dit transparant te rapporteren en op een goede wijze te beargumenteren.[^5]\n",
    "\n",
    "Bij de *MANOVA* zijn er twee nuttige methoden om outliers te vinden.[^23]\n",
    "\n",
    "### Boxplots en standaardiseren\n",
    "\n",
    "Begin voor de analyse met het screenen van de variabelen in de dataset op de aanwezigheid van univariate outliers. Voor continue variabelen bestaat deze screening uit het visualiseren van de variabele met een boxplot en het standaardiseren[^6] van de variabele. Als een observatie een gestandaardiseerde score van groter dan 3 of kleiner dan -3 heeft, wordt deze beschouwd als een outlier. In dat geval wijkt de observatie namelijk meer dan drie standaardafwijkingen af van het gemiddelde van de variabele. Gebruik zowel de boxplot als de standaardisering om outliers te vinden voor de afhankelijke variabelen.[^5]\n",
    "\n",
    "### Mahalanobis afstand\n",
    "\n",
    "Multivariate outliers zijn deelnemers[^19] met een combinatie van observaties op verschillende variabelen die erg afwijken van de overige deelnemers. Deze multivariate outliers kunnen geïdentificeerd worden met de Mahalanobis afstand. De Mahalanobis afstand is een maat die aangeeft in hoeverre de observaties van een deelnemer voor alle afhankelijke variabelen afwijken van de gemiddeldes van de afhankelijke variabelen. Het is een maat voor een afstand tussen twee punten als meerdere variabelen worden gebruikt. Gebruik de Mahalanobis afstand om te onderzoeken of er multivariate outliers zijn bij de afhankelijke variabelen.[^23] Bereken de Mahalanobis afstand voor elke deelnemer en vergelijk deze met de criteriumwaarde. De criteriumwaarde wordt bepaald op basis van de chi-kwadraat score bij een aantal vrijheidsgraden dat gelijk is aan het aantal variabelen en een significantieniveau van 0,001 (of een zelf gekozen significantieniveau). In de code wordt toegelicht hoe de criteriumwaarde bepaald kan worden.[^4]\n",
    "\n",
    "## Aantal observaties per groep\n",
    "\n",
    "Om de *MANOVA* uit te voeren, moeten er voor elke groep meer observaties zijn dan het aantal afhankelijke variabelen. Dit is enerzijds een vereiste om de variantie-covariantie matrix te berekenen en anderzijds nodig voor het onderscheidend vermogen van de *MANOVA*. In de meeste gevallen wordt er voldaan aan deze assumptie. Echter, als er meerdere onafhankelijke variabelen zijn, kan het voorkomen dat voor een van de combinaties van de categorieën van de onafhankelijke variabelen er te weinig observaties zijn. Deze assumptie is op simpele wijze te toetsen door het aantal observaties per groep met een tabel te inspecteren. Als er niet genoeg observaties per groep zijn, dan zijn er meerdere oplossingen mogelijk. De groep kan verwijderd worden of samengevoegd worden met een andere groep. Daarnaast is meer data verzamelen ook een goede optie.[^20]\n",
    "\n",
    "## Multivariate normaliteit\n",
    "\n",
    "Een assumptie van de *MANOVA* is dat de afhankelijke variabelen een multivariate normaalverdeling volgen. De multivariate normaalverdeling is de multivariate versie van de (univariate) normaalverdeling. Als variabelen een multivariate normaalverdeling volgen, dan is elke lineaire combinatie van de variabelen normaal verdeeld. Bij de *MANOVA* moet er voor elke groep een normale verdeling zijn voor elke afhankelijke variabele. Onderzoek de assumptie door voor elke groep een histogram te maken voor elke afhankelijke variabele. De *MANOVA* is redelijk robuust ten opzichte van een schending van de assumptie van multivariate normaliteit. Als het aantal vrijheidsgraden van de residuën groter is dan 20 en de afwijkingen van normaliteit zichtbaar in de histogrammen niet door outliers veroorzaakt worden, dan is de *MANOVA* robuust ten opzichte van de assumptie van multivariate normaliteiten kan de *MANOVA* gewoon uitgevoerd worden. Als dit niet het geval is, dan is het transformeren van de afhankelijke variabele(n) die afwijken van de normaalverdeling een optie.[^7] Er is geen nonparametrische variant voor de *MANOVA*. Als er geen geschikte transformatie gevonden kan worden, dan is het een optie om bij een *one-way MANOVA* voor de afhankelijke variabelen die afwijken van de normaalverdeling apart een [Kruskal Wallis toets](10-Kruskal-Wallis-toets-I-R.html). Voor de *factoriële MANOVA* is het in dit geval een optie om voor de afhankelijke variabelen die afwijken van de normaalverdeling apart de *ANOVA* uit te voeren als regressiemodel (zie hiervoor bijbehorened [toetspagina](29-Factoriele-ANOVA-R.html)).[^20]\n",
    "\n",
    "## Homogeniteit van variantie-covariantie matrices\n",
    "\n",
    "<!-- ## TEKSTBLOK: Link2.R -->\n",
    "Een assumptie van de *ANOVA* is dat de variantie van de afhankelijke variabele ongeveer hetzelfde is in elke groep. Bij de *MANOVA* zijn er meerdere afhankelijke variabelen en is er dus ook een multivariate versie van deze assumptie die al deze afhankelijke variabelen betreft. Elke afhankelijke variabele heeft een variantie, maar onderling hebben de paren van afhankelijke variabelen ook een covariantie. Deze covariantie toont de sterkte van de samenhang tussen twee variabelen en is in feite een ongestandaardiseerde correlatie. De correlatie tussen twee variabelen toont de sterkte van de samenhang aan en ligt tussen de -1 en 1 en is een herberekening van de covariantie. Voor de *MANOVA* geldt dat de varianties en covarianties van de afhankelijke variabelen ongeveer even groot moeten zijn in elke groep. De varianties en covarianties kunnen wiskundig gebundeld worden in een matrix. De assumptie bij de *MANOVA* betreft daarom de homogeniteit van variantie-covariantie-matrices.[^20]\n",
    "\n",
    "De assumptie van homogeniteit van variantie-covariantie-matrices wordt getoetst met *Box's M test*. Bij een p-waarde kleiner dan 0,01 zijn er significante verschillen tussen de variantie-covariantie matrices van de groepen en is er niet voldaan aan deze assumptie. Hierbij wordt er afgeweken van het gebruikelijke significantieniveau van 0,05, omdat *Box's M test* erg gevoelig voor verschillen is. Als het aantal observaties in elke groep even groot is, is de *MANOVA* redelijk robuust ten opzichte van een schending van deze assumptie en kan de *MANOVA* gewoon uitgevoerd worden. Als het aantal observaties echter niet gelijk is voor elke groep, zorgt een schending van deze assumptie wel voor problemen. In dat geval zijn er meerdere oplossingen nodig. Het aantal observaties kan per groep gelijkgetrokken worden door bepaalde observaties op willekeurige wijze te verwijderen. Het nadeel hiervan is dat minder observaties leidt tot een lager onderscheidend vermogen. Een andere optie is om in plaats van een *MANOVA* aparte *ANOVA's* uit te voeren voor elke afhankelijke variabele. Bij een *one-way MANOVA* kan dan voor de afhankelijke variabelen die niet voldoen aan de assumptie van homogeniteit van varianties apart een [Kruskal Wallis toets](10-Kruskal-Wallis-toets-I-R.html) uitgevoerd worden. Voor de *factoriële MANOVA* is het in dit geval een optie om voor de afhankelijke variabelen die niet voldoen aan de assumptie van homogeniteit van varianties apart de *ANOVA* uit te voeren als regressiemodel (zie hiervoor bijbehorende [toetspagina](29-Factoriele-ANOVA-R.html)).[^20]\n",
    "<!-- ## /TEKSTBLOK: Link2.R -->\n",
    "\n",
    "## Lineariteit\n",
    "\n",
    "Bij de *MANOVA* wordt aangenomen dat er voor elke groep een lineaire relatie is tussen elk paar van afhankelijke variabelen. Een lineaire relatie houdt in dat de toename of afname van de ene variabele als gevolg van de toename van de andere variabele constant is: er is een rechte lijn door de data heen te trekken. Een voorbeeld van een lineaire en niet-lineaire relatie is weergegeven in Figuur 1. Bij de linkerfiguur kan er duidelijk een rechte lijn door de punten getrokken worden en is er dus sprake van een lineaire relatie. Bij de rechterfiguur is dit niet het geval, daar is er sprake van een curve in de relatie tussen de variabelen. Als er geen lineair verband is tussen de variabelen, dan is het onderscheidend vermogen van de *MANOVA* lager.[^20]<sup>,</sup>[^8]\n",
    "\n",
    "De assumptie van lineariteit wordt onderzocht met behulp van scatter plots, zoals in onderstaande figuren. Maak per groep (op basis van de onafhankelijke variabele[n]) voor elk paar van afhankelijke variabelen een scatter plot en bekijk of er een lineaire relatie is. Als er geen lineaire relatie is, is het transformeren van de afwijkende variabele een optie. De variabele kan op verschillende manieren getransformeerd[^7] worden zodat er alsnog een lineaire relatie ontstaat. [^8]\n",
    "\n",
    "<div class = \"col-container\">\n",
    "  <div class=\"col\">\n",
    "<!-- ## CLOSEDBLOK: Lineariteit1.R -->"
   ]
  },
  {
   "cell_type": "code",
   "execution_count": null,
   "id": "2bc03ead",
   "metadata": {
    "lines_to_next_cell": 0,
    "message": false,
    "tags": [
     "remove_input"
    ]
   },
   "outputs": [],
   "source": [
    "set.seed(12345)\n",
    "x <- rnorm(100,0,2)\n",
    "y <- 3 + 1.2 * x + rnorm(100,0,1)\n",
    "dataset <- data.frame(Afhankelijke_variabele = y, Covariaat = x)\n",
    "\n",
    "ggplot(dataset, aes(x = Covariaat, y = Afhankelijke_variabele)) +\n",
    "    geom_point() + ylab(\"Variabele 2\") + xlab(\"Variabele 1\") +  \n",
    "  ggtitle(\"Lineare relatie\")\n"
   ]
  },
  {
   "cell_type": "markdown",
   "id": "2d7fa593",
   "metadata": {
    "lines_to_next_cell": 0
   },
   "source": [
    "<!-- ## /CLOSEDBLOK: Lineariteit1.R -->\n",
    "  </div>\n",
    "  <div class = \"col\">\n",
    "<!-- ## CLOSEDBLOK: Lineariteit2.R -->"
   ]
  },
  {
   "cell_type": "code",
   "execution_count": null,
   "id": "5df0e7a2",
   "metadata": {
    "lines_to_next_cell": 0,
    "message": false,
    "tags": [
     "remove_input"
    ]
   },
   "outputs": [],
   "source": [
    "set.seed(12345)\n",
    "x <- rnorm(100,0,2)\n",
    "y <- 3 + 1.2 * x^2 + rnorm(100,0,1)\n",
    "dataset <- data.frame(Afhankelijke_variabele = y, Covariaat = x)\n",
    "\n",
    "ggplot(dataset, aes(x = Covariaat, y = Afhankelijke_variabele)) +\n",
    "    geom_point()  + ylab(\"Variabele 2\") + xlab(\"Variabele 1\") + \n",
    "  ggtitle(\"Niet-lineaire relatie\")\n"
   ]
  },
  {
   "cell_type": "markdown",
   "id": "d49e484e",
   "metadata": {
    "lines_to_next_cell": 0
   },
   "source": [
    "<!-- ## /CLOSEDBLOK: Lineariteit2.R -->\n",
    "  </div>\n",
    "</div>\n",
    "\n",
    "*Figuur 1.  Voorbeeld van een lineaire (links) en niet-lineaire (rechts) relatie tussen twee variabelen.*\n",
    "\n",
    "## Multicollineariteit\n",
    "\n",
    "Multicollineariteit houdt in dat er een hoge correlatie tussen twee of meerdere variabelen is. Er is perfecte multicollineariteit als één variabele een lineaire combinatie is van een of meerdere andere variabelen. In andere woorden, de variabele is precies te berekenen op basis van andere variabelen. In dat geval kan de *MANOVA* niet wiskundig bepaald worden en werkt de *MANOVA* niet. Dit komt zeer weinig voor en is vaak makkelijk op te lossen door goed naar de variabelen die het veroorzaken te kijken en een variabele te transformeren of te verwijderen.[^4]\n",
    "\n",
    "Bij een hoog niveau van multicollineariteit kan de *MANOVA* wel uitgevoerd worden, is het onderscheidend vermogen[^3] lager. Daarnaast is het onlogisch om twee variabelen die sterk gecorreleerd zijn allebei aan de *MANOVA* toe te voegen, omdat de variabelen in feite hetzelfde meten. Multicollineariteit kan opgelost worden door een van de variabelen die het veroorzaakt te verwijderen. Een andere optie is een principale componenten analyse (PCA) uitvoeren op de afhankelijke variabelen zodat er een onderliggende variabele gecreëerd wordt (zie Field[^4] voor meer informatie).[^20]\n",
    "\n",
    "Multicollineariteit wordt getoetst met de Variance Inflation Factor (VIF) die meet hoe sterk elke variabele gecorreleerd is met de andere variabelen. Als de VIF van een variabele hoger dan 10 is, is er multicollineariteit voor die variabele.[^4]<sup>,</sup>[^9] \n",
    "\n",
    "# Effectmaat\n",
    "De p-waarde geeft aan of het verschil tussen groepen significant is. De grootte van het verschil of effect is echter ook relevant. Een effectmaat is een gestandaardiseerde maat die de grootte van een effect weergeeft, zodat effecten van verschillende onderzoeken met elkaar vergeleken kunnen worden.[^13] Bij de *MANOVA* is de interpretatie van verschillende effectmaten vrij complex.[^20] Daarom is het nuttiger om een effectmaat te gebruiken bij de tweede stap van de *MANOVA* waarin voor elke afhankelijke variabele een aparte *ANOVA* wordt uitgevoerd. De effectmaat voor de *ANOVA* is de *partial eta squared* (partial *η^2^*). Deze effectmaat berekent de proportie van de onverklaarde variantie (variantie die niet door de andere variabelen wordt verklaard) in de afhankelijke variabele die verklaard wordt door de onafhankelijke variabele.[^14] Als er meerdere onafhankelijke variabelen zijn, tellen de partial eta squareds van alle termen van het model dus niet per se op tot 1.[^14] Een indicatie om partial *η^2^* te interpreteren is: rond 0,01 is een klein effect, rond 0,06 is een gemiddeld effect en rond 0,14 is een groot effect.[^15]\n",
    "\n",
    "# Uitvoering\n",
    "\n",
    "<!-- ## TEKSTBLOK: Dataset-inladen.R-->\n",
    "Er is een dataset ingeladen met daarin de gemiddelde cijfers voor periode 1, 2 en 3 en de bacheloropleiding en studentnummers van alle studenten van de master Bioinformatics. De dataset heet `Gemiddelde_cijfers_bioinformatics`. \n",
    "<!-- ## /TEKSTBLOK: Dataset-inladen.R-->\n",
    "\n",
    "<!-- ## TEKSTBLOK: Data-bekijken.R -->\n",
    "Gebruik `head()` en `tail()` om de structuur van de data te bekijken.\n",
    "<!-- ## /TEKSTBLOK: Data-bekijken.R -->\n",
    "\n",
    "<!-- ## OPENBLOK: Data-bekijken.R -->"
   ]
  },
  {
   "cell_type": "code",
   "execution_count": null,
   "id": "bbc33a89",
   "metadata": {
    "collapse": true,
    "lines_to_next_cell": 0,
    "name": "data bekijken"
   },
   "outputs": [],
   "source": [
    "## Eerste 5 observaties\n",
    "head(Gemiddelde_cijfers_bioinformatics)\n",
    "\n",
    "## Laatste 5 observaties\n",
    "tail(Gemiddelde_cijfers_bioinformatics)"
   ]
  },
  {
   "cell_type": "markdown",
   "id": "f1ae27bf",
   "metadata": {},
   "source": [
    "<!-- ## /OPENBLOK: Data-bekijken.R -->\n"
   ]
  },
  {
   "cell_type": "markdown",
   "id": "793dbe55",
   "metadata": {
    "lines_to_next_cell": 0
   },
   "source": [
    "<!-- ## TEKSTBLOK: Data-beschrijven.R -->\n",
    "Inspecteer voor alle groepen het gemiddelde, de standaardafwijking, de mediaan en het aantal observaties voor de gemiddelde cijfers in periode 1, 2 en 3 om meer inzicht te krijgen. Gebruik hiervoor de functie `descr` en `stby` van het package `summarytools` om de beschrijvende statistieken per groep weer te geven. Voer de gewenste statistieken in met het argument `stats = c(\"mean\",\"sd\",\"med\",\"n.valid\")`.\n",
    "<!-- ## /TEKSTBLOK: Data-beschrijven.R -->\n",
    "\n",
    "<!-- ## OPENBLOK: Data-beschrijven-1.R -->"
   ]
  },
  {
   "cell_type": "code",
   "execution_count": null,
   "id": "aa921e68",
   "metadata": {
    "lines_to_next_cell": 0,
    "message": false,
    "name": "Data beschrijven 1",
    "warning": false
   },
   "outputs": [],
   "source": [
    "# Gemiddelde, standaardafwijking, mediaan en aantal observaties\n",
    "library(summarytools)\n",
    "\n",
    "with(Gemiddelde_cijfers_bioinformatics, \n",
    "     stby(data = cbind(Cijfers_P1, Cijfers_P2, Cijfers_P3), \n",
    "          list(Bacheloropleiding), \n",
    "          descr, \n",
    "          stats = c(\"mean\", \"sd\", \"med\", \"n.valid\")))\n",
    "\n"
   ]
  },
  {
   "cell_type": "markdown",
   "id": "3fd83ae5",
   "metadata": {},
   "source": [
    "<!-- ## /OPENBLOK: Data-beschrijven-1.R -->\n",
    "\n",
    "Maak vervolgens een grafiek met de gemiddelden per bacheloropleiding voor de verschillende periodes. Maak hiervoor eerst een lange dataset met de functie `melt()` van het package `reshape`."
   ]
  },
  {
   "cell_type": "code",
   "execution_count": null,
   "id": "284be19d",
   "metadata": {},
   "outputs": [],
   "source": [
    "# Maak een lange dataset\n",
    "library(reshape)\n",
    "\n",
    "Gemiddelde_cijfers_bioinformatics_lang <- melt(Gemiddelde_cijfers_bioinformatics,\n",
    "                                               id.vars = c(\"Studentnummer\", \n",
    "                                                           \"Bacheloropleiding\"),\n",
    "                                               measure.vars = c(\"Cijfers_P1\", \n",
    "                                                                \"Cijfers_P2\", \n",
    "                                                                \"Cijfers_P3\"),\n",
    "                                               variable_name = \"Periode\")\n",
    "\n",
    "# Maak de grafiek\n",
    "library(ggplot2)\n",
    "\n",
    "ggplot(Gemiddelde_cijfers_bioinformatics_lang, \n",
    "       aes(x = Periode, y = value, group = Bacheloropleiding, colour = Bacheloropleiding)) + \n",
    "  stat_summary(fun = mean, geom = \"point\") +  \n",
    "  stat_summary(fun = mean, geom = \"line\", aes(group = Bacheloropleiding)) + \n",
    "  scale_color_manual(values = c(\"darkorange\", \"deepskyblue\", \"darkgreen\")) \n",
    "\n"
   ]
  },
  {
   "cell_type": "markdown",
   "id": "b29ac13a",
   "metadata": {},
   "source": [
    "*Figuur 2.  Gemiddelde cijfers voor periode 1, 2 en 3 voor studenten bioinformatics met als bacheloropleidingen Biologie, Informatica en Wiskunde.*"
   ]
  },
  {
   "cell_type": "markdown",
   "id": "8a5e4da8",
   "metadata": {
    "lines_to_next_cell": 0
   },
   "source": [
    "Uit de beschrijvende statistieken en de visualisatie in Figuur 2 blijkt dat het gemiddelde cijfer in periode 1 en 2 voor de bacheloropleidingen Informatica en Wiskunde hoger ligt dan het gemiddelde cijfer voor de bacheloropleiding Biologie. In periode 3 is dit juist andersom.\n",
    "\n",
    "# Toetsing assumpties\n",
    "\n",
    "Gebruik de *MANOVA* om te onderzoeken of er een verschil is tussen de gemiddelde cijfers in periode 1, 2 en 3 voor studenten van de master Bioinformatics die afkomstig zijn van de vooropleidingen Wiskunde, Informatica en Biologie. Start met het toetsen van de assumpties en voer vervolgens de *ANCOVA* uit als hieraan voldaan is.\n",
    "\n",
    "## Outliers\n",
    "\n",
    "### Boxplots en standaardiseren\n",
    "\n",
    "<!-- ## TEKSTBLOK: Outlier1.R -->\n",
    "Onderzoek of er univariate outliers zijn met behulp van boxplots en gestandaardiseerde scores voor de afhankelijke variabelen en tabellen voor onafhankelijke variabelen. Begin met de boxplot voor de variabelen `Cijfers_P1`, `Cijfers_P2` en `Cijfers_P3`.\n",
    "<!-- ## /TEKSTBLOK: Outlier1.R -->\n",
    "\n",
    "<!-- ## OPENBLOK: Outlier2.R -->"
   ]
  },
  {
   "cell_type": "code",
   "execution_count": null,
   "id": "d5d2647a",
   "metadata": {
    "lines_to_next_cell": 0
   },
   "outputs": [],
   "source": [
    "# Maak een boxplot van de continue variabelen in de dataset\n",
    "boxplot(Gemiddelde_cijfers_bioinformatics[,c(\"Cijfers_P1\",\n",
    "                                             \"Cijfers_P2\",\n",
    "                                             \"Cijfers_P3\")])\n"
   ]
  },
  {
   "cell_type": "markdown",
   "id": "bc300903",
   "metadata": {
    "lines_to_next_cell": 0
   },
   "source": [
    "<!-- ## /OPENBLOK: Outlier2.R -->\n",
    "\n",
    "Voor de drie variabelen zijn er geen onmogelijke scores en zijn er geen grote afwijkingen op basis van de boxplot. Onderzoek de gestandaardiseerde scores door een functie te schrijven die het aantal observaties per variabele telt met een gestandaardiseerde score hoger dan 3 of lager dan -3. Pas deze functie vervolgens toe op de drie afhankelijke variabelen in de dataset.\n",
    "\n",
    "<!-- ## OPENBLOK: Outlier3.R -->"
   ]
  },
  {
   "cell_type": "code",
   "execution_count": null,
   "id": "f34c2eef",
   "metadata": {
    "lines_to_next_cell": 0
   },
   "outputs": [],
   "source": [
    "# Maak een functie om het aantal observaties met een gestandaardiseerde score hoger dan 3 of lager dan -3 te tellen\n",
    "Outlier_standaardiseren <- function(variabele){\n",
    "  # Standaardiseer de variabele met de scale functie\n",
    "  Z_score <- scale(variabele)\n",
    "  # Tel het aantal observaties met een absolute score hoger dan 3\n",
    "  Aantal_outliers <- sum(abs(Z_score) > 3)\n",
    "  # Retourneer dit aantal\n",
    "  return(Aantal_outliers)\n",
    "}\n",
    "\n",
    "# Tel voor de continue variabelen het aantal observaties met een gestandaardiseerde score hoger dan 3 of lager dan -3\n",
    "Outlier_standaardiseren(Gemiddelde_cijfers_bioinformatics$Cijfers_P1)\n",
    "Outlier_standaardiseren(Gemiddelde_cijfers_bioinformatics$Cijfers_P2)\n",
    "Outlier_standaardiseren(Gemiddelde_cijfers_bioinformatics$Cijfers_P3)\n"
   ]
  },
  {
   "cell_type": "markdown",
   "id": "997db2dd",
   "metadata": {
    "lines_to_next_cell": 0
   },
   "source": [
    "<!-- ## /OPENBLOK: Outlier3.R -->\n",
    "\n",
    "Er zijn bij de gemiddelde cijfers in periode 2 twee mogelijke outliers gevonden. Nu is het de vraag of deze gemiddelde cijfers in periode 2 onmogelijke of onwaarschijnlijke outliers zijn. In de boxplot is te zien dat het minimum van de observaties iets boven de vijf ligt en het maximum iets onder de negen. Voor een gemiddeld cijfer in een onderwijsperiode zijn dit geen ongeloofwaardige observaties, dus worden ze niet als outliers beschouwd. Daarom worden de observaties niet uit de dataset verwijderd.\n",
    "\n",
    "Bacheloropleiding is de enige onafhankelijke variabele in deze dataset. Maak een tabel met de frequenties voor alle categoriëen van deze variabele om te onderzoeken of hier afwijkende waardes zijn.\n",
    "\n",
    "<!-- ## OPENBLOK: Outlier4.R -->"
   ]
  },
  {
   "cell_type": "code",
   "execution_count": null,
   "id": "522d4554",
   "metadata": {
    "lines_to_next_cell": 0
   },
   "outputs": [],
   "source": [
    "table(Gemiddelde_cijfers_bioinformatics$Bacheloropleiding)\n"
   ]
  },
  {
   "cell_type": "markdown",
   "id": "536081e5",
   "metadata": {
    "lines_to_next_cell": 0
   },
   "source": [
    "<!-- ## /OPENBLOK: Outlier4.R -->\n",
    "\n",
    "De categorieën van de variabele Opleiding zijn `Biologie`, `Informatica` en `Wiskunde`. Er zijn dus geen opmerkelijke waarden bij de variabele Bacheloropleiding.\n",
    "\n",
    "### Mahalanobis distance\n",
    "\n",
    "<!-- ## TEKSTBLOK: Outlier7.R -->\n",
    "Onderzoek of er multivariate outliers zijn met behulp van de Mahalanobis distance met behulp van de functie `mahalanobis()`. De Mahalanobis afstand geeft aan in hoeverre een deelnemer afwijkt van het gemiddelde van alle deelnemers voor alle afhankelijke variabele samen.\n",
    "\n",
    "Neem een subset van de dataset met alleen de afhankelijke variabelen en gebruik deze voor de Mahalanobis afstand. Gebruik de functie `mahalanobis()` met als argumenten de dataset `Subset`, de gemiddeldes van elke kolom berekend met `colMeans(Subset)` en de covariantiematrix van de dataset berekend met `cov(Subset)`.\n",
    "\n",
    "Bereken daarna de criteriumwaarde op basis van het gewenste significantieniveau en het aantal afhankelijke variabelen. Plot de Mahalanobis afstanden en tel het aantal deelnemers met een Mahalanobis afstand groter dan de criteriumwaarde. Het gehanteerde significantieniveau is 0,001.\n",
    "<!-- ## /TEKSTBLOK: Outlier7.R -->\n",
    "\n",
    "<!-- ## OPENBLOK: Outlier8.R -->"
   ]
  },
  {
   "cell_type": "code",
   "execution_count": null,
   "id": "cdf916ba",
   "metadata": {
    "lines_to_next_cell": 0
   },
   "outputs": [],
   "source": [
    "# Maak een subset van de dataset met alle afhankelijke variabelen\n",
    "Subset <- Gemiddelde_cijfers_bioinformatics[,c(\"Cijfers_P1\",\n",
    "                                               \"Cijfers_P2\",\n",
    "                                               \"Cijfers_P3\")]\n",
    "\n",
    "# Bereken de Mahalanobis afstand voor elke deelnemer \n",
    "Mahalanobis_afstanden <- mahalanobis(Subset,\n",
    "                                     colMeans(Subset),\n",
    "                                     cov(Subset))\n",
    "\n",
    "# Bepaal de criteriumwaarde voor de Mahalanobis afstand met de functie qchisq() met als eerste argument 1 - het significantieniveau en als tweede argument het aantal afhankelijke variabelen. In deze casus is het significantieniveau voor de Mahalanobis afstand 0.001 en het aantal afhankelijke variabelen berekend met ncol(Subset).\n",
    "(Criteriumwaarde <- qchisq(1 - 0.001, ncol(Subset)))\n",
    "\n",
    "# Plot de Mahalanobis afstanden\n",
    "plot(Mahalanobis_afstanden, xlab = \"Volgorde\", ylab = \"Mahalanobis afstanden\")\n",
    "\n",
    "# Tel het aantal Mahalanobis afstanden groter dan de criteriumwaarde\n",
    "sum(Mahalanobis_afstanden > Criteriumwaarde)\n"
   ]
  },
  {
   "cell_type": "markdown",
   "id": "da0de378",
   "metadata": {},
   "source": [
    "<!-- ## /OPENBLOK: Outlier8.R -->\n",
    "\n",
    "<!-- ## TEKSTBLOK: Outlier9.R -->\n",
    "Er zijn geen deelnemers met een Mahalanobis afstand groter dan de criteriumwaarde van `r Round_and_format(Criteriumwaarde)`, dus er lijken geen multivariate outliers te zijn op basis van de Mahalanobis afstand.\n",
    "<!-- ## /TEKSTBLOK: Outlier9.R -->\n",
    "\n",
    "## Aantal observaties per groep\n",
    "\n",
    "Om de *MANOVA* uit te voeren, moeten er in elke groep meer observaties dan afhankelijke variabelen zijn. In de huidige casus zijn er drie afhankelijke variabelen en zijn er drie groepen op basis van de bacheloropleiding van de studenten van de master Bioinformatics. Maak een tabel met het aantal observaties per groep om de assumptie te onderzoeken."
   ]
  },
  {
   "cell_type": "code",
   "execution_count": null,
   "id": "7c2fdbdd",
   "metadata": {},
   "outputs": [],
   "source": [
    "table(Gemiddelde_cijfers_bioinformatics$Bacheloropleiding)\n",
    "\n"
   ]
  },
  {
   "cell_type": "markdown",
   "id": "8fc6fb2e",
   "metadata": {
    "lines_to_next_cell": 0
   },
   "source": [
    "Alle drie de groepen hebben meer dan 3 osbervaties, dus er is voldaan aan de assumptie van het aantal observaties per groep.\n",
    "\n",
    "## Multivariate normaliteit\n",
    "\n",
    "De *MANOVA* vereist dat de verdeling van de afhankelijke variabele de normale verdeling benaderd in elke groep die gevormd wordt door de onafhankelijke variabelen. Onderzoek deze assumptie door per groep een histogram te maken van elke afhankelijke variabele.\n",
    "\n",
    "### Histogram\n",
    "\n",
    "Visualiseer de verdelingen van de gemiddelde cijfers in periode 1, 2 en 3 binnen elke groep met behulp van een histogram[^24]. Focus bij het analyseren van een histogram op de symmetrie van de verdeling, de hoeveelheid toppen (modaliteit) en mogelijke outliers. Een normale verdeling is symmetrisch, heeft één top en geen outliers.[^16]<sup>, </sup>[^17]\n",
    "\n",
    "<!-- ## OPENBLOK: AssLineariteit1.R -->"
   ]
  },
  {
   "cell_type": "code",
   "execution_count": null,
   "id": "95d45c66",
   "metadata": {
    "lines_to_next_cell": 0
   },
   "outputs": [],
   "source": [
    "## Histogram met ggplot\n",
    "ggplot(Gemiddelde_cijfers_bioinformatics,\n",
    "  aes(x = Cijfers_P1)) +\n",
    "  geom_histogram(aes(y = ..density..),\n",
    "                 binwidth = 0.5,\n",
    "                 color = \"grey30\",\n",
    "                 fill = \"#0089CF\") +\n",
    "  facet_wrap(~ Bacheloropleiding) +\n",
    "  geom_density(alpha = .2, adjust = 1) +\n",
    "  xlab(\"Gemiddeld cijfer periode 1\") +\n",
    "  ylab(\"Frequentiedichtheid\")"
   ]
  },
  {
   "cell_type": "markdown",
   "id": "51837932",
   "metadata": {},
   "source": [
    "<!-- ## /OPENBLOK: AssLineariteit1.R -->"
   ]
  },
  {
   "cell_type": "markdown",
   "id": "b7d48f82",
   "metadata": {
    "lines_to_next_cell": 0
   },
   "source": [
    "<!-- ## OPENBLOK: AssLineariteit1.R -->"
   ]
  },
  {
   "cell_type": "code",
   "execution_count": null,
   "id": "3e1dae10",
   "metadata": {
    "lines_to_next_cell": 0
   },
   "outputs": [],
   "source": [
    "## Histogram met ggplot\n",
    "ggplot(Gemiddelde_cijfers_bioinformatics,\n",
    "  aes(x = Cijfers_P2)) +\n",
    "  geom_histogram(aes(y = ..density..),\n",
    "                 binwidth = 0.5,\n",
    "                 color = \"grey30\",\n",
    "                 fill = \"#0089CF\") +\n",
    "  facet_wrap(~ Bacheloropleiding) +\n",
    "  geom_density(alpha = .2, adjust = 1) +\n",
    "  xlab(\"Gemiddeld cijfer periode 2\") +\n",
    "  ylab(\"Frequentiedichtheid\")"
   ]
  },
  {
   "cell_type": "markdown",
   "id": "d45c9cd1",
   "metadata": {},
   "source": [
    "<!-- ## /OPENBLOK: AssLineariteit1.R -->"
   ]
  },
  {
   "cell_type": "markdown",
   "id": "36c31c5a",
   "metadata": {
    "lines_to_next_cell": 0
   },
   "source": [
    "<!-- ## OPENBLOK: AssLineariteit2.R -->"
   ]
  },
  {
   "cell_type": "code",
   "execution_count": null,
   "id": "b5c9c280",
   "metadata": {
    "lines_to_next_cell": 0
   },
   "outputs": [],
   "source": [
    "## Histogram met ggplot\n",
    "ggplot(Gemiddelde_cijfers_bioinformatics,\n",
    "  aes(x = Cijfers_P3)) +\n",
    "  geom_histogram(aes(y = ..density..),\n",
    "                 binwidth = 0.5,\n",
    "                 color = \"grey30\",\n",
    "                 fill = \"#0089CF\") +\n",
    "  facet_wrap(~ Bacheloropleiding) +\n",
    "  geom_density(alpha = .2, adjust = 1) +\n",
    "  xlab(\"Gemiddeld cijfer periode 3\") +\n",
    "  ylab(\"Frequentiedichtheid\")"
   ]
  },
  {
   "cell_type": "markdown",
   "id": "49c1757e",
   "metadata": {},
   "source": [
    "<!-- ## /OPENBLOK: AssLineariteit2.R -->\n",
    "\n",
    "*Figuur 3.  Histogrammen van de verdelingen van de gemiddelde cijfers in periode 1, 2 en 3 per bacheloropleiding.*\n",
    "\n",
    "De verdelingen van alle combinaties van afhankelijke variabelen en groepen zijn te zien in Figuur 3. Voor alle combinaties van variabelen en groepen is de verdeling redelijk symmetrisch en eentoppig en zijn er geen outliers. De verdelingen zijn dus bij benadering normaal. Er is dus voldaan aan de assumptie van multivariate normaliteit.\n",
    "\n",
    "Als er afwijkingen van de normaalverdeling zijn voor één of meerdere groepen, dan is de *MANOVA* nog steeds robuust als het aantal vrijheidsgraden van de residuën groter is dan 20. Dit aantal is te vinden door de *MANOVA* uit te voeren en dit aantal vrijheidsgraden te bekijken. Maak eerst een matrix met daarin de drie afhankelijke variabelen `Gemiddelde_cijfers_bioinformatics$Cijfers_P1`, `Gemiddelde_cijfers_bioinformatics$Cijfers_P2` en `Gemiddelde_cijfers_bioinformatics$Cijfers_P3`. Voer daarna de *MANOVA* uit met de functie `manova()` met als eerste argument de formule `Afhankelijke_variabelen ~ Bacheloropleiding` met links van de tilde de matrix met afhankelijke variabelen `Afhankelijke_variabelen` en rechts van de tilde de onafhankelijke variabele `Bacheloropleiding` en als tweede argument de dataset `data = Gemiddelde_cijfers_bioinformatics` en sla het resultaat op in het object `MANOVA`. Bereken ten slotte het aantal vrijheidsgraden van de residuën met `MANOVA$df.residual`"
   ]
  },
  {
   "cell_type": "code",
   "execution_count": null,
   "id": "4fee5b2e",
   "metadata": {},
   "outputs": [],
   "source": [
    "# Bind de afhankelijke variabelen in een matrix\n",
    "Afhankelijke_variabelen <- cbind(Gemiddelde_cijfers_bioinformatics$Cijfers_P1,\n",
    "                                 Gemiddelde_cijfers_bioinformatics$Cijfers_P2,\n",
    "                                 Gemiddelde_cijfers_bioinformatics$Cijfers_P3)\n",
    "\n",
    "# Voer de MANOVA uit\n",
    "MANOVA <- manova(Afhankelijke_variabelen ~ Bacheloropleiding, \n",
    "                 data = Gemiddelde_cijfers_bioinformatics)\n",
    "\n",
    "# Bereken de vrijheidsgraden van de residuën\n",
    "MANOVA$df.residual\n"
   ]
  },
  {
   "cell_type": "markdown",
   "id": "873a8d2a",
   "metadata": {
    "lines_to_next_cell": 0
   },
   "source": [
    "Het aantal vrijheidsgraden van de residuën is `r MANOVA$df.residual` wat ruim meer is dan 20. Mocht er dus geen multivariate normaliteit zijn op basis van de histogrammen, dan is de *MANOVA* alsnog robuust ten opzichte van een schending van deze assumptie.\n",
    "\n",
    "## Homogeniteit van variantie-covariantie matrices\n",
    "\n",
    "<!-- ## TEKSTBLOK: LeveneTest1.R -->\n",
    "Toets met *Box's M test* de assumptie homogeniteit van variantie-covariantie matrices. Gebruik hiervoor de functie `box_m` van het package `rstatix` met als argumenten de afhankelijke variabelen `Gemiddelde_cijfers_bioinformatics[,c(\"Cijfers_P1\", \"Cijfers_P2\", \"Cijfers_P3\")]` en de onafhankelijke variabelen `Gemiddelde_cijfers_bioinformatics[,\"Bacheloropleiding\"]`.\n",
    "<!-- ## /TEKSTBLOK: LeveneTest1.R -->\n",
    "\n",
    "<!-- ## OPENBLOK: Levenes-test.R -->"
   ]
  },
  {
   "cell_type": "code",
   "execution_count": null,
   "id": "ae739706",
   "metadata": {
    "lines_to_next_cell": 0,
    "message": false,
    "name": "LeveneTest",
    "warning": false
   },
   "outputs": [],
   "source": [
    "library(rstatix)\n",
    "\n",
    "box_m(Gemiddelde_cijfers_bioinformatics[,c(\"Cijfers_P1\",\n",
    "                                           \"Cijfers_P2\",\n",
    "                                           \"Cijfers_P3\")],\n",
    "      Gemiddelde_cijfers_bioinformatics[,\"Bacheloropleiding\"])\n"
   ]
  },
  {
   "cell_type": "markdown",
   "id": "66bfa39f",
   "metadata": {
    "lines_to_next_cell": 0
   },
   "source": [
    "<!-- ## /OPENBLOK: Levenes-test.R -->\n",
    "\n",
    "<!-- ## CLOSEDBLOK: Levenes-test.R -->"
   ]
  },
  {
   "cell_type": "code",
   "execution_count": null,
   "id": "507231b8",
   "metadata": {
    "lines_to_next_cell": 0,
    "name": "Levenes test als object",
    "tags": [
     "remove_input"
    ]
   },
   "outputs": [],
   "source": [
    "library(rstatix)\n",
    "\n",
    "Box <- box_m(Gemiddelde_cijfers_bioinformatics[,c(\"Cijfers_P1\",\n",
    "                                                  \"Cijfers_P2\",\n",
    "                                                  \"Cijfers_P3\")],\n",
    "             Gemiddelde_cijfers_bioinformatics[,\"Bacheloropleiding\"])\n",
    "\n",
    "vF_waarde <- Round_and_format(Box$statistic)\n",
    "vF_p <- Round_and_format(Box$p.value)"
   ]
  },
  {
   "cell_type": "markdown",
   "id": "99e8ee1f",
   "metadata": {
    "lines_to_next_cell": 0
   },
   "source": [
    "<!-- ## /CLOSEDBLOK: Levenes-test.R -->\n",
    "\n",
    "<!-- ## TEKSTBLOK: Levenes-test.R -->\n",
    "* *F* = `r vF_waarde`, p-waarde = `r vF_p`, \n",
    "* De p-waarde is groter dan 0,01, dus er is geen significant verschil gevonden tussen de groepen wat betreft de variantie-covariantie matrices. Er is dus aan de assumptie van homogeniteit van varianties voldaan.\n",
    "\n",
    "<!-- ## TEKSTBLOK: Levenes-test.R -->\n",
    "\n",
    "## Lineariteit\n",
    "\n",
    "Onderzoek of er voor elke bacheloropleiding een lineaire relatie is tussen elk paar van afhankelijke variabelen.\n",
    "\n",
    "<!-- ## OPENBLOK: AssLineariteit1.R -->"
   ]
  },
  {
   "cell_type": "code",
   "execution_count": null,
   "id": "d4c270ec",
   "metadata": {
    "lines_to_next_cell": 0
   },
   "outputs": [],
   "source": [
    "ggplot(Gemiddelde_cijfers_bioinformatics, aes(x = Cijfers_P1, y = Cijfers_P2)) +\n",
    "    geom_point() + ylab(\"Cijfers Periode 2\") + xlab(\"Cijfers Periode 1\") + \n",
    "  facet_wrap(~ Bacheloropleiding)\n"
   ]
  },
  {
   "cell_type": "markdown",
   "id": "5e483097",
   "metadata": {
    "lines_to_next_cell": 0
   },
   "source": [
    "<!-- ## /OPENBLOK: AssLineariteit1.R -->\n",
    "  </div>\n",
    "  <div class=\"col\">\n",
    "<!-- ## OPENBLOK: AssLineariteit1.R -->"
   ]
  },
  {
   "cell_type": "code",
   "execution_count": null,
   "id": "7e93aed1",
   "metadata": {
    "lines_to_next_cell": 0
   },
   "outputs": [],
   "source": [
    "ggplot(Gemiddelde_cijfers_bioinformatics, aes(x = Cijfers_P1, y = Cijfers_P3)) +\n",
    "    geom_point() + ylab(\"Cijfers Periode 3\") + xlab(\"Cijfers Periode 1\") + \n",
    "  facet_wrap(~ Bacheloropleiding)\n"
   ]
  },
  {
   "cell_type": "markdown",
   "id": "f9749b62",
   "metadata": {
    "lines_to_next_cell": 0
   },
   "source": [
    "<!-- ## /OPENBLOK: AssLineariteit1.R -->\n",
    "\n",
    "<!-- ## OPENBLOK: AssLineariteit2.R -->"
   ]
  },
  {
   "cell_type": "code",
   "execution_count": null,
   "id": "7586af6f",
   "metadata": {
    "lines_to_next_cell": 0
   },
   "outputs": [],
   "source": [
    "ggplot(Gemiddelde_cijfers_bioinformatics, aes(x = Cijfers_P2, y = Cijfers_P3)) +\n",
    "    geom_point() + ylab(\"Cijfers Periode 3\") + xlab(\"Cijfers Periode 2\") + \n",
    "  facet_wrap(~ Bacheloropleiding)\n"
   ]
  },
  {
   "cell_type": "markdown",
   "id": "aaec5086",
   "metadata": {},
   "source": [
    "<!-- ## /OPENBLOK: AssLineariteit2.R -->\n",
    "\n",
    "*Figuur 4. Scatter plots van de relatie tussen elk paar van afhankelijke variabelen voor de bacheloropleidingen Biologie, Informatica en Wiskunde.*\n",
    "\n",
    "Op basis van de scatter plots in Figuur 4 lijken er voor elke groep lineaire relaties te zijn tussen alle paren van afhankelijke variabelen. Er is dus aan de assumptie van lineariteit voldaan.\n",
    "\n",
    "## Multicollineariteit\n",
    "\n",
    "<!-- ## TEKSTBLOK: AssMulticollineariteit1.R -->\n",
    "Onderzoek of er sprake is van multicollineariteit bij de afhankelijke variabelen met behulp van Variance Inflation Factors (VIFs). Bereken de VIFs voor elke afhankelijke variabele met de functie `VIF()` van het package `DescTools` waarbij de functie als argument `Multicollineariteit` heeft. Voer hiervoor eerst een regressiemodel waarbij de drie afhankelijke variabelen de predictors zijn. Dit is nodig omdat de functie `VIF()` de VIF berekend voor predictors van een regressiemodel. Voer het regressiemodel uit met de functie `lm()` met als eerste argument de vergelijking `log(Cijfers_P1*Cijfers_P3) ~ Cijfers_P1 + Cijfers_P2 + Cijfers_P3` met links van het tilde de zelfverzonnen afhankelijke variabele `log(Cijfers_P1*Cijfers_P3)` en rechts de predictors `Cijfers_P1`, `Cijfers_P2` en `Cijfers_P3`. Het tweede argument is de dataset `Gemiddelde_cijfers_bioinformatics`. De afhankelijke variabele is hier zelfverzonnen omdat de VIF niet afhankelijk is van deze variabele. De afhankelijke variabele kan dus ook op een andere manier gemaakt worden.\n",
    "<!-- ## /TEKSTBLOK: AssMulticollineariteit1.R -->"
   ]
  },
  {
   "cell_type": "markdown",
   "id": "51dfc281",
   "metadata": {
    "lines_to_next_cell": 0
   },
   "source": [
    "<!-- ## OPENBLOK: AssMulticollineariteit2.R -->"
   ]
  },
  {
   "cell_type": "code",
   "execution_count": null,
   "id": "6610cf2d",
   "metadata": {
    "lines_to_next_cell": 0
   },
   "outputs": [],
   "source": [
    "library(DescTools)\n",
    "\n",
    "# Maak een regressiemodel met de lm() functie met de afhankelijke variabelen als predictor\n",
    "Multicollineariteit <- lm(log(Cijfers_P1*Cijfers_P3) ~ Cijfers_P1 + Cijfers_P2 + Cijfers_P3,\n",
    "                           Gemiddelde_cijfers_bioinformatics)\n",
    "\n",
    "# Bereken de VIF voor de predictors Cijfers_P1, Cijfers_P2 en Cijfers_P3\n",
    "VIF(Multicollineariteit)\n"
   ]
  },
  {
   "cell_type": "markdown",
   "id": "00934063",
   "metadata": {
    "lines_to_next_cell": 0
   },
   "source": [
    "<!-- ## /OPENBLOK: AssMulticollineariteit2.R -->\n",
    "\n",
    "Geen enkele van de VIFs is hoger dan 10, dus er is voldaan aan de assumptie van multicollineariteit.\n",
    "\n",
    "# MANOVA\n",
    "\n",
    "<!-- ## TEKSTBLOK: Uitvoering1.R -->\n",
    "Voer de *MANOVA* uit om te onderzoeken of er verschillen zijn tussen studenten afkomstig van de bacheloropleidingen Biologie, Informatica en Wiskunde wat betreft hun gemiddelde cijfers in periode 1, 2 en 3 voor de master Bioinformatics. Maak eerst een matrix met daarin de drie afhankelijke variabelen `Gemiddelde_cijfers_bioinformatics$Cijfers_P1`, `Gemiddelde_cijfers_bioinformatics$Cijfers_P2` en `Gemiddelde_cijfers_bioinformatics$Cijfers_P3`. Voer daarna de *MANOVA* uit met de functie `manova()` met als eerste argument de formule `Afhankelijke_variabelen ~ Bacheloropleiding` met links van de tilde de matrix met afhankelijke variabelen `Afhankelijke_variabelen` en rechts van de tilde de onafhankelijke variabele `Bacheloropleiding` en als tweede argument de dataset `data = Gemiddelde_cijfers_bioinformatics` en sla het resultaat op in het object `MANOVA`. Geef vervolgens de resultaten weer met de toetsstatistiek *Wilks's Lambda* met behulp van de functie `summary.manova()` met als argumenten het MANOVA object `MANOVA` en `test = \"Wilks\"` om aan te geven dat *Wilks's Lambda* gebruikt moet worden.\n",
    "\n",
    "<!-- ## /TEKSTBLOK: Uitvoering1.R -->\n",
    "\n",
    "<!-- ## OPENBLOK: Uitvoering2.R -->"
   ]
  },
  {
   "cell_type": "code",
   "execution_count": null,
   "id": "737a717a",
   "metadata": {
    "lines_to_next_cell": 0
   },
   "outputs": [],
   "source": [
    "# Sla de afhankelijke variabelen op in een matrix\n",
    "Afhankelijke_variabelen <- cbind(Gemiddelde_cijfers_bioinformatics$Cijfers_P1,\n",
    "                                 Gemiddelde_cijfers_bioinformatics$Cijfers_P2,\n",
    "                                 Gemiddelde_cijfers_bioinformatics$Cijfers_P3)\n",
    "\n",
    "# Voer de MANOVA uit\n",
    "MANOVA <- manova(Afhankelijke_variabelen ~ Bacheloropleiding, \n",
    "                 data = Gemiddelde_cijfers_bioinformatics)\n",
    "\n",
    "# Laat de resultaten zien voor de toetsstatistiek Wilks's Lambda\n",
    "summary.manova(MANOVA, test = \"Wilks\")\n"
   ]
  },
  {
   "cell_type": "markdown",
   "id": "6c5368ec",
   "metadata": {
    "lines_to_next_cell": 0
   },
   "source": [
    "<!-- ## /OPENBLOK: Uitvoering2.R -->\n",
    "\n",
    "<!-- ## CLOSEDBLOK: Uitvoering3.R -->"
   ]
  },
  {
   "cell_type": "code",
   "execution_count": null,
   "id": "1d7c7e5e",
   "metadata": {
    "lines_to_next_cell": 0,
    "tags": [
     "remove_input"
    ]
   },
   "outputs": [],
   "source": [
    "# Sla de afhankelijke variabelen op in een matrix\n",
    "Afhankelijke_variabelen <- cbind(Gemiddelde_cijfers_bioinformatics$Cijfers_P1,\n",
    "                                 Gemiddelde_cijfers_bioinformatics$Cijfers_P2,\n",
    "                                 Gemiddelde_cijfers_bioinformatics$Cijfers_P3)\n",
    "\n",
    "# Voer de MANOVA uit\n",
    "MANOVA <- manova(Afhankelijke_variabelen ~ Bacheloropleiding, \n",
    "                 data = Gemiddelde_cijfers_bioinformatics)\n",
    "\n",
    "# Laat de resultaten zien voor de toetsstatistiek Wilks's Lambda\n",
    "Res_MANOVA <- summary.manova(MANOVA, test = \"Wilks\")$stats\n",
    "\n",
    "\n",
    "vWilks <- Round_and_format(Res_MANOVA[1, 2])\n",
    "vF <- Round_and_format(Res_MANOVA[1, 3])\n",
    "vDF1 <- Round_and_format(Res_MANOVA[1, 4])\n",
    "vDF2 <- Round_and_format(Res_MANOVA[1, 5])\n"
   ]
  },
  {
   "cell_type": "markdown",
   "id": "d74e8dbb",
   "metadata": {},
   "source": [
    "<!-- ## /CLOSEDBLOK: Uitvoering3.R -->\n",
    "\n",
    "<!-- ## TEKSTBLOK: ANOVA-toets2.R -->\n",
    "\n",
    "* Er is een significant effect van de variabele Bacheloropleiding op een lineaire combinatie van de afhankelijke variabelen Cijfers_P1, Cijfers P2 en Cijfers_P3 (*&Lambda;* = `r vWilks`, *F* (`r vDF1`,`r vDF2`) = `r vF`, *p* < 0,0001)\n",
    "* De p-waarde is kleiner dan 0,05, dus de nulhypothese dat er geen interactie-effect is wordt verworpen.[^18] \n",
    "* Omdat de *MANOVA* een significant resultaat laat zien, kan er voor elke afhankelijke variabele apart een *ANOVA* uitgevoerd worden\n",
    "\n",
    "<!-- ## /TEKSTBLOK: ANOVA-toets2.R -->"
   ]
  },
  {
   "cell_type": "markdown",
   "id": "30adaba0",
   "metadata": {
    "lines_to_next_cell": 0
   },
   "source": [
    "# ANOVA's voor elke afhankelijke variabele\n",
    "\n",
    "<!-- ## TEKSTBLOK: ANOVA-toets2_1.R -->\n",
    "Voer voor de afhankelijke variabelen Cijfers_P1, Cijfers_P2 en Cijfers_P3 apart een *ANOVA* uit. Om de *ANOVA* uit te voeren, moeten eerst de assumptie van normaliteit en homogeniteit van varianties getoetst worden, voor meer informatie zie de toetspagina's van de [one-way ANOVA](05-One-way-ANOVA-R.html) en de [factoriële ANOVA](29-Factoriele-ANOVA-R.html). De assumptie van normaliteit is al getoetst voordat de *MANOVA* is uitgevoerd. Hieruit bleek dat de verdeling voor elke groep voor elke afhankelijke variabele de normaalverdeling benaderd, dus er is ook voor de *ANOVA* aan deze assumptie voldaan. De assumptie van homogeniteit van varianties moet wel getoetst worden, omdat bij de *MANOVA* de homogeniteit van variantie-covariantie matrices getoetst wordt.\n",
    "\n",
    "Toets de assumptie van homogeniteit van varianties met de *Levene's test*. Gebruik hiervoor de functie `leveneTest()` van het package `car` met als eerste argument de vergelijking `Cijfers_P1 ~ Bacheloropleiding` met links van de tilde de afhankelijke variabele `Cijfers_P1` (of `Cijfers_P2` of `Cijfers_P3`) en rechts van de tilde de onafhankelijke variabele `Bacheloropleiding` en als tweede argument de dataset `Gemiddelde_cijfers_bioinformatics`.\n",
    "<!-- ## /TEKSTBLOK: ANOVA-toets2_1.R -->\n",
    "\n",
    "<!-- ## OPENBLOK: ANOVA-toets2_2.R -->"
   ]
  },
  {
   "cell_type": "code",
   "execution_count": null,
   "id": "1ea3b8e4",
   "metadata": {
    "lines_to_next_cell": 0
   },
   "outputs": [],
   "source": [
    "library(car)\n",
    "\n",
    "leveneTest(Cijfers_P1 ~ Bacheloropleiding, Gemiddelde_cijfers_bioinformatics)\n",
    "leveneTest(Cijfers_P2 ~ Bacheloropleiding, Gemiddelde_cijfers_bioinformatics)\n",
    "leveneTest(Cijfers_P3 ~ Bacheloropleiding, Gemiddelde_cijfers_bioinformatics)\n"
   ]
  },
  {
   "cell_type": "markdown",
   "id": "f4566d5a",
   "metadata": {},
   "source": [
    "<!-- ## /OPENBLOK: ANOVA-toets2_2.R -->"
   ]
  },
  {
   "cell_type": "markdown",
   "id": "dc81f772",
   "metadata": {
    "lines_to_next_cell": 0
   },
   "source": [
    "Voor alle drie de afhankelijke variabelen is de *Levene's test* niet significant, dus alle variabelen voldoen aan de assumptie van homogeniteit van varianties. De *ANOVA's* kunnen uitgevoerd worden.\n",
    "\n",
    "<!-- ## TEKSTBLOK: ANOVA-toets2_3.R -->\n",
    "Gebruik hiervoor de functie `aov()` met als eerste argument de vergelijking `Cijfers_P1 ~ Bacheloropleiding` met links van de tilde de afhankelijke variabele `Cijfers_P1` (of `Cijfers_P2` of `Cijfers_P3`) en rechts van de tilde de onafhankelijke variabele `Bacheloropleiding` en als tweede argument de dataset `Gemiddelde_cijfers_bioinformatics` en sla het resultaat op. Om te corrigeren voor het feit dat er drie toetsen tegelijkertijd uitgevoerd worden, wordt een Bonferroni correctie uitgevoerd door het significantieniveau van 0,05 door het aantal toetsen (drie) te delen. Dit levert een nieuw significantieniveau van 0,017 (0,05 / 3 = 0,017) op. Waar normaliter de p-waarde van de *ANOVA* met het significantieniveau 0,05 vergeleken wordt, wordt de p-waarde nu met het significantieniveau 0,017 vergeleken. Laat vervolgens de resultaten zien met de functie `summary()` met als argument het ANOVA object. Bereken daarna de effectmaat *partial eta squared* met de functie `EtaSq()` van het package `DescTools` als argument het ANOVA object.\n",
    "<!-- ## /TEKSTBLOK: ANOVA-toets2_3.R -->\n",
    "\n",
    "<!-- ## OPENBLOK: ANOVA-toets3.R -->"
   ]
  },
  {
   "cell_type": "code",
   "execution_count": null,
   "id": "25406d87",
   "metadata": {},
   "outputs": [],
   "source": [
    "library(DescTools)\n",
    "\n",
    "# Voer de ANOVA's uit\n",
    "ANOVA_P1 <- aov(Cijfers_P1 ~ Bacheloropleiding, Gemiddelde_cijfers_bioinformatics)\n",
    "ANOVA_P2 <- aov(Cijfers_P2 ~ Bacheloropleiding, Gemiddelde_cijfers_bioinformatics)\n",
    "ANOVA_P3 <- aov(Cijfers_P3 ~ Bacheloropleiding, Gemiddelde_cijfers_bioinformatics)\n",
    "\n",
    "# Laat de resultaten zien\n",
    "summary(ANOVA_P1)\n",
    "summary(ANOVA_P2)\n",
    "summary(ANOVA_P3)\n",
    "\n",
    "# Bereken de effectmaat\n",
    "EtaSq(ANOVA_P1)\n",
    "EtaSq(ANOVA_P2)\n",
    "EtaSq(ANOVA_P3)\n"
   ]
  },
  {
   "cell_type": "markdown",
   "id": "557702f1",
   "metadata": {
    "lines_to_next_cell": 0
   },
   "source": [
    "<!-- ## /OPENBLOK: ANOVA-toets3.R -->\n",
    "\n",
    "<!-- ## CLOSEDBLOK: ANOVA-toets4.R -->"
   ]
  },
  {
   "cell_type": "code",
   "execution_count": null,
   "id": "dea7800b",
   "metadata": {
    "lines_to_next_cell": 0,
    "tags": [
     "remove_input"
    ]
   },
   "outputs": [],
   "source": [
    "library(DescTools)\n",
    "\n",
    "ANOVA_P1 <- aov(Cijfers_P1 ~ Bacheloropleiding, Gemiddelde_cijfers_bioinformatics)\n",
    "ANOVA_P2 <- aov(Cijfers_P2 ~ Bacheloropleiding, Gemiddelde_cijfers_bioinformatics)\n",
    "ANOVA_P3 <- aov(Cijfers_P3 ~ Bacheloropleiding, Gemiddelde_cijfers_bioinformatics)\n",
    "\n",
    "Res_P1 <- summary(ANOVA_P1)[[1]]\n",
    "Res_P2 <- summary(ANOVA_P2)[[1]]\n",
    "Res_P3 <- summary(ANOVA_P3)[[1]]\n",
    "\n",
    "Eta_P1 <- Round_and_format(EtaSq(ANOVA_P1)[1,2])\n",
    "Eta_P2 <- Round_and_format(EtaSq(ANOVA_P2)[1,2])\n",
    "Eta_P3 <- Round_and_format(EtaSq(ANOVA_P3)[1,2])\n",
    "\n",
    "F_P1 <- Round_and_format(Res_P1$`F value`[1])\n",
    "F_P2 <- Round_and_format(Res_P2$`F value`[1])\n",
    "F_P3 <- Round_and_format(Res_P3$`F value`[1])\n",
    "\n",
    "DF1_P1 <- Res_P1$Df[1]\n",
    "DF1_P2 <- Res_P2$Df[1]\n",
    "DF1_P3 <- Res_P3$Df[1]\n",
    "\n",
    "DF2_P1 <- Res_P1$Df[2]\n",
    "DF2_P2 <- Res_P2$Df[2]\n",
    "DF2_P3 <- Res_P3$Df[2]\n"
   ]
  },
  {
   "cell_type": "markdown",
   "id": "08db07c7",
   "metadata": {
    "lines_to_next_cell": 0
   },
   "source": [
    "<!-- ## /CLOSEDBLOK: ANOVA-toets4.R -->\n",
    "\n",
    "<!-- ## TEKSTBLOK: ANOVA-toets5.R -->\n",
    "* Er is een significant verschil tussen de bacheloropleidingen wat betreft het gemiddelde cijfer in periode 1, *F* (`r DF1_P1`,`r DF2_P1`) = `r F_P1`, *p* < 0,0001, *η^2^* = `r Eta_P1`\n",
    "* Er is een significant verschil tussen de bacheloropleidingen wat betreft het gemiddelde cijfer in periode 2, *F* (`r DF1_P2`,`r DF2_P2`) = `r F_P2`, *p* < 0,0001, *η^2^* = `r Eta_P2`\n",
    "* Er is een significant verschil tussen de bacheloropleidingen wat betreft het gemiddelde cijfer in periode 3, *F* (`r DF1_P3`,`r DF2_P3`) = `r F_P3`, *p* < 0,0001, *η^2^* = `r Eta_P3`\n",
    "* Voor alle drie de perioden is er een significant verschil tussen de gemiddelde cijfers van de drie bacheloropleidingen. Er kunnen voor iedere periode dus post-hoc toetsen uitgevoerd worden\n",
    "\n",
    "<!-- ## /TEKSTBLOK: ANOVA-toets5.R -->\n",
    "\n",
    "# Post-hoc toetsen\n",
    "\n",
    "<!-- ## TEKSTBLOK: PHtest1.R -->\n",
    "Voer post-hoc toetsen uit om te onderzoeken welke bacheloropleidingen van elkaar verschillen voor de gemiddelde cijfers in periode 1, 2 en 3. Gebruik hiervoor de functie `TukeyHSD()` met als argument het ANOVA-object van bijvoorbeeld periode 1 `ANOVA_P1`.\n",
    "<!-- ## /TEKSTBLOK: PHtest1.R -->\n",
    "\n",
    "<!-- ## OPENBLOK: PHtest2.R -->"
   ]
  },
  {
   "cell_type": "code",
   "execution_count": null,
   "id": "9ff67a6a",
   "metadata": {
    "lines_to_next_cell": 0
   },
   "outputs": [],
   "source": [
    "TukeyHSD(ANOVA_P1)\n",
    "TukeyHSD(ANOVA_P2)\n",
    "TukeyHSD(ANOVA_P3)\n"
   ]
  },
  {
   "cell_type": "markdown",
   "id": "5e88ff91",
   "metadata": {
    "lines_to_next_cell": 0
   },
   "source": [
    "<!-- ## /OPENBLOK: PHtest2.R -->\n",
    "\n",
    "<!-- ## CLOSEDBLOK: PHtest3.R -->"
   ]
  },
  {
   "cell_type": "code",
   "execution_count": null,
   "id": "a54c34a3",
   "metadata": {
    "lines_to_next_cell": 0,
    "tags": [
     "remove_input"
    ]
   },
   "outputs": [],
   "source": [
    "PH_P1 <- TukeyHSD(ANOVA_P1)[[1]]\n",
    "PH_P2 <- as.data.frame(TukeyHSD(ANOVA_P2)[[1]])\n",
    "PH_P3 <- as.data.frame(TukeyHSD(ANOVA_P3)[[1]])"
   ]
  },
  {
   "cell_type": "markdown",
   "id": "88b5fdff",
   "metadata": {},
   "source": [
    "<!-- ## /CLOSEDBLOK: PHtest3.R -->\n",
    "\n",
    "<!-- ## TEKSTBLOK: PHtest4.R -->\n",
    "De resultaten van de post-hoc toetsen voor de gemiddelde cijfers van periode 1 zijn[^18]:\n",
    "\n",
    "* Informatica versus Biologie: het verschil in gemiddelde (Informatica - Biologie) is `r Round_and_format(PH_P1[1,1])`, dit is een significant verschil (*p* < 0,0001).\n",
    "* Wiskunde versus Biologie: het verschil in gemiddelde (Wiskunde - Biologie) is `r Round_and_format(PH_P1[2,1])`, dit is een significant verschil (*p* < 0,0001).\n",
    "* Wiskunde versus Informatica: het verschil in gemiddelde (Wiskunde - Informatica) is `r Round_and_format(PH_P1[3,1])`, dit is geen significant verschil (*p* = `r Round_and_format(PH_P1[3,4])`).\n",
    "\n",
    "De resultaten van de post-hoc toetsen voor de gemiddelde cijfers van periode 2 zijn:\n",
    "\n",
    "* Informatica versus Biologie: het verschil in gemiddelde (Informatica - Biologie) is `r Round_and_format(PH_P2[1,1])`, dit is een significant verschil (*p* < 0,0001).\n",
    "* Wiskunde versus Biologie: het verschil in gemiddelde (Wiskunde - Biologie) is `r Round_and_format(PH_P2[2,1])`, dit is een significant verschil (*p* < 0,0001).\n",
    "* Wiskunde versus Informatica: het verschil in gemiddelde (Wiskunde - Informatica) is `r Round_and_format(PH_P2[3,1])`, dit is geen significant verschil (*p* = `r Round_and_format(PH_P2[3,4])`).\n",
    "\n",
    "De resultaten van de post-hoc toetsen voor de gemiddelde cijfers van periode 3 zijn:\n",
    "\n",
    "* Informatica versus Biologie: het verschil in gemiddelde (Informatica - Biologie) is `r Round_and_format(PH_P3[1,1])`, dit is een significant verschil (*p* < 0,0001).\n",
    "* Wiskunde versus Biologie: het verschil in gemiddelde (Wiskunde - Biologie) is `r Round_and_format(PH_P3[2,1])`, dit is een significant verschil (*p* < 0,0001).\n",
    "* Wiskunde versus Informatica: het verschil in gemiddelde (Wiskunde - Informatica) is `r Round_and_format(PH_P3[3,1])`, dit is geen significant verschil (*p* = `r Round_and_format(PH_P3[3,4])`).\n",
    "\n",
    "<!-- ## /TEKSTBLOK: PHtest4.R -->\n",
    "\n",
    "# Rapportage\n",
    "\n",
    "<!-- ## TEKSTBLOK: Rapportage.R -->\n",
    "DE *MANOVA* is uitgevoerd om te onderzoeken of er verschillen zijn in de gemiddelde cijfers van masterstudenten Bioinformatics voor periode 1, 2 en 3 tussen studenten afkomstig van de bacheloropleidingen Biologie, Informatica en Wiskunde. Uit de resultaten van de *MANOVA* blijkt er een significant verschil te zijn tussen de drie bacheloropleidingen voor de gemiddelde cijfers voor minimaal één van de onderwijsperiodes, *&Lambda;* = `r vWilks`, *F* (`r vDF1`,`r vDF2`) = `r vF`, *p* < 0,0001.\n",
    "\n",
    "Vervolgens zijn er voor elke onderwijsperiode *ANOVA's* uitgevoerd om te toetsen of de gemiddelden verschillen per bacheloropleiding. Er is een Bonferroni-correctie gebruikt omdat er drie afhankelijke variabelen tegelijkertijd getoetst worden. Er is een significant verschil tussen de bacheloropleidingen wat betreft het gemiddelde cijfer in periode 1 (*F* (`r DF1_P1`,`r DF2_P1`) = `r F_P1`, *p* < 0,0001, *η^2^* = `r Eta_P1`), periode 2 (*F* (`r DF1_P2`,`r DF2_P2`) = `r F_P2`, *p* < 0,0001, *η^2^* = `r Eta_P2`) en periode 3 (*F* (`r DF1_P3`,`r DF2_P3`) = `r F_P3`, *p* < 0,0001, *η^2^* = `r Eta_P3`). De post-hoc toetsen laten zien dat er voor alle drie de perioden geen significante verschillen zijn tussen de bacheloropleidingen Wiskunde en Informatica, maar wel significante verschillen tussen Wiskunde en Biologie en Informatica en Biologie. Uit de resultaten van de post-hoc toetsen en Figuur 5 is af te leiden dat de studenten van de bacheloropleidingen Wiskunde en Informatica een hoger gemiddeld cijfer behalen in periode 1 en 2 en dat studenten van de bacheloropleiding Biologie een hoger gemiddeld cijfer behalen in periode 3. Het lijkt er dus op dat het per periode verschilt welke bacheloropleiding studenten het beste voorbereid op de master.\n",
    "\n",
    "<!-- ## /TEKSTBLOK: Rapportage.R -->"
   ]
  },
  {
   "cell_type": "markdown",
   "id": "02206b71",
   "metadata": {
    "lines_to_next_cell": 0
   },
   "source": [
    "<!-- ## CLOSEDBLOK: Rapportage1.R -->"
   ]
  },
  {
   "cell_type": "code",
   "execution_count": null,
   "id": "e6660911",
   "metadata": {
    "lines_to_next_cell": 0,
    "message": false,
    "tags": [
     "remove_input"
    ],
    "warning": false
   },
   "outputs": [],
   "source": [
    "library(reshape)\n",
    "\n",
    "Gemiddelde_cijfers_bioinformatics_lang <- melt(Gemiddelde_cijfers_bioinformatics,\n",
    "                                               id.vars = c(\"Studentnummer\", \n",
    "                                                           \"Bacheloropleiding\"),\n",
    "                                               measure.vars = c(\"Cijfers_P1\", \n",
    "                                                                \"Cijfers_P2\", \n",
    "                                                                \"Cijfers_P3\"),\n",
    "                                               variable_name = \"Periode\")\n",
    "\n",
    "library(ggplot2)\n",
    "\n",
    "ggplot(Gemiddelde_cijfers_bioinformatics_lang, \n",
    "       aes(x = Periode, y = value, group = Bacheloropleiding, colour = Bacheloropleiding)) + \n",
    "  stat_summary(fun = mean, geom = \"point\") +  \n",
    "  stat_summary(fun = mean, geom = \"line\", aes(group = Bacheloropleiding)) + \n",
    "  scale_color_manual(values = c(\"darkorange\", \"deepskyblue\",\"darkgreen\")) \n",
    "\n"
   ]
  },
  {
   "cell_type": "markdown",
   "id": "d019ecbb",
   "metadata": {},
   "source": [
    "<!-- ## /CLOSEDBLOK: Rapportage1.R -->\n",
    "\n",
    "*Figuur 5.  Gemiddelde cijfers voor periode 1, 2 en 3 voor studenten bioinformatics met als bacheloropleidingen Biologie, Informatica en Wiskunde.*\n"
   ]
  },
  {
   "cell_type": "markdown",
   "id": "faa42bd3",
   "metadata": {
    "lines_to_next_cell": 0
   },
   "source": [
    "<!-- ## CLOSEDBLOK: Footer.R -->"
   ]
  },
  {
   "cell_type": "code",
   "execution_count": null,
   "id": "7fbea4d8",
   "metadata": {
    "code": "#R_CODE#readLines(paste0(here::here(),\"/01. Includes/code/Footer.R\"))",
    "include": true,
    "lines_to_next_cell": 0,
    "name": "footer",
    "results": "asis",
    "tags": [
     "remove_input"
    ]
   },
   "outputs": [],
   "source": []
  },
  {
   "cell_type": "markdown",
   "id": "22ddcdc6",
   "metadata": {},
   "source": [
    "<!-- ## /CLOSEDBLOK: Footer.R -->\n",
    "\n",
    "[^1]: Laerd Statistics (2018). *One-way MANOVA in SPSS Statistics*. https://statistics.laerd.com/spss-tutorials/one-way-manova-using-spss-statistics.php\n",
    "[^2]: Onderscheidend vermogen, in het Engels power genoemd, is de kans dat de nulhypothese verworpen wordt wanneer de alternatieve hypothese 'waar' is.  \n",
    "[^3]: Tabachnick, B.G. & Fidell, L.S. (2013). *Using multivariate statistics*. Sixth Edition, Pearson. Pagina 86.\n",
    "[^4]: Field, A. (2013). *Discovering statistics using IBM SPSS statistics*. Sage. Pagina 293-356.\n",
    "[^5]: Universiteit van Amsterdam (13 augustus 2016). *Outliers*. [UvA Wiki Methodologiewinkel](https://wiki.uva.nl/methodologiewinkel/index.php/Outliers).  \n",
    "[^6]: Standaardiseren houdt in dat de variabelen getransformeerd worden zodat ze een gemiddelde van 0 hebben en een standaardafwijking van 1. Dit wordt gedaan door voor alle observaties van een variabele eerst het gemiddelde af te trekken en daarna te delen door de standaardafwijking, i.e. $\\frac{x_i - \\mu}{\\sigma}$.\n",
    "[^7]: Er zijn verschillende opties om variabelen te transformeren, zoals de logaritme, wortel of inverse (1 gedeeld door de variabele) nemen van de variabele. Zie *Discovering statistics using IBM SPSS statistics* van Field (2013) pagina 201-210 voor meer informatie over welke transformaties wanneer gebruikt kunnen worden.\n",
    "[^8]: Universiteit van Amsterdam (7 juli 2014). *Lineariteit*. [UvA Wiki Methodologiewinkel](https://wiki.uva.nl/methodologiewinkel/index.php/Lineariteit).\n",
    "[^9]: Stat 501. *12.4 - Detecting Multicollinearity Using Variance Inflation Factors*. [PennState Eberly College of Science](https://online.stat.psu.edu/stat501/lesson/12/12.4).\n",
    "[^10]: Field, A. (2013). *Discovering statistics using IBM SPSS statistics*. \n",
    "Sage. Pagina 507-542.\n",
    "[^13]: Field, A., Miles, J., & Field, Z. (2012). *Discovering statistics using R*. London: Sage publications.\n",
    "[^14]: Tabachnick, B.G. & Fidell, L.S. (2013). *Using multivariate statistics*. Sixth Edition, Pearson. Pagina 54 - 55.\n",
    "[^15]: Allen, P. & Bennett, K. (2012). *SPSS A practical Guide version 20.0*. Cengage Learning Australia Pty Limited. Pagina 84.\n",
    "[^16]: Outliers (13 augustus 2016). [UvA Wiki Methodologiewinkel](https://wiki.uva.nl/methodologiewinkel/index.php/Outliers).\n",
    "[^17]: Outliers kunnen bepalend zijn voor de uitkomst van toetsen. Bekijk of de outliers valide outliers zijn en niet een meetfout of op een andere manier incorrect verkregen data. Het weghalen van outliers kan de uitkomst ook vertekenen, daarom is het belangrijk om verwijderde outliers te melden in een rapport. \n",
    "[^18]: In dit voorbeeld wordt uitgegaan van een waarschijnlijkheid van 95% c.q. een p-waardegrens van 0,05. De grens is naar eigen inzicht aan te passen; houd hierbij rekening met type I en type II fouten.\n",
    "[^19]: Met een deelnemer wordt het object bedoeld dat geobserveerd wordt, bijvoorbeeld een student, een inwoner van Nederland, een opleiding of een organisatie. Met een observatie wordt de waarde bedoeld die de deelnemer heeft voor een bepaalde variabele. Een deelnemer heeft dus meestal een observatie voor meerdere variabelen.\n",
    "[^20]: Tabachnick, B.G. & Fidell, L.S. (2013). *Using multivariate statistics*. Sixth Edition, Pearson. Pagina 285 - 354.\n",
    "[^21]: Wikipedia (2020). [Multivariate normal distribution](https://en.wikipedia.org/wiki/Multivariate_normal_distribution)\n",
    "[^22]: Field, A. (2013). *Discovering statistics using IBM SPSS statistics*. Sage. Pagina 623-664.\n",
    "[^23]: Tabachnick, B.G. & Fidell, L.S. (2013). *Using multivariate statistics*. Sixth Edition, Pearson. Pagina 72 - 77.\n",
    "[^24]: De breedte van de staven van het histogram wordt vaak automatisch bepaald, maar kan handmatig aangepast worden. Aangezien de breedte van de staven bepalend zijn voor de indruk die de visualisatie geeft, is het verstandig om hier goed op te letten.\n"
   ]
  }
 ],
 "metadata": {
  "jupytext": {
   "cell_metadata_filter": "message,tags,name,warning,echo,code,results,collapse,include,-all",
   "main_language": "R",
   "notebook_metadata_filter": "-all"
  }
 },
 "nbformat": 4,
 "nbformat_minor": 5
}
