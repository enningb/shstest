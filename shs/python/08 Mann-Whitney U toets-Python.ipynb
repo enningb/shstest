{
 "cells": [
  {
   "cell_type": "raw",
   "id": "3680645f",
   "metadata": {
    "lines_to_next_cell": 0
   },
   "source": [
    "---\n",
    "title: \"Mann-Whitney U toets\"\n",
    "output:\n",
    "  html_document:\n",
    "    theme: lumen\n",
    "    toc: yes\n",
    "    toc_float: \n",
    "      collapsed: FALSE \n",
    "    number_sections: true\n",
    "  keywords: [statistisch handboek, studiedata]\n",
    "---"
   ]
  },
  {
   "cell_type": "markdown",
   "id": "60b7b2b4",
   "metadata": {
    "lines_to_next_cell": 0
   },
   "source": [
    "<!-- ## CLOSEDBLOK: Functies.py -->"
   ]
  },
  {
   "cell_type": "code",
   "execution_count": null,
   "id": "349e8de4",
   "metadata": {
    "include": true,
    "lines_to_next_cell": 0,
    "message": false,
    "name": "functies",
    "results": "asis",
    "tags": [
     "remove_input"
    ],
    "warning": false
   },
   "outputs": [],
   "source": [
    "%%R\n",
    "library(here)\n",
    "if (!exists(\"Substitute_var\")) {\n",
    "  ## Installeer packages en functies\n",
    "  source(paste0(here::here(), \"/99. Functies en Libraries/00. Voorbereidingen.R\"), echo = FALSE)\n",
    "}"
   ]
  },
  {
   "cell_type": "markdown",
   "id": "3c9cb049",
   "metadata": {
    "lines_to_next_cell": 0
   },
   "source": [
    "<!-- ## /CLOSEDBLOK: Functies.py -->\n",
    "\n",
    "<style>\n",
    "`r htmltools::includeHTML(paste0(here::here(),\"/01. Includes/css/Stylesheet_SHHO.css\"))`\n",
    "</style>\n",
    "\n",
    "<!-- ## CLOSEDBLOK: Header.py -->"
   ]
  },
  {
   "cell_type": "code",
   "execution_count": null,
   "id": "fc6d723b",
   "metadata": {
    "code": "#R_CODE#readLines(paste0(here::here(),\"/01. Includes/code/Header.R\"))",
    "include": true,
    "lines_to_next_cell": 0,
    "name": "header",
    "results": "asis",
    "tags": [
     "remove_input"
    ]
   },
   "outputs": [],
   "source": [
    "%%R\n"
   ]
  },
  {
   "cell_type": "markdown",
   "id": "6acd96ec",
   "metadata": {
    "lines_to_next_cell": 0
   },
   "source": [
    "<!-- ## /CLOSEDBLOK: Header.py -->\n",
    "\n",
    "<!-- ## CLOSEDBLOK: Status.py -->"
   ]
  },
  {
   "cell_type": "code",
   "execution_count": null,
   "id": "d2d745e4",
   "metadata": {
    "code": "#R_CODE#readLines(paste0(here::here(),\"/01. Includes/code/Status.R\"))",
    "include": true,
    "lines_to_next_cell": 0,
    "name": "status",
    "results": "asis",
    "tags": [
     "remove_input"
    ]
   },
   "outputs": [],
   "source": [
    "%%R\n"
   ]
  },
  {
   "cell_type": "markdown",
   "id": "eab8eab7",
   "metadata": {
    "lines_to_next_cell": 0
   },
   "source": [
    "<!-- ## /CLOSEDBLOK: Status.py -->\n",
    "\n",
    "<!-- ## CLOSEDBLOK: Reticulate.py -->"
   ]
  },
  {
   "cell_type": "code",
   "execution_count": null,
   "id": "2ac58e47",
   "metadata": {
    "include": true,
    "lines_to_next_cell": 0,
    "message": false,
    "name": "reticulate",
    "tags": [
     "remove_input"
    ],
    "warning": false
   },
   "outputs": [],
   "source": [
    "%%R\n",
    "library(reticulate)\n",
    "knitr::knit_engines$set(python = reticulate::eng_python)"
   ]
  },
  {
   "cell_type": "markdown",
   "id": "d48164ee",
   "metadata": {
    "lines_to_next_cell": 0
   },
   "source": [
    "<!-- ## /CLOSEDBLOK: Reticulate.py -->\n",
    "\n",
    "<!-- ## OPENBLOK: Data-aanmaken.py -->"
   ]
  },
  {
   "cell_type": "code",
   "execution_count": null,
   "id": "15cccdd0",
   "metadata": {
    "echo": true,
    "lines_to_next_cell": 0,
    "name": "aanmaken data",
    "tags": [
     "remove_cell"
    ]
   },
   "outputs": [],
   "source": [
    "%%R\n",
    "source(paste0(here::here(),\"/01. Includes/data/08.R\"))"
   ]
  },
  {
   "cell_type": "markdown",
   "id": "d70db307",
   "metadata": {
    "lines_to_next_cell": 0
   },
   "source": [
    "<!-- ## /OPENBLOK: Data-aanmaken.py -->\n",
    "# Toepassing\n",
    "Gebruik de *Mann-Whitney U toets* om te toetsen of twee onafhankelijke groepen significant van elkaar verschillen. \n",
    "\n",
    "Deze toets wordt ook *Mann–Whitney–Wilcoxon*, *Wilcoxon rank-sum toets*, of *Wilcoxon–Mann–Whitney toets* genoemd.[^1] Niet te verwarren met de *Wilcoxon Signed Rank Test* die toets of twee afhankelijke groepen significant van elkaar verschillen. \n",
    "\n",
    "De *Mann-Whitney U toets* kan een alternatief zijn voor de *ongepaarde t-toets*. De *Mann-Whitney U toets* stelt minder eisen aan de data en hoeft onder andere niet te voldoen aan de assumptie van normaliteit. Bij de *Mann-Whitney U toets* hebben uitbijters minder invloed op het eindresultaat dan bij de *ongepaarde t-toets*. Daarentegen, als de data wel normaal verdeeld zijn heeft de *Mann-Whitney U toets* minder onderscheidend vermogen dan de *ongepaarde t-toets*.[^2] Vandaar dat ondanks de voordelen er toch minder vaak voor de *Mann-Whitney U toets* test gekozen wordt. \n",
    "\n",
    "# Onderwijscasus\n",
    "<div id =\"casus\">\n",
    "De directeur van een hogeschool vraagt zich af wat de invloed is van internationalisering op zijn instelling. Om uitval een minder grote rol te laten spelen, gebruikt hij hiervoor het totaal aantal punten behaald in het tweedejaar. Hij vraagt af: ‘Is het behaald aantal EC in het tweede jaar van internationale studenten anders is dan dat van de Nederlandse studenten?’ \n",
    "\n",
    "*H~0~*: De verdeling van het behaalde aantal EC in het tweede jaar van internationale studenten is hetzelfde als de verdeling van Nederlandse studenten. \n",
    "\n",
    "*H~A~*: De verdeling van het behaalde aantal EC in het tweede jaar van internationale studenten is anders dan de verdeling van Nederlandse studenten.\n",
    "</div>\n",
    "\n",
    "# Assumpties\n",
    "Voor een valide resultaat moeten de data aan een aantal voorwaarden voldoen voordat de toets uitgevoerd kan worden: de data zijn nomimaal, ordinaal of numeriek. De groepen zijn onafhankelijk van elkaar [^3] en het aantal groepen is 2. Gebruik bij meer dan 2 groepen de *Kruskal Wallis toets*.\n",
    "\n",
    "# Uitvoering \n",
    "<!-- ## TEKSTBLOK: Dataset-inladen.py -->\n",
    "Er is data ingeladen met het aantal punten dat studenten in het tweede jaar halen. `dfPunten_jaar2_NL` bevat Nederlandse studenten, `dfPunten_jaar2_inter` bevat internationale studenten. \n",
    "<!-- ## /TEKSTBLOK: Dataset-inladen.py -->\n",
    "\n",
    "## De data bekijken\n",
    "<!-- ## TEKSTBLOK: Data-bekijken.py -->\n",
    "Gebruik `<dataframe>.head()` en `<dataframe>.tail()` om de structuur van de data te bekijken.\n",
    "<!-- ## /TEKSTBLOK: Data-bekijken.py -->\n",
    "<!-- ## OPENBLOK: Data-bekijken.py -->"
   ]
  },
  {
   "cell_type": "code",
   "execution_count": null,
   "id": "942fe1e0",
   "metadata": {
    "tags": [
     "remove_cell"
    ]
   },
   "outputs": [],
   "source": [
    "import pandas as pd\n",
    "dfPunten_jaar2 = pd.DataFrame(r.Punten_jaar2)"
   ]
  },
  {
   "cell_type": "code",
   "execution_count": null,
   "id": "de0b5a08",
   "metadata": {
    "collapse": true
   },
   "outputs": [],
   "source": [
    "## Eerste 6 observaties\n",
    "print(dfPunten_jaar2.head(6))"
   ]
  },
  {
   "cell_type": "code",
   "execution_count": null,
   "id": "d0df2806",
   "metadata": {
    "collapse": true,
    "lines_to_next_cell": 0
   },
   "outputs": [],
   "source": [
    "## Laatste 6 observaties\n",
    "print(dfPunten_jaar2.tail(6))"
   ]
  },
  {
   "cell_type": "markdown",
   "id": "3f3ddfc3",
   "metadata": {
    "lines_to_next_cell": 0
   },
   "source": [
    "<!-- ## /OPENBLOK: Data-bekijken.py -->\n",
    "<!-- ## TEKSTBLOK: Data-beschrijven.py -->\n",
    "Bekijk de grootte, de mediaan en de kwantielen van de data met `np.size()` en `np.quantile()`.\n",
    "<!-- ## /TEKSTBLOK: Data-beschrijven.py -->\n",
    "<!-- ## OPENBLOK: Data-selecteren.py -->"
   ]
  },
  {
   "cell_type": "code",
   "execution_count": null,
   "id": "c9f46196",
   "metadata": {
    "lines_to_next_cell": 0,
    "name": "data selecteren"
   },
   "outputs": [],
   "source": [
    "Nederlands = dfPunten_jaar2[dfPunten_jaar2[\"Nederlands\"] == \"ja\"][\"EC_Jaar2\"]\n",
    "Niet_Nederlands = dfPunten_jaar2[dfPunten_jaar2[\"Nederlands\"] != \"ja\"][\"EC_Jaar2\"]"
   ]
  },
  {
   "cell_type": "markdown",
   "id": "3d44f821",
   "metadata": {
    "lines_to_next_cell": 0
   },
   "source": [
    "<!-- ## /OPENBLOK: Data-selecteren.py -->\n",
    "\n",
    "<!-- ## OPENBLOK: Numpy-inladen.py -->"
   ]
  },
  {
   "cell_type": "code",
   "execution_count": null,
   "id": "160a536a",
   "metadata": {
    "lines_to_next_cell": 0
   },
   "outputs": [],
   "source": [
    "import numpy as np"
   ]
  },
  {
   "cell_type": "markdown",
   "id": "ae7d4eec",
   "metadata": {
    "lines_to_next_cell": 0
   },
   "source": [
    "<!-- ## /OPENBLOK: Numpy-inladen.py -->\n",
    "\n",
    "<div class=\"col-container\">\n",
    "  <div class=\"col\">\n",
    "<!-- ## OPENBLOK: Data-beschrijven-1.py -->"
   ]
  },
  {
   "cell_type": "code",
   "execution_count": null,
   "id": "01c05a2f",
   "metadata": {
    "collapse": true,
    "lines_to_next_cell": 0
   },
   "outputs": [],
   "source": [
    "print(np.size(Nederlands))\n",
    "print(np.quantile(Nederlands, [0, 0.25, 0.5, 0.75, 1]))"
   ]
  },
  {
   "cell_type": "markdown",
   "id": "4dd70907",
   "metadata": {
    "lines_to_next_cell": 0
   },
   "source": [
    "<!-- ## /OPENBLOK: Data-beschrijven-1.py -->\n",
    "  </div>\n",
    "  <div class=\"col\">\n",
    "<!-- ## OPENBLOK: Data-beschrijven-2.py -->"
   ]
  },
  {
   "cell_type": "code",
   "execution_count": null,
   "id": "a5c1c0a8",
   "metadata": {
    "collapse": true,
    "lines_to_next_cell": 0
   },
   "outputs": [],
   "source": [
    "print(np.size(Niet_Nederlands))\n",
    "print(np.quantile(Niet_Nederlands, [0, 0.25, 0.5, 0.75, 1]))"
   ]
  },
  {
   "cell_type": "markdown",
   "id": "94e433c5",
   "metadata": {
    "lines_to_next_cell": 0
   },
   "source": [
    "<!-- ## /OPENBLOK: Data-beschrijven-2.py -->\n",
    "  </div>\n",
    "</div>\n",
    "<!-- ## CLOSEDBLOK: Data-beschrijven-3.py -->\n",
    "``` {python data beschrijven als object, include=FALSE, echo=TRUE}\n",
    "## Onderstaand zijn de dynamische variabelen te vinden\n",
    "q_NL = np.quantile(Nederlands, [0, 0.25, 0.5, 0.75, 1])\n",
    "q_Inter = np.quantile(Niet_Nederlands, [0, 0.25, 0.5, 0.75, 1])\n",
    "\n",
    "vN_NL = len(Nederlands)\n",
    "vN_Inter = len(Niet_Nederlands)\n",
    "\n",
    "vQ1_NL = q_NL[1]\n",
    "vQ1_Inter = q_Inter[1]\n",
    "\n",
    "vQ2_NL = q_NL[2]\n",
    "vQ2_Inter = q_Inter[2]\n",
    "\n",
    "vQ3_NL = q_NL[3]\n",
    "vQ3_Inter = q_Inter[3]\n",
    "```\n",
    "<!-- ## /CLOSEDBLOK: Data-beschrijven-3.py -->\n",
    "\n",
    "<!-- ## TEKSTBLOK: Data-beschrijven2.py -->\n",
    "* Mediaan Nederlandse studenten: `r Round_and_format(py$vQ2_NL)`. *n* = `r py$vN_NL`.\n",
    "* Mediaan internationale studenten: `r Round_and_format(py$vQ2_Inter)`. *n* = `r py$vN_Inter`.\n",
    "\n",
    "<!-- ## /TEKSTBLOK: Data-beschrijven2.py -->\n",
    "\n",
    "## Mann-Whitney U toets\n",
    "<!-- ## TEKSTBLOK: Mann-Whitney-U-toets-1.py -->\n",
    "Gebruik `pg.mwu()` met twee argumenten om een Mann-Whitney U toets te doen in Python. De standaard interpretatie van een statitische toets in Python is als: `(<teststatistiek>, <p-waarde>)`. Verder toetst Python standaard tweezijdig.\n",
    "<!-- ## /TEKSTBLOK: Mann-Whitney-U-toets-1.py -->\n",
    "\n",
    "<!-- ## OPENBLOK: Mann-Whitney-U-toets-2.py -->"
   ]
  },
  {
   "cell_type": "code",
   "execution_count": null,
   "id": "d943d1d8",
   "metadata": {},
   "outputs": [],
   "source": [
    "import pingouin as pg"
   ]
  },
  {
   "cell_type": "code",
   "execution_count": null,
   "id": "780613ce",
   "metadata": {
    "lines_to_next_cell": 0
   },
   "outputs": [],
   "source": [
    "print(pg.mwu(Nederlands, Niet_Nederlands))"
   ]
  },
  {
   "cell_type": "markdown",
   "id": "5735ce29",
   "metadata": {
    "lines_to_next_cell": 0
   },
   "source": [
    "<!-- ## /OPENBLOK: Mann-Whitney-U-toets-2.py -->\n",
    "<!-- ## CLOSEDBLOK: Mann-Whitney-U-toets-3.py -->"
   ]
  },
  {
   "cell_type": "code",
   "execution_count": null,
   "id": "d7ae9e92",
   "metadata": {
    "lines_to_next_cell": 0,
    "name": "Mann Whitney U toets als object",
    "tags": [
     "remove_cell"
    ]
   },
   "outputs": [],
   "source": [
    "stat = pg.mwu(Nederlands, Niet_Nederlands)['U-val']\n",
    "pval = pg.mwu(Nederlands, Niet_Nederlands)['p-val']"
   ]
  },
  {
   "cell_type": "markdown",
   "id": "0fbdbb96",
   "metadata": {},
   "source": [
    "<!-- ## /CLOSEDBLOK: Mann-Whitney-U-toets-3.py -->\n",
    "<!-- ## TEKSTBLOK: Mann-Whitney-U-toets-4.py -->\n",
    "* *W* = `r Round_and_format(py$stat)`, *p* = `r Round_and_format(py$pval)`\n",
    "* p-waarde > 0,05, dus de H~0~ wordt niet verworpen.[^4]\n",
    "\n",
    "<!-- ## /TEKSTBLOK: Mann-Whitney-U-toets-4.py -->"
   ]
  },
  {
   "cell_type": "markdown",
   "id": "bfde410d",
   "metadata": {
    "lines_to_next_cell": 0
   },
   "source": [
    "# Rapportage\n",
    "<!-- ## TEKSTBLOK: Rapportage.py -->\n",
    "De *Mann-Whitney U toets* is uitgevoerd om te toetsen of het behaalde aantal EC in het tweede jaar hetzelfde is van internationale studenten als van Nederlandse studenten. Uit de resultaten kan afgelezen worden dat er geen statistisch significant verschil is tussen het aantal studiepunten van internationale studenten als van Nederlandse studenten. *W* = `r Round_and_format(py$stat)`, p-waarde > 0,05. \n",
    "<!-- ## /TEKSTBLOK: Rapportage.py -->\n",
    "\n",
    "<!-- ## CLOSEDBLOK: Footer.R -->"
   ]
  },
  {
   "cell_type": "code",
   "execution_count": null,
   "id": "3e4d62cf",
   "metadata": {
    "code": "#R_CODE#readLines(paste0(here::here(),\"/01. Includes/code/Footer.R\"))",
    "include": true,
    "lines_to_next_cell": 0,
    "name": "footer",
    "results": "asis",
    "tags": [
     "remove_input"
    ]
   },
   "outputs": [],
   "source": [
    "%%R\n"
   ]
  },
  {
   "cell_type": "markdown",
   "id": "4193a25d",
   "metadata": {},
   "source": [
    "<!-- ## /CLOSEDBLOK: Footer.R -->\n",
    " \n",
    "[^1]: Van Geloven, N. (13 maart 2018). *Mann-Whitney U toets*. [Wiki Statistiek Academisch Medisch Centrum](https://wikistatistiek.amc.nl/index.php/Mann-Whitney_U_toets).\n",
    "[^2]: Onderscheidend vermogen, in het Engels power genoemd, is de kans dat de nulhypothese verworpen wordt wanneer de alternatieve hypothese 'waar' is.  \n",
    "[^3]: Elke groep heeft geen overlap met één van de andere groepen en de groepen kunnen elkaars deelname niet beïnvloeden. Deze stap wordt beredeneerd en wordt niet getoetst.  \n",
    "[^4]: In dit voorbeeld wordt uitgegaan van een waarschijnlijkheid van 95% c.q. een p-waardegrens van 0,05. De grens is naar eigen inzicht aan te passen; houd hierbij rekening met type I en type II fouten."
   ]
  }
 ],
 "metadata": {
  "jupytext": {
   "cell_metadata_filter": "echo,message,warning,collapse,results,tags,include,code,name,-all",
   "main_language": "python",
   "notebook_metadata_filter": "-all"
  }
 },
 "nbformat": 4,
 "nbformat_minor": 5
}
