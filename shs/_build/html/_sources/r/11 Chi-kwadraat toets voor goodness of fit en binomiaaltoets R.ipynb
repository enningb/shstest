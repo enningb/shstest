{
 "cells": [
  {
   "cell_type": "raw",
   "id": "95194a0e",
   "metadata": {
    "lines_to_next_cell": 0
   },
   "source": [
    "---\n",
    "title: \"Chi-kwadraat toets voor goodness of fit en binomiaaltoets\"\n",
    "output:\n",
    "  html_document:\n",
    "    theme: lumen\n",
    "    toc: yes\n",
    "    toc_depth: 2\n",
    "    toc_float: \n",
    "      collapsed: FALSE \n",
    "    number_sections: true\n",
    "    includes:\n",
    "      in_header: [\"../01. Includes/html/nocache.html\", \"../01. Includes/html/favicon.html\", \"../01. Includes/html/analytics.html\"]\n",
    "  keywords: [statistisch handboek, studiedata]\n",
    "---"
   ]
  },
  {
   "cell_type": "markdown",
   "id": "e2d5b3eb",
   "metadata": {
    "lines_to_next_cell": 0
   },
   "source": [
    "<!-- ## CLOSEDBLOK: Functies.R -->"
   ]
  },
  {
   "cell_type": "code",
   "execution_count": null,
   "id": "1ee7db47",
   "metadata": {
    "include": true,
    "lines_to_next_cell": 0,
    "message": false,
    "name": "functies",
    "results": "asis",
    "tags": [
     "remove_input"
    ],
    "warning": false
   },
   "outputs": [],
   "source": [
    "library(here)\n",
    "if (!exists(\"Substitute_var\")) {\n",
    "  ## Installeer packages en functies\n",
    "  source(paste0(here::here(), \"/99. Functies en Libraries/00. Voorbereidingen.R\"), echo = FALSE)\n",
    "}"
   ]
  },
  {
   "cell_type": "markdown",
   "id": "f68ae324",
   "metadata": {
    "lines_to_next_cell": 0
   },
   "source": [
    "<!-- ## /CLOSEDBLOK: Functies.R -->\n",
    "\n",
    "<!-- ## CLOSEDBLOK: CSS -->\n",
    "<style>\n",
    "`r htmltools::includeHTML(paste0(here::here(),\"/01. Includes/css/Stylesheet_SHHO.css\"))`\n",
    "</style>\n",
    "<!-- ## /CLOSEDBLOK: CSS -->\n",
    "\n",
    "<!-- ## CLOSEDBLOK: Header.R -->"
   ]
  },
  {
   "cell_type": "code",
   "execution_count": null,
   "id": "9e61f361",
   "metadata": {
    "code": "#R_CODE#readLines(paste0(here::here(),\"/01. Includes/code/Header.R\"))",
    "include": true,
    "lines_to_next_cell": 0,
    "name": "header",
    "results": "asis",
    "tags": [
     "remove_input"
    ]
   },
   "outputs": [],
   "source": []
  },
  {
   "cell_type": "markdown",
   "id": "81e552a2",
   "metadata": {
    "lines_to_next_cell": 0
   },
   "source": [
    "<!-- ## /CLOSEDBLOK: Header.R -->\n",
    "\n",
    "<!-- ## CLOSEDBLOK: Status.R -->"
   ]
  },
  {
   "cell_type": "code",
   "execution_count": null,
   "id": "240c4d99",
   "metadata": {
    "code": "#R_CODE#readLines(paste0(here::here(),\"/01. Includes/code/Status.R\"))",
    "include": true,
    "lines_to_next_cell": 0,
    "name": "status",
    "results": "asis",
    "tags": [
     "remove_input"
    ]
   },
   "outputs": [],
   "source": []
  },
  {
   "cell_type": "markdown",
   "id": "9329e2fe",
   "metadata": {
    "lines_to_next_cell": 0
   },
   "source": [
    "<!-- ## /CLOSEDBLOK: Status.R -->\n",
    "\n",
    "<!-- ## CLOSEDBLOK: Reticulate.R -->\n",
    "\n",
    "<!-- ## /CLOSEDBLOK: Reticulate.R -->\n",
    "\n",
    "<!-- ## OPENBLOK: Data-aanmaken.R -->"
   ]
  },
  {
   "cell_type": "code",
   "execution_count": null,
   "id": "be9be5b3",
   "metadata": {
    "echo": true,
    "lines_to_next_cell": 0,
    "name": "aanmaken data",
    "tags": [
     "remove_cell"
    ]
   },
   "outputs": [],
   "source": [
    "source(paste0(here::here(),\"/01. Includes/data/11.R\"))"
   ]
  },
  {
   "cell_type": "markdown",
   "id": "8539b84e",
   "metadata": {
    "lines_to_next_cell": 0
   },
   "source": [
    "<!-- ## /OPENBLOK: Data-aanmaken.R -->\n",
    "# Toepassing\n",
    "\n",
    "Gebruik de *Chi-kwadraat toets voor goodness of fit* om te onderzoeken of de geobserveerde frequenties van de categorieën van één categorische variabele overeenkomt met de verwachte frequenties van de categorische variabele.[^6]<sup>,</sup>[^7] Met deze toets kan een geobserveerd percentage met een bekend of verwacht percentage vergeleken worden. Gebruik de exacte *binomiaaltoets* bij een laag aantal observaties, dit wordt bij de assumpties toegelicht.[^1] \n",
    "\n",
    "# Onderwijscasus\n",
    "<div id = \"casus\">\n",
    "De controller van een universiteit is geïnteresseerd in de instroom van studenten met een hbo vooropleiding. Zij wil weten of haar universiteit relatief veel studenten met een vooropleiding in het hbo heeft in vergelijking met het landelijke gemiddelde. Op de website van de VSNU vindt ze dat studenten met een hbo vooropleiding 11,13% uitmaken van de totale instroom voor Bachelors en Masters in het wetenschappelijk onderwijs (wo) in 2018.[^2] Ze wil weten of er op haar instelling naar verhouding evenveel hbo-studenten zijn als het landelijk gemiddelde.\n",
    "\n",
    "Dit onderzoek vertaalt zich in de volgende combinatie van hypothesen, waarbij de nulhypothese zo geformuleerd is dat er geen effect of verschil is en de alternatieve hypothese zo geformuleerd is dat er wel een effect of verschil is.\n",
    "\n",
    "H~0~: De verdeling van de vooropleiding van de instromende studenten is gelijk aan de landelijke verdeling (11,13% met een hbo vooropleiding). \n",
    "\n",
    "H~A~: De verdeling van de vooropleiding van de instromende studenten is niet gelijk aan de landelijke verdeling (11,13% met een hbo vooropleiding).\n",
    "</div>\n",
    "\n",
    "# Assumpties\n",
    "\n",
    "Om de *Chi-kwadraat toets voor goodness of fit* uit te voeren, moet de variabele nominaal[^9] of ordinaal[^8] zijn.[^6] De exacte *binomiaaltoets* vereist een binaire[^3] variabele. In deze casus is de categorische variabele binair. \n",
    "\n",
    "De categorieën van de variabele mogen niet overlappen, wat wil zeggen dat elke observatie slechts in een van de categorieën past. Voor de *Chi-kwadraat toets voor goodness of fit* mag in niet meer dan 20% van de categorieën van de variabele de verwachte frequentie minder dan vijf zijn. Als dit wel het geval is, gebruik dan de *binomiaaltoets*.[^7]\n",
    "\n",
    "# De data bekijken\n",
    "\n",
    "<!-- ## TEKSTBLOK: Data-bekijken1.R -->\n",
    "Er is een dataset ingeladen genaamd `Instroom_2018_totaal`. Dit is een dataframe met studentnummers en een binaire variabele die laat zien of de student wel of geen hbo vooropleiding heeft.\n",
    "<!-- ## /TEKSTBLOK: Data-bekijken1.R -->\n",
    "\n",
    "<!-- ## OPENBLOK: Data-bekijken2.R -->"
   ]
  },
  {
   "cell_type": "code",
   "execution_count": null,
   "id": "bdda93c2",
   "metadata": {
    "collapse": true,
    "lines_to_next_cell": 0,
    "name": "data bekijken"
   },
   "outputs": [],
   "source": [
    "## Eerste 6 observaties\n",
    "head(Instroom_2018_totaal)\n",
    "## Laatste 6 observaties\n",
    "tail(Instroom_2018_totaal)"
   ]
  },
  {
   "cell_type": "markdown",
   "id": "70cc3d47",
   "metadata": {
    "lines_to_next_cell": 0
   },
   "source": [
    "<!-- ## /OPENBLOK: Data-bekijken2.R -->\n",
    "\n",
    "Het is informatief om het percentage studenten met hbo vooropleiding in de data te bepalen.\n",
    "\n",
    "<!-- ## OPENBLOK: Data-bekijken3.R -->"
   ]
  },
  {
   "cell_type": "code",
   "execution_count": null,
   "id": "e219b549",
   "metadata": {
    "lines_to_next_cell": 0,
    "name": "percentage berekenen"
   },
   "outputs": [],
   "source": [
    "100*prop.table(table(Instroom_2018_totaal$hbo_vooropleiding))\n"
   ]
  },
  {
   "cell_type": "markdown",
   "id": "cb440400",
   "metadata": {},
   "source": [
    "<!-- ## /OPENBLOK: Data-bekijken3.R -->\n",
    "\n",
    "<!-- ## TEKSTBLOK: Data-bekijken4.R -->\n",
    "Het percentage studenten met hbo vooropleiding is `r Round_and_format(100*prop.table(table(Instroom_2018_totaal$hbo_vooropleiding))[1])`. Dit percentage lijkt hoger te liggen dan het landelijk percentage van 11,13%. De *Chi-kwadraat toets voor goodness of fit* of de *binomiaaltoets* toetst of dit verschil significant is.\n",
    "<!-- ## /TEKSTBLOK: Data-bekijken4.R -->\n",
    "\n",
    "# Chi-kwadraat toets voor goodness of fit\n",
    "\n",
    "## Asssumptie verwachte frequenties\n",
    "\n",
    "<!-- ## TEKSTBLOK: Assumptie.R -->\n",
    "De verwachte frequentie mag niet kleiner dan vijf zijn in 20% van de categorieën van de categorische variabele. Aangezien er een binaire variabele getoetst wordt, mag geen van beide categorieën dus minder dan vijf als verwachte frequentie hebben. Bereken de verwachte frequentie met het argument `chisq.test()$expected` van de functie `chisq.test()`. De argumenten van de functie zijn de tabel met daarin de hoeveelheid studenten met en zonder hbo vooropleiding `Tabel` en een vector die aangeeft wat de verwachte proporties[^4] zijn voor het aantal studenten met en zonder hbo vooropleiding `p = c(0.1113, 1 - 0.1113)`.\n",
    "<!-- ## /TEKSTBLOK: Assumptie.R -->"
   ]
  },
  {
   "cell_type": "markdown",
   "id": "ba0d12fa",
   "metadata": {
    "lines_to_next_cell": 0
   },
   "source": [
    "<!-- ## OPENBLOK: Assumptie1.R -->"
   ]
  },
  {
   "cell_type": "code",
   "execution_count": null,
   "id": "23f08bbb",
   "metadata": {
    "lines_to_next_cell": 0,
    "name": "chi2 assumptie"
   },
   "outputs": [],
   "source": [
    "# Maak een tabel met daarin de aantallen studenten met en zonder hbo vooropleiding\n",
    "Tabel <- table(Instroom_2018_totaal$hbo_vooropleiding)\n",
    "# Bereken de verwachte frequenties\n",
    "chisq.test(Tabel, p = c(0.1113, 1 - 0.1113))$expected\n"
   ]
  },
  {
   "cell_type": "markdown",
   "id": "e971d5a1",
   "metadata": {},
   "source": [
    "<!-- ## /OPENBLOK: Assumptie1.R -->\n",
    "\n",
    "Geen van de verwachte frequenties is kleiner dan vijf, dus de *Chi-kwadraat toets voor goodness of fit* kan worden uitgevoerd.\n",
    "\n",
    "## Uitvoering\n",
    "\n",
    "Voer de *Chi-kwadraat toets voor goodness of fit*  uit om te onderzoeken of de verdeling van het aantal studenten met en zonder hbo vooropleiding overeenkomt met de landelijke verdeling waarbij het percentage studenten met hbo vooropleiding 11,13% is.\n",
    "\n",
    "<!-- ## TEKSTBLOK: Chi-kwadraat1.R -->\n",
    "Gebruik de functie `chisq.test()` met als argumenten de tabel met daarin de hoeveelheid studenten met en zonder hbo vooropleiding `Tabel` en een vector die aangeeft wat de verwachte proporties zijn voor het aantal studenten met en zonder hbo vooropleiding `p = c(0.1113, 1 - 0.1113)`. Let hierbij goed op dat de volgorde van de frequenties in de tabel overeenkomt met de volgorde van de proporties zodat de toets de goede vergelijking maakt.\n",
    "<!-- ## /TEKSTBLOK: Chi-kwadraat1.R -->"
   ]
  },
  {
   "cell_type": "markdown",
   "id": "ed6293e6",
   "metadata": {
    "lines_to_next_cell": 0
   },
   "source": [
    "<!-- ## OPENBLOK: Chi-kwadraat2.R-->"
   ]
  },
  {
   "cell_type": "code",
   "execution_count": null,
   "id": "39f2c025",
   "metadata": {
    "lines_to_next_cell": 0,
    "name": "chi-kwadraat"
   },
   "outputs": [],
   "source": [
    "# Maak een tabel met daarin de aantallen studenten met en zonder hbo vooropleiding\n",
    "Tabel <- table(Instroom_2018_totaal$hbo_vooropleiding)\n",
    "# Voer de toets uit\n",
    "chisq.test(Tabel, p = c(0.1113, 1 - 0.1113))"
   ]
  },
  {
   "cell_type": "markdown",
   "id": "46729c18",
   "metadata": {
    "lines_to_next_cell": 0
   },
   "source": [
    "<!-- ## /OPENBLOK: Chi-kwadraat2.R-->\n",
    "\n",
    "<!-- ## CLOSEDBLOK: Chi-kwadraat3.R-->"
   ]
  },
  {
   "cell_type": "code",
   "execution_count": null,
   "id": "e20750dc",
   "metadata": {
    "echo": true,
    "lines_to_next_cell": 0,
    "name": "chi-kwadraat verstopt",
    "tags": [
     "remove_cell"
    ]
   },
   "outputs": [],
   "source": [
    "# Maak een tabel met daarin de aantallen studenten met en zonder hbo vooropleiding\n",
    "Tabel <- table(Instroom_2018_totaal$hbo_vooropleiding)\n",
    "# Voer de toets uit\n",
    "chi2 <- chisq.test(Tabel, p = c(0.1113, 1 - 0.1113))\n",
    "\n",
    "vchi2 <- Round_and_format(chi2$statistic)\n",
    "vp <- Round_and_format(chi2$p.value)\n",
    "vdf <- chi2$parameter\n",
    "\n",
    "vest <- 100 * Tabel[1] / sum(Tabel)\n"
   ]
  },
  {
   "cell_type": "markdown",
   "id": "f99f18c8",
   "metadata": {},
   "source": [
    "<!-- ## /CLOSEDBLOK: Chi-kwadraat3.R-->\n",
    "\n",
    "<!-- ## TEKSTBLOK: Chi-kwadraat4.R-->\n",
    "* &chi;^2^~`r vdf`~ = `r vchi2`, *p* < 0,0001\n",
    "* p-waarde < 0,05, dus de H~0~ wordt verworpen.[^5]"
   ]
  },
  {
   "cell_type": "markdown",
   "id": "ff999035",
   "metadata": {},
   "source": [
    "<!-- ## /TEKSTBLOK: Chi-kwadraat4.R-->\n"
   ]
  },
  {
   "cell_type": "markdown",
   "id": "3a37a3e9",
   "metadata": {},
   "source": [
    "## Rapportage\n",
    "<!-- ## TEKSTBLOK: Chi-kwadraat5.R-->\n",
    "De *Chi-kwadraat toets voor goodness of fit* is uitgevoerd om te onderzoeken of de verdeling van het instromende aantal studenten van een universiteit met en zonder hbo vooropleiding verschilt van de landelijke verdeling waarbij het percentage studenten met een hbo vooropleiding 11,13% is. De verdeling van de instromende studenten van de universiteit is significant verschillend van de landelijke verdeling, &chi;^2^~`r vdf`~ = `r vchi2`, *p* < 0,0001. Het percentage instromende studenten met een hbo vooropleiding is `r Round_and_format(vest)`. Aan de hand van de resultaten kan geconcludeerd worden dat het percentage studenten met een hbo vooropleiding hoger ligt dan het landelijk gemiddelde van 11,13%.\n",
    "\n",
    "<!-- ## /TEKSTBLOK: Chi-kwadraat5.R-->\n"
   ]
  },
  {
   "cell_type": "markdown",
   "id": "a6d0d8e8",
   "metadata": {
    "lines_to_next_cell": 0
   },
   "source": [
    "# Binomiaaltoets\n",
    "\n",
    "## Uitvoering\n",
    "\n",
    "<!-- ## TEKSTBLOK: Binomiaaltoets1.R -->\n",
    "Voer de *binomiaaltoets*  uit om te onderzoeken of de verdeling van het aantal studenten met en zonder hbo vooropleiding overeenkomt met de landelijke verdeling waarbij het percentage studenten met hbo vooropleiding 11,13% is. Deze toets is een alternatief voor de *Chi-kwadraat toets voor goodness of fit* bij een laag aantal observaties. Er is een subset `Instroom_2018_totaal_steekproef` van de dataset `Instroom_2018_totaal` ingeladen met daarin een lager aantal observaties.\n",
    "\n",
    "Maak een tabel van de variabele `hbo_vooropleiding` om het aantal observaties per categorie te tellen. Bereken daarnaast de verwachte frequenties per categorie met het argument `chisq.test()$expected` van de functie `chisq.test()` met als argumenten de tabel met daarin de hoeveelheid studenten met en zonder hbo vooropleiding `Tabel` en een vector die aangeeft wat de verwachte proporties zijn voor het aantal studenten met en zonder hbo vooropleiding `p = c(0.1113, 1 - 0.1113)`.\n",
    "<!-- ## /TEKSTBLOK: Binomiaaltoets1.R -->\n",
    "\n",
    "<!-- ## OPENBLOK: Binomiaaltoets2.R -->"
   ]
  },
  {
   "cell_type": "code",
   "execution_count": null,
   "id": "1973f367",
   "metadata": {
    "lines_to_next_cell": 0,
    "name": "chi2 assumptie binomiaaltoets"
   },
   "outputs": [],
   "source": [
    "# Maak een tabel met daarin de aantallen studenten met en zonder hbo vooropleiding\n",
    "(Tabel <- table(Instroom_2018_totaal_steekproef$hbo_vooropleiding))\n",
    "# Bereken de verwachte frequenties\n",
    "chisq.test(Tabel, p = c(0.1113, 1 - 0.1113))$expected\n"
   ]
  },
  {
   "cell_type": "markdown",
   "id": "aa3702d8",
   "metadata": {},
   "source": [
    "<!-- ## /OPENBLOK: Binomiaaltoets2.R -->\n",
    "\n",
    "<!-- ## TEKSTBLOK: Binomiaaltoets3.R -->\n",
    "Het aantal studenten met een hbo vooropleiding is `r table(Instroom_2018_totaal_steekproef$hbo_vooropleiding)[1]` en het aantal zonder hbo vooropleiding `r table(Instroom_2018_totaal_steekproef$hbo_vooropleiding)[2]`. De verwachte frequentie studenten met een hbo vooropleiding is `r Round_and_format(chisq.test(Tabel, p = c(0.1113, 1 - 0.1113))$expected)` wat kleiner dan vijf is. Voer daarom de *binomiaaltoets* uit, aangezien meer dan 20% van de categorieën een verwachte frequentie van vijf of minder heeft.\n",
    "<!-- ## /TEKSTBLOK: Binomiaaltoets3.R -->\n",
    "\n",
    "<!-- ## TEKSTBLOK: Binomiaaltoets4.R -->\n",
    "Tel eerst het aantal studenten met een hbo vooropleiding in de dataset. Voer daarna de *binomiaaltoets* uit met de functie `binom.test()` en met argument  `x = Aantal_studenten_hbo_vooropleiding` voor de hoeveelheid studenten met een hbo vooropleiding, `n = length(Instroom_2018_totaal_steekproef$hbo_vooropleiding)` voor de totale instroom van de universiteit, `p = 0.1113` voor de referentieproportie,  `alternative = two.sided` voor het soort toets (eenzijdig of tweezijdig) en `conf.level = 0.95` om het significantieniveau aan te geven.\n",
    "<!-- ## /TEKSTBLOK: Binomiaaltoets4.R -->"
   ]
  },
  {
   "cell_type": "markdown",
   "id": "2125a08b",
   "metadata": {
    "lines_to_next_cell": 0
   },
   "source": [
    "<!-- ## OPENBLOK: Binomiaaltoets5.R -->"
   ]
  },
  {
   "cell_type": "code",
   "execution_count": null,
   "id": "a22088b9",
   "metadata": {
    "lines_to_next_cell": 0,
    "name": "Tekentoets"
   },
   "outputs": [],
   "source": [
    "Aantal_studenten_hbo_vooropleiding <- length(Instroom_2018_totaal_steekproef$hbo_vooropleiding[Instroom_2018_totaal_steekproef$hbo_vooropleiding == \"ja\"])\n",
    "\n",
    "binom.test(x = Aantal_studenten_hbo_vooropleiding, \n",
    "          n = length(Instroom_2018_totaal_steekproef$hbo_vooropleiding), \n",
    "          p = 0.1113, alternative = \"two.sided\", conf.level = 0.95)"
   ]
  },
  {
   "cell_type": "markdown",
   "id": "ac09a18d",
   "metadata": {
    "lines_to_next_cell": 0
   },
   "source": [
    "<!-- ## /OPENBLOK: Binomiaaltoets5.R -->\n",
    "\n",
    "<!-- ## CLOSEDBLOK: Binomiaaltoets6.R -->"
   ]
  },
  {
   "cell_type": "code",
   "execution_count": null,
   "id": "83f353cc",
   "metadata": {
    "lines_to_next_cell": 0,
    "name": "T-test als object",
    "tags": [
     "remove_input"
    ]
   },
   "outputs": [],
   "source": [
    "Aantal_studenten_hbo_vooropleiding <- length(Instroom_2018_totaal_steekproef$hbo_vooropleiding[Instroom_2018_totaal_steekproef$hbo_vooropleiding == \"ja\"])\n",
    "\n",
    "b <- binom.test(x = Aantal_studenten_hbo_vooropleiding, \n",
    "          n = length(Instroom_2018_totaal_steekproef$hbo_vooropleiding), \n",
    "          p = 0.1113, \n",
    "          alternative = \"two.sided\",\n",
    "          conf.level = 0.95)\n",
    "\n",
    "bp <- Round_and_format(b$p.value)\n",
    "blb <- Round_and_format(b$conf.int[1])\n",
    "bub <- Round_and_format(b$conf.int[2])\n",
    "bprop <- Round_and_format(b$estimate)"
   ]
  },
  {
   "cell_type": "markdown",
   "id": "c5c4a813",
   "metadata": {},
   "source": [
    "<!-- ## /CLOSEDBLOK: Binomiaaltoets6.R -->\n",
    "\n",
    "<!-- ## TEKSTBLOK: Binomiaaltoets7.R-->\n",
    "* de geschatte proportie studenten met een hbo vooropleiding in de data is `r bprop`, het 95%-betrouwbaarheidsinterval loopt van `r blb` tot `r bub`\n",
    "* p-waarde = `r bp`, dus de H~0~ kan niet worden verworpen.[^5]  \n",
    "\n",
    "<!-- ## /TEKSTBLOK: Binomiaaltoets7.R-->"
   ]
  },
  {
   "cell_type": "markdown",
   "id": "a9905769",
   "metadata": {},
   "source": [
    "## Rapportage\n",
    "\n",
    "<!-- ## TEKSTBLOK: Binomiaaltoets8.R-->\n",
    "De *binomiaaltoets* is uitgevoerd om te onderzoeken of de verdeling van het instromende aantal studenten van een universiteit met en zonder hbo vooropleiding voor een dataset met een laag aantal observaties verschilt van de landelijke verdeling waarbij het percentage studenten met een hbo vooropleiding 11,13% is. De verdeling van het aantal instromende studenten met en zonder hbo vooropleiding is niet significant verschillend van de landelijke verdeling (*p* = `r bp`), dus de nulhypothese kan niet verworpen worden. De schatting van het percentage is `r bprop`% met een 95%-betrouwbaarheidsinterval van `r blb`% tot `r bub`% en is niet significant verschillend van het landelijk gemiddelde van 11,13%. De resultaten suggereren dat het percentage studenten met een hbo vooropleiding niet hoger ligt dan het landelijk gemiddelde van 11,13%.\n",
    "\n",
    "<!-- ## /TEKSTBLOK: Binomiaaltoets8.R-->\n",
    "\n"
   ]
  },
  {
   "cell_type": "markdown",
   "id": "d447df92",
   "metadata": {
    "lines_to_next_cell": 0
   },
   "source": [
    "<!-- ## CLOSEDBLOK: Footer.R -->"
   ]
  },
  {
   "cell_type": "code",
   "execution_count": null,
   "id": "75cf1529",
   "metadata": {
    "code": "#R_CODE#readLines(paste0(here::here(),\"/01. Includes/code/Footer.R\"))",
    "include": true,
    "lines_to_next_cell": 0,
    "name": "footer",
    "results": "asis",
    "tags": [
     "remove_input"
    ]
   },
   "outputs": [],
   "source": []
  },
  {
   "cell_type": "markdown",
   "id": "0af5d354",
   "metadata": {},
   "source": [
    "<!-- ## /CLOSEDBLOK: Footer.R -->\n",
    "\n",
    "[^1]: Agresti, A. (2003). *Categorical data analysis*. Vol. 482, John Wiley & Sons.\n",
    "[^2]: Het percentage is een berekening op basis van cijfers van de Vereniging van Universiteiten (VSNU). In 2018 zijn er 102.147 studenten ingestroomd in Universitaire Bachelors en Masters. In dat zelfde jaar stroomden bij de universiteiten 11.374 studenten met een hbo vooropleiding in. Deze studenten maken dus 11,13% uit van de totale instroom.  Zie respectievelijk: Vereniging van Universiteiten (2019). *Downloadbare tabellen Studenten*. Opgehaald van de website van de VSNU: https://www.vsnu.nl/nl_NL/f_c_studenten_downloads.html. Vereniging van Universiteiten (2019). *Factsheet - Nederlandse Universiteiten Zijn Toegankelijk*. Opgehaald van de website van de VSNU: https://www.vsnu.nl/files/documenten/Nederlands%20universiteiten%20zijn%20toegankelijk%20-%20tbv%20AO%20Toegankelijkheid%20en%20Kansengelijkheid%20in%20het%20hoger%20onderwijs%20d.d.%2020-2-2019.pdf\n",
    "[^3]: Binaire variabelen: twee elkaar uitsluitende waarden, zoals ja of nee, 0 of 1, aan of uit.\n",
    "[^4]: Een proportie van een bepaalde categorie is de frequentie van de categorie gedeeld door het totaal aantal observaties. Het kan gezien worden als de kans van een bepaalde categorie en bevat een waarde tussen 0 en 1.\n",
    "[^5]: In dit voorbeeld wordt uitgegaan van een waarschijnlijkheid van 95% c.q. een p-waardegrens van 0,05. De grens is naar eigen inzicht aan te passen; houd hierbij rekening met type I en type II fouten.\n",
    "[^6]: Laerd Statistics (2018). *Chi-Square Goodness-of-Fit Test in SPSS Statistics*. https://statistics.laerd.com/spss-tutorials/chi-square-goodness-of-fit-test-in-spss-statistics.php\n",
    "[^7]: Allen, P. & Bennett, K. (2012). *SPSS A practical Guide version 20.0*. Cengage Learning Australia Pty Limited.\n",
    "[^8]: Een ordinale variabele is een categorische variabele waarbij de categorieën geordend kunnen worden. Een voorbeeld is de variabele beoordeling met de categorieën Onvoldoende, Voldoende, Goed en Uitstekend.\n",
    "[^9]: Een nominale variabele is een categorische variabele waarbij de categorieën niet geordend kunnen worden. Een voorbeeld is de variabele windstreek (noord, oost, zuid, west) en geslacht (man of vrouw).\n",
    "\n",
    "<!-- ## TEKSTBLOK: Extra-Bron.R -->\n",
    "\n",
    "<!-- ## /TEKSTBLOK: Extra-Bron.R -->\n"
   ]
  }
 ],
 "metadata": {
  "jupytext": {
   "cell_metadata_filter": "message,tags,name,warning,echo,code,results,collapse,include,-all",
   "main_language": "R",
   "notebook_metadata_filter": "-all"
  }
 },
 "nbformat": 4,
 "nbformat_minor": 5
}
