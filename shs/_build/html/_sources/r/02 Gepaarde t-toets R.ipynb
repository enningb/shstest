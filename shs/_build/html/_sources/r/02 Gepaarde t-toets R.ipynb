{
 "cells": [
  {
   "cell_type": "raw",
   "id": "a4d8e58d",
   "metadata": {},
   "source": [
    "---\n",
    "title: \"Gepaarde t-toets\"\n",
    "output:\n",
    "  html_document:\n",
    "    theme: lumen\n",
    "    toc: yes\n",
    "    toc_depth: 2\n",
    "    toc_float: \n",
    "      collapsed: FALSE \n",
    "    number_sections: true\n",
    "    includes:\n",
    "      in_header: [\"../01. Includes/html/nocache.html\", \"../01. Includes/html/favicon.html\", \"../01. Includes/html/analytics.html\"]\n",
    "  keywords: [statistisch handboek, studiedata]\n",
    "---"
   ]
  },
  {
   "cell_type": "markdown",
   "id": "32bc92da",
   "metadata": {
    "lines_to_next_cell": 0
   },
   "source": [
    "<!-- ## CLOSEDBLOK: Functies.R -->"
   ]
  },
  {
   "cell_type": "code",
   "execution_count": null,
   "id": "16e35113",
   "metadata": {
    "include": true,
    "lines_to_next_cell": 0,
    "message": false,
    "name": "functies",
    "results": "asis",
    "tags": [
     "remove_input"
    ],
    "warning": false
   },
   "outputs": [],
   "source": [
    "library(here)\n",
    "if (!exists(\"Substitute_var\")) {\n",
    "  ## Installeer packages en functies\n",
    "  source(paste0(here::here(), \"/99. Functies en Libraries/00. Voorbereidingen.R\"), echo = FALSE)\n",
    "}"
   ]
  },
  {
   "cell_type": "markdown",
   "id": "db89fd9e",
   "metadata": {
    "lines_to_next_cell": 0
   },
   "source": [
    "<!-- ## /CLOSEDBLOK: Functies.R -->\n",
    "\n",
    "<!-- ## CLOSEDBLOK: CSS -->\n",
    "<style>\n",
    "`r htmltools::includeHTML(paste0(here::here(),\"/01. Includes/css/Stylesheet_SHHO.css\"))`\n",
    "</style>\n",
    "<!-- ## /CLOSEDBLOK: CSS -->\n",
    "\n",
    "<!-- ## CLOSEDBLOK: Header.R -->"
   ]
  },
  {
   "cell_type": "code",
   "execution_count": null,
   "id": "118e10d9",
   "metadata": {
    "code": "#R_CODE#readLines(paste0(here::here(),\"/01. Includes/code/Header.R\"))",
    "include": true,
    "lines_to_next_cell": 0,
    "name": "header",
    "results": "asis",
    "tags": [
     "remove_input"
    ]
   },
   "outputs": [],
   "source": []
  },
  {
   "cell_type": "markdown",
   "id": "53c1cba2",
   "metadata": {
    "lines_to_next_cell": 0
   },
   "source": [
    "<!-- ## /CLOSEDBLOK: Header.R -->\n",
    "\n",
    "<!-- ## CLOSEDBLOK: Status.R -->"
   ]
  },
  {
   "cell_type": "code",
   "execution_count": null,
   "id": "031ae6dd",
   "metadata": {
    "code": "#R_CODE#readLines(paste0(here::here(),\"/01. Includes/code/Status.R\"))",
    "include": true,
    "lines_to_next_cell": 0,
    "name": "status",
    "results": "asis",
    "tags": [
     "remove_input"
    ]
   },
   "outputs": [],
   "source": []
  },
  {
   "cell_type": "markdown",
   "id": "b6bbe43b",
   "metadata": {},
   "source": [
    "<!-- ## /CLOSEDBLOK: Status.R -->\n",
    "\n",
    "<!-- ## CLOSEDBLOK: Reticulate.R -->\n",
    "\n",
    "<!-- ## /CLOSEDBLOK: Reticulate.R -->"
   ]
  },
  {
   "cell_type": "code",
   "execution_count": null,
   "id": "71480b4a",
   "metadata": {
    "eval": false,
    "name": "opmerking",
    "tags": [
     "remove_cell"
    ]
   },
   "outputs": [],
   "source": [
    "# doorlinken naar de Wilcoxon Signed Rank Test\n",
    "# linken naar blz transformeren data "
   ]
  },
  {
   "cell_type": "markdown",
   "id": "ea514fb3",
   "metadata": {
    "lines_to_next_cell": 0
   },
   "source": [
    "<!-- ## OPENBLOK: Data-aanmaken.R -->"
   ]
  },
  {
   "cell_type": "code",
   "execution_count": null,
   "id": "db61688d",
   "metadata": {
    "echo": true,
    "lines_to_next_cell": 0,
    "name": "aanmaken data",
    "tags": [
     "remove_cell"
    ]
   },
   "outputs": [],
   "source": [
    "source(paste0(here::here(),\"/01. Includes/data/02.R\"))"
   ]
  },
  {
   "cell_type": "markdown",
   "id": "a7453f29",
   "metadata": {
    "lines_to_next_cell": 0
   },
   "source": [
    "<!-- ## /OPENBLOK: Data-aanmaken.R -->\n",
    "\n",
    "# Toepassing\n",
    "Gebruik de *gepaarde t-toets* om te toetsen of de gemiddelden van twee (herhaalde) metingen van een groep verschillen en om te toetsen of de gemiddelden van twee gepaarde groepen van elkaar verschillen.[^1] \n",
    "\n",
    "# Onderwijscasus\n",
    "<div id =\"casus\">\n",
    "Voor het verminderen van de studielast van studenten biedt het Centrum voor Studentbegeleiding van een universiteit een cursus Plannen aan. De cursus is bedoeld om studenten beter inzicht te geven in de gevolgen van de planning van hun studielast. De cursus wordt tussen twee onderwijsperiodes in gegeven. Voor en na de cursus moeten de studenten gedurende een onderwijsperiode een logboek bijhouden over hun studiegedrag. De cursuscoördinator vraagt zich af of er een verandering in het aantal studieuren is na deelname aan de cursus.\n",
    "\n",
    "Dit onderzoek vertaalt zich in de volgende combinatie van hypothesen, waarbij de nulhypothese zo geformuleerd is dat er geen effect of verschil is en de alternatieve hypothese zo geformuleerd is dat er wel een effect of verschil is.\n",
    "\n",
    "*H~0~*: Het gemiddeld aantal uren studeren per onderwijsperiode verandert niet na de cursus, µ~T0~ = µ~T1~  \n",
    "\n",
    "*H~A~*: Het gemiddeld aantal uren studeren per onderwijsperiode verandert na de cursus, µ~T0~ ≠ µ~T1~ \n",
    "</div>\n",
    "\n",
    "# Assumpties\n",
    "Om een valide resultaat te bereiken moet er, voordat de toets kan worden uitgevoerd, aan een aantal voorwaarden voldaan worden.\n",
    "\n",
    "## Normaliteit\n",
    "De *gepaarde t-toets* gaat ervan uit dat de verschillen tussen de gepaarde observaties (verschilscores) normaal verdeeld zijn. Ga er bij een aantal deelnemers[^13] *n* groter dan 100 vanuit dat de *gepaarde t-toets* robuust genoeg is om uit te voeren zonder dat er voldaan is aan de assumptie van normaliteit.   \n",
    "\n",
    "Controleer de assumptie van normaliteit met de volgende stappen:  \n",
    "1. Controleer de verschilscores visueel met een histogram, een Q-Q plot en een boxplot.  \n",
    "2. Toets of de verschilscores normaal verdeeld is met de *Kolmogorov-Smirnov test* of bij een kleinere steekproef (*n* < 50) met de *Shapiro-Wilk test*.[^3]<sup>, </sup>[^4]  \n",
    "\n",
    "De eerste stap heeft als doel een goede indruk te krijgen van de verdeling van de steekproef. In de tweede stap wordt de assumptie van normaliteit getoetst. De statistische toets laat zien of de verdeling van de steekproef voldoet aan de assumptie van normaliteit.\n",
    "\n",
    "<!-- ## TEKSTBLOK: Link1.R-->\n",
    "Als blijkt dat de verschilscores niet normaal verdeeld is, transformeer dan de afhankelijke variabele eventueel en bepaal daarna of de verschilscores wel normaal verdeeld is [^5] of gebruik de [Wilcoxon signed rank toets](07-Wilcoxon-signed-rank-toets-R.html).[^6]<sup>, </sup>[^7]\n",
    "<!-- ## /TEKSTBLOK: Link1.R-->\n",
    "\n",
    "# Uitvoering\n",
    "<!-- ## TEKSTBLOK: Dataset-inladen.R-->\n",
    "Er is een dataset ingeladen met het gemiddeld aantal uren studeren voor (T~0~) en na (T~1~) de cursus. De gemiddeldes per onderwijsperiode zijn afgerond op 1 decimaal in de dataset `Studielogboek`. \n",
    "<!-- ## /TEKSTBLOK: Dataset-inladen.R-->\n",
    "\n",
    "## De data bekijken\n",
    "<!-- ## TEKSTBLOK: Data-bekijken.R -->\n",
    "Gebruik `head()` en `tail()` om de structuur van de data te bekijken.\n",
    "<!-- ## /TEKSTBLOK: Data-bekijken.R -->\n",
    "<!-- ## OPENBLOK: Data-bekijken.R -->"
   ]
  },
  {
   "cell_type": "code",
   "execution_count": null,
   "id": "809e2653",
   "metadata": {
    "collapse": true,
    "lines_to_next_cell": 0,
    "name": "data bekijken"
   },
   "outputs": [],
   "source": [
    "## Eerste 6 observaties\n",
    "head(Studielogboek)\n",
    "\n",
    "## Laatste 6 observaties\n",
    "tail(Studielogboek)"
   ]
  },
  {
   "cell_type": "markdown",
   "id": "7aaff100",
   "metadata": {
    "lines_to_next_cell": 0
   },
   "source": [
    "<!-- ## /OPENBLOK: Data-bekijken.R -->\n",
    "\n",
    "Selecteer beide groepen, sla deze op in een vector en bereken het verschil in de afhankelijke variabelen (het aantal studieuren) voor alle deelnemers (de studenten).\n",
    "<!-- ## OPENBLOK: Data-selecteren.R -->"
   ]
  },
  {
   "cell_type": "code",
   "execution_count": null,
   "id": "cd43379f",
   "metadata": {
    "lines_to_next_cell": 0,
    "name": "data selecteren"
   },
   "outputs": [],
   "source": [
    "Uren_studeren_T0 <- Studielogboek[Studielogboek$Meetmoment == \"T0\", 2]\n",
    "Uren_studeren_T1 <- Studielogboek[Studielogboek$Meetmoment == \"T1\", 2]\n",
    "Uren_studeren_verschil <- Uren_studeren_T1 - Uren_studeren_T0"
   ]
  },
  {
   "cell_type": "markdown",
   "id": "90d1f22d",
   "metadata": {},
   "source": [
    "<!-- ## /OPENBLOK: Data-selecteren.R -->\n",
    "\n",
    "<!-- ## TEKSTBLOK: Data-inspectie.R-->\n",
    "Inspecteer de data met `length()`, `mean()`en `sd()` om meer inzicht te krijgen in de data.\n",
    "<!-- ## /TEKSTBLOK: Data-inspectie.R-->"
   ]
  },
  {
   "cell_type": "markdown",
   "id": "5a339b1f",
   "metadata": {},
   "source": [
    "<!-- ## OPENBLOK: numpy-inladen.R -->\n",
    "\n",
    "<!-- ## /OPENBLOK: numpy-inladen.R -->\n"
   ]
  },
  {
   "cell_type": "markdown",
   "id": "d43bc178",
   "metadata": {
    "lines_to_next_cell": 0
   },
   "source": [
    "<div class = \"col-container\">\n",
    "  <div class =\"col\">\n",
    "<!-- ## OPENBLOK: Data-beschrijven-1.R -->"
   ]
  },
  {
   "cell_type": "code",
   "execution_count": null,
   "id": "3c89f865",
   "metadata": {
    "collapse": true,
    "lines_to_next_cell": 0,
    "name": "data beschrijven t1"
   },
   "outputs": [],
   "source": [
    "## aantallen, gemiddelde en standaarddeviatie voor cursus\n",
    "length(Uren_studeren_T0)\n",
    "mean(Uren_studeren_T0)\n",
    "sd(Uren_studeren_T0)"
   ]
  },
  {
   "cell_type": "markdown",
   "id": "a85225bb",
   "metadata": {
    "lines_to_next_cell": 0
   },
   "source": [
    "<!-- ## /OPENBLOK: Data-beschrijven-1.R -->\n",
    "  </div>\n",
    "  <div class = \"col\">\n",
    "<!-- ## OPENBLOK: Data-beschrijven-2.R -->"
   ]
  },
  {
   "cell_type": "code",
   "execution_count": null,
   "id": "d3370af7",
   "metadata": {
    "collapse": true,
    "lines_to_next_cell": 0,
    "name": "data bekijken t2"
   },
   "outputs": [],
   "source": [
    "## aantallen, gemiddelde en standaarddeviatie na cursus\n",
    "length(Uren_studeren_T1)\n",
    "mean(Uren_studeren_T1)\n",
    "sd(Uren_studeren_T1)"
   ]
  },
  {
   "cell_type": "markdown",
   "id": "fff5ed67",
   "metadata": {
    "lines_to_next_cell": 0
   },
   "source": [
    "<!-- ## /OPENBLOK: Data-beschrijven-2.R -->\n",
    "  </div>\n",
    "</div>\n",
    "<!-- ## CLOSEDBLOK: Data-beschrijven.R -->"
   ]
  },
  {
   "cell_type": "code",
   "execution_count": null,
   "id": "86db3b51",
   "metadata": {
    "echo": true,
    "lines_to_next_cell": 0,
    "name": "Var beschrijven",
    "tags": [
     "remove_cell"
    ]
   },
   "outputs": [],
   "source": [
    "vMean_t0 <- Round_and_format(mean(Uren_studeren_T0))\n",
    "vSD_t0   <- Round_and_format(sd(Uren_studeren_T0))\n",
    "vN_t0    <- Round_and_format(length(Uren_studeren_T0))\n",
    "vMean_t1 <- Round_and_format(mean(Uren_studeren_T1))\n",
    "vSD_t1   <- Round_and_format(sd(Uren_studeren_T1))\n",
    "vN_t1    <- Round_and_format(length(Uren_studeren_T1))"
   ]
  },
  {
   "cell_type": "markdown",
   "id": "5a3d3422",
   "metadata": {
    "lines_to_next_cell": 0
   },
   "source": [
    "<!-- ## /CLOSEDBLOK: Data-beschrijven.R -->\n",
    "\n",
    "<!-- ## TEKSTBLOK: Data-beschrijven.R -->\n",
    "* Gemiddeld uren studeren T~0~ (standaardafwijking): `r vMean_t0` (`r vSD_t0`). *n* = `r vN_t0`.\n",
    "* Gemiddeld uren studeren T~1~ (standaardafwijking): `r vMean_t1` (`r vSD_t1`). *n* = `r vN_t1`.\n",
    "\n",
    "<!-- ## /TEKSTBLOK: Data-beschrijven.R -->\n",
    "\n",
    "## Visuele inspectie van normaliteit\n",
    "Geef de verdeling van de verschilscores van het aantal uur studeren voor en na het volgen van de cursus visueel weer met een histogram, Q-Q plot en boxplot.\n",
    "\n",
    "### Histogram\n",
    "\n",
    "Focus bij het analyseren van een histogram[^18] op de symmetrie van de verdeling, de hoeveelheid toppen (modaliteit) en mogelijke uitbijters. Een normale verdeling is symmetrisch, heeft één top en geen uitbijters.[^8]<sup>, </sup>[^9]\n",
    "\n",
    "<!-- ## OPENBLOK: Histogram.R -->"
   ]
  },
  {
   "cell_type": "code",
   "execution_count": null,
   "id": "6367bf40",
   "metadata": {
    "lines_to_next_cell": 0,
    "name": "histogram"
   },
   "outputs": [],
   "source": [
    "## Histogram met ggplot2\n",
    "library(ggplot2)\n",
    "\n",
    "# Zet de variable om in een dataframe zodat het met ggplot gevisualiseerd kan worden\n",
    "Uren_studeren_verschil_dataframe <- as.data.frame(Uren_studeren_verschil)\n",
    "\n",
    "ggplot(Uren_studeren_verschil_dataframe,\n",
    "  aes(x = Uren_studeren_verschil)) +\n",
    "  geom_histogram(aes(y = ..density..),\n",
    "                 binwidth = 1,\n",
    "                 color = \"grey30\",\n",
    "                 fill = \"#0089CF\") +\n",
    "  geom_density(alpha = .2, adjust = 1) +\n",
    "  xlab(\"Verschilscores uren studeren\") +\n",
    "  ylab(\"Frequentiedichtheid\") +\n",
    "  scale_x_continuous(\n",
    "    labels = as.character(seq(-12, 16, 4)),\n",
    "    breaks = seq(-12, 16, 4)) + \n",
    "     labs(title = \"Verschilscores uren studeren voor en na cursus\")"
   ]
  },
  {
   "cell_type": "markdown",
   "id": "edbf4f94",
   "metadata": {},
   "source": [
    "<!-- ## /OPENBLOK: Histogram.R -->\n",
    "\n",
    "De histogram lijkt niet geheel symmetrisch, maar heeft één top en geen outliers. Er lijken geen grote afwijkingen van de normaalverdeling te zijn."
   ]
  },
  {
   "cell_type": "markdown",
   "id": "79f8abf3",
   "metadata": {
    "lines_to_next_cell": 0
   },
   "source": [
    "### Q-Q plot\n",
    "<!-- ## TEKSTBLOK: QQplot.R-->\n",
    "Gebruik `qqnorm()` en `qqline()` met `pch = 1`om een Q-Q plot te maken, met als datapunten kleine cirkels.\n",
    "<!-- ## /TEKSTBLOK: QQplot.R-->\n",
    "\n",
    "<!-- ## OPENBLOK: QQplot-inladen.R -->\n",
    "\n",
    "<!-- ## /OPENBLOK: QQplot-inladen.R -->\n",
    "\n",
    "Als over het algemeen de meeste datapunten op de lijn liggen, kan aangenomen worden dat de data bij benadering normaal verdeeld is.\n",
    "\n",
    "<!-- ## OPENBLOK: QQplot-1.R -->"
   ]
  },
  {
   "cell_type": "code",
   "execution_count": null,
   "id": "915fa111",
   "metadata": {
    "lines_to_next_cell": 0,
    "name": "qqplot-1"
   },
   "outputs": [],
   "source": [
    "qqnorm(Uren_studeren_verschil, \n",
    "       pch = 1,\n",
    "       main = \"Normaal Q-Q plot verschilscores uren studeren voor en na cursus\",\n",
    "       ylab = \"kwantielen in data\",\n",
    "       xlab = \"Theoretische kwantielen\")\n",
    "qqline(Uren_studeren_verschil)"
   ]
  },
  {
   "cell_type": "markdown",
   "id": "3b0f487b",
   "metadata": {
    "lines_to_next_cell": 0
   },
   "source": [
    "<!-- ## /OPENBLOK: QQplot-1.R -->\n",
    "\n",
    "In deze casus liggen de meeste datapunten op of vlakbij de lijn. Hoewel er bij de uiteinden van de verdeling wat afwijkingen zijn, duidt deze grafiek op een goede benadering van de normaalverdeling.\n",
    "\n",
    "### Boxplot\n",
    "\n",
    "De doos van de boxplot geeft de middelste 50% van de verschilscores in studieuren uit het studielogboek weer. De zwarte lijn binnen de box is de mediaan. In de staarten of snorreharen zitten de eerste 25% en de laatste 25%. Cirkels visualiseren mogelijke uitbijters.[^8]<sup>, </sup>[^9]\n",
    "\n",
    "<!-- ## OPENBLOK: Boxplot.R -->\n",
    "``` {r Boxplot}\n",
    "## Boxplot\n",
    "boxplot(Uren_studeren_verschil,\n",
    "        main = \"Boxplot van verschilscore uren studeren voor en na cursus\")\n",
    "```\n",
    "<!-- ## /OPENBLOK: Boxplot.R -->\n",
    "\n",
    "De boxplotten geven de spreiding weer in de verschilscores van het aantal uur studeren voor en na het volgen van de cursus voor deelnemers aan de cursus. De boxplot is niet helemaal symmetrisch, maar beide snorreharen zijn ongeveer even lang en de mediaan ligt ongeveer in het midden. Daarom zijn de verschilscores bij benadering normaal verdeeld.\n",
    "\n",
    "Op basis van de grafieken lijken er geen grote afwijkingen van de normaalverdeling voor de verschillen in studieuren te zijn, maar normaliteit kan ook getoetst worden met statistische toetsen.\n",
    "\n",
    "## Toetsen van normaliteit\n",
    "Om te controleren of de verschilscores normaal verdeeld zijn, kan de normaliteit getoetst worden. Twee veelgebruikte toetsen zijn: de *Kolmogorov-Smirnov test* en de *Shapiro-Wilk test*.\n",
    "\n",
    "### Kolmogorov-Smirnov \n",
    "De *Kolmogorov-Smirnov test* toetst het verschil tussen twee verdelingen. Standaard toetst deze test het verschil tussen een normale verdeling en de verdeling van de steekproef. De Lilliefors correctie is vereist als het gemiddelde en de standaardafwijking niet van tevoren bekend of bepaald zijn, wat meestal het geval is bij een steekproef. Als de p-waarde kleiner dan 0,05 is, is de verdeling van de steekproef significant verschillend van de normale verdeling.\n",
    "\n",
    "<!-- ## TEKSTBLOK: Lilliefors-test1.R -->\n",
    "\n",
    "<!-- ## /TEKSTBLOK: Lilliefors-test1.R -->\n",
    "\n",
    "<!-- ## OPENBLOK: Library-nortest.R -->"
   ]
  },
  {
   "cell_type": "code",
   "execution_count": null,
   "id": "74ae78dc",
   "metadata": {
    "lines_to_next_cell": 0,
    "name": "library nortest",
    "warning": false
   },
   "outputs": [],
   "source": [
    "library(nortest)"
   ]
  },
  {
   "cell_type": "markdown",
   "id": "f84c0972",
   "metadata": {},
   "source": [
    "<!-- ## /OPENBLOK: Library-nortest.R -->\n",
    "\n",
    "<!-- ## OPENBLOK: Lilliefors-test-1.R -->\n",
    "``` {r Lilliefors Test-1, warning=FALSE}\n",
    "lillie.test(Uren_studeren_verschil)\n",
    "```\n",
    "<!-- ## /OPENBLOK: Lilliefors-test-1.R -->\n",
    "\n",
    "<!-- ## TEKSTBLOK: Lilliefors-test-2.R -->\n",
    "De test heeft een p-waarde van `r Round_and_format(lillie.test(Uren_studeren_verschil)$p.value)`, dus er is geen significant verschil gevonden tussen de verdeling van de steekproef en de normale verdeling. De *gepaarde t-toets* kan uitgevoerd worden. \n",
    "<!-- ## /TEKSTBLOK: Lilliefors-test-2.R -->\n",
    "\n",
    "### Shapiro-Wilk Test\n",
    "De *Shapiro-Wilk test* is een soortgelijke test als de *Kolmogorov-Smirnov test* en vooral geschikt bij kleine steekproeven (*n* < 50). Als de p-waarde kleiner dan 0,05 is, is de verdeling van de steekproef significant verschillend van de normale verdeling.\n",
    "\n",
    "<!-- ## CLOSEDBLOK: data inladen-2.R -->\n",
    "\n",
    "<!-- ## /CLOSEDBLOK: data inladen-2.R -->\n",
    "\n",
    "<!-- ## TEKSTBLOK: Shapiro-Wilk-test.R -->\n",
    "Er is een subset van de verschillen tussen het aantal studieuren op T~0~ en T~1~ ingeladen, `Uren_studeren_verschil_n30`, met daarin `r length(Uren_studeren_verschil_n30)` observaties. Voor een relatief kleine steekproef als deze is de *Shapiro-Wilk Test* geschikt.\n",
    "\n",
    "<!-- ## /TEKSTBLOK: Shapiro-Wilk-test.R -->\n",
    "<!-- ## OPENBLOK: Shapiro-Wilk-test-1.R -->\n",
    "``` {r Shapiro-Wilk Test-1, warning=FALSE}\n",
    "shapiro.test(Uren_studeren_verschil_n30)\n",
    "```\n",
    "<!-- ## /OPENBLOK: Shapiro-Wilk-test-1.R -->\n",
    "\n",
    "<!-- ## TEKSTBLOK: Shapiro-Wilk-test-2.R -->\n",
    "Voor deze subset is de p-waarde `r Round_and_format(shapiro.test(Uren_studeren_verschil_n30)$p.value)`, dus er is geen significant verschil gevonden tussen de verdeling van de steekproef en de normale verdeling. De *gepaarde t-toets* kan uitgevoerd worden.  \n",
    "<!-- ## /TEKSTBLOK: Shapiro-Wilk-test-2.R -->\n",
    "\n",
    "## Gepaarde t-toets\n",
    "<!-- ## TEKSTBLOK: T-test.R -->\n",
    "Gebruik de functie `t.test()` met het argument `paired = TRUE` om een *gepaarde t-toets* uit te voeren. Gebruik hier weer het hele dataframe `Studielogboek`. Het eerste argument bestaat uit de afhankelijke variabele `Uren_studeren` en de groepvariabele `Meetmoment`. Het argument `alternative = two.sided\"` geeft aan dat er tweezijdig getoetst wordt.\n",
    "<!-- ## /TEKSTBLOK: T-test.R -->"
   ]
  },
  {
   "cell_type": "markdown",
   "id": "4bfd1acd",
   "metadata": {
    "lines_to_next_cell": 0
   },
   "source": [
    "<!-- ## OPENBLOK: T-toets.R -->"
   ]
  },
  {
   "cell_type": "code",
   "execution_count": null,
   "id": "2f80576a",
   "metadata": {
    "lines_to_next_cell": 0,
    "name": "T-test"
   },
   "outputs": [],
   "source": [
    "t.test(Uren_studeren ~ Meetmoment, Studielogboek, \n",
    "       paired = TRUE,\n",
    "       alternative = \"two.sided\")"
   ]
  },
  {
   "cell_type": "markdown",
   "id": "82e96816",
   "metadata": {
    "lines_to_next_cell": 0
   },
   "source": [
    "<!-- ## /OPENBLOK: T-toets.R -->\n",
    "<!-- ## CLOSEDBLOK: T-test.R -->"
   ]
  },
  {
   "cell_type": "code",
   "execution_count": null,
   "id": "00d42627",
   "metadata": {
    "lines_to_next_cell": 0,
    "name": "T-test als object",
    "tags": [
     "remove_input"
    ]
   },
   "outputs": [],
   "source": [
    "t <- t.test(Uren_studeren ~ Meetmoment, Studielogboek, paired = TRUE)\n",
    "vT_waarde <- Round_and_format(t$statistic)\n",
    "vN <- t$parameter + 1\n",
    "vDF <- t$parameter\n",
    "vconf.int1 <- Round_and_format(-t$conf.int[1])\n",
    "vconf.int2 <- Round_and_format(-t$conf.int[2])\n",
    "vDiffMean <- Round_and_format(t$estimate*-1)"
   ]
  },
  {
   "cell_type": "markdown",
   "id": "429914bc",
   "metadata": {
    "lines_to_next_cell": 0
   },
   "source": [
    "<!-- ## /CLOSEDBLOK: T-test.R -->\n",
    "<!-- ## TEKSTBLOK: T-test2.R -->\n",
    "* *t*~`r vDF`~ = `r vT_waarde`, *p* < 0,0001\n",
    "* Vrijheidsgraden, *df* = *n* -1 = `r vN`-1 = `r vDF`  \n",
    "* De p-waarde is kleiner dan 0,05, dus de H~0~ wordt verworpen [^10]\n",
    "* De output van deze functie berekend het verschil in gemiddelde als µ~verschil~ = µ~T0~ - µ~T1~. Om het duidelijker te maken wordt in deze toetspagina het verschil andersom berekend, dus µ~verschil~ = µ~T1~ - µ~T0~.\n",
    "* 95%-betrouwbaarheidsinterval: bij het herhalen van het experiment met verschillende steekproeven van de populatie zal 95% van de betrouwbaarheidsintervallen de daadwerkelijke parameter bevatten, het verschil tussen het aantal studieuren voor en na de cursus,  µ~verschil~ = µ~T1~ - µ~T0~. In deze casus is het interval tussen `r vconf.int1` en `r vconf.int2`. Aangezien 0 niet in dit interval zit, is er een significant verschil tussen µ~T1~ en µ~T0~.\n",
    "* Het absolute gemiddelde verschil tussen de twee groepen is `r vDiffMean`.\n",
    "\n",
    "<!-- ## /TEKSTBLOK: T-test2.R -->\n",
    "\n",
    "De p-waarde geeft aan of het verschil tussen twee groepen significant is. De grootte van het verschil of effect is echter ook relevant. Een effectmaat is een gestandaardiseerde maat die de grootte van een effect weergeeft, zodat effecten van verschillende onderzoeken met elkaar vergeleken kunnen worden.[^11] Een veel gebruikte effectmaat is Cohen's *d*. Cohen's *d* geeft een gestandaardiseerd verschil weer: het verschil in gemiddelden tussen twee groepen gecorrigeerd voor de standaardafwijking van de eerste meting (T~0~). Een indicatie om *d* te interpreteren is: rond 0,3 is een klein effect, rond 0,5 is een gemiddeld effect en rond 0,8 is een groot effect.[^12]  \n",
    "\n",
    "<!-- ## TEKSTBLOK: Cohen-d.R -->\n",
    "Gebruik de functie `cohensD()` van het package `lsr` om de effectmaat te berekenen. Het eerste argument bestaat uit de afhankelijke variabele `Uren_studeren` en de groepvariabele `Meetmoment` en het tweede argument is de dataset `Studielogboek`. Gebruik het argument `method = x.sd` om de effectmaat te berekenen op basis van de standaardafwijking van de observaties voor de cursus (T~0~).\n",
    "<!-- ## /TEKSTBLOK: Cohen-d.R  -->\n",
    "\n",
    "<!-- ## OPENBLOK: Cohens-d-test.R -->"
   ]
  },
  {
   "cell_type": "code",
   "execution_count": null,
   "id": "7586b3bd",
   "metadata": {
    "lines_to_next_cell": 0,
    "name": "Cohens d",
    "warning": false
   },
   "outputs": [],
   "source": [
    "library(lsr)\n",
    "cohensD(Uren_studeren ~ Meetmoment, Studielogboek, method = \"x.sd\")\n"
   ]
  },
  {
   "cell_type": "markdown",
   "id": "ec953b7e",
   "metadata": {
    "lines_to_next_cell": 0
   },
   "source": [
    "<!-- ## /OPENBLOK: Cohens-d-test.R -->\n",
    "\n",
    "<!-- ## CLOSEDBLOK: Cohens-d-test.R -->"
   ]
  },
  {
   "cell_type": "code",
   "execution_count": null,
   "id": "acd1265b",
   "metadata": {
    "lines_to_next_cell": 0,
    "name": "var Cohens d",
    "tags": [
     "remove_cell"
    ]
   },
   "outputs": [],
   "source": [
    "vD_waarde <- cohensD(Uren_studeren ~ Meetmoment, Studielogboek, method = \"x.sd\")"
   ]
  },
  {
   "cell_type": "markdown",
   "id": "80cd9049",
   "metadata": {},
   "source": [
    "<!-- ## CLOSEDBLOK: Cohens-d-test.R -->\n",
    "\n",
    "<!-- ## TEKSTBLOK: Cohens-d-test.R -->\n",
    "*d* = `r vD_waarde`. De sterkte van het effect van de tutor op het cijfer is groot. \n",
    "<!-- ## /TEKSTBLOK: Cohens-d-test.R -->\n",
    "\n",
    "# Rapportage\n",
    "<!-- ## TEKSTBLOK: Rapportage.R -->\n",
    "Een *gepaarde t-toets* is uitgevoerd om te toetsen of het gemiddeld aantal uur studeren van de studenten is veranderd na deelname aan de cursus Plannen. Het verschil tussen het gemiddelde van T~0~ (*M~T0~* = `r vMean_t0`, *SD~T0~* = `r vSD_t0`) en het gemiddelde van T~1~ (*M~T1~* =`r vMean_t1`, *SD~T1~* = `r vSD_t1`) is significant, *t* ~`r vDF`~ = `r vT_waarde`, *p* < 0,0001. Gemiddeld studeren de studenten `r vDiffMean` uur meer na deelname aan de cursus, dit is een groot effect. Het 95%-betrouwbaarheidsinterval voor het verschil tussen het gemiddelde van beide groepen (T~1~ - T~0~) loopt van `r vconf.int1` tot `r vconf.int2`. Aan de hand van de resultaten kan geconcludeerd worden dat de studenten, na deelname aan de cursus Plannen, meer tijd besteden aan hun studie dan daarvoor."
   ]
  },
  {
   "cell_type": "markdown",
   "id": "37865543",
   "metadata": {},
   "source": [
    "| Meting     | N         | M            | SD         |\n",
    "| --------   | --------- | ------------ | ---------- |\n",
    "| T~0~       | `r vN_t0` | `r vMean_t0` | `r vSD_t0` |\n",
    "| T~1~       | `r vN_t1` | `r vMean_t1` | `r vSD_t1` |\n",
    "<!-- ## /TEKSTBLOK: Rapportage.R -->\n",
    "*Tabel 1. Groepsgrootte, gemiddeld tentamencijfer en standaarddeviatie van het aantal uren door studenten besteed aan hun studie per meetmoment*"
   ]
  },
  {
   "cell_type": "markdown",
   "id": "e3977cc8",
   "metadata": {
    "lines_to_next_cell": 0
   },
   "source": [
    "<!-- ## CLOSEDBLOK: Footer.R -->"
   ]
  },
  {
   "cell_type": "code",
   "execution_count": null,
   "id": "6fa2c2d6",
   "metadata": {
    "code": "#R_CODE#readLines(paste0(here::here(),\"/01. Includes/code/Footer.R\"))",
    "include": true,
    "lines_to_next_cell": 0,
    "name": "footer",
    "results": "asis",
    "tags": [
     "remove_input"
    ]
   },
   "outputs": [],
   "source": []
  },
  {
   "cell_type": "markdown",
   "id": "38ca4243",
   "metadata": {},
   "source": [
    "<!-- ## /CLOSEDBLOK: Footer.R -->\n",
    "\n",
    "[^1]: Wikipedia (21 augustus 2019). *Student's t-test*. [Wikipedia](https://en.wikipedia.org/wiki/student%27s_t-test).\n",
    "[^2]: Lumley, T., Diehr, P., Emerson, S., & Chen, L. (2002). The importance of the normality assumption in large public health data sets. *Annu Rev Public Health, 23*, 151-69. doi: 10.1146/annurev.publheath.23.100901.140546 http://rctdesign.org/techreports/arphnonnormality.pdf \n",
    "[^3]: Van Geloven, N. (25 september2013). *Wilcoxon signed rank toets*. [Wiki Statistiek Academisch Medisch Centrum](https://wikistatistiek.amc.nl/index.php/Wilcoxon_signed_rank_toets).\n",
    "[^4]: Laerd statistics (2018). *Testing for Normality using SPSS Statistics*. [Testing for Normality using SPSS Statistics](https://statistics.laerd.com/spss-tutorials/testing-for-normality-using-spss-statistics.php).  \n",
    "[^5]: Er zijn verschillende opties om variabelen te transformeren, zoals de logaritme, wortel of inverse (1 gedeeld door de variabele) nemen van de variabele. Zie *Discovering statistics using IBM SPSS statistics* van Field (2013) pagina 201-210 voor meer informatie over welke transformaties wanneer gebruikt kunnen worden.\n",
    "[^6]: Universiteit van Amsterdam (14 juli 2014). *Normaliteit*. [UvA Wiki Methodologiewinkel](https://wiki.uva.nl/methodologiewinkel/index.php/Normaliteit).  \n",
    "[^7]: De [Wilcoxon signed rank toets](07-Wilcoxon-signed-rank-toets-R.html) maakt een rangschikking van de data. Hierdoor is de test verdelingsvrij en is normaliteit geen assumptie. Ook zijn uitbijters minder van invloed op het eindresultaat. Toch wordt er voor deze test minder vaak gekozen, doordat bij het maken van een rankschikking de data informatie verliest. Als de data wel normaal verdeeld is, heeft de [Wilcoxon signed rank toets](07-Wilcoxon-signed-rank-toets-R.html) minder onderscheidend vermogen dan wanneer de *gepaarde t-toets* uitgevoerd zou worden.  \n",
    "[^8]: Outliers (13 augustus 2016). [UvA Wiki Methodologiewinkel](https://wiki.uva.nl/methodologiewinkel/index.php/Outliers).\n",
    "[^9]: Uitbijters kunnen bepalend zijn voor de uitkomst van toetsen. Bekijk of de uitbijters valide uitbijters zijn en niet een meetfout of op een andere manier incorrect verkregen data. Het weghalen van uitbijters kan de uitkomst ook vertekenen, daarom is het belangrijk om verwijderde uitbijters te melden in een rapport.\n",
    "[^10]: In dit voorbeeld wordt uitgegaan van een waarschijnlijkheid van 95% c.q. een p-waardegrens van 0,05. De grens is naar eigen inzicht aan te passen, houd hierbij rekening met type I en type II fouten.\n",
    "[^11]: Field, A., Miles, J., & Field, Z. (2012). *Discovering statistics using R*. London: Sage publications.\n",
    "[^12]: Marshall, E., & Boggis, E. (2016). *The statistics tutor’s quick guide to commonly used statistical tests*. http://www.statstutor.ac.uk/resources/uploaded/tutorsquickguidetostatistics.pdf \n",
    "[^13]: Met een deelnemer wordt het object bedoeld dat geobserveerd wordt, bijvoorbeeld een student, een inwoner van Nederland, een opleiding of een organisatie. Met een observatie wordt de waarde bedoeld die de deelnemer heeft voor een bepaalde variabele. Een deelnemer heeft dus meestal een observatie voor meerdere variabelen.\n",
    "[^18]: De breedte van de staven van het histogram wordt vaak automatisch bepaald, maar kan handmatig aangepast worden. Aangezien de breedte van de staven bepalend zijn voor de indruk die de visualisatie geeft, is het verstandig om hier goed op te letten.\n",
    "\n",
    "<!-- ## TEKSTBLOK: Extra-Bron.R -->\n",
    "\n",
    "<!-- ## /TEKSTBLOK: Extra-Bron.R -->"
   ]
  }
 ],
 "metadata": {
  "jupytext": {
   "cell_metadata_filter": "message,tags,name,warning,echo,code,results,collapse,include,eval,-all",
   "main_language": "R",
   "notebook_metadata_filter": "-all"
  }
 },
 "nbformat": 4,
 "nbformat_minor": 5
}
