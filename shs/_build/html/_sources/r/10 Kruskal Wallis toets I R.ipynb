{
 "cells": [
  {
   "cell_type": "raw",
   "id": "0e4cc171",
   "metadata": {
    "lines_to_next_cell": 0
   },
   "source": [
    "---\n",
    "title: \"Kruskal Wallis toets\"\n",
    "output: \n",
    "  html_document:\n",
    "    theme: lumen\n",
    "    toc: yes\n",
    "    toc_depth: 2\n",
    "    toc_float: \n",
    "      collapsed: FALSE \n",
    "    number_sections: true\n",
    "    includes:\n",
    "      in_header: [\"../01. Includes/html/nocache.html\", \"../01. Includes/html/favicon.html\", \"../01. Includes/html/analytics.html\"]\n",
    "  keywords: [statistisch handboek, studiedata]\n",
    "---"
   ]
  },
  {
   "cell_type": "markdown",
   "id": "b95c1866",
   "metadata": {
    "lines_to_next_cell": 0
   },
   "source": [
    "<!-- ## CLOSEDBLOK: Functies.R -->"
   ]
  },
  {
   "cell_type": "code",
   "execution_count": null,
   "id": "d7f8e78b",
   "metadata": {
    "include": true,
    "lines_to_next_cell": 0,
    "message": false,
    "name": "functies",
    "results": "asis",
    "tags": [
     "remove_input"
    ],
    "warning": false
   },
   "outputs": [],
   "source": [
    "library(here)\n",
    "if (!exists(\"Substitute_var\")) {\n",
    "  ## Installeer packages en functies\n",
    "  source(paste0(here::here(), \"/99. Functies en Libraries/00. Voorbereidingen.R\"), echo = FALSE)\n",
    "}"
   ]
  },
  {
   "cell_type": "markdown",
   "id": "5d096aff",
   "metadata": {
    "lines_to_next_cell": 0
   },
   "source": [
    "<!-- ## /CLOSEDBLOK: Functies.R -->\n",
    "\n",
    "<!-- ## CLOSEDBLOK: CSS -->\n",
    "<style>\n",
    "`r htmltools::includeHTML(paste0(here::here(),\"/01. Includes/css/Stylesheet_SHHO.css\"))`\n",
    "</style>\n",
    "<!-- ## /CLOSEDBLOK: CSS -->\n",
    "\n",
    "<!-- ## CLOSEDBLOK: Header.R -->"
   ]
  },
  {
   "cell_type": "code",
   "execution_count": null,
   "id": "2215613a",
   "metadata": {
    "code": "#R_CODE#readLines(paste0(here::here(),\"/01. Includes/code/Header.R\"))",
    "include": true,
    "lines_to_next_cell": 0,
    "name": "header",
    "results": "asis",
    "tags": [
     "remove_input"
    ]
   },
   "outputs": [],
   "source": []
  },
  {
   "cell_type": "markdown",
   "id": "5bbb3357",
   "metadata": {
    "lines_to_next_cell": 0
   },
   "source": [
    "<!-- ## /CLOSEDBLOK: Header.R -->\n",
    "\n",
    "<!-- ## CLOSEDBLOK: Status.R -->"
   ]
  },
  {
   "cell_type": "code",
   "execution_count": null,
   "id": "19aa98ca",
   "metadata": {
    "code": "#R_CODE#readLines(paste0(here::here(),\"/01. Includes/code/Status.R\"))",
    "include": true,
    "lines_to_next_cell": 0,
    "name": "status",
    "results": "asis",
    "tags": [
     "remove_input"
    ]
   },
   "outputs": [],
   "source": []
  },
  {
   "cell_type": "markdown",
   "id": "b845e301",
   "metadata": {
    "lines_to_next_cell": 0
   },
   "source": [
    "<!-- ## /CLOSEDBLOK: Status.R -->\n",
    "\n",
    "<!-- ## CLOSEDBLOK: Reticulate.R -->\n",
    "\n",
    "<!-- ## /CLOSEDBLOK: Reticulate.R -->\n",
    "\n",
    "<!-- ## OPENBLOK: Data-aanmaken.R -->"
   ]
  },
  {
   "cell_type": "code",
   "execution_count": null,
   "id": "17437b66",
   "metadata": {
    "echo": true,
    "lines_to_next_cell": 0,
    "name": "aanmaken data",
    "tags": [
     "remove_cell"
    ]
   },
   "outputs": [],
   "source": [
    "source(paste0(here::here(),\"/01. Includes/data/10.R\"))"
   ]
  },
  {
   "cell_type": "markdown",
   "id": "0254a297",
   "metadata": {},
   "source": [
    "<!-- ## /OPENBLOK: Data-aanmaken.R -->\n",
    "\n",
    "# Toepassing\n",
    "<!-- ## TEKSTBLOK: link1.R -->\n",
    "Gebruik de *Kruskal Wallis toets* om te toetsen of de gemiddelde rangnummers[^19] van de verdelingen van twee of meer groepen van elkaar verschillen.[^1]<sup>, </sup>[^17] De *Kruskal Wallis toets* kan een alternatief zijn voor de [one-way ANOVA](05-One-way-ANOVA-R.html).[^2] De *Kruskal Wallis toets* hoeft niet te voldoen aan de assumptie van normaliteit van de verdelingen van elke groep. Daarnaast hebben uitbijters bij de *Kruskal Wallis toets*  minder invloed op het eindresultaat dan bij de [one-way ANOVA](05-One-way-ANOVA-R.html). Daarentegen, als de data wel normaal verdeeld is, heeft de *Kruskal Wallis toets* minder onderscheidend vermogen[^4] dan de [one-way ANOVA](05-One-way-ANOVA-R.html).[^3] Vandaar dat ondanks de voordelen van de grotere robuustheid er toch minder vaak voor de *Kruskal Wallis toets* gekozen wordt. \n",
    "<!-- ## /TEKSTBLOK: link1.R -->\n",
    "\n",
    "# Onderwijscasus\n",
    "<div id=\"casus\">\n",
    "De opleidingsdirecteur van de tweejarige Masteropleiding Arbeidsrecht is geïnteresseerd in de afstudeersnelheid van haar studenten. Zij vraagt zich af of er een verschil zit in het type vooropleiding dat de studenten hebben gehaald en de hoeveel studiepunten die de studenten behalen in het eerste jaar. Zij kijkt naar de vier meest gangbare vooropleidingen die de studenten doorlopen voordat ze met de Master Arbeidsrecht beginnen: de Bachelors Fiscaal Recht, Notarieel Recht en Rechtsgeleerdheid en de Premaster. \n",
    "\n",
    "Dit onderzoek vertaalt zich in de volgende combinatie van hypothesen, waarbij de nulhypothese zo geformuleerd is dat er geen effect of verschil is en de alternatieve hypothese zo geformuleerd is dat er wel een effect of verschil is.\n",
    "\n",
    "*H~0~*: Het gemiddelde rangnummer van de verdeling van het aantal behaalde studiepunten in het eerste jaar van de master Arbeidsrecht is gelijk voor de studenten met als vooropleidingen Bachelor Fiscaal Recht, Notarieel Recht of Rechtsgeleerdheid of de Premaster.\n",
    "\n",
    "*H~A~*: Het gemiddelde rangnummer van de verdeling van het aantal behaalde studiepunten in het eerste jaar van de master Arbeidsrecht is niet gelijk voor de studenten met als vooropleiding Bachelor Fiscaal Recht, Notarieel Recht of Rechtsgeleerdheid of de Premaster.\n",
    "\n",
    "</div>\n",
    "\n",
    "# Assumpties\n",
    "<!-- ## TEKSTBLOK: link2.R -->\n",
    "Het meetniveau van de afhankelijke variabele is ordinaal[^16] of continu.[^6] In deze toetspagina staat een casus met continue data centraal; een casus met ordinale data met bijbehorende uitwerking is te vinden in de [Kruskal Wallis toets II](25-Kruskall-Wallis-toets-II-R.html). \n",
    "<!-- ## /TEKSTBLOK: link2.R -->\n",
    "\n",
    "# Post-hoc toets \n",
    "<!-- ## TEKSTBLOK: link3.R -->\n",
    "De *Kruskal Wallis toets* toetst of twee of meerdere groepen van elkaar verschillen. Een post-hoc toets specificeert of groep significant van een andere groep verschilt. Gebruik de [Mann-Whitney U toets](08-Mann-Whitney-U-toets-I-R.html) als post-hoc toets. Hoewel het minder gebruikelijk is, is *Moods'mediaan toets* ook een optie als post-hoc toets. Deze toets toetst het verschil tussen de medianen van twee ongepaarde groepen. De [Mann-Whitney U toets](08-Mann-Whitney-U-toets-I-R.html) toetst het verschil tussen de verdelingen van twee ongepaarde groepen.\n",
    "<!-- ## /TEKSTBLOK: link3.R -->\n",
    "\n",
    "Gebruik een correctie voor de p-waarden, omdat er meerdere toetsen tegelijkertijd worden gebruikt. Meerdere toetsen tegelijkertijd uitvoeren verhoogt de kans dat een van de nulhypotheses onterecht wordt verworpen en er bij toeval een verband wordt ontdekt dat er niet is (type I fout). In deze toetspagina wordt de *Bonferroni correctie* gebruikt. Deze correctie past de p-waarde aan door de p-waarde te vermenigvuldigen met het aantal uitgevoerde toetsen en verlaagt hiermee de kans op een type I fout.[^9] Een andere uitleg hiervan is dat het significantieniveau gedeeld wordt door het aantal toetsen wat leidt tot een lager significantieniveau en dus een strengere toets. Er zijn ook andere opties voor een correctie op de p-waarden.[^5]\n",
    "\n",
    "# Effectmaat\n",
    "De p-waarde geeft aan of het verschil tussen groepen significant is. De grootte van het verschil of effect is echter ook relevant. Een effectmaat is een gestandaardiseerde maat die de grootte van een effect weergeeft, zodat effecten van verschillende onderzoeken met elkaar vergeleken kunnen worden.[^2] \n",
    "\n",
    "Bij de *Kruskal Wallis toets* wordt eta-squared (*η^2^*) als effectmaat gebruikt.[^10] De effectmaat eta squared (*η^2^*) berekent de proportie van de variantie in de afhankelijke variabele die verklaard wordt door de onafhankelijke variabele. In deze casus berekent het de proportie van de variantie in het aantal studiepunten wat verklaard kan worden door de vooropleiding. Een indicatie om *η^2^* te interpreteren is: rond 0,01 is een klein effect, rond 0,06 is een gemiddeld effect en rond 0,14 is een groot effect.[^11]\n"
   ]
  },
  {
   "cell_type": "markdown",
   "id": "ca77cec7",
   "metadata": {
    "lines_to_next_cell": 0
   },
   "source": [
    "# Uitvoering\n",
    "<!-- ## TEKSTBLOK: Dataset-inladen.R-->\n",
    "Er is een dataset `Resultaten_Arbeidsrecht` ingeladen met studieresultaten van het eerste jaar van de master Arbeidsrecht per vooropleiding: Fiscaal Recht, Notarieel Recht, Rechtsgeleerdheid en de Premaster.\n",
    "<!-- ## /TEKSTBLOK: Dataset-inladen.R-->\n",
    "\n",
    "## De data bekijken\n",
    "<!-- ## TEKSTBLOK: Data-bekijken.R -->\n",
    "Gebruik `head()` en `tail()` om de structuur van de data te bekijken.\n",
    "<!-- ## /TEKSTBLOK: Data-bekijken.R -->\n",
    "<!-- ## OPENBLOK: Data-bekijken.R -->"
   ]
  },
  {
   "cell_type": "code",
   "execution_count": null,
   "id": "244989fa",
   "metadata": {
    "collapse": true,
    "lines_to_next_cell": 0,
    "name": "data bekijken"
   },
   "outputs": [],
   "source": [
    "## Eerste 6 observaties\n",
    "head(Resultaten_Arbeidsrecht)\n",
    "\n",
    "## Laatste 6 observaties\n",
    "tail(Resultaten_Arbeidsrecht)"
   ]
  },
  {
   "cell_type": "markdown",
   "id": "1f30a863",
   "metadata": {
    "lines_to_next_cell": 0
   },
   "source": [
    "<!-- ## /OPENBLOK: Data-bekijken.R -->\n",
    "\n",
    "<!-- ## TEKSTBLOK: Data-bekijken2.R-->\n",
    "De dataset bevat gegevens van studenten van verschillende opleidingen. Gebruik `unique()` om te onderzoeken welke opleidingen er in de data aanwezig zijn. \n",
    "<!-- ## /TEKSTBLOK: Data-bekijken2.R-->\n",
    "\n",
    "<!-- ## OPENBLOK: Data-bekijken-2.R -->"
   ]
  },
  {
   "cell_type": "code",
   "execution_count": null,
   "id": "eff10549",
   "metadata": {
    "lines_to_next_cell": 0,
    "name": "data bekijken 2"
   },
   "outputs": [],
   "source": [
    "## Unieke opleidingen\n",
    "unique(Resultaten_Arbeidsrecht$Vooropleiding)"
   ]
  },
  {
   "cell_type": "markdown",
   "id": "3de60ce3",
   "metadata": {
    "lines_to_next_cell": 0
   },
   "source": [
    "<!-- ## /OPENBLOK: Data-bekijken-2.R -->\n",
    "\n",
    "<!-- ## TEKSTBLOK: Data-bekijken3.R-->\n",
    "Inspecteer voor het aantal EC per vooropleiding de mediaan, de kwartielen en het aantal observaties. Gebruik de mediaan en kwartielen omdat de beoordelingen waarschijnlijk niet normaal verdeeld zijn. Gebruik hiervoor de functie `descr` en `stby` van het package `summarytools` om de beschrijvende statistieken per groep weer te geven. Voer de gewenste statistieken in met het argument `stats = c(\"q1\",\"med\",\"q3\",\"n.valid\")`.\n",
    "\n",
    "<!-- ## /TEKSTBLOK: Data-bekijken3.R-->\n",
    "\n",
    "<!-- ## OPENBLOK: Data-beschrijven.R -->\n",
    "``` {r data beschrijven, warning=FALSE, message=FALSE}\n",
    "library(summarytools)\n",
    "\n",
    "## Mediaan, kwartielen en groepsgroottes\n",
    "with(Resultaten_Arbeidsrecht, \n",
    "     stby(data = EC_Jaar1, \n",
    "          list(Vooropleiding), \n",
    "          descr, \n",
    "          stats = c(\"q1\", \"med\", \"q3\", \"n.valid\")))\n",
    "```\n",
    "<!-- ## /OPENBLOK: Data-beschrijven.R -->\n",
    "<!-- ## CLOSEDBLOK: Data-beschrijven.R -->\n",
    "``` {r data beschrijven als object, include=FALSE, echo=TRUE}\n",
    "x <- with(Resultaten_Arbeidsrecht,\n",
    "          stby(data = EC_Jaar1,\n",
    "               list(Vooropleiding),\n",
    "               descr,\n",
    "               stats = c(\"q1\", \"med\", \"q3\", \"n.valid\")))\n",
    "\n",
    "vN_FIS <- Round_and_format(x[[1]][4])\n",
    "vN_NOT <- Round_and_format(x[[2]][4])\n",
    "vN_RCH <- Round_and_format(x[[4]][4])\n",
    "vN_PM <- Round_and_format(x[[3]][4])\n",
    "\n",
    "vQ1_FIS <- Round_and_format(x[[1]][1])\n",
    "vQ1_NOT <- Round_and_format(x[[2]][1])\n",
    "vQ1_RCH <- Round_and_format(x[[4]][1])\n",
    "vQ1_PM <- Round_and_format(x[[3]][1])\n",
    "\n",
    "vMed_FIS <- Round_and_format(x[[1]][2])\n",
    "vMed_NOT <- Round_and_format(x[[2]][2])\n",
    "vMed_RCH <- Round_and_format(x[[4]][2])\n",
    "vMed_PM <- Round_and_format(x[[3]][2])\n",
    "\n",
    "vQ3_FIS <- Round_and_format(x[[1]][3])\n",
    "vQ3_NOT <- Round_and_format(x[[2]][3])\n",
    "vQ3_RCH <- Round_and_format(x[[4]][3])\n",
    "vQ3_PM <- Round_and_format(x[[3]][3])\n",
    "```\n",
    "<!-- ## /CLOSEDBLOK: Data-beschrijven.R -->\n",
    "<!-- ## TEKSTBLOK: Data-beschrijven.R-->\n",
    "* Mediaan Fiscaal Recht is `r vMed_FIS`, *n* = `r vN_FIS`.\n",
    "* Mediaan Notarieel Recht is `r vMed_NOT`, *n* = `r vN_NOT`.\n",
    "* Mediaan Premaster is `r vMed_PM`, *n* = `r vN_PM`.\n",
    "* Mediaan Rechtsgeleerdheid is `r vMed_RCH`, *n* = `r vN_RCH`.\n",
    "\n",
    "<!-- ## /TEKSTBLOK: Data-beschrijven.R-->\n",
    "\n",
    "## De data visualiseren\n",
    "\n",
    "Geef de verdeling van de verschillende vooropleidingen visueel weer met een histogram.[^18]\n",
    "\n",
    "<!-- ## OPENBLOK: Histogram.R -->"
   ]
  },
  {
   "cell_type": "code",
   "execution_count": null,
   "id": "b6d4b56b",
   "metadata": {
    "lines_to_next_cell": 0,
    "name": "histogram"
   },
   "outputs": [],
   "source": [
    "## Histogram met ggplot\n",
    "library(ggplot2)\n",
    "\n",
    "ggplot(Resultaten_Arbeidsrecht,\n",
    "  aes(x = EC_Jaar1)) +\n",
    "  geom_histogram(aes(y = ..density..),\n",
    "                 binwidth = 1,\n",
    "                 color = \"grey30\",\n",
    "                 fill = \"#0089CF\") +\n",
    "  facet_wrap(~ Vooropleiding) +\n",
    "  ylab(\"Frequentiedichtheid\") +\n",
    "  xlab(\"Aantal studiepunten jaar 1\")\n",
    "  labs(title = \"Beoordelingen\")"
   ]
  },
  {
   "cell_type": "markdown",
   "id": "708cdffd",
   "metadata": {
    "lines_to_next_cell": 0
   },
   "source": [
    "<!-- ## /OPENBLOK: Histogram.R -->\n",
    "\n",
    "Allereerst valt op dat de verdeling enigszins discreet is. Aangezien er in deze casus zes studiepunten per vak te verdienen zijn met een totaal van 60 in het eerste jaar, bestaan de histogrammen uit staven waartussen de verschillen zes studiepunten zijn. De verdeling van alle vier de vooropleidingen zijn niet normaal maar scheef verdeeld. Met uitzondering van de vooropleiding Rechtsgeleerdheid ligt de top op 60 studiepunten en is er een staart links daarvan.\n",
    "\n",
    "## Kruskal Wallis toets\n",
    "<!-- ## TEKSTBLOK: Kruskal-Wallis-test-1.R -->\n",
    "Voer de *Kruskal Wallis toets* uit om te onderzoeken of er verschillen zijn in het aantal studiepunten in het eerste jaar tussen de studenten van de master Arbeidsrecht met vier verschillende vooropleidingen   Gebruik de functie `kruskal.test()` met als eerste argument de afhankelijke variabele `EC_Jaar1` en de variabele die de groep definiëert: `Vooropleiding`. Het tweede argument is het dataframe `Resultaten_Arbeidsrecht`. \n",
    "<!-- ## /TEKSTBLOK: Kruskal-Wallis-test-1.R -->\n",
    "\n",
    "<!-- ## OPENBLOK: Kruskal-Wallis-test-2.R -->"
   ]
  },
  {
   "cell_type": "code",
   "execution_count": null,
   "id": "b605ba15",
   "metadata": {
    "lines_to_next_cell": 0,
    "name": "Kruskal Wallis test"
   },
   "outputs": [],
   "source": [
    "kruskal.test(EC_Jaar1 ~ Vooropleiding, Resultaten_Arbeidsrecht)"
   ]
  },
  {
   "cell_type": "markdown",
   "id": "902169d2",
   "metadata": {
    "lines_to_next_cell": 0
   },
   "source": [
    "<!-- ## /OPENBLOK: Kruskal-Wallis-test-2.R -->\n",
    "\n",
    "Bereken de effectmaat *&eta;^2^* vervolgens op basis van de *&chi;^2^*-waarde van de *Kruskal-Wallis toets*.\n",
    "<!-- ## OPENBLOK: Kruskal-Wallis-test-3.R -->"
   ]
  },
  {
   "cell_type": "code",
   "execution_count": null,
   "id": "092b119e",
   "metadata": {
    "lines_to_next_cell": 0,
    "name": "effectsize"
   },
   "outputs": [],
   "source": [
    "# Sla de teststatistiek op\n",
    "KW_teststatistiek <- kruskal.test(EC_Jaar1 ~ Vooropleiding, Resultaten_Arbeidsrecht)$statistic\n",
    "\n",
    "# Bereken eta squared\n",
    "Eta_squared <- KW_teststatistiek / (nrow(Resultaten_Arbeidsrecht) - 1)\n",
    "\n",
    "# Print de effectgrootte\n",
    "paste(\"Eta squared is\",Eta_squared)\n"
   ]
  },
  {
   "cell_type": "markdown",
   "id": "19d67b48",
   "metadata": {},
   "source": [
    "<!-- ## /OPENBLOK: Kruskal-Wallis-test-3.R -->"
   ]
  },
  {
   "cell_type": "markdown",
   "id": "54843601",
   "metadata": {
    "lines_to_next_cell": 0
   },
   "source": [
    "<!-- ## CLOSEDBLOK: Kruskal-Wallis-test-4.R -->"
   ]
  },
  {
   "cell_type": "code",
   "execution_count": null,
   "id": "634c01d4",
   "metadata": {
    "echo": true,
    "lines_to_next_cell": 0,
    "name": "Kruskal Wallis test als object",
    "tags": [
     "remove_cell"
    ]
   },
   "outputs": [],
   "source": [
    "Ktest <- kruskal.test(EC_Jaar1 ~ Vooropleiding, Resultaten_Arbeidsrecht)\n",
    "vK_DF <- Round_and_format(Ktest$parameter)\n",
    "vK_Chi2 <- Round_and_format(Ktest$statistic)\n",
    "vK_P <- Round_and_format(Ktest$p.value)"
   ]
  },
  {
   "cell_type": "markdown",
   "id": "1cd6ce7b",
   "metadata": {},
   "source": [
    "<!-- ## /CLOSEDBLOK: Kruskal-Wallis-test-4.R -->\n",
    "<!-- ## TEKSTBLOK: Kruskal-Wallis-test-5.R -->\n",
    "* *df*: het aantal groepen - 1 = `r vK_DF`  \n",
    "* *H* = `r vK_Chi2`, *df* = `r vK_DF`, *p* < 0,0001, *&eta;^2^* = `r Round_and_format(Eta_squared)`  [^13]  \n",
    "* p-waarde < 0,05, dus de H~0~ wordt verworpen[^14]\n",
    "* Eta squared is `r Round_and_format(Eta_squared)` wat duidt op een gemiddeld tot groot effect \n",
    "\n",
    "<!-- ## /TEKSTBLOK: Kruskal-Wallis-test-5.R -->"
   ]
  },
  {
   "cell_type": "markdown",
   "id": "fbf12486",
   "metadata": {
    "lines_to_next_cell": 0
   },
   "source": [
    "## Post-hoc toets: Mann-Whitney U toets\n",
    "<!-- ## TEKSTBLOK: Mann-Whitney-U-test.R -->\n",
    "Gebruik de [Mann-Whitney U toets](08-Mann-Whitney-U-toets-I-R.html) als post-hoc toets om te bepalen welke groepen significant verschillen. Gebruik de functie `pairwise.wilcox.test()` met als eerste argument de afhankelijke variabele `Resultaten_Arbeidsrecht$EC_Jaar1` en als tweede argument de definitie van de groepen `Resultaten_Arbeidsrecht$Vooropleiding`. Pas de *Bonferroni correctie* toe met `p.adjust.method = \"bonferroni\"`. Naast de p-waarde worden bij de [Mann-Whitney U toets](08-Mann-Whitney-U-toets-I-R.html) de gemiddelde rangnummers en de effectmaat *r* gerapporteerd. Voor meer informatie, zie de toetspagina van de [Mann-Whitney U toets](08-Mann-Whitney-U-toets-I-R.html).\n",
    "<!-- ## /TEKSTBLOK: Mann-Whitney-U-test.R -->\n",
    "<!-- ## OPENBLOK: Mann-Whitney-U-test.R -->\n",
    "``` {r pairwise wilcox test}\n",
    "pairwise.wilcox.test(Resultaten_Arbeidsrecht$EC_Jaar1, Resultaten_Arbeidsrecht$Vooropleiding, p.adjust.method = \"bonferroni\")\n",
    "```\n",
    "<!-- ## /OPENBLOK: Mann-Whitney-U-test.R -->\n",
    "\n",
    "<!-- ## CLOSEDBLOK: Mann-Whitney-U-test1.R -->\n",
    "``` {r pairwise wilcox test closed}\n",
    "posthoc <-pairwise.wilcox.test(Resultaten_Arbeidsrecht$EC_Jaar1, Resultaten_Arbeidsrecht$Vooropleiding, p.adjust.method = \"bonferroni\")$p.value\n",
    "```\n",
    "<!-- ## /CLOSEDBLOK: Mann-Whitney-U-test1.R -->\n",
    "\n",
    "<!-- ## TEKSTBLOK: link4.R -->\n",
    "De [Mann-Whitney U toets](08-Mann-Whitney-U-toets-I-R.html) gebruikt het gemiddelde rangnummer van twee ongepaarde groepen om de significantie van de toets te bepalen. Met behulp van het gemiddelde rangnummer kan bepaald worden welke groep hogere rangnummers heeft wat een benadering is voor het verschil tussen twee verdelingen.[^15] In deze casus heeft de vooropleiding met een hoger rangnummer dus over het algemeen studenten met een hoger aantal studiepunten. Bereken en rapporteer daarom het gemiddelde rangnummer.\n",
    "<!-- ## /TEKSTBLOK: link4.R -->\n",
    "\n",
    "<!-- ## OPENBLOK: Mann-Whitney-U-test2.R -->"
   ]
  },
  {
   "cell_type": "code",
   "execution_count": null,
   "id": "2fe31cb5",
   "metadata": {
    "lines_to_next_cell": 0,
    "name": "mean rank"
   },
   "outputs": [],
   "source": [
    "# Maak een functie om het gemiddelde rangnummer te berekenen voor een vergelijking van twee groepen\n",
    "Gemiddeld_rangnummer <- function(Vooropleiding_1, Vooropleiding_2){\n",
    "  \n",
    "  # Bind alle observaties in een variabele\n",
    "  Aantal_studiepunten <- c(Vooropleiding_1, Vooropleiding_2)\n",
    "  \n",
    "  # Maak een variabele die aangeeft in welke groep de observatie zit\n",
    "  Groepsindicator <- c(rep(1, length(Vooropleiding_1)), rep(2, length(Vooropleiding_2)))\n",
    "  \n",
    "  # Bereken de rangnummers van alle observaties\n",
    "  Rangschikkingen <- rank(Aantal_studiepunten)\n",
    "  \n",
    "  # Bereken het gemiddelde rangnummer voor beide vooropleidingen\n",
    "  Gemiddeld_rangnummer_Vooropleiding_1 <- mean(Rangschikkingen[Groepsindicator == 1])\n",
    "  Gemiddeld_rangnummer_Vooropleiding_2 <- mean(Rangschikkingen[Groepsindicator == 2])\n",
    "  \n",
    "  # Retourneer beide gemiddelde rangnummers\n",
    "  return(list(Groep_1 = Gemiddeld_rangnummer_Vooropleiding_1, Groep_2 = Gemiddeld_rangnummer_Vooropleiding_2))\n",
    "}\n",
    "\n",
    "\n",
    "# Definieer variabelen die observaties bevatten voor de verschillende vooropleidingen\n",
    "Studiepunten_Fiscaal_Recht <- Resultaten_Arbeidsrecht$EC_Jaar1[Resultaten_Arbeidsrecht$Vooropleiding == \"Fiscaal Recht\"]\n",
    "\n",
    "Studiepunten_Notarieel_Recht <- Resultaten_Arbeidsrecht$EC_Jaar1[Resultaten_Arbeidsrecht$Vooropleiding == \"Notarieel Recht\"]\n",
    "\n",
    "Studiepunten_Premaster <- Resultaten_Arbeidsrecht$EC_Jaar1[Resultaten_Arbeidsrecht$Vooropleiding == \"Premaster\"]\n",
    "\n",
    "Studiepunten_Rechtsgeleerdheid <- Resultaten_Arbeidsrecht$EC_Jaar1[Resultaten_Arbeidsrecht$Vooropleiding == \"Rechtsgeleerdheid\"]\n",
    "\n",
    "\n",
    "# Bereken de gemiddelde rangnummers voor elke vergelijking\n",
    "Gem_FR_NR <- Gemiddeld_rangnummer(Studiepunten_Fiscaal_Recht, \n",
    "                                  Studiepunten_Notarieel_Recht)\n",
    "\n",
    "Gem_FR_PM <- Gemiddeld_rangnummer(Studiepunten_Fiscaal_Recht, \n",
    "                                  Studiepunten_Premaster)\n",
    "\n",
    "Gem_FR_RG <- Gemiddeld_rangnummer(Studiepunten_Fiscaal_Recht, \n",
    "                                  Studiepunten_Rechtsgeleerdheid)\n",
    "\n",
    "Gem_NR_PM <- Gemiddeld_rangnummer(Studiepunten_Notarieel_Recht, \n",
    "                                  Studiepunten_Premaster)\n",
    "\n",
    "Gem_NR_RG <- Gemiddeld_rangnummer(Studiepunten_Notarieel_Recht,\n",
    "                                  Studiepunten_Rechtsgeleerdheid)\n",
    "\n",
    "Gem_PM_RG <- Gemiddeld_rangnummer(Studiepunten_Premaster, \n",
    "                                  Studiepunten_Rechtsgeleerdheid)\n"
   ]
  },
  {
   "cell_type": "markdown",
   "id": "8a3fa917",
   "metadata": {},
   "source": [
    "<!-- ## /OPENBLOK: Mann-Whitney-U-test2.R -->\n",
    "\n",
    "<!-- ## TEKSTBLOK: Mann-Whitney-U-test3.R -->\n",
    "| Vergelijking | p-waarde     | Gemiddeld rangnummer (links)  | Gemiddeld rangnummer (rechts)     |\n",
    "| -------------  | ----------  | ---------- | -------- |\n",
    "| FR vs. NR    | 1,00 `r #Round_and_format(posthoc[1,1])` |  `r Round_and_format(Gem_FR_NR[[1]])` | `r Round_and_format(Gem_FR_NR[[2]])` |\n",
    "| FR vs. PM    | 0,10 `r #Round_and_format(posthoc[2,1])` |  `r Round_and_format(Gem_FR_PM[[1]])` | `r Round_and_format(Gem_FR_PM[[2]])` |\n",
    "| FR vs. RG    | < 0,0001 `r #Round_and_format(posthoc[3,1])` |  `r Round_and_format(Gem_FR_RG[[1]])` | `r Round_and_format(Gem_FR_RG[[2]])` |\n",
    "| NR vs. PM    | 0,02 `r #Round_and_format(posthoc[2,2])` |  `r Round_and_format(Gem_NR_PM[[1]])` | `r Round_and_format(Gem_NR_PM[[2]])` |\n",
    "| NR vs. RG    | < 0,0001 `r #Round_and_format(posthoc[3,2])` |  `r Round_and_format(Gem_NR_RG[[1]])` | `r Round_and_format(Gem_NR_RG[[2]])` |\n",
    "| PM vs. RG    | 0,03`r #Round_and_format(posthoc[3,3])` |  `r Round_and_format(Gem_PM_RG[[1]])` | `r Round_and_format(Gem_PM_RG[[2]])` |\n",
    "*Tabel 1. Resultaten post-hoc toetsen voor vergelijking Fiscaal Recht (FR), Notarieel Recht (NR), Premaster (PM) en Rechtsgeleerdheid (RG).*\n",
    "\n",
    "Als voorbeeld wordt de bovenste rij van Tabel 1 in woorden uitgelegd. Er is geen significant verschil gevonden tussen Fiscaal Recht (Gemiddeld rangnummer = `r Round_and_format(Gem_FR_NR[[1]])`,  *n*=`r vN_FIS`) en Notarieel Recht (Gemiddeld rangnummer = `r Round_and_format(Gem_FR_NR[[2]])`,  *n*=`r vN_NOT`), *p*=1,00.\n",
    "<!-- ## /TEKSTBLOK: Mann-Whitney-U-test3.R -->"
   ]
  },
  {
   "cell_type": "markdown",
   "id": "1d065fba",
   "metadata": {
    "lines_to_next_cell": 0
   },
   "source": [
    "# Rapportage\n",
    "<!-- ## TEKSTBLOK: Rapportage.R -->\n",
    "De *Kruskal Wallis toets* is uitgevoerd om te toetsen of er verschillen zijn tussen de studenten van de Master Arbeidsrecht met als vooropleiding Bachelor Fiscaal Recht, Notarieel Recht of Rechtsgeleerdheid of de Premaster wat betreft de verdeling van het aantal studiepunten dat de studenten in het eerste jaar behalen. Uit de resultaten kan afgelezen worden dat er een significant verschil is tussen de verdelingen van het aantal studiepunten voor de verschillende vooropleidingen, *H* = `r vK_Chi2`, *df* = `r vK_DF` ,*p* < 0,0001, *&eta;^2^* = `r Round_and_format(Eta_squared)`. De resultaten ondersteunen de conclusie dat er een verschil is tussen studenten van de vier verschillende vooropleidingen wat betreft de verdeling van de hoeveelheid studiepunten die studenten behalen tijdens het eerste jaar van de master Arbeidsrecht.  \n",
    "\n",
    "De [Mann-Whitney U toets](08-Mann-Whitney-U-toets-I-R.html) is uitgevoerd als post-hoc toets om te onderzoeken welke vooropleidingen van elkaar verschillen qua aantal studiepunten dat studenten behalen.  De *Bonferroni correctie* is gebruikt om de Type I fout te voorkomen die gepaard gaat met het veelvuldig toetsen. De studenten met Rechtsgeleerdheid als vooropleiding behalen significant minder punten bij de Master Arbeidsrecht, dan de studenten met een andere vooropleiding. Er is ook een significant verschil gevonden tussen de behaalde studiepunten van studenten met de vooropleiding Notarieel Recht en de Premaster, waarbij de studenten van de Premaster minder punten behaalden dan de studenten van Notarieel Recht. Er zijn geen significante verschillen gevonden tussen de vooropleidingen Fiscaal Recht en Notarieel Recht, en Fiscaal Recht en Premaster. De gemiddelde rangnummers en p-waarden van de post-hoc toetsen zijn te vinden in Tabel 1. \n",
    "\n",
    "<!-- ## /TEKSTBLOK: Rapportage.R -->\n",
    "\n",
    "<!-- ## CLOSEDBLOK: Footer.R -->"
   ]
  },
  {
   "cell_type": "code",
   "execution_count": null,
   "id": "d31a8783",
   "metadata": {
    "code": "#R_CODE#readLines(paste0(here::here(),\"/01. Includes/code/Footer.R\"))",
    "include": true,
    "lines_to_next_cell": 0,
    "name": "footer",
    "results": "asis",
    "tags": [
     "remove_input"
    ]
   },
   "outputs": [],
   "source": []
  },
  {
   "cell_type": "markdown",
   "id": "5f8a8a2a",
   "metadata": {},
   "source": [
    "<!-- ## /CLOSEDBLOK: Footer.R -->\n",
    "\n",
    "[^1]: De toets rangschikt de datapunten van laag naar hoog en geeft elke datapunt een rangnummer. Vervolgens wordt per groep het gemiddelde berekend van de rangnummers. Deze gemiddelden wordt met elkaar vergeleken. Voor meer informatie lees: Field, A., Miles, J., & Field, Z. (2012). *Discovering statistics using R*. London: Sage publications.\n",
    "[^2]: Van Geloven, N. (21 maart 2018). *Kruskal Wallis*. [Wiki Statistiek Academisch Medisch Centrum](https://wikistatistiek.amc.nl/index.php/Kruskal_Wallis). \n",
    "[^3]: Universiteit van Amsterdam (7 juli 2014). *Kruskal-Wallis Test*. [UvA Wiki Methodologiewinkel](https://wiki.uva.nl/methodologiewinkel/index.php/Kruskal-Wallis_Test). \n",
    "[^4]: Onderscheidend vermogen, in het Engels power genoemd, is de kans dat de nulhypothese verworpen wordt wanneer de alternatieve hypothese 'waar' is.\n",
    "[^5]: Field, A., Miles, J., & Field, Z. (2012). *Discovering statistics using R*. London: Sage publications.\n",
    "[^6]: Van Geloven, N. (21 November 2017). *KEUZE TOETS*. [Wiki Statistiek Academisch Medisch Centrum](https://wikistatistiek.amc.nl/index.php/KEUZE_TOETS).\n",
    "[^9]: Universiteit van Amsterdam (7 juli 2014). *Kruskal-Wallis Test*. [UvA Wiki Methodologiewinkel](https://wiki.uva.nl/methodologiewinkel/index.php/Kruskal-Wallis_Test).\n",
    "[^10]: De effectmaat *&eta;^2^* wordt voor de *Kruskal-Wallis toets* berekend door de *&chi;^2^*-waarde te delen door het totaal aantal observaties minus één, i.e. $\\frac{\\chi^2}{N-1} $.\n",
    "[^11]: Allen, P. & Bennett, K. (2012). *SPSS A practical Guide version 20.0*. Cengage Learning Australia Pty Limited.\n",
    "[^13]: De test-statistiek *H* volgt bij benadering de chi-kwadraat verdeling. Onder deze hypothese is *H* chi-kwadraat, vandaar dat dit in de output uitgedrukt wordt in chi-kwadraat.\n",
    "[^14]: In dit voorbeeld wordt uitgegaan van een waarschijnlijkheid van 95% c.q. een p-waardegrens van 0,05. De grens is naar eigen inzicht aan te passen; houd hierbij rekening met Type I en Type II fouten. \n",
    "[^15]: Field, A. (2013). *Discovering statistics using IBM SPSS statistics*. Sage.\n",
    "[^16]: Een ordinale variabele is een categorische variabele waarbij de categorieën geordend kunnen worden. Een voorbeeld is de variabele beoordeling met de categorieën Onvoldoende, Voldoende, Goed en Uitstekend.\n",
    "[^17]:  Laerd statistics (2018). *Kruskal-Wallis H Test using SPSS Statistics*. https://statistics.laerd.com/spss-tutorials/kruskal-wallis-h-test-using-spss-statistics.php.\n",
    "[^18]: De breedte van de staven van het histogram wordt vaak automatisch bepaald, maar kan handmatig aangepast worden. Aangezien de breedte van de staven bepalend zijn voor de indruk die de visualisatie geeft, is het verstandig om hier goed op te letten.\n",
    "[^19]: Bij de *Kruskal Wallis toets* en andere nonparametrische toetsen wordt de data eerst gerangschikt zodat elke observatie een rangnummer toegewezen krijgt. Deze rangnummers worden vervolgens gebruikt om de toets uit te voeren.\n"
   ]
  }
 ],
 "metadata": {
  "jupytext": {
   "cell_metadata_filter": "message,tags,name,warning,echo,code,results,collapse,include,-all",
   "main_language": "R",
   "notebook_metadata_filter": "-all"
  }
 },
 "nbformat": 4,
 "nbformat_minor": 5
}
