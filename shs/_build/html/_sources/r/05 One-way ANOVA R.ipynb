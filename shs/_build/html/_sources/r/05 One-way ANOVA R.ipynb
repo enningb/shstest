{
 "cells": [
  {
   "cell_type": "raw",
   "id": "7a7d4b06",
   "metadata": {},
   "source": [
    "---\n",
    "title: \"One-way ANOVA\"\n",
    "output:\n",
    "  html_document:\n",
    "    theme: lumen\n",
    "    toc: yes\n",
    "    toc_depth: 2\n",
    "    toc_float: \n",
    "      collapsed: FALSE \n",
    "    number_sections: true\n",
    "    includes:\n",
    "      in_header: [\"../01. Includes/html/nocache.html\", \"../01. Includes/html/favicon.html\", \"../01. Includes/html/analytics.html\"]\n",
    "  keywords: [statistisch handboek, studiedata]\n",
    "---"
   ]
  },
  {
   "cell_type": "markdown",
   "id": "65f74556",
   "metadata": {
    "lines_to_next_cell": 0
   },
   "source": [
    "<!-- ## CLOSEDBLOK: Functies.R -->"
   ]
  },
  {
   "cell_type": "code",
   "execution_count": null,
   "id": "f009dcff",
   "metadata": {
    "include": true,
    "lines_to_next_cell": 0,
    "message": false,
    "name": "functies",
    "results": "asis",
    "tags": [
     "remove_input"
    ],
    "warning": false
   },
   "outputs": [],
   "source": [
    "library(here)\n",
    "if (!exists(\"Substitute_var\")) {\n",
    "  ## Installeer packages en functies\n",
    "  source(paste0(here::here(), \"/99. Functies en Libraries/00. Voorbereidingen.R\"), echo = FALSE)\n",
    "}"
   ]
  },
  {
   "cell_type": "markdown",
   "id": "7dc11d94",
   "metadata": {
    "lines_to_next_cell": 0
   },
   "source": [
    "<!-- ## /CLOSEDBLOK: Functies.R -->\n",
    "\n",
    "<!-- ## CLOSEDBLOK: CSS -->\n",
    "<style>\n",
    "`r htmltools::includeHTML(paste0(here::here(),\"/01. Includes/css/Stylesheet_SHHO.css\"))`\n",
    "</style>\n",
    "<!-- ## /CLOSEDBLOK: CSS -->\n",
    "\n",
    "<!-- ## CLOSEDBLOK: Header.R -->"
   ]
  },
  {
   "cell_type": "code",
   "execution_count": null,
   "id": "3bef54dc",
   "metadata": {
    "code": "#R_CODE#readLines(paste0(here::here(),\"/01. Includes/code/Header.R\"))",
    "include": true,
    "lines_to_next_cell": 0,
    "name": "header",
    "results": "asis",
    "tags": [
     "remove_input"
    ]
   },
   "outputs": [],
   "source": []
  },
  {
   "cell_type": "markdown",
   "id": "d45cb8c9",
   "metadata": {
    "lines_to_next_cell": 0
   },
   "source": [
    "<!-- ## /CLOSEDBLOK: Header.R -->\n",
    "\n",
    "<!-- ## CLOSEDBLOK: Status.R -->"
   ]
  },
  {
   "cell_type": "code",
   "execution_count": null,
   "id": "7d98627a",
   "metadata": {
    "code": "#R_CODE#readLines(paste0(here::here(),\"/01. Includes/code/Status.R\"))",
    "include": true,
    "lines_to_next_cell": 0,
    "name": "status",
    "results": "asis",
    "tags": [
     "remove_input"
    ]
   },
   "outputs": [],
   "source": []
  },
  {
   "cell_type": "markdown",
   "id": "e5fa1c87",
   "metadata": {},
   "source": [
    "<!-- ## /CLOSEDBLOK: Status.R -->\n",
    "\n",
    "<!-- ## CLOSEDBLOK: Reticulate.R -->\n",
    "\n",
    "<!-- ## /CLOSEDBLOK: Reticulate.R -->"
   ]
  },
  {
   "cell_type": "code",
   "execution_count": null,
   "id": "8d1e12e3",
   "metadata": {
    "cache": false,
    "name": "set-options",
    "tags": [
     "remove_input"
    ]
   },
   "outputs": [],
   "source": [
    "options(width = 80)\n",
    "## Zodat de TukeyHSD naast elkaar geprint wordt"
   ]
  },
  {
   "cell_type": "markdown",
   "id": "c8ef0e7a",
   "metadata": {
    "lines_to_next_cell": 0
   },
   "source": [
    "<!-- ## OPENBLOK: Data-aanmaken.R -->"
   ]
  },
  {
   "cell_type": "code",
   "execution_count": null,
   "id": "3fb1514e",
   "metadata": {
    "echo": true,
    "name": "aanmaken data",
    "tags": [
     "remove_cell"
    ]
   },
   "outputs": [],
   "source": [
    "source(paste0(here::here(),\"/01. Includes/data/05.R\"))"
   ]
  },
  {
   "cell_type": "markdown",
   "id": "c10e8749",
   "metadata": {},
   "source": [
    "<!-- ## /OPENBLOK: Data-aanmaken.R -->\n",
    "\n",
    "# Toepassing\n",
    "Gebruik de *one-way ANOVA* bij het toetsen of de gemiddelden van twee of meer onafhankelijke groepen verschillen.[^1] \n",
    "\n",
    "# Onderwijscasus\n",
    "<div id = \"casus\">\n",
    "Om wervingsactiviteiten beter af te stemmen op de aankomende studenten, wil het hoofd van de afdeling Communicatie weten wat de reistijd (in minuten) is van studenten van verschillende opleidingen. Hij heeft daarom data verzameld over de reistijd van uitwonende studenten voor de opleidingen: Arabische Taal en Cultuur, Filosofie en Geschiedenis. \n",
    "\n",
    "Dit onderzoek vertaalt zich in de volgende combinatie van hypothesen, waarbij de nulhypothese zo geformuleerd is dat er geen effect of verschil is en de alternatieve hypothese zo geformuleerd is dat er wel een effect of verschil is.\n",
    "\n",
    "*H~0~*: De reistijden van de studenten van de drie opleidingen komen uit dezelfde verdeling en hebben dus een gezamenlijk gemiddelde\n",
    "\n",
    "*H~A~*: De reistijden van de studenten van de drie opleidingen komen niet uit dezelfde verdeling en hebben dus een verschillend gemiddelde"
   ]
  },
  {
   "cell_type": "markdown",
   "id": "559fe269",
   "metadata": {
    "lines_to_next_cell": 0
   },
   "source": [
    "# Uitleg assumpties\n",
    "Om een valide toetsresultaat te bereiken moet de data aan een aantal voorwaarden voldoen. Controleer of de steekproef aan de volgende assumpties voldoet: normaliteit, homogeniteit van varianties en onafhankelijkheid.\n",
    "\n",
    "De *one-way ANOVA* is een robuuste toets: als er niet voldaan is aan de assumptie van normaliteit of homogeniteit van varianties, dan kan de *one-way ANOVA* in bepaalde gevallen nog steeds uitgevoerd en geïnterpreteerd worden.[^2] Hierdoor kan het wel zijn dat de toets minder onderscheidend vermogen heeft, dan wanneer de assumpties niet geschonden worden.[^3]<sup>, </sup>[^4] Als er grote afwijkingen zijn van normaliteit of homogeniteit van varianties, is de [Kruskal-Wallis toets](10-Kruskal-Wallis-toets-R.html) een alternatief voor de *one-way ANOVA*.[^5]<sup>, </sup>[^6]\n",
    "\n",
    "## Normaliteit\n",
    "De assumptie van normaliteit houdt bij de *one-way ANOVA* in dat de afhankelijke variabele normaal verdeeld is voor elke groep. Controleer de assumptie van normaliteit voor elke groep met de volgende stappen:  \n",
    "1. Controleer de data visueel met een histogram, een boxplot of een Q-Q plot.   \n",
    "2. Toets of de data normaal verdeeld zijn met de *Kolmogorov-Smirnov test* of bij een kleinere steekproef (n < 50) met de *Shapiro-Wilk test*.[^7]<sup>, </sup>[^8]  \n",
    "\n",
    "De eerste stap heeft als doel een goede indruk te krijgen van de verdeling van de steekproef. In de tweede stap wordt de assumptie van normaliteit getoetst. De statistische toets laat zien of de verdeling van de observaties van een groep voldoet aan de assumptie van normaliteit. Voor alle groepen moet er voldaan zijn aan de assumptie van normaliteit.\n",
    "\n",
    "Als er niet voldaan is aan normaliteit, is het transformeren van de data een optie.[^2] Een andere optie is het gebruik van de nonparametrische [Kruskal-Wallis toets](10-Kruskal-Wallis-toets-R.html) waar normaliteit geen assumptie is.[^3] De *one-way ANOVA* is echter ook een robuuste toets ten opzichte van de assumptie van normaliteit. Als elke groep een aantal observaties (*n*) heeft dat groter dan 100 is,  ga er dan vanuit dat de *one-way ANOVA* robuust genoeg is om uit te voeren zonder dat de afhankelijke variabele een normale verdeling volgt.\n",
    "\n",
    "## Homogeniteit van varianties\n",
    "Toets met de *Levene's Test (for equality of variance)* of de variantie van iedere groep ongeveer hetzelfde is. Bij een p-waarde kleiner dan 0,05 is de variantie van de groepen significant verschillend.[^10] De *one-way ANOVA* is in bepaalde gevallen robuust als er geen homogeniteit van varianties is. Als de ratio van de grootste en kleinste steekproefgrootte van alle groepen kleiner dan 10 is en de ratio van de grootste en kleinste variantie van alle groepen kleiner dan 4 is, dan kan de *one-way ANOVA* gewoon uitgevoerd worden.[^19] Voer de [Kruskal-Wallis toets](10-Kruskal-Wallis-toets-R.html) toets uit als er niet aan deze voorwaarden voor robuustheid is voldaan.\n",
    "\n",
    "# Effectmaat\n",
    "De p-waarde geeft aan of het verschil tussen groepen significant is. De grootte van het verschil of effect is echter ook relevant. Een effectmaat is een gestandaardiseerde maat die de grootte van een effect weergeeft, zodat effecten van verschillende onderzoeken met elkaar vergeleken kunnen worden.[^11] Voor de *one-way ANOVA* wordt de effectmaat eta squared vaak gebruikt.\n",
    "\n",
    "De effectmaat eta squared (*η^2^*) berekent de proportie van de variantie in de afhankelijke variabele die verklaard wordt door de onafhankelijke variabele. In deze casus berekent het de proportie van de variantie in de lengte van de reistijd die verklaard kan worden door de opleiding. Een indicatie om *η^2^* te interpreteren is: rond 0,01 is een klein effect, rond 0,06 is een gemiddeld effect en rond 0,14 is een groot effect.[^12]<sup>,</sup>[^13]\n",
    "\n",
    "# Post-hoc toetsen\n",
    "De *one-way ANOVA* toetst of de groepen afkomstig zijn van eenzelfde verdeling met een gezamenlijk gemiddelde of van verschillende verdeling met een eigen gemiddelde. Voer een post-hoc toets uit om te bepalen welke groepen significant verschillen. De post-hoc toetsen voeren meestal een correctie voor de p-waarden uit, omdat er meerdere toetsen tegelijkertijd worden gebruikt. Meerdere toetsen tegelijkertijd uitvoeren verhoogt de kans dat een van de nulhypotheses onterecht wordt verworpen en er bij toeval een verband wordt ontdekt dat er niet is (type I fout).\n",
    "\n",
    "Er zijn meerdere post-hoc toetsen. De keuze voor een toets hangt onder andere af van het wel of niet schenden van de assumptie van homogeniteit van varianties:   \n",
    "* Gebruik de Tukey Honestly Significant Difference post-hoc toets bij gelijke variantie.[^14]  \n",
    "* Gebruik de Games-Howell post-hoc toets bij ongelijke variantie.[^15]  \n",
    "\n",
    "# Toetsing assumpties\n",
    "<!-- ## TEKSTBLOK: Dataset-inladen.R-->\n",
    "Er is een dataset ingeladen met de reistijden van uitwonende studenten per opleiding genaamd `Reistijd_per_opleiding`. \n",
    "<!-- ## /TEKSTBLOK: Dataset-inladen.R-->\n",
    "\n",
    "## De data bekijken\n",
    "<!-- ## TEKSTBLOK: Data-bekijken.R -->\n",
    "Gebruik `head()` en `tail()` om de structuur van de data te bekijken.\n",
    "<!-- ## /TEKSTBLOK: Data-bekijken.R -->\n",
    "\n",
    "<!-- ## OPENBLOK: Data-bekijken.R -->"
   ]
  },
  {
   "cell_type": "code",
   "execution_count": null,
   "id": "d3774659",
   "metadata": {
    "lines_to_next_cell": 0,
    "name": "data bekijken"
   },
   "outputs": [],
   "source": [
    "## Eerste 5 observaties\n",
    "head(Reistijd_per_opleiding)\n",
    "\n",
    "## Laatste 5 observaties\n",
    "tail(Reistijd_per_opleiding)"
   ]
  },
  {
   "cell_type": "markdown",
   "id": "f85a6272",
   "metadata": {
    "lines_to_next_cell": 0
   },
   "source": [
    "<!-- ## /OPENBLOK: Data-bekijken.R -->\n",
    "<!-- ## TEKSTBLOK: Data-bekijken2.R-->\n",
    "De dataset bevat gegevens van studenten van verschillende opleidingen. Gebruik `unique()` om te onderzoeken welke opleidingen er in de data aanwezig zijn. \n",
    "<!-- ## /TEKSTBLOK: Data-bekijken2.R-->\n",
    "<!-- ## OPENBLOK: Data-bekijken2.R -->"
   ]
  },
  {
   "cell_type": "code",
   "execution_count": null,
   "id": "7294b3ba",
   "metadata": {
    "lines_to_next_cell": 0,
    "name": "data bekijken 2"
   },
   "outputs": [],
   "source": [
    "## Unieke opleidingen\n",
    "unique(Reistijd_per_opleiding$Opleiding)"
   ]
  },
  {
   "cell_type": "markdown",
   "id": "9f2e2e97",
   "metadata": {
    "lines_to_next_cell": 0
   },
   "source": [
    "<!-- ## /OPENBLOK: Data-bekijken2.R -->\n",
    "\n",
    "Selecteer de drie groepen en sla deze op in een vector om deze makkelijker aan te kunnen roepen. \n",
    "<!-- ## OPENBLOK: Data-selecteren.R -->"
   ]
  },
  {
   "cell_type": "code",
   "execution_count": null,
   "id": "e235c365",
   "metadata": {
    "lines_to_next_cell": 0,
    "name": "data selecteren"
   },
   "outputs": [],
   "source": [
    "Reistijd_ATC <- Reistijd_per_opleiding$Reistijd[Reistijd_per_opleiding$Opleiding == \"Arabische Taal en Cultuur\"]\n",
    "Reistijd_FIL <- Reistijd_per_opleiding$Reistijd[Reistijd_per_opleiding$Opleiding == \"Filosofie\"]\n",
    "Reistijd_GSC <- Reistijd_per_opleiding$Reistijd[Reistijd_per_opleiding$Opleiding == \"Geschiedenis\"]"
   ]
  },
  {
   "cell_type": "markdown",
   "id": "8ce52d34",
   "metadata": {
    "lines_to_next_cell": 0
   },
   "source": [
    "<!-- ## /OPENBLOK: Data-selecteren.R -->\n",
    "\n",
    "<!-- ## TEKSTBLOK: Data-beschrijven.R -->\n",
    "Bekijk de beschrijvende statistieken per groep om meer inzicht te krijgen in de data. Gebruik hiervoor de functie `descr` en `stby` van het package `summarytools` om de beschrijvende statistieken per groep weer te geven. Voer de gewenste statistieken in met het argument `stats = c(\"mean\", \"sd\", \"n.valid\")`.\n",
    "<!-- ## /TEKSTBLOK: Data-beschrijven.R -->\n",
    "\n",
    "<!-- ## OPENBLOK: Data-beschrijven-inladen.R -->\n",
    "\n",
    "<!-- ## /OPENBLOK: Data-beschrijven-inladen.R -->\n",
    "\n",
    "<!-- ## OPENBLOK: Data-beschrijven-1.R -->"
   ]
  },
  {
   "cell_type": "code",
   "execution_count": null,
   "id": "b904bd55",
   "metadata": {
    "lines_to_next_cell": 0,
    "name": "Data beschrijven 1",
    "warning": false
   },
   "outputs": [],
   "source": [
    "library(summarytools)\n",
    "\n",
    "with(Reistijd_per_opleiding, \n",
    "     stby(data = Reistijd, \n",
    "          list(Opleiding), \n",
    "          descr, \n",
    "          stats = c(\"mean\", \"sd\", \"n.valid\")))"
   ]
  },
  {
   "cell_type": "markdown",
   "id": "011c945c",
   "metadata": {
    "lines_to_next_cell": 0
   },
   "source": [
    "<!-- ## /OPENBLOK: Data-beschrijven-1.R -->\n",
    "\n",
    "<!-- ## CLOSEDBLOK: Data-beschrijven-11.R -->"
   ]
  },
  {
   "cell_type": "code",
   "execution_count": null,
   "id": "14e81292",
   "metadata": {
    "lines_to_next_cell": 0,
    "name": "Data beschrijven 11",
    "tags": [
     "remove_input"
    ]
   },
   "outputs": [],
   "source": []
  },
  {
   "cell_type": "markdown",
   "id": "f1477234",
   "metadata": {
    "lines_to_next_cell": 0
   },
   "source": [
    "<!-- ## /CLOSEDBLOK: Data-beschrijven-11.R -->\n",
    "\n",
    "<!-- ## CLOSEDBLOK: Data-beschrijven.R -->"
   ]
  },
  {
   "cell_type": "code",
   "execution_count": null,
   "id": "68497e17",
   "metadata": {
    "echo": true,
    "lines_to_next_cell": 0,
    "name": "data beschrijven als object",
    "tags": [
     "remove_cell"
    ]
   },
   "outputs": [],
   "source": [
    "vM_ATC  <- Round_and_format(mean(Reistijd_ATC))\n",
    "vSD_ATC <- Round_and_format(sd(Reistijd_ATC))\n",
    "vN_ATC  <- Round_and_format(length(Reistijd_ATC))\n",
    "\n",
    "vM_FIL  <- Round_and_format(mean(Reistijd_FIL))\n",
    "vSD_FIL <- Round_and_format(sd(Reistijd_FIL))\n",
    "vN_FIL  <- Round_and_format(length(Reistijd_FIL))\n",
    "\n",
    "vM_GSC  <- Round_and_format(mean(Reistijd_GSC))\n",
    "vSD_GSC <- Round_and_format(sd(Reistijd_GSC))\n",
    "vN_GSC  <- Round_and_format(length(Reistijd_GSC))"
   ]
  },
  {
   "cell_type": "markdown",
   "id": "c0b3bfc2",
   "metadata": {
    "lines_to_next_cell": 0
   },
   "source": [
    "<!-- ## /CLOSEDBLOK: Data-beschrijven.R -->\n",
    "\n",
    "<!-- ## TEKSTBLOK: Datatekst-beschrijven.R -->\n",
    "* Gemiddelde reistijd Arabische Taal en Cultuur (standaarddeviatie): `r vM_ATC` (`r vSD_ATC`). *n* = `r vN_ATC`  \n",
    "* Gemiddelde reistijd Filosofie (standaarddeviatie): `r vM_FIL` (`r vSD_FIL`). *n* = `r vN_FIL`.\n",
    "* Gemiddelde reistijd Geschiedenis (standaarddeviatie): `r vM_GSC` (`r vSD_GSC`). *n* = `r vN_GSC`.\n",
    "\n",
    "<!-- ## /TEKSTBLOK: Datatekst-beschrijven.R -->\n",
    "\n",
    "## Visuele inspectie van normaliteit\n",
    "Geef de verdeling van de reistijd voor elke opleiding visueel weer met een histogram, Q-Q plot en boxplot.\n",
    "\n",
    "### Histogram\n",
    "\n",
    "Focus bij het analyseren van een histogram[^20] op de symmetrie van de verdeling, de hoeveelheid toppen (modaliteit) en mogelijke uitbijters. Een normale verdeling is symmetrisch, heeft één top en geen uitbijters.[^16]<sup>, </sup>[^17]\n",
    "\n",
    "<!-- ## OPENBLOK: Histogram.R -->"
   ]
  },
  {
   "cell_type": "code",
   "execution_count": null,
   "id": "a9309c03",
   "metadata": {
    "lines_to_next_cell": 0,
    "name": "histogram"
   },
   "outputs": [],
   "source": [
    "## Histogram met ggplot\n",
    "library(ggplot2)\n",
    "\n",
    "ggplot(Reistijd_per_opleiding,\n",
    "  aes(x = Reistijd)) +\n",
    "  geom_histogram(aes(y = ..density..),\n",
    "                 binwidth = 5,\n",
    "                 color = \"grey30\",\n",
    "                 fill = \"#0089CF\") +\n",
    "  facet_wrap(~ Opleiding) +\n",
    "  geom_density(alpha = .2, adjust = 1) +\n",
    "  ylab(\"Frequentiedichtheid\") +\n",
    "  labs(title = \"Reistijd per opleiding\")"
   ]
  },
  {
   "cell_type": "markdown",
   "id": "183e07a5",
   "metadata": {
    "lines_to_next_cell": 0
   },
   "source": [
    "<!-- ## /OPENBLOK: Histogram.R -->\n",
    "\n",
    "De verdelingen van de opleidingen Filosofie en Geschiedenis lijken twee toppen te hebben. Alle drie de opleidingen hebben een niet geheel symmetrische verdeling, maar vertonen ook geen uitbijters. De verdeling van de opleiding Arabische taal en Cultuur is bij benadering normaal; voor de opleidingen Filosofie en Geschiedenis zijn lichte afwijkingen van de normale verdeling te zien.\n",
    "\n",
    "### Q-Q plot\n",
    "<!-- ## TEKSTBLOK: QQplot.R-->\n",
    "Gebruik `qqnorm()` en `qqline()` met `pch = 1`om een Q-Q plot te maken, met als datapunten kleine cirkels.\n",
    "<!-- ## /TEKSTBLOK: QQplot.R-->\n",
    "\n",
    "Als over het algemeen de meeste datapunten op de lijn liggen, neem dan aan dat de data normaal verdeeld is.\n",
    "<div class = \"col-container\">\n",
    "  <div class=\"col\">\n",
    "<!-- ## OPENBLOK: QQplot1.R -->"
   ]
  },
  {
   "cell_type": "code",
   "execution_count": null,
   "id": "385c884e",
   "metadata": {
    "lines_to_next_cell": 0,
    "name": "qqplot atc"
   },
   "outputs": [],
   "source": [
    "qqnorm(\n",
    " Reistijd_ATC, pch = 1,\n",
    " main = \"Normaal Q-Q plot van reistijd Arabische Taal en Cultuur\",\n",
    " ylab = \"Kwantielen in data\",\n",
    " xlab = \"Theoretische kwantielen\")\n",
    "\n",
    "qqline(Reistijd_ATC)"
   ]
  },
  {
   "cell_type": "markdown",
   "id": "d97c60b4",
   "metadata": {
    "lines_to_next_cell": 0
   },
   "source": [
    "<!-- ## /OPENBLOK: QQplot1.R -->\n",
    "  </div>\n",
    "  <div class = \"col\">\n",
    "<!-- ## OPENBLOK: QQplot2.R -->"
   ]
  },
  {
   "cell_type": "code",
   "execution_count": null,
   "id": "7776b8bd",
   "metadata": {
    "lines_to_next_cell": 0,
    "name": "qqplot fil"
   },
   "outputs": [],
   "source": [
    "qqnorm(\n",
    " Reistijd_FIL, pch = 1,\n",
    " main = \"Normaal Q-Q plot van reistijd Filosofie\",\n",
    " ylab = \"Kwantielen in data\",\n",
    " xlab = \"Theoretische kwantielen\")\n",
    "\n",
    "qqline(Reistijd_FIL)"
   ]
  },
  {
   "cell_type": "markdown",
   "id": "f109bbef",
   "metadata": {
    "lines_to_next_cell": 0
   },
   "source": [
    "<!-- ## /OPENBLOK: QQplot2.R -->\n",
    "  </div>\n",
    "  <div class = \"col\">\n",
    "<!-- ## OPENBLOK: QQplot3.R -->"
   ]
  },
  {
   "cell_type": "code",
   "execution_count": null,
   "id": "f5466646",
   "metadata": {
    "lines_to_next_cell": 0,
    "name": "qqplot gsc"
   },
   "outputs": [],
   "source": [
    "qqnorm(\n",
    " Reistijd_GSC, pch = 1,\n",
    " main = \"Normaal Q-Q plot van reistijd Geschiedenis\",\n",
    " ylab = \"Kwantielen in data\",\n",
    " xlab = \"Theoretische kwantielen\")\n",
    "\n",
    "qqline(Reistijd_GSC)"
   ]
  },
  {
   "cell_type": "markdown",
   "id": "2a730fdb",
   "metadata": {},
   "source": [
    "<!-- ## OPENBLOK: QQplot3.R -->\n",
    "  </div>\n",
    "</div>\n",
    "Bij alle drie de verdelingen liggen de meeste datapunten op of vlakbij de lijn. Hoewel er bij de uiteinden van de verdeling wat afwijkingen zijn, duidt deze grafiek op een goede benadering van de normaalverdeling voor de drie verdelingen."
   ]
  },
  {
   "cell_type": "markdown",
   "id": "1f82426b",
   "metadata": {
    "lines_to_next_cell": 0
   },
   "source": [
    "### Boxplot\n",
    "De box geeft de middelste 50% van de reistijd weer. De zwarte lijn binnen de box is de mediaan. In de staarten of snorreharen zitten de eerste 25% en de laatste 25%. Cirkels visualiseren mogelijke uitbijters.[^16]<sup>, </sup>[^17] Hoe meer de boxen overlappen, hoe waarschijnlijker er geen significant verschil is tussen de groepen. \n",
    "\n",
    "<!-- ## OPENBLOK: Boxplot.R -->"
   ]
  },
  {
   "cell_type": "code",
   "execution_count": null,
   "id": "0776c4d3",
   "metadata": {
    "lines_to_next_cell": 0,
    "name": "boxplot"
   },
   "outputs": [],
   "source": [
    "library(graphics)\n",
    "boxplot(Reistijd ~ Opleiding, Reistijd_per_opleiding)"
   ]
  },
  {
   "cell_type": "markdown",
   "id": "e262a184",
   "metadata": {
    "lines_to_next_cell": 0
   },
   "source": [
    "<!-- ## /OPENBLOK: Boxplot.R -->\n",
    "\n",
    "De boxplotten geven de spreiding weer van de gemiddelde reistijd van uitwonende studenten voor de opleidingen Arabische Taal en Cultuur, Filosofie en Geschiedenis. De boxplotten Arabische Taal en Cultuur en Geschiedenis zien er symmetrisch uit; de boxen zijn even hoog boven als onder de mediaan en de snorreharen zijn onder en boven even groot. De boxplot van Filosofie is boven de mediaan groter dan onder de mediaan, de data kan wat scheef verdeeld zijn. De mediaan Arabische Taal en Cultuur ligt hoger dan de twee andere opleidingen.\n",
    "\n",
    "## Toetsen van normaliteit\n",
    "Om te controleren of de data normaal verdeeld is, kan de normaliteit getoetst worden. Twee veelgebruikte toetsen zijn: de *Kolmogorov-Smirnov test* en de *Shapiro-Wilk test*.\n",
    "\n",
    "### Kolmogorov-Smirnov\n",
    "De *Kolmogorov-Smirnov test* toetst het verschil tussen twee verdelingen. Standaard toetst deze toets het verschil tussen een normale verdeling en de verdeling van de steekproef. De Lilliefors correctie is vereist als het gemiddelde en de standaardafwijking niet van tevoren bekend of bepaald zijn, wat meestal het geval is bij een steekproef. Als de p-waarde kleiner dan 0,05 is, is de verdeling van de data significant verschillend van de normale verdeling.\n",
    "\n",
    "<!-- ## TEKSTBLOK: Lilliefors-test1.R -->\n",
    "\n",
    "<!-- ## /TEKSTBLOK: Lilliefors-test1.R -->\n",
    "\n",
    "<!-- ## OPENBLOK: Library-nortest.R -->"
   ]
  },
  {
   "cell_type": "code",
   "execution_count": null,
   "id": "ce20ec14",
   "metadata": {
    "lines_to_next_cell": 0,
    "name": "library nortest"
   },
   "outputs": [],
   "source": [
    "library(\"nortest\")"
   ]
  },
  {
   "cell_type": "markdown",
   "id": "19c7ee97",
   "metadata": {
    "lines_to_next_cell": 0
   },
   "source": [
    "<!-- ## /OPENBLOK: Library-nortest.R -->\n",
    "\n",
    "<div class=\"col-container\"> \n",
    "  <div class=\"col\">\n",
    "<!-- ## OPENBLOK: Lilliefors-test-1.R -->"
   ]
  },
  {
   "cell_type": "code",
   "execution_count": null,
   "id": "50b2eed1",
   "metadata": {
    "lines_to_next_cell": 0,
    "name": "Lilliefors Test-1",
    "warning": false
   },
   "outputs": [],
   "source": [
    "lillie.test(Reistijd_ATC)"
   ]
  },
  {
   "cell_type": "markdown",
   "id": "6118a48a",
   "metadata": {
    "lines_to_next_cell": 0
   },
   "source": [
    "<!-- ## OPENBLOK: Lilliefors-test-1.R -->\n",
    "  </div>\n",
    "  <div class = \"col\">\n",
    "<!-- ## OPENBLOK: Lilliefors-test-2.R -->"
   ]
  },
  {
   "cell_type": "code",
   "execution_count": null,
   "id": "202eb41d",
   "metadata": {
    "lines_to_next_cell": 0,
    "name": "Lilliefors Test-2",
    "warning": false
   },
   "outputs": [],
   "source": [
    "lillie.test(Reistijd_FIL)"
   ]
  },
  {
   "cell_type": "markdown",
   "id": "5e034334",
   "metadata": {
    "lines_to_next_cell": 0
   },
   "source": [
    "<!-- ## OPENBLOK: Lilliefors-test-2.R -->\n",
    "  </div>\n",
    "  <div class = \"col\">\n",
    "<!-- ## OPENBLOK: Lilliefors-test-3.R -->"
   ]
  },
  {
   "cell_type": "code",
   "execution_count": null,
   "id": "142e7c89",
   "metadata": {
    "lines_to_next_cell": 0,
    "name": "Lilliefors Test-3",
    "warning": false
   },
   "outputs": [],
   "source": [
    "lillie.test(Reistijd_GSC)"
   ]
  },
  {
   "cell_type": "markdown",
   "id": "c5a12e5f",
   "metadata": {
    "lines_to_next_cell": 0
   },
   "source": [
    "<!-- ## /OPENBLOK: Lilliefors-test-3.R -->\n",
    "  </div>\n",
    "</div>\n",
    "\n",
    "De p-waarde is groter dan 0,05 voor elke groep; er is geen significant verschil gevonden tussen de verdeling van de steekproef en de normale verdeling. [^18] De *one-way ANOVA* kan uitgevoerd worden.\n",
    "\n",
    "### Shapiro-Wilk Test\n",
    "De *Shapiro-Wilk test* is een soortgelijke toets als de *Kolmogorov-Smirnov test* en vooral geschikt bij kleine steekproeven (*n* < 50). Als de p-waarde kleiner dan 0,05 is, is de verdeling van de data significant verschillend van de normale verdeling.\n",
    "\n",
    "<div class=\"col-container\"> \n",
    "  <div class=\"col\">\n",
    "<!-- ## OPENBLOK: Shapiro-Wilk-test-3.R -->\n",
    "``` {r Shapiro-Wilk Test-3, warning=FALSE}\n",
    "shapiro.test(Reistijd_GSC)\n",
    "```\n",
    "<!-- ## /OPENBLOK: Shapiro-Wilk-test-3.R -->\n",
    "  </div>\n",
    "  <div class= \"col\">\n",
    "<!-- ## OPENBLOK: Shapiro-Wilk-test-2.R -->\n",
    "``` {r Shapiro-Wilk Test-2, warning=FALSE}\n",
    "shapiro.test(Reistijd_FIL)\n",
    "```\n",
    "<!-- ## OPENBLOK: Shapiro-Wilk-test-2.R -->\n",
    "  </div>\n",
    "  <div class= \"col\"> \n",
    "<!-- ## OPENBLOK: Shapiro-Wilk-test-1.R -->\n",
    "``` {r Shapiro-Wilk Test-1, warning=FALSE}\n",
    "shapiro.test(Reistijd_ATC)\n",
    "```\n",
    "<!-- ## OPENBLOK: Shapiro-Wilk-test-1.R -->\n",
    "  </div>\n",
    "</div>\n",
    "\n",
    "De p-waarde is groter dan 0,05 voor elke groep, dus er is geen significant verschil gevonden tussen de verdeling van de steekproef en de normale verdeling. De *one-way ANOVA* kan uitgevoerd worden.\n",
    "\n",
    "## Toetsen van Homogeniteit van varianties\n",
    "Toets met de *Levene's test* de homogeniteit van varianties. Gebruik hiervoor de functie `leveneTest()` van het package `car` met als eerst argument de afhankelijke variabele `Reistijd_per_opleiding$Reistijd` en als tweede argument de onafhankelijke variabele `Reistijd_per_opleiding$Opleiding`.\n",
    "\n",
    "<!-- ## OPENBLOK: Levenes-test.R -->"
   ]
  },
  {
   "cell_type": "code",
   "execution_count": null,
   "id": "621e00d4",
   "metadata": {
    "lines_to_next_cell": 0,
    "message": false,
    "name": "LeveneTest",
    "warning": false
   },
   "outputs": [],
   "source": [
    "library(car)\n",
    "leveneTest(Reistijd_per_opleiding$Reistijd, Reistijd_per_opleiding$Opleiding)"
   ]
  },
  {
   "cell_type": "markdown",
   "id": "0bc67743",
   "metadata": {
    "lines_to_next_cell": 0
   },
   "source": [
    "<!-- ## /OPENBLOK: Levenes-test.R -->\n",
    "<!-- ## CLOSEDBLOK: Levenes-test.R -->"
   ]
  },
  {
   "cell_type": "code",
   "execution_count": null,
   "id": "c62807f7",
   "metadata": {
    "lines_to_next_cell": 0,
    "name": "Levenes test als object",
    "tags": [
     "remove_input"
    ]
   },
   "outputs": [],
   "source": [
    "L <- leveneTest(Reistijd_per_opleiding$Reistijd, Reistijd_per_opleiding$Opleiding)\n",
    "vF_waarde <- Round_and_format(L$`F value`[1])\n",
    "vF_p <- Round_and_format(L$`Pr(>F)`[1])\n",
    "vDF1 <- Round_and_format(L$`Df`[1])\n",
    "vDF2 <- Round_and_format(L$`Df`[2])"
   ]
  },
  {
   "cell_type": "markdown",
   "id": "88f39058",
   "metadata": {
    "lines_to_next_cell": 0
   },
   "source": [
    "<!-- ## /CLOSEDBLOK: Levenes-test.R -->\n",
    "<!-- ## TEKSTBLOK: Levenes-test.R -->\n",
    "* *F*~`r vDF1`~~,~~`r vDF2`~ = `r vF_waarde`, p-waarde = `r vF_p`, \n",
    "* De p-waarde is groter dan 0,05, dus er is geen significant verschil gevonden tussen de groepen in variantie.\n",
    "* Vrijheidsgraden bestaan uit twee cijfers: het eerste cijfer (het aantal groepen - 1 = `r vDF1`) en het tweede cijfer (*n~1~* + *n~2~*+*n~3~* - 3 = `r vDF2`).  \n",
    "\n",
    "<!-- ## TEKSTBLOK: Levenes-test.R -->\n",
    "\n",
    "# One-way ANOVA \n",
    "Voer de *one-way ANOVA* uit om de vraag te beantwoorden of de gemiddelde reistijd van de studenten per opleiding verschilt.  \n",
    "<!-- ## TEKSTBLOK: ANOVA-toets.R -->\n",
    "Gebruik `aov()` om een ANOVA-object (`aov`) te creëren. Het eerste argument bestaat uit de afhankelijke variabele `Reistijd` en de groepvariabele `Opleiding`; het tweede argument bevat de dataset `Reistijd_per_opleiding`.  Geef het resultaat weer met `summary()`.\n",
    "<!-- ## /TEKSTBLOK: ANOVA-toets.R -->\n",
    "<!-- ## OPENBLOK: ANOVA-toets.R -->"
   ]
  },
  {
   "cell_type": "code",
   "execution_count": null,
   "id": "348d72fc",
   "metadata": {
    "lines_to_next_cell": 0,
    "name": "ANOVA"
   },
   "outputs": [],
   "source": [
    "res.aov <- aov(Reistijd ~ Opleiding, Reistijd_per_opleiding)\n",
    "summary(res.aov)"
   ]
  },
  {
   "cell_type": "markdown",
   "id": "4273233f",
   "metadata": {
    "lines_to_next_cell": 0
   },
   "source": [
    "<!-- ## /OPENBLOK: ANOVA-toets.R -->\n",
    "\n",
    "<!-- ## CLOSEDBLOK: ANOVA-toets.R -->"
   ]
  },
  {
   "cell_type": "code",
   "execution_count": null,
   "id": "1aa6a056",
   "metadata": {
    "lines_to_next_cell": 0,
    "name": "ANOVA als object",
    "tags": [
     "remove_input"
    ]
   },
   "outputs": [],
   "source": [
    "ANOVA <- summary(res.aov)\n",
    "vF_waarde <- Round_and_format(ANOVA[[1]]$`F value`[1])"
   ]
  },
  {
   "cell_type": "markdown",
   "id": "375f487c",
   "metadata": {
    "lines_to_next_cell": 0
   },
   "source": [
    "<!-- ## /CLOSEDBLOK: ANOVA-toets.R -->\n",
    "\n",
    "<!-- ## TEKSTBLOK: Eta-squared-tekst.R -->\n",
    "Gebruik `EtaSq()` van het package `DescTools` met als argument het ANOVA_object `res.aov` om de effectmaat eta squared te berekenen.\n",
    "<!-- ## /TEKSTBLOK: Eta-squared-tekst.R -->\n",
    "\n",
    "<!-- ## OPENBLOK: Eta-squared.R --> "
   ]
  },
  {
   "cell_type": "code",
   "execution_count": null,
   "id": "736f3e66",
   "metadata": {
    "lines_to_next_cell": 0,
    "message": false,
    "name": "eta-squared",
    "warning": false
   },
   "outputs": [],
   "source": [
    "library(DescTools)\n",
    "EtaSq(res.aov)"
   ]
  },
  {
   "cell_type": "markdown",
   "id": "3e43f9a5",
   "metadata": {
    "lines_to_next_cell": 0
   },
   "source": [
    "<!-- ## /OPENBLOK: Eta-squared.R -->\n",
    "<!-- ## CLOSEDBLOK: Eta-squared.R -->"
   ]
  },
  {
   "cell_type": "code",
   "execution_count": null,
   "id": "43e3cdfc",
   "metadata": {
    "lines_to_next_cell": 0,
    "name": "eta-squared als object",
    "tags": [
     "remove_cell"
    ]
   },
   "outputs": [],
   "source": [
    "Esq <- Round_and_format(EtaSq(res.aov)[1])"
   ]
  },
  {
   "cell_type": "markdown",
   "id": "83efde52",
   "metadata": {
    "lines_to_next_cell": 0
   },
   "source": [
    "<!-- ## /CLOSEDBLOK: Eta-squared.R -->\n",
    "\n",
    "<!-- ## TEKSTBLOK: ANOVA-toets1.R -->\n",
    "* *F* ~`r vDF1`~~,~~`r vDF2`~ = `r vF_waarde`, *p* < 0,0001, *η^2^* = `r Esq`.\n",
    "* De p-waarde is kleiner dan 0,05, dus de H~0~ wordt verworpen.[^18] \n",
    "* Vrijheidsgraden: het aantal groepen - 1 = `r vDF1`; *n~1~* + *n~2~* + *n~3~*- 3 = `r vDF2`.\n",
    "* De sterkte van het effect van de type opleiding op de reistijd is groot.\n",
    "\n",
    "<!-- ## /TEKSTBLOK: ANOVA-toets1.R -->\n",
    "\n",
    "# Post-hoc toets: Tukey's toets\n",
    "\n",
    "<!-- ## TEKSTBLOK: Tukey-HSD.R -->\n",
    "Voer een Tukey Honestly Significant Difference post-hoc toets uit om te bepalen welke van de type opleidingen in reistijd verschillen. Deze post-hoc toets wordt gebruikt omdat er voldaan is aan de assumptie van homogeniteit van varianties. Gebruik `TukeyHSD()` op de uitkomsten van de *one-way ANOVA*, het ANOVA-object `res.aov`.\n",
    "<!-- ## /TEKSTBLOK: Tukey-HSD.R -->\n",
    "\n",
    "<!-- ## OPENBLOK: Tukey-HSD.R -->"
   ]
  },
  {
   "cell_type": "code",
   "execution_count": null,
   "id": "4f0c2a79",
   "metadata": {
    "lines_to_next_cell": 0,
    "name": "TukeyHSD"
   },
   "outputs": [],
   "source": [
    "TukeyHSD(res.aov)"
   ]
  },
  {
   "cell_type": "markdown",
   "id": "c990a357",
   "metadata": {
    "lines_to_next_cell": 0
   },
   "source": [
    "<!-- ## /OPENBLOK: Tukey-HSD.R -->\n",
    "<!-- ## CLOSEDBLOK: Tukey-HSD.R -->"
   ]
  },
  {
   "cell_type": "code",
   "execution_count": null,
   "id": "f1cb6e9e",
   "metadata": {
    "lines_to_next_cell": 0,
    "name": "TukeyHSD als object",
    "tags": [
     "remove_cell"
    ]
   },
   "outputs": [],
   "source": [
    "THSD <- TukeyHSD(res.aov)\n",
    "vATCvsFIL <- Round_and_format(THSD$Opleiding[1,1])\n",
    "vATCvsGSC <- Round_and_format(THSD$Opleiding[2,1])\n",
    "vFILvsGSC <- Round_and_format(THSD$Opleiding[3,1])\n",
    "vpFILvsGSC <- Round_and_format(THSD$Opleiding[3,4])"
   ]
  },
  {
   "cell_type": "markdown",
   "id": "f74b27d4",
   "metadata": {},
   "source": [
    "<!-- ## /CLOSEDBLOK: Tukey-HSD.R -->\n",
    "<!-- ## TEKSTBLOK: Tukey-HSD1.R -->\n",
    "\n",
    "* Het verschil tussen Filosofie en Arabische Taal en Cultuur is *MD* = `r vATCvsFIL`, *p* < 0,0001.  \n",
    "* Het verschil tussen Geschiedenis en Arabische Taal en Cultuur is *MD* = `r vATCvsGSC`, *p* < 0,0001.\n",
    "* Het verschil tussen Geschiedenis en Filosofie is *MD* = `r vFILvsGSC`, *p* = `r vpFILvsGSC`.  \n",
    "\n",
    "<!-- ## /TEKSTBLOK: Tukey-HSD1.R -->\n",
    "\n",
    "# Rapportage\n",
    "<!-- ## TEKSTBLOK: Rapportage.R -->\n",
    "Een *one-way ANOVA* is uitgevoerd om te toetsen of de gemiddelde reistijd van de studenten per opleiding gelijk is aan elkaar. De opleidingen zijn Arabische Taal en Cultuur (*M~atc~* = `r vM_ATC`, *SD~atc~* = `r vSD_ATC`), Filosofie (*M~fil~* = `r vM_FIL`, *SD~fil~* = `r vSD_FIL`) en Geschiedenis (*M~gsc~* = `r vM_GSC`, *SD~fil~* = `r vSD_GSC`); beschrijvende statistieken zijn ook te vinden in Tabel 1. De gemiddelde reistijd van de groepen verschilt significant van elkaar, *F*(`r vDF1`, `r vDF2`) = `r vF_waarde`, *p* < 0,0001, *η^2^* = `r Esq`. De sterkte van het effect van de type opleiding op de reistijd is groot.\n",
    "\n",
    "| Opleiding     | N          | M          | SD          |\n",
    "| ------------- | ---------- | ---------- | ----------- |\n",
    "| Arabisch      | `r vN_ATC` | `r vM_ATC` | `r vSD_ATC` |\n",
    "| Filosofie     | `r vN_FIL` | `r vM_FIL` | `r vSD_FIL` |\n",
    "| Geschiedenis  | `r vN_GSC` | `r vM_GSC` | `r vSD_GSC` |\n",
    "<!-- ## /TEKSTBLOK: Rapportage.R -->\n",
    "*Tabel 1. Groepsgrootte, gemiddelde reistijd en standaarddeviatie per opleiding*\n",
    "<!-- ## TEKSTBLOK: Rapportage-tukey.R -->\n",
    "\n",
    "De Tukey Honest Significant Differences post-hoc toets is uitgevoerd om te toetsen welke van de drie gemiddelden significant verschillen. De gemiddelde reistijd van studenten Filosofie is significant lager dan de reistijd van studenten Arabische Taal en Cultuur (*MD* = `r vATCvsFIL`, *p* < 0,0001). De reistijd voor studenten Geschiedenis is ook significant lager dan de reistijd voor studenten Arabische Taal en Cultuur (*MD* = `r vATCvsGSC`, *p* < 0,0001). De reistijd van studenten Geschiedenis en studenten Filosofie is niet significant verschillend (*MD* = `r vFILvsGSC`, *p* = `r vpFILvsGSC`). Aan de hand van de resultaten kan geconcludeerd worden dat de studenten van Arabische Taal en Cultuur langer moeten reizen dan de andere twee opleidingen en dat er geen verschil lijkt te zijn in de reistijd van de studenten Filosofie en Geschiedenis.\n",
    "<!-- ## /TEKSTBLOK: Rapportage-tukey.R -->"
   ]
  },
  {
   "cell_type": "markdown",
   "id": "ac4f5e3a",
   "metadata": {
    "lines_to_next_cell": 0
   },
   "source": [
    "<!-- ## CLOSEDBLOK: Footer.R -->"
   ]
  },
  {
   "cell_type": "code",
   "execution_count": null,
   "id": "246e5b5c",
   "metadata": {
    "code": "#R_CODE#readLines(paste0(here::here(),\"/01. Includes/code/Footer.R\"))",
    "include": true,
    "lines_to_next_cell": 0,
    "name": "footer",
    "results": "asis",
    "tags": [
     "remove_input"
    ]
   },
   "outputs": [],
   "source": []
  },
  {
   "cell_type": "markdown",
   "id": "704cc33f",
   "metadata": {},
   "source": [
    "<!-- ## /CLOSEDBLOK: Footer.R -->\n",
    "\n",
    "[^1]: Van Geloven, N. (25 mei 2016). *One-way ANOVA*. [Wiki Statistiek Academisch Medisch Centrum](https://wikistatistiek.amc.nl/index.php/One-way_ANOVA).\n",
    "[^2]: Universiteit van Amsterdam (8 juli 2014). *One-way ANOVA*. [UvA Wiki Methodologiewinkel](https://wiki.uva.nl/methodologiewinkel/index.php/One-way_ANOVA).\n",
    "[^3]: Onderscheidend vermogen, in het Engels power genoemd, is de kans dat de nulhypothese verworpen wordt wanneer de alternatieve hypothese 'waar' is.  \n",
    "[^4]: Field, A., Miles, J., & Field, Z. (2012). *Discovering statistics using R*. London: Sage publications.\n",
    "[^5]: Van Geloven, N. (21 maart 2018). *Kruskal Wallis*. [Wiki Statistiek Academisch Medisch Centrum](https://wikistatistiek.amc.nl/index.php/Kruskal_Wallis).\n",
    "[^6]: De [Kruskal-Wallis toets](10-Kruskal-Wallis-toets-R.html) maakt een rangschikking van de data. Hierdoor is de toets verdelingsvrij en is normaliteit geen assumptie. Ook zijn uitbijters minder van invloed op het eindresultaat. Toch wordt er voor deze toets minder vaak gekozen, omdat bij het maken van een rankschikking de dataset informatie verliest. Als de data wel normaal verdeeld zijn, heeft de [Kruskal-Wallis toets](10-Kruskal-Wallis-toets-R.html) minder onderscheidend vermogen dan wanneer de *one-way ANOVA* uitgevoerd zou worden.\n",
    "[^7]: Laerd statistics (2018). *Testing for Normality using SPSS Statistics*. https://statistics.laerd.com/spss-tutorials/testing-for-normality-using-spss-statistics.php. \n",
    "[^8]: Universiteit van Amsterdam (14 juli 2014). *Normaliteit*. [UvA Wiki Methodologiewinkel](https://wiki.uva.nl/methodologiewinkel/index.php/Normaliteit).\n",
    "[^9]: Er zijn verschillende opties om variabelen te transformeren, zoals de logaritme, wortel of inverse (1 gedeeld door de variabele) nemen van de variabele. Zie *Discovering statistics using IBM SPSS statistics* van Field (2013) pagina 201-210 voor meer informatie over welke transformaties wanneer gebruikt kunnen worden.\n",
    "[^10]: Wikipedia (7 september 2019). *Analysis of variance*. https://en.wikipedia.org/wiki/Analysis_of_variance.\n",
    "[^11]: Field, A., Miles, J., & Field, Z. (2012). *Discovering statistics using R*. London: Sage publications.\n",
    "[^12]: Watson, P. (30 oktober 2019). *Rules of thumb on magnitudes of effect sizes*. [MRC Cognition and Brain Sciences Unit Wiki](http://imaging.mrc-cbu.cam.ac.uk/statswiki/FAQ/effectSize).\n",
    "[^13]: Eta-squared. (2019 May 14). Retrieved from: https://en.wikiversity.org/wiki/Eta-squared.\n",
    "[^14]: Universiteit van Amsterdam (26 augustus 2014). *MANOVA*. [UvA Wiki Methodologiewinkel](https://wiki.uva.nl/methodologiewinkel/index.php/MANOVA).\n",
    "[^15]: Marshall, E., & Boggis, E. (2016). *The statistics tutor’s quick guide to commonly used statistical tests*. http://www.statstutor.ac.uk/resources/uploaded/tutorsquickguidetostatistics.pdf. \n",
    "[^16]: Outliers (13 augustus 2016). [UvA Wiki Methodologiewinkel](https://wiki.uva.nl/methodologiewinkel/index.php/Outliers).\n",
    "[^17]: Uitbijters kunnen bepalend zijn voor de uitkomst van toetsen. Bekijk of de uitbijters valide uitbijters zijn en niet een meetfout of op een andere manier incorrect verkregen data. Het weghalen van uitbijters kan de uitkomst ook vertekenen, daarom is het belangrijk om verwijderde uitbijters te melden in een rapport. \n",
    "[^18]: In dit voorbeeld wordt uitgegaan van een waarschijnlijkheid van 95% c.q. een p-waardegrens van 0,05. De grens is naar eigen inzicht aan te passen; houd hierbij rekening met type I en type II fouten.\n",
    "[^19]: Tabachnick, B.G. & Fidell, L.S. (2013). *Using multivariate statistics*. Sixth Edition, Pearson. Pagina 86.\n",
    "[^20]: De breedte van de staven van het histogram wordt vaak automatisch bepaald, maar kan handmatig aangepast worden. Aangezien de breedte van de staven bepalend zijn voor de indruk die de visualisatie geeft, is het verstandig om hier goed op te letten.\n",
    "\n"
   ]
  }
 ],
 "metadata": {
  "jupytext": {
   "cell_metadata_filter": "cache,message,tags,name,warning,echo,code,results,include,-all",
   "main_language": "R",
   "notebook_metadata_filter": "-all"
  }
 },
 "nbformat": 4,
 "nbformat_minor": 5
}
