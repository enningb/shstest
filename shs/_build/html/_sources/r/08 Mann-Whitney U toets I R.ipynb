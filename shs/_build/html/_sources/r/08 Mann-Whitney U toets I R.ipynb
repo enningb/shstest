{
 "cells": [
  {
   "cell_type": "raw",
   "id": "19e54020",
   "metadata": {
    "lines_to_next_cell": 0
   },
   "source": [
    "---\n",
    "title: \"Mann-Whitney U toets\"\n",
    "output:\n",
    "  html_document:\n",
    "    theme: lumen\n",
    "    toc: yes\n",
    "    toc_depth: 2\n",
    "    toc_float: \n",
    "      collapsed: FALSE \n",
    "    number_sections: true\n",
    "    includes:\n",
    "      in_header: [\"../01. Includes/html/nocache.html\", \"../01. Includes/html/favicon.html\", \"../01. Includes/html/analytics.html\"]\n",
    "  keywords: [statistisch handboek, studiedata]\n",
    "---"
   ]
  },
  {
   "cell_type": "markdown",
   "id": "88b4aefc",
   "metadata": {
    "lines_to_next_cell": 0
   },
   "source": [
    "<!-- ## CLOSEDBLOK: Functies.R -->"
   ]
  },
  {
   "cell_type": "code",
   "execution_count": null,
   "id": "2f8b2dd7",
   "metadata": {
    "include": true,
    "lines_to_next_cell": 0,
    "message": false,
    "name": "functies",
    "results": "asis",
    "tags": [
     "remove_input"
    ],
    "warning": false
   },
   "outputs": [],
   "source": [
    "library(here)\n",
    "if (!exists(\"Substitute_var\")) {\n",
    "  ## Installeer packages en functies\n",
    "  source(paste0(here::here(), \"/99. Functies en Libraries/00. Voorbereidingen.R\"), echo = FALSE)\n",
    "}"
   ]
  },
  {
   "cell_type": "markdown",
   "id": "c78b6c89",
   "metadata": {
    "lines_to_next_cell": 0
   },
   "source": [
    "<!-- ## /CLOSEDBLOK: Functies.R -->\n",
    "\n",
    "<!-- ## CLOSEDBLOK: CSS -->\n",
    "<style>\n",
    "`r htmltools::includeHTML(paste0(here::here(),\"/01. Includes/css/Stylesheet_SHHO.css\"))`\n",
    "</style>\n",
    "<!-- ## /CLOSEDBLOK: CSS -->\n",
    "\n",
    "<!-- ## CLOSEDBLOK: Header.R -->"
   ]
  },
  {
   "cell_type": "code",
   "execution_count": null,
   "id": "4dbd79af",
   "metadata": {
    "code": "#R_CODE#readLines(paste0(here::here(),\"/01. Includes/code/Header.R\"))",
    "include": true,
    "lines_to_next_cell": 0,
    "name": "header",
    "results": "asis",
    "tags": [
     "remove_input"
    ]
   },
   "outputs": [],
   "source": []
  },
  {
   "cell_type": "markdown",
   "id": "e69378fd",
   "metadata": {
    "lines_to_next_cell": 0
   },
   "source": [
    "<!-- ## /CLOSEDBLOK: Header.R -->\n",
    "\n",
    "<!-- ## CLOSEDBLOK: Status.R -->"
   ]
  },
  {
   "cell_type": "code",
   "execution_count": null,
   "id": "843a9c83",
   "metadata": {
    "code": "#R_CODE#readLines(paste0(here::here(),\"/01. Includes/code/Status.R\"))",
    "include": true,
    "lines_to_next_cell": 0,
    "name": "status",
    "results": "asis",
    "tags": [
     "remove_input"
    ]
   },
   "outputs": [],
   "source": []
  },
  {
   "cell_type": "markdown",
   "id": "22661b78",
   "metadata": {
    "lines_to_next_cell": 0
   },
   "source": [
    "<!-- ## /CLOSEDBLOK: Status.R -->\n",
    "\n",
    "<!-- ## CLOSEDBLOK: Reticulate.R -->\n",
    "\n",
    "<!-- ## /CLOSEDBLOK: Reticulate.R -->\n",
    "\n",
    "<!-- ## OPENBLOK: Data-aanmaken.R -->"
   ]
  },
  {
   "cell_type": "code",
   "execution_count": null,
   "id": "53754c4c",
   "metadata": {
    "echo": true,
    "lines_to_next_cell": 0,
    "name": "aanmaken data",
    "tags": [
     "remove_cell"
    ]
   },
   "outputs": [],
   "source": [
    "source(paste0(here::here(),\"/01. Includes/data/08.R\"))"
   ]
  },
  {
   "cell_type": "markdown",
   "id": "d08d5ada",
   "metadata": {},
   "source": [
    "<!-- ## /OPENBLOK: Data-aanmaken.R -->\n",
    "# Toepassing\n",
    "\n",
    "<!-- ## TEKSTBLOK: link1.R -->\n",
    "Gebruik de *Mann-Whitney U toets* om te toetsen of de gemiddelde rangnummers[^14] van de verdelingen van twee ongepaarde groepen van elkaar verschillen.[^1] De *Mann-Whitney U toets* is een alternatief voor de [ongepaarde t-toets](03-Ongepaarde-t-toets-R.html) als de verdelingen niet normaal verdeeld zijn. Alleen als de verdelingen van beide groepen dezelfde vorm hebben, kan de *Mann-Whitney U toets* ook gebruikt worden om het verschil tussen de medianen van twee groepen te toetsen.[^9] Gebruik *Mood's mediaan toets* om medianen te toetsen bij twee ongepaarde groepen waarvan de verdelingen niet dezelfde vorm hebben.\n",
    "<!-- ## /TEKSTBLOK: link1.R -->"
   ]
  },
  {
   "cell_type": "markdown",
   "id": "44d98307",
   "metadata": {},
   "source": [
    "# Onderwijscasus\n",
    "<div id =\"casus\">\n",
    "De onderwijsdirecteur van de opleiding Business Administration van een hogeschool vraagt zich af of er verschil is in de studieresultaten van studenten met een Nederlandse vooropleiding en een buitenlandse vooropleiding. Met name in het tweede studiejaar lijken er verschillen op te treden die hij wil begrijpen om mogelijke interventies met zijn docenten te bespreken. Hij vraagt zich af: ‘Verschilt het aantal studiepunten in het tweede studiejaar van studenten met een Nederlandse vooropleiding van het aantal studiepunten in het tweede studiejaar van studenten met een buitenlandse vooropleiding?\n",
    "\n",
    "Dit onderzoek vertaalt zich in de volgende combinatie van hypothesen, waarbij de nulhypothese zo geformuleerd is dat er geen effect of verschil is en de alternatieve hypothese zo geformuleerd is dat er wel een effect of verschil is.\n",
    "\n",
    "*H~0~*: Er is geen verschil in het gemiddelde rangnummer van het behaalde aantal studiepunten in het tweede jaar tussen studenten met een buitenlandse vooropleiding en een Nederlandse vooropleiding.\n",
    "\n",
    "*H~A~*: Er is een verschil in  gemiddelde rangnummer van het behaalde aantal studiepunten in het tweede jaar tussen studenten met een buitenlandse vooropleiding en een Nederlandse vooropleiding. Eén van beide verdelingen bevat hogere waarden betreffende het behaalde aantal studiepunten.\n",
    "</div>\n",
    "\n",
    "# Assumpties\n",
    "<!-- ## TEKSTBLOK: link2.R -->\n",
    "Het meetniveau van de afhankelijke variabele is ordinaal[^12] of continu.[^9] In deze toetspagina staat een casus met continue data centraal; een casus met ordinale data met bijbehorende uitwerking is te vinden in de [Mann-Whitney U toets II](23-Mann-Whitney-U-toets-II-R.html).\n",
    "\n",
    "De *Mann-Whitney U toets* hoeft - in tegenstelling tot de [ongepaarde t-toets](03-Ongepaarde-t-toets-R.html) - niet te voldoen aan de assumptie van normaliteit.  Daarnaast hebben uitbijters minder invloed op het eindresultaat dan bij de [ongepaarde t-toets](03-Ongepaarde-t-toets-R.html). Daarentegen, als de data wel normaal verdeeld is, heeft de *Mann-Whitney U toets* minder onderscheidend vermogen[^2] dan de [ongepaarde t-toets](03-Ongepaarde-t-toets-R.html). Vandaar dat ondanks het voordeel van de grotere robuustheid er toch minder vaak voor de *Mann-Whitney U toets* gekozen wordt.\n",
    "<!-- ## /TEKSTBLOK: link2.R -->\n",
    "\n",
    "## Verdeling steekproeven\n",
    "\n",
    "De *Mann-Whitney U toets* schrijft geen assumpties voor over de verdeling van de twee ongepaarde groepen.[^9] In principe toetst de *Mann-Whitney U toets* een hypothese over het verschil tussen het gemiddelde rangnummer van de verdelingen van twee ongepaarde groepen. De *Mann-Whitney U toets* maakt een rangschikking van alle observaties van beide groepen samengevoegd en telt vervolgens apart de rangnummers op voor de observaties in beide groepen. Met behulp van de groepsgroottes kan ook het gemiddelde rangnummer van beide groepen berekend worden. Het verschil tussen de gemiddelde rangnummers in beide groepen bepaalt de significantie van de toets.[^10]  Daarom kan de *Mann-Whitney U toets* gezien worden als een toets die het gemiddelde rangnummer van twee groepen vergelijkt.\n",
    "\n",
    "Als de verdelingen van de groepen niet dezelfde vorm hebben, doet de *Mann-Whitney U toets* een uitspraak over het verschil tussen verdelingen. Een verschil tussen verdelingen kan meerdere oorzaken hebben. De top of toppen van de verdelingen kunnen verschillend zijn, maar ook de spreiding van de verdeling kan verschillen.[^9] In alle gevallen is er echter een verschil tussen het gemiddelde rangnummer van de verdelingen. In andere woorden, de ene verdeling bevat hogere waarden dan de andere verdeling. Benoem daarom het gemiddelde rangnummer van beide groepen in de rapportage en visualiseer de verdeling van beide groepen om duidelijk te maken op welke manier de verdelingen van elkaar verschillen.\n",
    "\n",
    "Als de verdelingen van beide ongepaarde groepen echter dezelfde vorm hebben, toetst de *Mann-Whitney U toets* ook een hypothese over het verschil tussen de medianen. Immers, het enige verschil tussen de verdeling is in dat geval een verschuiving van de verdeling, dus een verandering van de mediaan. In dat geval heeft de *Mann-Whitney U toets* een hoger onderscheidend vermogen[^2] dan *Mood's mediaan toets* om medianen te toetsen.[^10]"
   ]
  },
  {
   "cell_type": "markdown",
   "id": "20cd15a3",
   "metadata": {
    "lines_to_next_cell": 0
   },
   "source": [
    "# Effectmaat\n",
    "\n",
    "De p-waarde geeft aan of een (mogelijk) verschil tussen twee groepen significant is. De grootte van het verschil of effect is echter ook relevant. Een effectmaat is een gestandaardiseerde maat die de grootte van een effect weergeeft, zodat effecten van verschillende onderzoeken met elkaar vergeleken kunnen worden.[^3] \n",
    "\n",
    "De *Mann-Whitney U toets* heeft als effectmaat *r*. Een indicatie om *r* te interpreteren is: rond 0,1 is het een klein effect, rond 0,3 is het een gemiddeld effect en rond 0,5 is het een groot effect.[^5] De effectmaat *r* wordt voor de *Mann-Whitney U toets* berekend door de\n",
    "*z*-waarde behorend bij de *p*-waarde van de toets te delen door de wortel van\n",
    "het aantal observaties, i.e. $\\frac{z}{\\sqrt{N}}$.[^5] Een correlatie tussen twee variabelen wordt vaak ook aangeduid met het symbool *r*. Beide zijn effectmaten, maar er is verder geen verband tussen de correlatie en de effectmaat van de *Wilcoxon signed rank toets*.\n",
    "\n",
    "# Uitvoering \n",
    "<!-- ## TEKSTBLOK: Dataset-inladen.R-->\n",
    "Er is een dataset `Studiepunten_studiejaar2` ingeladen met het aantal studiepunten dat studenten in het tweede jaar halen.\n",
    "<!-- ## /TEKSTBLOK: Dataset-inladen.R-->\n",
    "\n",
    "## De data bekijken\n",
    "<!-- ## TEKSTBLOK: Data-bekijken.R -->\n",
    "Gebruik `head()` en `tail()` om de structuur van de data te bekijken.\n",
    "<!-- ## /TEKSTBLOK: Data-bekijken.R -->\n",
    "<!-- ## OPENBLOK: Data-bekijken.R -->"
   ]
  },
  {
   "cell_type": "code",
   "execution_count": null,
   "id": "e0508522",
   "metadata": {
    "collapse": true,
    "lines_to_next_cell": 0,
    "name": "data bekijken"
   },
   "outputs": [],
   "source": [
    "## Eerste 6 observaties\n",
    "head(Studiepunten_studiejaar2)\n",
    "## Eerste 6 observaties\n",
    "tail(Studiepunten_studiejaar2)"
   ]
  },
  {
   "cell_type": "markdown",
   "id": "dc802a6d",
   "metadata": {
    "lines_to_next_cell": 0
   },
   "source": [
    "<!-- ## /OPENBLOK: Data-bekijken.R -->\n",
    "<!-- ## TEKSTBLOK: Data-beschrijven.R -->\n",
    "Bekijk de grootte, de mediaan en de kwantielen van het aantal studiepunten met `length()` en `quantile()`. De mediaan en kwantielen worden vaak gebruikt als maat wanneer een verdeling niet symmetrisch is. \n",
    "<!-- ## /TEKSTBLOK: Data-beschrijven.R -->\n",
    "<!-- ## OPENBLOK: Data-selecteren.R -->"
   ]
  },
  {
   "cell_type": "code",
   "execution_count": null,
   "id": "33cb3b56",
   "metadata": {
    "lines_to_next_cell": 0,
    "name": "data selecteren"
   },
   "outputs": [],
   "source": [
    "Vooropleiding_Nederlands <- Studiepunten_studiejaar2$Vooropleiding == \"Nederlands\""
   ]
  },
  {
   "cell_type": "markdown",
   "id": "e8a0fcf4",
   "metadata": {
    "lines_to_next_cell": 0
   },
   "source": [
    "<!-- ## /OPENBLOK: Data-selecteren.R -->\n",
    "\n",
    "<!-- ## OPENBLOK: Numpy-inladen.R -->\n",
    "\n",
    "<!-- ## /OPENBLOK: Numpy-inladen.R -->\n",
    "\n",
    "<div class=\"col-container\">\n",
    "  <div class=\"col\">\n",
    "<!-- ## OPENBLOK: Data-beschrijven-1.R -->"
   ]
  },
  {
   "cell_type": "code",
   "execution_count": null,
   "id": "deefd876",
   "metadata": {
    "collapse": true,
    "lines_to_next_cell": 0,
    "name": "data beschrijven 1"
   },
   "outputs": [],
   "source": [
    "length(Studiepunten_studiejaar2$Studiepunten[Vooropleiding_Nederlands])\n",
    "quantile(Studiepunten_studiejaar2$Studiepunten[Vooropleiding_Nederlands])"
   ]
  },
  {
   "cell_type": "markdown",
   "id": "ef302010",
   "metadata": {},
   "source": [
    "<!-- ## /OPENBLOK: Data-beschrijven-1.R -->\n",
    "  </div>\n",
    "  <div class=\"col\">\n",
    "<!-- ## OPENBLOK: Data-beschrijven-2.R -->\n",
    "``````{r Data beschrijven 2, collapse=TRUE}\n",
    "length(Studiepunten_studiejaar2$Studiepunten[!Vooropleiding_Nederlands])\n",
    "quantile(Studiepunten_studiejaar2$Studiepunten[!Vooropleiding_Nederlands])\n",
    "```\n",
    "<!-- ## /OPENBLOK: Data-beschrijven-2.R -->\n",
    "  </div>\n",
    "</div>\n",
    "<!-- ## CLOSEDBLOK: Data-beschrijven-3.R -->\n",
    "``` {r data beschrijven als object, include=FALSE, echo=TRUE}\n",
    "Vooropleiding_Nederlands <- Studiepunten_studiejaar2$Vooropleiding == \"Nederlands\"\n",
    "\n",
    "vN_NL <- length(Studiepunten_studiejaar2$Studiepunten[Vooropleiding_Nederlands])\n",
    "vQ_NL <- quantile(Studiepunten_studiejaar2$Studiepunten[Vooropleiding_Nederlands])\n",
    "\n",
    "vN_Inter <- length(Studiepunten_studiejaar2$Studiepunten[!Vooropleiding_Nederlands])\n",
    "vQ_Inter <- quantile(Studiepunten_studiejaar2$Studiepunten[!Vooropleiding_Nederlands])\n",
    "\n",
    "vN_NL <- Round_and_format(vN_NL)\n",
    "vN_Inter <- Round_and_format(vN_Inter)\n",
    "\n",
    "vQ1_NL <- Round_and_format(vQ_NL[2])\n",
    "vQ1_Inter <- Round_and_format(vQ_Inter[2])\n",
    "\n",
    "vMed_NL <- Round_and_format(vQ_NL[3])\n",
    "vMed_Inter <- Round_and_format(vQ_Inter[3])\n",
    "\n",
    "vQ3_NL <- Round_and_format(vQ_NL[4])\n",
    "vQ3_Inter <- Round_and_format(vQ_Inter[4])\n",
    "```\n",
    "<!-- ## /CLOSEDBLOK: Data-beschrijven-3.R -->\n",
    "\n",
    "<!-- ## TEKSTBLOK: Data-beschrijven2.R -->\n",
    "* Mediaan studenten Nederlandse vooropleiding: `r vMed_NL`, *n* = `r vN_NL`.\n",
    "* Mediaan studenten buitenlandse vooropleiding: `r vMed_Inter`, *n* = `r vN_Inter`.\n",
    "\n",
    "<!-- ## /TEKSTBLOK: Data-beschrijven2.R -->"
   ]
  },
  {
   "cell_type": "markdown",
   "id": "77d9f7de",
   "metadata": {
    "lines_to_next_cell": 0
   },
   "source": [
    "## De data visualiseren\n",
    "\n",
    "Maak een histogram[^18] om de verdeling van het aantal studiepunten in het tweede jaar voor studenten met een Nederlandse en buitenlandse vooropleiding visueel weer te geven.[^13]\n",
    "\n",
    "<!-- ## OPENBLOK: Histogram1.R -->"
   ]
  },
  {
   "cell_type": "code",
   "execution_count": null,
   "id": "71262c2f",
   "metadata": {
    "lines_to_next_cell": 0,
    "message": false,
    "name": "histogram",
    "warnings": false
   },
   "outputs": [],
   "source": [
    "## Histogram met ggplot2\n",
    "library(ggplot2)\n",
    "\n",
    "ggplot(Studiepunten_studiejaar2,\n",
    "  aes(x = Studiepunten)) +\n",
    "  geom_histogram(aes(y = ..density..),\n",
    "                 color = \"grey30\",\n",
    "                 fill = \"#0089CF\") +\n",
    "  facet_wrap(~ Vooropleiding, labeller = labeller(Vooropleiding = c(Nederlands = \"Nederlandse vooropleiding\", buitenlands = \"Buitenlandse vooropleiding\"))) +\n",
    "  ylab(\"Frequentie\") +\n",
    "  labs(title = \"Studiepunten van studenten Business Administration in het tweede jaar\")"
   ]
  },
  {
   "cell_type": "markdown",
   "id": "de8e47ae",
   "metadata": {},
   "source": [
    "<!-- ## /OPENBLOK: Histogram1.R -->\n",
    "\n",
    "Beide histogrammen bevatten een grote groep studenten met een laag aantal studiepunten (twaalf of minder). De overige studenten volgen een ietwat scheve verdeling met de top rond de vijftig studiepunten. De verdelingen van beide groepen studenten hebben echter niet dezelfde vorm. De frequentie van het aantal studenten rond de vijftig studiepunten is veel hoger voor de studenten met Nederlandse vooropleiding, terwijl de frequentie van het aantal studenten met twaalf of minder studiepunten juist hoger is voor de studenten met een buitenlandse vooropleiding. De *Mann-Whitney U toets* kan in dit geval dus niet gebruikt worden om een uitspraak te doen over de significantie van het verschil van de medianen van beide groepen. "
   ]
  },
  {
   "cell_type": "markdown",
   "id": "86e0210b",
   "metadata": {
    "lines_to_next_cell": 0
   },
   "source": [
    "## Mann-Whitney U toets\n",
    "<!-- ## TEKSTBLOK: Mann-Whitney-U-toets-1.R -->\n",
    "Gebruik `wilcox.test()` om een *Mann-Whitney U toets* te doen.[^11] Het eerste argument bevat het aantal studiepunten van studenten met een Nederlandse vooropleiding `Studiepunten_studiejaar2$Studiepunten[Vooropleiding_Nederlands]`; het tweede argument het aantal studiepunten van studenten met een buitenlandse vooropleiding `Studiepunten_studiejaar2$Studiepunten[!Vooropleiding_Nederlands]`. Voer daarna het argument `paired = FALSE` in omdat de steekproeven ongepaard zijn, het argument `alternative = \"two.sided\" ` vanwege de tweezijdige alternatieve hypothese en\n",
    "het argument `conf.int = TRUE` om een schatting met bijbehorend betrouwbaarheidsinterval te geven voor de mediaan \n",
    "van de verschilscores.[^6]<sup>,</sup>[^7]\n",
    "<!-- ## /TEKSTBLOK: Mann-Whitney-U-toets-1.R -->\n",
    "\n",
    "<!-- ## OPENBLOK: Mann-Whitney-U-toets-2.R -->"
   ]
  },
  {
   "cell_type": "code",
   "execution_count": null,
   "id": "37b96319",
   "metadata": {
    "lines_to_next_cell": 0,
    "name": "Mann Whitney U toets"
   },
   "outputs": [],
   "source": [
    "wilcox.test(Studiepunten_studiejaar2$Studiepunten[Vooropleiding_Nederlands],\n",
    "            Studiepunten_studiejaar2$Studiepunten[!Vooropleiding_Nederlands], \n",
    "            paired = FALSE, \n",
    "            alternative = \"two.sided\", \n",
    "            conf.int = TRUE)"
   ]
  },
  {
   "cell_type": "markdown",
   "id": "68859881",
   "metadata": {
    "lines_to_next_cell": 0
   },
   "source": [
    "<!-- ## /OPENBLOK: Mann-Whitney-U-toets-2.R -->\n",
    "<!-- ## CLOSEDBLOK: Mann-Whitney-U-toets-3.R -->"
   ]
  },
  {
   "cell_type": "code",
   "execution_count": null,
   "id": "91adb213",
   "metadata": {
    "lines_to_next_cell": 0,
    "name": "Mann Whitney U toets als object",
    "tags": [
     "remove_cell"
    ]
   },
   "outputs": [],
   "source": [
    "# Bepaal de index met daarin studenten met een Nederlandse vooropleiding\n",
    "Vooropleiding_Nederlands <- Studiepunten_studiejaar2$Vooropleiding == \"Nederlands\"\n",
    "\n",
    "# Voer Mann-Whitney U toets uit\n",
    "wcx <- wilcox.test(Studiepunten_studiejaar2$Studiepunten[Vooropleiding_Nederlands], Studiepunten_studiejaar2$Studiepunten[!Vooropleiding_Nederlands], paired = FALSE, alternative = \"two.sided\", conf.int = TRUE)\n",
    "\n",
    "vW_W <- Round_and_format_0decimals(wcx$statistic)\n",
    "vW_P <- Round_and_format(wcx$p.value)\n",
    "vW_est <- Round_and_format(wcx$estimate)\n",
    "vW_lb <- Round_and_format(wcx$conf.int[1])\n",
    "vW_ub <- Round_and_format(wcx$conf.int[2])"
   ]
  },
  {
   "cell_type": "markdown",
   "id": "992d94a8",
   "metadata": {
    "lines_to_next_cell": 0
   },
   "source": [
    "<!-- ## /CLOSEDBLOK: Mann-Whitney-U-toets-3.R -->\n",
    "\n",
    "Bereken vervolgens de effectmaat *r* op basis van de p-waarde van de *Mann-Whitney U toets*.\n",
    "\n",
    "<!-- ## OPENBLOK: Mann-Whitney-U-toets-4.R -->"
   ]
  },
  {
   "cell_type": "code",
   "execution_count": null,
   "id": "c16f1d02",
   "metadata": {
    "lines_to_next_cell": 0,
    "name": "effectgrootte"
   },
   "outputs": [],
   "source": [
    "# Sla de p-waarde op\n",
    "pwaarde <- wilcox.test(Studiepunten_studiejaar2$Studiepunten[Vooropleiding_Nederlands], \n",
    "            Studiepunten_studiejaar2$Studiepunten[!Vooropleiding_Nederlands],\n",
    "            paired = FALSE,\n",
    "            alternative = \"two.sided\",\n",
    "            conf.int = TRUE)$p.value\n",
    "\n",
    "# Bereken de effectmaat van de tweezijdige toets\n",
    "r <- qnorm(pwaarde/2) / sqrt(nrow(Studiepunten_studiejaar2))\n",
    "# Bereken de effectmaat van de eenzijdige toets\n",
    "#r <- qnorm(pwaarde) / sqrt(nrow(Studiepunten_studiejaar2))\n",
    "\n",
    "# Print de effectmaat\n",
    "paste(\"De effectmaat is\", abs(r))\n"
   ]
  },
  {
   "cell_type": "markdown",
   "id": "fb2a65d4",
   "metadata": {
    "lines_to_next_cell": 0
   },
   "source": [
    "<!-- ## /OPENBLOK: Mann-Whitney-U-toets-4.R -->\n",
    "\n",
    "Bereken ten slotte het gemiddelde rangnummer van beide groepen. Beoordeel op basis van de gemiddelde rangnummers welke groep hogere waardes bevat.\n",
    "<!-- ## OPENBLOK: Mann-Whitney-U-toets-5.R -->"
   ]
  },
  {
   "cell_type": "code",
   "execution_count": null,
   "id": "e9f028d9",
   "metadata": {
    "collapse": true,
    "lines_to_next_cell": 0,
    "name": "sommen"
   },
   "outputs": [],
   "source": [
    "# Bepaal de index met daarin studenten met een Nederlandse vooropleiding\n",
    "Vooropleiding_Nederlands <- Studiepunten_studiejaar2$Vooropleiding == \"Nederlands\"\n",
    "\n",
    "# Bereken gemiddelde rangnummers\n",
    "Rangnummer_Nederlandse_vooropleiding <- mean(rank(Studiepunten_studiejaar2$Studiepunten)[Vooropleiding_Nederlands])\n",
    "\n",
    "Rangnummer_buitenlandse_vooropleiding <- mean(rank(Studiepunten_studiejaar2$Studiepunten)[!Vooropleiding_Nederlands])\n",
    "\n",
    "# Print gemiddelde rangnummers\n",
    "Rangnummer_Nederlandse_vooropleiding\n",
    "Rangnummer_buitenlandse_vooropleiding"
   ]
  },
  {
   "cell_type": "markdown",
   "id": "3bcbb2a6",
   "metadata": {},
   "source": [
    "<!-- ## /OPENBLOK: Mann-Whitney-U-toets-5.R -->\n",
    "\n",
    "<!-- ## TEKSTBLOK: Mann-Whitney-U-toets-6.R -->\n",
    "* *W* = `r vW_W`, *p* = < 0,0001, *r* = `r Round_and_format(abs(r))`\n",
    "* *p*-waarde < 0,05, dus de H~0~ wordt verworpen.[^8]\n",
    "* Effectmaat is `r Round_and_format(abs(r))`, dus een klein tot gemiddeld effect\n",
    "* Het gemiddelde rangnummer is `r Round_and_format(Rangnummer_Nederlandse_vooropleiding)` (*n*=`r vN_NL`) voor studenten met een Nederlandse vooropleiding en `r Round_and_format(Rangnummer_buitenlandse_vooropleiding)` (*n*=`r vN_Inter`) voor studenten met een buitenlandse vooropleiding. De verdeling van studenten met een Nederlandse vooropleiding bevat dus hogere waarden dan de verdeling van studenten met een buitenlandse vooropleiding.\n",
    "* De mediaan van de verschilscores is `r vW_est` met een \n",
    "95%-betrouwbaarheidsinterval  van `r vW_lb` tot `r vW_ub`. Aangezien de verdelingen niet dezelfde vorm hebben, is de mediaan niet informatief en wordt deze niet opgenomen in de rapportage.\n",
    "\n",
    "<!-- ## /TEKSTBLOK: Mann-Whitney-U-toets-6.R -->"
   ]
  },
  {
   "cell_type": "markdown",
   "id": "21a38225",
   "metadata": {},
   "source": [
    "# Rapportage\n",
    "<!-- ## TEKSTBLOK: Rapportage.R -->\n",
    "De *Mann-Whitney U toets* is uitgevoerd om te toetsen of het behaalde aantal studiepunten in het tweede jaar van de bachelor Business Administration hetzelfde is voor studenten met buitenlandse vooropleiding als voor studenten met Nederlandse vooropleiding. Uit de resultaten kan afgelezen worden dat er een significant verschil is tussen de verdelingen van het aantal studiepunten van studenten met een buitenlandse vooropleiding en met een Nederlandse vooropleiding, *W* = `r vW_W`, *p* < 0,0001, *r* = `r Round_and_format(abs(r))`. Er is een klein tot gemiddeld effect van het verschil in het land van vooropleiding op het aantal studiepunten. Het gemiddelde rangnummer is `r Round_and_format(Rangnummer_Nederlandse_vooropleiding)` (*n*=`r vN_NL`) voor studenten met een Nederlandse vooropleiding en `r Round_and_format(Rangnummer_buitenlandse_vooropleiding)` (*n*=`r vN_Inter`) voor studenten met een buitenlandse vooropleiding. Studenten met een Nederlandse vooropleiding lijken dus een hoger aantal studiepunten te halen in het tweede jaar dan studenten met een buitenlandse vooropleiding.  "
   ]
  },
  {
   "cell_type": "markdown",
   "id": "04be79a7",
   "metadata": {
    "lines_to_next_cell": 0
   },
   "source": [
    "<!-- ## /TEKSTBLOK: Rapportage.R -->\n",
    "\n",
    "<!-- ## CLOSEDBLOK: Footer.R -->"
   ]
  },
  {
   "cell_type": "code",
   "execution_count": null,
   "id": "f86d37a9",
   "metadata": {
    "code": "#R_CODE#readLines(paste0(here::here(),\"/01. Includes/code/Footer.R\"))",
    "include": true,
    "lines_to_next_cell": 0,
    "name": "footer",
    "results": "asis",
    "tags": [
     "remove_input"
    ]
   },
   "outputs": [],
   "source": []
  },
  {
   "cell_type": "markdown",
   "id": "0a093070",
   "metadata": {},
   "source": [
    "<!-- ## /CLOSEDBLOK: Footer.R -->\n",
    " \n",
    "[^1]: Van Geloven, N. (13 maart 2018). *Mann-Whitney U toets*. [Wiki Statistiek Academisch Medisch Centrum](https://wikistatistiek.amc.nl/index.php/Mann-Whitney_U_toets).\n",
    "[^2]: Onderscheidend vermogen, in het Engels power genoemd, is de kans dat de nulhypothese verworpen wordt wanneer de alternatieve hypothese 'waar' is.\n",
    "[^3]: Field, A., Miles, J., & Field, Z. (2012). *Discovering statistics using R*. London: Sage publications.\n",
    "[^5]: Allen, P. & Bennett, K. (2012). *SPSS A practical Guide version 20.0*. Cengage Learning Australia Pty Limited.\n",
    "[^6]: De mediaan van de verschilscores kan bij twee ongepaarde steekproeven bijvoorbeeld geschat worden door alle *m x n* verschilscores te berekenen tussen *m* observaties uit de ene steekproef en *n* observaties uit de andere steekproef. De mediaan van deze *m x n* verschilscores is dan de schatting.\n",
    "[^7]: Wikipedia (10 maart 2020). *Hogdes-Lehmann estimator*.[https://en.wikipedia.org/wiki/Hodges%E2%80%93Lehmann_estimator](https://en.wikipedia.org/wiki/Hodges%E2%80%93Lehmann_estimator) \n",
    "[^8]: In dit voorbeeld wordt uitgegaan van een waarschijnlijkheid van 95% c.q. een p-waardegrens van 0,05. De grens is naar eigen inzicht aan te passen; houd hierbij rekening met type I en type II fouten.\n",
    "[^9]: Laerd Statistics (2018). *Mann-Whitney U Test using SPSS Statistics*. https://statistics.laerd.com/spss-tutorials/mann-whitney-u-test-using-spss-statistics.php\n",
    "[^10]: Field, A. (2013). *Discovering statistics using IBM SPSS statistics*. Sage.\n",
    "[^11]: Voor zowel de *Mann-Whitney U toets* als de [Wilcoxon signed rank toets](07-Wilcoxon-signed-rank-toets-I-R.html) wordt functie `wilcox.test()` in R gebruikt. Het verschil is dat de *Mann-Whitney U toets* wordt uitgevoerd met het argument `paired = FALSE` en de [Wilcoxon signed rank toets](07-Wilcoxon-signed-rank-toets-I-R.html) bij het argument `paired = TRUE`, aangezien de eerste toets ongepaarde groepen en de tweede toets gepaarde groepen vergelijkt.\n",
    "[^12]: Een ordinale variabele is een categorische variabele waarbij de categorieën geordend kunnen worden. Een voorbeeld is de variabele beoordeling met de categorieën Onvoldoende, Voldoende, Goed en Uitstekend.\n",
    "[^13]: De breedte van de staven van het histogram worden hier automatisch bepaald, maar kunnen handmatig aangepast worden. Aangezien de breedte van de staven bepalend zijn voor de indruk die de visualisatie geeft, is het verstandig om hier goed op te letten.\n",
    "[^14]: Bij de *Mann-Whitney U toets* en andere nonparametrische toetsen wordt de data eerst gerangschikt zodat elke observatie een rangnummer toegewezen krijgt. Deze rangnummers worden vervolgens gebruikt om de toets uit te voeren.\n",
    "[^18]: De breedte van de staven van het histogram wordt vaak automatisch bepaald, maar kan handmatig aangepast worden. Aangezien de breedte van de staven bepalend zijn voor de indruk die de visualisatie geeft, is het verstandig om hier goed op te letten."
   ]
  }
 ],
 "metadata": {
  "jupytext": {
   "cell_metadata_filter": "message,tags,name,warning,echo,code,results,collapse,include,warnings,-all",
   "main_language": "R",
   "notebook_metadata_filter": "-all"
  }
 },
 "nbformat": 4,
 "nbformat_minor": 5
}
