{
 "cells": [
  {
   "cell_type": "raw",
   "id": "e542e035",
   "metadata": {
    "lines_to_next_cell": 0
   },
   "source": [
    "---\n",
    "title: \"Mann-Whitney U toets\"\n",
    "output:\n",
    "  html_document:\n",
    "    theme: lumen\n",
    "    toc: yes\n",
    "    toc_depth: 2\n",
    "    toc_float: \n",
    "      collapsed: FALSE \n",
    "    number_sections: true\n",
    "    includes:\n",
    "      in_header: [\"../01. Includes/html/nocache.html\", \"../01. Includes/html/favicon.html\", \"../01. Includes/html/analytics.html\"]\n",
    "  keywords: [statistisch handboek, studiedata]\n",
    "---"
   ]
  },
  {
   "cell_type": "markdown",
   "id": "de682ce7",
   "metadata": {
    "lines_to_next_cell": 0
   },
   "source": [
    "<!-- ## CLOSEDBLOK: Functies.R -->"
   ]
  },
  {
   "cell_type": "code",
   "execution_count": null,
   "id": "ccdba5d2",
   "metadata": {
    "include": true,
    "lines_to_next_cell": 0,
    "message": false,
    "name": "functies",
    "results": "asis",
    "tags": [
     "remove_input"
    ],
    "warning": false
   },
   "outputs": [],
   "source": [
    "library(here)\n",
    "if (!exists(\"Substitute_var\")) {\n",
    "  ## Installeer packages en functies\n",
    "  source(paste0(here::here(), \"/99. Functies en Libraries/00. Voorbereidingen.R\"), echo = FALSE)\n",
    "}"
   ]
  },
  {
   "cell_type": "markdown",
   "id": "4fc0e88a",
   "metadata": {
    "lines_to_next_cell": 0
   },
   "source": [
    "<!-- ## /CLOSEDBLOK: Functies.R -->\n",
    "\n",
    "<!-- ## CLOSEDBLOK: CSS -->\n",
    "<style>\n",
    "`r htmltools::includeHTML(paste0(here::here(),\"/01. Includes/css/Stylesheet_SHHO.css\"))`\n",
    "</style>\n",
    "<!-- ## /CLOSEDBLOK: CSS -->\n",
    "\n",
    "<!-- ## CLOSEDBLOK: Header.R -->"
   ]
  },
  {
   "cell_type": "code",
   "execution_count": null,
   "id": "0408bd8c",
   "metadata": {
    "code": "#R_CODE#readLines(paste0(here::here(),\"/01. Includes/code/Header.R\"))",
    "include": true,
    "lines_to_next_cell": 0,
    "name": "header",
    "results": "asis",
    "tags": [
     "remove_input"
    ]
   },
   "outputs": [],
   "source": []
  },
  {
   "cell_type": "markdown",
   "id": "2391f8f2",
   "metadata": {
    "lines_to_next_cell": 0
   },
   "source": [
    "<!-- ## /CLOSEDBLOK: Header.R -->\n",
    "\n",
    "<!-- ## CLOSEDBLOK: Status.R -->"
   ]
  },
  {
   "cell_type": "code",
   "execution_count": null,
   "id": "671633db",
   "metadata": {
    "code": "#R_CODE#readLines(paste0(here::here(),\"/01. Includes/code/Status.R\"))",
    "include": true,
    "lines_to_next_cell": 0,
    "name": "status",
    "results": "asis",
    "tags": [
     "remove_input"
    ]
   },
   "outputs": [],
   "source": []
  },
  {
   "cell_type": "markdown",
   "id": "4ac8ec77",
   "metadata": {
    "lines_to_next_cell": 0
   },
   "source": [
    "<!-- ## /CLOSEDBLOK: Status.R -->\n",
    "\n",
    "<!-- ## CLOSEDBLOK: Reticulate.R -->\n",
    "\n",
    "<!-- ## /CLOSEDBLOK: Reticulate.R -->\n",
    "\n",
    "<!-- ## OPENBLOK: Data-aanmaken.R -->"
   ]
  },
  {
   "cell_type": "code",
   "execution_count": null,
   "id": "58f9f75b",
   "metadata": {
    "echo": true,
    "lines_to_next_cell": 0,
    "name": "aanmaken data",
    "tags": [
     "remove_cell"
    ]
   },
   "outputs": [],
   "source": [
    "source(paste0(here::here(),\"/01. Includes/data/23.R\"))"
   ]
  },
  {
   "cell_type": "markdown",
   "id": "218b1074",
   "metadata": {
    "lines_to_next_cell": 0
   },
   "source": [
    "<!-- ## /OPENBLOK: Data-aanmaken.R -->\n",
    "# Toepassing\n",
    "Gebruik de *Mann-Whitney U toets* om te toetsen of twee ongepaarde groepen van elkaar verschillen op een ordinale[^12] variabele.[^9] Als de variabele beter als nominaal[^13] beschouwd kan worden, is de *chi-kwadraat toets voor onafhankelijkheid* of de *Fisher-Freeman-Halton exact toets* (bij een laag aantal observaties) een alternatief. Bij deze toetsen wordt echter geen rekening gehouden met de ordening van de categorieën van de ordinale variabele: de variabele wordt behandeld als een nominale variabele.\n",
    "\n",
    "# Onderwijscasus\n",
    "<div id =\"casus\">\n",
    "Bij de hbo lerarenopleiding Frans leren studenten bij het vak Gesprekstechnieken om gesprekken te voeren in een praktijksetting. Aan het einde van het vak worden zij beoordeeld op basis van een mentorgesprek met een acteur waarin zij de aangeleerde vaardigheden in de praktijk kunnen toepassen. De beoordelingen bestaan uit onvoldoende, voldoende en goed. In vakevaluaties wordt vaak door mannen aangegeven dat ze het vak als erg moeilijk ervaren. Daarom wil de hoofddocent graag uitzoeken of er verschillen zijn tussen mannen en vrouwen wat betreft de beoordeling van de gesprekstechnieken.\n",
    "\n",
    "Dit onderzoek vertaalt zich in de volgende combinatie van hypothesen, waarbij de nulhypothese zo geformuleerd is dat er geen effect of verschil is en de alternatieve hypothese zo geformuleerd is dat er wel een effect of verschil is.\n",
    "\n",
    "*H~0~*: Er is geen verschil tussen mannen en vrouwen wat betreft (het gemiddelde rangnummer van) de beoordelingen van gesprekstechnieken.\n",
    "\n",
    "*H~A~*: Er is een verschil tussen mannen en vrouwen wat betreft (het gemiddelde rangnummer van) de beoordelingen van gesprekstechnieken. De beoordelingen zijn hoger voor mannen of vrouwen.\n",
    "</div>\n",
    "\n",
    "# Assumpties\n",
    "\n",
    "Het meetniveau van de afhankelijke variabele is ordinaal[^12] of continu.[^9] In deze toetspagina staat een casus met ordinale data centraal; een casus met continue data met bijbehorende uitwerking is te vinden in de [Mann-Whitney U toets I](08-Mann-Whitney-U-toets-I-R.html).\n",
    "\n",
    "Om de *Mann-Whitney U toets* uit te voeren met een ordinale afhankelijke variabele, moet deze variabele omgezet worden in getallen. Wanneer er drie categorieën zijn, worden ze genummerd van 1 tot en met 3 op basis van de ordening van de variabele. De categorieën onvoldoende, voldoende en goed worden dan omgezet in respectievelijk 1, 2 en 3. Bij de *chi-kwadraat toets voor onafhankelijkheid* en de *Fisher-Freeman_Halton exact toets* wordt dit niet gedaan, maar wordt de ordinale variabele als nominaal[^13] beschouwd. De *Mann-Whitney U toets* maakt een rangschikking van alle observaties van beide groepen samengevoegd en telt vervolgens apart de rangnummers op voor de observaties in beide groepen. Met behulp van de groepsgroottes kan ook het gemiddelde rangnummer van beide groepen berekend worden. Het verschil tussen de gemiddelde rangnummers in beide groepen bepaalt de significantie van de toets.[^10]\n",
    "\n",
    "# Effectmaat\n",
    "\n",
    "De p-waarde geeft aan of een (mogelijk) verschil tussen twee groepen significant is. De grootte van het verschil of effect is echter ook relevant. Een effectmaat is een gestandaardiseerde maat die de grootte van een effect weergeeft, zodat effecten van verschillende onderzoeken met elkaar vergeleken kunnen worden.[^3] \n",
    "\n",
    "De *Mann-Whitney U toets* heeft als effectmaat *r*. Een indicatie om *r* te interpreteren is: rond 0,1 is het een klein effect, rond 0,3 is het een gemiddeld effect en rond 0,5 is het een groot effect.[^5] De effectmaat *r* wordt voor de *Mann-Whitney U toets* berekend door de\n",
    "*z*-waarde behorend bij de *p*-waarde van de toets te delen door de wortel van\n",
    "het aantal observaties, i.e. $\\frac{z}{\\sqrt{N}}$.[^5] Een correlatie tussen twee variabelen wordt vaak ook aangeduid met het symbool *r*. Beide zijn effectmaten, maar er is verder geen verband tussen de correlatie en de effectmaat van de *Wilcoxon signed rank toets*.\n",
    "\n",
    "# Uitvoering \n",
    "<!-- ## TEKSTBLOK: Dataset-inladen.R-->\n",
    "Er is een dataset `Beoordelingen_gesprekstechnieken` ingeladen met de beoordelingen van studenten voor het vak Gesprekstechnieken.\n",
    "<!-- ## /TEKSTBLOK: Dataset-inladen.R-->\n",
    "\n",
    "## De data bekijken\n",
    "<!-- ## TEKSTBLOK: Data-bekijken.R -->\n",
    "Gebruik `head()` en `tail()` om de structuur van de data te bekijken.\n",
    "<!-- ## /TEKSTBLOK: Data-bekijken.R -->\n",
    "<!-- ## OPENBLOK: Data-bekijken.R -->"
   ]
  },
  {
   "cell_type": "code",
   "execution_count": null,
   "id": "d97a8c8d",
   "metadata": {
    "collapse": true,
    "lines_to_next_cell": 0,
    "name": "data bekijken"
   },
   "outputs": [],
   "source": [
    "## Eerste 6 observaties\n",
    "head(Beoordelingen_gesprekstechnieken)\n",
    "## Eerste 6 observaties\n",
    "tail(Beoordelingen_gesprekstechnieken)"
   ]
  },
  {
   "cell_type": "markdown",
   "id": "ef0254eb",
   "metadata": {},
   "source": [
    "<!-- ## /OPENBLOK: Data-bekijken.R -->\n",
    "\n",
    "<!-- ## TEKSTBLOK: Data-kruistabel1.R -->\n",
    "Een kruistabel geeft de aantallen observaties weer voor de combinaties van de categorieën van de variabelen `Geslacht` en `Beoordeling`. In feite laat dit zien welke beoordelingen mannen en vrouwen krijgen. Maak de kruistabel met de functie `table()` met als argumenten de variabele `Beoordelingen_gesprekstechnieken$Geslacht` en de variabele `Beoordelingen_gesprekstechnieken$Beoordeling`.\n",
    "<!-- ## /TEKSTBLOK: Data-kruistabel1.R -->\n",
    "\n",
    "<!-- ## OPENBLOK: Data-kruistabel2.R -->"
   ]
  },
  {
   "cell_type": "code",
   "execution_count": null,
   "id": "aa291fd0",
   "metadata": {
    "lines_to_next_cell": 0,
    "name": "kruistabel"
   },
   "outputs": [],
   "source": [
    "## Maak een kruistabel\n",
    "Beoordelingen_kruistabel <- table(Beoordelingen_gesprekstechnieken$Geslacht, Beoordelingen_gesprekstechnieken$Beoordeling)\n",
    "\n",
    "## Bepaal de volgorde van de beoordelingen\n",
    "Volgorde <- c(\"Onvoldoende\", \"Voldoende\", \"Goed\")\n",
    "\n",
    "## Print de kruistabel \n",
    "print(Beoordelingen_kruistabel[,Volgorde])\n",
    "\n",
    "## Print een tabel met proporties; het tweede argument `1` zorgt ervoor dat de \n",
    "## proporties per kolom berekend worden\n",
    "prop.table(Beoordelingen_kruistabel[,Volgorde], 1)"
   ]
  },
  {
   "cell_type": "markdown",
   "id": "cf65fb71",
   "metadata": {},
   "source": [
    "<!-- ## /OPENBLOK: Data-kruistabel2.R -->\n",
    "\n",
    "De kruistabel en bijbehorende kruistabel met proporties laten zien dat de gesprekstechnieken van vrouwen relatief iets vaker als goed beoordeeld worden en iets minder vaak als onvoldoende in vergelijking met de gesprechtstechnieken van mannen."
   ]
  },
  {
   "cell_type": "markdown",
   "id": "d08dfab3",
   "metadata": {
    "lines_to_next_cell": 0
   },
   "source": [
    "## De data visualiseren\n",
    "\n",
    "Maak een staafdiagram om de verdeling van de beoordelingen voor het van Gesprekstechnieken van mannen en vrouwen visueel weer te geven.\n",
    "\n",
    "<!-- ## OPENBLOK: Histogram1.R -->"
   ]
  },
  {
   "cell_type": "code",
   "execution_count": null,
   "id": "d3bb460b",
   "metadata": {
    "lines_to_next_cell": 0,
    "message": false,
    "name": "histogram",
    "warnings": false
   },
   "outputs": [],
   "source": [
    "## Histogram met ggplot2\n",
    "library(ggplot2)\n",
    "\n",
    "ggplot(Beoordelingen_gesprekstechnieken,\n",
    "  aes(Beoordeling)) +\n",
    "  geom_bar(color = \"grey30\",\n",
    "                 fill = \"#0089CF\") +\n",
    "  scale_x_discrete(limits = c(\"Onvoldoende\", \"Voldoende\", \"Goed\")) +\n",
    "  facet_wrap(~ Geslacht) +\n",
    "  ylab(\"Frequentie\") +\n",
    "  labs(title = \"Beoordeling van gesprekstechnieken voor mannen en vrouwen\")"
   ]
  },
  {
   "cell_type": "markdown",
   "id": "53c2cc5b",
   "metadata": {},
   "source": [
    "<!-- ## /OPENBLOK: Histogram1.R -->\n",
    "\n",
    "Bij zowel mannen als vrouwen krijgen de meeste studenten de beoordeling goed. Het aantal studenten waarvan de gesprekstechnieken als onvoldoende wordt beoordeeld is bij beide groepen het laagst.\n",
    "\n",
    "## Mann-Whitney U toets\n",
    "<!-- ## TEKSTBLOK: Mann-Whitney-U-toets-1.R -->\n",
    "Voer de *Mann-Whitney U toets* uit om de vraag te beantwoorden of er verschillen zijn tussen de beoordelingen van de gesprekstechnieken van mannen en vrouwen. Zet eerst de categorische variabele `Beoordeling` om in een numerieke variabele door de categorieën onvoldoende, voldoende en goed om te zetten in respectievelijk 1, 2 en 3. Gebruik daarna de functie `wilcox.test()` met als eerste argument `Beoordeling ~ Geslacht` waarin `Beoordeling` de afhankelijke variabele is en `Geslacht` de onafhankelijke variabele. Voer daarna het argument `paired = FALSE` in omdat de steekproeven ongepaard zijn en het argument `alternative = \"two.sided\"` vanwege de tweezijdige alternatieve hypothese.[^11]"
   ]
  },
  {
   "cell_type": "markdown",
   "id": "2f76e09f",
   "metadata": {
    "lines_to_next_cell": 0
   },
   "source": [
    "<!-- ## /TEKSTBLOK: Mann-Whitney-U-toets-1.R -->\n",
    "\n",
    "<!-- ## OPENBLOK: Mann-Whitney-U-toets-2.R -->"
   ]
  },
  {
   "cell_type": "code",
   "execution_count": null,
   "id": "c6d36556",
   "metadata": {
    "lines_to_next_cell": 0,
    "name": "wilcox test"
   },
   "outputs": [],
   "source": [
    "# Zet de categorieën om in getallen\n",
    "Beoordelingen_gesprekstechnieken$Beoordeling_numeriek[Beoordelingen_gesprekstechnieken$Beoordeling == \"Onvoldoende\"] <- 1\n",
    "Beoordelingen_gesprekstechnieken$Beoordeling_numeriek[Beoordelingen_gesprekstechnieken$Beoordeling == \"Voldoende\"] <- 2\n",
    "Beoordelingen_gesprekstechnieken$Beoordeling_numeriek[Beoordelingen_gesprekstechnieken$Beoordeling == \"Goed\"] <- 3\n",
    "\n",
    "# Maak de variabele numeriek\n",
    "Beoordelingen_gesprekstechnieken$Beoordeling_numeriek <- as.numeric(Beoordelingen_gesprekstechnieken$Beoordeling_numeriek)\n",
    "\n",
    "# Voer de wilcoxon signed rank toets uit\n",
    "wilcox.test(Beoordeling_numeriek ~ Geslacht, \n",
    "            Beoordelingen_gesprekstechnieken, \n",
    "            paired = FALSE, \n",
    "            alternative = \"two.sided\")"
   ]
  },
  {
   "cell_type": "markdown",
   "id": "e92b9263",
   "metadata": {
    "lines_to_next_cell": 0
   },
   "source": [
    "<!-- ## /OPENBLOK: Mann-Whitney-U-toets-2.R -->\n",
    "\n",
    "<!-- ## CLOSEDBLOK: Mann-Whitney-U-toets-3.R -->"
   ]
  },
  {
   "cell_type": "code",
   "execution_count": null,
   "id": "16a5571c",
   "metadata": {
    "lines_to_next_cell": 0,
    "name": "Mann Whitney U toets als object",
    "tags": [
     "remove_cell"
    ]
   },
   "outputs": [],
   "source": [
    "wcx <- wilcox.test(Beoordeling_numeriek ~ Geslacht, \n",
    "                   Beoordelingen_gesprekstechnieken, \n",
    "                   paired = FALSE, \n",
    "                   alternative = \"two.sided\")\n",
    "\n",
    "vW_W <- Round_and_format_0decimals(wcx$statistic)\n",
    "vW_P <- Round_and_format(wcx$p.value)\n",
    "vN_man <- sum(Beoordelingen_gesprekstechnieken$Geslacht == \"Man\")\n",
    "vN_vrouw <- sum(Beoordelingen_gesprekstechnieken$Geslacht == \"Vrouw\")"
   ]
  },
  {
   "cell_type": "markdown",
   "id": "da08cb9e",
   "metadata": {
    "lines_to_next_cell": 0
   },
   "source": [
    "<!-- ## /CLOSEDBLOK: Mann-Whitney-U-toets-3.R -->\n",
    "\n",
    "Bereken vervolgens de effectmaat *r* op basis van de p-waarde van de *Mann-Whitney U toets*.\n",
    "\n",
    "<!-- ## OPENBLOK: Mann-Whitney-U-toets-4.R -->"
   ]
  },
  {
   "cell_type": "code",
   "execution_count": null,
   "id": "279c3e38",
   "metadata": {
    "lines_to_next_cell": 0,
    "name": "effectgrootte"
   },
   "outputs": [],
   "source": [
    "# Sla de p-waarde op\n",
    "pwaarde <- wilcox.test(Beoordeling_numeriek ~ Geslacht,\n",
    "                       Beoordelingen_gesprekstechnieken, \n",
    "                       paired = FALSE, \n",
    "                       alternative = \"two.sided\")$p.value\n",
    "\n",
    "# Bereken de effectmaat van de tweezijdige toets\n",
    "r <- qnorm(pwaarde/2) / sqrt(nrow(Beoordelingen_gesprekstechnieken))\n",
    "# Bereken de effectmaat van de eenzijdige toets\n",
    "#r <- qnorm(pwaarde) / sqrt(nrow(Studiepunten_studiejaar2))\n",
    "\n",
    "# Print de effectmaat\n",
    "paste(\"De effectmaat is\", abs(r))\n"
   ]
  },
  {
   "cell_type": "markdown",
   "id": "51c54c3f",
   "metadata": {
    "lines_to_next_cell": 0
   },
   "source": [
    "<!-- ## /OPENBLOK: Mann-Whitney-U-toets-4.R -->\n",
    "\n",
    "Bereken ten slotte het gemiddelde rangnummer van beide groepen. Beoordeel op basis van de gemiddelde rangnummers welke groep hogere waardes bevat.\n",
    "<!-- ## OPENBLOK: Wilcoxon-signed-rank-toets3.R -->"
   ]
  },
  {
   "cell_type": "code",
   "execution_count": null,
   "id": "1b937494",
   "metadata": {
    "collapse": true,
    "lines_to_next_cell": 0,
    "name": "sommen"
   },
   "outputs": [],
   "source": [
    "# Maak een index met daarin alle mannen\n",
    "Index_mannen <- Beoordelingen_gesprekstechnieken$Geslacht == \"Man\"\n",
    "\n",
    "# Bereken de gemiddelde rangnummers\n",
    "Rangnummer_mannen <- mean(rank(Beoordelingen_gesprekstechnieken$Beoordeling_numeriek)[Index_mannen])\n",
    "\n",
    "Rangnummer_vrouwen <- mean(rank(Beoordelingen_gesprekstechnieken$Beoordeling_numeriek)[!Index_mannen])\n",
    "\n",
    "# Print de gemiddelde rangnummers\n",
    "Rangnummer_mannen\n",
    "Rangnummer_vrouwen"
   ]
  },
  {
   "cell_type": "markdown",
   "id": "123ac3ed",
   "metadata": {},
   "source": [
    "<!-- ## /OPENBLOK: Wilcoxon-signed-rank-toets3.R -->\n",
    "\n",
    "<!-- ## TEKSTBLOK: Mann-Whitney-U-toets-4.R -->\n",
    "* *W* = `r vW_W`, *p* = `r vW_P`, *r* = `r Round_and_format(abs(r))`\n",
    "* *p*-waarde > 0,05, dus de H~0~ wordt niet verworpen.[^8]\n",
    "* Het gemiddelde rangnummer is `r Round_and_format(Rangnummer_mannen)` (*n*=`r vN_man`) voor mannen en `r Round_and_format(Rangnummer_vrouwen)` (*n*=`r vN_vrouw`) voor vrouwen. De verdeling van vrouwen bevat dus iets hogere waarden dan de verdeling van mannen, maar dit verschil is niet significant.\n",
    "\n",
    "<!-- ## /TEKSTBLOK: Mann-Whitney-U-toets-4.R -->"
   ]
  },
  {
   "cell_type": "markdown",
   "id": "62c75522",
   "metadata": {
    "lines_to_next_cell": 0
   },
   "source": [
    "# Rapportage\n",
    "<!-- ## TEKSTBLOK: Rapportage.R -->\n",
    "De *Mann-Whitney U toets* is uitgevoerd om te toetsen of de beoordeling van gesprekstechnieken bij het vak Gesprekstechnieken van de hbo lerarenopleiding Frans verschillend is voor mannen en vrouwen. De resultaten laten zien dat er geen significant verschil is tussen de beoordeling van mannen en vrouwen, *W* = `r vW_W`, *p* < 0,0001, *r* = `r Round_and_format(abs(r))`. Het gemiddelde rangnummer is `r Round_and_format(Rangnummer_mannen)` (*n*=`r vN_man`) voor mannen en `r Round_and_format(Rangnummer_vrouwen)` (*n*=`r vN_vrouw`) voor vrouwen. Ondanks het feit dat mannen het vak als moeilijk ervaren, lijken ze niet slechter te presteren dan vrouwen wat betreft gesprekstechnieken.\n",
    "\n",
    "<!-- ## /TEKSTBLOK: Rapportage.R -->\n",
    "\n",
    "<!-- ## CLOSEDBLOK: Footer.R -->"
   ]
  },
  {
   "cell_type": "code",
   "execution_count": null,
   "id": "4e8c90bb",
   "metadata": {
    "code": "#R_CODE#readLines(paste0(here::here(),\"/01. Includes/code/Footer.R\"))",
    "include": true,
    "lines_to_next_cell": 0,
    "name": "footer",
    "results": "asis",
    "tags": [
     "remove_input"
    ]
   },
   "outputs": [],
   "source": []
  },
  {
   "cell_type": "markdown",
   "id": "f3b4c603",
   "metadata": {},
   "source": [
    "<!-- ## /CLOSEDBLOK: Footer.R -->\n",
    " \n",
    "[^3]: Field, A., Miles, J., & Field, Z. (2012). *Discovering statistics using R*. London: Sage publications.\n",
    "[^5]: Allen, P. & Bennett, K. (2012). *SPSS A practical Guide version 20.0*. Cengage Learning Australia Pty Limited.\n",
    "[^8]: In dit voorbeeld wordt uitgegaan van een waarschijnlijkheid van 95% c.q. een p-waardegrens van 0,05. De grens is naar eigen inzicht aan te passen; houd hierbij rekening met type I en type II fouten.\n",
    "[^9]: Laerd Statistics (2018). *Mann-Whitney U Test using SPSS Statistics*. https://statistics.laerd.com/spss-tutorials/mann-whitney-u-test-using-spss-statistics.php\n",
    "[^10]: Field, A. (2013). *Discovering statistics using IBM SPSS statistics*. Sage.\n",
    "[^11]: Voor zowel de *Mann-Whitney U toets* als de [Wilcoxon signed rank toets](07-Wilcoxon-signed-rank-toets-I-R.html) wordt functie `wilcox.test()` in R gebruikt. Het verschil is dat de *Mann-Whitney U toets* wordt uitgevoerd met het argument `paired = FALSE` en de [Wilcoxon signed rank toets](07-Wilcoxon-signed-rank-toets-I-R.html) bij het argument `paired = TRUE`, aangezien de eerste toets ongepaarde groepen en de tweede toets gepaarde groepen vergelijkt.\n",
    "[^12]: Een ordinale variabele is een categorische variabele waarbij de categorieën geordend kunnen worden. Een voorbeeld is de variabele beoordeling met de categorieën Onvoldoende, Voldoende, Goed en Uitstekend.\n",
    "[^13]: Een nominale variabele is een categorische variabele waarbij de categorieën niet geordend kunnen worden. Een voorbeeld is de variabele windstreek (noord, oost, zuid, west) en geslacht (man of vrouw)."
   ]
  }
 ],
 "metadata": {
  "jupytext": {
   "cell_metadata_filter": "message,tags,name,warning,echo,code,results,collapse,include,warnings,-all",
   "main_language": "R",
   "notebook_metadata_filter": "-all"
  }
 },
 "nbformat": 4,
 "nbformat_minor": 5
}
