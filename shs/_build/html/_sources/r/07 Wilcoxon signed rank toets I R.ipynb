{
 "cells": [
  {
   "cell_type": "raw",
   "id": "9bf5b874",
   "metadata": {},
   "source": [
    "---\n",
    "title: \"Wilcoxon signed rank toets\"\n",
    "output:\n",
    "  html_document:\n",
    "    theme: lumen\n",
    "    toc: yes\n",
    "    toc_depth: 2\n",
    "    toc_float: \n",
    "      collapsed: FALSE \n",
    "    number_sections: true\n",
    "    includes:\n",
    "      in_header: [\"../01. Includes/html/nocache.html\", \"../01. Includes/html/favicon.html\", \"../01. Includes/html/analytics.html\"]\n",
    "  keywords: [statistisch handboek, studiedata]\n",
    "---"
   ]
  },
  {
   "cell_type": "markdown",
   "id": "32545fed",
   "metadata": {
    "lines_to_next_cell": 0
   },
   "source": [
    "<!-- ## CLOSEDBLOK: Functies.R -->"
   ]
  },
  {
   "cell_type": "code",
   "execution_count": null,
   "id": "a4ee1c39",
   "metadata": {
    "include": true,
    "lines_to_next_cell": 0,
    "message": false,
    "name": "functies",
    "results": "asis",
    "tags": [
     "remove_input"
    ],
    "warning": false
   },
   "outputs": [],
   "source": [
    "library(here)\n",
    "if (!exists(\"Substitute_var\")) {\n",
    "  ## Installeer packages en functies\n",
    "  source(paste0(here::here(), \"/99. Functies en Libraries/00. Voorbereidingen.R\"), echo = FALSE)\n",
    "}"
   ]
  },
  {
   "cell_type": "markdown",
   "id": "befd4abd",
   "metadata": {
    "lines_to_next_cell": 0
   },
   "source": [
    "<!-- ## /CLOSEDBLOK: Functies.R -->\n",
    "\n",
    "<!-- ## CLOSEDBLOK: CSS -->\n",
    "<style>\n",
    "`r htmltools::includeHTML(paste0(here::here(),\"/01. Includes/css/Stylesheet_SHHO.css\"))`\n",
    "</style>\n",
    "<!-- ## /CLOSEDBLOK: CSS -->\n",
    "\n",
    "<!-- ## CLOSEDBLOK: Header.R -->"
   ]
  },
  {
   "cell_type": "code",
   "execution_count": null,
   "id": "08d36700",
   "metadata": {
    "code": "#R_CODE#readLines(paste0(here::here(),\"/01. Includes/code/Header.R\"))",
    "include": true,
    "lines_to_next_cell": 0,
    "name": "header",
    "results": "asis",
    "tags": [
     "remove_input"
    ]
   },
   "outputs": [],
   "source": []
  },
  {
   "cell_type": "markdown",
   "id": "590e29b3",
   "metadata": {
    "lines_to_next_cell": 0
   },
   "source": [
    "<!-- ## /CLOSEDBLOK: Header.R -->\n",
    "\n",
    "<!-- ## CLOSEDBLOK: Status.R -->"
   ]
  },
  {
   "cell_type": "code",
   "execution_count": null,
   "id": "758936a1",
   "metadata": {
    "code": "#R_CODE#readLines(paste0(here::here(),\"/01. Includes/code/Status.R\"))",
    "include": true,
    "lines_to_next_cell": 0,
    "name": "status",
    "results": "asis",
    "tags": [
     "remove_input"
    ]
   },
   "outputs": [],
   "source": []
  },
  {
   "cell_type": "markdown",
   "id": "6f988412",
   "metadata": {
    "lines_to_next_cell": 0
   },
   "source": [
    "<!-- ## /CLOSEDBLOK: Status.R -->\n",
    "\n",
    "<!-- ## CLOSEDBLOK: Reticulate.R -->\n",
    "\n",
    "<!-- ## /CLOSEDBLOK: Reticulate.R -->\n",
    "\n",
    "<!-- ## OPENBLOK: Data-aanmaken.R -->"
   ]
  },
  {
   "cell_type": "code",
   "execution_count": null,
   "id": "784d45e7",
   "metadata": {
    "echo": true,
    "lines_to_next_cell": 0,
    "name": "aanmaken data",
    "tags": [
     "remove_cell"
    ]
   },
   "outputs": [],
   "source": [
    "source(paste0(here::here(),\"/01. Includes/data/07.R\"))"
   ]
  },
  {
   "cell_type": "markdown",
   "id": "f94f176e",
   "metadata": {},
   "source": [
    "<!-- ## /OPENBLOK: Data-aanmaken.R -->\n",
    "\n",
    "# Toepassing\n",
    "<!-- ## TEKSTBLOK: link1.R-->\n",
    "Gebruik de *Wilcoxon signed rank toets* om te toetsen of de som van de rangnummers[^12] van de verdelingen van twee gepaarde groepen van elkaar verschillen.[^1] Deze toets is een alternatief voor de [gepaarde t-toets](02-Gepaarde-t-toets-R.html) als de verschilscores van de gepaarde groepen niet normaal verdeeld zijn. Alleen als de verdeling van de verschilscores symmetrisch is, kan de *Wilcoxon signed rank toets* gebruikt worden om een verschil tussen de medianen van gepaarde groepen te toetsen.[^3] Als de verdeling van verschilscores niet symmetrisch is, gebruik dan de gepaarde [tekentoets](27-Tekentoets-II-R.html) om medianen te toetsen.\n",
    "<!-- ## /TEKSTBLOK: link1.R-->\n",
    "\n",
    "# Onderwijscasus\n",
    "<div id =\"casus\">\n",
    "\n",
    "De directeur van de Academie Mens & Maatschappij wil bekijken hoe het inkomen van zijn alumni zich ontwikkelt nadat zij zijn afgestudeerd. Hij is nieuwsgierig of het inkomen gedurende deze jaren groeit of juist stagneert voor deze alumni. Deze informatie is interessant om te gebruiken bij voorlichtingsactiviteiten van de Academie. Hij bekijkt het bruto jaarinkomen van de alumni één jaar na afstuderen en vergelijkt het met het bruto jaarinkomen vijf jaar na afstuderen. \n",
    "\n",
    "Dit onderzoek vertaalt zich in de volgende combinatie van hypothesen, waarbij de nulhypothese zo geformuleerd is dat er geen effect of verschil is en de alternatieve hypothese zo geformuleerd is dat er wel een effect of verschil is.\n",
    "\n",
    "*H~0~*: Er is geen verschil in de som van rangnummers van de verdeling tussen het bruto jaarinkomen van de alumni van de Academie Mens & Maatschappij één jaar na afstuderen en vijf jaar na afstuderen.\n",
    "\n",
    "*H~A~*: Er is een verschil in de som van rangnummers van de verdeling tussen het bruto jaarinkomen van de alumni van de Academie Mens & Maatschappij één jaar na afstuderen en vijf jaar na afstuderen. Een van beide verdelingen bevat hogere waarden wat betreft het bruto jaarinkomen.\n",
    " \n",
    "</div>\n",
    "\n",
    "# Assumpties\n",
    "<!-- ## TEKSTBLOK: link2.R-->\n",
    "Het meetniveau van de afhankelijke variabele is ordinaal[^10] of continu.[^1] In deze toetspagina staat een casus met continue data centraal; een casus met ordinale data met bijbehorende uitwerking is te vinden in de [Wilcoxon signed rank toets II](22-Wilcoxon-signed-rank-toets-II-R.html).\n",
    "\n",
    "De *Wilcoxon signed rank toets* is een alternatief voor de [gepaarde t-toets](02-Gepaarde-t-toets-R.html). Een voordeel van de *Wilcoxon signed rank toets* is dat de data niet aan de assumptie van normaliteit hoeven te voldoen. Maar als de data wel normaal verdeeld is, heeft de *Wilcoxon signed rank toets* minder onderscheidend vermogen[^4] dan de [gepaarde t-toets](02-Gepaarde-t-toets-R.html).[^5] Vandaar dat ondanks het voordeel van de grotere robuustheid minder vaak voor de *Wilcoxon signed rank toets* gekozen wordt. \n",
    "<!-- ## /TEKSTBLOK: link2.R-->\n",
    "\n",
    "## Verdeling steekproef\n",
    "\n",
    "De *Wilcoxon signed rank toets* schrijft geen assumpties voor over de verdeling van de verschilscores (verschillen tussen beide meetmomenten voor alle deelnemers[^19]).[^5] In principe toetst de *Wilcoxon signed rank toets* een hypothese over het verschil tussen de verdelingen van twee gepaarde groepen. De *Wilcoxon signed rank toets* maakt een rangschikking van de absolute waarden van de verschilscores en telt vervolgens de rangnummers op voor de positieve en negatieve verschilscores. Het verschil tussen de som van de positieve en negatieve rangnummers bepaalt de significantie van de toets. \n",
    "\n",
    "Als er geen symmetrische verdeling van verschilscores is, doet de *Wilcoxon signed rank toets* een uitspraak over het verschil tussen verdelingen. Een verschil tussen verdelingen kan meerdere oorzaken hebben. De top of toppen van de verdelingen kunnen verschillend zijn, maar ook de spreiding van de verdeling kan verschillen. In alle gevallen is er echter een verschil tussen de som van de rangnummers van de verdelingen. In andere woorden, de ene verdeling bevat hogere waarden dan de andere verdeling. Benoem daarom de sommen van positieve en negatieve rangnummers in de rapportage en visualiseer de verdeling van beide gepaarde groepen om duidelijk te maken op welke manier de verdelingen van elkaar verschillen.\n",
    "\n",
    "<!-- ## TEKSTBLOK: link3.R-->\n",
    "Als de verschilscores echter symmetrisch zijn, toetst de *Wilcoxon signed rank toets* ook een hypothese over het verschil tussen de medianen van twee gepaarde groepen. In dat geval heeft de *Wilcoxon signed rank toets* een hoger onderscheidend vermogen[^4] dan de [tekentoets](06-Tekentoets-R.html) om medianen te toetsen.[^5] De [tekentoets](06-Tekentoets-R.html) vereist niet dat de verschilscores symmetrisch zijn en toetst alleen een hypothese over het verschil tussen medianen van gepaarde groepen.\n",
    "<!-- ## /TEKSTBLOK: link3.R-->\n",
    "\n",
    "# Effectmaat\n",
    "\n",
    "De p-waarde geeft aan of een (mogelijk) verschil tussen twee groepen significant is. De grootte van het verschil of effect is echter ook relevant. Een effectmaat is een gestandaardiseerde maat die de grootte van een effect weergeeft, zodat effecten van verschillende onderzoeken met elkaar vergeleken kunnen worden.[^6] \n",
    "\n",
    "De *Wilcoxon signed rank toets* heeft als effectmaat *r*. Een indicatie om *r* te interpreteren is: rond 0,1 is het een klein effect, rond 0,3 is het een gemiddeld effect en rond 0,5 is het een groot effect.[^8] De effectmaat *r* wordt voor de *Wilcoxon signed rank toets* berekend door de *z*-waarde behorend bij de p-waarde van de toets te delen door de wortel van het aantal deelnemers, i.e. $\\frac{z}{\\sqrt{N}}$.[^8] Een correlatie tussen twee variabelen wordt vaak ook aangeduid met het symbool *r*. Beide zijn effectmaten, maar er is verder geen verband tussen de correlatie en de effectmaat van de *Wilcoxon signed rank toets*."
   ]
  },
  {
   "cell_type": "markdown",
   "id": "ccb46332",
   "metadata": {
    "lines_to_next_cell": 0
   },
   "source": [
    "# Uitvoering\n",
    "<!-- ## TEKSTBLOK: Dataset-inladen.R-->\n",
    "Er is data ingeladen met het bruto jaarinkomen van alumni van de Academie Mens & Maatschappij genaamd `Alumni_jaarinkomen`. De directeur wil een vergelijking maken tussen het inkomen één jaar na afstuderen (meetmoment T~1~) en vijf jaar na afstuderen (meetmoment T~2~).\n",
    "<!-- ## /TEKSTBLOK: Dataset-inladen.R-->\n",
    "\n",
    "## De data bekijken\n",
    "<!-- ## TEKSTBLOK: Data-bekijken.R -->\n",
    "Gebruik `head()` en `tail()` om de structuur van de data te bekijken.\n",
    "<!-- ## /TEKSTBLOK: Data-bekijken.R -->\n",
    "\n",
    "<!-- ## OPENBLOK: Data-bekijken.R -->"
   ]
  },
  {
   "cell_type": "code",
   "execution_count": null,
   "id": "ceed2bea",
   "metadata": {
    "collapse": true,
    "lines_to_next_cell": 0,
    "name": "data bekijken"
   },
   "outputs": [],
   "source": [
    "## Eerste 6 observaties\n",
    "head(Alumni_jaarinkomens)\n",
    "\n",
    "## Laatste 6 observaties\n",
    "tail(Alumni_jaarinkomens)"
   ]
  },
  {
   "cell_type": "markdown",
   "id": "3b098c45",
   "metadata": {
    "lines_to_next_cell": 0
   },
   "source": [
    "<!-- ## /OPENBLOK: Data-bekijken.R -->\n",
    "\n",
    "<!-- ## TEKSTBLOK: Data-beschrijven.R-->\n",
    "Bekijk de groepsgrootte en de mediaan  van de data met `length()` en `median()`. Omdat inkomens vaak een scheve verdeling hebben, is de mediaan informatiever dan het gemiddelde.\n",
    "<!-- ## /TEKSTBLOK: Data-beschrijven.R-->\n",
    "<!-- ## OPENBLOK: Data-selecteren.R-->"
   ]
  },
  {
   "cell_type": "code",
   "execution_count": null,
   "id": "4e482527",
   "metadata": {
    "lines_to_next_cell": 0,
    "name": "data selecteren"
   },
   "outputs": [],
   "source": [
    "Alumni_jaarinkomens_T1 <- Alumni_jaarinkomens$Inkomen[Alumni_jaarinkomens$Meetmoment == \"T1\"]\n",
    "Alumni_jaarinkomens_T2 <- Alumni_jaarinkomens$Inkomen[Alumni_jaarinkomens$Meetmoment == \"T2\"]"
   ]
  },
  {
   "cell_type": "markdown",
   "id": "e9e75841",
   "metadata": {
    "lines_to_next_cell": 0
   },
   "source": [
    "<!-- ## /OPENBLOK: Data-selecteren.R-->\n",
    "\n",
    "<div class=\"col-container\">\n",
    "  <div class=\"col\">\n",
    "<!-- ## OPENBLOK: Data-beschrijven-1.R -->"
   ]
  },
  {
   "cell_type": "code",
   "execution_count": null,
   "id": "a6b70668",
   "metadata": {
    "collapse": true,
    "lines_to_next_cell": 0,
    "name": "data beschrijven 1"
   },
   "outputs": [],
   "source": [
    "length(Alumni_jaarinkomens_T1)\n",
    "median(Alumni_jaarinkomens_T1)"
   ]
  },
  {
   "cell_type": "markdown",
   "id": "887dcb47",
   "metadata": {
    "lines_to_next_cell": 0
   },
   "source": [
    "<!-- ## /OPENBLOK: Data-beschrijven-1.R -->\n",
    "  </div>\n",
    "  <div class=\"col\">\n",
    "<!-- ## OPENBLOK: Data-beschrijven-2.R -->"
   ]
  },
  {
   "cell_type": "code",
   "execution_count": null,
   "id": "7ad3ed84",
   "metadata": {
    "collapse": true,
    "lines_to_next_cell": 0,
    "name": "Data beschrijven 2"
   },
   "outputs": [],
   "source": [
    "length(Alumni_jaarinkomens_T2)\n",
    "median(Alumni_jaarinkomens_T2)"
   ]
  },
  {
   "cell_type": "markdown",
   "id": "c88167b2",
   "metadata": {
    "lines_to_next_cell": 0
   },
   "source": [
    "<!-- ## /OPENBLOK: Data-beschrijven-2.R -->\n",
    "  </div>\n",
    "</div>\n",
    "<!-- ## CLOSEDBLOK: Data-beschrijven-2.R -->"
   ]
  },
  {
   "cell_type": "code",
   "execution_count": null,
   "id": "4fe2b29d",
   "metadata": {
    "echo": true,
    "lines_to_next_cell": 0,
    "name": "data beschrijven als object",
    "tags": [
     "remove_cell"
    ]
   },
   "outputs": [],
   "source": [
    "vMed_T1 <- median(Alumni_jaarinkomens_T1)\n",
    "vN_T1 <- length(Alumni_jaarinkomens_T1)\n",
    "vMed_T2 <- median(Alumni_jaarinkomens_T2)\n",
    "vN_T2 <- length(Alumni_jaarinkomens_T2)"
   ]
  },
  {
   "cell_type": "markdown",
   "id": "7e3e3bfd",
   "metadata": {
    "lines_to_next_cell": 0
   },
   "source": [
    "<!-- ## /CLOSEDBLOK: Data-beschrijven-2.R -->\n",
    "\n",
    "<!-- ## TEKSTBLOK: Data-beschrijven3.R-->\n",
    "* Mediaan bruto jaarinkomen op T~1~: `r paste0(\"€\",format(vMed_T1, scientific = FALSE))` \n",
    "* Mediaan bruto jaarinkomen op T~2~: `r paste0(\"€\",format(vMed_T2, scientific = FALSE))` \n",
    "* Aangezien de gegevens gepaard zijn, zijn de groepsgroottes op beide meetmomenten gelijk: *n~T1~* = `r vN_T1` en *n~T2~* = `r vN_T2`\n",
    "\n",
    "<!-- ## /TEKSTBLOK: Data-beschrijven3.R-->\n",
    "\n",
    "## De data visualiseren\n",
    "\n",
    "Maak een histogram[^18] om de verdeling van de bruto jaarinkomens van de alumni één jaar en vijf jaar na afstuderen visueel weer te geven.[^11]\n",
    "\n",
    "<!-- ## OPENBLOK: Histogram1.R -->"
   ]
  },
  {
   "cell_type": "code",
   "execution_count": null,
   "id": "25dccfdd",
   "metadata": {
    "lines_to_next_cell": 0,
    "message": false,
    "name": "histogram",
    "warnings": false
   },
   "outputs": [],
   "source": [
    "## Histogram met ggplot2\n",
    "library(ggplot2)\n",
    "\n",
    "ggplot(Alumni_jaarinkomens,\n",
    "  aes(x = Inkomen)) +\n",
    "  geom_histogram(color = \"grey30\",\n",
    "                 fill = \"#0089CF\",\n",
    "                 binwidth = 2000) +\n",
    "  facet_wrap(~ Meetmoment, labeller = labeller(Meetmoment = c(T1 = \"Een jaar na afstuderen\", T2 = \"Vijf jaar na afstuderen\"))) +\n",
    "  ylab(\"Frequentie\") +\n",
    "  labs(title = \"Bruto jaarinkomen alumni Mens & Maatschappij\")"
   ]
  },
  {
   "cell_type": "markdown",
   "id": "6ef615b4",
   "metadata": {
    "lines_to_next_cell": 0
   },
   "source": [
    "<!-- ## /OPENBLOK: Histogram1.R -->\n",
    "\n",
    "Op beide meetmomenten is te zien dat de meeste alumni tussen de 0 en €35.000 euro per jaar verdienen en dat een paar alumni hierboven zit. Beide verdelingen hebben één top, maar zijn niet symmetrisch omdat de meerderheid van de observaties links van de top ligt. Beide verdeling lijken niet echt op elkaar qua vorm en spreiding.\n",
    "\n",
    "Maak vervolgens een histogram van de verschilscores om te onderzoeken of deze verdeling symmetrisch is.\n",
    "\n",
    "<!-- ## OPENBLOK: Histogram2.R -->"
   ]
  },
  {
   "cell_type": "code",
   "execution_count": null,
   "id": "dacfb2e1",
   "metadata": {
    "lines_to_next_cell": 0,
    "message": false,
    "name": "histogram2",
    "warnings": false
   },
   "outputs": [],
   "source": [
    "# Maak een dataset met de verschilscores\n",
    "Alumni_verschilscores <- data.frame(Verschilscores = Alumni_jaarinkomens$Inkomen[Alumni_jaarinkomens$Meetmoment == \"T2\"] - Alumni_jaarinkomens$Inkomen[Alumni_jaarinkomens$Meetmoment == \"T1\"])\n",
    "\n",
    "## Histogram met ggplot2\n",
    "library(ggplot2)\n",
    "\n",
    "ggplot(Alumni_verschilscores,\n",
    "  aes(x = Verschilscores)) +\n",
    "  geom_histogram(color = \"grey30\",\n",
    "                 fill = \"#0089CF\",\n",
    "                 binwidth = 250) +\n",
    "  geom_density(alpha = .2, adjust = 1) +\n",
    "  ylab(\"Frequentiedichtheid\") +\n",
    "  labs(title = \"Verschilscores bruto jaarinkomen alumni Mens & Maatschappij\")"
   ]
  },
  {
   "cell_type": "markdown",
   "id": "f5e71305",
   "metadata": {
    "lines_to_next_cell": 0
   },
   "source": [
    "<!-- ## /OPENBLOK: Histogram2.R -->\n",
    "\n",
    "De verdeling van de verschilscores bevat voornamelijk positieve waarden en een paar negatieve waarden; de meeste alumni zijn er dus in bruto jaarinkomen op vooruitgegaan. De verdeling is niet symmetrisch. Gebruik de *Wilcoxon signed rank toets* dus niet om een uitspraak te doen over het verschil in medianen.\n",
    "\n",
    "## Wilcoxon signed rank toets\n",
    "<!-- ## TEKSTBLOK: Wilcoxon-signed-rank-toets.R -->\n",
    "Voer de *Wilcoxon signed rank toets* uit om de vraag te beantwoorden of de verdeling van de bruto jaarinkomens van alumni verschillend is voor de inkomens één jaar en vijf jaar na afstuderen. Gebruik de functie `wilcox.test()` met als eerste argument `Inkomen ~ Meetmoment` waarin `Inkomen` de afhankelijke variabele is en `Meetmoment` de onafhankelijke variabele is die twee meetmomenten aangeeft. Gebruik het argument `paired = TRUE` om aan te geven dat de twee meetmomenten aan elkaar gepaard zijn. Toets tweezijdig door het argument `alternative = \"two.sided\"` te gebruiken.\n",
    "<!-- ## /TEKSTBLOK: Wilcoxon-signed-rank-toets.R -->\n",
    "\n",
    "<!-- ## OPENBLOK: Wilcoxon-signed-rank-toets.R -->"
   ]
  },
  {
   "cell_type": "code",
   "execution_count": null,
   "id": "4e72a874",
   "metadata": {
    "lines_to_next_cell": 0,
    "name": "wilcox test"
   },
   "outputs": [],
   "source": [
    "wilcox.test(Inkomen ~ Meetmoment, Alumni_jaarinkomens,\n",
    "            paired = TRUE, \n",
    "            alternative = \"two.sided\")"
   ]
  },
  {
   "cell_type": "markdown",
   "id": "feb1fc6d",
   "metadata": {
    "lines_to_next_cell": 0
   },
   "source": [
    "<!-- ## /OPENBLOK: Wilcoxon-signed-rank-toets.R -->\n",
    "\n",
    "<!-- ## OPENBLOK: Wilcoxon-signed-rank-toets2.R -->\n",
    "Bereken de effectmaat *r* vervolgens op basis van de p-waarde van de *Wilcoxon signed rank toets*."
   ]
  },
  {
   "cell_type": "code",
   "execution_count": null,
   "id": "0c047a9f",
   "metadata": {
    "lines_to_next_cell": 0,
    "name": "effectgrootte"
   },
   "outputs": [],
   "source": [
    "# Sla de p-waarde op\n",
    "pwaarde <- wilcox.test(Inkomen ~ Meetmoment, \n",
    "                       Alumni_jaarinkomens, \n",
    "                       paired = TRUE, \n",
    "                       alternative = \"two.sided\")$p.value\n",
    "\n",
    "# Bereken de effectgrootte voor een tweezijdige toets\n",
    "r <- abs(qnorm(pwaarde/2)) / sqrt(length(Alumni_jaarinkomens_T1))\n",
    "# Bereken de effectgrootte voor een eenzijdige toets\n",
    "#r <- abs(qnorm(pwaarde)) / sqrt(length(Alumni_jaarinkomens_T1))\n",
    "\n",
    "# Print de effectgrootte\n",
    "paste(\"De effectmaat is\", r)\n"
   ]
  },
  {
   "cell_type": "markdown",
   "id": "458dbb3a",
   "metadata": {
    "lines_to_next_cell": 0
   },
   "source": [
    "<!-- ## /OPENBLOK: Wilcoxon-signed-rank-toets2.R -->\n",
    "\n",
    "Bereken de aantallen en de sommen van positieve en negatieve rangnummers op basis van de verschilscores.\n",
    "\n",
    "<!-- ## OPENBLOK: Wilcoxon-signed-rank-toets3.R -->"
   ]
  },
  {
   "cell_type": "code",
   "execution_count": null,
   "id": "f303234f",
   "metadata": {
    "collapse": true,
    "lines_to_next_cell": 0,
    "name": "sommen"
   },
   "outputs": [],
   "source": [
    "# Bereken verschilscores\n",
    "Verschilscores <- Alumni_jaarinkomens$Inkomen[Alumni_jaarinkomens$Meetmoment == \"T2\"] - Alumni_jaarinkomens$Inkomen[Alumni_jaarinkomens$Meetmoment == \"T1\"]\n",
    "\n",
    "# Rangschik de absolute waarden van verschilscores\n",
    "Rangnummers <- rank(abs(Verschilscores))\n",
    "\n",
    "# Maak een vector met daarin de tekens (plus of min) van verschilscores)\n",
    "Tekens <- sign(Verschilscores)\n",
    "\n",
    "# Bereken het aantal en de som van de positieve rangnummers\n",
    "N_positief <- length(Tekens[Tekens == 1])\n",
    "Som_positief <- sum(Rangnummers[Tekens == 1])\n",
    "\n",
    "# Bereken het aantal en de som van de negatieve rangnummers\n",
    "N_negatief <- length(Tekens[Tekens == -1])\n",
    "Som_negatief <- sum(Rangnummers[Tekens == -1])\n",
    "\n",
    "# Print de resultaten\n",
    "N_positief\n",
    "Som_positief\n",
    "N_negatief\n",
    "Som_negatief\n"
   ]
  },
  {
   "cell_type": "markdown",
   "id": "739ffc55",
   "metadata": {},
   "source": [
    "<!-- ## /OPENBLOK: Wilcoxon-signed-rank-toets3.R -->"
   ]
  },
  {
   "cell_type": "markdown",
   "id": "4a34c567",
   "metadata": {
    "lines_to_next_cell": 0
   },
   "source": [
    "<!-- ## CLOSEDBLOK: Wilcoxon-signed-rank-toets.R -->"
   ]
  },
  {
   "cell_type": "code",
   "execution_count": null,
   "id": "4e6887e7",
   "metadata": {
    "echo": true,
    "lines_to_next_cell": 0,
    "name": "wilcox test als object",
    "tags": [
     "remove_cell"
    ]
   },
   "outputs": [],
   "source": [
    "wilcox <- wilcox.test(Inkomen ~ Meetmoment, Alumni_jaarinkomens, paired = TRUE, alternative = \"two.sided\")\n",
    "vVstatistic <- Round_and_format(wilcox$statistic)"
   ]
  },
  {
   "cell_type": "markdown",
   "id": "79b2527e",
   "metadata": {},
   "source": [
    "<!-- ## /CLOSEDBLOK: Wilcoxon-signed-rank-toets.R -->\n",
    "\n",
    "<!-- ## TEKSTBLOK: Wilcoxon-signed-rank-toets4.R -->\n",
    "* *V* = `r vVstatistic`, *p* < 0,0001 , *r* = `r Round_and_format(r)`\n",
    "* De p-waarde is kleiner dan 0,05, dus de H~0~ wordt verworpen[^9]\n",
    "* De toetsstatistiek *V* is in deze casus gelijk aan de som van de negatieve rangnummers\n",
    "* Het aantal positieve rangnummers is `r N_positief`; de som is `r format(round(Som_positief), scientific = FALSE)`\n",
    "* Het aantal negatieve rangnummers is `r N_negatief`; de som is `r round(Som_negatief)`\n",
    "* De som van de positieve rangnummers is hoger dan de som van de negatieve rangnummers De verdeling van de bruto jaarinkomens bevat dus hogere waarden vijf jaar na afstuderen.\n",
    "* Effectmaat is `r Round_and_format(r)`, dus een groot effect"
   ]
  },
  {
   "cell_type": "markdown",
   "id": "c9e7790e",
   "metadata": {
    "lines_to_next_cell": 0
   },
   "source": [
    "<!-- ## /TEKSTBLOK: Wilcoxon-signed-rank-toets4.R -->\n",
    "\n",
    "# Rapportage\n",
    "<!-- ## TEKSTBLOK: Rapportage.R -->\n",
    "De *Wilcoxon signed rank toets* is uitgevoerd om de vraag te beantwoorden of de verdeling van het bruto jaarinkomen van de alumni van de Academie Mens & Maatschappij verschillend is voor de inkomens één jaar na afstuderen en vijf jaar na afstuderen. De resultaten van de toets laten zien dat er een significant verschil is tussen het bruto jaarinkomen van de alumni van de Academie Mens & Maatschappij één jaar en vijf jaar na afstuderen, *V* = `r vVstatistic`, *p* < 0,0001, *r* = `r Round_and_format(r)`. Er zijn `r N_positief` alumni die vijf jaar na afstuderen meer verdienen dan één jaar na afstuderen (som van rangnummers is `r format(round(Som_positief), scientific = FALSE)`) en er zijn `r N_negatief` alumni die vijf jaar na afstuderen minder verdienen dan één jaar na afstuderen (som van rangnummers is `r Som_negatief`). Alumni lijken dus meer te verdienen wanneer ze vijf jaar afgestudeerd zijn.\n",
    "<!-- ## /TEKSTBLOK: Rapportage.R -->\n",
    "\n",
    "<!-- ## CLOSEDBLOK: Footer.R -->"
   ]
  },
  {
   "cell_type": "code",
   "execution_count": null,
   "id": "73df39f7",
   "metadata": {
    "code": "#R_CODE#readLines(paste0(here::here(),\"/01. Includes/code/Footer.R\"))",
    "include": true,
    "lines_to_next_cell": 0,
    "name": "footer",
    "results": "asis",
    "tags": [
     "remove_input"
    ]
   },
   "outputs": [],
   "source": []
  },
  {
   "cell_type": "markdown",
   "id": "4bcd4d89",
   "metadata": {},
   "source": [
    "<!-- ## /CLOSEDBLOK: Footer.R -->\n",
    "\n",
    "[^1]: Laerd Statistics (2018). *Wilcoxon Signed-Rank Test using SPSS Statistics*. https://statistics.laerd.com/spss-tutorials/wilcoxon-signed-rank-test-using-spss-statistics.php\n",
    "[^3]: Statistics How To (27 mei 2018). *One Sample Median Test*. [Statistics How to](https://www.statisticshowto.datasciencecentral.com/one-sample-median-test/).\n",
    "[^4]: Onderscheidend vermogen, in het Engels power genoemd, is de kans dat de nulhypothese verworpen wordt wanneer de alternatieve hypothese waar is.  \n",
    "[^5]: Field, A. (2013). *Discovering statistics using IBM SPSS statistics*. Sage.\n",
    "[^6]: Field, A., Miles, J., & Field, Z. (2012). *Discovering statistics using R*. London: Sage publications.\n",
    "[^8]: Allen, P. & Bennett, K. (2012). *SPSS A practical Guide version 20.0*. Cengage Learning Australia Pty Limited.\n",
    "[^9]: In dit voorbeeld wordt uitgegaan van een waarschijnlijkheid van 95% c.q. een p-waardegrens van 0,05. De grens is naar eigen inzicht aan te passen; houd hierbij rekening met type I en type II fouten.\n",
    "[^10]: Een ordinale variabele is een categorische variabele waarbij de categorieën geordend kunnen worden. Een voorbeeld is de variabele beoordeling met de categorieën Onvoldoende, Voldoende, Goed en Uitstekend.\n",
    "[^11]: De breedte van de staven van het histogram worden hier automatisch bepaald, maar kunnen handmatig aangepast worden. Aangezien de breedte van de staven bepalend zijn voor de indruk die de visualisatie geeft, is het verstandig om hier goed op te letten.\n",
    "[^12]: Bij de *Wilcoxon signed rank toets* en andere nonparametrische toetsen wordt de data eerst gerangschikt zodat elke observatie een rangnummer toegewezen krijgt. Deze rangnummers worden vervolgens gebruikt om de toets uit te voeren.\n",
    "[^18]: De breedte van de staven van het histogram wordt vaak automatisch bepaald, maar kan handmatig aangepast worden. Aangezien de breedte van de staven bepalend zijn voor de indruk die de visualisatie geeft, is het verstandig om hier goed op te letten.\n",
    "[^19]: Met een deelnemer wordt het object bedoeld dat geobserveerd wordt, bijvoorbeeld een student, een inwoner van Nederland, een opleiding of een organisatie. Met een observatie wordt de waarde bedoeld die de deelnemer heeft voor een bepaalde variabele. Een deelnemer heeft dus meestal een observatie voor meerdere variabelen."
   ]
  }
 ],
 "metadata": {
  "jupytext": {
   "cell_metadata_filter": "message,tags,name,warning,echo,code,results,collapse,include,warnings,-all",
   "main_language": "R",
   "notebook_metadata_filter": "-all"
  }
 },
 "nbformat": 4,
 "nbformat_minor": 5
}
