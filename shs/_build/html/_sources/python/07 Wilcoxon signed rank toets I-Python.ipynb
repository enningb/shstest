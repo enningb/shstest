{
 "cells": [
  {
   "cell_type": "raw",
   "id": "ff3b716f",
   "metadata": {},
   "source": [
    "---\n",
    "title: \"Wilcoxon signed rank toets\"\n",
    "output:\n",
    "  html_document:\n",
    "    theme: lumen\n",
    "    toc: yes\n",
    "    toc_depth: 2\n",
    "    toc_float: \n",
    "      collapsed: FALSE \n",
    "    number_sections: true\n",
    "    includes:\n",
    "      in_header: [\"../01. Includes/html/nocache.html\", \"../01. Includes/html/favicon.html\", \"../01. Includes/html/analytics.html\"]\n",
    "  keywords: [statistisch handboek, studiedata]\n",
    "---"
   ]
  },
  {
   "cell_type": "markdown",
   "id": "68724be8",
   "metadata": {
    "lines_to_next_cell": 0
   },
   "source": [
    "<!-- ## CLOSEDBLOK: Functies.R -->"
   ]
  },
  {
   "cell_type": "code",
   "execution_count": null,
   "id": "0fbc6152",
   "metadata": {
    "include": true,
    "lines_to_next_cell": 0,
    "message": false,
    "name": "functies",
    "results": "asis",
    "tags": [
     "remove_input"
    ],
    "warning": false
   },
   "outputs": [],
   "source": [
    "%%R\n",
    "library(here)\n",
    "if (!exists(\"Substitute_var\")) {\n",
    "  ## Installeer packages en functies\n",
    "  source(paste0(here::here(), \"/99. Functies en Libraries/00. Voorbereidingen.R\"), echo = FALSE)\n",
    "}"
   ]
  },
  {
   "cell_type": "markdown",
   "id": "99a75b5b",
   "metadata": {
    "lines_to_next_cell": 0
   },
   "source": [
    "<!-- ## /CLOSEDBLOK: Functies.R -->\n",
    "\n",
    "<!-- ## CLOSEDBLOK: CSS -->\n",
    "<style>\n",
    "`r htmltools::includeHTML(paste0(here::here(),\"/01. Includes/css/Stylesheet_SHHO.css\"))`\n",
    "</style>\n",
    "<!-- ## /CLOSEDBLOK: CSS -->\n",
    "\n",
    "<!-- ## CLOSEDBLOK: Header.R -->"
   ]
  },
  {
   "cell_type": "code",
   "execution_count": null,
   "id": "03fe8e15",
   "metadata": {
    "code": "#R_CODE#readLines(paste0(here::here(),\"/01. Includes/code/Header.R\"))",
    "include": true,
    "lines_to_next_cell": 0,
    "name": "header",
    "results": "asis",
    "tags": [
     "remove_input"
    ]
   },
   "outputs": [],
   "source": [
    "%%R\n"
   ]
  },
  {
   "cell_type": "markdown",
   "id": "5e46dba7",
   "metadata": {
    "lines_to_next_cell": 0
   },
   "source": [
    "<!-- ## /CLOSEDBLOK: Header.R -->\n",
    "\n",
    "<!-- ## CLOSEDBLOK: Status.R -->"
   ]
  },
  {
   "cell_type": "code",
   "execution_count": null,
   "id": "d1f01a92",
   "metadata": {
    "code": "#R_CODE#readLines(paste0(here::here(),\"/01. Includes/code/Status.R\"))",
    "include": true,
    "lines_to_next_cell": 0,
    "name": "status",
    "results": "asis",
    "tags": [
     "remove_input"
    ]
   },
   "outputs": [],
   "source": [
    "%%R\n"
   ]
  },
  {
   "cell_type": "markdown",
   "id": "e5d8b64d",
   "metadata": {
    "lines_to_next_cell": 0
   },
   "source": [
    "<!-- ## /CLOSEDBLOK: Status.R -->\n",
    "\n",
    "<!-- ## CLOSEDBLOK: Reticulate.py -->"
   ]
  },
  {
   "cell_type": "code",
   "execution_count": null,
   "id": "c44be3ce",
   "metadata": {
    "include": true,
    "lines_to_next_cell": 0,
    "message": false,
    "name": "reticulate",
    "tags": [
     "remove_input"
    ],
    "warning": false
   },
   "outputs": [],
   "source": [
    "%%R\n",
    "library(reticulate)\n",
    "knitr::knit_engines$set(python = reticulate::eng_python)"
   ]
  },
  {
   "cell_type": "markdown",
   "id": "40aa966b",
   "metadata": {
    "lines_to_next_cell": 0
   },
   "source": [
    "<!-- ## /CLOSEDBLOK: Reticulate.py -->\n",
    "\n",
    "<!-- ## OPENBLOK: Data-aanmaken.py -->"
   ]
  },
  {
   "cell_type": "code",
   "execution_count": null,
   "id": "a793ff0f",
   "metadata": {
    "echo": true,
    "lines_to_next_cell": 0,
    "name": "aanmaken data",
    "tags": [
     "remove_cell",
     "remove_output"
    ]
   },
   "outputs": [],
   "source": [
    "%%R\n",
    "source(paste0(here::here(),\"/01. Includes/data/07.R\"))"
   ]
  },
  {
   "cell_type": "markdown",
   "id": "da0acb76",
   "metadata": {},
   "source": [
    "<!-- ## /OPENBLOK: Data-aanmaken.py -->\n",
    "\n",
    "# Toepassing\n",
    "<!-- ## TEKSTBLOK: link1.py-->\n",
    "Gebruik de *Wilcoxon signed rank toets* om te toetsen of de som van de rangnummers van de verdelingen van twee gepaarde groepen van elkaar verschillen.[^1] Deze toets is een alternatief voor de [gepaarde t-toets](02-Gepaarde-t-toets-Python.html) als de verschilscores van de gepaarde groepen niet normaal verdeeld zijn. Alleen als de verdeling van de verschilscores symmetrisch is, kan de *Wilcoxon signed rank toets* gebruikt worden om een verschil tussen de medianen van gepaarde groepen te toetsen.[^3] Als de verdeling van verschilscores niet symmetrisch is, gebruik dan de gepaarde [tekentoets](27-Tekentoets-II-Python.html) om medianen te toetsen.\n",
    "<!-- ## /TEKSTBLOK: link1.py-->\n",
    "\n",
    "# Onderwijscasus\n",
    "<div id =\"casus\">\n",
    "\n",
    "De directeur van de Academie Mens & Maatschappij wil bekijken hoe het inkomen van zijn alumni zich ontwikkelt nadat zij zijn afgestudeerd. Hij is nieuwsgierig of het inkomen gedurende deze jaren groeit of juist stagneert voor deze alumni. Deze informatie is interessant om te gebruiken bij voorlichtingsactiviteiten van de Academie. Hij bekijkt het bruto jaarinkomen van de alumni één jaar na afstuderen en vergelijkt het met het bruto jaarinkomen vijf jaar na afstuderen. \n",
    "\n",
    "Dit onderzoek vertaalt zich in de volgende combinatie van hypothesen, waarbij de nulhypothese zo geformuleerd is dat er geen effect of verschil is en de alternatieve hypothese zo geformuleerd is dat er wel een effect of verschil is.\n",
    "\n",
    "*H~0~*: Er is geen verschil in de som van rangnummers van de verdeling tussen het bruto jaarinkomen van de alumni van de Academie Mens & Maatschappij één jaar na afstuderen en vijf jaar na afstuderen.\n",
    "\n",
    "*H~A~*: Er is een verschil in de som van rangnummers van de verdeling tussen het bruto jaarinkomen van de alumni van de Academie Mens & Maatschappij één jaar na afstuderen en vijf jaar na afstuderen. Een van beide verdelingen bevat hogere waarden wat betreft het bruto jaarinkomen.\n",
    " \n",
    "</div>\n",
    "\n",
    "# Assumpties\n",
    "<!-- ## TEKSTBLOK: link2.py-->\n",
    "Het meetniveau van de afhankelijke variabele is ordinaal[^10] of continu.[^1] In deze toetspagina staat een casus met continue data centraal; een casus met ordinale data is te vinden in [een andere toetspagina](22-Wilcoxon-signed-rank-toets-II-Python.html).\n",
    "\n",
    "De *Wilcoxon signed rank toets* is een alternatief voor de [gepaarde t-toets](02-Gepaarde-t-toets-Python.html). Een voordeel van de *Wilcoxon signed rank toets* is dat de data niet aan de assumptie van normaliteit hoeven te voldoen. Maar als de data wel normaal verdeeld is, heeft de *Wilcoxon signed rank toets* minder onderscheidend vermogen[^4] dan de [gepaarde t-toets](02-Gepaarde-t-toets-Python.html).[^5] Vandaar dat ondanks het voordeel van de grotere robuustheid minder vaak voor de *Wilcoxon signed rank toets* gekozen wordt. \n",
    "<!-- ## /TEKSTBLOK: link2.py-->\n",
    "\n",
    "## Verdeling steekproef\n",
    "\n",
    "De *Wilcoxon signed rank toets* schrijft geen assumpties voor over de verdeling van de verschilscores (verschillen tussen beide meetmomenten voor alle deelnemers[^19]).[^5] In principe toetst de *Wilcoxon signed rank toets* een hypothese over het verschil tussen de verdelingen van twee gepaarde groepen. De *Wilcoxon signed rank toets* maakt een rangschikking van de absolute waarden van de verschilscores en telt vervolgens de rangnummers op voor de positieve en negatieve verschilscores. Het verschil tussen de som van de positieve en negatieve rangnummers bepaalt de significantie van de toets. \n",
    "\n",
    "Als er geen symmetrische verdeling van verschilscores is, doet de *Wilcoxon signed rank toets* een uitspraak over het verschil tussen verdelingen. Een verschil tussen verdelingen kan meerdere oorzaken hebben. De top of toppen van de verdelingen kunnen verschillend zijn, maar ook de spreiding van de verdeling kan verschillen. In alle gevallen is er echter een verschil tussen de som van de rangnummers van de verdelingen. In andere woorden, de ene verdeling bevat hogere waarden dan de andere verdeling. Benoem daarom de sommen van positieve en negatieve rangnummers in de rapportage en visualiseer de verdeling van beide gepaarde groepen om duidelijk te maken op welke manier de verdelingen van elkaar verschillen.\n",
    "\n",
    "<!-- ## TEKSTBLOK: link3.R-->\n",
    "Als de verschilscores echter symmetrisch zijn, toetst de *Wilcoxon signed rank toets* ook een hypothese over het verschil tussen de medianen van twee gepaarde groepen. In dat geval heeft de *Wilcoxon signed rank toets* een hoger onderscheidend vermogen[^4] dan de [tekentoets](06-Tekentoets-R.html) om medianen te toetsen.[^5] De [tekentoets](06-Tekentoets-R.html) vereist niet dat de verschilscores symmetrisch zijn en toetst alleen een hypothese over het verschil tussen medianen van gepaarde groepen.\n",
    "<!-- ## /TEKSTBLOK: link3.R-->\n",
    "\n",
    "# Effectmaat\n",
    "\n",
    "De p-waarde geeft aan of een (mogelijk) verschil tussen twee groepen significant is. De grootte van het verschil of effect is echter ook relevant. Een effectmaat is een gestandaardiseerde maat die de grootte van een effect weergeeft, zodat effecten van verschillende onderzoeken met elkaar vergeleken kunnen worden.[^6] \n",
    "\n",
    "De *Wilcoxon signed rank toets* heeft als effectmaat *r*. Een indicatie om *r* te interpreteren is: rond 0,1 is het een klein effect, rond 0,3 is het een gemiddeld effect en rond 0,5 is het een groot effect.[^8] De effectmaat *r* wordt voor de *Wilcoxon signed rank toets* berekend door de *z*-waarde behorend bij de p-waarde van de toets te delen door de wortel van het aantal deelnemers, i.e. $\\frac{z}{\\sqrt{N}}$.[^8] Een correlatie tussen twee variabelen wordt vaak ook aangeduid met het symbool *r*. Beide zijn effectmaten, maar er is verder geen verband tussen de correlatie en de effectmaat van de *Wilcoxon signed rank toets*."
   ]
  },
  {
   "cell_type": "markdown",
   "id": "06b707ef",
   "metadata": {
    "lines_to_next_cell": 0
   },
   "source": [
    "# Uitvoering\n",
    "<!-- ## TEKSTBLOK: Dataset-inladen.py-->\n",
    "Er is data ingeladen met het bruto jaarinkomen van alumni van de Academie Mens & Maatschappij genaamd `dfAlumni_jaarinkomens`. De directeur wil een vergelijking maken tussen het inkomen één jaar na afstuderen (meetmoment T~1~) en vijf jaar na afstuderen (meetmoment T~2~).\n",
    "<!-- ## /TEKSTBLOK: Dataset-inladen.py-->\n",
    "\n",
    "## De data bekijken\n",
    "<!-- ## TEKSTBLOK: Data-bekijken.py -->\n",
    "Gebruik `<dataframe>.head()` en `<dataframe>.tail()` om de structuur van de data te bekijken.\n",
    "<!-- ## /TEKSTBLOK: Data-bekijken.py -->\n",
    "\n",
    "<!-- ## OPENBLOK: Data-bekijken.py -->"
   ]
  },
  {
   "cell_type": "code",
   "execution_count": null,
   "id": "6de064e9",
   "metadata": {
    "lines_to_next_cell": 0
   },
   "outputs": [],
   "source": [
    "# Pandas library importeren\n",
    "import pandas as pd"
   ]
  },
  {
   "cell_type": "code",
   "execution_count": null,
   "id": "f0b80bc6",
   "metadata": {
    "tags": [
     "remove_cell"
    ]
   },
   "outputs": [],
   "source": [
    "import pandas as pd\n",
    "dfAlumni_jaarinkomens = pd.DataFrame(r.Alumni_jaarinkomens)"
   ]
  },
  {
   "cell_type": "code",
   "execution_count": null,
   "id": "4d543bb5",
   "metadata": {
    "collapse": true,
    "name": "data bekijken"
   },
   "outputs": [],
   "source": [
    "## Eerste 6 observaties\n",
    "print(dfAlumni_jaarinkomens.head(6))"
   ]
  },
  {
   "cell_type": "code",
   "execution_count": null,
   "id": "4cef38e2",
   "metadata": {
    "collapse": true,
    "lines_to_next_cell": 0,
    "name": "data bekijken2f"
   },
   "outputs": [],
   "source": [
    "## Laatste 6 observaties\n",
    "print(dfAlumni_jaarinkomens.tail(6))"
   ]
  },
  {
   "cell_type": "markdown",
   "id": "3ab69fde",
   "metadata": {
    "lines_to_next_cell": 0
   },
   "source": [
    "<!-- ## /OPENBLOK: Data-bekijken.py -->\n",
    "\n",
    "<!-- ## TEKSTBLOK: Data-beschrijven.py-->\n",
    "Bekijk de grootte en de mediaan  van de data met `len()` en `numpy.median()` van het `numpy` package. Omdat inkomens vaak een scheve verdeling hebben, is de mediaan informatiever dan het gemiddelde.\n",
    "<!-- ## /TEKSTBLOK: Data-beschrijven.py-->\n",
    "<!-- ## OPENBLOK: Data-selecteren.py -->"
   ]
  },
  {
   "cell_type": "code",
   "execution_count": null,
   "id": "d124a17b",
   "metadata": {
    "lines_to_next_cell": 0,
    "name": "data selecteren"
   },
   "outputs": [],
   "source": [
    "Alumni_jaarinkomens_T1 = dfAlumni_jaarinkomens[dfAlumni_jaarinkomens[\"Meetmoment\"] == \"T1\"][\"Inkomen\"]\n",
    "Alumni_jaarinkomens_T2 = dfAlumni_jaarinkomens[dfAlumni_jaarinkomens[\"Meetmoment\"] == \"T2\"][\"Inkomen\"]"
   ]
  },
  {
   "cell_type": "markdown",
   "id": "75bf2f9b",
   "metadata": {
    "lines_to_next_cell": 0
   },
   "source": [
    "<!-- ## /OPENBLOK: Data-selecteren.py -->\n",
    "\n",
    "<div class=\"col-container\">\n",
    "  <div class=\"col\">\n",
    "<!-- ## OPENBLOK: Data-beschrijven-1.py -->"
   ]
  },
  {
   "cell_type": "code",
   "execution_count": null,
   "id": "740611d1",
   "metadata": {
    "collapse": true,
    "lines_to_next_cell": 0,
    "name": "data beschrijven 1"
   },
   "outputs": [],
   "source": [
    "import numpy as np\n",
    "print(len(Alumni_jaarinkomens_T1))\n",
    "print(np.median(Alumni_jaarinkomens_T1))"
   ]
  },
  {
   "cell_type": "markdown",
   "id": "0445e557",
   "metadata": {
    "lines_to_next_cell": 0
   },
   "source": [
    "<!-- ## /OPENBLOK: Data-beschrijven-1.py -->\n",
    "  </div>\n",
    "  <div class=\"col\">\n",
    "<!-- ## OPENBLOK: Data-beschrijven-2.py -->\n",
    "``````{python Data beschrijven 2, collapse=TRUE}\n",
    "print(len(Alumni_jaarinkomens_T2))\n",
    "print(np.median(Alumni_jaarinkomens_T2))\n",
    "```\n",
    "<!-- ## /OPENBLOK: Data-beschrijven-2.py -->\n",
    "  </div>\n",
    "</div>\n",
    "<!-- ## CLOSEDBLOK: Data-beschrijven-2.py -->"
   ]
  },
  {
   "cell_type": "code",
   "execution_count": null,
   "id": "feca5e47",
   "metadata": {
    "echo": true,
    "lines_to_next_cell": 0,
    "name": "data beschrijven als object",
    "tags": [
     "remove_cell"
    ]
   },
   "outputs": [],
   "source": [
    "vMed_T1 = np.median(Alumni_jaarinkomens_T1)\n",
    "vN_T1 = len(Alumni_jaarinkomens_T1)\n",
    "vMed_T2 = np.median(Alumni_jaarinkomens_T2)\n",
    "vN_T2 = len(Alumni_jaarinkomens_T2)"
   ]
  },
  {
   "cell_type": "markdown",
   "id": "00a89880",
   "metadata": {
    "lines_to_next_cell": 0
   },
   "source": [
    "<!-- ## /CLOSEDBLOK: Data-beschrijven-2.py -->\n",
    "\n",
    "<!-- ## TEKSTBLOK: Data-beschrijven3.py-->\n",
    "\n",
    "* Mediaan bruto jaarinkomen op T~1~: `r paste0(\"€\",format(py$vMed_T1, scientific = FALSE))` \n",
    "* Mediaan bruto jaarinkomen op T~2~: `r paste0(\"€\",format(py$vMed_T2, scientific = FALSE))` \n",
    "* Aangezien de gegevens gepaard zijn, zijn de groepsgroottes op beide meetmomenten gelijk: *n~T1~* = `r py$vN_T1` en *n~T2~* = `r py$vN_T2`\n",
    "\n",
    "<!-- ## /TEKSTBLOK: Data-beschrijven3.py-->\n",
    "\n",
    "## De data visualiseren\n",
    "\n",
    "Maak een histogram[^18] om de verdeling van de bruto jaarinkomens van de alumni één jaar en vijf jaar na afstuderen visueel weer te geven.[^11]\n",
    "\n",
    "<!-- ## OPENBLOK: Histogram1.py -->"
   ]
  },
  {
   "cell_type": "code",
   "execution_count": null,
   "id": "d0af9889",
   "metadata": {
    "lines_to_next_cell": 0,
    "name": "histogram"
   },
   "outputs": [],
   "source": [
    "## Histogram met matplotlib\n",
    "import matplotlib.pyplot as plt\n",
    "fig = plt.figure(figsize = (15, 10))\n",
    "sub1 = fig.add_subplot(1, 2, 1)\n",
    "title1 = plt.title(\"Een jaar na afstudereren\")\n",
    "hist1 = plt.hist(Alumni_jaarinkomens_T1, density = True, edgecolor = \"black\", bins = 29)\n",
    "\n",
    "sub2 = fig.add_subplot(1, 2, 2)\n",
    "title2 = plt.title(\"Vijf jaar na afstudereren\")\n",
    "hist2 = plt.hist(Alumni_jaarinkomens_T2, density = True, edgecolor = \"black\", bins = 31)\n",
    "\n",
    "main = fig.suptitle('Bruto jaarinkomen alumni Mens & Maatschappij')\n",
    "plt.show()"
   ]
  },
  {
   "cell_type": "markdown",
   "id": "4755abf3",
   "metadata": {
    "lines_to_next_cell": 0
   },
   "source": [
    "<!-- ## /OPENBLOK: Histogram1.py -->\n",
    "\n",
    "Op beide meetmomenten is te zien dat de meeste alumni tussen de 0 en €35.000 euro per jaar verdienen en dat een paar alumni hierboven zit. Beide verdelingen hebben één top, maar zijn niet symmetrisch omdat de meerderheid van de observaties links van de top ligt. Beide verdeling lijken niet echt op elkaar qua vorm en spreiding.\n",
    "\n",
    "Maak vervolgens een histogram van de verschilscores om te onderzoeken of deze verdeling symmetrisch is.\n",
    "\n",
    "<!-- ## OPENBLOK: Histogram2.py -->"
   ]
  },
  {
   "cell_type": "code",
   "execution_count": null,
   "id": "2d5a7018",
   "metadata": {
    "lines_to_next_cell": 0,
    "message": false,
    "name": "histogram2",
    "warnings": false
   },
   "outputs": [],
   "source": [
    "# Maak een variabele met de verschilscores\n",
    "Alumni_verschilscores = np.array(Alumni_jaarinkomens_T2) - np.array(Alumni_jaarinkomens_T1)\n",
    "\n",
    "## Histogram met matplotlib\n",
    "import matplotlib.pyplot as plt\n",
    "hist = plt.hist(Alumni_verschilscores, density = True, edgecolor = \"black\", bins = 9)\n",
    "title = plt.title(\"Verschilscores bruto jaarinkomen alumni Mens & Maatschappij\")\n",
    "xlab = plt.xlabel(\"Verschilscores\")\n",
    "ylab = plt.ylabel(\"Frequentiedichtheid\")\n",
    "plt.show()\n"
   ]
  },
  {
   "cell_type": "markdown",
   "id": "3bc06e87",
   "metadata": {
    "lines_to_next_cell": 0
   },
   "source": [
    "<!-- ## /OPENBLOK: Histogram2.py -->\n",
    "\n",
    "De verdeling van de verschilscores bevat voornamelijk positieve waarden en een paar negatieve waarden; de meeste alumni zijn er dus in bruto jaarinkomen op vooruitgegaan. De verdeling is niet symmetrisch. Gebruik de *Wilcoxon signed rank toets* dus niet om een uitspraak te doen over het verschil in medianen.\n",
    "\n",
    "## Wilcoxon signed rank toets\n",
    "<!-- ## TEKSTBLOK: Wilcoxon-signed-rank-toets.py -->\n",
    "Voer de *Wilcoxon signed rank toets* uit om de vraag te beantwoorden of de verdeling van de bruto jaarinkomens van alumni verschillend is voor de inkomens één jaar en vijf jaar na afstuderen. Gebruik de functie `wilcoxon()` van het `scipy` package met als eerste argument de jaarinkomens vijf jaar na afstuderen `Alumni_jaarinkomens_T2`, als tweede argument de jaarinkomens één jaar na afstuderen `Alumni_jaarinkomens_T1` en als derde argument `alternative = 'two-sided'` om tweezijdig te toetsen.\n",
    "<!-- ## /TEKSTBLOK: Wilcoxon-signed-rank-toets.py -->\n",
    "\n",
    "<!-- ## OPENBLOK: Wilcoxon-signed-rank-toets.py -->"
   ]
  },
  {
   "cell_type": "code",
   "execution_count": null,
   "id": "6da95f43",
   "metadata": {
    "lines_to_next_cell": 0
   },
   "outputs": [],
   "source": [
    "import scipy.stats as sp\n",
    "sp.wilcoxon(Alumni_jaarinkomens_T2, \n",
    "Alumni_jaarinkomens_T1,\n",
    "alternative = 'two-sided')"
   ]
  },
  {
   "cell_type": "markdown",
   "id": "e7047d56",
   "metadata": {
    "lines_to_next_cell": 0
   },
   "source": [
    "<!-- ## /OPENBLOK: Wilcoxon-signed-rank-toets.py -->\n",
    "\n",
    "<!-- ## OPENBLOK: Wilcoxon-signed-rank-toets2.py -->\n",
    "Bereken de effectmaat *r* vervolgens op basis van de p-waarde van de *Wilcoxon signed rank toets*."
   ]
  },
  {
   "cell_type": "code",
   "execution_count": null,
   "id": "4554af95",
   "metadata": {
    "lines_to_next_cell": 0,
    "name": "effectgrootte"
   },
   "outputs": [],
   "source": [
    "# Sla de p-waarde op\n",
    "stat, pval = sp.wilcoxon(Alumni_jaarinkomens_T2, Alumni_jaarinkomens_T1, alternative = 'two-sided')\n",
    "\n",
    "# Bereken de effectgrootte voor een tweezijdige toets\n",
    "Effectmaat = sp.norm.ppf(pval/2) / np.sqrt(len(Alumni_jaarinkomens_T1))\n",
    "# Bereken de effectgrootte voor een eenzijdige toets\n",
    "#r = sp.norm.ppf(pval) / np.sqrt(len(Alumni_jaarinkomens_T1))\n",
    "\n",
    "# Print de effectgrootte (vaak weergegeven als absolute waarde)\n",
    "print(np.abs(Effectmaat))\n"
   ]
  },
  {
   "cell_type": "markdown",
   "id": "b5c7eddb",
   "metadata": {
    "lines_to_next_cell": 0
   },
   "source": [
    "<!-- ## /OPENBLOK: Wilcoxon-signed-rank-toets2.py -->\n",
    "\n",
    "Bereken de aantallen en de sommen van positieve en negatieve rangnummers op basis van de verschilscores.\n",
    "\n",
    "<!-- ## OPENBLOK: Wilcoxon-signed-rank-toets3.py -->"
   ]
  },
  {
   "cell_type": "code",
   "execution_count": null,
   "id": "7737966e",
   "metadata": {
    "lines_to_next_cell": 0,
    "name": "sommen"
   },
   "outputs": [],
   "source": [
    "# Bereken verschilscores\n",
    "Verschilscores = np.array(Alumni_jaarinkomens_T2) - np.array(Alumni_jaarinkomens_T1)\n",
    "\n",
    "# Rangschik de absolute waarden van verschilscores met scipy.rankdata()\n",
    "Rangnummers = sp.rankdata(np.abs(Verschilscores))\n",
    "\n",
    "# Maak een vector met daarin de tekens (plus of min) van verschilscores) met numpy.sign()\n",
    "Tekens = np.sign(Verschilscores)\n",
    "\n",
    "# Bereken het aantal en de som van de positieve rangnummers\n",
    "N_positief = len(Tekens[Tekens == 1])\n",
    "Som_positief = np.sum(Rangnummers[Tekens == 1])\n",
    "\n",
    "# Bereken het aantal en de som van de negatieve rangnummers\n",
    "N_negatief = len(Tekens[Tekens == -1])\n",
    "Som_negatief = np.sum(Rangnummers[Tekens == -1])"
   ]
  },
  {
   "cell_type": "markdown",
   "id": "30aed9e4",
   "metadata": {},
   "source": [
    "<!-- ## /OPENBLOK: Wilcoxon-signed-rank-toets3.py -->"
   ]
  },
  {
   "cell_type": "markdown",
   "id": "b4609bff",
   "metadata": {
    "lines_to_next_cell": 0
   },
   "source": [
    "<!-- ## CLOSEDBLOK: Wilcoxon-signed-rank-toets.py -->"
   ]
  },
  {
   "cell_type": "code",
   "execution_count": null,
   "id": "31c4f283",
   "metadata": {
    "echo": true,
    "lines_to_next_cell": 0,
    "name": "wilcox test als object",
    "tags": [
     "remove_cell"
    ]
   },
   "outputs": [],
   "source": [
    "stat, pval = sp.wilcoxon(Alumni_jaarinkomens_T2, Alumni_jaarinkomens_T1, alternative = 'two-sided')"
   ]
  },
  {
   "cell_type": "markdown",
   "id": "ca0ac9bf",
   "metadata": {
    "lines_to_next_cell": 0
   },
   "source": [
    "<!-- ## /CLOSEDBLOK: Wilcoxon-signed-rank-toets.py -->\n",
    "\n",
    "<!-- ## TEKSTBLOK: Wilcoxon-signed-rank-toets4.py -->\n",
    "* *V* = `r Round_and_format(py$stat)`, *p* < 0,0001 , *r* = `r Round_and_format(abs(as.numeric(py$Effectmaat)))`\n",
    "* p-waarde < 0,05, dus de H~0~ wordt verworpen[^9]\n",
    "* De toetsstatistiek *V* is in deze casus gelijk aan de som van de negatieve rangnummers\n",
    "* Het aantal positieve rangnummers is `r py$N_positief`; de som is `r format(round(py$Som_positief), scientific = FALSE)`\n",
    "* Het aantal negatieve rangnummers is `r py$N_negatief`; de som is `r round(py$Som_negatief)`\n",
    "* De som van de positieve rangnummers is hoger dan de som van de negatieve rangnummers De verdeling van de bruto jaarinkomens bevat dus hogere waarden vijf jaar na afstuderen.\n",
    "* Effectmaat is `r Round_and_format(abs(as.numeric(py$Effectmaat)))`, dus een groot effect\n",
    "\n",
    "<!-- ## /TEKSTBLOK: Wilcoxon-signed-rank-toets4.py -->\n",
    "\n",
    "# Rapportage\n",
    "<!-- ## TEKSTBLOK: Rapportage.py -->\n",
    "De *Wilcoxon signed rank toets* is uitgevoerd om de vraag te beantwoorden of de verdeling van het bruto jaarinkomen van de alumni van de Academie Mens & Maatschappij verschillend is voor de inkomens één jaar na afstuderen en vijf jaar na afstuderen. De resultaten van de toets laten zien dat er een significant verschil is tussen het bruto jaarinkomen van de alumni van de Academie Mens & Maatschappij één jaar en vijf jaar na afstuderen, *V* = `r Round_and_format(py$stat)`, *p* < 0,0001, *r* = `r Round_and_format(abs(py$Effectmaat))`. Er zijn `r py$N_positief` alumni die vijf jaar na afstuderen meer verdienen dan één jaar na afstuderen (som van rangnummers is `r format(round(py$Som_positief), scientific = FALSE)`) en er zijn `r py$N_negatief` alumni die vijf jaar na afstuderen minder verdienen dan één jaar na afstuderen (som van rangnummers is `r py$Som_negatief`). Alumni lijken dus meer te verdienen wanneer ze vijf jaar afgestudeerd zijn.\n",
    "<!-- ## /TEKSTBLOK: Rapportage.py -->\n",
    "\n",
    "<!-- ## CLOSEDBLOK: Footer.R -->"
   ]
  },
  {
   "cell_type": "code",
   "execution_count": null,
   "id": "c4a9213f",
   "metadata": {
    "code": "#R_CODE#readLines(paste0(here::here(),\"/01. Includes/code/Footer.R\"))",
    "include": true,
    "lines_to_next_cell": 0,
    "name": "footer",
    "results": "asis",
    "tags": [
     "remove_input"
    ]
   },
   "outputs": [],
   "source": [
    "%%R\n"
   ]
  },
  {
   "cell_type": "markdown",
   "id": "c4c15b47",
   "metadata": {},
   "source": [
    "<!-- ## /CLOSEDBLOK: Footer.R -->\n",
    "\n",
    "[^1]: Laerd Statistics (2018). *Wilcoxon Signed-Rank Test using SPSS Statistics*. https://statistics.laerd.com/spss-tutorials/wilcoxon-signed-rank-test-using-spss-statistics.php\n",
    "[^3]: Statistics How To (27 mei 2018). *One Sample Median Test*. [Statistics How to](https://www.statisticshowto.datasciencecentral.com/one-sample-median-test/).\n",
    "[^4]: Onderscheidend vermogen, in het Engels power genoemd, is de kans dat de nulhypothese verworpen wordt wanneer de alternatieve hypothese waar is.  \n",
    "[^5]: Field, A. (2013). *Discovering statistics using IBM SPSS statistics*. Sage.\n",
    "[^6]: Field, A., Miles, J., & Field, Z. (2012). *Discovering statistics using R*. London: Sage publications.\n",
    "[^8]: Allen, P. & Bennett, K. (2012). *SPSS A practical Guide version 20.0*. Cengage Learning Australia Pty Limited.\n",
    "[^9]: In dit voorbeeld wordt uitgegaan van een waarschijnlijkheid van 95% c.q. een p-waardegrens van 0,05. De grens is naar eigen inzicht aan te passen; houd hierbij rekening met type I en type II fouten.\n",
    "[^10]: Een ordinale variabele is een categorische variabele waarbij de categorieën geordend kunnen worden. Een voorbeeld is de variabele beoordeling met de categorieën Onvoldoende, Voldoende, Goed en Uitstekend.\n",
    "[^11]: De breedte van de staven van het histogram worden hier automatisch bepaald, maar kunnen handmatig aangepast worden. Aangezien de breedte van de staven bepalend zijn voor de indruk die de visualisatie geeft, is het verstandig om hier goed op te letten.\n",
    "[^12]: Bij de *Wilcoxon signed rank toets* en andere nonparametrische toetsen wordt de data eerst gerangschikt zodat elke observatie een rangnummer toegewezen krijgt. Deze rangnummers worden vervolgens gebruikt om de toets uit te voeren.\n",
    "[^18]: De breedte van de staven van het histogram wordt vaak automatisch bepaald, maar kan handmatig aangepast worden. Aangezien de breedte van de staven bepalend zijn voor de indruk die de visualisatie geeft, is het verstandig om hier goed op te letten.\n",
    "[^19]: Met een deelnemer wordt het object bedoeld dat geobserveerd wordt, bijvoorbeeld een student, een inwoner van Nederland, een opleiding of een organisatie. Met een observatie wordt de waarde bedoeld die de deelnemer heeft voor een bepaalde variabele. Een deelnemer heeft dus meestal een observatie voor meerdere variabelen."
   ]
  }
 ],
 "metadata": {
  "jupytext": {
   "cell_metadata_filter": "echo,message,warning,collapse,results,tags,warnings,include,code,name,-all",
   "main_language": "python",
   "notebook_metadata_filter": "-all"
  }
 },
 "nbformat": 4,
 "nbformat_minor": 5
}
