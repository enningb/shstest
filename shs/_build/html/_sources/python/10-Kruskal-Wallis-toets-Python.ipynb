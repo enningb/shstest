{
 "cells": [
  {
   "cell_type": "raw",
   "id": "bb251629",
   "metadata": {
    "lines_to_next_cell": 0
   },
   "source": [
    "---\n",
    "title: \"Kruskal Wallis toets\"\n",
    "output: \n",
    "  html_document:\n",
    "    toc: TRUE\n",
    "    toc_float:\n",
    "      collapsed: FALSE\n",
    "    number_sections: TRUE\n",
    "    theme: lumen\n",
    "---"
   ]
  },
  {
   "cell_type": "markdown",
   "id": "5c6b783f",
   "metadata": {
    "lines_to_next_cell": 0
   },
   "source": [
    "<!-- ## CLOSEDBLOK: Functies.R -->"
   ]
  },
  {
   "cell_type": "code",
   "execution_count": null,
   "id": "2b0d25a1",
   "metadata": {
    "include": true,
    "lines_to_next_cell": 0,
    "message": false,
    "name": "functies",
    "results": "asis",
    "tags": [
     "remove_input"
    ],
    "warning": false
   },
   "outputs": [],
   "source": [
    "%%R\n",
    "library(here)\n",
    "if (!exists(\"Substitute_var\")) {\n",
    "  ## Installeer packages en functies\n",
    "  source(paste0(here::here(), \"/99. Functies en Libraries/00. Voorbereidingen.R\"), echo = FALSE)\n",
    "}"
   ]
  },
  {
   "cell_type": "markdown",
   "id": "a94e383a",
   "metadata": {
    "lines_to_next_cell": 0
   },
   "source": [
    "<!-- ## /CLOSEDBLOK: Functies.R -->\n",
    "\n",
    "<style>\n",
    "`r htmltools::includeHTML(paste0(here::here(),\"/01. Includes/css/Stylesheet_SHHO.css\"))`\n",
    "</style>\n",
    "\n",
    "<!-- ## CLOSEDBLOK: Header.R -->"
   ]
  },
  {
   "cell_type": "code",
   "execution_count": null,
   "id": "afa7ce01",
   "metadata": {
    "code": "#R_CODE#readLines(paste0(here::here(),\"/01. Includes/code/Header.R\"))",
    "include": true,
    "lines_to_next_cell": 0,
    "name": "header",
    "results": "asis",
    "tags": [
     "remove_input"
    ]
   },
   "outputs": [],
   "source": [
    "%%R\n"
   ]
  },
  {
   "cell_type": "markdown",
   "id": "b46870fb",
   "metadata": {
    "lines_to_next_cell": 0
   },
   "source": [
    "<!-- ## /CLOSEDBLOK: Header.R -->\n",
    "\n",
    "<!-- ## CLOSEDBLOK: Status.R -->"
   ]
  },
  {
   "cell_type": "code",
   "execution_count": null,
   "id": "99b79dde",
   "metadata": {
    "code": "#R_CODE#readLines(paste0(here::here(),\"/01. Includes/code/Status.R\"))",
    "include": true,
    "lines_to_next_cell": 0,
    "name": "status",
    "results": "asis",
    "tags": [
     "remove_input"
    ]
   },
   "outputs": [],
   "source": [
    "%%R\n"
   ]
  },
  {
   "cell_type": "markdown",
   "id": "aa4c4771",
   "metadata": {
    "lines_to_next_cell": 0
   },
   "source": [
    "<!-- ## /CLOSEDBLOK: Status.R -->\n",
    "\n",
    "<!-- ## CLOSEDBLOK: Reticulate.py -->"
   ]
  },
  {
   "cell_type": "code",
   "execution_count": null,
   "id": "5f838c9d",
   "metadata": {
    "include": true,
    "lines_to_next_cell": 0,
    "message": false,
    "name": "reticulate",
    "tags": [
     "remove_input"
    ],
    "warning": false
   },
   "outputs": [],
   "source": [
    "%%R\n",
    "library(reticulate)\n",
    "knitr::knit_engines$set(python = reticulate::eng_python)"
   ]
  },
  {
   "cell_type": "markdown",
   "id": "57e22bd8",
   "metadata": {
    "lines_to_next_cell": 0
   },
   "source": [
    "<!-- ## /CLOSEDBLOK: Reticulate.py -->\n",
    "\n",
    "<!-- ## OPENBLOK: Data-aanmaken.py -->"
   ]
  },
  {
   "cell_type": "code",
   "execution_count": null,
   "id": "f4215c09",
   "metadata": {
    "echo": true,
    "lines_to_next_cell": 0,
    "name": "aanmaken data",
    "tags": [
     "remove_cell"
    ]
   },
   "outputs": [],
   "source": [
    "%%R\n",
    "source(paste0(here::here(),\"/01. Includes/data/10.R\"))"
   ]
  },
  {
   "cell_type": "markdown",
   "id": "f1909078",
   "metadata": {
    "lines_to_next_cell": 0
   },
   "source": [
    "<!-- ## /OPENBLOK: Data-aanmaken.py -->\n",
    "\n",
    "# Toepassing\n",
    "Gebruik de *Kruskal Wallis toets* om te toetsen of 2 of meer groepen significant van elkaar verschillen.[^1] De *Kruskal Wallis toets* kan een alternatief zijn voor de *one-way ANOVA*.[^2] De *Kruskal Wallis toets* stelt minder eisen aan de data en hoeft onder andere niet te voldoen aan de assumptie normaliteit. Bij de *Kruskal Wallis toets* hebben uitbijters minder invloed op het eindresultaat dan bij de *one-way ANOVA*. Daarentegen, als de data wel normaal verdeeld zijn, heeft de *Kruskal Wallis toets* minder onderscheidend vermogen dan de *one way ANOVA*.[^3]<sup>, </sup>[^4] Vandaar dat ondanks de voordelen er toch minder vaak voor de *Kruskal Wallis toets* test gekozen wordt. \n",
    "\n",
    "# Onderwijscasus\n",
    "<div id=\"casus\">\n",
    "De opleidingsdirecteur van de tweejarige Masteropleiding Arbeidsrecht is geïnteresseerd in de afstudeersnelheid van zijn studenten. Zij vraagt zich af of er een verschil zit in het type vooropleiding die de studenten hebben gehaald en de hoeveel studiepunten die de studenten behalen in het eerste jaar. Zij kijkt naar de vier meest gangbare vooropleidingen die de studenten doorlopen voordat ze met de Master Arbeidsrecht beginnen: de Bachelors Fiscaal Recht, Notarieel Recht en Rechtsgeleerdheid en de Premaster.  \n",
    "\n",
    "*H~0~*: De verdeling van het aantal behaalde studiepunten in het eerste jaar van de master Arbeidsrecht is gelijk voor studenten met als vooropleiding Bachelor Fiscaal Recht, Notarieel Recht of Rechtsgeleerdheid of de Premaster.\n",
    "\n",
    "*H~A~*: De verdeling van het aantal behaalde studiepunten in het eerste jaar van de master Arbeidsrecht is niet gelijk voor studenten met als vooropleiding Bachelor Fiscaal Recht, Notarieel Recht of Rechtsgeleerdheid of de Premaster.\n",
    "\n",
    "</div>\n",
    "\n",
    "# Assumpties\n",
    "Voor een valide resultaat moeten de data aan een aantal voorwaarden voldoen voordat de toets uitgevoerd kan worden: de data zijn (semi-)continu,[^5] de groepen zijn onafhankelijk van elkaar [^6] en het aantal groepen is groter dan 2. Gebruik bij 2 groepen de *Mann-Whitney U toets*.\n",
    "\n",
    "# Post-hoc toets \n",
    "De *Kruskal Wallis toets* toetst of twee of meerdere groepen van elkaar verschillen. Een post-hoc toets specificeert welke groep significant van andere groepen verschillen. Gebruik de *Mann-Whitney U toets* als post-hoc toets. \n",
    "\n",
    "Gebruik de *Bonferroni correctie* om Type I fouten te voorkomen. Deze correctie past de p-waarde aan door de p-waarde te vermenigvuldigen met het aantal uitgevoerde toetsen en verlaagt hiermee de kans dat er bij toeval een verband wordt ontdekt dat er niet is.[^7]<sup>, </sup>[^8]\n",
    "\n",
    "# Uitvoering\n",
    "<!-- ## TEKSTBLOK: Dataset-inladen.R-->\n",
    "Er is een dataset ingeladen met studieresultaten van de master Arbeidsrecht per vooropleiding: Fiscaal Recht, Notarieel Recht, Rechtsgeleerdheid en de Premaster.\n",
    "<!-- ## /TEKSTBLOK: Dataset-inladen.R-->\n",
    "\n",
    "## De data bekijken\n",
    "<!-- ## TEKSTBLOK: Data-bekijken.R -->\n",
    "Gebruik `head()` en `tail()` om de structuur van de data te bekijken.\n",
    "<!-- ## /TEKSTBLOK: Data-bekijken.R -->\n",
    "<!-- ## OPENBLOK: Data-bekijken.py -->"
   ]
  },
  {
   "cell_type": "code",
   "execution_count": null,
   "id": "d522dd5a",
   "metadata": {
    "tags": [
     "remove_cell"
    ]
   },
   "outputs": [],
   "source": [
    "import pandas as pd\n",
    "dfResultaten_Arbeidsrecht = pd.DataFrame(r.Resultaten_Arbeidsrecht)"
   ]
  },
  {
   "cell_type": "code",
   "execution_count": null,
   "id": "437f35c1",
   "metadata": {
    "collapse": true,
    "name": "data bekijken-1"
   },
   "outputs": [],
   "source": [
    "## Eerste 6 observaties\n",
    "print(dfResultaten_Arbeidsrecht.head(6))"
   ]
  },
  {
   "cell_type": "code",
   "execution_count": null,
   "id": "34425aee",
   "metadata": {
    "collapse": true,
    "lines_to_next_cell": 0,
    "name": "data bekijken-2"
   },
   "outputs": [],
   "source": [
    "## Laatste 6 observaties\n",
    "print(dfResultaten_Arbeidsrecht.tail(6))"
   ]
  },
  {
   "cell_type": "markdown",
   "id": "1481cba3",
   "metadata": {
    "lines_to_next_cell": 0
   },
   "source": [
    "<!-- ## /OPENBLOK: Data-bekijken.py -->\n",
    "\n",
    "<!-- ## TEKSTBLOK: Data-bekijken2.py -->\n",
    "De dataset bevat data van studenten van verschillende vooropleidingen. Gebruik `<data.frame>.<kolomnaam>.unique()` om te onderzoeken welke opleidingen er in de data aanwezig zijn. \n",
    "<!-- ## /TEKSTBLOK: Data-bekijken2.py -->\n",
    "\n",
    "<!-- ## OPENBLOK: Data-bekijken-2.py -->"
   ]
  },
  {
   "cell_type": "code",
   "execution_count": null,
   "id": "f7a71ec5",
   "metadata": {
    "lines_to_next_cell": 0,
    "name": "data bekijken 2"
   },
   "outputs": [],
   "source": [
    "## Opleidingen in de data aanwezig\n",
    "print(dfResultaten_Arbeidsrecht.Vooropleiding.unique())"
   ]
  },
  {
   "cell_type": "markdown",
   "id": "eeadb9eb",
   "metadata": {
    "lines_to_next_cell": 0
   },
   "source": [
    "<!-- ## /OPENBLOK: Data-bekijken-2.py -->\n",
    "\n",
    "<!-- ## TEKSTBLOK: Data-bekijken.R-->\n",
    "Inspecteer om meer inzicht te krijgen in de data de groepen met `length()`, `median()` en `quantile()`. Groepeer hiervoor eerst met `group_by()`.\n",
    "<!-- ## /TEKSTBLOK: Data-bekijken.R-->\n",
    "\n",
    "<!-- ## OPENBLOK: Data-beschrijven.py -->"
   ]
  },
  {
   "cell_type": "code",
   "execution_count": null,
   "id": "ab238833",
   "metadata": {},
   "outputs": [],
   "source": [
    "print(dfResultaten_Arbeidsrecht.groupby(['Vooropleiding']).size())"
   ]
  },
  {
   "cell_type": "code",
   "execution_count": null,
   "id": "c349dd27",
   "metadata": {
    "lines_to_next_cell": 0
   },
   "outputs": [],
   "source": [
    "print(dfResultaten_Arbeidsrecht.groupby(['Vooropleiding']).quantile([0.25, 0.5, 0.75]))"
   ]
  },
  {
   "cell_type": "markdown",
   "id": "8394d16d",
   "metadata": {
    "lines_to_next_cell": 0
   },
   "source": [
    "<!-- ## /OPENBLOK: Data-beschrijven.py -->\n",
    "<!-- ## CLOSEDBLOK: Data-beschrijven.py -->\n",
    "``` {python data beschrijven als object, include=FALSE, echo=TRUE}\n",
    "import numpy as np\n",
    "EC_FSC = np.array(dfResultaten_Arbeidsrecht[dfResultaten_Arbeidsrecht['Vooropleiding'] == \"Fiscaal Recht\"][\"EC_Jaar1\"])\n",
    "EC_NTR = np.array(dfResultaten_Arbeidsrecht[dfResultaten_Arbeidsrecht['Vooropleiding'] == \"Notarieel Recht\"][\"EC_Jaar1\"])\n",
    "EC_PRE = np.array(dfResultaten_Arbeidsrecht[dfResultaten_Arbeidsrecht['Vooropleiding'] == \"Premaster\"][\"EC_Jaar1\"])\n",
    "EC_REC = np.array(dfResultaten_Arbeidsrecht[dfResultaten_Arbeidsrecht['Vooropleiding'] == \"Rechtsgeleerdheid\"][\"EC_Jaar1\"])\n",
    "\n",
    "vN_FIS = len(EC_FSC)\n",
    "vN_NOT = len(EC_NTR)\n",
    "vN_RCH = len(EC_PRE)\n",
    "vN_PM = len(EC_REC)\n",
    "\n",
    "vQ1_FIS = np.quantile(EC_FSC, 0.25)\n",
    "vQ1_NOT = np.quantile(EC_NTR, 0.25)\n",
    "vQ1_PM = np.quantile(EC_PRE, 0.25)\n",
    "vQ1_RCH = np.quantile(EC_REC, 0.25)\n",
    "\n",
    "vMed_FIS = np.quantile(EC_FSC, 0.5)\n",
    "vMed_NOT = np.quantile(EC_NTR, 0.5)\n",
    "vMed_RCH = np.quantile(EC_REC, 0.5)\n",
    "vMed_PM = np.quantile(EC_PRE, 0.5)\n",
    "\n",
    "vQ3_FIS = np.quantile(EC_FSC, 0.75)\n",
    "vQ3_NOT = np.quantile(EC_NTR, 0.75)\n",
    "vQ3_RCH = np.quantile(EC_REC, 0.75)\n",
    "vQ3_PM = np.quantile(EC_PRE, 0.75)\n",
    "```\n",
    "<!-- ## /CLOSEDBLOK: Data-beschrijven.py -->\n",
    "<!-- ## TEKSTBLOK: Data-beschrijven.py -->\n",
    "* Mediaan Fiscaal Recht: `r Round_and_format(py$vMed_FIS)`. *n* = `r py$vN_FIS`.\n",
    "* Mediaan Notarieel Recht: `r Round_and_format(py$vMed_NOT)`. *n* = `r py$vN_NOT`.\n",
    "* Mediaan Premaster: `r Round_and_format(py$vMed_PM)`. *n* = `r py$vN_PM`.\n",
    "* Mediaan Rechtsgeleerdheid: `r Round_and_format(py$vMed_RCH)`. *n* = `r py$vN_RCH`.\n",
    "\n",
    "<!-- ## /TEKSTBLOK: Data-beschrijven.py -->\n",
    "\n",
    "### Boxplot\n",
    "De box geeft de middelste 50% van het aantal studiepunten weer. De zwarte lijn binnen de box is de mediaan. De staarten bevatten de eerste 25% en de laatste 25%. Cirkels visualiseren mogelijke uitbijters. Hoe meer de boxen overlappen, hoe waarschijnlijker er geen significant verschil is tussen de groepen. \n",
    "\n",
    "<!-- ## OPENBLOK: Boxplot.py -->"
   ]
  },
  {
   "cell_type": "code",
   "execution_count": null,
   "id": "5a0854b2",
   "metadata": {
    "lines_to_next_cell": 0
   },
   "outputs": [],
   "source": [
    "import matplotlib.pyplot as plt\n",
    "box = dfResultaten_Arbeidsrecht.boxplot(column='EC_Jaar1', by='Vooropleiding')\n",
    "no_suptitle = plt.suptitle(\"\")\n",
    "title = plt.title(\"Aantal EC per vooropleiding van de Master Arbeidsrecht\")\n",
    "ylab = plt.ylabel(\"Aantal EC in jaar 1\")\n",
    "no_grid = plt.grid(b = False)\n",
    "plt.show()"
   ]
  },
  {
   "cell_type": "markdown",
   "id": "14fd8362",
   "metadata": {
    "lines_to_next_cell": 0
   },
   "source": [
    "<!-- ## /OPENBLOK: Boxplot.py -->\n",
    "\n",
    "De mediaan van studenten met een vooropleiding Rechtsgeleerdheid heeft duidelijk minder studiepunten dan studenten met een vooropleiding Fiscaal Recht en Notarieel Recht. De mediaan van de studenten met de Premaster als vooropleiding ligt er tussen in.[^9]\n",
    "\n",
    "## Kruskal Wallis toets\n",
    "<!-- ## TEKSTBLOK: Kruskal-Wallis-test-1.py -->\n",
    "Gebruik `stats.kruskal()` om de Kruskal-Wallis toets uit te voeren. Eerst moet de data worden gesplitst per opleiding. De standaard interpretatie van een statitische toets in Python is: `(<teststatistiek>, <p-waarde>)`. Verder toetst Python standaard tweezijdig.\n",
    "<!-- ## /TEKSTBLOK: Kruskal-Wallis-test-1.py -->\n",
    "\n",
    "<!-- ## OPENBLOK: Kruskal-Wallis-test-2.py -->"
   ]
  },
  {
   "cell_type": "code",
   "execution_count": null,
   "id": "90c5615b",
   "metadata": {},
   "outputs": [],
   "source": [
    "# We splitsen de dataset per opleiding\n",
    "EC_FSC = dfResultaten_Arbeidsrecht[dfResultaten_Arbeidsrecht['Vooropleiding'] == \"Fiscaal Recht\"][\"EC_Jaar1\"]\n",
    "EC_NTR = dfResultaten_Arbeidsrecht[dfResultaten_Arbeidsrecht['Vooropleiding'] == \"Notarieel Recht\"][\"EC_Jaar1\"]\n",
    "EC_PRE = dfResultaten_Arbeidsrecht[dfResultaten_Arbeidsrecht['Vooropleiding'] == \"Premaster\"][\"EC_Jaar1\"]\n",
    "EC_REC = dfResultaten_Arbeidsrecht[dfResultaten_Arbeidsrecht['Vooropleiding'] == \"Rechtsgeleerdheid\"][\"EC_Jaar1\"]"
   ]
  },
  {
   "cell_type": "code",
   "execution_count": null,
   "id": "2d716a82",
   "metadata": {
    "lines_to_next_cell": 0
   },
   "outputs": [],
   "source": [
    "import scipy.stats as stats\n",
    "print(stats.kruskal(EC_FSC, EC_NTR, EC_PRE, EC_REC))"
   ]
  },
  {
   "cell_type": "markdown",
   "id": "5683d2d8",
   "metadata": {
    "lines_to_next_cell": 0
   },
   "source": [
    "<!-- ## /OPENBLOK: Kruskal-Wallis-test-2.py -->\n",
    "\n",
    "<!-- ## CLOSEDBLOK: Kruskal-Wallis-test-3.py -->"
   ]
  },
  {
   "cell_type": "code",
   "execution_count": null,
   "id": "31de0586",
   "metadata": {
    "echo": true,
    "lines_to_next_cell": 0,
    "name": "Kruskal Wallis test als object",
    "tags": [
     "remove_cell"
    ]
   },
   "outputs": [],
   "source": [
    "stat, pval = stats.kruskal(EC_FSC, EC_NTR, EC_PRE, EC_REC)\n",
    "df = 3"
   ]
  },
  {
   "cell_type": "markdown",
   "id": "4b4634d8",
   "metadata": {},
   "source": [
    "<!-- ## /CLOSEDBLOK: Kruskal-Wallis-test-3.py -->\n",
    "<!-- ## TEKSTBLOK: Kruskal-Wallis-test-4.py -->\n",
    "* *df*: het aantal groepen - 1 = `r py$df`  \n",
    "* *H*~3~ = `r Round_and_format(py$stat)`, p < 0,05  \n",
    "* De test-statistiek *H* volgt bij benadering de chi-kwadraat verdeling. Onder deze hypothese is *H* chi-kwadraat, vandaar dat dit in de output uitgedrukt wordt in chi-kwadraat    \n",
    "* p-waarde < 0,05, dus de H~0~ wordt verworpen[^10]\n",
    "\n",
    "<!-- ## /TEKSTBLOK: Kruskal-Wallis-test-4.py -->"
   ]
  },
  {
   "cell_type": "markdown",
   "id": "60a4b3f1",
   "metadata": {
    "lines_to_next_cell": 0
   },
   "source": [
    "## Post-hoc toets: Mann-Whitney U toets\n",
    "<!-- ## TEKSTBLOK: Mann-Whitney-U-test.py -->\n",
    "Gebruik de *Mann-Whitney U toets* als post-hoc toets om te bepalen wélke groepen significant verschillen. De *Mann-Whitney U toets* wordt ook wel de *Wilcoxon rank-sum toets* genoemd.[^10] Gebruik de functie `pg.mwu()`. \n",
    "<!-- ## /TEKSTBLOK: Mann-Whitney-U-test.py -->\n",
    "<!-- ## OPENBLOK: Mann-Whitney-U-test.py -->"
   ]
  },
  {
   "cell_type": "code",
   "execution_count": null,
   "id": "cc177fcd",
   "metadata": {},
   "outputs": [],
   "source": [
    "import pingouin as pg"
   ]
  },
  {
   "cell_type": "code",
   "execution_count": null,
   "id": "47e79571",
   "metadata": {
    "lines_to_next_cell": 0
   },
   "outputs": [],
   "source": [
    "# Correctie kan gedaan worden door p-value x aantal Hypotheses te doen (= 6)\n",
    "pg.mwu(EC_PRE, EC_NTR)"
   ]
  },
  {
   "cell_type": "markdown",
   "id": "3684f5f1",
   "metadata": {
    "lines_to_next_cell": 0
   },
   "source": [
    "<!-- ## /OPENBLOK: Mann-Whitney-U-test.py-->\n",
    "* Er is geen statistisch significant verschil gevonden tussen Fiscaal Recht en Notarieel Recht.\n",
    "* Er is ook geen statistisch significant verschil gevonden tussen Fiscaal Recht en de Premaster.\n",
    "* Er is een statistisch significant verschil gevonden tussen de Premaster en Notarieel Recht.   \n",
    "* Er zijn statistisch significante verschillen gevonden tussen Rechtsgeleerdheid en de overige vooropleidingen.\n",
    "\n",
    "# Rapportage\n",
    "<!-- ## TEKSTBLOK: Rapportage.py -->\n",
    "De *Kruskal Wallis toets* is uitgevoerd om te toetsen of significante verschillen zijn tussen de studenten van de Master Arbeidsrecht met als vooropleiding Bachelor Fiscaal Recht, Notarieel Recht of Rechtsgeleerdheid of de Premaster en het aantal studiepunten dat de studenten in het eerste jaar behalen. Uit de resultaten kan afgelezen worden dat er een statistisch significant verschil is tussen het aantal studiepunten en het type vooropleiding dat de student heeft afgerond. *H*~`r py$df`~ ≈ `r Round_and_format(py$stat)` < 0,05.   \n",
    "\n",
    "| Vooropleiding     | N          | Q1         | M           | Q3          |\n",
    "| ------------- | ---------- | ---------- | ----------- | ----------- |\n",
    "| Fiscaal Recht      | `r py$vN_FIS` | `r Round_and_format(py$vQ1_FIS)` | `r Round_and_format(py$vMed_FIS)` | `r Round_and_format(py$vQ3_FIS)` |\n",
    "| Notarieel Recht     | `r py$vN_NOT` | `r Round_and_format(py$vQ1_NOT)` | `r Round_and_format(py$vMed_NOT)` | `r Round_and_format(py$vQ3_NOT)` |\n",
    "| Rechtsgeleerdheid  | `r py$vN_RCH` | `r Round_and_format(py$vQ1_RCH)` | `r Round_and_format(py$vMed_RCH)` | `r Round_and_format(py$vQ3_RCH)` |\n",
    "| Premaster          | `r py$vN_PM`| `r Round_and_format(py$vQ1_PM)` | `r Round_and_format(py$vMed_PM)` | `r Round_and_format(py$vQ3_PM)` |\n",
    "*Tabel 1. Groepsgrootte, 1e kwantiel, mediaan en 3e kwantiel per vooropleiding*\n",
    "\n",
    "Met een post-hoc toets is het verschil tussen de vooropleidingen getoetst. De studenten met Rechtsgeleerdheid als vooropleiding behalen statistisch significant minder punten bij de Master Arbeidsrecht, dan de studenten met een andere vooropleiding. Er is een statistisch significant verschil gevonden tussen de behaalde studiepunten van studenten met de vooropleiding Notarieel Recht en de Premaster, waarbij de studenten van de Premaster minder punten behaalden dan de studenten van Notarieel Recht. Er zijn geen statistisch significante verschillen gevonden tussen de vooropleidingen Fiscaal Recht en Notarieel Recht, en Fiscaal Recht en Premaster. De *Bonferroni correctie* is gebruikt om de Type I fout te voorkomen die gepaard gaat met het veelvuldig toetsen.  \n",
    "\n",
    "Kortom, de resultaten ondersteunen de conclusie dat er een verschil is tussen de vooropleidingen die de studenten hebben afgerond en de hoeveelheid studiepunten die een student behaalt tijdens het eerste jaar van de master Arbeidsrecht. De studenten met Rechtsgeleerdheid als vooropleiding behalen statistisch significant minder studiepunten dan de drie andere vooropleidingen. \n",
    "Studenten met de vooropleiding Fiscaal Recht (mediaan = `r Round_and_format(py$vMed_FIS)`) en Notarieel Recht (mediaan = `r Round_and_format(py$vMed_NOT)`) behalen naar verhouding de meeste studiepunten.\n",
    "<!-- ## /TEKSTBLOK: Rapportage.py -->\n",
    "\n",
    "<!-- ## CLOSEDBLOK: Footer.R -->"
   ]
  },
  {
   "cell_type": "code",
   "execution_count": null,
   "id": "67a1dd1d",
   "metadata": {
    "code": "#R_CODE#readLines(paste0(here::here(),\"/01. Includes/code/Footer.R\"))",
    "include": true,
    "lines_to_next_cell": 0,
    "name": "footer",
    "results": "asis",
    "tags": [
     "remove_input"
    ]
   },
   "outputs": [],
   "source": [
    "%%R\n"
   ]
  },
  {
   "cell_type": "markdown",
   "id": "a36c4d45",
   "metadata": {},
   "source": [
    "<!-- ## /CLOSEDBLOK: Footer.R -->\n",
    "\n",
    "[^1]: De toets rangschikt de datapunten van laag naar hoog en geeft elke datapunt een rangnummer. Vervolgens wordt per groep het gemiddelde berekend van de rangnummers. Dit gemiddelde wordt met elkaar vergeleken. Voor meer informatie lees: Field, A., Miles, J., & Field, Z. (2012). *Discovering statistics using R*. London: Sage publications.\n",
    "[^2]: Van Geloven, N. (21 maart 2018). *Kruskal Wallis*. [Wiki Statistiek Academisch Medisch Centrum](https://wikistatistiek.amc.nl/index.php/Kruskal_Wallis). \n",
    "[^3]: Universiteit van Amsterdam (7 juli 2014). *Kruskal-Wallis Test*. [UvA Wiki Methodologiewinkel](https://wiki.uva.nl/methodologiewinkel/index.php/Kruskal-Wallis_Test). \n",
    "[^4]: Onderscheidend vermogen, in het Engels power genoemd, is de kans dat de nulhypothese verworpen wordt wanneer de alternatieve hypothese 'waar' is.  \n",
    "[^5]: Semi-continue data: de data zijn discreet, bijvoorbeeld gehele getallen, met zoveel mogelijkheden dat de data geanalyseerd kunnen worden alsof ze continu zijn. Van Geloven, N. (21 November 2017). *KEUZE TOETS*. [Wiki Statistiek Academisch Medisch Centrum](https://wikistatistiek.amc.nl/index.php/KEUZE_TOETS).\n",
    "[^6]: Elke groep heeft geen overlap met één van de andere groepen en de groepen kunnen elkaars deelname niet beïnvloeden. Deze stap wordt beredeneerd en wordt niet getoetst.  \n",
    "[^7]: Type I fout: Ten onrechte H~0~ verwerpen.\n",
    "[^8]: Universiteit van Amsterdam (7 juli 2014). *Kruskal-Wallis Test*. [UvA Wiki Methodologiewinkel](https://wiki.uva.nl/methodologiewinkel/index.php/Kruskal-Wallis_Test).\n",
    "[^9]: Bij niet normaal verdeelde data wordt de mediaan berekend in plaats van een gemiddelde om het midden van de data aan te geven. \n",
    "[^10]: In dit voorbeeld wordt uitgegaan van een waarschijnlijkheid van 95% c.q. een p-waardegrens van 0,05. De grens is naar eigen inzicht aan te passen; houd hierbij rekening met Type I en Type II fouten. \n",
    "[^11]: Van Geloven, N. (13 maart 2018).  *Mann-Whitney U toets*. [Wiki Statistiek Academisch Medisch Centrum](https://wikistatistiek.amc.nl/index.php/Mann-Whitney_U_toets).\n"
   ]
  }
 ],
 "metadata": {
  "jupytext": {
   "cell_metadata_filter": "echo,message,warning,collapse,results,tags,include,code,name,-all",
   "main_language": "python",
   "notebook_metadata_filter": "-all"
  }
 },
 "nbformat": 4,
 "nbformat_minor": 5
}
