{
 "cells": [
  {
   "cell_type": "raw",
   "id": "fc7a3382",
   "metadata": {
    "lines_to_next_cell": 0
   },
   "source": [
    "---\n",
    "title: \"Mood's mediaan toets\"\n",
    "output:\n",
    "  html_document:\n",
    "    theme: lumen\n",
    "    toc: yes\n",
    "    toc_depth: 2\n",
    "    toc_float: \n",
    "      collapsed: FALSE \n",
    "    number_sections: true\n",
    "    includes:\n",
    "      in_header: [\"../01. Includes/html/nocache.html\", \"../01. Includes/html/favicon.html\", \"../01. Includes/html/analytics.html\"]\n",
    "  keywords: [statistisch handboek, studiedata]\n",
    "---"
   ]
  },
  {
   "cell_type": "markdown",
   "id": "e204d023",
   "metadata": {
    "lines_to_next_cell": 0
   },
   "source": [
    "<!-- ## CLOSEDBLOK: Functies.R -->"
   ]
  },
  {
   "cell_type": "code",
   "execution_count": 1,
   "id": "99dd9b06",
   "metadata": {
    "include": true,
    "lines_to_next_cell": 0,
    "message": false,
    "name": "functies",
    "results": "asis",
    "tags": [
     "remove_input"
    ],
    "warning": false
   },
   "outputs": [
    {
     "ename": "SyntaxError",
     "evalue": "invalid syntax (<ipython-input-1-924f26e6aa13>, line 2)",
     "output_type": "error",
     "traceback": [
      "\u001b[0;36m  File \u001b[0;32m\"<ipython-input-1-924f26e6aa13>\"\u001b[0;36m, line \u001b[0;32m2\u001b[0m\n\u001b[0;31m    if (!exists(\"Substitute_var\")) {\u001b[0m\n\u001b[0m        ^\u001b[0m\n\u001b[0;31mSyntaxError\u001b[0m\u001b[0;31m:\u001b[0m invalid syntax\n"
     ]
    }
   ],
   "source": [
    "library(here)\n",
    "if (!exists(\"Substitute_var\")) {\n",
    "  ## Installeer packages en functies\n",
    "  source(paste0(here::here(), \"/99. Functies en Libraries/00. Voorbereidingen.R\"), echo = FALSE)\n",
    "}"
   ]
  },
  {
   "cell_type": "markdown",
   "id": "fc98838e",
   "metadata": {
    "lines_to_next_cell": 0
   },
   "source": [
    "<!-- ## /CLOSEDBLOK: Functies.R -->\n",
    "\n",
    "<!-- ## CLOSEDBLOK: CSS -->\n",
    "<style>\n",
    "`r htmltools::includeHTML(paste0(here::here(),\"/01. Includes/css/Stylesheet_SHHO.css\"))`\n",
    "</style>\n",
    "<!-- ## /CLOSEDBLOK: CSS -->\n",
    "\n",
    "<!-- ## CLOSEDBLOK: Header.R -->"
   ]
  },
  {
   "cell_type": "code",
   "execution_count": null,
   "id": "b6434cb9",
   "metadata": {
    "code": "#R_CODE#readLines(paste0(here::here(),\"/01. Includes/code/Header.R\"))",
    "include": true,
    "lines_to_next_cell": 0,
    "name": "header",
    "results": "asis",
    "tags": [
     "remove_input"
    ]
   },
   "outputs": [],
   "source": []
  },
  {
   "cell_type": "markdown",
   "id": "03ef0a02",
   "metadata": {
    "lines_to_next_cell": 0
   },
   "source": [
    "<!-- ## /CLOSEDBLOK: Header.R -->\n",
    "\n",
    "<!-- ## CLOSEDBLOK: Status.R -->"
   ]
  },
  {
   "cell_type": "code",
   "execution_count": null,
   "id": "b1f3d428",
   "metadata": {
    "code": "#R_CODE#readLines(paste0(here::here(),\"/01. Includes/code/Status.R\"))",
    "include": true,
    "lines_to_next_cell": 0,
    "name": "status",
    "results": "asis",
    "tags": [
     "remove_input"
    ]
   },
   "outputs": [],
   "source": []
  },
  {
   "cell_type": "markdown",
   "id": "80e96ea3",
   "metadata": {
    "lines_to_next_cell": 0
   },
   "source": [
    "<!-- ## /CLOSEDBLOK: Status.R -->\n",
    "\n",
    "<!-- ## CLOSEDBLOK: Reticulate.R -->\n",
    "\n",
    "<!-- ## /CLOSEDBLOK: Reticulate.R -->\n",
    "\n",
    "<!-- ## OPENBLOK: Data-aanmaken.R -->"
   ]
  },
  {
   "cell_type": "code",
   "execution_count": null,
   "id": "bb42bb1b",
   "metadata": {
    "echo": true,
    "lines_to_next_cell": 0,
    "name": "aanmaken data",
    "tags": [
     "remove_cell"
    ]
   },
   "outputs": [],
   "source": [
    "source(paste0(here::here(),\"/01. Includes/data/08.R\"))"
   ]
  },
  {
   "cell_type": "markdown",
   "id": "459e58ae",
   "metadata": {},
   "source": [
    "<!-- ## /OPENBLOK: Data-aanmaken.R -->\n",
    "# Toepassing\n",
    "<!-- ## TEKSTBLOK: link1.R-->\n",
    "Gebruik *Mood's mediaan toets* om de medianen van twee ongepaarde groepen te vergelijken.[^1]<sup>,</sup>[^2] Deze toets wordt gebruikt als er niet aan de assumpties is voldaan bij sterkere toetsen zoals de [ongepaarde t-toets](02-Ongepaarde-t-toets-R.html) en de [Mann-Whitney U toets](08-Mann-Whitney-U-toetsI-R.html). Als de verdelingen van beide groepen bij benadering normaal verdeeld zijn, dan kan de [ongepaarde t-toets](02-Ongepaarde-t-toets-R.html) gebruikt worden om de gemiddelden te vergelijken. Als de verdelingen van beide groepen dezelfde vorm hebben, kan de [Mann-Whitney U toets](08-Mann-Whitney-U-toetsI-R.html) gebruikt worden om de medianen te vergelijken.[^3] De [Mann-Whitney U toets](08-Mann-Whitney-U-toetsI-R.html) heeft in dat geval een hoger onderscheidend vermogen[^2]."
   ]
  },
  {
   "cell_type": "markdown",
   "id": "0eda1f36",
   "metadata": {},
   "source": [
    "<!-- ## /TEKSTBLOK: link1.R-->"
   ]
  },
  {
   "cell_type": "markdown",
   "id": "d32500e6",
   "metadata": {
    "lines_to_next_cell": 0
   },
   "source": [
    "# Onderwijscasus\n",
    "<div id =\"casus\">\n",
    "De onderwijsdirecteur van de opleiding Business Administration van een hogeschool vraagt zich af of er verschil is in de studieresultaten van studenten met een Nederlandse vooropleiding en een buitenlandse vooropleiding. Met name in het tweede studiejaar lijken er verschillen op te treden die hij wil begrijpen om mogelijke interventies met zijn docenten te bespreken. Hij vraagt zich af: ‘Verschilt het aantal studiepunten in het tweede studiejaar van studenten met een Nederlandse vooropleiding van het aantal studiepunten in het tweede studiejaar van studenten met een buitenlandse vooropleiding?\n",
    "\n",
    "Dit onderzoek vertaalt zich in de volgende combinatie van hypothesen, waarbij de nulhypothese zo geformuleerd is dat er geen effect of verschil is en de alternatieve hypothese zo geformuleerd is dat er wel een effect of verschil is.\n",
    "\n",
    "*H~0~*: De verdeling van het behaalde aantal studiepunten in het tweede jaar van studenten met een buitenlandse vooropleiding is hetzelfde als de verdeling van studenten met een Nederlandse vooropleiding. \n",
    "\n",
    "*H~A~*: De verdeling van het behaalde aantal studiepunten in het tweede jaar van studenten met een buitenlandse vooropleiding is anders dan de verdeling van studenten met een Nederlandse vooropleiding.\n",
    "</div>\n",
    "\n",
    "# Assumpties\n",
    "\n",
    "Het meetniveau van de afhankelijke variabele is continu.[^5]<sup>,</sup>[^6] \n",
    "\n",
    "## Groepsgroottes\n",
    "\n",
    "<!-- ## TEKSTBLOK: link2.R-->\n",
    "*Mood's mediaan toets* toetst het verschil tussen de medianen van twee ongepaarde groepen. Eerst wordt de mediaan berekend van de samengevoegde observaties van beide groepen. Daarna worden voor beide ongepaarde groepen het aantal observaties groter dan en kleiner dan of gelijk aan de mediaan geteld. Dit levert een kruistabel op die vervolgens getoetst kan worden met de [Chi-kwadraat toets voor onafhankelijkheid](13-Chi-kwadraat-toets-voor-onafhankelijkheid-en-Fishers-exact-toets-R.html). Een voorbeeld van zo'n kruistabel is te zien in Tabel 1.\n",
    "<!-- ## /TEKSTBLOK: link2.R-->\n",
    "\n",
    "|                      | Groep 1    | Groep 2 | \n",
    "| -------------------- | ---------- | ------------| \n",
    "| Aantal observaties groter dan mediaan  | 20   | 25          | \n",
    "| Aantal observaties kleiner dan of gelijk aan mediaan  | 30   | 40          |\n",
    "*Tabel 1. Kruistabel met aantal observaties groter dan en kleiner dan of gelijk aan mediaan voor twee ongepaarde groepen.*\n",
    "\n",
    "<!-- ## TEKSTBLOK: link3.R-->\n",
    "Een assumptie van de *Chi-kwadraat toets voor onafhankelijk* is dat niet meer dan 20% van de cellen van de kruistabel een verwacht aantal observaties van vijf of minder heeft. Als dit niet het geval is, is *Fisher's exact toets* een beter alternatief. Zie de toetspagina van de [Chi-kwadraat toets voor onafhankelijkheid](13-Chi-kwadraat-toets-voor-onafhankelijkheid-en-Fishers-exact-toets-R.html) voor een uitgebreide uitleg over deze assumptie. \n",
    "<!-- ## /TEKSTBLOK: link3.R-->\n",
    "\n",
    "# Uitvoering \n",
    "<!-- ## TEKSTBLOK: Dataset-inladen.R-->\n",
    "Er is een dataset `Studiepunten_studiejaar2` ingeladen met het aantal punten dat studenten in het tweede jaar halen.\n",
    "<!-- ## /TEKSTBLOK: Dataset-inladen.R-->\n",
    "\n",
    "## De data bekijken\n",
    "<!-- ## TEKSTBLOK: Data-bekijken.R -->\n",
    "Gebruik `head()` en `tail()` om de structuur van de data te bekijken.\n",
    "<!-- ## /TEKSTBLOK: Data-bekijken.R -->\n",
    "<!-- ## OPENBLOK: Data-bekijken.R -->"
   ]
  },
  {
   "cell_type": "code",
   "execution_count": null,
   "id": "7de268fc",
   "metadata": {
    "collapse": true,
    "lines_to_next_cell": 0,
    "name": "data bekijken"
   },
   "outputs": [],
   "source": [
    "## Eerste 6 observaties\n",
    "head(Studiepunten_studiejaar2)\n",
    "## Eerste 6 observaties\n",
    "tail(Studiepunten_studiejaar2)"
   ]
  },
  {
   "cell_type": "markdown",
   "id": "7d9b4b1b",
   "metadata": {
    "lines_to_next_cell": 0
   },
   "source": [
    "<!-- ## /OPENBLOK: Data-bekijken.R -->\n",
    "<!-- ## TEKSTBLOK: Data-beschrijven.R -->\n",
    "Bekijk de grootte, de mediaan en de kwantielen van het aantal studiepunten met `length()` en `quantile()`. De mediaan en kwantielen worden vaak gebruikt als maat wanneer een verdeling niet symmetrisch is.\n",
    "<!-- ## /TEKSTBLOK: Data-beschrijven.R -->\n",
    "<!-- ## OPENBLOK: Data-selecteren.R -->"
   ]
  },
  {
   "cell_type": "code",
   "execution_count": null,
   "id": "5a7f91ac",
   "metadata": {
    "lines_to_next_cell": 0,
    "name": "data selecteren"
   },
   "outputs": [],
   "source": [
    "Vooropleiding_Nederlands <- Studiepunten_studiejaar2$Vooropleiding == \"Nederlands\""
   ]
  },
  {
   "cell_type": "markdown",
   "id": "198b353b",
   "metadata": {
    "lines_to_next_cell": 0
   },
   "source": [
    "<!-- ## /OPENBLOK: Data-selecteren.R -->\n",
    "\n",
    "<!-- ## OPENBLOK: Numpy-inladen.R -->\n",
    "\n",
    "<!-- ## /OPENBLOK: Numpy-inladen.R -->\n",
    "\n",
    "<div class=\"col-container\">\n",
    "  <div class=\"col\">\n",
    "<!-- ## OPENBLOK: Data-beschrijven-1.R -->"
   ]
  },
  {
   "cell_type": "code",
   "execution_count": null,
   "id": "9c4900fe",
   "metadata": {
    "collapse": true,
    "lines_to_next_cell": 0,
    "name": "data beschrijven 1"
   },
   "outputs": [],
   "source": [
    "length(Studiepunten_studiejaar2$Studiepunten[Vooropleiding_Nederlands])\n",
    "quantile(Studiepunten_studiejaar2$Studiepunten[Vooropleiding_Nederlands])"
   ]
  },
  {
   "cell_type": "markdown",
   "id": "742a86ff",
   "metadata": {},
   "source": [
    "<!-- ## /OPENBLOK: Data-beschrijven-1.R -->\n",
    "  </div>\n",
    "  <div class=\"col\">\n",
    "<!-- ## OPENBLOK: Data-beschrijven-2.R -->\n",
    "``````{r Data beschrijven 2, collapse=TRUE}\n",
    "length(Studiepunten_studiejaar2$Studiepunten[!Vooropleiding_Nederlands])\n",
    "quantile(Studiepunten_studiejaar2$Studiepunten[!Vooropleiding_Nederlands])\n",
    "```\n",
    "<!-- ## /OPENBLOK: Data-beschrijven-2.R -->\n",
    "  </div>\n",
    "</div>\n",
    "<!-- ## CLOSEDBLOK: Data-beschrijven-3.R -->\n",
    "``` {r data beschrijven als object, include=FALSE, echo=TRUE}\n",
    "Vooropleiding_Nederlands <- Studiepunten_studiejaar2$Vooropleiding == \"Nederlands\"\n",
    "\n",
    "vN_NL <- length(Studiepunten_studiejaar2$Studiepunten[Vooropleiding_Nederlands])\n",
    "vQ_NL <- quantile(Studiepunten_studiejaar2$Studiepunten[Vooropleiding_Nederlands])\n",
    "\n",
    "vN_Inter <- length(Studiepunten_studiejaar2$Studiepunten[!Vooropleiding_Nederlands])\n",
    "vQ_Inter <- quantile(Studiepunten_studiejaar2$Studiepunten[!Vooropleiding_Nederlands])\n",
    "\n",
    "vN_NL <- Round_and_format(vN_NL)\n",
    "vN_Inter <- Round_and_format(vN_Inter)\n",
    "\n",
    "vQ1_NL <- Round_and_format(vQ_NL[2])\n",
    "vQ1_Inter <- Round_and_format(vQ_Inter[2])\n",
    "\n",
    "vMed_NL <- Round_and_format(vQ_NL[3])\n",
    "vMed_Inter <- Round_and_format(vQ_Inter[3])\n",
    "\n",
    "vQ3_NL <- Round_and_format(vQ_NL[4])\n",
    "vQ3_Inter <- Round_and_format(vQ_Inter[4])\n",
    "```\n",
    "<!-- ## /CLOSEDBLOK: Data-beschrijven-3.R -->\n",
    "\n",
    "<!-- ## TEKSTBLOK: Data-beschrijven2.R -->\n",
    "* Mediaan studenten Nederlandse vooropleiding: `r vMed_NL`, *n* = `r vN_NL`.\n",
    "* Mediaan studenten buitenlandse vooropleiding: `r vMed_Inter`, *n* = `r vN_Inter`.\n",
    "\n",
    "<!-- ## /TEKSTBLOK: Data-beschrijven2.R -->"
   ]
  },
  {
   "cell_type": "markdown",
   "id": "08cfe5c2",
   "metadata": {
    "lines_to_next_cell": 0
   },
   "source": [
    "## De data visualiseren\n",
    "\n",
    "Maak een histogram[^18] om de verdeling van het aantal studiepunten in het tweede jaar voor studenten met een Nederlandse en buitenlandse vooropleiding visueel weer te geven.\n",
    "\n",
    "<!-- ## OPENBLOK: Histogram1.R -->"
   ]
  },
  {
   "cell_type": "code",
   "execution_count": null,
   "id": "44419024",
   "metadata": {
    "lines_to_next_cell": 0,
    "message": false,
    "name": "histogram",
    "warnings": false
   },
   "outputs": [],
   "source": [
    "## Histogram met ggplot2\n",
    "library(ggplot2)\n",
    "\n",
    "ggplot(Studiepunten_studiejaar2,\n",
    "  aes(x = Studiepunten)) +\n",
    "  geom_histogram(aes(y = ..density..),\n",
    "                 color = \"grey30\",\n",
    "                 fill = \"#0089CF\") +\n",
    "  facet_wrap(~ Vooropleiding, labeller = labeller(Vooropleiding = c(Nederlands = \"Nederlandse vooropleiding\", buitenlands = \"Buitenlandse vooropleiding\"))) +\n",
    "  ylab(\"Frequentie\") +\n",
    "  labs(title = \"Studiepunten van studenten Business Administration in het tweede jaar \")"
   ]
  },
  {
   "cell_type": "markdown",
   "id": "2779d0b1",
   "metadata": {},
   "source": [
    "<!-- ## /OPENBLOK: Histogram1.R -->\n",
    "\n",
    "Beide histogrammen bevatten een grote groep studenten met een laag aantal studiepunten (twaalf of minder). De overige studenten volgen een ietwat scheve verdeling met de top rond de vijftig studiepunten. De verdelingen van beide groepen studenten hebben echter niet dezelfde vorm. De frequentiedichtheid van het aantal studenten rond de vijftig studiepunten is veel hoger voor de studenten met Nederlandse vooropleiding, terwijl de frequentiedichtheid van het aantal studenten met twaalf of minder studiepunten juist hoger is voor de studenten met een buitenlandse vooropleiding."
   ]
  },
  {
   "cell_type": "markdown",
   "id": "7dc3280f",
   "metadata": {
    "lines_to_next_cell": 0
   },
   "source": [
    "## Assumptie groepsgrootte\n",
    "\n",
    "<!-- ## TEKSTBLOK: groepsgrootte1.R -->\n",
    "Maak een kruistabel met het aantal observaties hoger en lager dan de mediaan voor beide ongepaarde groepen. Bereken vervolgens de verwachte aantallen observaties met `chisq.test()$expected` met als argument de kruistabel `Kruistabel`.\n",
    "<!-- ## /TEKSTBLOK: groepsgrootte1.R -->\n",
    "\n",
    "<!-- ## OPENBLOK: groepsgrootte2.R -->"
   ]
  },
  {
   "cell_type": "code",
   "execution_count": null,
   "id": "b34ed6f4",
   "metadata": {
    "lines_to_next_cell": 0
   },
   "outputs": [],
   "source": [
    "# Bereken de mediaan van alle observaties samengevoegd\n",
    "Mediaan <- median(Studiepunten_studiejaar2$Studiepunten)\n",
    "\n",
    "# Bepaal voor elke observatie of deze hoger of lager/gelijk aan de mediaan is\n",
    "Index_hoger_lager <- Studiepunten_studiejaar2$Studiepunten > Mediaan \n",
    "\n",
    "# Maak een kruistabel\n",
    "Kruistabel <- table(Index_hoger_lager, Studiepunten_studiejaar2$Vooropleiding)\n",
    "\n",
    "# Print de kruistabel\n",
    "print(Kruistabel)\n",
    "\n",
    "# Bereken de verwachte aantallen observaties\n",
    "chisq.test(Kruistabel)$expected\n"
   ]
  },
  {
   "cell_type": "markdown",
   "id": "b02263a4",
   "metadata": {},
   "source": [
    "<!-- ## /OPENBLOK: groepsgrootte2.R -->"
   ]
  },
  {
   "cell_type": "markdown",
   "id": "59c1fb4b",
   "metadata": {},
   "source": [
    "Geen van de verwachte aantallen observaties is kleiner dan vijf, dus er is voldaan aan de assumptie over de groepsgroottes. Voer *Mood's mediaan toets* uit met behulp van de *Chi-kwadraat toets*."
   ]
  },
  {
   "cell_type": "markdown",
   "id": "a0e2ec30",
   "metadata": {},
   "source": [
    "## Mood's mediaan toets"
   ]
  },
  {
   "cell_type": "markdown",
   "id": "8fdcf798",
   "metadata": {
    "lines_to_next_cell": 0
   },
   "source": [
    "<!-- ## TEKSTBLOK: Moods-mediaan-toets-1.R -->\n",
    "Gebruik de functie `mood.medtest()` van het package `RVAideMemoire` om *Mood's mediaan toets* uit te voeren. Het eerste argument `Studiepunten ~ Vooropleiding` bevat de afhankelijke variabele `Studiepunten` en de variabele `Vooropleiding` die beide ongepaarde groepen aangeeft, het tweede argument bevat de dataset `Studiepunten_studiejaar2` en het derde argument `exact= FALSE` geeft aan dat de *Chi-kwadraat toets voor onafhankelijkheid* uitgevoerd moet worden. Gebruik `exact = TRUE` om *Fisher's exact toets* uit te voeren.\n",
    "\n",
    "<!-- ## /TEKSTBLOK: Moods-mediaan-toets-1.R -->\n",
    "\n",
    "<!-- ## OPENBLOK: Moods-mediaan-toets-2.R -->"
   ]
  },
  {
   "cell_type": "code",
   "execution_count": null,
   "id": "b29b2bc2",
   "metadata": {
    "lines_to_next_cell": 0,
    "name": "Mann Whitney U toets"
   },
   "outputs": [],
   "source": [
    "library(RVAideMemoire)\n",
    "mood.medtest(Studiepunten ~ Vooropleiding, Studiepunten_studiejaar2, exact = FALSE)\n"
   ]
  },
  {
   "cell_type": "markdown",
   "id": "e0f38769",
   "metadata": {
    "lines_to_next_cell": 0
   },
   "source": [
    "<!-- ## /OPENBLOK: Moods-mediaan-toets-2.R -->\n",
    "<!-- ## CLOSEDBLOK: Moods-mediaan-toets-3.R -->"
   ]
  },
  {
   "cell_type": "code",
   "execution_count": null,
   "id": "3983bcec",
   "metadata": {
    "lines_to_next_cell": 0,
    "name": "Mann Whitney U toets als object",
    "tags": [
     "remove_cell"
    ]
   },
   "outputs": [],
   "source": [
    "library(RVAideMemoire)\n",
    "mmt <- mood.medtest(Studiepunten ~ Vooropleiding, Studiepunten_studiejaar2, exact = FALSE)\n",
    "\n",
    "library(DescTools)\n",
    "hle <- HodgesLehmann(Studiepunten_studiejaar2$Studiepunten[Vooropleiding_Nederlands], Studiepunten_studiejaar2$Studiepunten[!Vooropleiding_Nederlands], conf.level = 0.95)\n",
    "\n",
    "vChi2 <- Round_and_format(mmt$statistic)\n",
    "vdf <- mmt$parameter\n",
    "vW_est <- Round_and_format(hle[1])\n",
    "vW_lb <- Round_and_format(hle[2])\n",
    "vW_ub <- Round_and_format(hle[3])\n",
    "\n"
   ]
  },
  {
   "cell_type": "markdown",
   "id": "b047e20f",
   "metadata": {
    "lines_to_next_cell": 0
   },
   "source": [
    "<!-- ## /CLOSEDBLOK: Moods-mediaan-toets-3.R -->\n",
    "\n",
    "<!-- ## TEKSTBLOK: Moods-mediaan-toets-3.R -->\n",
    "Bereken vervolgens de mediaan van de verschilscores en bijbehorend 95%-betrouwbaarheidsinterval.[^7]<sup>,</sup>[^8] Gebruik hiervoor de functie `HodgesLehmann()` van het package `DescTools` met als argumenten het aantal studiepunten van studenten met Nederlandse vooropleiding `Studiepunten_studiejaar2$Studiepunten[Vooropleiding_Nederlands]`, het aantal studiepunten van studenten met een buitenlandse vooropleiding `Studiepunten_studiejaar2$Studiepunten[!Vooropleiding_Nederlands]` en `conf.level = 0.95` om het 95%-betrouwbaarheidsinterval te schatten.[^9]    \n",
    "<!-- ## /TEKSTBLOK: Moods-mediaan-toets-3.R -->\n",
    "\n",
    "<!-- ## OPENBLOK: Moods-mediaan-toets-4.R -->"
   ]
  },
  {
   "cell_type": "code",
   "execution_count": null,
   "id": "31ed5feb",
   "metadata": {
    "lines_to_next_cell": 0,
    "name": "effectgrootte"
   },
   "outputs": [],
   "source": [
    "library(DescTools)\n",
    "HodgesLehmann(Studiepunten_studiejaar2$Studiepunten[Vooropleiding_Nederlands], Studiepunten_studiejaar2$Studiepunten[!Vooropleiding_Nederlands], conf.level = 0.95)"
   ]
  },
  {
   "cell_type": "markdown",
   "id": "9e11536b",
   "metadata": {},
   "source": [
    "<!-- ## /OPENBLOK: Moods-mediaan-toets-4.R -->"
   ]
  },
  {
   "cell_type": "markdown",
   "id": "a683a7b7",
   "metadata": {},
   "source": [
    "<!-- ## TEKSTBLOK: Moods-mediaan-toets-4.R -->\n",
    "* &chi;^2^ ~`r vdf`~ = `r vChi2`, *p* = < 0,0001\n",
    "* De p-waarde is kleiner dan 0,05, dus de H~0~ wordt verworpen.[^9]\n",
    "* De mediaan van de verschilscores is `r vW_est` met een \n",
    "95%-betrouwbaarheidsinterval  van `r vW_lb` tot `r vW_ub`. De mediaan van de verschillen tussen  studenten met een Nederlandse en buitenlandse vooropleiding is dus `r vW_est` studiepunten.\n",
    "\n",
    "<!-- ## /TEKSTBLOK: Moods-mediaan-toets-4.R -->"
   ]
  },
  {
   "cell_type": "markdown",
   "id": "ffd5e88b",
   "metadata": {
    "lines_to_next_cell": 0
   },
   "source": [
    "# Rapportage\n",
    "<!-- ## TEKSTBLOK: Rapportage.R -->\n",
    "*Mood's mediaan toets* is uitgevoerd om te toetsen of de mediaan van het behaald aantal studiepunten in het tweede jaar van de bachelor Business Administration hetzelfde is voor studenten met buitenlandse vooropleiding als voor studenten met Nederlandse vooropleiding. De resultaten van de toets laten zien dat er een significant verschil is tussen beide medianen, &chi;^2^ ~`r vdf`~ = `r vChi2`, *p* = < 0,0001. Het geschatte mediaan van de verschilscores is `r vW_est` met bijbehorend 95%-betrouwbaarheidsinterval van `r vW_lb` tot `r vW_ub`. Studenten met een Nederlandse vooropleiding lijken dus meer studiepunten te behalen in het tweede jaar dan studenten met een buitenlandse vooropleiding.\n",
    "<!-- ## /TEKSTBLOK: Rapportage.R -->\n",
    "\n",
    "<!-- ## CLOSEDBLOK: Footer.R -->"
   ]
  },
  {
   "cell_type": "code",
   "execution_count": null,
   "id": "a7863faf",
   "metadata": {
    "code": "#R_CODE#readLines(paste0(here::here(),\"/01. Includes/code/Footer.R\"))",
    "include": true,
    "lines_to_next_cell": 0,
    "name": "footer",
    "results": "asis",
    "tags": [
     "remove_input"
    ]
   },
   "outputs": [],
   "source": []
  },
  {
   "cell_type": "markdown",
   "id": "a79f6905",
   "metadata": {},
   "source": [
    "<!-- ## /CLOSEDBLOK: Footer.R -->"
   ]
  },
  {
   "cell_type": "markdown",
   "id": "20915574",
   "metadata": {},
   "source": [
    "[^1]: Statistics How To (28 februari 2016). *Mood’s Median Test: Definition, Run the Test and Interpret Results*. [Statistics How to](https://www.statisticshowto.com/moods-median-test/).\n",
    "[^2]: Brown, G. W., & Mood, A. M. (1951). *On median tests for linear hypotheses*. In *Proceedings of the Second Berkeley Symposium on Mathematical Statistics and Probability*. The Regents of the University of California.\n",
    "[^3]: Onderscheidend vermogen, in het Engels power genoemd, is de kans dat de nulhypothese verworpen wordt wanneer de alternatieve hypothese 'waar' is.\n",
    "[^4]: Divine, G. W., Norton, H. J., Barón, A. E., & Juarez-Colunga, E. (2018). *The Wilcoxon–Mann–Whitney procedure fails as a test of medians*. The American Statistician, 72(3), 278-286.\n",
    "[^5]: SPSS Tutorials. *SPSS Median Test for 2 Independent Medians*. Bezocht op 22 april 2020. [Statistics How to](https://www.statisticshowto.com/moods-median-test/).\n",
    "[^6]: *Mood's mediaan toets* kan ook uitgevoerd worden om de medianen te vergelijken van twee of meer ordinale variabelen. Echter, de [Mann-Whitney U toets](08-Mann-Whitney-U-toetsiI-R.html) of de [Kruskal Wallis toets](10-Kruskal-Wallis-toets-I-R.html) zijn dan alternatieven met een hoger onderscheidend vermogen.\n",
    "[^7]: De mediaan van de verschilscores kan bij twee ongepaarde steekproeven bijvoorbeeld geschat worden door alle *m x n* verschilscores te berekenen tussen *m* observaties uit de ene steekproef en *n* observaties uit de andere steekproef. De mediaan van deze *m x n* verschilscores is dan de schatting.\n",
    "[^8]: Wikipedia (10 maart 2020). *Hogdes-Lehmann estimator. *[https://en.wikipedia.org/wiki/Hodges%E2%80%93Lehmann_estimator](https://en.wikipedia.org/wiki/Hodges%E2%80%93Lehmann_estimator) \n",
    "[^9]: In dit voorbeeld wordt uitgegaan van een waarschijnlijkheid van 95% c.q. een p-waardegrens van 0,05. De grens is naar eigen inzicht aan te passen; houd hierbij rekening met type I en type II fouten.\n",
    "[^18]: De breedte van de staven van het histogram wordt vaak automatisch bepaald, maar kan handmatig aangepast worden. Aangezien de breedte van de staven bepalend zijn voor de indruk die de visualisatie geeft, is het verstandig om hier goed op te letten."
   ]
  }
 ],
 "metadata": {
  "jupytext": {
   "cell_metadata_filter": "message,tags,name,warning,echo,code,results,collapse,include,warnings,-all",
   "main_language": "R",
   "notebook_metadata_filter": "-all"
  },
  "language_info": {
   "codemirror_mode": {
    "name": "ipython",
    "version": 3
   },
   "file_extension": ".py",
   "mimetype": "text/x-python",
   "name": "python",
   "nbconvert_exporter": "python",
   "pygments_lexer": "ipython3",
   "version": "3.8.10"
  }
 },
 "nbformat": 4,
 "nbformat_minor": 5
}