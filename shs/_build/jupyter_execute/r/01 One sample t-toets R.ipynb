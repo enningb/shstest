{
 "cells": [
  {
   "cell_type": "markdown",
   "id": "30aef6ec",
   "metadata": {
    "lines_to_next_cell": 0
   },
   "source": [
    "<!-- ## CLOSEDBLOK: Functies.R -->"
   ]
  },
  {
   "cell_type": "code",
   "execution_count": 1,
   "id": "5fa74439",
   "metadata": {
    "include": true,
    "lines_to_next_cell": 0,
    "message": false,
    "name": "functies",
    "results": "asis",
    "tags": [
     "remove_input"
    ],
    "warning": false
   },
   "outputs": [
    {
     "ename": "SyntaxError",
     "evalue": "invalid syntax (<ipython-input-1-924f26e6aa13>, line 2)",
     "output_type": "error",
     "traceback": [
      "\u001b[0;36m  File \u001b[0;32m\"<ipython-input-1-924f26e6aa13>\"\u001b[0;36m, line \u001b[0;32m2\u001b[0m\n\u001b[0;31m    if (!exists(\"Substitute_var\")) {\u001b[0m\n\u001b[0m        ^\u001b[0m\n\u001b[0;31mSyntaxError\u001b[0m\u001b[0;31m:\u001b[0m invalid syntax\n"
     ]
    }
   ],
   "source": [
    "library(here)\n",
    "if (!exists(\"Substitute_var\")) {\n",
    "  ## Installeer packages en functies\n",
    "  source(paste0(here::here(), \"/99. Functies en Libraries/00. Voorbereidingen.R\"), echo = FALSE)\n",
    "}"
   ]
  },
  {
   "cell_type": "markdown",
   "id": "5e951184",
   "metadata": {
    "lines_to_next_cell": 0
   },
   "source": [
    "<!-- ## /CLOSEDBLOK: Functies.R -->\n",
    "\n",
    "<!-- ## CLOSEDBLOK: CSS -->\n",
    "<style>\n",
    "`r htmltools::includeHTML(paste0(here::here(),\"/01. Includes/css/Stylesheet_SHHO.css\"))`\n",
    "</style>\n",
    "<!-- ## /CLOSEDBLOK: CSS -->\n",
    "\n",
    "<!-- ## CLOSEDBLOK: Header.R -->"
   ]
  },
  {
   "cell_type": "markdown",
   "id": "339eafc5",
   "metadata": {
    "lines_to_next_cell": 0
   },
   "source": [
    "# Toepassing\n",
    "Gebruik de *one sample t-toets* om het gemiddelde van de steekproef te vergelijken met een bekend gemiddelde of norm van de totale populatie.[^1] \n",
    "\n",
    "# Onderwijscasus\n",
    "De opleidingsdirecteur van de opleiding Werktuigbouwkunde wil weten of het gemiddelde eindexamencijfer voor de exacte vakken (Wiskunde, Natuurkunde en Scheikunde; WNS) van vwo studenten anders is dan het landelijk gemiddelde (6,8).[^2] Met deze gegevens probeert zij een inschatting te maken van het niveau van de studenten en kan zij bepalen of het curriculum van de inleidende vakken genoeg aansluit bij eerstejaars studenten met een vwo vooropleiding.\n",
    "\n",
    "Dit onderzoek vertaalt zich in de volgende combinatie van hypothesen, waarbij de nulhypothese zo geformuleerd is dat er geen effect of verschil is en de alternatieve hypothese zo geformuleerd is dat er wel een effect of verschil is.\n",
    "\n",
    "*H~0~*: Het gemiddelde eindexamencijfer voor de exacte vakken van vwo studenten die beginnen aan de Bachelor Werktuigbouwkunde is gelijk aan het landelijk gemiddelde: µ = 6,8. \n",
    "\n",
    "*H~A~*: Het gemiddelde eindexamencijfer voor de exacte vakken van vwo studenten die beginnen aan de Bachelor Werktuigbouwkunde is anders dan het landelijk gemiddelde: µ ≠ 6,8. \n",
    "</div>\n",
    "\n",
    "# Assumpties\n",
    "Om een valide resultaat te bereiken moeten, voordat de toets kan worden uitgevoerd, de data aan een aantal voorwaarden voldoet. \n",
    "\n",
    "## Normaliteit \n",
    "De *one sample t-toets* gaat ervan uit dat de data van de steekproef normaal verdeeld is. Ga er bij meer dan 100 observaties vanuit dat de *one sample t-toets* robuust genoeg is om uit te voeren zonder dat de steekproef een normale verdeling volgt.[^3] \n",
    "\n",
    "Controleer de assumptie van normaliteit met de volgende stappen:  \n",
    "1. Controleer de data visueel met een histogram, een boxplot of een Q-Q plot.   \n",
    "2. Toets of de steekproef normaal verdeeld is met de *Kolmogorov-Smirnov test* of bij een kleinere steekproef (n < 50) met de *Shapiro-Wilk test*.[^4]<sup>, </sup>[^5]  \n",
    "\n",
    "De eerste stap heeft als doel een goede indruk te krijgen van de verdeling van de steekproef. In de tweede stap wordt de assumptie van normaliteit getoetst. De statistische toets laat zien of de verdeling van de steekproef voldoet aan de assumptie van normaliteit.\n",
    "\n",
    "Als blijkt dat de steekproef niet normaal verdeeld is en de steekproefgrootte te laag is voor een robuuste toets, transformeer dan de observaties en bepaal daarna of deze wel normaal verdeeld zijn.[^6] Een andere optie in dit geval is het gebruiken van de [Wilcoxon signed rank toets](07-Wilcoxon-signed-rank-toets-R.html).[^7]<sup>, </sup>[^8]\n",
    "\n",
    "# Uitvoering\n",
    "<!-- ## TEKSTBLOK: Dataset-inladen.R -->\n",
    "Er is een dataset ingeladen met de gemiddelde eindexamencijfers van WNS van eerstejaars Werktuigbouwkunde: `Gemiddeld_cijfer_WNS`.\n",
    "<!-- ## /TEKSTBLOK: Dataset-inladen.R -->\n",
    "\n",
    "## De data bekijken\n",
    "<!-- ## TEKSTBLOK: Data-bekijken.R -->\n",
    "Gebruik `head()` en `tail()` om de structuur van de data te bekijken.\n",
    "<!-- ## /TEKSTBLOK: Data-bekijken.R -->\n",
    "<!-- ## OPENBLOK: Data-bekijken.R -->"
   ]
  },
  {
   "cell_type": "code",
   "execution_count": null,
   "id": "e2b3990f",
   "metadata": {
    "collapse": true,
    "lines_to_next_cell": 0,
    "name": "data bekijken"
   },
   "outputs": [],
   "source": [
    "## Eerste 5 observaties\n",
    "head(Gemiddeld_cijfer_WNS)\n",
    "\n",
    "## Laatste 5 observaties\n",
    "tail(Gemiddeld_cijfer_WNS)"
   ]
  },
  {
   "cell_type": "markdown",
   "id": "361a4181",
   "metadata": {
    "lines_to_next_cell": 0
   },
   "source": [
    "<!-- ## /OPENBLOK: Data-bekijken.R -->\n",
    "<!-- ## TEKSTBLOK: Data-beschrijven.R-->\n",
    "Inspecteer de data met `length()`, `mean()`en `sd()` om meer inzicht te krijgen in de data.\n",
    "<!-- ## /TEKSTBLOK: Data-beschrijven.R-->\n",
    "<!-- ## OPENBLOK: Data-beschrijven.R -->"
   ]
  },
  {
   "cell_type": "code",
   "execution_count": null,
   "id": "4cafcdc0",
   "metadata": {
    "collapse": true,
    "lines_to_next_cell": 0,
    "name": "de data bekijken"
   },
   "outputs": [],
   "source": [
    "## Gemiddelde en standaarddeviatie\n",
    "length(Gemiddeld_cijfer_WNS)\n",
    "mean(Gemiddeld_cijfer_WNS)\n",
    "sd(Gemiddeld_cijfer_WNS)"
   ]
  },
  {
   "cell_type": "markdown",
   "id": "c02d1bf8",
   "metadata": {
    "lines_to_next_cell": 0
   },
   "source": [
    "<!-- ## /OPENBLOK: Data-beschrijven.R -->\n",
    "<!-- ## CLOSEDBLOK: Data-beschrijven.R -->"
   ]
  },
  {
   "cell_type": "code",
   "execution_count": null,
   "id": "b41f55e0",
   "metadata": {
    "echo": true,
    "lines_to_next_cell": 0,
    "name": "Var beschrijven t1",
    "tags": [
     "remove_cell"
    ]
   },
   "outputs": [],
   "source": [
    "vMean <- Round_and_format(mean(Gemiddeld_cijfer_WNS))\n",
    "vSD <- Round_and_format(sd(Gemiddeld_cijfer_WNS))\n",
    "vN <- Round_and_format(length(Gemiddeld_cijfer_WNS))"
   ]
  },
  {
   "cell_type": "markdown",
   "id": "abe9227d",
   "metadata": {
    "lines_to_next_cell": 0
   },
   "source": [
    "<!-- ## /CLOSEDBLOK: Data-beschrijven.R -->\n",
    "<!-- ## TEKSTBLOK: Data-beschrijven2.R-->\n",
    "* Gemiddeld cijfer WNS (standaardafwijking): `r vMean` (`r vSD`). *n* = `r vN`.\n",
    "<!-- ## /TEKSTBLOK: Data-beschrijven2.R-->\n",
    "\n",
    "## Visuele inspectie van normaliteit\n",
    "Geef de verdeling van de steekproef visueel weer met een histogram, Q-Q plot en boxplot.\n",
    "\n",
    "### Histogram\n",
    "\n",
    "Focus bij het analyseren van een histogram[^18] op de symmetrie van de verdeling, de hoeveelheid toppen (modaliteit) en mogelijke uitbijters. Een normale verdeling is symmetrisch, heeft één top en geen uitbijters.[^9]<sup>, </sup>[^10]\n",
    "\n",
    "<!-- ## OPENBLOK: Histogram.R -->"
   ]
  },
  {
   "cell_type": "code",
   "execution_count": null,
   "id": "55d5458b",
   "metadata": {
    "lines_to_next_cell": 0,
    "message": false,
    "name": "histogram",
    "warning": false
   },
   "outputs": [],
   "source": [
    "## Histogram met ggplot2\n",
    "library(ggplot2)\n",
    "\n",
    "ggplot(data.frame(Gemiddeld_cijfer_WNS), \n",
    "       aes(x = Gemiddeld_cijfer_WNS)) +\n",
    "  geom_histogram(aes(y = ..density..),\n",
    "                 binwidth = 0.5, \n",
    "                 color = \"white\", \n",
    "                 fill = \"#158CBA\") +\n",
    "  geom_density(alpha = .2, adjust = 1) +\n",
    "  ylab(\"Frequentiedichtheid\") +\n",
    "  xlab(\"Gemiddeld_cijfer_WNS\") +\n",
    "  scale_x_continuous(labels = as.character(seq(5.5, 9, 0.5)), \n",
    "                     breaks = seq(5.5, 9, 0.5)) +\n",
    "  labs(title = \"Eindcijfers Wiskunde, Natuurkunde en Scheikunde\", \n",
    "       subtitle = \"Eerstejaarsstudenten Werktuigbouwkunde\")\n"
   ]
  },
  {
   "cell_type": "markdown",
   "id": "a64fb259",
   "metadata": {
    "lines_to_next_cell": 0
   },
   "source": [
    "<!-- ## /OPENBLOK: Histogram.R -->\n",
    "\n",
    "De histogram lijkt symmetrisch, heeft één top en geen outliers. De steekproef is dus bij benadering normaal verdeeld.\n",
    "\n",
    "### Q-Q plot\n",
    "<!-- ## TEKSTBLOK: QQplot.R-->\n",
    "Gebruik `qqnorm()` en `qqline()` met `pch = 1`om een Q-Q plot te maken, met als datapunten kleine cirkels.\n",
    "<!-- ## /TEKSTBLOK: QQplot.R-->\n",
    "\n",
    "Als over het algemeen de meeste datapunten op de lijn liggen, kan aangenomen worden dat de data normaal verdeeld is.\n",
    "<!-- ## OPENBLOK: QQplot.R -->"
   ]
  },
  {
   "cell_type": "code",
   "execution_count": null,
   "id": "9e95eb94",
   "metadata": {
    "lines_to_next_cell": 0,
    "name": "qqplot"
   },
   "outputs": [],
   "source": [
    "## Q-Q plot\n",
    "qqnorm(Gemiddeld_cijfer_WNS, \n",
    "       pch = 1,\n",
    "       main = \"Normaal Q-Q plot van gemiddelde cijfers WNS\",\n",
    "       ylab = \"Kwantielen in data\",\n",
    "       xlab = \"Theoretische kwantielen\")\n",
    "qqline(Gemiddeld_cijfer_WNS)"
   ]
  },
  {
   "cell_type": "markdown",
   "id": "4a6a00a9",
   "metadata": {
    "lines_to_next_cell": 0
   },
   "source": [
    "<!-- ## /OPENBLOK: QQplot.R -->\n",
    "\n",
    "In deze casus liggen de meeste punten op de lijn. Bij de uiteinden liggen de punten dichtbij de lijn. Deze Q-Q plot duidt dus op een goede benadering van de normaalverdeling.\n",
    "\n",
    "### Boxplot\n",
    "De box geeft de middelste 50% van de tentamencijfers weer. De zwarte lijn binnen de box is de mediaan. In de staarten of snorreharen zitten de eerste 25% en de laatste 25%. Cirkels visualiseren mogelijke uitbijters.[^9] Hoe meer de boxen overlappen, hoe waarschijnlijker er geen significant verschil is tussen de groepen. \n",
    "\n",
    "<!-- ## OPENBLOK: Boxplot.R -->\n",
    "``` {r boxplot}\n",
    "## Boxplot\n",
    "boxplot(Gemiddeld_cijfer_WNS, xlab = \"Werktuigbouwkunde\", ylab = \"Gemiddeld_cijfer_WNS\")\n",
    "```\n",
    "<!-- ## /OPENBLOK: Boxplot.R -->\n",
    "\n",
    "De boxplot geeft de spreiding van het gemiddelde eindexamencijfer voor de exacte vakken weer van de studenten Werktuigbouwkunde. De box en staarten zien er symmetrisch uit, wat een indicatie is van een normale verdeling.[^10]  \n",
    "\n",
    "## Toetsen van normaliteit\n",
    "Om te controleren of de steekproef aan de assumptie van normaliteit voldoet, kan de normaliteit getoetst worden. Twee veelgebruikte toetsen zijn: de *Kolmogorov-Smirnov test* en de *Shapiro-Wilk test*.\n",
    "\n",
    "### Kolmogorov-Smirnov\n",
    "De *Kolmogorov-Smirnov test* toetst het verschil tussen twee verdelingen. Standaard toetst deze test het verschil tussen een normale verdeling en de verdeling van de steekproef. De Lilliefors correctie is vereist als het gemiddelde en de standaardafwijking niet van tevoren bekend of bepaald zijn, wat meestal het geval is bij een steekproef. Als de p-waarde kleiner dan 0,05 is, is de verdeling van de steekproef significant verschillend van een normale verdeling.\n",
    "\n",
    "<!-- ## TEKSTBLOK: Lilliefors-test1.R -->\n",
    "     \n",
    "<!-- ## /TEKSTBLOK: Lilliefors-test1.R -->\n",
    "\n",
    "<!-- ## OPENBLOK: Lilliefors-test.R -->"
   ]
  },
  {
   "cell_type": "code",
   "execution_count": null,
   "id": "a8e0b726",
   "metadata": {
    "lines_to_next_cell": 0,
    "name": "Kolmogorov-Smirnov Test",
    "warning": false
   },
   "outputs": [],
   "source": [
    "## Kolmogorov-Smirnov test\n",
    "library(nortest)\n",
    "lillie.test(Gemiddeld_cijfer_WNS)"
   ]
  },
  {
   "cell_type": "markdown",
   "id": "20b50845",
   "metadata": {
    "lines_to_next_cell": 0
   },
   "source": [
    "<!-- ## /OPENBLOK: Lilliefors-test.R -->\n",
    "\n",
    "<!-- ## TEKSTBLOK: Lilliefors-test2.R -->\n",
    "De p-waarde is `r Round_and_format(lillie.test(Gemiddeld_cijfer_WNS)$p.value)`, dus er is geen significant verschil gevonden tussen de verdeling van de steekproef en de normale verdeling. De *one sample-t-toets* kan uitgevoerd worden.\n",
    "<!-- ## /TEKSTBLOK: Lilliefors-test2.R -->\n",
    "\n",
    "### Shapiro-Wilk Test\n",
    "De *Shapiro-Wilk test* is een soortgelijke test als de *Kolmogorov-Smirnov test* en vooral geschikt bij kleine steekproeven (n < 50). Als de p-waarde kleiner dan 0,05 is, is de verdeling van de steekproef significant verschillend van de normale verdeling.\n",
    "<!-- ## TEKSTBLOK: Shapiro-Wilk-test.R -->\n",
    "Er is een subset van `Gemiddeld_cijfer_WNS` ingeladen: `Gemiddeld_cijfer_WNS_n30`. De subset bevat `r length(Gemiddeld_cijfer_WNS_n30)` studenten. Voor een relatief kleine steekproef als deze is de *Shapiro-Wilk Test* geschikt.\n",
    "\n",
    "<!-- ## /TEKSTBLOK: Shapiro-Wilk-test.R -->\n",
    "<!-- ## OPENBLOK: Shapiro-Wilk-test.R -->\n",
    "``` {r Shapiro-Wilk Test, warning=FALSE}\n",
    "## Shapiro-Wilk test\n",
    "shapiro.test(Gemiddeld_cijfer_WNS_n30)\n",
    "```\n",
    "<!-- ## /OPENBLOK: Shapiro-Wilk-test.R -->\n",
    "\n",
    "<!-- ## TEKSTBLOK: Shapiro-Wilk-test2.R -->\n",
    "De p-waarde is `r Round_and_format(shapiro.test(Gemiddeld_cijfer_WNS_n30)$p.value)`, dus er is geen significant verschil gevonden tussen de verdeling van de steekproef en de normale verdeling. De *one sample-t-toets* kan uitgevoerd worden.\n",
    "<!-- ## /TEKSTBLOK: Shapiro-Wilk-test2.R -->\n",
    "\n",
    "##  One sample t-toets\n",
    "<!-- ## TEKSTBLOK: T-test.R -->\n",
    "Gebruik de functie `t.test()` om een t-toets uit te voeren. Gebruik het argument `mu = 6.8` om het gemiddelde te specificeren waarmee wordt vergeleken en specifieer welke alternatieve hypothese er getoetst wordt. De verwachting is dat de studenten hoger scoren, maar omdat het relevant is om te weten of de studenten ook lager scoren dan het landelijk gemiddelde, is er voor gekozen om tweezijdig te toetsen. Gebruik hiervoor `alternative = \"two.sided\"`. Gebruik de hele dataset `Gemiddeld_cijfer_WNS` met *n* = `r vN`. \n",
    "<!-- ## /TEKSTBLOK: T-test.R -->\n",
    "<!-- ## OPENBLOK: T-test.R -->"
   ]
  },
  {
   "cell_type": "code",
   "execution_count": null,
   "id": "f08dc754",
   "metadata": {
    "lines_to_next_cell": 0,
    "name": "ttest"
   },
   "outputs": [],
   "source": [
    "## T-test\n",
    "t.test(Gemiddeld_cijfer_WNS, mu = 6.8, alternative = \"two.sided\")"
   ]
  },
  {
   "cell_type": "markdown",
   "id": "e1fa500c",
   "metadata": {
    "lines_to_next_cell": 0
   },
   "source": [
    "<!-- ## /OPENBLOK: T-test.R -->\n",
    "<!-- ## CLOSEDBLOK: T-test.R -->"
   ]
  },
  {
   "cell_type": "code",
   "execution_count": null,
   "id": "081d1bac",
   "metadata": {
    "lines_to_next_cell": 0,
    "name": "ttest als object",
    "tags": [
     "remove_input"
    ]
   },
   "outputs": [],
   "source": [
    "t <- t.test(Gemiddeld_cijfer_WNS, mu = 6.8, alternative = \"two.sided\")\n",
    "vP <- Round_and_format(t$p.value)"
   ]
  },
  {
   "cell_type": "markdown",
   "id": "dde20d75",
   "metadata": {
    "lines_to_next_cell": 0
   },
   "source": [
    "<!-- ## /CLOSEDBLOK: T-test.R -->\n",
    "\n",
    "<!-- ## TEKSTBLOK: betrouwbaarheidsintervaltekst.R -->\n",
    "\n",
    "<!-- ## /TEKSTBLOK: betrouwbaarheidsintervaltekst.R -->\n",
    "\n",
    "<!-- ## OPENBLOK: betrouwbaarheidsinterval.R -->\n",
    "\n",
    "<!-- ## /OPENBLOK: betrouwbaarheidsinterval.R -->\n",
    "\n",
    "<!-- ## TEKSTBLOK: T-test2.R -->\n",
    "* Vrijheidsgraden, *df* = *n* -1 = `r Round_and_format(t$parameter+1)`-1 = `r t$parameter`  \n",
    "* *t* ~`r t$parameter`~ = `r Round_and_format(t$statistic)`, *p* < 0,0001\n",
    "* De p-waarde is kleiner dan 0,05, dus de H~0~ wordt verworpen [^11]\n",
    "* 95%-betrouwbaarheidsinterval: bij het herhalen van het experiment met verschillende steekproeven van de populatie zal 95% van de betrouwbaarheidsintervallen de daadwerkelijke parameter bevatten, het gemiddeld eindexamencijfer exacte vakken. In deze casus is het interval tussen `r Round_and_format(t$conf.int[1])` en `r Round_and_format(t$conf.int[2])`. Aangezien 6.8 niet in dit interval zit, verschilt het gemiddelde significant van 6.8.\n",
    "* Het gemiddelde van de steekproef is `r Round_and_format(mean(Gemiddeld_cijfer_WNS))`\n",
    "<!-- ## /TEKSTBLOK: T-test2.R -->\n",
    "\n",
    "# Rapportage\n",
    "<!-- ## TEKSTBLOK: Rapportage.R -->\n",
    "De *one sample t-toets* is uitgevoerd om te toetsen of het gemiddelde eindexamencijfer voor de exacte vakken van vwo studenten die Werktuigbouwkunde zijn gaan studeren anders is dan het landelijk gemiddelde. Het gemiddelde van de steekproef (*M* = `r Round_and_format(mean(Gemiddeld_cijfer_WNS))`, *SD* = `r Round_and_format(sd(Gemiddeld_cijfer_WNS))`) is significant verschillend van het landelijk gemiddelde van 6,8, *t* ~`r t$parameter`~ = `r Round_and_format(t$statistic)`, *p* < 0,0001. \n",
    "<!-- ## /TEKSTBLOK: Rapportage.R -->\n",
    "De resultaten suggereren dat het gemiddelde eindexamencijfer voor de exacte vakken van studenten Werktuigbouwkunde met een vwo vooropleiding hoger ligt dan het landelijk gemiddelde.\n",
    "\n",
    "<!-- ## CLOSEDBLOK: Footer.R -->"
   ]
  },
  {
   "cell_type": "code",
   "execution_count": null,
   "id": "79ebabdd",
   "metadata": {
    "code": "#R_CODE#readLines(paste0(here::here(),\"/01. Includes/code/Footer.R\"))",
    "include": true,
    "lines_to_next_cell": 0,
    "name": "footer",
    "results": "asis",
    "tags": [
     "remove_input"
    ]
   },
   "outputs": [],
   "source": []
  },
  {
   "cell_type": "markdown",
   "id": "74c7221b",
   "metadata": {},
   "source": [
    "<!-- ## /CLOSEDBLOK: Footer.R -->\n",
    "\n",
    "[^1]: Van Geloven, N. (25 mei 2016). *T-toets* [Wiki Statistiek Academisch Medisch Centrum](https://wikistatistiek.amc.nl/index.php/T-toets#one_sample_t-toets). \n",
    "[^2]: Centraal Instituut voor Toetsontwikkeling (2018). *Examenverslag 2018*. https://www.cito.nl/onderwijs/voortgezet-onderwijs/centrale-examens-voortgezet-onderwijs/tools-en-informatie-voor-docenten/examenverslagen/examenverslag-2018\n",
    "[^3]: Lumley, T., Diehr, P., Emerson, S., & Chen, L. (2002). The importance of the normality assumption in large public health data sets. Annu Rev Public Health, 23, 151-69. doi: 10.1146/annurev.publheath.23.100901.140546 http://rctdesign.org/techreports/arphnonnormality.pdf\n",
    "[^4]: Laerd statistics (2018). [Testing for Normality using SPSS Statistics](https://statistics.laerd.com/spss-tutorials/testing-for-normality-using-spss-statistics.php).  \n",
    "[^5]: Normaliteit. (14 juli 2014). [UvA Wiki Methodologiewinkel](https://wiki.uva.nl/methodologiewinkel/index.php/Normaliteit).\n",
    "[^6]: Er zijn verschillende opties om variabelen te transformeren, zoals de logaritme, wortel of inverse (1 gedeeld door de variabele) nemen van de variabele. Zie *Discovering statistics using IBM SPSS statistics* van Field (2013) pagina 201-210 voor meer informatie over welke transformaties wanneer gebruikt kunnen worden.\n",
    "[^7]: De [Wilcoxon signed rank toets](07-Wilcoxon-signed-rank-toets-R.html) maakt een rangschikking van de data. Hierdoor is de test verdelingsvrij en is normaliteit geen assumptie. Ook zijn uitbijters minder van invloed op het eindresultaat. Toch wordt er voor deze test minder vaak gekozen, doordat bij het maken van een rankschikking de data informatie verliest. Als de data wel normaal verdeeld zijn heeft de [Wilcoxon signed rank toets](07-Wilcoxon-signed-rank-toets-R.html) minder onderscheidend vermogen dan wanneer de *one sample t-toets* uitgevoerd zou worden. \n",
    "[^8]: Prabhakaran, S. (2016-2017). *Statistical Tests*. http://r-statistics.co/Statistical-Tests-in-R.html  \n",
    "[^9]: Outliers (13 augustus 2016). [UvA Wiki Methodologiewinkel](https://wiki.uva.nl/methodologiewinkel/index.php/Outliers).\n",
    "[^10]: Uitbijters kunnen bepalend zijn voor de uitkomst van toetsen. Bekijk of de uitbijters valide uitbijters zijn en niet een meetfout of op een andere manier incorrect verkregen data. Het weghalen van uitbijters kan de uitkomst ook vertekenen, daarom is het belangrijk om verwijderde uitbijters te melden in een rapport. \n",
    "[^11]: In dit voorbeeld wordt uitgegaan van een waarschijnlijkheid van 95% c.q. een p-waardegrens van 0,05. De grens is naar eigen inzicht aan te passen; houd hierbij rekening met type I en type II fouten.\n",
    "[^18]: De breedte van de staven van het histogram wordt vaak automatisch bepaald, maar kan handmatig aangepast worden. Aangezien de breedte van de staven bepalend zijn voor de indruk die de visualisatie geeft, is het verstandig om hier goed op te letten."
   ]
  }
 ],
 "metadata": {
  "jupytext": {
   "cell_metadata_filter": "message,tags,name,warning,echo,code,results,collapse,include,eval,-all",
   "main_language": "R",
   "notebook_metadata_filter": "-all"
  },
  "language_info": {
   "codemirror_mode": {
    "name": "ipython",
    "version": 3
   },
   "file_extension": ".py",
   "mimetype": "text/x-python",
   "name": "python",
   "nbconvert_exporter": "python",
   "pygments_lexer": "ipython3",
   "version": "3.8.10"
  }
 },
 "nbformat": 4,
 "nbformat_minor": 5
}