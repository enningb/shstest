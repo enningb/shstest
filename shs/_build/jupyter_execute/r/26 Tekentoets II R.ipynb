{
 "cells": [
  {
   "cell_type": "raw",
   "id": "da53e055",
   "metadata": {},
   "source": [
    "---\n",
    "title: \"Tekentoets\"\n",
    "output:\n",
    "  html_document:\n",
    "    theme: lumen\n",
    "    toc: yes\n",
    "    toc_depth: 2\n",
    "    toc_float: \n",
    "      collapsed: FALSE \n",
    "    number_sections: true\n",
    "    includes:\n",
    "      in_header: [\"../01. Includes/html/nocache.html\", \"../01. Includes/html/favicon.html\", \"../01. Includes/html/analytics.html\"]\n",
    "  keywords: [statistisch handboek, studiedata]\n",
    "---"
   ]
  },
  {
   "cell_type": "markdown",
   "id": "1477092a",
   "metadata": {
    "lines_to_next_cell": 0
   },
   "source": [
    "<!-- ## CLOSEDBLOK: Functies.R -->"
   ]
  },
  {
   "cell_type": "code",
   "execution_count": 1,
   "id": "04f06c5f",
   "metadata": {
    "include": true,
    "lines_to_next_cell": 0,
    "message": false,
    "name": "functies",
    "results": "asis",
    "tags": [
     "remove_input"
    ],
    "warning": false
   },
   "outputs": [
    {
     "ename": "SyntaxError",
     "evalue": "invalid syntax (<ipython-input-1-924f26e6aa13>, line 2)",
     "output_type": "error",
     "traceback": [
      "\u001b[0;36m  File \u001b[0;32m\"<ipython-input-1-924f26e6aa13>\"\u001b[0;36m, line \u001b[0;32m2\u001b[0m\n\u001b[0;31m    if (!exists(\"Substitute_var\")) {\u001b[0m\n\u001b[0m        ^\u001b[0m\n\u001b[0;31mSyntaxError\u001b[0m\u001b[0;31m:\u001b[0m invalid syntax\n"
     ]
    }
   ],
   "source": [
    "library(here)\n",
    "if (!exists(\"Substitute_var\")) {\n",
    "  ## Installeer packages en functies\n",
    "  source(paste0(here::here(), \"/99. Functies en Libraries/00. Voorbereidingen.R\"), echo = FALSE)\n",
    "}"
   ]
  },
  {
   "cell_type": "markdown",
   "id": "6a33a2ba",
   "metadata": {
    "lines_to_next_cell": 0
   },
   "source": [
    "<!-- ## /CLOSEDBLOK: Functies.R -->\n",
    "\n",
    "<!-- ## CLOSEDBLOK: CSS -->\n",
    "<style>\n",
    "`r htmltools::includeHTML(paste0(here::here(),\"/01. Includes/css/Stylesheet_SHHO.css\"))`\n",
    "</style>\n",
    "<!-- ## /CLOSEDBLOK: CSS -->\n",
    "\n",
    "<!-- ## CLOSEDBLOK: Header.R -->"
   ]
  },
  {
   "cell_type": "code",
   "execution_count": null,
   "id": "a1cb48b5",
   "metadata": {
    "code": "#R_CODE#readLines(paste0(here::here(),\"/01. Includes/code/Header.R\"))",
    "include": true,
    "lines_to_next_cell": 0,
    "name": "header",
    "results": "asis",
    "tags": [
     "remove_input"
    ]
   },
   "outputs": [],
   "source": []
  },
  {
   "cell_type": "markdown",
   "id": "b24ab746",
   "metadata": {
    "lines_to_next_cell": 0
   },
   "source": [
    "<!-- ## /CLOSEDBLOK: Header.R -->\n",
    "\n",
    "<!-- ## CLOSEDBLOK: Status.R -->"
   ]
  },
  {
   "cell_type": "code",
   "execution_count": null,
   "id": "98df49a4",
   "metadata": {
    "code": "#R_CODE#readLines(paste0(here::here(),\"/01. Includes/code/Status.R\"))",
    "include": true,
    "lines_to_next_cell": 0,
    "name": "status",
    "results": "asis",
    "tags": [
     "remove_input"
    ]
   },
   "outputs": [],
   "source": []
  },
  {
   "cell_type": "markdown",
   "id": "83ef4848",
   "metadata": {
    "lines_to_next_cell": 0
   },
   "source": [
    "<!-- ## /CLOSEDBLOK: Status.R -->\n",
    "\n",
    "<!-- ## CLOSEDBLOK: Reticulate.R -->\n",
    "\n",
    "<!-- ## /CLOSEDBLOK: Reticulate.R -->\n",
    "\n",
    "<!-- ## OPENBLOK: Data-aanmaken.R -->"
   ]
  },
  {
   "cell_type": "code",
   "execution_count": null,
   "id": "384489c1",
   "metadata": {
    "echo": true,
    "lines_to_next_cell": 0,
    "name": "aanmaken data",
    "tags": [
     "remove_cell"
    ]
   },
   "outputs": [],
   "source": [
    "source(paste0(here::here(),\"/01. Includes/data/07.R\"))"
   ]
  },
  {
   "cell_type": "markdown",
   "id": "7bf8e8b2",
   "metadata": {},
   "source": [
    "<!-- ## /OPENBLOK: Data-aanmaken.R -->\n",
    "\n",
    "# Toepassing\n",
    "<!-- ## TEKSTBLOK: link1.R -->\n",
    "Gebruik de *tekentoets* om de medianen van twee gepaarde groepen te vergelijken.[^1] Deze toets wordt gebruikt als er niet aan de assumpties is voldaan bij sterkere toetsen zoals de [gepaarde t-toets](02-Gepaarde-t-toets-R.html) en de [Wilcoxon signed rank toets](07-Wilcoxon-signed-rank-toets-I-R.html). Als de verdeling van de steekproef bij benadering normaal verdeeld is, dan kan de [gepaarde t-toets](02-Gepaarde-t-toets-R.html) gebruikt worden om de gemiddelden te vergelijken. Als de verdeling symmetrisch is, kan de [Wilcoxon signed rank toets](07-Wilcoxon-signed-rank-toets-I-R.html) gebruikt worden om de medianen te vergelijken.[^3] De [Wilcoxon signed rank toets](07-Wilcoxon-signed-rank-toets-I-R.html) heeft in dat geval een hoger onderscheidend vermogen[^2].\n",
    "<!-- ## /TEKSTBLOK: link1.R -->\n"
   ]
  },
  {
   "cell_type": "markdown",
   "id": "da4cc035",
   "metadata": {},
   "source": [
    "# Onderwijscasus\n",
    "<div id =\"casus\">\n",
    "De directeur van de Academie Mens & Maatschappij wil bekijken hoe het inkomen van zijn alumni zich ontwikkelt nadat zij zijn afgestudeerd. Hij is nieuwsgierig of het inkomen gedurende deze jaren groeit of juist stagneert voor deze alumni. Deze informatie is interessant om te gebruiken bij voorlichtingsactiviteiten van de Academie. Hij bekijkt het bruto jaarinkomen van de alumni één jaar na afstuderen en vergelijkt het met het bruto jaarinkomen vijf jaar na afstuderen. \n",
    "\n",
    "Dit onderzoek vertaalt zich in de volgende combinatie van hypothesen, waarbij de nulhypothese zo geformuleerd is dat er geen effect of verschil is en de alternatieve hypothese zo geformuleerd is dat er wel een effect of verschil is.\n",
    "\n",
    "*H~0~*: Er is geen verschil in de medianen van het bruto jaarinkomen van de alumni van de Academie Mens & Maatschappij één jaar na afstuderen en vijf jaar na afstuderen.\n",
    "\n",
    "*H~A~*: Er is een verschil in de medianen van het bruto jaarinkomen van de alumni van de Academie Mens & Maatschappij één jaar na afstuderen en vijf jaar na afstuderen.\n",
    " \n",
    "</div>\n",
    "\n",
    "# Assumpties\n",
    "\n",
    "Het meetniveau van de variabelen is continu.[^1]"
   ]
  },
  {
   "cell_type": "markdown",
   "id": "cc62e0ac",
   "metadata": {
    "lines_to_next_cell": 0
   },
   "source": [
    "# Uitvoering\n",
    "<!-- ## TEKSTBLOK: Dataset-inladen.R-->\n",
    "Er is data ingeladen met het bruto jaarinkomen van alumni van de Academie Mens & Maatschappij genaamd `Alumni_jaarinkomen`. De directeur wil een vergelijking maken tussen het inkomen één jaar na afstuderen (meetmoment T~1~) en vijf jaar na afstuderen (meetmoment T~2~). \n",
    "<!-- ## /TEKSTBLOK: Dataset-inladen.R-->\n",
    "\n",
    "## De data bekijken\n",
    "<!-- ## TEKSTBLOK: Data-bekijken.R -->\n",
    "Gebruik `head()` en `tail()` om de structuur van de data te bekijken.\n",
    "<!-- ## /TEKSTBLOK: Data-bekijken.R -->\n",
    "\n",
    "<!-- ## OPENBLOK: Data-bekijken.R -->"
   ]
  },
  {
   "cell_type": "code",
   "execution_count": null,
   "id": "c1e7c0ba",
   "metadata": {
    "collapse": true,
    "lines_to_next_cell": 0,
    "name": "data bekijken"
   },
   "outputs": [],
   "source": [
    "## Eerste 6 observaties\n",
    "head(Alumni_jaarinkomens)\n",
    "\n",
    "## Laatste 6 observaties\n",
    "tail(Alumni_jaarinkomens)"
   ]
  },
  {
   "cell_type": "markdown",
   "id": "4280cd4b",
   "metadata": {
    "lines_to_next_cell": 0
   },
   "source": [
    "<!-- ## /OPENBLOK: Data-bekijken.R -->\n",
    "\n",
    "<!-- ## TEKSTBLOK: Data-beschrijven11.R-->\n",
    "Bekijk de grootte en de mediaan  van de data met `length()` en `median()`. Maak hiervoor twee vectoren met daarin de jaarinkomens op T~1~ en T~2~.\n",
    "<!-- ## /TEKSTBLOK: Data-beschrijven11.R-->\n",
    "\n",
    "<!-- ## OPENBLOK: Data-selecteren.R-->"
   ]
  },
  {
   "cell_type": "code",
   "execution_count": null,
   "id": "896ab082",
   "metadata": {
    "lines_to_next_cell": 0,
    "name": "data selecteren"
   },
   "outputs": [],
   "source": [
    "Alumni_jaarinkomens_T1 <- Alumni_jaarinkomens$Inkomen[Alumni_jaarinkomens$Meetmoment == \"T1\"]\n",
    "Alumni_jaarinkomens_T2 <- Alumni_jaarinkomens$Inkomen[Alumni_jaarinkomens$Meetmoment == \"T2\"]"
   ]
  },
  {
   "cell_type": "markdown",
   "id": "aa87bad5",
   "metadata": {
    "lines_to_next_cell": 0
   },
   "source": [
    "<!-- ## /OPENBLOK: Data-selecteren.R-->\n",
    "\n",
    "<div class=\"col-container\">\n",
    "  <div class=\"col\">\n",
    "<!-- ## OPENBLOK: Data-beschrijven-1.R -->"
   ]
  },
  {
   "cell_type": "code",
   "execution_count": null,
   "id": "d4917eb5",
   "metadata": {
    "collapse": true,
    "lines_to_next_cell": 0,
    "name": "data beschrijven 1"
   },
   "outputs": [],
   "source": [
    "length(Alumni_jaarinkomens_T1)\n",
    "median(Alumni_jaarinkomens_T1)"
   ]
  },
  {
   "cell_type": "markdown",
   "id": "324a6772",
   "metadata": {
    "lines_to_next_cell": 0
   },
   "source": [
    "<!-- ## /OPENBLOK: Data-beschrijven-1.R -->\n",
    "  </div>\n",
    "  <div class=\"col\">\n",
    "<!-- ## OPENBLOK: Data-beschrijven-2.R -->"
   ]
  },
  {
   "cell_type": "code",
   "execution_count": null,
   "id": "f1d06695",
   "metadata": {
    "collapse": true,
    "lines_to_next_cell": 0,
    "name": "Data beschrijven 2"
   },
   "outputs": [],
   "source": [
    "length(Alumni_jaarinkomens_T2)\n",
    "median(Alumni_jaarinkomens_T2)"
   ]
  },
  {
   "cell_type": "markdown",
   "id": "b39a1721",
   "metadata": {
    "lines_to_next_cell": 0
   },
   "source": [
    "<!-- ## /OPENBLOK: Data-beschrijven-2.R -->\n",
    "  </div>\n",
    "</div>\n",
    "<!-- ## CLOSEDBLOK: Data-beschrijven-2.R -->"
   ]
  },
  {
   "cell_type": "code",
   "execution_count": null,
   "id": "1aa018c9",
   "metadata": {
    "echo": true,
    "lines_to_next_cell": 0,
    "name": "data beschrijven als object",
    "tags": [
     "remove_cell"
    ]
   },
   "outputs": [],
   "source": [
    "vMed_T1 <- median(Alumni_jaarinkomens_T1)\n",
    "vN_T1 <- length(Alumni_jaarinkomens_T1)\n",
    "vMed_T2 <- median(Alumni_jaarinkomens_T2)\n",
    "vN_T2 <- length(Alumni_jaarinkomens_T2)"
   ]
  },
  {
   "cell_type": "markdown",
   "id": "871540b7",
   "metadata": {},
   "source": [
    "<!-- ## /CLOSEDBLOK: Data-beschrijven-2.R -->\n",
    "<!-- ## TEKSTBLOK: Data-beschrijven.R-->\n",
    "* Mediaan bruto jaarinkomen op T~1~: `r paste0(\"€\",format(vMed_T1, scientific = FALSE))` \n",
    "* Mediaan bruto jaarinkomen op T~2~: `r paste0(\"€\",format(vMed_T2, scientific = FALSE))` \n",
    "* Aangezien de gegevens gepaard zijn, zijn de groepsgroottes op beide meetmomenten gelijk: *n~T1~* = `r vN_T1` en *n~T2~* = `r vN_T2`\n",
    "\n",
    "<!-- ## /TEKSTBLOK: Data-beschrijven.R-->"
   ]
  },
  {
   "cell_type": "markdown",
   "id": "19381ded",
   "metadata": {
    "lines_to_next_cell": 0
   },
   "source": [
    "## De data visualiseren\n",
    "\n",
    "Maak een histogram[^18] om de verdeling van de bruto jaarinkomens van de alumni één jaar en vijf jaar na afstuderen visueel weer te geven.\n",
    "\n",
    "<!-- ## OPENBLOK: Histogram1.R -->"
   ]
  },
  {
   "cell_type": "code",
   "execution_count": null,
   "id": "54642587",
   "metadata": {
    "lines_to_next_cell": 0,
    "message": false,
    "name": "histogram",
    "warnings": false
   },
   "outputs": [],
   "source": [
    "## Histogram met ggplot2\n",
    "library(ggplot2)\n",
    "\n",
    "ggplot(Alumni_jaarinkomens,\n",
    "  aes(x = Inkomen)) +\n",
    "  geom_histogram(color = \"grey30\",\n",
    "                 fill = \"#0089CF\",\n",
    "                 binwidth = 2000) +\n",
    "  facet_wrap(~ Meetmoment, labeller = labeller(Meetmoment = c(T1 = \"Een jaar na afstudereren\", T2 = \"Vijf jaar na afstuderen\"))) +\n",
    "  geom_density(alpha = .2, adjust = 1) +\n",
    "  ylab(\"Frequentiedichtheid\") +\n",
    "  labs(title = \"Bruto jaarinkomen alumni Mens & Maatschappij\")"
   ]
  },
  {
   "cell_type": "markdown",
   "id": "9148415b",
   "metadata": {
    "lines_to_next_cell": 0
   },
   "source": [
    "<!-- ## /OPENBLOK: Histogram1.R -->\n",
    "\n",
    "Op beide meetmomenten is te zien dat de meeste alumni tussen de 0 en €35.000 euro per jaar verdienen en dat een paar alumni hierboven zit. Beide verdelingen hebben één top, maar zijn niet symmetrisch. Bij de inkomens 1 jaar na afstuderen ligt de meerderheid van de observaties links van de top. Bij de inkomens 5 jaar na afstuderen ligt de meerderheid van de observaties juist rechts van de top. Beide verdeling lijken niet echt op elkaar qua vorm en spreiding.\n",
    "\n",
    "Maak vervolgens een histogram[^18] van de verschilscores.\n",
    "\n",
    "<!-- ## OPENBLOK: Histogram2.R -->"
   ]
  },
  {
   "cell_type": "code",
   "execution_count": null,
   "id": "1c739b4b",
   "metadata": {
    "lines_to_next_cell": 0,
    "message": false,
    "name": "histogram2",
    "warnings": false
   },
   "outputs": [],
   "source": [
    "# Maak een dataset met de verschilscores\n",
    "Alumni_verschilscores <- data.frame(Verschilscores = Alumni_jaarinkomens$Inkomen[Alumni_jaarinkomens$Meetmoment == \"T2\"] - Alumni_jaarinkomens$Inkomen[Alumni_jaarinkomens$Meetmoment == \"T1\"])\n",
    "\n",
    "## Maak een histogram met ggplot2\n",
    "library(ggplot2)\n",
    "\n",
    "ggplot(Alumni_verschilscores,\n",
    "  aes(x = Verschilscores)) +\n",
    "  geom_histogram(color = \"grey30\",\n",
    "                 fill = \"#0089CF\",\n",
    "                 binwidth = 250) +\n",
    "  geom_density(alpha = .2, adjust = 1) +\n",
    "  ylab(\"Frequentiedichtheid\") +\n",
    "  labs(title = \"Verschilscores bruto jaarinkomen alumni Mens & Maatschappij\")"
   ]
  },
  {
   "cell_type": "markdown",
   "id": "cd3bd96d",
   "metadata": {},
   "source": [
    "<!-- ## /OPENBLOK: Histogram2.R -->\n",
    "\n",
    "De verdeling van de verschilscores bevat voornamelijk positieve waarden en een paar negatieve waarden; de meeste alumni zijn er dus in bruto jaarinkomen op vooruitgegaan. De verdeling lijkt niet geheel symmetrisch te zijn \n"
   ]
  },
  {
   "cell_type": "markdown",
   "id": "06488146",
   "metadata": {
    "lines_to_next_cell": 0
   },
   "source": [
    "## Tekentoets\n",
    "<!-- ## TEKSTBLOK: Wilcoxon-signed-rank-toets.R -->\n",
    "Voer de *tekentoets* uit om de vraag te beantwoorden of de mediaan van de bruto jaarinkomens van alumni verschillend is voor de inkomens één jaar en vijf jaar na afstuderen. Gebruik om aan te geven dat de twee meetmomenten aan elkaar gepaard zijn het argument `paired = TRUE`.  Toets tweezijdig door het argument `alternative = \"two.sided\"` te gebruiken. Gebruik een tweezijdige toets om ook de optie open te houden dat de inkomens 5 jaar na afstuderen lager zijn dan 1 jaar na afstuderen.\n",
    "<!-- ## /TEKSTBLOK: Wilcoxon-signed-rank-toets.R -->\n",
    "\n",
    "<!-- ## OPENBLOK: Wilcoxon-signed-rank-toets.R -->"
   ]
  },
  {
   "cell_type": "code",
   "execution_count": null,
   "id": "59c5cb21",
   "metadata": {
    "lines_to_next_cell": 0,
    "name": "wilcox test"
   },
   "outputs": [],
   "source": [
    "library(DescTools)\n",
    "SignTest(Alumni_jaarinkomens_T2, Alumni_jaarinkomens_T1, alternative = \"two.sided\")"
   ]
  },
  {
   "cell_type": "markdown",
   "id": "2df96017",
   "metadata": {
    "lines_to_next_cell": 0
   },
   "source": [
    "<!-- ## /OPENBLOK: Wilcoxon-signed-rank-toets.R -->\n",
    "\n",
    "<!-- ## CLOSEDBLOK: Wilcoxon-signed-rank-toets.R -->"
   ]
  },
  {
   "cell_type": "code",
   "execution_count": null,
   "id": "c6968e8c",
   "metadata": {
    "echo": true,
    "lines_to_next_cell": 0,
    "name": "wilcox test als object",
    "tags": [
     "remove_cell"
    ]
   },
   "outputs": [],
   "source": [
    "b <- SignTest(Alumni_jaarinkomens_T2, Alumni_jaarinkomens_T1, \n",
    "              alternative = \"two.sided\")\n",
    "\n",
    "vS <- b$statistic\n",
    "vN <- b$parameter\n",
    "vconf.int1 <- Round_and_format(b$conf.int[1])\n",
    "vconf.int2 <- Round_and_format(b$conf.int[2])\n",
    "vMed <- Round_and_format(b$estimate)"
   ]
  },
  {
   "cell_type": "markdown",
   "id": "ad3ba056",
   "metadata": {
    "lines_to_next_cell": 0
   },
   "source": [
    "<!-- ## /CLOSEDBLOK: Wilcoxon-signed-rank-toets.R -->\n",
    "\n",
    "<!-- ## TEKSTBLOK: Wilcoxon-signed-rank-toets2.R -->\n",
    "* Er is een significant verschil tussen het mediane inkomen vijf jaar en één jaar na afstuderen, *S* = `r vS`, *N* = `r vN`, *p* < 0,0001 [^4]\n",
    "* De toetsstatistiek *S* is het aantal positieve verschillen (inkomen vijf jaar na afstuderen hoger dan één jaar na afstuderen), *N* is het totaal aantal deelnemers[^19] (alumni)\n",
    "* Van de `r vN` alumni verdienen `r vS` alumni meer vijf jaar na afstuderen dan één jaar na afstuderen\n",
    "* De geschatte mediaan van de verschilscores is `r vMed` met bijbehorend 96%-betrouwbaarheidsinterval[^5] van `r vconf.int1` tot `r vconf.int2`.\n",
    "\n",
    "<!-- ## /TEKSTBLOK: Wilcoxon-signed-rank-toets2.R -->\n",
    "\n",
    "# Rapportage\n",
    "<!-- ## TEKSTBLOK: Rapportage.R -->\n",
    "\n",
    "De *tekentoets* is uitgevoerd om te onderzoeken of er een verschil is tussen het mediane bruto jaarinkomen van de alumni van de Academie Mens & Maatschappij één jaar en vijf jaar na afstuderen. De resultaten van de toets laten zien dat er een significant verschil is tussen beide medianen, *S* = `r vS`, *N* = `r vN`, *p* < 0,0001. De geschatte mediaan van de verschilscores is €`r vMed` met bijbehorend 96%-betrouwbaarheidsinterval van €`r vconf.int1` tot €`r vconf.int2`. Van de `r vN` alumni verdienen `r vS` alumni meer vijf jaar na afstuderen. Deze resultaten duiden op een verschil in het mediane bruto jaarinkomen van de alumni van de Academie Mens & Maatschappij waarbij de inkomens vijf jaar na afstuderen hoger lijken te liggen.\n",
    "<!-- ## /TEKSTBLOK: Rapportage.R -->\n",
    "\n",
    "<!-- ## CLOSEDBLOK: Footer.R -->"
   ]
  },
  {
   "cell_type": "code",
   "execution_count": null,
   "id": "7863103a",
   "metadata": {
    "code": "#R_CODE#readLines(paste0(here::here(),\"/01. Includes/code/Footer.R\"))",
    "include": true,
    "lines_to_next_cell": 0,
    "name": "footer",
    "results": "asis",
    "tags": [
     "remove_input"
    ]
   },
   "outputs": [],
   "source": []
  },
  {
   "cell_type": "markdown",
   "id": "719e1567",
   "metadata": {},
   "source": [
    "<!-- ## /CLOSEDBLOK: Footer.R -->\n",
    "\n",
    "[^1]: Laerd Statistics (2018). *Sign Test using SPSS Statistics*. https://statistics.laerd.com/spss-tutorials/sign-test-using-spss-statistics.php\n",
    "[^2]: Onderscheidend vermogen, in het Engels power genoemd, is de kans dat de nulhypothese verworpen wordt wanneer de alternatieve hypothese waar is.\n",
    "[^3]: Statistics How To (27 mei 2018). *One Sample Median Test*. [Statistics How to](https://www.statisticshowto.datasciencecentral.com/one-sample-median-test/).\n",
    "[^4]: In dit voorbeeld wordt uitgegaan van een waarschijnlijkheid van 95% c.q. een p-waardegrens van 0,05. De grens is naar eigen inzicht aan te passen; houd hierbij rekening met type I en type II fouten.\n",
    "[^5]: Omdat het betrouwbaarheidsinterval van de mediaan van verschilscores exact berekend wordt, kan het percentage van het betrouwbaarheidsinterval afwijken van 95%. In dit geval is het 96%.\n",
    "[^18]: De breedte van de staven van het histogram wordt vaak automatisch bepaald, maar kan handmatig aangepast worden. Aangezien de breedte van de staven bepalend zijn voor de indruk die de visualisatie geeft, is het verstandig om hier goed op te letten.\n",
    "[^19]: Met een deelnemer wordt het object bedoeld dat geobserveerd wordt, bijvoorbeeld een student, een inwoner van Nederland, een opleiding of een organisatie. Met een observatie wordt de waarde bedoeld die de deelnemer heeft voor een bepaalde variabele. Een deelnemer heeft dus meestal een observatie voor meerdere variabelen."
   ]
  }
 ],
 "metadata": {
  "jupytext": {
   "cell_metadata_filter": "message,tags,name,warning,echo,code,results,collapse,include,warnings,-all",
   "main_language": "R",
   "notebook_metadata_filter": "-all"
  },
  "language_info": {
   "codemirror_mode": {
    "name": "ipython",
    "version": 3
   },
   "file_extension": ".py",
   "mimetype": "text/x-python",
   "name": "python",
   "nbconvert_exporter": "python",
   "pygments_lexer": "ipython3",
   "version": "3.8.10"
  }
 },
 "nbformat": 4,
 "nbformat_minor": 5
}