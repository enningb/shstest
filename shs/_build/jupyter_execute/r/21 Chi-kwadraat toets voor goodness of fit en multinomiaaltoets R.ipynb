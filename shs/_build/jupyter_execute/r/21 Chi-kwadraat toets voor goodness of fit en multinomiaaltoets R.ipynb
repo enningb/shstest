{
 "cells": [
  {
   "cell_type": "raw",
   "id": "81e13f07",
   "metadata": {
    "lines_to_next_cell": 0
   },
   "source": [
    "---\n",
    "title: \"Chi-kwadraat toets voor goodness of fit en multinomiaaltoets\"\n",
    "output:\n",
    "  html_document:\n",
    "    theme: lumen\n",
    "    toc: yes\n",
    "    toc_depth: 2\n",
    "    toc_float: \n",
    "      collapsed: FALSE \n",
    "    number_sections: true\n",
    "    includes:\n",
    "      in_header: [\"../01. Includes/html/nocache.html\", \"../01. Includes/html/favicon.html\", \"../01. Includes/html/analytics.html\"]\n",
    "  keywords: [statistisch handboek, studiedata]\n",
    "---"
   ]
  },
  {
   "cell_type": "markdown",
   "id": "afdd7bdb",
   "metadata": {
    "lines_to_next_cell": 0
   },
   "source": [
    "<!-- ## CLOSEDBLOK: Functies.R -->"
   ]
  },
  {
   "cell_type": "code",
   "execution_count": 1,
   "id": "40a2ea82",
   "metadata": {
    "include": true,
    "lines_to_next_cell": 0,
    "message": false,
    "name": "functies",
    "results": "asis",
    "tags": [
     "remove_input"
    ],
    "warning": false
   },
   "outputs": [
    {
     "ename": "SyntaxError",
     "evalue": "invalid syntax (<ipython-input-1-924f26e6aa13>, line 2)",
     "output_type": "error",
     "traceback": [
      "\u001b[0;36m  File \u001b[0;32m\"<ipython-input-1-924f26e6aa13>\"\u001b[0;36m, line \u001b[0;32m2\u001b[0m\n\u001b[0;31m    if (!exists(\"Substitute_var\")) {\u001b[0m\n\u001b[0m        ^\u001b[0m\n\u001b[0;31mSyntaxError\u001b[0m\u001b[0;31m:\u001b[0m invalid syntax\n"
     ]
    }
   ],
   "source": [
    "library(here)\n",
    "if (!exists(\"Substitute_var\")) {\n",
    "  ## Installeer packages en functies\n",
    "  source(paste0(here::here(), \"/99. Functies en Libraries/00. Voorbereidingen.R\"), echo = FALSE)\n",
    "}"
   ]
  },
  {
   "cell_type": "markdown",
   "id": "03456a7e",
   "metadata": {
    "lines_to_next_cell": 0
   },
   "source": [
    "<!-- ## /CLOSEDBLOK: Functies.R -->\n",
    "\n",
    "<!-- ## CLOSEDBLOK: CSS -->\n",
    "<style>\n",
    "`r htmltools::includeHTML(paste0(here::here(),\"/01. Includes/css/Stylesheet_SHHO.css\"))`\n",
    "</style>\n",
    "<!-- ## /CLOSEDBLOK: CSS -->\n",
    "\n",
    "<!-- ## CLOSEDBLOK: Header.R -->"
   ]
  },
  {
   "cell_type": "code",
   "execution_count": null,
   "id": "c1f15ad7",
   "metadata": {
    "code": "#R_CODE#readLines(paste0(here::here(),\"/01. Includes/code/Header.R\"))",
    "include": true,
    "lines_to_next_cell": 0,
    "name": "header",
    "results": "asis",
    "tags": [
     "remove_input"
    ]
   },
   "outputs": [],
   "source": []
  },
  {
   "cell_type": "markdown",
   "id": "df6848f8",
   "metadata": {
    "lines_to_next_cell": 0
   },
   "source": [
    "<!-- ## /CLOSEDBLOK: Header.R -->\n",
    "\n",
    "<!-- ## CLOSEDBLOK: Status.R -->"
   ]
  },
  {
   "cell_type": "code",
   "execution_count": null,
   "id": "df086609",
   "metadata": {
    "code": "#R_CODE#readLines(paste0(here::here(),\"/01. Includes/code/Status.R\"))",
    "include": true,
    "lines_to_next_cell": 0,
    "name": "status",
    "results": "asis",
    "tags": [
     "remove_input"
    ]
   },
   "outputs": [],
   "source": []
  },
  {
   "cell_type": "markdown",
   "id": "efd92cf1",
   "metadata": {
    "lines_to_next_cell": 0
   },
   "source": [
    "<!-- ## /CLOSEDBLOK: Status.R -->\n",
    "\n",
    "<!-- ## CLOSEDBLOK: Reticulate.R -->\n",
    "\n",
    "<!-- ## /CLOSEDBLOK: Reticulate.R -->\n",
    "\n",
    "<!-- ## OPENBLOK: Data-aanmaken.R -->"
   ]
  },
  {
   "cell_type": "code",
   "execution_count": null,
   "id": "c3a35e61",
   "metadata": {
    "echo": true,
    "lines_to_next_cell": 0,
    "name": "aanmaken data",
    "tags": [
     "remove_cell"
    ]
   },
   "outputs": [],
   "source": [
    "source(paste0(here::here(),\"/01. Includes/data/21.R\"))"
   ]
  },
  {
   "cell_type": "markdown",
   "id": "3d60518f",
   "metadata": {
    "lines_to_next_cell": 0
   },
   "source": [
    "<!-- ## /OPENBLOK: Data-aanmaken.R -->\n",
    "\n",
    "# Toepassing\n",
    "\n",
    "<!-- ## TEKSTBLOK: Link1.R -->\n",
    "Gebruik de *Chi-kwadraat toets voor goodness of fit* om te onderzoeken of de geobserveerde frequenties van de categorieën van één categorische variabele met meer dan twee categorieën overeenkomt met de verwachte frequenties van de categorische variabele.[^6]<sup>,</sup>[^7] Met deze toets kunnen geobserveerde percentages met bekende of verwachte percentages vergeleken worden. Gebruik de exacte *multinomiaaltoets* bij een laag aantal observaties, dit wordt bij de assumpties toegelicht.[^1] De *Chi-kwadraat toets voor goodness of fit* kan ook gebruikt worden voor een categorische variabele met twee categorieën. Voor de exacte *multinomiaaltoets* geldt dit ook, maar in dat geval is de toets gelijk aan de exacte *binomiaaltoets* die te vinden is in bijbehorende [toetspagina](11-Chi-kwadraat-toets-voor-goodness-of-fit-en-binomiaaltoets-R.html). De *Chi-kwadraat toets voor goodness of fit* en de exacte *multinomiaaltoets* zijn voor zowel nominale[^9] als ordinale[^8] variabelen te gebruiken.\n",
    "<!-- ## /TEKSTBLOK: Link1.R -->\n",
    "\n",
    "# Onderwijscasus\n",
    "<div id = \"casus\">\n",
    "\n",
    "De opleidingsdirecteur van de bacheloropleiding Maritieme Techniek van een universiteit is geïnteresseerd in de resultaten van het Bindend Studie Advies (BSA) van de studenten die deze opleiding volgen. Zij is met name geïnteresseerd in de mate waarin de resultaten van het BSA overeenkomen met de resultaten van de universiteit. Bij deze universiteit ontvangt 70% van de studenten een positief BSA, 20% een negatief BSA en 10% een uitgesteld BSA aan het einde van het eerste jaar. Als blijkt dat de resultaten van het BSA voor de opleiding Maritieme Techniek afwijken van de resultaten van de gehele universiteit, dan kan dit een signaal voor de opleidingsdirecteur zijn om het eerste jaar van de opleiding anders in te richten.\n",
    "\n",
    "Dit onderzoek vertaalt zich in de volgende combinatie van hypothesen, waarbij de nulhypothese zo geformuleerd is dat er geen effect of verschil is en de alternatieve hypothese zo geformuleerd is dat er wel een effect of verschil is.\n",
    "\n",
    "H~0~: De verdeling van het BSA van de studenten Maritieme Techniek is gelijk aan de verdeling van de gehele universiteit (70% positief BSA, 20% negatief BSA en 10% uitgesteld BSA). \n",
    "\n",
    "H~A~: De verdeling van het BSA van de studenten Maritieme Techniek is niet gelijk aan de verdeling van de gehele universiteit (70% positief BSA, 20% negatief BSA en 10% uitgesteld BSA).\n",
    "\n",
    "</div>\n",
    "\n",
    "# Assumpties\n",
    "\n",
    "Om de *Chi-kwadraat toets voor goodness of fit* en de exacte *multinomiaaltoets*uit te voeren, moet de variabele nominaal[^9] of ordinaal[^8] zijn.[^6] In deze casus is de categorische variabele nominaal, bij een ordinale categorische variabele worden de toetsen op dezelfde manier uitgevoerd. \n",
    "\n",
    "De categorieën van de variabele mogen niet overlappen, wat wil zeggen dat elke observatie slechts in een van de categorieën past. Voor de *Chi-kwadraat toets voor goodness of fit* mag in niet meer dan 20% van de categorieën van de variabele de verwachte frequentie minder dan vijf zijn. Als dit wel het geval is, gebruik dan de *multinomiaaltoets*.[^7]\n",
    "\n",
    "# Post-hoc toetsen\n",
    "\n",
    "De *Chi-kwadraat toets voor goodness of fit* en de exacte *multinomiaaltoets* worden gebruikt om te onderzoeken of de verdeling van een categorische variabele met meer dan twee categorieën overeenkomt met een verwachte verdeling. Als de verdelingen niet overeenkomen, is de volgende stap om te bepalen voor welke specifieke categorieën er een verschil is. Met behulp van post-hoc toetsen wordt vervolgens bepaald in welke categorieën de verschillen te vinden zijn.\n",
    "\n",
    "Als post-hoc toets voor de *Chi-kwadraat toets voor goodness of fit* wordt het gestandaardiseerde residu gebruikt. Dit is het gestandaardiseerde verschil tussen het (geobserveerde) aantal observaties en het verwachte aantal observaties, waarbij gestandaardiseerd betekent dat het een gemiddelde van 0 en standaardafwijking van 1 heeft. Op deze manier kunnen de verschillende residuen met elkaar vergeleken worden, omdat ze dezelfde schaal hebben. Voor elke cel in de kruistabel kan het gestandaardiseerde residu bepaald worden. Vergelijkbaar met z-scores[^11] zijn deze residuen significant bij een waarde groter dan ± 1,96 wanneer een significantieniveau (α) van 0,05 wordt gehanteerd. Op deze manier kan bepaald worden in welke cellen er afwijkingen van de verwachte frequenties zijn.[^12]\n",
    "\n",
    "Voor de *multinomiaaltoets* zijn er geen voorgeschreven post-hoc toetsen. Vergelijk hiervoor de geobserveerde percentages met de percentages die verwacht worden om te onderzoeken in welke categorieën er afwijkingen zijn tussen het geobserveerde en verwachte percentage.\n",
    "\n",
    "# De data bekijken\n",
    "\n",
    "<!-- ## TEKSTBLOK: Data-bekijken1.R -->\n",
    "Er is een dataset ingeladen genaamd `BSA_Maritieme_techniek`. Dit is een dataframe met studentnummers en een nominale variabele die laat zien wat voor BSA de student heeft ontvangen.\n",
    "<!-- ## /TEKSTBLOK: Data-bekijken1.R -->\n",
    "\n",
    "<!-- ## OPENBLOK: Data-bekijken2.R -->"
   ]
  },
  {
   "cell_type": "code",
   "execution_count": null,
   "id": "0a4ce2f5",
   "metadata": {
    "collapse": true,
    "lines_to_next_cell": 0,
    "name": "data bekijken"
   },
   "outputs": [],
   "source": [
    "## Eerste 6 observaties\n",
    "head(BSA_Maritieme_techniek)\n",
    "## Laatste 6 observaties\n",
    "tail(BSA_Maritieme_techniek)"
   ]
  },
  {
   "cell_type": "markdown",
   "id": "111f1d50",
   "metadata": {
    "lines_to_next_cell": 0
   },
   "source": [
    "<!-- ## /OPENBLOK: Data-bekijken2.R -->\n",
    "\n",
    "Het is informatief om de frequenties en de percentages van de drie mogelijkheden van het BSA te bepalen voor de studenten Maritieme Techniek.\n",
    "\n",
    "<!-- ## OPENBLOK: Data-bekijken3.R -->"
   ]
  },
  {
   "cell_type": "code",
   "execution_count": null,
   "id": "7ddbd30c",
   "metadata": {},
   "outputs": [],
   "source": [
    "## Bepaal de frequenties\n",
    "table(BSA_Maritieme_techniek$BSA_advies)\n"
   ]
  },
  {
   "cell_type": "code",
   "execution_count": null,
   "id": "37a962c1",
   "metadata": {
    "lines_to_next_cell": 0
   },
   "outputs": [],
   "source": [
    "## Bepaal de percentages\n",
    "100*prop.table(table(BSA_Maritieme_techniek$BSA_advies))\n"
   ]
  },
  {
   "cell_type": "code",
   "execution_count": null,
   "id": "858a3683",
   "metadata": {
    "tags": [
     "remove_input"
    ]
   },
   "outputs": [],
   "source": [
    "Tab <- table(BSA_Maritieme_techniek$BSA_advies)\n",
    "Proptab <- 100*prop.table(table(BSA_Maritieme_techniek$BSA_advies))"
   ]
  },
  {
   "cell_type": "markdown",
   "id": "0be13ddf",
   "metadata": {
    "lines_to_next_cell": 0
   },
   "source": [
    "<!-- ## /OPENBLOK: Data-bekijken3.R -->\n",
    "\n",
    "<!-- ## TEKSTBLOK: Data-bekijken4.R -->\n",
    "Het aantal studenten met een positief BSA is `r Round_and_format(Tab[2])` (`r Round_and_format(Proptab[2])`%), met een negatief BSA is `r Round_and_format(Tab[1])` (`r Round_and_format(Proptab[1])`%) en met een uitgesteld BSA is `r Round_and_format(Tab[3])` (`r Round_and_format(Proptab[3])`%). Het lijkt erop dat het percentage studenten met een positief BSA lager is dan het percentage van de gehele universiteit (70%) en dat het percentage studenten met een negatief BSA juist hoger is dan dat van de gehele universiteit (20%). De *Chi-kwadraat toets voor goodness of fit* of de *multinomiaaltoets* toetst of dit verschil significant is.\n",
    "<!-- ## /TEKSTBLOK: Data-bekijken4.R -->\n",
    "\n",
    "# Chi-kwadraat toets voor goodness of fit\n",
    "\n",
    "## Asssumptie verwachte frequenties\n",
    "\n",
    "<!-- ## TEKSTBLOK: Assumptie.R -->\n",
    "De verwachte frequentie mag niet kleiner dan vijf zijn in 20% van de categorieën van de categorische variabele. Aangezien er een variabele met drie categorieën getoetst wordt, mag geen van de drie categorieën dus minder dan vijf als verwachte frequentie hebben. Bereken de verwachte frequentie met het argument `chisq.test()$expected` van de functie `chisq.test()`. De argumenten van de functie zijn de tabel met daarin de hoeveelheid studenten voor de drie mogelijkheden van het BSA `Tabel_volgorde` en een vector die aangeeft wat de verwachte proporties[^4] zijn voor het aantal studenten met respectievelijk een positief, negatief of uitgesteld BSA `p = c(0.7, 0.2, 0.1)`. Let hierbij goed op dat de volgorde van de BSA mogelijkheden in de tabel overeenkomt met de volgorde van de proporties.\n",
    "<!-- ## /TEKSTBLOK: Assumptie.R -->\n",
    "\n",
    "<!-- ## OPENBLOK: Assumptie1.R -->"
   ]
  },
  {
   "cell_type": "code",
   "execution_count": null,
   "id": "ad4c21c4",
   "metadata": {
    "lines_to_next_cell": 0,
    "name": "chi2 assumptie"
   },
   "outputs": [],
   "source": [
    "# Maak een tabel met daarin de aantallen studenten per BSA mogelijkheid\n",
    "Tabel <- table(BSA_Maritieme_techniek$BSA_advies)\n",
    "\n",
    "# Zet de tabel op volgorde Positief, Negatief, Uitgesteld\n",
    "Tabel_volgorde <- Tabel[c(\"Positief\", \"Negatief\", \"Uitgesteld\")]\n",
    "\n",
    "# Bereken de verwachte frequenties\n",
    "chisq.test(Tabel_volgorde, p = c(0.7, 0.2, 0.1))$expected\n"
   ]
  },
  {
   "cell_type": "markdown",
   "id": "f5c42d81",
   "metadata": {},
   "source": [
    "<!-- ## /OPENBLOK: Assumptie1.R -->\n",
    "\n",
    "Geen van de verwachte frequenties is kleiner dan vijf, dus de *Chi-kwadraat toets voor goodness of fit* kan worden uitgevoerd.\n",
    "\n",
    "## Uitvoering\n",
    "\n",
    "Voer de *Chi-kwadraat toets voor goodness of fit*  uit om te onderzoeken of de verdeling van de BSA mogelijkheden van de studenten Maritieme Techniek overeenkomt met de verdeling van de gehele universiteit (70% positief BSA, 20% negatief BSA en 10% uitgesteld BSA).\n",
    "\n",
    "<!-- ## TEKSTBLOK: Chi-kwadraat1.R -->\n",
    "Gebruik de functie `chisq.test()` met als argumenten de tabel met daarin de hoeveelheid studenten voor de drie mogelijkheden van het BSA `Tabel_volgorde` en een vector die aangeeft wat de verwachte proporties[^4] zijn voor het aantal studenten met respectievelijk een positief, negatief of uitgesteld BSA `p = c(0.7, 0.2, 0.1)`. Let hierbij goed op dat de volgorde van de BSA mogelijkheden in de tabel overeenkomt met de volgorde van de proporties.\n",
    "<!-- ## /TEKSTBLOK: Chi-kwadraat1.R -->"
   ]
  },
  {
   "cell_type": "markdown",
   "id": "27bfbfb6",
   "metadata": {
    "lines_to_next_cell": 0
   },
   "source": [
    "<!-- ## OPENBLOK: Chi-kwadraat2.R-->"
   ]
  },
  {
   "cell_type": "code",
   "execution_count": null,
   "id": "cae96c1c",
   "metadata": {
    "lines_to_next_cell": 0
   },
   "outputs": [],
   "source": [
    "# Maak een tabel met daarin de aantallen studenten per BSA mogelijkheid\n",
    "Tabel <- table(BSA_Maritieme_techniek$BSA_advies)\n",
    "\n",
    "# Zet de tabel op volgorde Positief, Negatief, Uitgesteld\n",
    "Tabel_volgorde <- Tabel[c(\"Positief\", \"Negatief\", \"Uitgesteld\")]\n",
    "\n",
    "# Voer de toets uit\n",
    "chisq.test(Tabel_volgorde, p = c(0.7, 0.2, 0.1))\n"
   ]
  },
  {
   "cell_type": "markdown",
   "id": "36d1ed8b",
   "metadata": {
    "lines_to_next_cell": 0
   },
   "source": [
    "<!-- ## /OPENBLOK: Chi-kwadraat2.R-->\n",
    "\n",
    "<!-- ## CLOSEDBLOK: Chi-kwadraat3.R-->"
   ]
  },
  {
   "cell_type": "code",
   "execution_count": null,
   "id": "af0481ad",
   "metadata": {
    "echo": true,
    "lines_to_next_cell": 0,
    "tags": [
     "remove_cell"
    ]
   },
   "outputs": [],
   "source": [
    "# Maak een tabel met daarin de aantallen studenten per BSA mogelijkheid\n",
    "Tabel <- table(BSA_Maritieme_techniek$BSA_advies)\n",
    "\n",
    "# Zet de tabel op volgorde Positief, Negatief, Uitgesteld\n",
    "Tabel_volgorde <- Tabel[c(\"Positief\", \"Negatief\", \"Uitgesteld\")]\n",
    "\n",
    "# Voer de toets uit\n",
    "chi2 <- chisq.test(Tabel_volgorde, p = c(0.7, 0.2, 0.1))\n",
    "\n",
    "vchi2 <- Round_and_format(chi2$statistic)\n",
    "vp <- Round_and_format(chi2$p.value)\n",
    "vdf <- chi2$parameter"
   ]
  },
  {
   "cell_type": "markdown",
   "id": "5247b168",
   "metadata": {},
   "source": [
    "<!-- ## /CLOSEDBLOK: Chi-kwadraat3.R-->\n",
    "\n",
    "<!-- ## TEKSTBLOK: Chi-kwadraat4.R-->\n",
    "* &chi;^2^~`r vdf`~ = `r vchi2`, *p* < 0,001\n",
    "* De p-waarde is kleiner dan 0,05, dus de nulhypothese wordt verworpen.[^5]\n",
    "\n",
    "<!-- ## /TEKSTBLOK: Chi-kwadraat4.R-->"
   ]
  },
  {
   "cell_type": "markdown",
   "id": "411333a1",
   "metadata": {
    "lines_to_next_cell": 0
   },
   "source": [
    "## Post-hoc toets: gestandaardiseerde residuën\n",
    "\n",
    "Voer post-hoc toetsen uit om te bepalen voor welke BSA mogelijkheden er verschillen zijn tussen de verdeling van de studenten Maritieme Techniek en de verdeling van de gehele universiteit. Inspecteer hiervoor de Pearson residuen van de *Chi-kwadraat toets voor onafhankelijkheid* op waarden groter dan 1,96 en kleiner dan -1,96. Let op dat hier nog geen correctie voor meerdere toetsen plaatsvindt.[^10]\n",
    "\n",
    "<!-- ## TEKSTBLOK: Chi2-toets post-hoc0.R -->\n",
    "<!-- ## /TEKSTBLOK: Chi2-toets post-hoc0.R -->\n",
    "\n",
    "<!-- ## OPENBLOK: Chi2-toets post-hoc1.R -->"
   ]
  },
  {
   "cell_type": "code",
   "execution_count": null,
   "id": "51bcd75e",
   "metadata": {
    "lines_to_next_cell": 0
   },
   "outputs": [],
   "source": [
    "# Maak een tabel met daarin de aantallen studenten per BSA mogelijkheid\n",
    "Tabel <- table(BSA_Maritieme_techniek$BSA_advies)\n",
    "\n",
    "# Zet de tabel op volgorde Positief, Negatief, Uitgesteld\n",
    "Tabel_volgorde <- Tabel[c(\"Positief\", \"Negatief\", \"Uitgesteld\")]\n",
    "\n",
    "# Voer de toets uit\n",
    "Resultaat <- chisq.test(Tabel_volgorde, p = c(0.7, 0.2, 0.1))\n",
    "\n",
    "# Bekijk de gestandaardiseerde residuën\n",
    "Resultaat$residuals"
   ]
  },
  {
   "cell_type": "markdown",
   "id": "c9673ddc",
   "metadata": {
    "lines_to_next_cell": 0
   },
   "source": [
    "<!-- ## /OPENBLOK: Chi2-toets post-hoc1.R -->\n",
    "\n",
    "<!-- ## CLOSEDBLOK: Chi2-toets post-hoc1_1.R -->"
   ]
  },
  {
   "cell_type": "code",
   "execution_count": null,
   "id": "7eb1e0a6",
   "metadata": {
    "collapse": true,
    "lines_to_next_cell": 0,
    "tags": [
     "remove_input"
    ]
   },
   "outputs": [],
   "source": [
    "# Maak een tabel met daarin de aantallen studenten per BSA mogelijkheid\n",
    "Tabel <- table(BSA_Maritieme_techniek$BSA_advies)\n",
    "\n",
    "# Zet de tabel op volgorde Positief, Negatief, Uitgesteld\n",
    "Tabel_volgorde <- Tabel[c(\"Positief\", \"Negatief\", \"Uitgesteld\")]\n",
    "\n",
    "# Voer de toets uit\n",
    "Resultaat <- chisq.test(Tabel_volgorde, p = c(0.7, 0.2, 0.1))\n",
    "\n",
    "# Bekijk de gestandaardiseerde residuën\n",
    "PH_res <- Resultaat$residuals\n"
   ]
  },
  {
   "cell_type": "markdown",
   "id": "3eba636d",
   "metadata": {},
   "source": [
    "<!-- ## /CLOSEDBLOK: Chi2-toets post-hoc1_1.R -->\n",
    "\n",
    "De post-hoc toetsing op basis van de gestandaardiseerde residuën kan als volgt geïnterpreteerd worden:\n",
    "<!-- ## TEKSTBLOK: Chi2-toets post-hoc2.R-->\n",
    "\n",
    "* Significant lager aantal observaties bij een positief BSA , *z* = `r Round_and_format(PH_res[1])`\n",
    "* Significant hoger aantal observaties bij een negatief BSA , *z* = `r Round_and_format(PH_res[2])`\n",
    "* Geen significant verschillend aantal observaties bij een uitgesteld BSA , *z* = `r Round_and_format(PH_res[3])`\n",
    "\n",
    "<!-- ## /TEKSTBLOK: Chi2-toets post-hoc2.R-->\n",
    "\n",
    "## Rapportage\n",
    "<!-- ## TEKSTBLOK: Chi-kwadraat5.R-->\n",
    "De *Chi-kwadraat toets voor goodness of fit* is uitgevoerd om te onderzoeken of de verdeling van het BSA van studenten Maritieme Techniek overeenkomt met de verdeling van de gehele universiteit waar deze opleiding onder valt (70% positief BSA, 20% negatief BSA en 10% uitgesteld BSA). De verdeling van het BSA van de instromende studenten Maritieme Techniek is significant verschillend van de verdeling van de gehele universiteit, &chi;^2^~`r vdf`~ = `r vchi2`, *p* < 0,001. \n",
    "\n",
    "Uit de post-hoc toetsen blijkt dat het aantal studenten met een positief BSA significant lager is dan het percentage van de gehele universiteit (`r Round_and_format(Proptab[2])`%, *z* = `r Round_and_format(PH_res[1])`), het aantal studenten met een negatief BSA significant hoger is dan het percentage van de gehele universiteit (`r Round_and_format(Proptab[1])`%, *z* = `r Round_and_format(PH_res[2])`) en het percentage studenten met een uitgesteld BSA niet significant verschillend is van de gehele universiteit (`r Round_and_format(Proptab[3])`%, *z* = `r Round_and_format(PH_res[3])`). De resultaten suggereren dat de opleiding Maritieme Technieken qua BSA dus afwijkt van de gehele universiteit waarbij het aantal positieve BSA's lager en het aantal negatieve BSA's hoger in vergelijking tot de gehele universiteit.\n",
    "<!-- ## /TEKSTBLOK: Chi-kwadraat5.R-->"
   ]
  },
  {
   "cell_type": "markdown",
   "id": "28214b14",
   "metadata": {
    "lines_to_next_cell": 0
   },
   "source": [
    "# Multinomiaaltoets\n",
    "\n",
    "## Uitvoering\n",
    "\n",
    "<!-- ## TEKSTBLOK: Binomiaaltoets1.R -->\n",
    "Voer de *multinomiaaltoets*  uit te onderzoeken of de verdeling van de BSA mogelijkheden van de studenten Maritieme Techniek overeenkomt met de verdeling van de gehele universiteit (70% positief BSA, 20% negatief BSA en 10% uitgesteld BSA). Deze toets is een alternatief voor de *Chi-kwadraat toets voor goodness of fit* bij een laag aantal observaties. Er is een subset `BSA_Maritieme_techniek_steekproef` van de dataset `BSA_Maritieme_techniek` ingeladen met daarin een lager aantal observaties.\n",
    "<!-- ## /TEKSTBLOK: Binomiaaltoets1.R -->\n",
    "\n",
    "Het is informatief om de frequenties en de percentages van de drie mogelijkheden van het BSA te bepalen voor de studenten Maritieme Techniek.\n",
    "\n",
    "<!-- ## OPENBLOK: Binomiaaltoets3.R -->"
   ]
  },
  {
   "cell_type": "code",
   "execution_count": null,
   "id": "12e71c72",
   "metadata": {},
   "outputs": [],
   "source": [
    "table(BSA_Maritieme_techniek_steekproef$BSA_advies)\n"
   ]
  },
  {
   "cell_type": "code",
   "execution_count": null,
   "id": "9aabf733",
   "metadata": {
    "lines_to_next_cell": 0
   },
   "outputs": [],
   "source": [
    "100*prop.table(table(BSA_Maritieme_techniek_steekproef$BSA_advies))\n"
   ]
  },
  {
   "cell_type": "markdown",
   "id": "3ea5c32e",
   "metadata": {
    "lines_to_next_cell": 0
   },
   "source": [
    "<!-- ## /OPENBLOK: Binomiaaltoets3.R -->\n",
    "\n",
    "<!-- ## CLOSEDBLOK: Binomiaaltoets3_3.R -->"
   ]
  },
  {
   "cell_type": "code",
   "execution_count": null,
   "id": "46c55783",
   "metadata": {
    "lines_to_next_cell": 0,
    "tags": [
     "remove_input"
    ]
   },
   "outputs": [],
   "source": [
    "Tab2 <- table(BSA_Maritieme_techniek_steekproef$BSA_advies)\n",
    "Proptab2 <- 100*prop.table(table(BSA_Maritieme_techniek_steekproef$BSA_advies))"
   ]
  },
  {
   "cell_type": "markdown",
   "id": "637c3805",
   "metadata": {
    "lines_to_next_cell": 0
   },
   "source": [
    "<!-- ## /CLOSEDBLOK: Binomiaaltoets3_3.R -->\n",
    "\n",
    "<!-- ## TEKSTBLOK: Binomiaaltoets4.R -->\n",
    "Het aantal studenten met een positief BSA is `r Round_and_format(Tab2[2])` (`r Round_and_format(Proptab2[2])`%), met een negatief BSA is `r Round_and_format(Tab2[1])` (`r Round_and_format(Proptab2[1])`%) en met een uitgesteld BSA is `r Round_and_format(Tab2[3])` (`r Round_and_format(Proptab2[3])`%). Het lijkt erop dat het percentage studenten met een positief BSA hoger is dan het percentage van de gehele universiteit (70%) en dat het percentage studenten met een negatief BSA juist lager is dan dat van de gehele universiteit (20%). De *multinomiaaltoets* toetst of dit verschil significant is.\n",
    "<!-- ## /TEKSTBLOK: Binomiaaltoets4.R -->\n",
    "\n",
    "<!-- ## TEKSTBLOK: Binomiaaltoets5.R -->\n",
    "Bereken de verwachte frequentie met het argument `chisq.test()$expected` van de functie `chisq.test()`. De argumenten van de functie zijn de tabel met daarin de hoeveelheid studenten voor de drie mogelijkheden van het BSA `Tabel_volgorde` en een vector die aangeeft wat de verwachte proporties[^4] zijn voor het aantal studenten met respectievelijk een positief, negatief of uitgesteld BSA `p = c(0.7, 0.2, 0.1)`. Let hierbij goed op dat de volgorde van de BSA mogelijkheden in de tabel overeenkomt met de volgorde van de proporties.\n",
    "<!-- ## /TEKSTBLOK: Binomiaaltoets5.R -->\n",
    "\n",
    "<!-- ## OPENBLOK: Binomiaaltoets6.R -->"
   ]
  },
  {
   "cell_type": "code",
   "execution_count": null,
   "id": "f12955a2",
   "metadata": {
    "lines_to_next_cell": 0,
    "warning": false
   },
   "outputs": [],
   "source": [
    "# Maak een tabel met daarin de aantallen studenten per BSA mogelijkheid\n",
    "Tabel <- table(BSA_Maritieme_techniek_steekproef$BSA_advies)\n",
    "\n",
    "# Zet de tabel op volgorde Positief, Negatief, Uitgesteld\n",
    "(Tabel_volgorde <- Tabel[c(\"Positief\", \"Negatief\", \"Uitgesteld\")])\n",
    "\n",
    "# Voer de toets uit\n",
    "chisq.test(Tabel_volgorde, p = c(0.7, 0.2, 0.1))$expected\n"
   ]
  },
  {
   "cell_type": "markdown",
   "id": "6bf48e9e",
   "metadata": {
    "lines_to_next_cell": 0
   },
   "source": [
    "<!-- ## /OPENBLOK: Binomiaaltoets6.R -->\n",
    "\n",
    "<!-- ## CLOSEDBLOK: Binomiaaltoets6_1.R -->"
   ]
  },
  {
   "cell_type": "code",
   "execution_count": null,
   "id": "9b983b6a",
   "metadata": {
    "lines_to_next_cell": 0,
    "tags": [
     "remove_input"
    ],
    "warning": false
   },
   "outputs": [],
   "source": [
    "exp <- chisq.test(Tabel_volgorde, p = c(0.7, 0.2, 0.1))$expected\n",
    "\n"
   ]
  },
  {
   "cell_type": "markdown",
   "id": "3c4b6ec5",
   "metadata": {
    "lines_to_next_cell": 0
   },
   "source": [
    "<!-- ## /CLOSEDBLOK: Binomiaaltoets6_1.R -->\n",
    "\n",
    "De verwachte frequentie voor studenten met een uitgesteld BSA is kleiner dan 5. Dit betekent dat er in meer dan 20% van de categorieën een verwachte frequentie van minder dan 5 is en dat er dus niet voldaan is aan de assumptie van verwachte frequenties. Voer daarom de *multinomiaaltoets* uit.\n",
    "\n",
    "<!-- ## TEKSTBLOK: Binomiaaltoets7.R -->\n",
    "Voer de *multinomiaaltoets* uit met de functie `multinomial.test()` van het package `RVAideMemoire` met als argument een vector met daarin de hoeveelheid studenten voor de drie mogelijkheden van het BSA `Vector_volgorde` en een vector die aangeeft wat de verwachte proporties[^4] zijn voor het aantal studenten met respectievelijk een positief, negatief of uitgesteld BSA `p = c(0.7, 0.2, 0.1)`. Deze functie vereist een vector wat de reden is dat de tabel met de aantallen observaties per categorie omgezet wordt in een vector. Let hierbij goed op dat de volgorde van de BSA mogelijkheden in de tabel overeenkomt met de volgorde van de proporties.\n",
    "<!-- ## /TEKSTBLOK: Binomiaaltoets7.R -->\n",
    "\n",
    "<!-- ## OPENBLOK: Binomiaaltoets8.R-->"
   ]
  },
  {
   "cell_type": "code",
   "execution_count": null,
   "id": "8e5d9e00",
   "metadata": {
    "lines_to_next_cell": 0
   },
   "outputs": [],
   "source": [
    "# Laad het package in\n",
    "library(RVAideMemoire)\n",
    "\n",
    "# Maak een tabel met daarin de aantallen studenten per BSA mogelijkheid\n",
    "Tabel <- table(BSA_Maritieme_techniek_steekproef$BSA_advies)\n",
    "\n",
    "# Zet de tabel op volgorde Positief, Negatief, Uitgesteld\n",
    "Tabel_volgorde <- Tabel[c(\"Positief\", \"Negatief\", \"Uitgesteld\")]\n",
    "\n",
    "# Zet de tabel om in een vector voor de functie multinomial.test\n",
    "Vector_volgorde <- as.numeric(Tabel_volgorde)\n",
    "\n",
    "# Voer de toets uit\n",
    "multinomial.test(Vector_volgorde, p = c(0.7, 0.2, 0.1))"
   ]
  },
  {
   "cell_type": "markdown",
   "id": "b57a53e9",
   "metadata": {
    "lines_to_next_cell": 0
   },
   "source": [
    "<!-- ## /OPENBLOK: Binomiaaltoets8.R-->\n",
    "\n",
    "<!-- ## CLOSEDBLOK: Binomiaaltoets9.R -->"
   ]
  },
  {
   "cell_type": "code",
   "execution_count": null,
   "id": "f28b3929",
   "metadata": {
    "lines_to_next_cell": 0,
    "tags": [
     "remove_input"
    ]
   },
   "outputs": [],
   "source": [
    "# Laad het package in\n",
    "library(RVAideMemoire)\n",
    "\n",
    "# Maak een tabel met daarin de aantallen studenten per BSA mogelijkheid\n",
    "Tabel <- table(BSA_Maritieme_techniek_steekproef$BSA_advies)\n",
    "\n",
    "# Zet de tabel op volgorde Positief, Negatief, Uitgesteld\n",
    "Tabel_volgorde <- Tabel[c(\"Positief\", \"Negatief\", \"Uitgesteld\")]\n",
    "\n",
    "# Zet de tabel om in een vector voor de functie multinomial.test\n",
    "Vector_volgorde <- as.numeric(Tabel_volgorde)\n",
    "\n",
    "# Voer de toets uit\n",
    "multitoets <- multinomial.test(Vector_volgorde, p = c(0.7, 0.2, 0.1))\n",
    "\n",
    "# Sla p-waarde op\n",
    "mp <- Round_and_format(multitoets$p.value)\n"
   ]
  },
  {
   "cell_type": "markdown",
   "id": "47887382",
   "metadata": {},
   "source": [
    "<!-- ## /CLOSEDBLOK: Binomiaaltoets9.R -->\n",
    "\n",
    "<!-- ## TEKSTBLOK: Binomiaaltoets10.R-->\n",
    "* p-waarde = `r mp`, dus de nulhypothese kan niet worden verworpen.[^5]  \n",
    "\n",
    "<!-- ## /TEKSTBLOK: Binomiaaltoets10.R-->"
   ]
  },
  {
   "cell_type": "markdown",
   "id": "3ade38b8",
   "metadata": {
    "lines_to_next_cell": 0
   },
   "source": [
    "## Rapportage\n",
    "\n",
    "<!-- ## TEKSTBLOK: Rapportage2.R-->\n",
    "\n",
    "De *multinomiaaltoets* is uitgevoerd om te onderzoeken of de verdeling van het BSA van studenten Maritieme Techniek overeenkomt met de verdeling van de gehele universiteit waar deze opleiding onder valt (70% positief BSA, 20% negatief BSA en 10% uitgesteld BSA) voor een dataset met een laag aantal observaties. De verdeling van het BSA van de instromende studenten van de universiteit verschilt niet significant van de landelijke verdeling (*p* = `r mp`). Het aantal studenten met een positief BSA is `r Round_and_format(Tab2[2])` (`r Round_and_format(Proptab2[2])`%), met een negatief BSA is `r Round_and_format(Tab2[1])` (`r Round_and_format(Proptab2[1])`%) en met een uitgesteld BSA is `r Round_and_format(Tab2[3])` (`r Round_and_format(Proptab2[3])`%). De resultaten suggereren dat de opleiding Maritieme Technieken qua BSA niet afwijkt van de gehele universiteit.\n",
    "\n",
    "<!-- ## /TEKSTBLOK: Rapportage2.R-->\n",
    "\n",
    "<!-- ## CLOSEDBLOK: Footer.R -->"
   ]
  },
  {
   "cell_type": "code",
   "execution_count": null,
   "id": "78cce166",
   "metadata": {
    "code": "#R_CODE#readLines(paste0(here::here(),\"/01. Includes/code/Footer.R\"))",
    "include": true,
    "lines_to_next_cell": 0,
    "name": "footer",
    "results": "asis",
    "tags": [
     "remove_input"
    ]
   },
   "outputs": [],
   "source": []
  },
  {
   "cell_type": "markdown",
   "id": "d40e7084",
   "metadata": {},
   "source": [
    "<!-- ## /CLOSEDBLOK: Footer.R -->\n",
    "\n",
    "[^1]: Agresti, A. (2003). *Categorical data analysis*. Vol. 482, John Wiley & Sons.\n",
    "[^4]: Een proportie van een bepaalde categorie is de frequentie van de categorie gedeeld door het totaal aantal observaties. Het kan gezien worden als de kans van een bepaalde categorie en bevat een waarde tussen 0 en 1.\n",
    "[^5]: In dit voorbeeld wordt uitgegaan van een waarschijnlijkheid van 95% c.q. een p-waardegrens van 0,05. De grens is naar eigen inzicht aan te passen; houd hierbij rekening met type I en type II fouten.\n",
    "[^6]: Laerd Statistics (2018). *Chi-Square Goodness-of-Fit Test in SPSS Statistics*. https://statistics.laerd.com/spss-tutorials/chi-square-goodness-of-fit-test-in-spss-statistics.php\n",
    "[^7]: Allen, P. & Bennett, K. (2012). *SPSS A practical Guide version 20.0*. Cengage Learning Australia Pty Limited.\n",
    "[^8]: Een ordinale variabele is een categorische variabele waarbij de categorieën geordend kunnen worden. Een voorbeeld is de variabele beoordeling met de categorieën Onvoldoende, Voldoende, Goed en Uitstekend.\n",
    "[^9]: Een nominale variabele is een categorische variabele waarbij de categorieën niet geordend kunnen worden. Een voorbeeld is de variabele windstreek (noord, oost, zuid, west) en geslacht (man of vrouw).\n",
    "[^10]: De waarde 1,96 is een z-score en correspondeert met het significantieniveau 0,05 voor een tweezijdige toets. Om te corrigeren voor meerdere testen kan een ander significantieniveau gekozen worden wat resulteert in een andere z-score om mee te vergelijken. Bij een significantieniveau van 0,01 is de z-score bijvoorbeeld 2,58. De z-score per significantieniveau is te berekenen met `abs(qnorm(alfa/2))` waarbij `alfa` het gewenste significantieniveau is.\n",
    "[^11]: Een z-score is een maat om aan te geven hoeveel een observatie afwijkt van het gemiddelde. De z-score wordt berekend door het gemiddelde van de observatie af te halen en dit daarna te delen door de standaarddeviatie, i.e. $\\frac{X - \\mu}{\\sigma}$. In feite geeft een z-score aan hoeveel standaarddeviaties de observatie van het gemiddelde afwijkt.\n",
    "[^12]: Field, A., Miles, J., & Field, Z. (2012). *Discovering statistics using R*. London: Sage publications.\n",
    "\n",
    "<!-- ## TEKSTBLOK: Extra-Bron.R -->\n",
    "\n",
    "<!-- ## /TEKSTBLOK: Extra-Bron.R -->\n"
   ]
  }
 ],
 "metadata": {
  "jupytext": {
   "cell_metadata_filter": "message,tags,name,warning,echo,code,results,collapse,include,-all",
   "main_language": "R",
   "notebook_metadata_filter": "-all"
  },
  "language_info": {
   "codemirror_mode": {
    "name": "ipython",
    "version": 3
   },
   "file_extension": ".py",
   "mimetype": "text/x-python",
   "name": "python",
   "nbconvert_exporter": "python",
   "pygments_lexer": "ipython3",
   "version": "3.8.10"
  }
 },
 "nbformat": 4,
 "nbformat_minor": 5
}