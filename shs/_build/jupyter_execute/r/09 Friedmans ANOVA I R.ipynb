{
 "cells": [
  {
   "cell_type": "raw",
   "id": "566ae2e3",
   "metadata": {},
   "source": [
    "---\n",
    "title: \"Friedman's ANOVA\"\n",
    "output:\n",
    "  html_document:\n",
    "    theme: lumen\n",
    "    toc: yes\n",
    "    toc_depth: 2\n",
    "    toc_float: \n",
    "      collapsed: FALSE \n",
    "    number_sections: true\n",
    "    includes:\n",
    "      in_header: [\"../01. Includes/html/nocache.html\", \"../01. Includes/html/favicon.html\", \"../01. Includes/html/analytics.html\"]\n",
    "  keywords: [statistisch handboek, studiedata]\n",
    "---"
   ]
  },
  {
   "cell_type": "markdown",
   "id": "2a927bc7",
   "metadata": {
    "lines_to_next_cell": 0
   },
   "source": [
    "<!-- ## CLOSEDBLOK: Functies.R -->"
   ]
  },
  {
   "cell_type": "code",
   "execution_count": 1,
   "id": "9cb46894",
   "metadata": {
    "include": true,
    "lines_to_next_cell": 0,
    "message": false,
    "name": "functies",
    "results": "asis",
    "tags": [
     "remove_input"
    ],
    "warning": false
   },
   "outputs": [
    {
     "ename": "SyntaxError",
     "evalue": "invalid syntax (<ipython-input-1-924f26e6aa13>, line 2)",
     "output_type": "error",
     "traceback": [
      "\u001b[0;36m  File \u001b[0;32m\"<ipython-input-1-924f26e6aa13>\"\u001b[0;36m, line \u001b[0;32m2\u001b[0m\n\u001b[0;31m    if (!exists(\"Substitute_var\")) {\u001b[0m\n\u001b[0m        ^\u001b[0m\n\u001b[0;31mSyntaxError\u001b[0m\u001b[0;31m:\u001b[0m invalid syntax\n"
     ]
    }
   ],
   "source": [
    "library(here)\n",
    "if (!exists(\"Substitute_var\")) {\n",
    "  ## Installeer packages en functies\n",
    "  source(paste0(here::here(), \"/99. Functies en Libraries/00. Voorbereidingen.R\"), echo = FALSE)\n",
    "}"
   ]
  },
  {
   "cell_type": "markdown",
   "id": "d1790d6a",
   "metadata": {
    "lines_to_next_cell": 0
   },
   "source": [
    "<!-- ## /CLOSEDBLOK: Functies.R -->\n",
    "\n",
    "<!-- ## CLOSEDBLOK: CSS -->\n",
    "<style>\n",
    "`r htmltools::includeHTML(paste0(here::here(),\"/01. Includes/css/Stylesheet_SHHO.css\"))`\n",
    "</style>\n",
    "<!-- ## /CLOSEDBLOK: CSS -->\n",
    "\n",
    "<!-- ## CLOSEDBLOK: Header.R -->"
   ]
  },
  {
   "cell_type": "code",
   "execution_count": null,
   "id": "1f774244",
   "metadata": {
    "code": "#R_CODE#readLines(paste0(here::here(),\"/01. Includes/code/Header.R\"))",
    "include": true,
    "lines_to_next_cell": 0,
    "name": "header",
    "results": "asis",
    "tags": [
     "remove_input"
    ]
   },
   "outputs": [],
   "source": []
  },
  {
   "cell_type": "markdown",
   "id": "634f73f4",
   "metadata": {
    "lines_to_next_cell": 0
   },
   "source": [
    "<!-- ## /CLOSEDBLOK: Header.R -->\n",
    "\n",
    "<!-- ## CLOSEDBLOK: Status.R -->"
   ]
  },
  {
   "cell_type": "code",
   "execution_count": null,
   "id": "b09de535",
   "metadata": {
    "code": "#R_CODE#readLines(paste0(here::here(),\"/01. Includes/code/Status.R\"))",
    "include": true,
    "lines_to_next_cell": 0,
    "name": "status",
    "results": "asis",
    "tags": [
     "remove_input"
    ]
   },
   "outputs": [],
   "source": []
  },
  {
   "cell_type": "markdown",
   "id": "d208fac3",
   "metadata": {
    "lines_to_next_cell": 0
   },
   "source": [
    "<!-- ## /CLOSEDBLOK: Status.R -->\n",
    "\n",
    "<!-- ## CLOSEDBLOK: Reticulate.R -->\n",
    "\n",
    "<!-- ## /CLOSEDBLOK: Reticulate.R -->\n",
    "\n",
    "<!-- ## OPENBLOK: Data-aanmaken.R -->"
   ]
  },
  {
   "cell_type": "code",
   "execution_count": null,
   "id": "40616fb5",
   "metadata": {
    "echo": true,
    "name": "aanmaken data",
    "tags": [
     "remove_cell"
    ]
   },
   "outputs": [],
   "source": [
    "source(paste0(here::here(),\"/01. Includes/data/09.R\"))"
   ]
  },
  {
   "cell_type": "markdown",
   "id": "e89d3295",
   "metadata": {},
   "source": [
    "<!-- ## /OPENBLOK: Data-aanmaken.R -->\n",
    "\n",
    "# Toepassing\n",
    "\n",
    "<!-- ## TEKSTBLOK: Link1.R -->\n",
    "Gebruik *Friedman's ANOVA* om de gemiddelde rangnummers[^13] te vergelijken voor de verdelingen van drie of meer herhaalde metingen van één groep of voor de verdelingen van drie of meer gepaarde groepen.[^1]<sup>, </sup>[^2] *Friedman's ANOVA* is een alternatief voor de [repeated measures ANOVA](04-Repeated-measures-ANOVA-R.html) wanneer de data niet aan de assumptie van normaliteit voldoet. Daarnaast hebben uitbijters minder invloed op het resultaat van *Friedman's ANOVA* in vergelijking tot de [repeated measures ANOVA](04-Repeated-measures-ANOVA-R.html). Echter, als de data aan de assumpties van de [repeated measures ANOVA](04-Repeated-measures-ANOVA-R.html) voldoet, heeft die toets een hoger onderscheidend vermogen dan *Friedman's ANOVA*.[^3]\n",
    "\n",
    "<!-- ## /TEKSTBLOK: Link1.R -->"
   ]
  },
  {
   "cell_type": "markdown",
   "id": "313b2328",
   "metadata": {},
   "source": [
    "# Onderwijscasus\n",
    "<div id = \"casus\">\n",
    "\n",
    "Uit de Nationale Studenten Enquête (NSE) blijkt dat studenten ontevreden zijn over het horeca-aanbod op de campus van hun hogeschool. De vastgoedmanager van de  Facultaire Dienst (FD) van deze hogeschool is nieuwsgierig hoe de verschillende eetgelegenheden op de campus gewaardeerd worden door studenten om zo te inventarisen op welke manier het horeca-aanbod verbeterd kan worden. Als vervolgonderzoek op de NSE wordt een groep studenten gevraagd om de eetgelegenheden op de campus te beoordelen (met een cijfer tussen 1 en 10). Aan de hand daarvan vergelijkt de vastgoedmanager eetgelegenheden in vier gebouwen: het hoofdgebouw, het bestuursgebouw, het sportcentrum en het cultuurcentrum Rembrandt. Met deze gegevens wil de vastgoedmanager onderzoeken of er verschillen zijn in de waarderingscijfers van de eetgelegenheden in de vier gebouwen. Als deze verschillen aanwezig zijn, is zij benieuwd welke eetgelegenheden van elkaar verschillen.\n",
    "\n",
    "Dit onderzoek vertaalt zich in de volgende combinatie van hypothesen, waarbij de nulhypothese zo geformuleerd is dat er geen effect of verschil is en de alternatieve hypothese zo geformuleerd is dat er wel een effect of verschil is.\n",
    "\n",
    "*H~0~*: Het gemiddelde rangnummer van de verdelingen van de beoordelingen van studenten is hetzelfde voor de eetgelegenheid in het hoofdgebouw, het bestuursgebouw, het sportcentrum en het cultuurcentrum Rembrandt.\n",
    "\n",
    "*H~A~*: Het gemiddelde rangnummer van de verdelingen van de beoordelingen van studenten is niet hetzelfde voor de eetgelegenheid in het hoofdgebouw, het bestuursgebouw, het sportcentrum en het cultuurcentrum Rembrandt.\n",
    "\n",
    "</div>\n",
    "\n",
    "# Assumpties\n",
    "\n",
    "Om een valide toetsresultaat te bereiken, moeten de data aan een aantal assumpties voldoen. Het meetniveau van de afhankelijke variabele is ordinaal[^14] of continu.[^4] In deze toetspagina staat een casus met continue data centraal; een casus met ordinale data met bijbehorende uitwerking is te vinden in [deze toetspagina](24-Friedmans-ANOVA-II-R.html). Bij herhaalde metingen van dezelfde observatie-eenheden, moet de groep observatie-eenheden drie of meer keren gemeten zijn en een willekeurige steekproef van de populatie zijn. Bij gepaarde groepen, moet elk paar bestaan uit drie of meer gepaarde observatie-eenheden en moet de steekproef met alle paren een willekeurige steekproef van de populatie zijn.[^4]"
   ]
  },
  {
   "cell_type": "markdown",
   "id": "3017148f",
   "metadata": {},
   "source": [
    "# Effectmaat\n",
    "De p-waarde geeft aan of het verschil tussen groepen significant is. De grootte van het verschil of effect is echter ook relevant. Een effectmaat is een gestandaardiseerde maat die de grootte van een effect weergeeft, zodat effecten van verschillende onderzoeken met elkaar vergeleken kunnen worden.[^5] Voor *Friedman's ANOVA* wordt de effectmaat *Kendall's W* vaak gebruikt.[^6]<sup>, </sup>[^7]<sup>, </sup>[^8] Een indicatie om *Kendall's W* te interpreteren is: rond 0,1 is het een klein effect, rond 0,3 is het een gemiddeld effect en rond 0,5 is het een groot effect.[^6]"
   ]
  },
  {
   "cell_type": "markdown",
   "id": "80daf7dc",
   "metadata": {
    "lines_to_next_cell": 0
   },
   "source": [
    "# Post-hoc toetsen\n",
    "\n",
    "<!-- ## TEKSTBLOK: Link2.R -->\n",
    "*Friedman's ANOVA* toetst of er verschillen zijn tussen de verdelingen van groepen. Voer een post-hoc toets uit om te bepalen welke groepen van elkaar verschillen. Gebruik de [Wilcoxon signed rank toets](07-Wilcoxon-signed-rank-toets-R.html) als post-hoc toets. De [Wilcoxon signed rank toets](07-Wilcoxon-signed-rank-toets-R.html) toetst of er een verschil tussen de verdelingen is van twee gepaarde groepen (i.e. of een van beide verdelingen hogere waardes heeft dan de andere verdeling). Hoewel het minder gebruikelijk is, is de [tekentoets](27-Tekentoets-II-R.html) ook een optie als post-hoc toets. Deze toets toetst het verschil tussen de medianen van twee gepaarde groepen.\n",
    "<!-- ## /TEKSTBLOK: Link2.R -->\n",
    "\n",
    "Gebruik een correctie voor de p-waarden, omdat er meerdere toetsen tegelijkertijd worden gebruikt. Meerdere toetsen tegelijkertijd uitvoeren verhoogt de kans dat een van de nulhypotheses onterecht wordt verworpen en er bij toeval een verband wordt ontdekt dat er niet is (type I fout). In deze toetspagina wordt de *Bonferroni correctie* gebruikt. Deze correctie past de p-waarde aan door de p-waarde te vermenigvuldigen met het aantal uitgevoerde toetsen en verlaagt hiermee de kans op een type I fout. Een andere uitleg hiervan is dat het significantieniveau gedeeld wordt door het aantal toetsen wat leidt tot een lager significantieniveau en dus een strengere toets. Er zijn ook andere opties voor een correctie op de p-waarden.[^5]\n",
    "\n",
    "# Uitvoering\n",
    "<!-- ## TEKSTBLOK: Dataset-inladen.R-->\n",
    "Er is een dataset `Beoordelingen_eetgelegenheden` ingeladen met de beoordelingen van de eetgelegenheden in het hoofdgebouw, bestuursgebouw, sportcentrum en cultuurcentrum.\n",
    "<!-- ## /TEKSTBLOK: Dataset-inladen.R-->\n",
    "\n",
    "## De data bekijken\n",
    "<!-- ## TEKSTBLOK: Data-bekijken.R -->\n",
    "Gebruik `head()` en `tail()` om de structuur van de data te bekijken.\n",
    "<!-- ## /TEKSTBLOK: Data-bekijken.R -->\n",
    "\n",
    "<!-- ## OPENBLOK: Data-bekijken.R -->"
   ]
  },
  {
   "cell_type": "code",
   "execution_count": null,
   "id": "2871e507",
   "metadata": {
    "collapse": true,
    "lines_to_next_cell": 0,
    "name": "data bekijken"
   },
   "outputs": [],
   "source": [
    "## Eerste 6 observaties\n",
    "head(Beoordelingen_eetgelegenheden)\n",
    "\n",
    "## Laatste 6 observaties\n",
    "tail(Beoordelingen_eetgelegenheden)"
   ]
  },
  {
   "cell_type": "markdown",
   "id": "02265eff",
   "metadata": {
    "lines_to_next_cell": 0
   },
   "source": [
    "<!-- ## /OPENBLOK: Data-bekijken.R -->\n",
    "\n",
    "<!-- ## TEKSTBLOK: Data-bekijken2.R-->\n",
    "De dataset bevat beoordelingen van studenten van eetgelegenheden in verschillende gebouwen. Gebruik `unique()` om te onderzoeken welke gebouwen er in de data aanwezig zijn. \n",
    "<!-- ## /TEKSTBLOK: Data-bekijken2.R-->\n",
    "\n",
    "<!-- ## OPENBLOK: Data-bekijken-2.R -->"
   ]
  },
  {
   "cell_type": "code",
   "execution_count": null,
   "id": "09d7fbf5",
   "metadata": {
    "lines_to_next_cell": 0,
    "name": "data bekijken 2"
   },
   "outputs": [],
   "source": [
    "## Unieke opleidingen\n",
    "unique(Beoordelingen_eetgelegenheden$Eetgelegenheid)"
   ]
  },
  {
   "cell_type": "markdown",
   "id": "8867519c",
   "metadata": {},
   "source": [
    "<!-- ## /OPENBLOK: Data-bekijken-2.R -->\n",
    "\n",
    "<!-- ## TEKSTBLOK: Data-bekijken3.R-->\n",
    "Inspecteer voor de beoordelingen per gebouw de mediaan, de kwartielen en het aantal observaties. Gebruik de mediaan en kwartielen omdat de beoordelingen waarschijnlijk niet normaal verdeeld zijn. Gebruik hiervoor de functie `descr` en `stby` van het package `summarytools` om de beschrijvende statistieken per groep weer te geven. Voer de gewenste statistieken in met het argument `stats = c(\"q1\",\"med\",\"q3\",\"n.valid\")`.\n",
    "\n",
    "<!-- ## /TEKSTBLOK: Data-bekijken3.R-->\n",
    "\n",
    "<!-- ## OPENBLOK: Data-beschrijven.R -->\n",
    "``` {r data beschrijven, warning=FALSE, message=FALSE}\n",
    "library(summarytools)\n",
    "\n",
    "## Mediaan, kwartielen en groepsgroottes\n",
    "with(Beoordelingen_eetgelegenheden, \n",
    "     stby(data = Beoordeling, \n",
    "          list(Eetgelegenheid), \n",
    "          descr, \n",
    "          stats = c(\"q1\", \"med\", \"q3\", \"n.valid\")))\n",
    "\n",
    "```\n",
    "<!-- ## /OPENBLOK: Data-beschrijven.R -->\n",
    "<!-- ## CLOSEDBLOK: Data-beschrijven.R -->\n",
    "``` {r data beschrijven als object, include=FALSE, echo=TRUE}\n",
    "\n",
    "x <- with(Beoordelingen_eetgelegenheden, \n",
    "     stby(data = Beoordeling, \n",
    "          list(Eetgelegenheid), \n",
    "          descr, \n",
    "          stats = c(\"q1\", \"med\", \"q3\", \"n.valid\")))\n",
    "\n",
    "vN_HG <- Round_and_format(x[[3]][4])\n",
    "vN_BG <- Round_and_format(x[[1]][4])\n",
    "vN_SC <- Round_and_format(x[[4]][4])\n",
    "vN_CC <- Round_and_format(x[[2]][4])\n",
    "\n",
    "vQ1_HG <- Round_and_format(x[[3]][1])\n",
    "vQ1_BG <- Round_and_format(x[[1]][1])\n",
    "vQ1_SC <- Round_and_format(x[[4]][1])\n",
    "vQ1_CC <- Round_and_format(x[[2]][1])\n",
    "\n",
    "vMed_HG <- Round_and_format(x[[3]][2])\n",
    "vMed_BG <- Round_and_format(x[[1]][2])\n",
    "vMed_SC <- Round_and_format(x[[4]][2])\n",
    "vMed_CC <- Round_and_format(x[[2]][2])\n",
    "\n",
    "vQ3_HG <- Round_and_format(x[[3]][3])\n",
    "vQ3_BG <- Round_and_format(x[[1]][3])\n",
    "vQ3_SC <- Round_and_format(x[[4]][3])\n",
    "vQ3_CC <- Round_and_format(x[[2]][3])\n",
    "\n",
    "```\n",
    "<!-- ## /CLOSEDBLOK: Data-beschrijven.R -->\n",
    "\n",
    "<!-- ## TEKSTBLOK: Data-beschrijven.R-->\n",
    "* Hoofdgebouw: *Mdn* =  `r vMed_HG`, *Q1* = `r vQ1_HG`, *Q3* = `r vQ3_HG`, *n* = `r vN_HG`.\n",
    "* Bestuursgebouw: *Mdn* =  `r vMed_BG`, *Q1* = `r vQ1_BG`, *Q3* = `r vQ3_BG`, *n* = `r vN_BG`.\n",
    "* Sportcentrum: *Mdn* =  `r vMed_SC`, *Q1* = `r vQ1_SC`, *Q3* = `r vQ3_SC`, *n* = `r vN_SC`.\n",
    "* Cultuurcentrum: *Mdn* =  `r vMed_CC`, *Q1* = `r vQ1_CC`, *Q3* = `r vQ3_CC`, *n* = `r vN_CC`.\n",
    "\n",
    "<!-- ## /TEKSTBLOK: Data-beschrijven.R-->\n"
   ]
  },
  {
   "cell_type": "markdown",
   "id": "9a4f1c1d",
   "metadata": {
    "lines_to_next_cell": 0
   },
   "source": [
    "## Histogram\n",
    "\n",
    "Geef de verdeling van de beoordelingen per gebouw visueel weer met een histogram[^18].[^12]\n",
    "\n",
    "<!-- ## OPENBLOK: Histogram.R -->"
   ]
  },
  {
   "cell_type": "code",
   "execution_count": null,
   "id": "f79eb11e",
   "metadata": {
    "lines_to_next_cell": 0,
    "name": "histogram"
   },
   "outputs": [],
   "source": [
    "## Histogram met ggplot\n",
    "library(ggplot2)\n",
    "\n",
    "ggplot(Beoordelingen_eetgelegenheden,\n",
    "  aes(x = Beoordeling)) +\n",
    "  geom_histogram(aes(y = ..density..),\n",
    "                 binwidth = 1,\n",
    "                 color = \"grey30\",\n",
    "                 fill = \"#0089CF\") +\n",
    "  facet_wrap(~ Eetgelegenheid) +\n",
    "  ylab(\"Frequentiedichtheid\") +\n",
    "  labs(title = \"Beoordelingen\")"
   ]
  },
  {
   "cell_type": "markdown",
   "id": "80876fb7",
   "metadata": {},
   "source": [
    "<!-- ## /OPENBLOK: Histogram.R -->\n",
    "\n",
    "Bij alle vier de gebouwen lijken er afwijkingen te zijn van de (symmetrische) normale verdeling. De verdeling van het bestuursgebouw heeft een langere staart aan de rechterkant, terwijl de verdelingen van het hoofdgebouw en het sportcentrum juist een langere staart aan de linkerkant hebben. Bij het cultuurcentrum zijn er meer observaties links van het midden dan rechts van het midden, waardoor er ook een vorm van asymmetrie is. Daarom is het een goede optie om *Friedman's ANOVA* uit te voeren, omdat deze toets niet aan de assumptie van normaliteit hoeft te voldoen.\n"
   ]
  },
  {
   "cell_type": "markdown",
   "id": "4886a8e5",
   "metadata": {
    "lines_to_next_cell": 0
   },
   "source": [
    "## Friedman's ANOVA\n",
    "\n",
    "<!-- ## TEKSTBLOK: ANOVA-toets.R -->\n",
    "Voer *Friedman's ANOVA* uit om de vraag te beantwoorden of er verschillen zijn tussen de (gemiddelde rangnummers van de) beoordelingen van de eetgelegenheden in de vier gebouwen op de campus van de hogeschool. Gebruik de functie `friedman.test()` met als argumenten de afhankelijke variabele `y = Beoordelingen_eetgelegenheden$Beoordeling`, de vier groepen die vergeleken worden (onafhankelijke variabele) `groups = Beoordelingen_eetgelegenheden$Kantine` en de variabele die de observatie-eenheden aangeeft `blocks = Beoordelingen_eetgelegenheden$Studentnummer`.\n",
    "\n",
    "<!-- ## /TEKSTBLOK: ANOVA-toets.R -->\n",
    "\n",
    "<!-- ## OPENBLOK: ANOVA-toets.R -->"
   ]
  },
  {
   "cell_type": "code",
   "execution_count": null,
   "id": "4216a8d8",
   "metadata": {
    "lines_to_next_cell": 0,
    "name": "ANOVA2",
    "warning": false
   },
   "outputs": [],
   "source": [
    "friedman.test(y = Beoordelingen_eetgelegenheden$Beoordeling, \n",
    "              groups = Beoordelingen_eetgelegenheden$Eetgelegenheid,\n",
    "              blocks = Beoordelingen_eetgelegenheden$Studentnummer)"
   ]
  },
  {
   "cell_type": "markdown",
   "id": "45da9905",
   "metadata": {
    "lines_to_next_cell": 0
   },
   "source": [
    "<!-- ## /OPENBLOK: ANOVA-toets.R -->\n",
    "\n",
    "<!-- ## CLOSEDBLOK: ANOVA-toets.R -->"
   ]
  },
  {
   "cell_type": "code",
   "execution_count": null,
   "id": "d71c49b3",
   "metadata": {
    "lines_to_next_cell": 0,
    "name": "ANOVA als object",
    "tags": [
     "remove_input"
    ]
   },
   "outputs": [],
   "source": [
    "obj <- friedman.test(y = Beoordelingen_eetgelegenheden$Beoordeling, \n",
    "              groups = Beoordelingen_eetgelegenheden$Eetgelegenheid,\n",
    "              blocks = Beoordelingen_eetgelegenheden$Studentnummer)\n",
    "vChi2 <- Round_and_format(obj$statistic)\n",
    "vdf <- Round_and_format(obj$parameter)"
   ]
  },
  {
   "cell_type": "markdown",
   "id": "04f26a79",
   "metadata": {
    "lines_to_next_cell": 0
   },
   "source": [
    "<!-- ## /CLOSEDBLOK: ANOVA-toets.R -->\n",
    "\n",
    "Bereken vervolgens de effectmaat *Kendall's W* op basis van de *&chi;^2^* waarde van *Friedman's ANOVA*.\n",
    "<!-- ## OPENBLOK: ANOVA-toets2.R -->"
   ]
  },
  {
   "cell_type": "code",
   "execution_count": null,
   "id": "88093bf7",
   "metadata": {
    "lines_to_next_cell": 0,
    "name": "effectgrootte"
   },
   "outputs": [],
   "source": [
    "# Sla de Chi-kwadraat waarde op\n",
    "Chi2 <- friedman.test(y = Beoordelingen_eetgelegenheden$Beoordeling, \n",
    "              groups = Beoordelingen_eetgelegenheden$Eetgelegenheid,\n",
    "              blocks = Beoordelingen_eetgelegenheden$Studentnummer)$statistic\n",
    "\n",
    "# Sla het aantal observatie-eenheden op\n",
    "N <- length(unique(Beoordelingen_eetgelegenheden$Studentnummer))  \n",
    "\n",
    "# Sla het aantal groepen op\n",
    "k <- length(unique(Beoordelingen_eetgelegenheden$Eetgelegenheid))\n",
    "\n",
    "# Bereken de effectmaat\n",
    "W <- Chi2 / (N * (k - 1))\n",
    "\n",
    "# Print de effectmaat\n",
    "paste(\"De effectmaat is\", W)\n"
   ]
  },
  {
   "cell_type": "markdown",
   "id": "15d0b762",
   "metadata": {},
   "source": [
    "<!-- ## /OPENBLOK: ANOVA-toets2.R -->"
   ]
  },
  {
   "cell_type": "markdown",
   "id": "2a887234",
   "metadata": {
    "lines_to_next_cell": 0
   },
   "source": [
    "<!-- ## TEKSTBLOK: ANOVA-toets1.R -->\n",
    "* *&chi;^2^~3~* = `r vChi2`, *p* < 0,001, *W* = `r Round_and_format(W)`\n",
    "* De p-waarde is kleiner dan 0,05, dus de H~0~ wordt verworpen.[^10]\n",
    "* Er is een significant verschil tussen de beoordelingen van de eetgelegenheden in de vier gebouwen; het effect van de verschillende gebouwen op de beoordelingen van studenten is klein tot gemiddeld\n",
    "\n",
    "<!-- ## /TEKSTBLOK: ANOVA-toets1.R -->\n",
    "\n",
    "## Post-hoc toets\n",
    "<!-- ## TEKSTBLOK: posthoc1.R -->\n",
    "Voer post-hoc toetsen uit om te onderzoeken tussen welke gebouwen er verschillen zijn in de beoordelingen van studenten. De vier gebouwen zijn het hoofdgebouw, bestuursgebouw, sportcentrum en cultuurcentrum Rembrandt. Gebruik de [Wilcoxon signed-rank toets](07-Wilcoxon-signed-rank-toets-R.html) als post-hoc toets met bijbehorende functie `pairwise.wilcox.test()`. De ingevoerde argumenten van de functie zijn de afhankelijke variabele `Beoordelingen_eetgelegenheden$Beoordeling`, de onafhankelijke variabele `Beoordelingen_eetgelegenheden$Eetgelegenheid` die de groepen aangeeft, de gebruikte methode om te corrigeren voor meerdere toetsen `p.adjust.method = \"bonferroni\"`, het argument `paired = TRUE` om aan te geven dat er een gepaarde steekproef is en het argument `exact = FALSE` om de p-waarden niet op een exacte manier te berekenen. Gebruik het laatste argument omdat de exacte methode in bepaalde gevallen niet mogelijk is. Het significantieniveau is 0,05.[^10]\n",
    "<!-- ## /TEKSTBLOK: posthoc1.R -->\n",
    "\n",
    "<!-- ## OPENBLOK: post-hoc2.R -->\n",
    "``` {r pairwise wilcox test}\n",
    "pairwise.wilcox.test(Beoordelingen_eetgelegenheden$Beoordeling, Beoordelingen_eetgelegenheden$Eetgelegenheid, p.adjust.method = \"bonferroni\", paired = TRUE, exact = FALSE)\n",
    "```\n",
    "<!-- ## /OPENBLOK: post-hoc2.R -->\n",
    "\n",
    "Bereken de effectmaat *r* voor elke individuele post-hoc toets.[^11]\n",
    "\n",
    "<!-- ## OPENBLOK: post-hoc4.R -->\n",
    "``` {r pairwise wilcox test effectmaat}\n",
    "# Sla de p-waarden van de post-hoc toetsen op\n",
    "posthoc <- pairwise.wilcox.test(Beoordelingen_eetgelegenheden$Beoordeling, Beoordelingen_eetgelegenheden$Eetgelegenheid, p.adjust.method = \"bonferroni\", paired = TRUE, exact = FALSE)$p.value\n",
    "\n",
    "# Effectmaat hoofdgebouw vs. bestuursgebouw\n",
    "(Effectmaat_HG_BG <- abs(qnorm(posthoc[2,1]/2)) / sqrt(length(unique(Beoordelingen_eetgelegenheden$Studentnummer))))\n",
    "\n",
    "# Effectmaat hoofdgebouw vs. sportcentrum\n",
    "Effectmaat_HG_SC <- abs(qnorm(posthoc[3,3]/2)) / sqrt(length(unique(Beoordelingen_eetgelegenheden$Studentnummer)))\n",
    "\n",
    "# Effectmaat hoofdgebouw vs. cultuurcentrum\n",
    "Effectmaat_HG_CC <- abs(qnorm(posthoc[2,2]/2)) / sqrt(length(unique(Beoordelingen_eetgelegenheden$Studentnummer)))\n",
    "\n",
    "# Effectmaat bestuursgebouw vs. sportcentrum\n",
    "Effectmaat_BG_SC <- abs(qnorm(posthoc[3,1]/2)) / sqrt(length(unique(Beoordelingen_eetgelegenheden$Studentnummer)))\n",
    "\n",
    "# Effectmaat bestuursgebouw vs. cultuurcentrum\n",
    "Effectmaat_BG_CC <- abs(qnorm(posthoc[1,1]/2)) / sqrt(length(unique(Beoordelingen_eetgelegenheden$Studentnummer)))\n",
    "\n",
    "# Effectmaat sportcentrum vs. cultuurcentrum\n",
    "Effectmaat_SC_CC <- abs(qnorm(posthoc[3,2]/2)) / sqrt(length(unique(Beoordelingen_eetgelegenheden$Studentnummer)))\n",
    "\n",
    "\n",
    "```\n",
    "<!-- ## /OPENBLOK: post-hoc4.R -->\n",
    "\n",
    "<!-- ## TEKSTBLOK: Link4.R -->\n",
    "De [Wilcoxon signed rank toets](07-Wilcoxon-signed-rank-toets-R.html) gebruikt de som van positieve en negatieve rangnummers van de verschilscores om de significantie van de toets te bepalen. Deze sommen beschrijven het verschil tussen twee gepaarde groepen waarbij de groep met een hogere som van rangnummers ook hogere waarden op de afhankelijke variabele heeft. In deze casus heeft het gebouw met hogere rangnummers een hogere beoordeling door studenten. Bereken de som van de positieve en negatieve rangnummers voor alle vergelijkingen.\n",
    "<!-- ## /TEKSTBLOK: Link4.R -->\n",
    "\n",
    "<!-- ## OPENBLOK: post-hoc5.R -->"
   ]
  },
  {
   "cell_type": "code",
   "execution_count": null,
   "id": "170bae0f",
   "metadata": {
    "lines_to_next_cell": 0,
    "name": "som rang"
   },
   "outputs": [],
   "source": [
    "\n",
    "# Definieer een functie die som positieve en negatieve rangnummers berekent\n",
    "Sommen_rangnummers <- function(Beoordeling_gebouw_1, Beoordeling_gebouw_2){\n",
    "  \n",
    "  # Bereken verschilscores\n",
    "  Verschilscores <- Beoordeling_gebouw_1 - Beoordeling_gebouw_2\n",
    "  \n",
    "  # Rangschik de absolute waarden van verschilscores\n",
    "  Rangnummers <- rank(abs(Verschilscores))\n",
    "\n",
    "  # Maak een vector met daarin de tekens (plus of min) van verschilscores\n",
    "  Tekens <- sign(Verschilscores)\n",
    "\n",
    "  # Bereken de som van de positieve rangnummers\n",
    "  Som_positief <- sum(Rangnummers[Tekens == 1])\n",
    "\n",
    "  # Bereken de som van de negatieve rangnummers\n",
    "  Som_negatief <- sum(Rangnummers[Tekens == -1])\n",
    "  \n",
    "  # Retourneer som van positieve en negatieve rangnummers\n",
    "  return(list(Positief = Som_positief, Negatief = Som_negatief))\n",
    "}\n",
    "\n",
    "# Definieer variabelen die beoordelingen bevatten per gebouw\n",
    "Beoordeling_hoofdgebouw <- Beoordelingen_eetgelegenheden$Beoordeling[Beoordelingen_eetgelegenheden$Eetgelegenheid == \"Hoofdgebouw\"]\n",
    "\n",
    "Beoordeling_bestuursgebouw <- Beoordelingen_eetgelegenheden$Beoordeling[Beoordelingen_eetgelegenheden$Eetgelegenheid == \"Bestuursgebouw\"]\n",
    "\n",
    "Beoordeling_sportcentrum <- Beoordelingen_eetgelegenheden$Beoordeling[Beoordelingen_eetgelegenheden$Eetgelegenheid == \"Sportcentrum\"]\n",
    "\n",
    "Beoordeling_cultuurcentrum <- Beoordelingen_eetgelegenheden$Beoordeling[Beoordelingen_eetgelegenheden$Eetgelegenheid == \"Cultuurcentrum\"]\n",
    "\n",
    "# Bereken positieve en negatieve som van rangnummers\n",
    "\n",
    "## Som rangnummers hoofdgebouw vs. bestuursgebouw\n",
    "(Som_HG_BG <- Sommen_rangnummers(Beoordeling_hoofdgebouw, Beoordeling_bestuursgebouw))\n",
    "\n",
    "## Som rangnummers hoofdgebouw vs. sportcentrum\n",
    "Som_HG_SC <- Sommen_rangnummers(Beoordeling_hoofdgebouw, Beoordeling_sportcentrum)\n",
    "\n",
    "## Som rangnummers hoofdgebouw vs. cultuurcentrum\n",
    "Som_HG_CC <- Sommen_rangnummers(Beoordeling_hoofdgebouw, Beoordeling_cultuurcentrum)\n",
    "\n",
    "## Som rangnummers bestuursgebouw vs. sportcentrum\n",
    "Som_BG_SC <- Sommen_rangnummers(Beoordeling_bestuursgebouw, Beoordeling_sportcentrum)\n",
    "\n",
    "## Som rangnummers bestuursgebouw vs. cultuurcentrum\n",
    "Som_BG_CC <- Sommen_rangnummers(Beoordeling_bestuursgebouw, Beoordeling_cultuurcentrum)\n",
    "\n",
    "## Som rangnummers sportcentrum vs. cultuurcentrum\n",
    "Som_SC_CC <- Sommen_rangnummers(Beoordeling_sportcentrum, Beoordeling_cultuurcentrum)\n",
    "\n"
   ]
  },
  {
   "cell_type": "markdown",
   "id": "11bf943f",
   "metadata": {},
   "source": [
    "<!-- ## /OPENBLOK: post-hoc5.R -->\n",
    "\n",
    "<!-- ## TEKSTBLOK: posthoc6.R -->\n",
    "\n",
    "| Vergelijking | p-waarde     | Effectmaat        |  Som positieve rangnummers        | Som negatieve rangnummers     |\n",
    "| -------------  | ----------  | --------- | ---------- | -------- |\n",
    "| HG vs. BG    | 0,878`r #Round_and_format(posthoc[2,1])` | `r Round_and_format(Effectmaat_HG_BG)`| `r Round_and_format(Som_HG_BG[[1]])` | `r Round_and_format(Som_HG_BG[[2]])` |\n",
    "| HG vs. SC    | 1,000`r #Round_and_format(posthoc[3,3])` | `r Round_and_format(Effectmaat_HG_SC)`| `r Round_and_format(Som_HG_SC[[1]])` | `r Round_and_format(Som_HG_SC[[2]])` |\n",
    "| HG vs. CC    | 0,046`r #Round_and_format(posthoc[2,2])` | `r Round_and_format(Effectmaat_HG_CC)`| `r Round_and_format(Som_HG_CC[[1]])` | `r Round_and_format(Som_HG_CC[[2]])` |\n",
    "| BG vs. SC    | 0,108`r #Round_and_format(posthoc[3,1])` | `r Round_and_format(Effectmaat_BG_SC)`| `r Round_and_format(Som_BG_SC[[1]])` | `r Round_and_format(Som_BG_SC[[2]])` |\n",
    "| BG vs. CC    | 1,000`r #Round_and_format(posthoc[1,1])` | `r Round_and_format(Effectmaat_BG_CC)`| `r Round_and_format(Som_BG_CC[[1]])` | `r Round_and_format(Som_BG_CC[[2]])` |\n",
    "| SC vs. CC    | 0,013`r #Round_and_format(posthoc[3,2])` | `r Round_and_format(Effectmaat_SC_CC)`| `r Round_and_format(Som_SC_CC[[1]])` | `r Round_and_format(Som_SC_CC[[2]])` |"
   ]
  },
  {
   "cell_type": "markdown",
   "id": "614bd4a0",
   "metadata": {},
   "source": [
    "*Tabel 1. Resultaten post-hoc toetsen voor vergelijking hoofdgebouw (HG), bestuursgebouw (BG), sportcentrum (SC) en cultuurcentrum (CC).*\n",
    "<!-- ## /TEKSTBLOK: posthoc6.R -->"
   ]
  },
  {
   "cell_type": "markdown",
   "id": "945cb542",
   "metadata": {},
   "source": [
    "<!-- ## TEKSTBLOK: posthoc7.R -->\n",
    "De significante verschillen op de post-hoc toetsen zijn:\n",
    "\n",
    "* De beoordelingen van het hoofdgebouw (Som = `r Round_and_format(Som_HG_CC[[1]])`) verschillen significant van het cultuurcentrum (Som = `r Round_and_format(Som_HG_CC[[2]])`), *p* = 0,046`r #Round_and_format(posthoc[2,2])`, *r* = `r Round_and_format(Effectmaat_HG_CC)`. De hogere som van rangnummers voor het hoofdgebouw duidt erop dat de beoordelingen van het hoofdgebouw beter zijn dan die van het cultuurcentrum.\n",
    "\n",
    "* De beoordelingen van het sportcentrum (Som = `r Round_and_format(Som_SC_CC[[1]])`) verschillen significant van het cultuurcentrum (Som = `r Round_and_format(Som_SC_CC[[2]])`), *p* = 0,013 `r #Round_and_format(posthoc[3,2])`, *r* = `r Round_and_format(Effectmaat_SC_CC)`. De hogere som van rangnummers voor het sportcentrum duidt erop dat de beoordelingen van het sportcentrum beter zijn dan die van het cultuurcentrum.\n",
    "\n",
    "<!-- ## /TEKSTBLOK: posthoc7.R -->\n"
   ]
  },
  {
   "cell_type": "markdown",
   "id": "ec75ca66",
   "metadata": {},
   "source": [
    "# Rapportage\n",
    "\n",
    "<!-- ## TEKSTBLOK: rapportage.R -->\n",
    "*Friedman's ANOVA* is uitgevoerd om te onderzoeken of de beoordeling van eetgelegenheden door studenten verschilt voor vier gebouwen op de campus van een hogeschool. De vier gebouwen zijn het hoofdgebouw, het bestuursgebouw, het sportcentrum en cultuurcentrum Rembrandt; beschrijvende statistieken zijn te vinden in Tabel 1. De beoordelingen van de vier gebouwen verschillen significant van elkaar (*&chi;^2^~3~* = `r vChi2`, *p* < 0,001, *W* = `r Round_and_format(W)`). De sterkte van het effect van de verschillen in gebouwen op de beoordelingen van studenten is klein tot gemiddeld.\n",
    "\n",
    "Post-hoc toetsen met een Bonferroni correctie voor meerdere toetsen zijn uitgevoerd voor alle vergelijkingen tussen twee gebouwen. Hieruit blijkt dat er alleen significante verschillen zijn tussen het hoofdgebouw en cultuurcentrum Rembrandt (*p* = 0,046), en tussen het sportcentrum  en cultuurcentrum Rembrandt (*p* = 0,013). De eetgelegenheid van het hoofdgebouw (Som = `r Round_and_format(Som_HG_CC[[1]])`) wordt beter beoordeld dan de eetgelegenheid in het cultuurcentrum Rembrandt (Som = `r Round_and_format(Som_HG_CC[[2]])`). En de eetgelegenheid van het sportcentrum (Som = `r Round_and_format(Som_SC_CC[[1]])`) wordt ook beter beoordeld dan de eetgelegenheid in het cultuurcentrum Rembrandt (Som = `r Round_and_format(Som_SC_CC[[2]])`). Verder zijn er geen significante verschillen tussen de beoordelingen van de eetgelegenheden op de campus.\n",
    "<!-- ## /TEKSTBLOK: rapportage.R -->\n"
   ]
  },
  {
   "cell_type": "markdown",
   "id": "5541ada4",
   "metadata": {
    "lines_to_next_cell": 0
   },
   "source": [
    "<!-- ## CLOSEDBLOK: Footer.R -->"
   ]
  },
  {
   "cell_type": "code",
   "execution_count": null,
   "id": "a8d5ec65",
   "metadata": {
    "code": "#R_CODE#readLines(paste0(here::here(),\"/01. Includes/code/Footer.R\"))",
    "include": true,
    "lines_to_next_cell": 0,
    "name": "footer",
    "results": "asis",
    "tags": [
     "remove_input"
    ]
   },
   "outputs": [],
   "source": []
  },
  {
   "cell_type": "markdown",
   "id": "c16174b8",
   "metadata": {},
   "source": [
    "<!-- ## /CLOSEDBLOK: Footer.R -->\n",
    "\n",
    "[^1]: Van Geloven, N. (4 oktober 2019). *Friedman toets*. [Wiki Statistiek Academisch Medisch Centrum](https://wikistatistiek.amc.nl/index.php/Friedman_toets). \n",
    "[^2]: Universiteit van Amsterdam (7 juli 2014). *Friedmans ANOVA*. [UvA Wiki Methodologiewinkel](https://wiki.uva.nl/methodologiewinkel/index.php/Friedmans_ANOVA). \n",
    "[^3]: Field, A. (2013). *Discovering statistics using IBM SPSS statistics*. Sage.\n",
    "[^4]: Laerd statistics (2018). *Friedman Test in SPSS Statistics*. https://statistics.laerd.com/spss-tutorials/friedman-test-using-spss-statistics.php. \n",
    "[^5]: Field, A., Miles, J., & Field, Z. (2012). *Discovering statistics using R*. London: Sage publications.\n",
    "[^6]: University of Sheffield. *Friedman test in SPSS*. [Mathematics and Statistics Help (MASH)](https://www.sheffield.ac.uk/polopoly_fs/1.714575!/file/stcp-marshall-FriedmanS.pdf). Bezocht op 13 maart 2020.\n",
    "[^7]: *Kendall's W* wordt berekend door de teststatistiek van *Friedman's ANOVA* (dit is de *&chi;^2^*) te delen door het aantal observatie-eenheden *N* en het aantal groepen *k* minus één, i.e. $W = \\frac{\\chi^2}{N(k-1)}$.\n",
    "[^8]: Kassambara, A. (2020). *rstatix: Pipe-Friendly Framework for Basic Statistical Tests*. [R package version 0.4.0.](https://CRAN.R-project.org/package=rstatix).\n",
    "[^10]: In dit voorbeeld wordt uitgegaan van een waarschijnlijkheid van 95% c.q. een p-waardegrens van 0,05. De grens is naar eigen inzicht aan te passen; houd hierbij rekening met type I en type II fouten.\n",
    "[^11]: De effectmaat *r* wordt voor de [Wilcoxon signed rank toets](07-Wilcoxon-signed-rank-toets-R.html) berekend door de\n",
    "*z*-waarde behorend bij de *p*-waarde van de toets te delen door de wortel van\n",
    "het aantal observatie-eenheden, i.e. $\\frac{z}{\\sqrt{N}}$.\n",
    "[^12]: De breedte van de staven van het histogram worden hier automatisch bepaald, maar kunnen handmatig aangepast worden. Aangezien de breedte van de staven bepalend zijn voor de indruk die de visualisatie geeft, is het verstandig om hier goed op te letten.\n",
    "[^13]: Bij *Friedman's ANOVA* en andere nonparametrische toetsen wordt de data eerst gerangschikt zodat elke observatie een rangnummer toegewezen krijgt. Deze rangnummers worden vervolgens gebruikt om de toets uit te voeren.\n",
    "[^14]: Een ordinale variabele is een categorische variabele waarbij de categorieën geordend kunnen worden. Een voorbeeld is de variabele beoordeling met de categorieën Onvoldoende, Voldoende, Goed en Uitstekend.\n",
    "[^18]: De breedte van de staven van het histogram wordt vaak automatisch bepaald, maar kan handmatig aangepast worden. Aangezien de breedte van de staven bepalend zijn voor de indruk die de visualisatie geeft, is het verstandig om hier goed op te letten.\n"
   ]
  }
 ],
 "metadata": {
  "jupytext": {
   "cell_metadata_filter": "message,tags,name,warning,echo,code,results,collapse,include,-all",
   "main_language": "R",
   "notebook_metadata_filter": "-all"
  },
  "language_info": {
   "codemirror_mode": {
    "name": "ipython",
    "version": 3
   },
   "file_extension": ".py",
   "mimetype": "text/x-python",
   "name": "python",
   "nbconvert_exporter": "python",
   "pygments_lexer": "ipython3",
   "version": "3.8.10"
  }
 },
 "nbformat": 4,
 "nbformat_minor": 5
}