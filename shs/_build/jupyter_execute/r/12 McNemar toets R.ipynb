{
 "cells": [
  {
   "cell_type": "raw",
   "id": "8eb11c64",
   "metadata": {},
   "source": [
    "---\n",
    "title: \"McNemar toets\"\n",
    "output:\n",
    "  html_document:\n",
    "    theme: lumen\n",
    "    toc: yes\n",
    "    toc_depth: 2\n",
    "    toc_float: \n",
    "      collapsed: FALSE \n",
    "    number_sections: true\n",
    "  keywords: [statistisch handboek, studiedata]\n",
    "---"
   ]
  },
  {
   "cell_type": "markdown",
   "id": "d620e086",
   "metadata": {
    "lines_to_next_cell": 0
   },
   "source": [
    "<!-- ## CLOSEDBLOK: Functies.R -->"
   ]
  },
  {
   "cell_type": "code",
   "execution_count": 1,
   "id": "5a80b296",
   "metadata": {
    "include": true,
    "lines_to_next_cell": 0,
    "message": false,
    "name": "functies",
    "results": "asis",
    "tags": [
     "remove_input"
    ],
    "warning": false
   },
   "outputs": [
    {
     "ename": "SyntaxError",
     "evalue": "invalid syntax (<ipython-input-1-924f26e6aa13>, line 2)",
     "output_type": "error",
     "traceback": [
      "\u001b[0;36m  File \u001b[0;32m\"<ipython-input-1-924f26e6aa13>\"\u001b[0;36m, line \u001b[0;32m2\u001b[0m\n\u001b[0;31m    if (!exists(\"Substitute_var\")) {\u001b[0m\n\u001b[0m        ^\u001b[0m\n\u001b[0;31mSyntaxError\u001b[0m\u001b[0;31m:\u001b[0m invalid syntax\n"
     ]
    }
   ],
   "source": [
    "library(here)\n",
    "if (!exists(\"Substitute_var\")) {\n",
    "  ## Installeer packages en functies\n",
    "  source(paste0(here::here(), \"/99. Functies en Libraries/00. Voorbereidingen.R\"), echo = FALSE)\n",
    "}"
   ]
  },
  {
   "cell_type": "markdown",
   "id": "646abfbb",
   "metadata": {
    "lines_to_next_cell": 0
   },
   "source": [
    "<!-- ## /CLOSEDBLOK: Functies.R -->\n",
    "\n",
    "<!-- ## CLOSEDBLOK: CSS -->\n",
    "<style>\n",
    "`r htmltools::includeHTML(paste0(here::here(),\"/01. Includes/css/Stylesheet_SHHO.css\"))`\n",
    "</style>\n",
    "<!-- ## /CLOSEDBLOK: CSS -->\n",
    "\n",
    "<!-- ## CLOSEDBLOK: Header.R -->"
   ]
  },
  {
   "cell_type": "code",
   "execution_count": null,
   "id": "de772f86",
   "metadata": {
    "code": "#R_CODE#readLines(paste0(here::here(),\"/01. Includes/code/Header.R\"))",
    "include": true,
    "lines_to_next_cell": 0,
    "name": "header",
    "results": "asis",
    "tags": [
     "remove_input"
    ]
   },
   "outputs": [],
   "source": []
  },
  {
   "cell_type": "markdown",
   "id": "ebcf58d3",
   "metadata": {
    "lines_to_next_cell": 0
   },
   "source": [
    "<!-- ## /CLOSEDBLOK: Header.R -->\n",
    "\n",
    "<!-- ## CLOSEDBLOK: Status.R -->"
   ]
  },
  {
   "cell_type": "code",
   "execution_count": null,
   "id": "d32e2073",
   "metadata": {
    "code": "#R_CODE#readLines(paste0(here::here(),\"/01. Includes/code/Status.R\"))",
    "include": true,
    "lines_to_next_cell": 0,
    "name": "status",
    "results": "asis",
    "tags": [
     "remove_input"
    ]
   },
   "outputs": [],
   "source": []
  },
  {
   "cell_type": "markdown",
   "id": "b28d9fc6",
   "metadata": {
    "lines_to_next_cell": 0
   },
   "source": [
    "<!-- ## /CLOSEDBLOK: Status.R -->\n",
    "\n",
    "<!-- ## CLOSEDBLOK: Reticulate.R -->\n",
    "\n",
    "<!-- ## /CLOSEDBLOK: Reticulate.R -->\n",
    "\n",
    "<!-- ## OPENBLOK: Data-aanmaken.R -->"
   ]
  },
  {
   "cell_type": "code",
   "execution_count": null,
   "id": "ad4f3799",
   "metadata": {
    "echo": true,
    "lines_to_next_cell": 0,
    "name": "aanmaken data",
    "tags": [
     "remove_cell"
    ]
   },
   "outputs": [],
   "source": [
    "source(paste0(here::here(),\"/01. Includes/data/12.R\"))"
   ]
  },
  {
   "cell_type": "markdown",
   "id": "cbc6f1b6",
   "metadata": {
    "lines_to_next_cell": 0
   },
   "source": [
    "<!-- ## /OPENBLOK: Data-aanmaken.R -->\n",
    "\n",
    "# Toepassing\n",
    "\n",
    "<!-- ## TEKSTBLOK: Link1.R -->\n",
    "Gebruik de *McNemar toets* om te toetsen of er verschillen zijn voor de frequenties van een binaire[^1] variabele tussen twee gepaarde groepen.[^2]<sup>, </sup>[^3] De *McNemar toets* kan in theorie ook gebruikt worden om twee gepaarde groepen te vergelijken op een nominale variabele met meer dan twee categorieën. Deze toetspagina illustreert de toets echter voor een binaire variabele. Hoewel het dus mogelijk met de *McNemar toets* is om twee gepaarde groepen te vergelijken wat betreft een nominale variabele, wordt hiervoor echter de voorkeur gegeven aan de [Bhapkar toets](18-Bhapkar-toets-R.html).\n",
    "<!-- ## /TEKSTBLOK: Link1.R -->\n",
    "\n",
    "# Onderwijscasus\n",
    "<div id = \"casus\">\n",
    "De decaan van een hogeschool merkt dat weinig studenten met een functiebeperking een beroep doen op de Financiële Ondersteuning Studenten (FOS). Ze besluit daarom in december een interventie te doen en stuurt al deze studenten een e-mail over de FOS. Een half jaar later (in de maand juni) maakt ze de balans op: doen studenten met een functiebeperking vaker een beroep op de FOS na de interventie?\n",
    "\n",
    "Dit onderzoek vertaalt zich in de volgende combinatie van hypothesen, waarbij de nulhypothese zo geformuleerd is dat er geen effect of verschil is en de alternatieve hypothese zo geformuleerd is dat er wel een effect of verschil is.\n",
    "\n",
    "*H~0~*: Er is geen verschil in de verdeling van het aantal studenten voor en na de interventie dat wel of niet gebruik maakt van de FOS.\n",
    "\n",
    "*H~A~*: Er is een verschil in de verdeling van het aantal studenten voor en na de interventie dat wel of niet gebruik maakt van de FOS.\n",
    "</div>\n",
    "\n",
    "# McNemar toets\n",
    "\n",
    "De *McNemar toets* toetst of er verschillen zijn tussen de frequenties van een binaire variabele tussen twee gepaarde groepen. In de huidige casus gaat het om de frequenties van studenten die wel of niet gebruik maken van de Financiële Ondersteuning Studenten (FOS). De twee gepaarde groepen zijn het meetmoment in december en het meetmoment in juni. Er zijn meerdere methoden om de p-waarde van de *McNemar toets* te berekenen. De *mid p-value* methode is het beste qua onderscheidend vermogen[^7] en type I fout[^8]. Bij deze methode wordt de p-waarde op een exacte manier berekend waarna een correctie wordt toegepast.[^9] Meer informatie over de verschillende methoden van de *McNemar toets* is te vinden in [dit artikel](https://www.ncbi.nlm.nih.gov/pmc/articles/PMC3716987/).\n",
    "\n",
    "# Assumpties\n",
    "\n",
    "Om de *McNemar toets* uit te voeren, moet de data aan een aantal voorwaarden voldoen. Er moet sprake zijn van gepaarde metingen, meestal twee verschillende metingen bij dezelfde steekproef. Elke meting moet binair zijn, wat betekent dat er twee categorieën zijn voor de gemeten variabele. Daarnaast mag er geen overlap zijn tussen de categorieën van de categorische variabele: elke observatie past slechts in een van beide categorieën.[^3]\n",
    "\n",
    "# Frequentiematrix\n",
    "\n",
    "De *McNemar toets* gaat uit van een frequentiematrix, een matrix waarin de rijen de eerste meting van de steekproef bevat en de kolommen de tweede meting. Een voorbeeld bij de casus is weergegeven in Tabel 1.\n",
    "\n",
    "<!-- ## CLOSEDBLOK: Groepsgrootte0.R -->\n",
    "<!-- ## /CLOSEDBLOK: Groepsgrootte0.R -->\n",
    "\n",
    "<!-- ## CLOSEDBLOK: Groepsgrootte1.R -->"
   ]
  },
  {
   "cell_type": "code",
   "execution_count": null,
   "id": "f4a596a5",
   "metadata": {
    "echo": true,
    "lines_to_next_cell": 0,
    "name": "groepsgrootte",
    "tags": [
     "remove_cell"
    ]
   },
   "outputs": [],
   "source": [
    "### Definieer de groepen\n",
    "December <- FOS_studenten$`FOS`[FOS_studenten$Maand == \"december\"]\n",
    "Juni <- FOS_studenten$`FOS`[FOS_studenten$Maand == \"juni\"]\n",
    "\n",
    "## Maak een frequentiematrix\n",
    "FOS_studenten_frequentiematrix <- table(December, Juni)"
   ]
  },
  {
   "cell_type": "markdown",
   "id": "3ac8802d",
   "metadata": {
    "lines_to_next_cell": 0
   },
   "source": [
    "<!-- ## /CLOSEDBLOK: Groepsgrootte1.R -->\n",
    "\n",
    "<!-- ## TEKSTBLOK: Groepsgrootte2.R -->\n",
    "\n",
    "||                      | Juni    |\n",
    "|-------------| -------------------- | -------------| ------------| \n",
    "||                      | FOS | geen FOS|\n",
    "|**December**| FOS      | `r FOS_studenten_frequentiematrix[\"ja\",\"ja\"]` | `r FOS_studenten_frequentiematrix[\"ja\",\"nee\"]`     |\n",
    "|            | Geen FOS | `r FOS_studenten_frequentiematrix[\"nee\",\"ja\"]` | `r FOS_studenten_frequentiematrix[\"nee\",\"nee\"]`     |\n",
    "*Tabel 1. Frequentiematrix van het aantal studenten dat een beroep doet op de FOS in december en juni.*\n",
    "\n",
    "De cel linksboven bevat het aantal studenten dat zowel in december als juni een beroep heeft gedaan op de FOS; dit zijn er `r FOS_studenten_frequentiematrix[\"ja\",\"ja\"]`. De cel rechtsonder bevat het aantal studenten dat zowel in december als juni geen beroep heeft gedaan op de FOS; dit zijn er `r FOS_studenten_frequentiematrix[\"nee\",\"nee\"]`. Beide cellen staan op de diagonaal van de tabel en worden daarom de diagonale elementen genoemd.\n",
    "\n",
    "In de cel rechtsboven staat het aantal studenten dat wel in december maar niet in juni een beroep op de FOS heeft gedaan; dit zijn er `r FOS_studenten_frequentiematrix[\"ja\",\"nee\"]`. In de cel linksonder staat het aantal studenten dat niet in december maar wel in juni een beroep op de FOS heeft gedaan; dit zijn er `r FOS_studenten_frequentiematrix[\"nee\",\"ja\"]`. Deze cellen zijn geen onderdeel van de diagonaal van de tabel en worden daarom de niet-diagonale elementen genoemd.\n",
    "<!-- ## /TEKSTBLOK: Groepsgrootte2.R -->\n",
    "\n",
    "# De data bekijken\n",
    "<!-- ## TEKSTBLOK: Data-bekijken1.R -->\n",
    "Er is een dataset ingeladen genaamd `FOS_studenten`. In deze dataset is voor elke student aangegeven of ze wel of geen beroep op de FOS hebben gedaan in december en in juni. \n",
    "<!-- ## /TEKSTBLOK: Data-bekijken1.R -->\n",
    "\n",
    "<!-- ## OPENBLOK: Data-bekijken2.R -->"
   ]
  },
  {
   "cell_type": "code",
   "execution_count": null,
   "id": "3b836014",
   "metadata": {
    "collapse": true,
    "lines_to_next_cell": 0,
    "name": "data bekijken"
   },
   "outputs": [],
   "source": [
    "## Eerste 6 observaties\n",
    "head(FOS_studenten)\n",
    "\n",
    "## Laatste 6 observaties\n",
    "tail(FOS_studenten)"
   ]
  },
  {
   "cell_type": "markdown",
   "id": "f22b8331",
   "metadata": {
    "lines_to_next_cell": 0
   },
   "source": [
    "<!-- ## /OPENBLOK: Data-bekijken2.R -->\n",
    "\n",
    "<!-- ## TEKSTBLOK: Data-kruistabel1.R -->\n",
    "Een kruistabel geeft de aantallen observaties weer voor de combinaties van de categorieën van de variabelen `Maand` en `FOS`. In feite laat dit zien hoeveel studenten er wel of niet een beroep doen op de FOS in december en in juni. Een kruistabel verschilt dus van een frequentiematrix. Maak de kruistabel met de functie `table()` met als argumenten de variabele `FOS_studenten$FOS`, die weergeeft of studenten wel of geen beroep op de FOS doen, en de variabele `FOS_studenten$Maand `, die het meetmoment (december of juni) weergeeft. \n",
    "<!-- ## /TEKSTBLOK: Data-kruistabel1.R -->\n",
    "\n",
    "<!-- ## OPENBLOK: Data-kruistabel2.R -->"
   ]
  },
  {
   "cell_type": "code",
   "execution_count": null,
   "id": "42b50335",
   "metadata": {
    "lines_to_next_cell": 0,
    "name": "kruistabel"
   },
   "outputs": [],
   "source": [
    "## Maak een kruistabel\n",
    "FOS_studenten_kruistabel <- table(FOS_studenten$`FOS`, FOS_studenten$Maand)\n",
    "\n",
    "## Print de kruistabel \n",
    "print(FOS_studenten_kruistabel)\n",
    "\n",
    "## Print een tabel met proporties, tweede argument 2 zorgt ervoor dat de \n",
    "## proporties per kolom berekend worden\n",
    "prop.table(FOS_studenten_kruistabel, 2)"
   ]
  },
  {
   "cell_type": "markdown",
   "id": "aec95879",
   "metadata": {
    "lines_to_next_cell": 0
   },
   "source": [
    "<!-- ## /OPENBLOK: Data-kruistabel2.R -->\n",
    "\n",
    "De kruistabel laat zien dat het aantal studenten dat een beroep op de FOS heeft gedaan hoger is en het aantal studenten dat geen beroep op de FOS heeft gedaan lager is in juni. Het percentage studenten dat een beroep op de FOS heeft gedaan is toegenomen; dit is ook te zien in de kruistabel met proporties.\n",
    "\n",
    "<!-- ## TEKSTBLOK: Data-bekijken3.R -->\n",
    "In aanvulling op de kruistabel, geeft de frequentiematrix ook een goede indruk van de data. In de frequentiematrix worden de aantallen studenten die wel of geen beroep op de FOS hebben gedaan tegen elkaar uitgezet voor december en juni. Sla daarom de variabele `FOS` apart op in twee vectoren: een voor december en een voor juni. Maak daarna de frequentiematrix.\n",
    "<!-- ## /TEKSTBLOK: Data-bekijken3.R -->\n",
    "\n",
    "<!-- ## OPENBLOK: Data-beschrijven.R -->"
   ]
  },
  {
   "cell_type": "code",
   "execution_count": null,
   "id": "c665d007",
   "metadata": {
    "lines_to_next_cell": 0,
    "name": "data aanmaken"
   },
   "outputs": [],
   "source": [
    "## Definieer de groepen\n",
    "December <- FOS_studenten$`FOS`[FOS_studenten$Maand == \"december\"]\n",
    "Juni <- FOS_studenten$`FOS`[FOS_studenten$Maand == \"juni\"]\n",
    "\n",
    "## Maak een frequentiematrix\n",
    "FOS_studenten_frequentiematrix <- table(December, Juni)\n",
    "\n",
    "## Print de frequentiematrix \n",
    "print(FOS_studenten_frequentiematrix)"
   ]
  },
  {
   "cell_type": "markdown",
   "id": "fd37b48a",
   "metadata": {
    "lines_to_next_cell": 0
   },
   "source": [
    "<!-- ## /OPENBLOK: Data-beschrijven.R -->\n",
    "\n",
    "<!-- ## TEKSTBLOK: Data-bekijken4.R -->\n",
    "De diagonale elementen bevatten `r FOS_studenten_frequentiematrix[\"ja\",\"ja\"]` en `r FOS_studenten_frequentiematrix[\"nee\",\"nee\"]` observaties. De niet-diagonale elementen bevatten `r FOS_studenten_frequentiematrix[\"ja\",\"nee\"]` en `r FOS_studenten_frequentiematrix[\"nee\",\"ja\"]` observaties.\n",
    "<!-- ## /TEKSTBLOK: Data-bekijken4.R -->\n",
    "\n",
    "# McNemar toets\n",
    "\n",
    "## Uitvoering\n",
    "\n",
    "<!-- ## TEKSTBLOK: McNemar-toets1.R -->\n",
    "Voer de *McNemar toets* uit om te onderzoeken of er een verschil is tussen de frequenties van de studenten dat wel of geen beroep doet op de FOS voor en na de interventie van de decaan. Gebruik de functie `exact2x2()` van het package `exact2x2` met als eerste argument de frequentiematrix `FOS_studenten_frequentiematrix`, als tweede argument `paired = TRUE` omdat er een gepaarde vergelijking wordt gemaakt en als derde argument `midp = TRUE` omdat de *mid p-value* methode gebruikt wordt.\n",
    "<!-- ## /TEKSTBLOK: McNemar-toets1.R -->\n",
    "\n",
    "<!-- ## OPENBLOK: McNemar-toets2.R -->"
   ]
  },
  {
   "cell_type": "code",
   "execution_count": null,
   "id": "678f4f70",
   "metadata": {
    "lines_to_next_cell": 0,
    "name": "mcnemar"
   },
   "outputs": [],
   "source": [
    "library(exact2x2)\n",
    "\n",
    "## Definieer de groepen\n",
    "December <- FOS_studenten$`FOS`[FOS_studenten$Maand == \"december\"]\n",
    "Juni <- FOS_studenten$`FOS`[FOS_studenten$Maand == \"juni\"]\n",
    "\n",
    "## Maak een frequentiematrix\n",
    "FOS_studenten_frequentiematrix <- table(December, Juni)\n",
    "\n",
    "# Voer McNemar toets uit\n",
    "exact2x2(FOS_studenten_frequentiematrix,\n",
    "         paired = TRUE,\n",
    "         midp = TRUE)"
   ]
  },
  {
   "cell_type": "markdown",
   "id": "16505cce",
   "metadata": {
    "lines_to_next_cell": 0
   },
   "source": [
    "<!-- ## /OPENBLOK: McNemar-toets2.R -->\n",
    "\n",
    "Bereken het verschil tussen de proporties studenten dat een beroep doet op de FOS in december en juni. Op deze manier kan een (eventueel) significant resultaat geïnterpreteerd worden.\n",
    "\n",
    "<!-- ## OPENBLOK: McNemar-toets5.R -->"
   ]
  },
  {
   "cell_type": "code",
   "execution_count": null,
   "id": "eced250c",
   "metadata": {
    "lines_to_next_cell": 0,
    "name": "verschil proportie"
   },
   "outputs": [],
   "source": [
    "## Maak een kruistabel\n",
    "FOS_studenten_kruistabel <- table(FOS_studenten$`FOS`, FOS_studenten$Maand)\n",
    "\n",
    "## Print een tabel met proporties, tweede argument 2 zorgt ervoor dat de \n",
    "## proporties per kolom berekend worden\n",
    "FOS_studenten_kruistabel_proporties <- prop.table(FOS_studenten_kruistabel, 2)\n",
    "\n",
    "# Bereken het verschil in proporties\n",
    "Verschil_proporties <- FOS_studenten_kruistabel_proporties[\"ja\", \"juni\"] - FOS_studenten_kruistabel_proporties[\"ja\", \"december\"]\n",
    "\n",
    "# Print het verschil in proporties\n",
    "Verschil_proporties"
   ]
  },
  {
   "cell_type": "markdown",
   "id": "280fc1f7",
   "metadata": {
    "lines_to_next_cell": 0
   },
   "source": [
    "<!-- ## /OPENBLOK: McNemar-toets5.R -->\n",
    "\n",
    "<!-- ## TEKSTBLOK: McNemar-toets5.R -->\n",
    "* Er is een significant verschil tussen de frequenties van het aantal studenten dat wel of niet gebruik maakt van de FOS tussen december en juni, *p* < 0,0001  \n",
    "* De p-waarde is kleiner dan 0,05, dus de H~0~ wordt verworpen.[^6]\n",
    "* Het verschil in proporties is `r Round_and_format(Verschil_proporties)`, er zijn dus meer studenten die gebruik maken van de FOS in juni ten opzichte van december\n",
    "\n",
    "<!-- ## /TEKSTBLOK: McNemar-toets5.R -->\n",
    "\n",
    "## Rapportage\n",
    "\n",
    "<!-- ## TEKSTBLOK: Rapportage.R -->\n",
    "De *McNemar toets* is uitgevoerd om uit te vinden of er een verschil is in de frequenties van het aantal studenten dat wel of geen beroep doet op de FOS voor en na de interventie van de decaan. De interventie heeft als doel het aantal studenten met een functiebeperking dat een beroep doet op de FOS te verhogen. De resultaten laten een significant verschil zien tussen de frequenties voor en na de interventie (*p* < 0,0001), wat betekent dat de nulhypothese verworpen kan worden. Het verschil in de proportie studenten dat een beroep doet op de FOS is `r Round_and_format(Verschil_proporties)` . Het verschil in proporties en de kruistabel (Tabel 2) illustreren dat het percentage studenten dat een beroep doet op de FOS is toegenomen na de interventie. \n",
    "\n",
    "|                      | December | Juni |\n",
    "| -------------------- | -------------| ------------| \n",
    "| **FOS** | `r FOS_studenten_kruistabel[\"ja\",\"december\"]`    | `r FOS_studenten_kruistabel[\"ja\",\"juni\"]`     |\n",
    "| **geen FOS**  | `r FOS_studenten_kruistabel[\"nee\",\"december\"]`      | `r FOS_studenten_kruistabel[\"nee\",\"juni\"]`     |\n",
    "*Tabel 2. Kruistabel van het aantal studenten dat een beroep doet op de FOS in december en juni*\n",
    "<!-- ## /TEKSTBLOK: Rapportage.R -->\n",
    "\n",
    "<!-- ## CLOSEDBLOK: Footer.R -->"
   ]
  },
  {
   "cell_type": "code",
   "execution_count": null,
   "id": "0e2bcdf5",
   "metadata": {
    "code": "#R_CODE#readLines(paste0(here::here(),\"/01. Includes/code/Footer.R\"))",
    "include": true,
    "lines_to_next_cell": 0,
    "name": "footer",
    "results": "asis",
    "tags": [
     "remove_input"
    ]
   },
   "outputs": [],
   "source": []
  },
  {
   "cell_type": "markdown",
   "id": "52214be7",
   "metadata": {},
   "source": [
    "<!-- ## /CLOSEDBLOK: Footer.R -->\n",
    "\n",
    "[^1]: Binaire variabelen: twee elkaar uitsluitende waarden, zoals ja of nee, 0 of 1, aan of uit. \n",
    "[^2]: Van Geloven, N., & Holman, R., (4 juni 2014). *McNemar toets*. [Wiki Statistiek Academisch Medisch Centrum](https://wikistatistiek.amc.nl/index.php/McNemar_toets). \n",
    "[^3]: Laerd statistics (2018). *McNemar's test using SPSS Statistics*. [Laerd statistics](https://statistics.laerd.com/spss-tutorials/mcnemars-test-using-spss-statistics.php) \n",
    "[^6]: In dit voorbeeld wordt uitgegaan van een waarschijnlijkheid van 95% c.q. een p-waardegrens van 0,05. De grens is naar eigen inzicht aan te passen; houd hierbij rekening met type I en type II fouten. \n",
    "[^7]: Onderscheidend vermogen, in het Engels power genoemd, is de kans dat de nulhypothese verworpen wordt wanneer de alternatieve hypothese waar is.\n",
    "[^8]: Een type I fout is de kans dat een van de nulhypotheses onterecht wordt verworpen en er bij toeval een verband wordt ontdekt dat er niet is.\n",
    "[^9]: Fagerland, M.W., Lydersen, S., & Laake, P. (2013). *The McNemar test for binary matched-pairs data: mid-p and asymptotic are better than exact conditional*. BMC medical research methodology, 13, 91. https://doi.org/10.1186/1471-2288-13-91\n",
    "\n",
    "<!-- ## TEKSTBLOK: Extra_bron.R -->\n",
    "<!-- ## /TEKSTBLOK: Extra_bron.R -->\n"
   ]
  }
 ],
 "metadata": {
  "jupytext": {
   "cell_metadata_filter": "message,tags,name,warning,echo,code,results,collapse,include,-all",
   "main_language": "R",
   "notebook_metadata_filter": "-all"
  },
  "language_info": {
   "codemirror_mode": {
    "name": "ipython",
    "version": 3
   },
   "file_extension": ".py",
   "mimetype": "text/x-python",
   "name": "python",
   "nbconvert_exporter": "python",
   "pygments_lexer": "ipython3",
   "version": "3.8.10"
  }
 },
 "nbformat": 4,
 "nbformat_minor": 5
}