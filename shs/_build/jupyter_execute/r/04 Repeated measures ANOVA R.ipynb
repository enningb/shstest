{
 "cells": [
  {
   "cell_type": "raw",
   "id": "dbfedeff",
   "metadata": {},
   "source": [
    "---\n",
    "title: \"Repeated measures ANOVA\"\n",
    "output:\n",
    "  html_document:\n",
    "    theme: lumen\n",
    "    toc: yes\n",
    "    toc_depth: 2\n",
    "    toc_float: \n",
    "      collapsed: FALSE \n",
    "    number_sections: true\n",
    "    includes:\n",
    "      in_header: [\"../01. Includes/html/nocache.html\", \"../01. Includes/html/favicon.html\", \"../01. Includes/html/analytics.html\"]\n",
    "  keywords: [statistisch handboek, studiedata]\n",
    "---"
   ]
  },
  {
   "cell_type": "markdown",
   "id": "e8078211",
   "metadata": {
    "lines_to_next_cell": 0
   },
   "source": [
    "<!-- ## CLOSEDBLOK: Functies.R -->"
   ]
  },
  {
   "cell_type": "code",
   "execution_count": 1,
   "id": "6be2dfc5",
   "metadata": {
    "include": true,
    "lines_to_next_cell": 0,
    "message": false,
    "name": "functies",
    "results": "asis",
    "tags": [
     "remove_input"
    ],
    "warning": false
   },
   "outputs": [
    {
     "ename": "SyntaxError",
     "evalue": "invalid syntax (<ipython-input-1-924f26e6aa13>, line 2)",
     "output_type": "error",
     "traceback": [
      "\u001b[0;36m  File \u001b[0;32m\"<ipython-input-1-924f26e6aa13>\"\u001b[0;36m, line \u001b[0;32m2\u001b[0m\n\u001b[0;31m    if (!exists(\"Substitute_var\")) {\u001b[0m\n\u001b[0m        ^\u001b[0m\n\u001b[0;31mSyntaxError\u001b[0m\u001b[0;31m:\u001b[0m invalid syntax\n"
     ]
    }
   ],
   "source": [
    "library(here)\n",
    "if (!exists(\"Substitute_var\")) {\n",
    "  ## Installeer packages en functies\n",
    "  source(paste0(here::here(), \"/99. Functies en Libraries/00. Voorbereidingen.R\"), echo = FALSE)\n",
    "}"
   ]
  },
  {
   "cell_type": "markdown",
   "id": "bf0d0a49",
   "metadata": {
    "lines_to_next_cell": 0
   },
   "source": [
    "<!-- ## /CLOSEDBLOK: Functies.R -->\n",
    "\n",
    "<!-- ## CLOSEDBLOK: CSS -->\n",
    "<style>\n",
    "`r htmltools::includeHTML(paste0(here::here(),\"/01. Includes/css/Stylesheet_SHHO.css\"))`\n",
    "</style>\n",
    "<!-- ## /CLOSEDBLOK: CSS -->\n",
    "\n",
    "<!-- ## CLOSEDBLOK: Header.R -->"
   ]
  },
  {
   "cell_type": "code",
   "execution_count": null,
   "id": "b6bbf8da",
   "metadata": {
    "code": "#R_CODE#readLines(paste0(here::here(),\"/01. Includes/code/Header.R\"))",
    "include": true,
    "lines_to_next_cell": 0,
    "name": "header",
    "results": "asis",
    "tags": [
     "remove_input"
    ]
   },
   "outputs": [],
   "source": []
  },
  {
   "cell_type": "markdown",
   "id": "0722606e",
   "metadata": {
    "lines_to_next_cell": 0
   },
   "source": [
    "<!-- ## /CLOSEDBLOK: Header.R -->\n",
    "\n",
    "<!-- ## CLOSEDBLOK: Status.R -->"
   ]
  },
  {
   "cell_type": "code",
   "execution_count": null,
   "id": "128b51c3",
   "metadata": {
    "code": "#R_CODE#readLines(paste0(here::here(),\"/01. Includes/code/Status.R\"))",
    "include": true,
    "lines_to_next_cell": 0,
    "name": "status",
    "results": "asis",
    "tags": [
     "remove_input"
    ]
   },
   "outputs": [],
   "source": []
  },
  {
   "cell_type": "markdown",
   "id": "38e7c9b4",
   "metadata": {
    "lines_to_next_cell": 0
   },
   "source": [
    "<!-- ## /CLOSEDBLOK: Status.R -->\n",
    "\n",
    "<!-- ## CLOSEDBLOK: Reticulate.R -->\n",
    "\n",
    "<!-- ## /CLOSEDBLOK: Reticulate.R -->\n",
    "\n",
    "<!-- ## OPENBLOK: Data-aanmaken.R -->"
   ]
  },
  {
   "cell_type": "code",
   "execution_count": null,
   "id": "792f7786",
   "metadata": {
    "echo": true,
    "lines_to_next_cell": 0,
    "name": "aanmaken data",
    "tags": [
     "remove_cell"
    ]
   },
   "outputs": [],
   "source": [
    "source(paste0(here::here(),\"/01. Includes/data/04.R\"))"
   ]
  },
  {
   "cell_type": "markdown",
   "id": "648cec43",
   "metadata": {
    "lines_to_next_cell": 0
   },
   "source": [
    "<!-- ## /OPENBLOK: Data-aanmaken.R -->\n",
    "\n",
    "# Toepassing\n",
    "Gebruik de *repeated measures ANOVA* om gemiddelden te vergelijken van een groep bij twee of meer herhaalde metingen of om gemiddelden van twee of meer gepaarde groepen te vergelijken.[^1] \n",
    "\n",
    "# Onderwijscasus\n",
    "<div id = \"casus\">\n",
    "\n",
    "De opleidingsdirecteur van de bachelor Technische Natuurkunde van een universiteit hoort vanuit de opleidingscommissie dat de eerstejaars studenten de studielast van de eerste onderwijsperiode als erg hoog ervaren. Om te onderzoeken hoe deze ervaren studielast verminderd kan worden, wil hij onderzoeken hoeveel tijd de studenten per week besteden aan hun vakken. Met behulp van een vragenlijst over de studiebelasting in het eerste jaar verzamelt hij gegevens van het aantal uur per week dat eerstejaars studenten besteden aan de vakken in de eerste onderwijsperiode: Lineaire Algebra, Relativiteitstheorie en Kosmologie. Op deze manier kan hij onderzoeken of er verschillen in de tijdsbesteding aan de verschillende vakken zijn en om te bepalen van welke vakken de studielast aangepast moet worden.\n",
    "\n",
    "Dit onderzoek vertaalt zich in de volgende combinatie van hypothesen, waarbij de nulhypothese zo geformuleerd is dat er geen effect of verschil is en de alternatieve hypothese zo geformuleerd is dat er wel een effect of verschil is.\n",
    "\n",
    "*H~0~*: Het gemiddeld aantal studieuren per week van eerstejaars studenten van de bachelor Technische Natuurkunde is hetzelfde voor de drie vakken in de eerste onderwijsperiode\n",
    "\n",
    "*H~A~*: Het gemiddeld aantal studieuren per week van eerstejaars studenten van de bachelor Technsiche Natuurkunde is niet hetzelfde voor de drie vakken in de eerste onderwijsperiode\n",
    "\n",
    "</div>\n",
    "\n",
    "# Assumpties\n",
    "Om een valide toetsresultaat te bereiken met de *repeated measures ANOVA* moet de data aan een aantal voorwaarden voldoen: normaliteit, sphericiteit en onafhankelijkheid.[^1] Onafhankelijkheid houdt in dat de herhaalde metingen van de deelnemers[^12] onafhankelijk van elkaar zijn.\n",
    "\n",
    "## Normaliteit\n",
    "<!-- ## TEKSTBLOK: link1.R -->\n",
    "De assumptie van normaliteit houdt in dat er een normale verdeling van de afhankelijke variabele is in elke groep van metingen. Controleer daarom de assumptie van normaliteit voor elke groep van metingen met de volgende stappen:  \n",
    "1. Controleer de data visueel met een histogram, een boxplot of een Q-Q plot.   \n",
    "2. Toets of de data normaal verdeeld is met de *Kolmogorov-Smirnov test* of bij een kleinere steekproef (n < 50) met de *Shapiro-Wilk test*.[^4]<sup>, </sup>[^5]  \n",
    "<!-- ## /TEKSTBLOK: link1.R -->\n",
    "\n",
    "De eerste stap heeft als doel een goede indruk te krijgen van de verdeling van de steekproef. In de tweede stap wordt de assumptie van normaliteit getoetst. De statistische toets laat zien of de verdeling van de observaties van een groep voldoet aan de assumptie van normaliteit. Voor alle groepen moet er voldaan zijn aan de assumptie van normaliteit.\n",
    "\n",
    "Als er niet voldaan is aan normaliteit, is het transformeren van de data een optie.[^2] Een andere optie is het gebruik van de nonparametrische [Friedman's ANOVA](09-Friedmans-ANOVA-R.html) waar normaliteit geen assumptie is.[^3] De *repeated measures ANOVA* is echter ook een robuuste toets ten opzichte van de assumptie van normaliteit. Als elke groep een aantal observaties (*n*) heeft dat groter dan 100 is,  ga er dan vanuit dat de *repeated measures ANOVA* robuust genoeg is om uit te voeren zonder dat de afhankelijke variabele een normale verdeling volgt.\n",
    "\n",
    "## Sphericiteit\n",
    "De assumptie van sphericiteit houdt in dat de variantie van de verschilscores tussen groepen van metingen ongeveer aan elkaar gelijk zijn.[^6] In deze casus zijn dat de verschilscores tussen de drie vakken: Lineaire Algebra minus Relativiteitstheorie, Relativiteitstheorie minus Kosmologie en Kosmologie minus Lineaire Algebra. Toets deze assumptie met *Mauchly's test*. Wanneer de data niet aan de assumptie voldoen, geeft de gewone *repeated measures ANOVA* een verkeerd resultaat. Er zijn echter correcties die gebruikt kunnen worden wanneer de data niet aan sphericiteit voldoen. Een voorbeeld van mogelijke output van *Mauchly's test* in R is hieronder weergegeven.\n",
    "\n",
    "<!-- ## CLOSEDBLOK: Sphericiteit.R -->"
   ]
  },
  {
   "cell_type": "code",
   "execution_count": null,
   "id": "45c27cae",
   "metadata": {
    "lines_to_next_cell": 0,
    "tags": [
     "remove_input"
    ]
   },
   "outputs": [],
   "source": [
    "cat(\"$`Mauchly's Test for Sphericity`\n",
    "  Effect         W           p p<.05\n",
    "2    Vak 0.8732982 0.005073887     *\n",
    "\n",
    "$`Sphericity Corrections`\n",
    "  Effect       GGe        p[GG] p[GG]<.05       HFe        p[HF] p[HF]<.05\n",
    "2    Vak   0.47683     0.05279         *   0.56298      0.04692         \")"
   ]
  },
  {
   "cell_type": "markdown",
   "id": "d88c0824",
   "metadata": {},
   "source": [
    "<!-- ## /CLOSEDBLOK: Sphericiteit.R -->\n",
    "\n",
    "<!-- ## TEKSTBLOK: Sphericiteit1.R -->\n",
    "Bij een p-waarde kleiner dan 0,05, toont *Mauchly's test* dat de assumptie van sphericiteit geschonden is. In de output is dit te zien aan de p-waarde van 0,0051 onder ` $Mauchly's Test for Sphericity `. Er zijn twee mogelijke correcties wanneer er geen sphericiteit is: de Greenhouse-Geisser (GG) en Huynh-Feldt (HF) correctie. De Greenhouse-Geisser correctie staat bekend als conservatief, wat betekent dat de correctie een relatief lage kans op een type I fout heeft. In andere woorden, het zal niet vaak gebeuren dat deze correctie een significant effect aantoont wanneer dat er in werkelijkheid niet is. De Huynh-Feldt correctie staat echter bekend als liberaal, wat betekent dat er een relatief hoge kans op een type I fout is. De teststatistiek en p-waarde van beide correcties zijn in de output te vinden onder ` $Sphericity Corrections `.\n",
    "<!-- ## /TEKSTBLOK: Sphericiteit1.R -->\n",
    "\n",
    "Houd de volgende richtlijnen aan bij het interpreteren van de *repeated measures ANOVA* wanneer niet aan sphericiteit is voldaan:\n",
    "\n",
    "* Wanneer beide correcties significant zijn, rapporteer de (conservatieve) Greenhouse-Geisser correctie.\n",
    "* Wanneer beide correcties niet significant zijn, rapporteer de (liberale) Huynh-Feldt correctie.\n",
    "* Wanneer de een significant is en de ander niet, bereken de gemiddelde p-waarde van beide correcties.\n",
    "    * Wanneer deze p-waarde significant is, rapporteer dan de significante correctie.\n",
    "    * Wanneer deze p-waarde niet significant is, rapporteer dan de niet significante correctie.\n",
    "\n",
    "In de voorbeeldoutput is de p-waarde van de Greenhouse-Geisser correctie groter dan 0,05 en de p-waarde van de Huynh-Feldt correctie kleiner dan 0,05. Het gemiddelde van beide p-waarden is 0,049855, wat betekent dat er een significant resultaat is. Rapporteer in dit geval dus de (significante) Huynh-Feldt correctie, i.e. *F* = 0,56, *p* < 0,05.  "
   ]
  },
  {
   "cell_type": "markdown",
   "id": "484f1ff0",
   "metadata": {
    "lines_to_next_cell": 0
   },
   "source": [
    "# Effectmaat\n",
    "De p-waarde geeft aan of het verschil tussen groepen van metingen significant is. De grootte van het verschil of effect is echter ook relevant. Een effectmaat is een gestandaardiseerde maat die de grootte van een effect weergeeft, zodat effecten van verschillende onderzoeken met elkaar vergeleken kunnen worden.[^6] Voor de *repeated measures ANOVA* wordt de effectmaat eta squared vaak gebruikt.\n",
    "\n",
    "## Eta squared\n",
    "De effectmaat eta squared (*η^2^*) berekent de proportie van de variantie in de afhankelijke variabele die verklaard wordt door de onafhankelijke variabele. In deze casus berekent het de proportie van de variantie in het aantal uren studeren die verklaard kan worden door het vak in de eerste onderwijsperiode. Een indicatie om *η^2^* te interpreteren is: rond 0,01 is een klein effect, rond 0,06 is een gemiddeld effect en rond 0,14 is een groot effect.[^7]\n",
    "\n",
    "# Post-hoc toetsen\n",
    "De *repeated measures ANOVA* toetst of één of meerdere van de gemiddelden anders is dan de andere gemiddelden. Voer een post-hoc toets uit om te bepalen welke groepen van metingen significant verschillen.\n",
    "\n",
    "Gebruik een correctie voor de p-waarden, omdat er meerdere toetsen tegelijkertijd worden gebruikt. Meerdere toetsen tegelijkertijd uitvoeren verhoogt de kans dat een van de nulhypotheses onterecht wordt verworpen en er bij toeval een verband wordt ontdekt dat er niet is (type I fout). In deze toetspagina wordt de *Bonferroni correctie* gebruikt. Deze correctie past de p-waarde aan door de p-waarde te vermenigvuldigen met het aantal uitgevoerde toetsen en verlaagt hiermee de kans op een type I fout. Een andere uitleg hiervan is dat het significantieniveau gedeeld wordt door het aantal toetsen wat leidt tot een lager significantieniveau en dus een strengere toets. Er zijn ook andere opties voor een correctie op de p-waarden.[^6]\n",
    "\n",
    "# Uitvoering\n",
    "<!-- ## TEKSTBLOK: Dataset-inladen.R-->\n",
    "Er is een dataset `Studieuren_technische_natuurkunde` ingeladen met het aantal studieuren van eerstejaars studenten van de bachelor Technische Natuurkunde voor de drie vakken in de eerste onderwijsperiode.\n",
    "<!-- ## /TEKSTBLOK: Dataset-inladen.R-->\n",
    "\n",
    "## De data bekijken\n",
    "<!-- ## TEKSTBLOK: Data-bekijken.R -->\n",
    "Gebruik `head()` en `tail()` om de structuur van de data te bekijken.\n",
    "<!-- ## /TEKSTBLOK: Data-bekijken.R -->\n",
    "\n",
    "<!-- ## OPENBLOK: Data-bekijken1.R -->"
   ]
  },
  {
   "cell_type": "code",
   "execution_count": null,
   "id": "9f91d851",
   "metadata": {
    "collapse": true,
    "lines_to_next_cell": 0,
    "name": "data bekijken"
   },
   "outputs": [],
   "source": [
    "## Eerste 5 observaties\n",
    "head(Studieuren_technische_natuurkunde)\n",
    "\n",
    "## Laatste 5 observaties\n",
    "tail(Studieuren_technische_natuurkunde)"
   ]
  },
  {
   "cell_type": "markdown",
   "id": "4bb99c74",
   "metadata": {
    "lines_to_next_cell": 0
   },
   "source": [
    "<!-- ## /OPENBLOK: Data-bekijken1.R -->\n",
    "\n",
    "Selecteer de drie groepen van metingen en sla deze op in een vector om deze makkelijker aan te kunnen roepen. \n",
    "<!-- ## OPENBLOK: Data-selecteren.R -->"
   ]
  },
  {
   "cell_type": "code",
   "execution_count": null,
   "id": "cd2b2a73",
   "metadata": {
    "lines_to_next_cell": 0,
    "name": "data selecteren"
   },
   "outputs": [],
   "source": [
    "Studieuren_lineaire_algebra <- Studieuren_technische_natuurkunde$Studieuren[Studieuren_technische_natuurkunde$Vak == \"Lineaire Algebra\"]\n",
    "Studieuren_relativiteitstheorie <- Studieuren_technische_natuurkunde$Studieuren[Studieuren_technische_natuurkunde$Vak == \"Relativiteitstheorie\"]\n",
    "Studieuren_kosmologie <- Studieuren_technische_natuurkunde$Studieuren[Studieuren_technische_natuurkunde$Vak == \"Kosmologie\"]"
   ]
  },
  {
   "cell_type": "markdown",
   "id": "78e118ff",
   "metadata": {},
   "source": [
    "<!-- ## /OPENBLOK: Data-selecteren.R -->"
   ]
  },
  {
   "cell_type": "markdown",
   "id": "9c51dd6c",
   "metadata": {},
   "source": [
    "<!-- ## TEKSTBLOK: Data-beschrijven.R -->\n",
    "Inspecteer de data met `mean()`, `sd()` en `length()` om meer inzicht te krijgen in de data.\n",
    "<!-- ## /TEKSTBLOK: Data-beschrijven.R -->\n",
    "\n",
    "<!-- ## OPENBLOK: numpy1.R -->\n",
    "<!-- ## /OPENBLOK: numpy1.R -->"
   ]
  },
  {
   "cell_type": "markdown",
   "id": "6dd6dd06",
   "metadata": {
    "lines_to_next_cell": 0
   },
   "source": [
    "<div class=\"col-container\"> \n",
    "  <div class=\"col\">\n",
    "<!-- ## OPENBLOK: Data-beschrijven1.R -->"
   ]
  },
  {
   "cell_type": "code",
   "execution_count": null,
   "id": "26159506",
   "metadata": {
    "collapse": true,
    "lines_to_next_cell": 0,
    "name": "descriptives 1",
    "warning": false
   },
   "outputs": [],
   "source": [
    "# Gemiddelde\n",
    "mean(Studieuren_lineaire_algebra)\n",
    "# Standaardafwijking\n",
    "sd(Studieuren_lineaire_algebra)\n",
    "# Aantal observaties\n",
    "length(Studieuren_lineaire_algebra)"
   ]
  },
  {
   "cell_type": "markdown",
   "id": "4607cd47",
   "metadata": {
    "lines_to_next_cell": 0
   },
   "source": [
    "<!-- ## /OPENBLOK: Data-beschrijven1.R -->\n",
    "  </div>\n",
    "  <div class = \"col\">\n",
    "<!-- ## OPENBLOK: Data-beschrijven2.R -->"
   ]
  },
  {
   "cell_type": "code",
   "execution_count": null,
   "id": "3eb91bd6",
   "metadata": {
    "collapse": true,
    "lines_to_next_cell": 0,
    "name": "descriptives 2",
    "warning": false
   },
   "outputs": [],
   "source": [
    "# Gemiddelde\n",
    "mean(Studieuren_relativiteitstheorie)\n",
    "# Standaardafwijking\n",
    "sd(Studieuren_relativiteitstheorie)\n",
    "# Aantal observaties\n",
    "length(Studieuren_relativiteitstheorie)"
   ]
  },
  {
   "cell_type": "markdown",
   "id": "e74342b4",
   "metadata": {
    "lines_to_next_cell": 0
   },
   "source": [
    "<!-- ## /OPENBLOK: Data-beschrijven2.R -->\n",
    "  </div>\n",
    "  <div class = \"col\">\n",
    "<!-- ## OPENBLOK: Data-beschrijven3.R -->"
   ]
  },
  {
   "cell_type": "code",
   "execution_count": null,
   "id": "50442410",
   "metadata": {
    "collapse": true,
    "lines_to_next_cell": 0,
    "name": "descriptives 3",
    "warning": false
   },
   "outputs": [],
   "source": [
    "# Gemiddelde\n",
    "mean(Studieuren_kosmologie)\n",
    "# Standaardafwijking\n",
    "sd(Studieuren_kosmologie)\n",
    "# Aantal observaties\n",
    "length(Studieuren_kosmologie)"
   ]
  },
  {
   "cell_type": "markdown",
   "id": "7edef4cb",
   "metadata": {},
   "source": [
    "<!-- ## /OPENBLOK: Data-beschrijven3.R -->\n",
    "  </div>\n",
    "</div>"
   ]
  },
  {
   "cell_type": "markdown",
   "id": "f06ab2ec",
   "metadata": {
    "lines_to_next_cell": 0
   },
   "source": [
    "<!-- ## CLOSEDBLOK: Data-beschrijven4.R -->"
   ]
  },
  {
   "cell_type": "code",
   "execution_count": null,
   "id": "3c45e881",
   "metadata": {
    "echo": true,
    "lines_to_next_cell": 0,
    "name": "data beschrijven als object",
    "tags": [
     "remove_cell"
    ]
   },
   "outputs": [],
   "source": [
    "vM_LA  <- Round_and_format(mean(Studieuren_lineaire_algebra))\n",
    "vSD_LA <- Round_and_format(sd(Studieuren_lineaire_algebra))\n",
    "vN_LA  <- Round_and_format(length(Studieuren_lineaire_algebra))\n",
    "\n",
    "vM_RT  <- Round_and_format(mean(Studieuren_relativiteitstheorie))\n",
    "vSD_RT <- Round_and_format(sd(Studieuren_relativiteitstheorie))\n",
    "vN_RT  <- Round_and_format(length(Studieuren_relativiteitstheorie))\n",
    "\n",
    "vM_KL  <- Round_and_format(mean(Studieuren_kosmologie))\n",
    "vSD_KL <- Round_and_format(sd(Studieuren_kosmologie))\n",
    "vN_KL  <- Round_and_format(length(Studieuren_kosmologie))"
   ]
  },
  {
   "cell_type": "markdown",
   "id": "f33dde41",
   "metadata": {
    "lines_to_next_cell": 0
   },
   "source": [
    "<!-- ## /CLOSEDBLOK: Data-beschrijven4.R -->\n",
    "\n",
    "<!-- ## TEKSTBLOK: Datatekst-beschrijven.R -->\n",
    "* Gemiddeld aantal studieuren Lineaire Algebra (standaarddeviatie): `r vM_LA` (`r vSD_LA`), *n* = `r vN_LA`  \n",
    "* Gemiddeld aantal studieuren Relativiteitstheorie (standaarddeviatie): `r vM_RT` (`r vSD_RT`), *n* = `r vN_RT`  \n",
    "* Gemiddeld aantal studieuren Kosmologie (standaarddeviatie): `r vM_KL` (`r vSD_KL`), *n* = `r vN_KL`\n",
    "\n",
    "<!-- ## /TEKSTBLOK: Datatekst-beschrijven.R -->\n",
    "\n",
    "## Visuele inspectie van normaliteit\n",
    "Geef de verdeling van de studieuren voor elke groep visueel weer met een histogram, Q-Q plot en boxplot.\n",
    "\n",
    "### Histogram\n",
    "\n",
    "Focus bij het analyseren van een histogram[^18] op de symmetrie van de verdeling, de hoeveelheid toppen (modaliteit) en mogelijke uitbijters. Een normale verdeling is symmetrisch, heeft één top en geen uitbijters.[^9]<sup>, </sup>[^10]\n",
    "\n",
    "<!-- ## OPENBLOK: Histogram.R -->"
   ]
  },
  {
   "cell_type": "code",
   "execution_count": null,
   "id": "51598200",
   "metadata": {
    "lines_to_next_cell": 0,
    "name": "histogram"
   },
   "outputs": [],
   "source": [
    "## Histogram met ggplot\n",
    "library(ggplot2)\n",
    "\n",
    "ggplot(Studieuren_technische_natuurkunde,\n",
    "  aes(x = Studieuren)) +\n",
    "  geom_histogram(aes(y = ..density..),\n",
    "                 binwidth = 2,\n",
    "                 color = \"grey30\",\n",
    "                 fill = \"#0089CF\") +\n",
    "  facet_wrap(~ Vak) +\n",
    "  geom_density(alpha = .2, adjust = 1) +\n",
    "  ylab(\"Frequentiedichtheid\") +\n",
    "  labs(title = \"Aantal studieuren\")"
   ]
  },
  {
   "cell_type": "markdown",
   "id": "0eaac068",
   "metadata": {
    "lines_to_next_cell": 0
   },
   "source": [
    "<!-- ## /OPENBLOK: Histogram.R -->\n",
    "\n",
    "Alle drie de verdelingen hebben één top en lijken geen uitbijters te hebben. Tevens zijn de verdelingen redelijk symmetrisch. Deze verdelingen benaderen de normaalverdeling.\n",
    "\n",
    "### Q-Q plot\n",
    "<!-- ## TEKSTBLOK: QQplot.R-->\n",
    "Gebruik `qqnorm()` en `qqline()` met `pch = 1`om een Q-Q plot te maken, met als datapunten kleine cirkels.\n",
    "<!-- ## /TEKSTBLOK: QQplot.R-->\n",
    "\n",
    "Als over het algemeen de meeste datapunten op de lijn liggen, neem dan aan dat de data normaal verdeeld zijn.\n",
    "<div class = \"col-container\">\n",
    "  <div class=\"col\">\n",
    "<!-- ## OPENBLOK: QQplot1.R -->"
   ]
  },
  {
   "cell_type": "code",
   "execution_count": null,
   "id": "bb5100b1",
   "metadata": {
    "lines_to_next_cell": 0,
    "name": "qqplot la"
   },
   "outputs": [],
   "source": [
    "qqnorm(\n",
    " Studieuren_lineaire_algebra, pch = 1,\n",
    " main = \"Normaal Q-Q plot van aantal studieuren Lineaire Algebra\",\n",
    " ylab = \"Kwantielen in data\",\n",
    " xlab = \"Theoretische kwantielen\")\n",
    "qqline(Studieuren_lineaire_algebra)"
   ]
  },
  {
   "cell_type": "markdown",
   "id": "d71882dd",
   "metadata": {
    "lines_to_next_cell": 0
   },
   "source": [
    "<!-- ## /OPENBLOK: QQplot1.R -->\n",
    "  </div>\n",
    "  <div class = \"col\">\n",
    "<!-- ## OPENBLOK: QQplot2.R -->"
   ]
  },
  {
   "cell_type": "code",
   "execution_count": null,
   "id": "2a699350",
   "metadata": {
    "lines_to_next_cell": 0,
    "name": "qqplot rt"
   },
   "outputs": [],
   "source": [
    "qqnorm(\n",
    " Studieuren_relativiteitstheorie, pch = 1,\n",
    " main = \"Normaal Q-Q plot van aantal studieuren Relativiteitstheorie\",\n",
    " ylab = \"Kwantielen in data\",\n",
    " xlab = \"Theoretische kwantielen\")\n",
    "qqline(Studieuren_relativiteitstheorie)"
   ]
  },
  {
   "cell_type": "markdown",
   "id": "a89b30cd",
   "metadata": {
    "lines_to_next_cell": 0
   },
   "source": [
    "<!-- ## /OPENBLOK: QQplot2.R -->\n",
    "  </div>\n",
    "  <div class = \"col\">\n",
    "<!-- ## OPENBLOK: QQplot3.R -->"
   ]
  },
  {
   "cell_type": "code",
   "execution_count": null,
   "id": "f5c67aa8",
   "metadata": {
    "lines_to_next_cell": 0,
    "name": "qqplot gsc"
   },
   "outputs": [],
   "source": [
    "qqnorm(\n",
    " Studieuren_kosmologie, pch = 1,\n",
    " main = \"Normaal Q-Q plot van aantal studieuren Kosmologie\",\n",
    " ylab = \"Kwantielen in data\",\n",
    " xlab = \"Theoretische kwantielen\")\n",
    "\n",
    "\n",
    "qqline(Studieuren_kosmologie)"
   ]
  },
  {
   "cell_type": "markdown",
   "id": "f1abf2d1",
   "metadata": {
    "lines_to_next_cell": 0
   },
   "source": [
    "<!-- ## /OPENBLOK: QQplot3.R -->\n",
    "  </div>\n",
    "</div>\n",
    "\n",
    "Bij alle drie de Q-Q plots liggen de punten rond de lijn die normaliteit aangeeft; vermoedelijk zijn de studieuren voor elke groep normaal verdeeld.\n",
    "\n",
    "### Boxplot\n",
    "De box geeft de middelste 50% van het aantal studieuren per week weer. De zwarte lijn binnen de box is de mediaan. In de staarten of snorreharen zitten de eerste 25% en de laatste 25%. Cirkels visualiseren mogelijke uitbijters.[^9]<sup>, </sup>[^10] Hoe meer de boxen overlappen, hoe waarschijnlijker er geen significant verschil is tussen de groepen van metingen. \n",
    "\n",
    "<!-- ## OPENBLOK: Boxplot.R -->"
   ]
  },
  {
   "cell_type": "code",
   "execution_count": null,
   "id": "7d0f8704",
   "metadata": {
    "lines_to_next_cell": 0,
    "name": "boxplot"
   },
   "outputs": [],
   "source": [
    "library(graphics)\n",
    "boxplot(Studieuren ~ Vak, Studieuren_technische_natuurkunde)"
   ]
  },
  {
   "cell_type": "markdown",
   "id": "7268adce",
   "metadata": {},
   "source": [
    "<!-- ## /OPENBLOK: Boxplot.R -->\n",
    "\n",
    "De boxplotten geven de spreiding weer van het aantal studieuren voor de drie vakken in de eerste onderwijsperiode: Kosmologie, Lineaire Algebra en Relativiteitstheorie. In het algemeen lijken de vakken een symmetrische verdeling te hebben. De medianen van Kosmologie en Lineaire Algebra liggen een stuk lager dan de mediaan van Relativiteitstheorie. Kosmologie en Relativiteitstheorie hebben mogelijke uitbijters. "
   ]
  },
  {
   "cell_type": "markdown",
   "id": "7d264876",
   "metadata": {
    "lines_to_next_cell": 0
   },
   "source": [
    "## Toetsen van normaliteit\n",
    "Om te controleren of de verdelingen van de studieuren voor elk vak normaal verdeeld zijn, kan de normaliteit getoetst worden. Twee veelgebruikte toetsen zijn: de *Kolmogorov-Smirnov test* en de *Shapiro-Wilk test*.\n",
    "\n",
    "### Kolmogorov-Smirnov\n",
    "De *Kolmogorov-Smirnov test* toetst het verschil tussen twee verdelingen. Standaard toetst deze test het verschil tussen een normale verdeling en de verdeling van de steekproef. De Lilliefors correctie is vereist als het gemiddelde en de standaardafwijking niet van tevoren bekend of bepaald zijn, wat meestal het geval is bij een steekproef. Als de p-waarde kleiner dan 0,05 is, is de verdeling van de data significant verschillend van de normale verdeling.\n",
    "\n",
    "<!-- ## TEKSTBLOK: Lilliefors-test1.R -->\n",
    "<!-- ## /TEKSTBLOK: Lilliefors-test1.R -->\n",
    "\n",
    "<!-- ## OPENBLOK: Library-nortest.R -->"
   ]
  },
  {
   "cell_type": "code",
   "execution_count": null,
   "id": "dbd79a19",
   "metadata": {
    "lines_to_next_cell": 0,
    "name": "library nortest"
   },
   "outputs": [],
   "source": [
    "library(\"nortest\")"
   ]
  },
  {
   "cell_type": "markdown",
   "id": "268a94ba",
   "metadata": {
    "lines_to_next_cell": 0
   },
   "source": [
    "<!-- ## /OPENBLOK: Library-nortest.R -->\n",
    "\n",
    "<div class=\"col-container\"> \n",
    "  <div class=\"col\">\n",
    "<!-- ## OPENBLOK: Lilliefors-test-1.R -->"
   ]
  },
  {
   "cell_type": "code",
   "execution_count": null,
   "id": "1e377e44",
   "metadata": {
    "lines_to_next_cell": 0,
    "name": "Lilliefors Test-1",
    "warning": false
   },
   "outputs": [],
   "source": [
    "lillie.test(Studieuren_lineaire_algebra)"
   ]
  },
  {
   "cell_type": "markdown",
   "id": "6d4c373c",
   "metadata": {
    "lines_to_next_cell": 0
   },
   "source": [
    "<!-- ## /OPENBLOK: Lilliefors-test-1.R -->\n",
    "  </div>\n",
    "  <div class = \"col\">\n",
    "<!-- ## OPENBLOK: Lilliefors-test-2.R -->"
   ]
  },
  {
   "cell_type": "code",
   "execution_count": null,
   "id": "f48d1dd8",
   "metadata": {
    "lines_to_next_cell": 0,
    "name": "Lilliefors Test-2",
    "warning": false
   },
   "outputs": [],
   "source": [
    "lillie.test(Studieuren_relativiteitstheorie)"
   ]
  },
  {
   "cell_type": "markdown",
   "id": "ecc13f86",
   "metadata": {
    "lines_to_next_cell": 0
   },
   "source": [
    "<!-- ## /OPENBLOK: Lilliefors-test-2.R -->\n",
    "  </div>\n",
    "  <div class = \"col\">\n",
    "<!-- ## OPENBLOK: Lilliefors-test-3.R -->"
   ]
  },
  {
   "cell_type": "code",
   "execution_count": null,
   "id": "0d4ef665",
   "metadata": {
    "lines_to_next_cell": 0,
    "name": "Lilliefors Test-3",
    "warning": false
   },
   "outputs": [],
   "source": [
    "lillie.test(Studieuren_kosmologie)"
   ]
  },
  {
   "cell_type": "markdown",
   "id": "70861a86",
   "metadata": {},
   "source": [
    "<!-- ## /OPENBLOK: Lilliefors-test-3.R -->\n",
    "  </div>\n",
    "</div>\n",
    "\n",
    "De p-waarde is groter dan 0,05 voor elk vak; er is geen significant verschil gevonden tussen de verdeling van de steekproef en de normale verdeling. [^11] De *repeated measures ANOVA* kan uitgevoerd worden.\n",
    "\n",
    "### Shapiro-Wilk Test\n",
    "De *Shapiro-Wilk test* is een soortgelijke toets als de *Kolmogorov-Smirnov test* en vooral geschikt bij kleine steekproeven (n < 50). Als de p-waarde kleiner dan 0,05 is, is de verdeling van de data significant verschillend van de normale verdeling.\n",
    "\n",
    "<div class=\"col-container\"> \n",
    "  <div class=\"col\">\n",
    "<!-- ## OPENBLOK: Shapiro-Wilk-test-1.R -->\n",
    "``` {r Shapiro-Wilk Test-3, warning=FALSE}\n",
    "shapiro.test(Studieuren_lineaire_algebra)\n",
    "```\n",
    "<!-- ## /OPENBLOK: Shapiro-Wilk-test-1.R -->\n",
    "  </div>\n",
    "  <div class= \"col\">\n",
    "<!-- ## OPENBLOK: Shapiro-Wilk-test-2.R -->\n",
    "``` {r Shapiro-Wilk Test-2, warning=FALSE}\n",
    "shapiro.test(Studieuren_relativiteitstheorie)\n",
    "```\n",
    "<!-- ## /OPENBLOK: Shapiro-Wilk-test-2.R -->\n",
    "  </div>\n",
    "  <div class= \"col\"> \n",
    "<!-- ## OPENBLOK: Shapiro-Wilk-test-3.R -->\n",
    "``` {r Shapiro-Wilk Test-1, warning=FALSE}\n",
    "shapiro.test(Studieuren_kosmologie)\n",
    "```\n",
    "<!-- ## /OPENBLOK: Shapiro-Wilk-test-3.R -->\n",
    "  </div>\n",
    "</div>\n",
    "\n",
    "De p-waarde is groter dan 0,05 voor elk vak, dus er is geen significant verschil gevonden tussen de verdeling van de steekproef en de normale verdeling.[^11] De *repeated measures ANOVA* kan uitgevoerd worden."
   ]
  },
  {
   "cell_type": "markdown",
   "id": "9debb6f6",
   "metadata": {
    "lines_to_next_cell": 0
   },
   "source": [
    "## Repeated measures ANOVA \n",
    "\n",
    "<!-- ## TEKSTBLOK: repeatedmeasuresANOVA1.R -->\n",
    "Voer de *repeated measures ANOVA* uit om de vraag te beantwoorden of er verschillen zijn tussen het aantal studieuren voor de vakken in de eerste onderwijsperiode van het eerste jaar van de bachelor Technische Natuurkunde. Gebruik de functie `ezANOVA()` van het package `ez` met als argumenten de dataset `Studieuren_technische_natuurkunde`, de afhankelijke variabele `dv = Studieuren`, de variabele die de deelnemers aangeeft `wid = Studentnummer` en de onafhankelijke variabele `within = Vak`.\n",
    "<!-- ## /TEKSTBLOK: repeatedmeasuresANOVA1.R -->\n",
    "\n",
    "<!-- ## OPENBLOK: repeatedmeasuresANOVA2.R -->"
   ]
  },
  {
   "cell_type": "code",
   "execution_count": null,
   "id": "b4755610",
   "metadata": {
    "lines_to_next_cell": 0,
    "name": "ANOVA2",
    "warning": false
   },
   "outputs": [],
   "source": [
    "library(ez)\n",
    "ezANOVA(Studieuren_technische_natuurkunde, dv = Studieuren, wid = Studentnummer,\n",
    "               within = Vak)\n"
   ]
  },
  {
   "cell_type": "markdown",
   "id": "321fd1c2",
   "metadata": {
    "lines_to_next_cell": 0
   },
   "source": [
    "<!-- ## /OPENBLOK: repeatedmeasuresANOVA2.R -->\n",
    "\n",
    "<!-- ## CLOSEDBLOK: repeatedmeasuresANOVA3.R -->"
   ]
  },
  {
   "cell_type": "code",
   "execution_count": null,
   "id": "176aa855",
   "metadata": {
    "lines_to_next_cell": 0,
    "name": "ANOVA als object",
    "tags": [
     "remove_input"
    ]
   },
   "outputs": [],
   "source": [
    "library(ez)\n",
    "obj <- ezANOVA(Studieuren_technische_natuurkunde, dv = Studieuren, wid = Studentnummer,\n",
    "               within = Vak)\n",
    "Mauchly_W <- Round_and_format(obj$`Mauchly's Test for Sphericity`$W)\n",
    "v_F <- Round_and_format(obj$ANOVA$F)\n",
    "eta2 <- Round_and_format(obj$ANOVA$ges)"
   ]
  },
  {
   "cell_type": "markdown",
   "id": "210b9c0d",
   "metadata": {
    "lines_to_next_cell": 0
   },
   "source": [
    "<!-- ## /CLOSEDBLOK: repeatedmeasuresANOVA3.R -->\n",
    "\n",
    "<!-- ## TEKSTBLOK: repeatedmeasuresANOVA4.R -->\n",
    "\n",
    "* *Mauchly's test* toont aan dat de assumptie van sphericiteit stand houdt in deze casus ($\\chi^2$ = `r Mauchly_W`, *p* = 0,297). Er is geen correctie nodig.\n",
    "* De resultaten van de repeated measures ANOVA zijn *F* = `r v_F`, *p* < 0,0001, *η^2^* = `r eta2`\n",
    "* De p-waarde is kleiner dan 0,05, dus de H~0~ wordt verworpen.[^11]\n",
    "* Er is een significant verschil tussen het aantal studieuren voor de drie vakken in de eerste onderwijsperiode; het effect van de verschillende vakken op het aantal studieuren is groot.\n",
    "\n",
    "<!-- ## /TEKSTBLOK: repeatedmeasuresANOVA4.R -->\n",
    "\n",
    "## Post-hoc toets\n",
    "<!-- ## TEKSTBLOK: posthoc1.R -->\n",
    "Voer post-hoc toetsen uit om te onderzoeken welke vakken uit de eerste onderwijsperiode van elkaar verschillen wat betreft het aantal studieuren dat eerstejaars studenten van de bachelor Technische Natuurkunde hieraan besteden. Gebruik hiervoor de functie `pairwise.t.test()` met als argumenten de afhankelijk variabele `Studieuren_technische_natuurkunde$Studieuren`, de onafhankelijke variabele `Studieuren_technische_natuurkunde$Vak`, het argument `paired = TRUE` om aan te geven dat er een gepaarde vergelijking gemaakt wordt en de gebruikte methode om te corrigeren voor meerdere toetsen `p.adjust.method = \"bonferroni\"`.\n",
    "<!-- ## /TEKSTBLOK: posthoc1.R -->\n",
    "\n",
    "<!-- ## OPENBLOK: posthoc2.R -->"
   ]
  },
  {
   "cell_type": "code",
   "execution_count": null,
   "id": "07468c19",
   "metadata": {
    "lines_to_next_cell": 0
   },
   "outputs": [],
   "source": [
    "# Bereken de verschillen in gemiddelde tussen de drie vakken\n",
    "Verschil_gemiddelde_LA_RT <- mean(Studieuren_lineaire_algebra) - mean(Studieuren_relativiteitstheorie)\n",
    "Verschil_gemiddelde_RT_KL <- mean(Studieuren_relativiteitstheorie) - mean(Studieuren_kosmologie)\n",
    "Verschil_gemiddelde_KL_LA <- mean(Studieuren_kosmologie) - mean(Studieuren_lineaire_algebra)\n",
    "\n",
    "# Bereken de p-waarden van de post-hoc toets\n",
    "pairwise.t.test(Studieuren_technische_natuurkunde$Studieuren, \n",
    "                Studieuren_technische_natuurkunde$Vak,\n",
    "                paired = TRUE,\n",
    "                p.adjust.method = \"bonferroni\")\n"
   ]
  },
  {
   "cell_type": "markdown",
   "id": "6238527e",
   "metadata": {
    "lines_to_next_cell": 0
   },
   "source": [
    "<!-- ## /OPENBLOK: posthoc2.R -->\n",
    "\n",
    "<!-- ## CLOSEDBLOK: posthoc3.R -->"
   ]
  },
  {
   "cell_type": "code",
   "execution_count": null,
   "id": "b0531239",
   "metadata": {
    "lines_to_next_cell": 0,
    "tags": [
     "remove_cell"
    ]
   },
   "outputs": [],
   "source": [
    "# Bereken de verschillen in gemiddelde tussen de drie vakken\n",
    "Mu_diff_LA_RT <- Round_and_format(mean(Studieuren_lineaire_algebra) - mean(Studieuren_relativiteitstheorie))\n",
    "Mu_diff_RT_KL <- Round_and_format(mean(Studieuren_relativiteitstheorie) - mean(Studieuren_kosmologie))\n",
    "Mu_diff_KL_LA <- Round_and_format(mean(Studieuren_kosmologie) - mean(Studieuren_lineaire_algebra))\n",
    "\n",
    "# Bereken de p-waarden van de post-hoc toets\n",
    "phtest <- pairwise.t.test(Studieuren_technische_natuurkunde$Studieuren, \n",
    "                Studieuren_technische_natuurkunde$Vak,\n",
    "                paired = TRUE,\n",
    "                p.adjust.method = \"bonferroni\")\n"
   ]
  },
  {
   "cell_type": "markdown",
   "id": "ae7b0f52",
   "metadata": {},
   "source": [
    "<!-- ## /CLOSEDBLOK: posthoc3.R -->\n",
    "\n",
    "<!-- ## TEKSTBLOK: posthoc4.R -->\n",
    "* Er is een significant verschil tussen Lineaire algebra en Relativiteitstheorie, *MD* = `r Mu_diff_LA_RT`, *p* < 0,0001\n",
    "* Er is een significant verschil tussen Relativiteitstheorie en Kosmologie, *MD* = `r Mu_diff_RT_KL`, *p* < 0,0001\n",
    "* Er is een significant verschil tussen Kosmologie en Lineaire algebra, *MD* = `r Mu_diff_KL_LA`, *p* = 0,012\n",
    "\n",
    "<!-- ## /TEKSTBLOK: posthoc4.R -->"
   ]
  },
  {
   "cell_type": "markdown",
   "id": "ddc110fa",
   "metadata": {},
   "source": [
    "# Rapportage\n",
    "\n",
    "<!-- ## TEKSTBLOK: rapportage.R -->\n",
    "Een *repeated measures ANOVA* is uitgevoerd om te onderzoeken of er verschillen zijn tussen het aantal studieuren dat eerstejaars studenten van de bachelor Technische Natuurkunde besteden aan de vakken in de eerste onderwijsperiode. De vakken zijn Lineaire Algebra, Relativiteitstheorie en Kosmologie; beschrijvende statistieken zijn te vinden in Tabel 1. De data voldoet aan de assumptie van sphericiteit ($\\chi^2$ = `r Mauchly_W`, p = 0,0297), daarom is er geen correctie gebruikt. Het aantal studieuren voor de drie vakken in de eerste onderwijsperiode verschilt significant van elkaar, *F* = `r v_F`, p < 0,0001, *η^2^* = `r eta2`. De sterkte van het effect van het vak op het aantal studieuren is groot. Post-hoc toetsen - waarbij een Bonferroni correctie is toegepast om te corrigeren voor meerdere toetsen -  tonen aan dat het aantal studieuren voor het vak Relativiteitstheorie significant verschilt van het aantal studieuren voor zowel het vak Lineaire Algebra als Kosmologie (voor beide p < 0,0001) en dat er een significant verschil is tussen de vakken Lineaire Algebra en Kosmologie (p = 0,012). De resultaten suggereren dat eerstejaars studenten van de bachelor Technische Natuurkunde de meeste uren steken in het vak Relativiteitstheorie en daarna iets meer uren in het vak Kosmologie dan dan in het vak Lineaire Algebra.\n",
    "\n",
    "| Opleiding     | M          | SD          | N          |\n",
    "| ------------- | ---------- | ---------- | ----------- |\n",
    "| Lineaire Algebra      | `r vM_LA` | `r vSD_LA` | `r vN_LA` |\n",
    "| Relativiteitstheorie  | `r vM_RT` | `r vSD_RT` | `r vN_RT` |\n",
    "| Kosmologie            | `r vM_KL` | `r vSD_KL` | `r vN_KL` |\n",
    "*Tabel 1. Het gemiddelde aantal studieuren, bijbehorende standaarddeviatie en groepsgrootte voor de vakken in de eerste onderwijsperiode van de bachelor Technische Natuurkunde.*\n",
    "<!-- ## /TEKSTBLOK: rapportage.R -->\n"
   ]
  },
  {
   "cell_type": "markdown",
   "id": "be7c5bca",
   "metadata": {
    "lines_to_next_cell": 0
   },
   "source": [
    "<!-- ## CLOSEDBLOK: Footer.R -->"
   ]
  },
  {
   "cell_type": "code",
   "execution_count": null,
   "id": "fbea7244",
   "metadata": {
    "code": "#R_CODE#readLines(paste0(here::here(),\"/01. Includes/code/Footer.R\"))",
    "include": true,
    "lines_to_next_cell": 0,
    "name": "footer",
    "results": "asis",
    "tags": [
     "remove_input"
    ]
   },
   "outputs": [],
   "source": []
  },
  {
   "cell_type": "markdown",
   "id": "50bdf739",
   "metadata": {},
   "source": [
    "<!-- ## /CLOSEDBLOK: Footer.R -->\n",
    "\n",
    "[^1]: Universiteit van Amsterdam (26 augustus 2014). *Repeated-Measures ANOVA*. [UvA Wiki Methodologiewinkel](https://wiki.uva.nl/methodologiewinkel/index.php/Repeated-Measures_ANOVA).\n",
    "[^2]: Er zijn verschillende opties om variabelen te transformeren, zoals de logaritme, wortel of inverse (1 gedeeld door de variabele) nemen van de variabele. Zie *Discovering statistics using IBM SPSS statistics* van Field (2013) pagina 201-210 voor meer informatie over welke transformaties wanneer gebruikt kunnen worden.\n",
    "[^3]: Allen, P. & Bennett, K. (2012). *SPSS A practical Guide version 20.0*. Cengage Learning Australia Pty Limited.\n",
    "[^4]: Laerd statistics (2018). *Testing for Normality using SPSS Statistics*. https://statistics.laerd.com/spss-tutorials/testing-for-normality-using-spss-statistics.php. \n",
    "[^5]: Universiteit van Amsterdam (14 juli 2014). *Normaliteit*. [UvA Wiki Methodologiewinkel](https://wiki.uva.nl/methodologiewinkel/index.php/Normaliteit).\n",
    "[^6]: Field, A., Miles, J., & Field, Z. (2012). *Discovering statistics using R*. London: Sage publications.\n",
    "[^7]: Allen, P. & Bennett, K. (2012). *SPSS A practical Guide version 20.0*. Cengage Learning Australia Pty Limited.\n",
    "[^9]: Outliers (13 augustus 2016). [UvA Wiki Methodologiewinkel](https://wiki.uva.nl/methodologiewinkel/index.php/Outliers).\n",
    "[^10]: Uitbijters kunnen bepalend zijn voor de uitkomst van toetsen. Bekijk of de uitbijters valide uitbijters zijn en niet een meetfout of op een andere manier incorrect verkregen data. Het weghalen van uitbijters kan de uitkomst ook vertekenen, daarom is het belangrijk om verwijderde uitbijters te melden in een rapport. \n",
    "[^11]: In dit voorbeeld wordt uitgegaan van een waarschijnlijkheid van 95% c.q. een p-waardegrens van 0,05. De grens is naar eigen inzicht aan te passen; houd hierbij rekening met type I en type II fouten.\n",
    "[^12]: Met een deelnemer wordt het object bedoeld dat geobserveerd wordt, bijvoorbeeld een student, een inwoner van Nederland, een opleiding of een organisatie. Met een observatie wordt de waarde bedoeld die de deelnemer heeft voor een bepaalde variabele. Een deelnemer heeft dus meestal een observatie voor meerdere variabelen.\n",
    "[^18]: De breedte van de staven van het histogram wordt vaak automatisch bepaald, maar kan handmatig aangepast worden. Aangezien de breedte van de staven bepalend zijn voor de indruk die de visualisatie geeft, is het verstandig om hier goed op te letten.\n"
   ]
  }
 ],
 "metadata": {
  "jupytext": {
   "cell_metadata_filter": "message,tags,name,warning,echo,code,results,collapse,include,-all",
   "main_language": "R",
   "notebook_metadata_filter": "-all"
  },
  "language_info": {
   "codemirror_mode": {
    "name": "ipython",
    "version": 3
   },
   "file_extension": ".py",
   "mimetype": "text/x-python",
   "name": "python",
   "nbconvert_exporter": "python",
   "pygments_lexer": "ipython3",
   "version": "3.8.10"
  }
 },
 "nbformat": 4,
 "nbformat_minor": 5
}