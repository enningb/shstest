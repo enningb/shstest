{
 "cells": [
  {
   "cell_type": "raw",
   "id": "f82b1490",
   "metadata": {},
   "source": [
    "---\n",
    "title: \"Bhapkar toets\"\n",
    "output:\n",
    "  html_document:\n",
    "    theme: lumen\n",
    "    toc: yes\n",
    "    toc_depth: 2\n",
    "    toc_float: \n",
    "      collapsed: FALSE \n",
    "    number_sections: true\n",
    "  keywords: [statistisch handboek, studiedata]\n",
    "---"
   ]
  },
  {
   "cell_type": "markdown",
   "id": "5ffb9ba8",
   "metadata": {
    "lines_to_next_cell": 0
   },
   "source": [
    "<!-- ## CLOSEDBLOK: Functies.R -->"
   ]
  },
  {
   "cell_type": "code",
   "execution_count": 1,
   "id": "29b941fa",
   "metadata": {
    "include": true,
    "lines_to_next_cell": 0,
    "message": false,
    "name": "functies",
    "results": "asis",
    "tags": [
     "remove_input"
    ],
    "warning": false
   },
   "outputs": [
    {
     "ename": "SyntaxError",
     "evalue": "invalid syntax (<ipython-input-1-924f26e6aa13>, line 2)",
     "output_type": "error",
     "traceback": [
      "\u001b[0;36m  File \u001b[0;32m\"<ipython-input-1-924f26e6aa13>\"\u001b[0;36m, line \u001b[0;32m2\u001b[0m\n\u001b[0;31m    if (!exists(\"Substitute_var\")) {\u001b[0m\n\u001b[0m        ^\u001b[0m\n\u001b[0;31mSyntaxError\u001b[0m\u001b[0;31m:\u001b[0m invalid syntax\n"
     ]
    }
   ],
   "source": [
    "library(here)\n",
    "if (!exists(\"Substitute_var\")) {\n",
    "  ## Installeer packages en functies\n",
    "  source(paste0(here::here(), \"/99. Functies en Libraries/00. Voorbereidingen.R\"), echo = FALSE)\n",
    "}"
   ]
  },
  {
   "cell_type": "markdown",
   "id": "3bc711e7",
   "metadata": {
    "lines_to_next_cell": 0
   },
   "source": [
    "<!-- ## /CLOSEDBLOK: Functies.R -->\n",
    "\n",
    "<!-- ## CLOSEDBLOK: CSS -->\n",
    "<style>\n",
    "`r htmltools::includeHTML(paste0(here::here(),\"/01. Includes/css/Stylesheet_SHHO.css\"))`\n",
    "</style>\n",
    "<!-- ## /CLOSEDBLOK: CSS -->\n",
    "\n",
    "<!-- ## CLOSEDBLOK: Header.R -->"
   ]
  },
  {
   "cell_type": "code",
   "execution_count": null,
   "id": "81221b0b",
   "metadata": {
    "code": "#R_CODE#readLines(paste0(here::here(),\"/01. Includes/code/Header.R\"))",
    "include": true,
    "lines_to_next_cell": 0,
    "name": "header",
    "results": "asis",
    "tags": [
     "remove_input"
    ]
   },
   "outputs": [],
   "source": []
  },
  {
   "cell_type": "markdown",
   "id": "fd44306b",
   "metadata": {
    "lines_to_next_cell": 0
   },
   "source": [
    "<!-- ## /CLOSEDBLOK: Header.R -->\n",
    "\n",
    "<!-- ## CLOSEDBLOK: Status.R -->"
   ]
  },
  {
   "cell_type": "code",
   "execution_count": null,
   "id": "8799505f",
   "metadata": {
    "code": "#R_CODE#readLines(paste0(here::here(),\"/01. Includes/code/Status.R\"))",
    "include": true,
    "lines_to_next_cell": 0,
    "name": "status",
    "results": "asis",
    "tags": [
     "remove_input"
    ]
   },
   "outputs": [],
   "source": []
  },
  {
   "cell_type": "markdown",
   "id": "b573ad52",
   "metadata": {
    "lines_to_next_cell": 0
   },
   "source": [
    "<!-- ## /CLOSEDBLOK: Status.R -->\n",
    "\n",
    "<!-- ## CLOSEDBLOK: Reticulate.R -->\n",
    "\n",
    "<!-- ## /CLOSEDBLOK: Reticulate.R -->\n",
    "\n",
    "<!-- ## OPENBLOK: Data-aanmaken.R -->"
   ]
  },
  {
   "cell_type": "code",
   "execution_count": null,
   "id": "d55080dc",
   "metadata": {
    "echo": true,
    "lines_to_next_cell": 0,
    "name": "aanmaken data",
    "tags": [
     "remove_cell"
    ]
   },
   "outputs": [],
   "source": [
    "source(paste0(here::here(),\"/01. Includes/data/18.R\"))"
   ]
  },
  {
   "cell_type": "markdown",
   "id": "28490404",
   "metadata": {
    "lines_to_next_cell": 0
   },
   "source": [
    "<!-- ## /OPENBLOK: Data-aanmaken.R -->\n",
    "\n",
    "# Toepassing\n",
    "\n",
    "<!-- ## TEKSTBLOK: Link1.R -->\n",
    "Gebruik de *Bhapkar toets* om te toetsen of er verschillen zijn voor een nominale[^1] variabele tussen twee gepaarde groepen.[^2]<sup>, </sup>[^3] Als de nominale variabele twee categorieën heeft, kan ook de [McNemar toets](12-McNemar-toets-I-R.html) gebruikt worden.\n",
    "<!-- ## /TEKSTBLOK: Link1.R -->\n",
    "\n",
    "# Onderwijscasus\n",
    "<div id = \"casus\">\n",
    "\n",
    "De studieadviseur van de bachelor Leisure & Events Management geeft halverwege het eerste studiejaar een voorlopig BSA-advies aan alle eerstejaars studenten. Studenten ontvangen een positief, negatief of uitgesteld BSA.  Daarnaast voert zij met alle studenten persoonlijke gesprekken om het advies toe te lichten en een plan voor de rest van het studiejaar te maken. De studieadviseur wil graag onderzoeken of er verschillen zijn tussen het voorlopige BSA-advies halverwege het jaar en het definitieve advies aan het einde van het jaar zodat ze de effectiviteit van de persoonlijke gesprekken kan beoordelen.\n",
    "\n",
    "Dit onderzoek vertaalt zich in de volgende combinatie van hypothesen, waarbij de nulhypothese zo geformuleerd is dat er geen effect of verschil is en de alternatieve hypothese zo geformuleerd is dat er wel een effect of verschil is.\n",
    "\n",
    "*H~0~*: Er is geen verschil tussen de verdeling van de voorlopige BSA adviezen en de definitieve BSA adviezen.\n",
    "\n",
    "*H~A~*: Er is een verschil tussen de verdeling van de voorlopige BSA adviezen en de definitieve BSA adviezen.\n",
    "\n",
    "</div>\n",
    "\n",
    "# Assumpties\n",
    "\n",
    "Om de *Bhapkar toets* uit te voeren, moeten de data aan een aantal voorwaarden voldoen. Er dient een categorische variabele te zijn met twee of meer categorieën en een binaire variabele die de twee gepaarde groepen weergeeft. Daarnaast mag er geen overlap zijn tussen de categorieën van de categorische variabele: elke observatie past slechts in een van beide categorieën.[^2]<sup>, </sup>[^3]\n",
    "\n",
    "# Frequentiematrix\n",
    "\n",
    "De *Bhapkar toets* gaat uit van een frequentiematrix, een matrix waarin de rijen de eerste meting van de steekproef bevat en de kolommen de tweede meting. Een voorbeeld bij de casus is weergegeven in Tabel 1.\n",
    "\n",
    "<!-- ## OPENBLOK: Groepsgrootte1.R -->"
   ]
  },
  {
   "cell_type": "code",
   "execution_count": null,
   "id": "f5a367c1",
   "metadata": {
    "echo": true,
    "lines_to_next_cell": 0,
    "name": "groepsgrootte",
    "tags": [
     "remove_cell"
    ]
   },
   "outputs": [],
   "source": [
    "## Sla de voorlopige en definitieve BSA-adviezen op\n",
    "Voorlopig <- BSA_LEM$BSA_advies[BSA_LEM$Soort_BSA == \"Voorlopig\"]\n",
    "Definitief <- BSA_LEM$BSA_advies[BSA_LEM$Soort_BSA == \"Definitief\"]\n",
    "\n",
    "## Maak een frequentiematrix\n",
    "BSA_frequentiematrix <- table(Voorlopig, Definitief)"
   ]
  },
  {
   "cell_type": "markdown",
   "id": "c039f35b",
   "metadata": {},
   "source": [
    "<!-- ## /OPENBLOK: Groepsgrootte1.R -->\n",
    "\n",
    "<!-- ## TEKSTBLOK: Groepsgrootte2.R -->\n",
    "\n",
    "||                      | Definitief    |  |  |\n",
    "|-------------| -------------------- | -------------| ------------| ------------| \n",
    "||                      | Positief | Negatief| Uitgesteld |\n",
    "|**Voorlopig**| Positief      | `r BSA_frequentiematrix[\"Positief\",\"Positief\"]` | `r BSA_frequentiematrix[\"Positief\",\"Negatief\"]`     | `r BSA_frequentiematrix[\"Positief\",\"Uitgesteld\"]` |\n",
    "|            | Negatief | `r BSA_frequentiematrix[\"Negatief\",\"Positief\"]` | `r BSA_frequentiematrix[\"Negatief\",\"Negatief\"]`     | `r BSA_frequentiematrix[\"Negatief\",\"Uitgesteld\"]` |\n",
    "|            | Uitgesteld | `r BSA_frequentiematrix[\"Uitgesteld\",\"Positief\"]` | `r BSA_frequentiematrix[\"Uitgesteld\",\"Negatief\"]`     | `r BSA_frequentiematrix[\"Uitgesteld\",\"Uitgesteld\"]` |\n",
    "*Tabel 1. Frequentiematrix van de voorlopige en definitieve BSA-adviezen voor studenten van de bachelor Leisure & Event Management.*\n",
    "\n",
    "De cel linksboven bevat het aantal studenten dat zowel bij het voorlopige BSA als het definitieve BSA advies een positief advies heeft ontvangen; dit zijn `r BSA_frequentiematrix[\"Positief\",\"Positief\"]` studenten. De cel in het midden van de frequentiematrix laat het aantal studenten zien dat zowel bij het voorlopige BSA als het definitieve BSA advies een negatief advies heeft ontvangen; dit zijn `r BSA_frequentiematrix[\"Negatief\",\"Negatief\"]` studenten. De cel rechtsonder bevat het aantal studenten dat zowel bij het voorlopige BSA als het definitieve BSA advies een uitgesteld advies heeft ontvangen; dit is `r BSA_frequentiematrix[\"Uitgesteld\",\"Uitgesteld\"]` student. Deze drie cellen staan op de diagonaal van de tabel en worden daarom de *diagonale elementen* genoemd.\n",
    "\n",
    "Er zijn ook cellen die niet onder de diagonale elementen van de frequentiematrix vallen. Deze cellen bevatten studenten waarbij het voorlopige BSA advies verschilt van het definitieve advies. In de cel rechtsboven bijvoorbeeld staat het aantal studenten dat een positief voorlopig BSA advies en een uitgesteld definitief BSA advies heeft ontvangen; dit zijn `r BSA_frequentiematrix[\"Positief\",\"Uitgesteld\"]` studenten. De cel linksonder bevat het aantal studenten dat een uitgesteld voorlopig BSA advies en een positief definitief BSA advies heeft ontvangen; dit zijn `r BSA_frequentiematrix[\"Uitgesteld\",\"Positief\"]` studenten.\n",
    "<!-- ## /TEKSTBLOK: Groepsgrootte2.R -->"
   ]
  },
  {
   "cell_type": "markdown",
   "id": "7b84cbcb",
   "metadata": {
    "lines_to_next_cell": 0
   },
   "source": [
    "# De data bekijken\n",
    "<!-- ## TEKSTBLOK: Data-bekijken1.R -->\n",
    "Er is een dataset ingeladen genaamd `BSA_LEM`. In deze dataset is voor elke student aangegeven wat het voorlopige en definitieve BSA advies is.\n",
    "\n",
    "<!-- ## /TEKSTBLOK: Data-bekijken1.R -->\n",
    "\n",
    "<!-- ## OPENBLOK: Data-bekijken2.R -->"
   ]
  },
  {
   "cell_type": "code",
   "execution_count": null,
   "id": "06101e66",
   "metadata": {
    "lines_to_next_cell": 0,
    "name": "data bekijken"
   },
   "outputs": [],
   "source": [
    "## Eerste 6 observaties\n",
    "head(BSA_LEM)\n",
    "\n",
    "## Laatste 6 observaties\n",
    "tail(BSA_LEM)"
   ]
  },
  {
   "cell_type": "markdown",
   "id": "8f755073",
   "metadata": {
    "lines_to_next_cell": 0
   },
   "source": [
    "<!-- ## /OPENBLOK: Data-bekijken2.R -->\n",
    "\n",
    "<!-- ## TEKSTBLOK: Data-kruistabel1.R -->\n",
    "Een kruistabel geeft de aantallen observaties weer voor de combinaties van de categorieën van de variabelen `Soort_BSA` en `BSA_advies`. In feite laat deze tabel de frequentie van het positieve, negatieve en uitgestelde BSA-advies zien voor de voorlopige en definitieve BSA. Maak de kruistabel met de functie `table()` met als argumenten de variabele `BSA_LEM$Soort_BSA`, die weergeeft of het om het voorlopige of definitieve advies gaat, en de variabele `BSA_LEM$BSA_advies`, die het BSA-advies aangeeft.\n",
    "<!-- ## /TEKSTBLOK: Data-kruistabel1.R -->\n",
    "\n",
    "<!-- ## OPENBLOK: Data-kruistabel2.R -->"
   ]
  },
  {
   "cell_type": "code",
   "execution_count": null,
   "id": "0fd600c6",
   "metadata": {
    "lines_to_next_cell": 0,
    "name": "kruistabel"
   },
   "outputs": [],
   "source": [
    "## Maak een kruistabel\n",
    "BSA_kruistabel <- table(BSA_LEM$Soort_BSA, BSA_LEM$BSA_advies)\n",
    "\n",
    "## Print de kruistabel \n",
    "print(BSA_kruistabel)\n",
    "\n",
    "## Print een tabel met proporties, tweede argument 1 zorgt ervoor dat de \n",
    "## proporties per rij berekend worden\n",
    "prop.table(BSA_kruistabel, 1)"
   ]
  },
  {
   "cell_type": "markdown",
   "id": "6a9dc64d",
   "metadata": {
    "lines_to_next_cell": 0
   },
   "source": [
    "<!-- ## /OPENBLOK: Data-kruistabel2.R -->\n",
    "\n",
    "De kruistabel en de kruistabel met proporties laten zien dat het aantal positieve BSA-adviezen hoger is bij het definitieve advies en het aantal negatieve BSA-adviezen juist lager. Het aantal uitgestelde BSA-adviezen is iets lager bij het definitieve advies.\n",
    "\n",
    "# Uitvoering\n",
    "\n",
    "## Bhapkar toets\n",
    "\n",
    "<!-- ## TEKSTBLOK: Bhapkar-toets1.R -->\n",
    "Voer de *Bhapkar toets* uit om te onderzoeken of er een verschil is tussen de verdeling van de voorlopige en definitieve BSA-adviezen voor studenten van de bachelor Leisure & Events Management. Gebruik de functie `bhapkar()` van het package `irr` met als argument een matrix met daarin de voorlopige BSA-adviezen `Voorlopig` en de definitieve BSA-adviezen `Definitief`.\n",
    "<!-- ## /TEKSTBLOK: Bhapkar-toets1.R -->\n",
    "\n",
    "<!-- ## OPENBLOK: Bhapkar-toets2.R -->"
   ]
  },
  {
   "cell_type": "code",
   "execution_count": null,
   "id": "fcf6be17",
   "metadata": {
    "lines_to_next_cell": 0
   },
   "outputs": [],
   "source": [
    "## Laad het package van de Bhapkar toets in\n",
    "library(irr)\n",
    "\n",
    "## Sla de voorlopige en definitieve BSA-adviezen op in een vector\n",
    "Voorlopig <- BSA_LEM$BSA_advies[BSA_LEM$Soort_BSA == \"Voorlopig\"]\n",
    "Definitief <- BSA_LEM$BSA_advies[BSA_LEM$Soort_BSA == \"Definitief\"]\n",
    "\n",
    "## Voer de Bhapkar toets uit\n",
    "bhapkar(cbind(Voorlopig, Definitief))\n"
   ]
  },
  {
   "cell_type": "markdown",
   "id": "ba73e4a8",
   "metadata": {
    "lines_to_next_cell": 0
   },
   "source": [
    "<!-- ## /OPENBLOK: Bhapkar-toets2.R -->\n",
    "\n",
    "<!-- ## CLOSEDBLOK: Bhapkar-toets3.R -->"
   ]
  },
  {
   "cell_type": "code",
   "execution_count": null,
   "id": "97251772",
   "metadata": {
    "echo": true,
    "lines_to_next_cell": 0,
    "name": "Bhapkar object",
    "tags": [
     "remove_cell"
    ]
   },
   "outputs": [],
   "source": [
    "bhapkar <- bhapkar(cbind(Voorlopig, Definitief))\n",
    "vChi2 <- Round_and_format(bhapkar$statistic)"
   ]
  },
  {
   "cell_type": "markdown",
   "id": "e2b4b8d2",
   "metadata": {},
   "source": [
    "<!-- ## /CLOSEDBLOK: Bhapkar-toets3.R -->\n",
    "\n",
    "<!-- ## TEKSTBLOK: Bhapkar-toets5.R -->\n",
    "* *&chi;^2^* = `r vChi2`, *p* = 0,004\n",
    "* De p-waarde is kleiner dan 0,05, dus de H~0~ wordt verworpen.[^6]\n",
    "* De verdelingen van de voorlopige en definitieve BSA-adviezen zijn verschillend.\n",
    "\n",
    "<!-- ## /TEKSTBLOK: Bhapkar-toets5.R -->"
   ]
  },
  {
   "cell_type": "markdown",
   "id": "cc2b4c57",
   "metadata": {
    "lines_to_next_cell": 0
   },
   "source": [
    "# Rapportage\n",
    "\n",
    "<!-- ## CLOSEDBLOK: posthoc3.R -->"
   ]
  },
  {
   "cell_type": "code",
   "execution_count": null,
   "id": "330e2f37",
   "metadata": {
    "echo": true,
    "lines_to_next_cell": 0,
    "tags": [
     "remove_cell"
    ]
   },
   "outputs": [],
   "source": [
    "## Maak een kruistabel\n",
    "BSA_kruistabel <- table(BSA_LEM$Soort_BSA, BSA_LEM$BSA_advies)\n",
    "\n",
    "## Print de kruistabel \n",
    "print(BSA_kruistabel)\n",
    "\n",
    "## Print een tabel met proporties, tweede argument 1 zorgt ervoor dat de \n",
    "## proporties per rij berekend worden\n",
    "propBSA_kruistabel <- prop.table(BSA_kruistabel, 1)\n"
   ]
  },
  {
   "cell_type": "markdown",
   "id": "367dde68",
   "metadata": {},
   "source": [
    "<!-- ## /CLOSEDBLOK: posthoc3.R -->"
   ]
  },
  {
   "cell_type": "markdown",
   "id": "5d6b8f94",
   "metadata": {
    "lines_to_next_cell": 0
   },
   "source": [
    "<!-- ## TEKSTBLOK: Bhapkar-toets6.R -->\n",
    "De *Bhapkar toets* is uitgevoerd om uit te vinden of er een verschil tussen de verdeling van de voorlopige en definitieve BSA-adviezen van de studenten van de bachelor Leisure & Events Management. Uit de *Bhapkar toets* blijkt dat er een significant verschil is tussen de verdelingen van de voorlopige en definitieve BSA-adviezen, *&chi;^2^* = `r vChi2`, *p* < 0,0001. De frequenties en bijbehorende percentages voor de voorlopige en definitieve BSA-adviezen zijn te vinden in Tabel 2. Op basis van de resultaten en deze tabel is te zien dat er bij de definitieve BSA-adviezen meer positieve en minder negatieve BSA-adviezen zijn dan bij de voorlopige adviezen. Daarnaast is het aantal uitgestelde BSA-adviezen iets lager bij de definitieve adviezen. De persoonlijke gesprekken met de studieadviseur lijken er dus voor te zorgen dat er meer positieve en minder negatieve en uitgestelde BSA-adviezen zijn.\n",
    "\n",
    "||                      | BSA-advies    | |\n",
    "|-------------| -------------------- | -------------| ------------| \n",
    "|                      | Positief | Negatief| Uitgesteld |\n",
    "| Voorlopig |  `r BSA_kruistabel[\"Voorlopig\",\"Positief\"]` (`r Round_and_format(100*propBSA_kruistabel[\"Voorlopig\",\"Positief\"])`%) | `r BSA_kruistabel[\"Voorlopig\",\"Negatief\"]` (`r Round_and_format(100*propBSA_kruistabel[\"Voorlopig\",\"Negatief\"])`%) | `r BSA_kruistabel[\"Voorlopig\",\"Uitgesteld\"]` (`r Round_and_format(100*propBSA_kruistabel[\"Voorlopig\",\"Uitgesteld\"])`%) |\n",
    "| Definitief |  `r BSA_kruistabel[\"Definitief\",\"Positief\"]` (`r Round_and_format(100*propBSA_kruistabel[\"Definitief\",\"Positief\"])`%) | `r BSA_kruistabel[\"Definitief\",\"Negatief\"]` (`r Round_and_format(100*propBSA_kruistabel[\"Definitief\",\"Negatief\"])`%) | `r BSA_kruistabel[\"Definitief\",\"Uitgesteld\"]` (`r Round_and_format(100*propBSA_kruistabel[\"Definitief\",\"Uitgesteld\"])`%) |\n",
    "*Tabel 2. Kruistabel en rijpercentages voor de voorlopige en definitieve BSA-adviezen van studenten van de bachelor Leisure & Events Management.*\n",
    "\n",
    "<!-- ## /TEKSTBLOK: Bhapkar-toets6.R -->\n",
    "\n",
    "<!-- ## CLOSEDBLOK: Footer.R -->"
   ]
  },
  {
   "cell_type": "code",
   "execution_count": null,
   "id": "5b36f3d5",
   "metadata": {
    "code": "#R_CODE#readLines(paste0(here::here(),\"/01. Includes/code/Footer.R\"))",
    "include": true,
    "lines_to_next_cell": 0,
    "name": "footer",
    "results": "asis",
    "tags": [
     "remove_input"
    ]
   },
   "outputs": [],
   "source": []
  },
  {
   "cell_type": "markdown",
   "id": "56e9323c",
   "metadata": {},
   "source": [
    "<!-- ## /CLOSEDBLOK: Footer.R -->\n",
    "\n",
    "[^1]: Een nominale variabele is een categorische variabele waarbij de categorieën niet geordend kunnen worden. Een voorbeeld is de variabele windstreek (noord, oost, zuid, west) en geslacht (man of vrouw).\n",
    "[^2]: Sun, X., & Yang, Z., (2008) *Generalized McNemar’s Test for Homogeneity of the Marginal Distributions*. [SAS Global Forum 2008](https://support.sas.com/resources/papers/proceedings/pdfs/sgf2008/382-2008.pdf)\n",
    "[^3]: Uebersax, J. (30 augustus 2006). [*McNemar Tests of Marginal Homogeneity*](https://www.john-uebersax.com/stat/mcnemar.htm)\n",
    "[^5]: Field, A., Miles, J., & Field, Z. (2012). *Discovering statistics using R*. London: Sage publications.\n",
    "[^6]: In dit voorbeeld wordt uitgegaan van een waarschijnlijkheid van 95% c.q. een p-waardegrens van 0,05. De grens is naar eigen inzicht aan te passen; houd hierbij rekening met type I en type II fouten.\n",
    "[^7]: Statistics How To (29 oktober 2017). *False Discovery Rate: Simple Definition, Adjusting for FDR*. [Statistics How to](https://www.statisticshowto.datasciencecentral.com/false-discovery-rate/). \n",
    "[^8]: Statistics How To (12 oktober 2015). *Benjamini-Hochberg Procedure*. [Statistics How to](https://www.statisticshowto.datasciencecentral.com/benjamini-hochberg-procedure/). \n",
    "[^9]: De exacte [McNemar toets](12-McNemar-toets-R.html) wordt gebruikt als het aantal observaties in de niet-diagonale elementen van de confusiematrix kleiner dan 11 is. Voor meer informatie, zie de toetspagina van de [McNemar toets](12 McNemar toets R.Rmd).\n",
    "[^19]: Met een deelnemer wordt het object bedoeld dat geobserveerd wordt, bijvoorbeeld een student, een inwoner van Nederland, een opleiding of een organisatie. Met een observatie wordt de waarde bedoeld die de deelnemer heeft voor een bepaalde variabele. Een deelnemer heeft dus meestal een observatie voor meerdere variabelen."
   ]
  }
 ],
 "metadata": {
  "jupytext": {
   "cell_metadata_filter": "message,tags,name,warning,echo,code,results,include,-all",
   "main_language": "R",
   "notebook_metadata_filter": "-all"
  },
  "language_info": {
   "codemirror_mode": {
    "name": "ipython",
    "version": 3
   },
   "file_extension": ".py",
   "mimetype": "text/x-python",
   "name": "python",
   "nbconvert_exporter": "python",
   "pygments_lexer": "ipython3",
   "version": "3.8.10"
  }
 },
 "nbformat": 4,
 "nbformat_minor": 5
}