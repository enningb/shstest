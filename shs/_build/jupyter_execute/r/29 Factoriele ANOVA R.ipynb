{
 "cells": [
  {
   "cell_type": "raw",
   "id": "ddf4524d",
   "metadata": {},
   "source": [
    "---\n",
    "title: \"Factoriële ANOVA\"\n",
    "output:\n",
    "  html_document:\n",
    "    theme: lumen\n",
    "    toc: yes\n",
    "    toc_depth: 2\n",
    "    toc_float: \n",
    "      collapsed: FALSE \n",
    "    number_sections: true\n",
    "    includes:\n",
    "      in_header: [\"../01. Includes/html/nocache.html\", \"../01. Includes/html/favicon.html\", \"../01. Includes/html/analytics.html\"]\n",
    "  keywords: [statistisch handboek, studiedata]\n",
    "---"
   ]
  },
  {
   "cell_type": "markdown",
   "id": "1ef18d5e",
   "metadata": {
    "lines_to_next_cell": 0
   },
   "source": [
    "<!-- ## CLOSEDBLOK: Functies.R -->"
   ]
  },
  {
   "cell_type": "code",
   "execution_count": 1,
   "id": "63c0a528",
   "metadata": {
    "include": true,
    "lines_to_next_cell": 0,
    "message": false,
    "name": "functies",
    "results": "asis",
    "tags": [
     "remove_input"
    ],
    "warning": false
   },
   "outputs": [
    {
     "ename": "SyntaxError",
     "evalue": "invalid syntax (<ipython-input-1-924f26e6aa13>, line 2)",
     "output_type": "error",
     "traceback": [
      "\u001b[0;36m  File \u001b[0;32m\"<ipython-input-1-924f26e6aa13>\"\u001b[0;36m, line \u001b[0;32m2\u001b[0m\n\u001b[0;31m    if (!exists(\"Substitute_var\")) {\u001b[0m\n\u001b[0m        ^\u001b[0m\n\u001b[0;31mSyntaxError\u001b[0m\u001b[0;31m:\u001b[0m invalid syntax\n"
     ]
    }
   ],
   "source": [
    "library(here)\n",
    "if (!exists(\"Substitute_var\")) {\n",
    "  ## Installeer packages en functies\n",
    "  source(paste0(here::here(), \"/99. Functies en Libraries/00. Voorbereidingen.R\"), echo = FALSE)\n",
    "}"
   ]
  },
  {
   "cell_type": "markdown",
   "id": "f3f2b7cf",
   "metadata": {
    "lines_to_next_cell": 0
   },
   "source": [
    "<!-- ## /CLOSEDBLOK: Functies.R -->\n",
    "\n",
    "<!-- ## CLOSEDBLOK: CSS -->\n",
    "<style>\n",
    "`r htmltools::includeHTML(paste0(here::here(),\"/01. Includes/css/Stylesheet_SHHO.css\"))`\n",
    "</style>\n",
    "<!-- ## /CLOSEDBLOK: CSS -->\n",
    "\n",
    "<!-- ## CLOSEDBLOK: Header.R -->"
   ]
  },
  {
   "cell_type": "code",
   "execution_count": null,
   "id": "a4aa59bd",
   "metadata": {
    "code": "#R_CODE#readLines(paste0(here::here(),\"/01. Includes/code/Header.R\"))",
    "include": true,
    "lines_to_next_cell": 0,
    "name": "header",
    "results": "asis",
    "tags": [
     "remove_input"
    ]
   },
   "outputs": [],
   "source": []
  },
  {
   "cell_type": "markdown",
   "id": "9f0b194f",
   "metadata": {
    "lines_to_next_cell": 0
   },
   "source": [
    "<!-- ## /CLOSEDBLOK: Header.R -->\n",
    "\n",
    "<!-- ## CLOSEDBLOK: Status.R -->"
   ]
  },
  {
   "cell_type": "code",
   "execution_count": null,
   "id": "be726acc",
   "metadata": {
    "code": "#R_CODE#readLines(paste0(here::here(),\"/01. Includes/code/Status.R\"))",
    "include": true,
    "lines_to_next_cell": 0,
    "name": "status",
    "results": "asis",
    "tags": [
     "remove_input"
    ]
   },
   "outputs": [],
   "source": []
  },
  {
   "cell_type": "markdown",
   "id": "8fea9bb8",
   "metadata": {
    "lines_to_next_cell": 0
   },
   "source": [
    "<!-- ## /CLOSEDBLOK: Status.R -->\n",
    "\n",
    "<!-- ## CLOSEDBLOK: Reticulate.R -->\n",
    "\n",
    "<!-- ## /CLOSEDBLOK: Reticulate.R -->\n",
    "\n",
    "<!-- ## OPENBLOK: Data-aanmaken.R -->"
   ]
  },
  {
   "cell_type": "code",
   "execution_count": null,
   "id": "47c6c46d",
   "metadata": {
    "echo": true,
    "name": "aanmaken data",
    "tags": [
     "remove_cell"
    ]
   },
   "outputs": [],
   "source": [
    "source(paste0(here::here(),\"/01. Includes/data/29.R\"))"
   ]
  },
  {
   "cell_type": "markdown",
   "id": "62da1605",
   "metadata": {},
   "source": [
    "<!-- ## /OPENBLOK: Data-aanmaken.R -->\n",
    "\n",
    "# Toepassing\n",
    "Gebruik de *factoriële ANOVA* bij het toetsen of de gemiddelden van groepen op basis van twee of meer onafhankelijke categorische variabelen van elkaar verschillen.[^1] \n",
    "\n",
    "# Onderwijscasus\n",
    "<div id = \"casus\">\n",
    "Bij de bacheloropleiding Psychologie van een universiteit is besloten om naast studenten met een vwo-opleiding studenten met een propedeuse voor de hbo-opleiding Psychologie ook toe te laten. De opleidingsdirecteur van de bachelor wil graag evalueren of deze hbo-p studenten het niveau van de opleiding aankunnen, maar is ook benieuwd of man-vrouw verschillen hierbij een rol spelen. Daarom vergelijkt zij de verschillen in het gemiddeld cijfer van het eerste studiejaar voor studenten met een hbo-p vooropleiding, vwo vooropleiding en overige vooropleidingen en of dit verschillend is voor mannen en vrouwen.\n",
    "\n",
    "Dit onderzoek vertaalt zich in de volgende combinatie van hypothesen, waarbij de nulhypothese zo geformuleerd is dat er geen effect of verschil is en de alternatieve hypothese zo geformuleerd is dat er wel een effect of verschil is. Bij *factoriële ANOVA* zijn er hypotheses op te stellen voor de verschillen tussen groepen van elke onafhankelijke variabele apart (hoofdeffecten) en een hypothese voor de interactie tussen twee of meerdere onafhankelijke variabelen (interactie-effect).\n",
    "\n",
    "*H~0~*: Het gemiddelde cijfer is gelijk voor mannen en vrouwen, i.e. er is geen hoofdeffect van Geslacht op Gemiddeld_cijfer.\n",
    "\n",
    "*H~A~*: Het gemiddelde cijfer is niet gelijk voor mannen en vrouwen, i.e. er is een hoofdeffect van Geslacht op Gemiddeld_cijfer.\n",
    "\n",
    "*H~0~*: Het gemiddelde cijfer is gelijk voor studenten met een hbo-p, vwo en overige vooropleiding, i.e. er is geen hoofdeffect van Vooropleiding op Gemiddeld_cijfer.\n",
    "\n",
    "*H~A~*: Het gemiddelde cijfer is niet gelijk voor studenten met een hbo-p, vwo en overige vooropleiding, i.e. er is een hoofdeffect van Vooropleiding op Gemiddeld_cijfer.\n",
    "\n",
    "*H~0~*: Er is geen interactie-effect tussen de variabelen Geslacht en Vooropleiding op het gemiddelde cijfer.\n",
    "\n",
    "*H~A~*: Er is een interactie-effect tussen de variabelen Geslacht en Vooropleiding op het gemiddelde cijfer.\n",
    "\n",
    "</div>"
   ]
  },
  {
   "cell_type": "markdown",
   "id": "1b25fdc2",
   "metadata": {
    "lines_to_next_cell": 0
   },
   "source": [
    "# Hoofdeffecten en interacties\n",
    "\n",
    "Bij *factoriële ANOVA* wordt onderzocht of er verschillen zijn tussen groepen die gemaakt worden op basis van meerdere categorische onafhankelijke variabelen. Dit wordt toegelicht met een versimpelde vorm van de huidige casus met twee onafhankelijke variabelen Vooropleiding en Geslacht en een afhankelijke variabele Gemiddeld_cijfer. De onafhankelijke variabele Vooropleiding bestaat uit twee groepen (hbo-p en vwo) en de onafhankelijke variabele Geslacht bestaat ook uit twee groepen (man en vrouw). Binnen *factoriële ANOVA* wordt een onderscheid gemaakt tussen hoofdeffecten en interactie-effecten. Een hoofdeffect houdt in dat er een verschil is tussen de groepen van één van de onafhankelijke variabelen. In andere woorden, de onafhankelijke variabele heeft effect op de afhankelijke variabele. Voor het bedachte experiment houdt een hoofdeffect van de variabele Vooropleiding in dat er een verschil is in het gemiddelde van groep hbo-p en groep vwo. Een hoofdeffect van de variabele Geslacht houdt in dat er een verschil is in het gemiddelde van groep man en groep vrouw.[^10]\n",
    "\n",
    "Een grafische weergave van hoofdeffecten is te zien in Figuur 1. In de figuur is de relatie tussen de variabelen Vooropleiding en Gemiddeld_cijfer weergegeven voor mannen en vrouwen. Het hoofdeffect van de variabele Vooropleiding is te zien door het gemiddelde van groep hbo-p te vergelijken met het gemiddelde van groep vwo. Beide gemiddelden zijn weergegeven met groene driehoeken: groep hbo-p heeft een gemiddelde van 6 en groep vwo een gemiddelde van 8. Er is dus een verschil in gemiddelde tussen de groepen van onafhankelijke variabele Vooropleiding, wat betekent dat er een hoofdeffect van de variabele Vooropleiding is. Op dezelfde manier kan een mogelijk hoofdeffect van de variabele Geslacht onderzocht worden. Het gemiddelde van groep man is weergegeven met een oranje vierkant en het gemiddelde van groep vrouw met een blauw vierkant. Het gemiddelde van groep vrouw (8) ligt hoger dan het gemiddelde van groep man (6), dus er is ook een hoofdeffect van onafhankelijke variabele Geslacht. Beide onafhankelijke variabelen hebben dus een effect op de afhankelijke variabele Gemiddeld_cijfer.\n",
    "\n",
    "<!-- ## CLOSEDBLOK: Uitleg1.R -->"
   ]
  },
  {
   "cell_type": "code",
   "execution_count": null,
   "id": "b5dc397c",
   "metadata": {
    "lines_to_next_cell": 0,
    "message": false,
    "tags": [
     "remove_input"
    ]
   },
   "outputs": [],
   "source": [
    "Vooropleiding <- c(1,3,1,3)\n",
    "Geslacht <- c(\"Man\", \"Man\",\"Vrouw\", \"Vrouw\")\n",
    "Gemiddeld_cijfer <- c(5,7,7,9)\n",
    "dat <- cbind.data.frame(Vooropleiding,Geslacht,Gemiddeld_cijfer)\n",
    "ggplot(dat, aes(x = Vooropleiding, y = Gemiddeld_cijfer, group = Geslacht, colour = Geslacht)) + geom_line() + geom_point(size = 2) + scale_color_manual(values = c(\"darkorange\", \"deepskyblue\")) + scale_x_continuous(breaks = c(1,3), labels = c(\"hbo-p\", \"vwo\")) + annotate(\"point\", x = 2, y = 8, colour = \"deepskyblue\", fill = \"deepskyblue\", shape = 22, size = 3) + annotate(\"point\", x = 2, y = 6, colour = \"darkorange\", fill = \"darkorange\", shape = 22, size = 3) + annotate(\"point\", x = 1, y = 6, colour = \"forestgreen\", fill = \"forestgreen\", shape = 24, size = 3) + annotate(\"point\", x = 3, y = 8, colour = \"forestgreen\", fill = \"forestgreen\", shape = 24, size = 3) \n"
   ]
  },
  {
   "cell_type": "markdown",
   "id": "ae32a68b",
   "metadata": {
    "lines_to_next_cell": 0
   },
   "source": [
    "<!-- ## /CLOSEDBLOK: Uitleg1.R -->\n",
    "\n",
    "*Figuur 1.  Illustratie van hoofdeffecten bij factoriële ANOVA voor een casus met afhankelijke variabele Gemiddeld_cijfer en onafhankelijke variabelen Vooropleiding en Geslacht. In deze grafiek zijn er hoofdeffecten voor de variabelen Vooropleiding en Geslacht, maar geen interactie-effecten.*\n",
    "\n",
    "Een interactie-effect houdt in dat het effect van de ene onafhankelijke variabele op de afhankelijke variabele afhangt van de andere onafhankelijke variabele(n). Er is als het ware een interactie tussen de onafhankelijke variabelen die het effect op de afhankelijke variabele bepaalt. In het bedachte experiment zou dit betekenen dat het effect van onafhankelijke variabele Vooropleiding op Gemiddeld_cijfer verschillend is voor de groepen man en vrouw. Een voorbeeld van dit interactie-effect is te zien in Figuur 2. In deze figuur is zichtbaar dat er bij mannen geen verschil is tussen de groepen hbo-p en vwo wat betreft het gemiddelde cijfer, maar dat er voor vrouwen wel een verschil is. Bij vrouwen heeft de groep vwo een hoger gemiddeld cijfer (9) dan de groep hbo-p (7). Het effect van de onafhankelijke variabele Vooropleiding op Gemiddeld_cijfer hangt af van de variabele Geslacht, dus er is een interactie-effect van de variabelen Vooropleiding en Geslacht op de afhankelijke variabele Gemiddeld_cijfer.\n",
    "\n",
    "<!-- ## CLOSEDBLOK: Uitleg2.R -->"
   ]
  },
  {
   "cell_type": "code",
   "execution_count": null,
   "id": "1c0dd7af",
   "metadata": {
    "lines_to_next_cell": 0,
    "message": false,
    "tags": [
     "remove_input"
    ]
   },
   "outputs": [],
   "source": [
    "Vooropleiding <- c(1,3,1,3)\n",
    "Geslacht <- c(\"Man\", \"Man\",\"Vrouw\", \"Vrouw\")\n",
    "Gemiddeld_cijfer <- c(6,6,7,9)\n",
    "dat <- cbind.data.frame(Vooropleiding,Geslacht,Gemiddeld_cijfer)\n",
    "ggplot(dat, aes(x = Vooropleiding, y = Gemiddeld_cijfer, group = Geslacht, colour = Geslacht)) + geom_line() + geom_point(size = 2) + scale_color_manual(values = c(\"darkorange\", \"deepskyblue\")) + scale_x_continuous(breaks = c(1,3), labels = c(\"hbo-p\", \"vwo\")) + annotate(\"point\", x = 2, y = 8, colour = \"deepskyblue\", fill = \"deepskyblue\", shape = 22, size = 3) + annotate(\"point\", x = 2, y = 6, colour = \"darkorange\", fill = \"darkorange\", shape = 22, size = 3) + annotate(\"point\", x = 1, y = 6.5, colour = \"forestgreen\", fill = \"forestgreen\", shape = 24, size = 3) + annotate(\"point\", x = 3, y = 7.5, colour = \"forestgreen\", fill = \"forestgreen\", shape = 24, size = 3) "
   ]
  },
  {
   "cell_type": "markdown",
   "id": "96742d50",
   "metadata": {
    "lines_to_next_cell": 0
   },
   "source": [
    "<!-- ## /CLOSEDBLOK: Uitleg2.R -->\n",
    "\n",
    "*Figuur 2.  Illustratie van interactie-effecten bij factoriële ANOVA voor een casus met de afhankelijke variabele Gemiddeld_cijfer en de onafhankelijke variabelen Vooropleiding en Geslacht. In deze grafiek is er een interactie-effect van de onafhankelijke variabelen Vooropleiding en Geslacht op de afhankelijke variabele Gemiddeld_cijfer.*\n",
    "\n",
    "In Figuur 1 waren er hoofdeffecten van de variabelen Vooropleiding en Geslacht gevonden, maar was het interactie-effect nog niet onderzocht. In deze figuur is er geen sprake van een interactie-effect, omdat het effect van Vooropleiding op Gemiddeld_cijfer hetzelfde is voor mannen en vrouwen en dus niet afhangt van de variabele Geslacht. Voor beide groepen (mannen en vrouwen) is het verschil tussen hbo-p en vwo twee punten. Hier is dus geen sprake van een interactie-effect. Bij grafieken is er een interactie-effect als de twee (of meerdere) lijnen niet parallel lopen. Op deze manier kan snel onderzocht worden of er een interactie-effect is en wat de invloed van het interactie-effect is.\n",
    "\n",
    "Bij *factoriële ANOVA* worden bovenstaande grafieken gebruikt om de resultaten te interpreteren. De hoofdeffecten en interactie-effecten worden eerst statistisch getoetst en daarna geïnterpreteerd met onder andere deze grafieken. De aanpak is als volgt.[^10] Eerst wordt getoetst of er sprake is van een interactie-effect tussen de onafhankelijke variabelen. Als dit niet het geval is, kunnen de hoofdeffecten geïnterpreteerd worden. Als er wel een interactie-effect is, kunnen de hoofdeffecten niet geïnterpreteerd worden. De volgende stap is dan een *simple effects analyse* waarbij het effect van de ene onafhankelijke variabele op de afhankelijke variabele wordt getoetst voor alle groepen van de andere onafhankelijke variabele die deel uitmaakt van het interactie-effect. Voor Figuur 2 zou dit betekenen dat het effect van Vooropleiding op Gemiddeld_cijfer apart getoetst wordt voor mannen en vrouwen. Het interactie-effect kan op deze manier geïnterpreteerd worden, samen met de grafische weergave zoals te zien in Figuur 2.\n",
    "\n",
    "# Uitleg assumpties\n",
    "\n",
    "Voor een valide toetsresultaat bij de *factoriële ANOVA* moet er aan een aantal assumpties voldaan worden. De steekproef moet bestaan uit onafhankelijke deelnemers[^19], de afhankelijke variabele moet normaal verdeeld zijn voor elke combinatie van groepen van de onafhankelijke variabelen en er moet homogeniteit van varianties zijn.[^1]\n",
    "\n",
    "## Normaliteit\n",
    "Controleer de assumptie van normaliteit voor elke groep met de volgende stappen:  \n",
    "1. Controleer de data visueel met een histogram, een boxplot of een Q-Q plot.   \n",
    "2. Toets of de data normaal verdeeld zijn met de *Kolmogorov-Smirnov test* of bij een kleinere steekproef (n < 50) met de *Shapiro-Wilk test*.[^7]<sup>, </sup>[^8]  \n",
    "\n",
    "<!-- ## TEKSTBLOK: Link1.R -->\n",
    "De *factoriële ANOVA* is redelijk robuust ten opzichte van een schending van de assumptie van normaliteit. Als er kleine afwijkingen zijn, heeft dat relatief kleine gevolgen voor de validiteit van de toets. Bij grotere afwijkingen is het transformeren van de afhankelijke variabele een optie.[^2] Als dit niet werkt, dan is het een optie om de *factoriële ANOVA* uit te voeren als *multipele lineaire regressie* en te bootstrappen; zie bijbehorende [toetspagina](28-Multipele-lineaire-regressie-R.html).\n",
    "<!-- ## /TEKSTBLOK: Link1.R -->\n",
    "\n",
    "## Homogeniteit van Varianties\n",
    "Toets met de *Levene's Test (for equality of variance)* of de variantie van iedere groep ongeveer hetzelfde is. Bij een p-waarde kleiner dan 0,05 is de variantie van de groepen significant verschillend.[^10]\n",
    "\n",
    "<!-- ## TEKSTBLOK: Link2.R -->\n",
    "De *factoriële ANOVA* is ook redelijk robuust ten opzichte van een schending van de assumptie van homogeniteit van varianties als de steekproefgroottes groot zijn en niet veel van elkaar verschillen. Als de ratio van de grootste en kleinste steekproefgrootte van alle groepen kleiner dan 10 is en de ratio van de grootste en kleinste variantie van alle groepen kleiner dan 4 is, dan kan de *factoriële ANOVA* gewoon uitgevoerd worden.[^3]  Als dit niet het geval is, dan is  het een optie om de *factoriële ANOVA* uit te voeren als *multipele lineaire regressie* en te bootstrappen; zie bijbehorende [toetspagina](28-Multipele-lineaire-regressie-R.html).\n",
    "<!-- ## /TEKSTBLOK: Link2.R -->\n",
    "\n",
    "# Effectmaat\n",
    "De p-waarde geeft aan of het verschil tussen groepen significant is. De grootte van het verschil of effect is echter ook relevant. Een effectmaat is een gestandaardiseerde maat die de grootte van een effect weergeeft, zodat effecten van verschillende onderzoeken met elkaar vergeleken kunnen worden.[^11] Voor de *factoriële ANOVA* wordt de effectmaat *partial eta squared* vaak gebruikt.[^4]\n",
    "\n",
    "De effectmaat *partial eta squared* (partial *η^2^*) berekent de proportie van de onverklaarde variantie (variantie die niet door de andere variabelen wordt verklaard) in de afhankelijke variabele die verklaard wordt door de onafhankelijke variabele.[^4] Voor de variabele Vooropleiding geeft de partial eta squared dus de proportie verklaarde variantie weer van de variantie die niet verklaard is door de variabele Geslacht en de interactie tussen de variabele Vooropleiding en Geslacht. De partial eta squared van alle termen van het model tellen dus niet per se op tot 1.[^4] Een indicatie om partial *η^2^* te interpreteren is: rond 0,01 is een klein effect, rond 0,06 is een gemiddeld effect en rond 0,14 is een groot effect.[^5]\n",
    "\n",
    "# Post-hoc toetsen\n",
    "\n",
    "De eerste stap van de *factoriële ANOVA* is het toetsen van hoofdeffecten en interactie-effecten. De volgende stap bestaat uit het bepalen welke groepen van elkaar verschillen, zowel bij *simple effects analyse* als het interpreteren van hoofdeffecten, en wordt gedaan met post-hoc toetsen. De post-hoc toetsen voeren meestal een correctie voor de p-waarden uit, omdat er meerdere toetsen tegelijkertijd worden gebruikt. Meerdere toetsen tegelijkertijd uitvoeren verhoogt de kans dat een van de nulhypotheses onterecht wordt verworpen en er bij toeval een verband wordt ontdekt dat er niet is (type I fout). Gebruik bij *factoriële ANOVA* de Games-Howell post-hoc toets, omdat deze te gebruiken is bij ongelijke varianties. De Bonferroni correctie is een optie als het doel is om de type I fout heel laag te houden.[^6] Er zijn ook nog andere opties voor een correctie op de p-waarden.[^11] In deze toetspagina wordt de Games-Howell post-hoc toets gebruikt.\n",
    "\n",
    "# Uitvoering\n",
    "<!-- ## TEKSTBLOK: Dataset-inladen.R-->\n",
    "Er is een dataset ingeladen met de gemiddelde cijfers voor eerstejaars studenten van de bachelor Psychologie genaamd `Gemiddelde_cijfers_psychologie`. \n",
    "<!-- ## /TEKSTBLOK: Dataset-inladen.R-->\n",
    "\n",
    "## De data bekijken\n",
    "<!-- ## TEKSTBLOK: Data-bekijken.R -->\n",
    "Gebruik `head()` en `tail()` om de structuur van de data te bekijken.\n",
    "<!-- ## /TEKSTBLOK: Data-bekijken.R -->\n",
    "\n",
    "<!-- ## OPENBLOK: Data-bekijken.R -->"
   ]
  },
  {
   "cell_type": "code",
   "execution_count": null,
   "id": "c08579dd",
   "metadata": {
    "collapse": true,
    "lines_to_next_cell": 0,
    "name": "data bekijken"
   },
   "outputs": [],
   "source": [
    "## Eerste 5 observaties\n",
    "head(Gemiddelde_cijfers_psychologie)\n",
    "\n",
    "## Laatste 5 observaties\n",
    "tail(Gemiddelde_cijfers_psychologie)"
   ]
  },
  {
   "cell_type": "markdown",
   "id": "eae3a69c",
   "metadata": {},
   "source": [
    "<!-- ## /OPENBLOK: Data-bekijken.R -->"
   ]
  },
  {
   "cell_type": "markdown",
   "id": "a5021713",
   "metadata": {
    "lines_to_next_cell": 0
   },
   "source": [
    "<!-- ## TEKSTBLOK: Data-beschrijven.R -->\n",
    "Inspecteer voor alle groepen het gemiddelde, de standaardafwijking, de mediaan en het aantal observaties om meer inzicht te krijgen. Gebruik hiervoor de functie `descr` en `stby` van het package `summarytools` om de beschrijvende statistieken per groep weer te geven. Voer de gewenste statistieken in met het argument `stats = c(\"mean\",\"sd\",\"med\",\"n.valid\")`.\n",
    "<!-- ## /TEKSTBLOK: Data-beschrijven.R -->\n",
    "\n",
    "<!-- ## OPENBLOK: Data-beschrijven-1.R -->"
   ]
  },
  {
   "cell_type": "code",
   "execution_count": null,
   "id": "371dee2d",
   "metadata": {
    "lines_to_next_cell": 0,
    "message": false,
    "name": "Data beschrijven 1",
    "warning": false
   },
   "outputs": [],
   "source": [
    "# Gemiddelde, standaardafwijking, mediaan en aantal observaties\n",
    "library(summarytools)\n",
    "\n",
    "with(Gemiddelde_cijfers_psychologie, \n",
    "     stby(data = Gemiddeld_cijfer, \n",
    "          list(Geslacht, Vooropleiding), \n",
    "          descr, \n",
    "          stats = c(\"mean\", \"sd\", \"med\", \"n.valid\")))"
   ]
  },
  {
   "cell_type": "markdown",
   "id": "6c52e086",
   "metadata": {
    "lines_to_next_cell": 0
   },
   "source": [
    "<!-- ## /OPENBLOK: Data-beschrijven-1.R -->\n",
    "\n",
    "Maak vervolgens een grafiek met de gemiddelden voor de verschillende groepen.\n",
    "\n",
    "<!-- ## OPENBLOK: Data-beschrijven2.R -->"
   ]
  },
  {
   "cell_type": "code",
   "execution_count": null,
   "id": "50b1b6e3",
   "metadata": {
    "lines_to_next_cell": 0
   },
   "outputs": [],
   "source": [
    "library(ggplot2)\n",
    "\n",
    "ggplot(Gemiddelde_cijfers_psychologie, \n",
    "       aes(x = Vooropleiding, y = Gemiddeld_cijfer, group = Geslacht, colour = Geslacht)) + \n",
    "  stat_summary(fun = mean, geom = \"point\") +  \n",
    "  stat_summary(fun = mean, geom = \"line\", aes(group = Geslacht)) + \n",
    "  scale_color_manual(values = c(\"darkorange\", \"deepskyblue\")) \n"
   ]
  },
  {
   "cell_type": "markdown",
   "id": "46e5f0fc",
   "metadata": {},
   "source": [
    "<!-- ## /OPENBLOK: Data-beschrijven2.R -->\n",
    "\n",
    "*Figuur 3.  Gemiddelde van de gemiddelde cijfers per groep op basis van Vooropleiding en Geslacht voor de dataset Gemiddelde_cijfers_psychologie.*\n",
    "\n",
    "Op basis van de beschrijvende statistieken en de grafiek (Figuur 3) lijken er verschillen tussen de groepen te zijn. Vrouwen hebben voor alle vooropleidingen een hoger gemiddeld cijfer dan mannen. Voor vrouwen zijn er kleine verschillen tussen de vooropleidingen, maar voor mannen zijn deze verschillen groter. De mannelijke studenten afkomstig van het hbo-p hebben een substantieel lager gemiddelde dan mannelijke studenten afkomstig van het vwo of overige vooropleidingen. De lijnen van mannen en vrouwen lopen niet parallel dus er lijkt een interactie-effect te zijn. De *factoriële ANOVA* zal dit interactie-effect toetsen."
   ]
  },
  {
   "cell_type": "markdown",
   "id": "455628c0",
   "metadata": {
    "lines_to_next_cell": 0
   },
   "source": [
    "## Normaliteit\n",
    "\n",
    "De *factoriële ANOVA* vereist dat de verdeling van de afhankelijke variabele de normale verdeling benaderd in elke groep die gevormd wordt door de onafhankelijke variabelen. Toets deze assumptie met behulp van een histogram en de *Kolmogorov-Smirnov* en *Shapiro-Wilk test*.\n",
    "\n",
    "### Histogram\n",
    "\n",
    "Visualiseer de verdeling van de gemiddelde cijfers binnen elke groep met behulp van een histogram.[^9] Focus bij het analyseren van een histogram op de symmetrie van de verdeling, de hoeveelheid toppen (modaliteit) en mogelijke outliers. Een normale verdeling is symmetrisch, heeft één top en geen outliers.[^16]<sup>, </sup>[^17]\n",
    "\n",
    "<!-- ## OPENBLOK: Histogram.R -->"
   ]
  },
  {
   "cell_type": "code",
   "execution_count": null,
   "id": "ec7572ea",
   "metadata": {
    "lines_to_next_cell": 0,
    "name": "histogram"
   },
   "outputs": [],
   "source": [
    "## Histogram met ggplot\n",
    "ggplot(Gemiddelde_cijfers_psychologie,\n",
    "  aes(x = Gemiddeld_cijfer)) +\n",
    "  geom_histogram(aes(y = ..density..),\n",
    "                 binwidth = 0.5,\n",
    "                 color = \"grey30\",\n",
    "                 fill = \"#0089CF\") +\n",
    "  facet_wrap(~ Vooropleiding + Geslacht) +\n",
    "  geom_density(alpha = .2, adjust = 1) +\n",
    "  ylab(\"Gemiddeld cijfer\")"
   ]
  },
  {
   "cell_type": "markdown",
   "id": "4108424b",
   "metadata": {
    "lines_to_next_cell": 0
   },
   "source": [
    "<!-- ## /OPENBLOK: Histogram.R -->\n",
    "\n",
    "*Figuur 4.  Histogrammen van de verdelingen van de gemiddelde cijfers per groep op basis van Vooropleiding en Geslacht.*\n",
    "\n",
    "De verdelingen van de zes groepen, te zien in Figuur 4, zijn redelijk symmetrisch, hebben geen outliers en zijn allen eentoppig. De verdelingen zijn dus bij benadering normaal.\n",
    "\n",
    "### Toetsen van normaliteit\n",
    "Voer een toets uit om te controleren of de data normaal verdeeld zijn. Twee veelgebruikte toetsen zijn: de *Kolmogorov-Smirnov test* en de *Shapiro-Wilk test*.\n",
    "\n",
    "#### Kolmogorov-Smirnov test\n",
    "De *Kolmogorov-Smirnov test* toetst het verschil tussen twee verdelingen. Standaard toetst deze toets het verschil tussen een normale verdeling en de verdeling van de steekproef. De Lilliefors correctie is vereist als het gemiddelde en de standaardafwijking niet van tevoren bekend of bepaald zijn, wat meestal het geval is bij een steekproef. Als de p-waarde kleiner dan 0,05 is, is de verdeling van de data significant verschillend van de normale verdeling.[^18]\n",
    "\n",
    "<!-- ## OPENBLOK: KStest.R -->"
   ]
  },
  {
   "cell_type": "code",
   "execution_count": null,
   "id": "02cf17bd",
   "metadata": {
    "lines_to_next_cell": 0
   },
   "outputs": [],
   "source": [
    "library(\"nortest\")\n",
    "\n",
    "with(Gemiddelde_cijfers_psychologie, \n",
    "     by(data = Gemiddeld_cijfer, \n",
    "        list(Geslacht, Vooropleiding), \n",
    "        lillie.test))\n"
   ]
  },
  {
   "cell_type": "markdown",
   "id": "ef88f520",
   "metadata": {
    "lines_to_next_cell": 0
   },
   "source": [
    "<!-- ## /OPENBLOK: KStest.R -->\n",
    "\n",
    "De p-waarde is groter dan 0,05 voor elke groep; er zijn dus geen significante verschillen gevonden tussen de verdelingen van de steekproef en de normale verdeling. De *factoriële ANOVA* kan uitgevoerd worden.\n",
    "\n",
    "#### Shapiro-Wilk test\n",
    "De *Shapiro-Wilk test* is een soortgelijke toets als de *Kolmogorov-Smirnov test* en vooral geschikt bij kleine steekproeven (*n* < 50). Als de p-waarde kleiner dan 0,05 is, is de verdeling van de data significant verschillend van de normale verdeling.[^18]\n",
    "\n",
    "<!-- ## OPENBLOK: Shapiro-Wilk-test.R -->"
   ]
  },
  {
   "cell_type": "code",
   "execution_count": null,
   "id": "82096b09",
   "metadata": {
    "lines_to_next_cell": 0
   },
   "outputs": [],
   "source": [
    "library(\"nortest\")\n",
    "\n",
    "with(Gemiddelde_cijfers_psychologie, \n",
    "     by(data = Gemiddeld_cijfer, \n",
    "        list(Geslacht, Vooropleiding), \n",
    "        shapiro.test))\n"
   ]
  },
  {
   "cell_type": "markdown",
   "id": "4d9609e0",
   "metadata": {
    "lines_to_next_cell": 0
   },
   "source": [
    "<!-- ## /OPENBLOK: Shapiro-Wilk-test.R -->\n",
    "\n",
    "De p-waarde is groter dan 0,05 voor elke groep; er zijn dus geen significante verschillen gevonden tussen de verdelingen van de steekproef en de normale verdeling. De *factoriële ANOVA* kan uitgevoerd worden.\n",
    "\n",
    "## Homogeniteit van varianties\n",
    "\n",
    "<!-- ## TEKSTBLOK: LeveneTest1.R -->\n",
    "Toets met de *Levene's test* de assumptie homogeniteit van varianties. Gebruik hiervoor de functie `leveneTest` van het package `car` met het argument `Gemiddeld_cijfer ~ Vooropleiding*Geslacht` met daarin de afhankelijke variabele `Gemiddeld_cijfer` en de onafhankelijke variabelen `Vooropleiding*Geslacht` (het vermenigvuldigingsteken zorgt ervoor dat de variabelen apart van elkaar en als interactie mee worden genomen) en het argument `data = Gemiddelde_cijfers_psychologie`.\n",
    "<!-- ## /TEKSTBLOK: LeveneTest1.R -->\n",
    "\n",
    "<!-- ## OPENBLOK: Levenes-test.R -->"
   ]
  },
  {
   "cell_type": "code",
   "execution_count": null,
   "id": "2b4b5858",
   "metadata": {
    "lines_to_next_cell": 0,
    "message": false,
    "name": "LeveneTest",
    "warning": false
   },
   "outputs": [],
   "source": [
    "library(car)\n",
    "leveneTest(Gemiddeld_cijfer ~ Vooropleiding*Geslacht, \n",
    "           data = Gemiddelde_cijfers_psychologie)"
   ]
  },
  {
   "cell_type": "markdown",
   "id": "cf072609",
   "metadata": {
    "lines_to_next_cell": 0
   },
   "source": [
    "<!-- ## /OPENBLOK: Levenes-test.R -->\n",
    "\n",
    "<!-- ## CLOSEDBLOK: Levenes-test.R -->"
   ]
  },
  {
   "cell_type": "code",
   "execution_count": null,
   "id": "f1f76f3e",
   "metadata": {
    "lines_to_next_cell": 0,
    "name": "Levenes test als object",
    "tags": [
     "remove_input"
    ]
   },
   "outputs": [],
   "source": [
    "L <- leveneTest(Gemiddeld_cijfer ~ Vooropleiding*Geslacht, data = Gemiddelde_cijfers_psychologie)\n",
    "\n",
    "vF_waarde <- Round_and_format(L$`F value`[1])\n",
    "vF_p <- Round_and_format(L$`Pr(>F)`[1])\n",
    "vDF1 <- Round_and_format(L$`Df`[1])\n",
    "vDF2 <- Round_and_format(L$`Df`[2])"
   ]
  },
  {
   "cell_type": "markdown",
   "id": "cdb1e5c5",
   "metadata": {},
   "source": [
    "<!-- ## /CLOSEDBLOK: Levenes-test.R -->\n",
    "\n",
    "<!-- ## TEKSTBLOK: Levenes-test.R -->\n",
    "* *F*(`r vDF1`,`r vDF2`) = `r vF_waarde`, p-waarde = `r vF_p`, \n",
    "* De p-waarde is groter dan 0,05, dus er is geen significant verschil gevonden tussen de groepen in variantie.[^18] Er is dus aan de assumptie van homogeniteit van varianties voldaan.\n",
    "\n",
    "<!-- ## TEKSTBLOK: Levenes-test.R -->"
   ]
  },
  {
   "cell_type": "markdown",
   "id": "a6705405",
   "metadata": {
    "lines_to_next_cell": 0
   },
   "source": [
    "# Factoriële ANOVA \n",
    "Voer de *factoriële ANOVA* uit om de vraag te beantwoorden of er verschillen zijn tussen mannen en vrouwen en studenten met een hbo-p vooropleiding, vwo vooropleiding of overige vooropleiding wat betreft het gemiddelde cijfer in het eerste jaar van de bachelor Psychologie.\n",
    "\n",
    "<!-- ## TEKSTBLOK: ANOVA-toets.R -->\n",
    "Gebruik `aov()` om een ANOVA-object (`ANOVA_object`) te creëren. Het eerste argument bestaat uit de afhankelijke variabele `Gemiddeld_cijfer` en de onafhankelijke variabele `Geslacht`, de onafhankelijke variabele `Vooropleiding` en de interactie tussen beide variabelen `Geslacht:Vooropleiding`. Het tweede argument bevat de dataset `data = Gemiddelde_cijfers_psychologie`. Geef de resultaten weer met de functie `summary()`.\n",
    "<!-- ## /TEKSTBLOK: ANOVA-toets.R -->\n",
    "\n",
    "<!-- ## OPENBLOK: ANOVA-toets.R -->"
   ]
  },
  {
   "cell_type": "code",
   "execution_count": null,
   "id": "eae574ff",
   "metadata": {
    "lines_to_next_cell": 0,
    "name": "ANOVA"
   },
   "outputs": [],
   "source": [
    "ANOVA_object <- aov(Gemiddeld_cijfer ~ Geslacht + Vooropleiding + Geslacht:Vooropleiding, \n",
    "                    data = Gemiddelde_cijfers_psychologie)\n",
    "\n",
    "summary(ANOVA_object)"
   ]
  },
  {
   "cell_type": "markdown",
   "id": "4c78e9af",
   "metadata": {
    "lines_to_next_cell": 0
   },
   "source": [
    "<!-- ## /OPENBLOK: ANOVA-toets.R -->\n",
    "\n",
    "<!-- ## TEKSTBLOK: ANOVA-toets2.R -->\n",
    "Bereken vervolgens de effectmaat partial eta squared met behulp van de functie `EtaSq` van het package `DescTools` met als argument het ANOVA-object `ANOVA_object`.\n",
    "<!-- ## /TEKSTBLOK: ANOVA-toets2.R -->\n",
    "\n",
    "<!-- ## OPENBLOK: ANOVA-toets3.R -->"
   ]
  },
  {
   "cell_type": "code",
   "execution_count": null,
   "id": "34a3545b",
   "metadata": {
    "lines_to_next_cell": 0
   },
   "outputs": [],
   "source": [
    "library(DescTools)\n",
    "EtaSq(ANOVA_object)\n"
   ]
  },
  {
   "cell_type": "markdown",
   "id": "aa49afdd",
   "metadata": {
    "lines_to_next_cell": 0
   },
   "source": [
    "<!-- ## /OPENBLOK: ANOVA-toets3.R -->\n",
    "\n",
    "<!-- ## CLOSEDBLOK: ANOVA-toets4.R -->"
   ]
  },
  {
   "cell_type": "code",
   "execution_count": null,
   "id": "e0597de5",
   "metadata": {
    "lines_to_next_cell": 0,
    "tags": [
     "remove_input"
    ]
   },
   "outputs": [],
   "source": [
    "FA <- summary(ANOVA_object)[[1]]\n",
    "pes <- EtaSq(ANOVA_object)\n",
    "\n",
    "vF_waarde <- Round_and_format(FA$`F value`[3])\n",
    "vDF1 <- Round_and_format(FA$Df[3])\n",
    "vDF2 <- Round_and_format(FA$Df[4])\n",
    "Esq <- Round_and_format(pes[3,2])"
   ]
  },
  {
   "cell_type": "markdown",
   "id": "598d5234",
   "metadata": {
    "lines_to_next_cell": 0
   },
   "source": [
    "<!-- ## /CLOSEDBLOK: ANOVA-toets4.R -->\n",
    "\n",
    "<!-- ## TEKSTBLOK: ANOVA-toets5.R -->\n",
    "\n",
    "* Er is een significant interactie-effect van Vooropleiding en Geslacht op Gemiddeld_cijfer, *F* (`r vDF1`,`r vDF2`) = `r vF_waarde`, *p* < 0,0001, *η^2^* = `r Esq`.\n",
    "* De p-waarde is kleiner dan 0,05, dus de nulhypothese dat er geen interactie-effect is wordt verworpen.[^18] \n",
    "* Er is een klein tot gemiddeld effect van de interactie tussen Vooropleiding en Geslacht op Gemiddeld_cijfer.\n",
    "* Omdat er een significant interactie-effect is, hoeven de hoofdeffecten niet geïnterpreteerd te worden. De volgende stap is een *simple effects analyse* om te interactie verder te onderzoeken.\n",
    "\n",
    "<!-- ## /TEKSTBLOK: ANOVA-toets5.R -->\n",
    "\n",
    "## Simple effects analyse\n",
    "\n",
    "Voer een *simple effects analyse* uit om het interactie-effect te interpreteren. Vergelijk eerst de verschillen tussen de drie vooropleidingen voor elke categorie van de variabele Geslacht (mannen en vrouwen dus). Vergelijk daarna de verschillen tussen mannen en vrouwen van elke categorie van de variabele Vooropleiding (hbo-p, vwo of overig).\n",
    "\n",
    "### Vooropleiding\n",
    "\n",
    "<!-- ## TEKSTBLOK: SimEff1.R -->\n",
    "Maak eerst een aparte dataset voor mannen en vrouwen aan en voer vervolgens de Games-Howell post hoc toets uit met behulp van de functie `posthocTGH()$output` van het package `userfriendlyscience`. Het eerste argument is de afhankelijke variabele (bijvoorbeeld `Mannen_Gemiddelde_cijfers_psychologie$Gemiddeld_cijfer`), het tweede argument is de onafhankelijke variabele (bijvoorbeeld `Mannen_Gemiddelde_cijfers_psychologie$Vooropleiding`) en het derde argument `method = \"games-howell\"` om aan te geven dat de Games-Howell post-hoc toets uitgevoerd moet worden.\n",
    "<!-- ## /TEKSTBLOK: SimEff1.R -->\n",
    "\n",
    "<!-- ## OPENBLOK: SimEff2.R -->"
   ]
  },
  {
   "cell_type": "code",
   "execution_count": null,
   "id": "d1e89dd7",
   "metadata": {
    "lines_to_next_cell": 0,
    "message": false
   },
   "outputs": [],
   "source": [
    "library(userfriendlyscience)\n",
    "\n",
    "# Maak een dataset met mannen en een dataset met vrouwen\n",
    "Mannen_Gemiddelde_cijfers_psychologie <- Gemiddelde_cijfers_psychologie[Gemiddelde_cijfers_psychologie$Geslacht == \"Man\",]\n",
    "\n",
    "Vrouwen_Gemiddelde_cijfers_psychologie <- Gemiddelde_cijfers_psychologie[Gemiddelde_cijfers_psychologie$Geslacht == \"Vrouw\",]\n",
    "\n",
    "# Voer voor beide datasets de Games-Howell post-hoc toets uit\n",
    "Games_Howell_Mannen <- posthocTGH(Mannen_Gemiddelde_cijfers_psychologie$Gemiddeld_cijfer,\n",
    "           Mannen_Gemiddelde_cijfers_psychologie$Vooropleiding,\n",
    "           method = \"games-howell\")$output\n",
    "\n",
    "Games_Howell_Vrouwen <- posthocTGH(Vrouwen_Gemiddelde_cijfers_psychologie$Gemiddeld_cijfer,\n",
    "           Vrouwen_Gemiddelde_cijfers_psychologie$Vooropleiding,\n",
    "           method = \"games-howell\")$output\n",
    "\n",
    "# Geef de resultaten weer van de Games-Howell post-hoc toets\n",
    "Games_Howell_Mannen$games.howell\n",
    "Games_Howell_Vrouwen$games.howell"
   ]
  },
  {
   "cell_type": "markdown",
   "id": "619f5f33",
   "metadata": {},
   "source": [
    "<!-- ## /OPENBLOK: SimEff2.R -->\n",
    "\n",
    "<!-- ## CLOSEDBLOK: SimEff3.R -->\n",
    "````{r, echo=FALSE}\n",
    "# Maak een dataset met mannen en een dataset met vrouwen\n",
    "Mannen_Gemiddelde_cijfers_psychologie <- Gemiddelde_cijfers_psychologie[Gemiddelde_cijfers_psychologie$Geslacht == \"Man\",]\n",
    "\n",
    "Vrouwen_Gemiddelde_cijfers_psychologie <- Gemiddelde_cijfers_psychologie[Gemiddelde_cijfers_psychologie$Geslacht == \"Vrouw\",]\n",
    "\n",
    "# Voer voor beide datasets de Games-Howell post-hoc toets uit\n",
    "Games_Howell_Mannen <- posthocTGH(Mannen_Gemiddelde_cijfers_psychologie$Gemiddeld_cijfer,\n",
    "           Mannen_Gemiddelde_cijfers_psychologie$Vooropleiding,\n",
    "           method = \"games-howell\")$output\n",
    "\n",
    "Games_Howell_Vrouwen <- posthocTGH(Vrouwen_Gemiddelde_cijfers_psychologie$Gemiddeld_cijfer,\n",
    "           Vrouwen_Gemiddelde_cijfers_psychologie$Vooropleiding,\n",
    "           method = \"games-howell\")$output\n",
    "\n",
    "# Geef de resultaten weer van de Games-Howell post-hoc toets\n",
    "GH_man <- Games_Howell_Mannen$games.howell\n",
    "GH_vrouw <- Games_Howell_Vrouwen$games.howell\n",
    "\n",
    "```\n",
    "<!-- ## /CLOSEDBLOK: SimEff3.R -->\n",
    "\n",
    "<!-- ## TEKSTBLOK: SimEff4.R -->\n",
    "Voor mannen zijn de volgende vergelijkingen getoetst[^18]:\n",
    "\n",
    "* Hbo-p versus vwo: het verschil in gemiddelde (vwo - hbo-p) is `r Round_and_format(GH_man$diff[1])`, dit is een significant verschil (*p* < 0,0001).\n",
    "* Hbo-p versus overig: het verschil in gemiddelde (overig - hbo-p) is `r Round_and_format(GH_man$diff[2])`, dit is een significant verschil (*p* < 0,01).\n",
    "* Vwo versus overig: het verschil in gemiddelde (overig - vwo) is `r Round_and_format(GH_man$diff[3])`, dit is geen significant verschil (*p* = `r Round_and_format(GH_man$p[3])`).\n",
    "\n",
    "Voor vrouwen zijn de volgende vergelijkingen getoetst[^18]:\n",
    "\n",
    "* Hbo-p versus vwo: het verschil in gemiddelde (vwo - hbo-p) is `r Round_and_format(GH_vrouw$diff[1])`, dit is geen significant verschil (*p* = `r Round_and_format(GH_vrouw$p[1])`).\n",
    "* Hbo-p versus overig: het verschil in gemiddelde (overig - hbo-p) is `r Round_and_format(GH_vrouw$diff[2])`, dit is geen significant verschil (*p* = `r Round_and_format(GH_vrouw$p[2])`).\n",
    "* Vwo versus overig: het verschil in gemiddelde (overig - vwo) is  `r Round_and_format(GH_vrouw$diff[3])`, dit is geen significant verschil (*p* = 1,00).\n",
    "\n",
    "<!-- ## /TEKSTBLOK: SimEff4.R -->"
   ]
  },
  {
   "cell_type": "markdown",
   "id": "e0098907",
   "metadata": {},
   "source": [
    "### Geslacht\n",
    "\n",
    "<!-- ## TEKSTBLOK: SimEff5.R -->\n",
    "Maak eerst aparte datasets voor studenten met een hbo-p, vwo en overige vooropleiding en voer vervolgens de Games-Howell post hoc toets uit met behulp van de functie `posthocTGH()$output` van het package `userfriendlyscience`. Het eerste argument is de afhankelijke variabele (bijvoorbeeld `Hbo_Gemiddelde_cijfers_psychologie$Gemiddeld_cijfer`), het tweede argument is de onafhankelijke variabele (bijvoorbeeld `Hbo_Gemiddelde_cijfers_psychologie$Geslacht`) en het derde argument `method = \"games-howell\"` om aan te geven dat de Games-Howell post-hoc toets uitgevoerd moet worden.\n",
    "<!-- ## /TEKSTBLOK: SimEff5.R -->\n",
    "\n",
    "<!-- ## OPENBLOK: SimEff6.R -->"
   ]
  },
  {
   "cell_type": "code",
   "execution_count": null,
   "id": "1478bbf3",
   "metadata": {
    "lines_to_next_cell": 0
   },
   "outputs": [],
   "source": [
    "library(userfriendlyscience)\n",
    "\n",
    "# Maak een dataset met studenten met een hbo-p, vwo en overige vooropleiding\n",
    "Hbo_Gemiddelde_cijfers_psychologie <- Gemiddelde_cijfers_psychologie[Gemiddelde_cijfers_psychologie$Vooropleiding == \"hbo\",]\n",
    "\n",
    "Vwo_Gemiddelde_cijfers_psychologie <- Gemiddelde_cijfers_psychologie[Gemiddelde_cijfers_psychologie$Vooropleiding == \"vwo\",]\n",
    "\n",
    "Overig_Gemiddelde_cijfers_psychologie <- Gemiddelde_cijfers_psychologie[Gemiddelde_cijfers_psychologie$Vooropleiding == \"overig\",]\n",
    "\n",
    "# Voer voor de drie datasets de Games-Howell post-hoc toets uit\n",
    "Games_Howell_hbo <- posthocTGH(Hbo_Gemiddelde_cijfers_psychologie$Gemiddeld_cijfer,\n",
    "           Hbo_Gemiddelde_cijfers_psychologie$Geslacht,\n",
    "           method = \"games-howell\")$output\n",
    "\n",
    "Games_Howell_vwo <- posthocTGH(Vwo_Gemiddelde_cijfers_psychologie$Gemiddeld_cijfer,\n",
    "           Vwo_Gemiddelde_cijfers_psychologie$Geslacht,\n",
    "           method = \"games-howell\")$output\n",
    "\n",
    "Games_Howell_overig <- posthocTGH(Overig_Gemiddelde_cijfers_psychologie$Gemiddeld_cijfer,\n",
    "           Overig_Gemiddelde_cijfers_psychologie$Geslacht,\n",
    "           method = \"games-howell\")$output\n",
    "\n",
    "# Geef de resultaten weer van de Games-Howell post-hoc toets\n",
    "Games_Howell_hbo$games.howell\n",
    "Games_Howell_vwo$games.howell\n",
    "Games_Howell_overig$games.howell"
   ]
  },
  {
   "cell_type": "markdown",
   "id": "13c6efb2",
   "metadata": {},
   "source": [
    "<!-- ## /OPENBLOK: SimEff6.R -->\n",
    "\n",
    "<!-- ## CLOSEDBLOK: SimEff7.R -->"
   ]
  },
  {
   "cell_type": "code",
   "execution_count": null,
   "id": "ad0f2f8d",
   "metadata": {
    "lines_to_next_cell": 0,
    "tags": [
     "remove_input"
    ]
   },
   "outputs": [],
   "source": [
    "# Maak een dataset met studenten met een hbo-p, vwo en overige vooropleiding\n",
    "Hbo_Gemiddelde_cijfers_psychologie <- Gemiddelde_cijfers_psychologie[Gemiddelde_cijfers_psychologie$Vooropleiding == \"hbo\",]\n",
    "\n",
    "Vwo_Gemiddelde_cijfers_psychologie <- Gemiddelde_cijfers_psychologie[Gemiddelde_cijfers_psychologie$Vooropleiding == \"vwo\",]\n",
    "\n",
    "Overig_Gemiddelde_cijfers_psychologie <- Gemiddelde_cijfers_psychologie[Gemiddelde_cijfers_psychologie$Vooropleiding == \"overig\",]\n",
    "\n",
    "# Voer voor de drie datasets de Games-Howell post-hoc toets uit\n",
    "Games_Howell_hbo <- posthocTGH(Hbo_Gemiddelde_cijfers_psychologie$Gemiddeld_cijfer,\n",
    "           Hbo_Gemiddelde_cijfers_psychologie$Geslacht,\n",
    "           method = \"games-howell\")$output\n",
    "\n",
    "Games_Howell_vwo <- posthocTGH(Vwo_Gemiddelde_cijfers_psychologie$Gemiddeld_cijfer,\n",
    "           Vwo_Gemiddelde_cijfers_psychologie$Geslacht,\n",
    "           method = \"games-howell\")$output\n",
    "\n",
    "Games_Howell_overig <- posthocTGH(Overig_Gemiddelde_cijfers_psychologie$Gemiddeld_cijfer,\n",
    "           Overig_Gemiddelde_cijfers_psychologie$Geslacht,\n",
    "           method = \"games-howell\")$output\n",
    "\n",
    "# Geef de resultaten weer van de Games-Howell post-hoc toets\n",
    "GH_hbo <- Games_Howell_hbo$games.howell\n",
    "GH_vwo <- Games_Howell_vwo$games.howell\n",
    "GH_overig <- Games_Howell_overig$games.howell\n"
   ]
  },
  {
   "cell_type": "markdown",
   "id": "20841a0a",
   "metadata": {},
   "source": [
    "<!-- ## /CLOSEDBLOK: SimEff7.R -->\n",
    "\n",
    "<!-- ## TEKSTBLOK: SimEff8.R -->\n",
    "* Hbo-p: het verschil in gemiddelde (vrouw - man) is `r Round_and_format(GH_hbo$diff[1])`, dit is een significant verschil (*p* < 0,0001).[^18]\n",
    "* Vwo: het verschil in gemiddelde (vrouw - man) is `r Round_and_format(GH_vwo$diff[1])`, dit is geen significant verschil (*p* = `r Round_and_format(GH_vwo$p[1])`).[^18]\n",
    "* Overig: het verschil in gemiddelde (vrouw - man) is `r Round_and_format(GH_overig$diff[1])`, dit is geen significant verschil (*p* = `r Round_and_format(GH_overig$p[1])`).[^18]\n",
    "\n",
    "<!-- ## /TEKSTBLOK: SimEff8.R -->"
   ]
  },
  {
   "cell_type": "markdown",
   "id": "1afa1aa6",
   "metadata": {
    "lines_to_next_cell": 0
   },
   "source": [
    "## Illustratie van post-hoc toetsing bij hoofdeffecten zonder interactie-effect\n",
    "\n",
    "<!-- ## TEKSTBLOK: PHtest1.R -->\n",
    "In de huidige casus worden de hoofdeffecten niet geïnterpreteerd vanwege het significante interactie-effect. Om toch te illustreren hoe het interpreteren van hoofdeffecten zonder een significant interactie-effect werkt, wordt de bijbehorende post-hoc toetsing toch geïllustreerd. Hiervoor wordt  een nieuwe dataset `Hoofdeffecten_Gemiddelde_cijfers_psychologie` gebruikt. \n",
    "\n",
    "<!-- ## /TEKSTBLOK: PHtest1.R -->\n",
    "\n",
    "<!-- ## OPENBLOK: PHtest2.R -->"
   ]
  },
  {
   "cell_type": "code",
   "execution_count": null,
   "id": "c50ef526",
   "metadata": {
    "lines_to_next_cell": 0
   },
   "outputs": [],
   "source": [
    "ANOVA_object_hoofdeffect <- aov(Gemiddeld_cijfer ~ Geslacht + Vooropleiding + Geslacht:Vooropleiding,\n",
    "                                data = Hoofdeffecten_Gemiddelde_cijfers_psychologie)\n",
    "\n",
    "summary(ANOVA_object_hoofdeffect)\n"
   ]
  },
  {
   "cell_type": "markdown",
   "id": "b73c3485",
   "metadata": {
    "lines_to_next_cell": 0
   },
   "source": [
    "<!-- ## /OPENBLOK: PHtest2.R -->\n",
    "\n",
    "<!-- ## CLOSEDBLOK: PHtest3.R -->"
   ]
  },
  {
   "cell_type": "code",
   "execution_count": null,
   "id": "3aa8a18b",
   "metadata": {
    "lines_to_next_cell": 0,
    "tags": [
     "remove_input"
    ]
   },
   "outputs": [],
   "source": [
    "FA <- summary(ANOVA_object_hoofdeffect)[[1]]\n",
    "pes <- EtaSq(ANOVA_object_hoofdeffect)\n",
    "\n",
    "vF_waarde <- Round_and_format(FA$`F value`[3])\n",
    "vDF1 <- Round_and_format(FA$Df[3])\n",
    "vDF2 <- Round_and_format(FA$Df[4])\n",
    "vP <- Round_and_format(FA$`Pr(>F)`[3])"
   ]
  },
  {
   "cell_type": "markdown",
   "id": "8ff71564",
   "metadata": {
    "lines_to_next_cell": 0
   },
   "source": [
    "<!-- ## /CLOSEDBLOK: PHtest3.R -->\n",
    "\n",
    "<!-- ## TEKSTBLOK: PHtest4.R -->\n",
    "Er is geen significant interactie-effect van Vooropleiding en Geslacht op Gemiddeld_cijfer, *F* (`r vDF1`,`r vDF2`) = `r vF_waarde`, *p* = `r vP`.[^18] De hoofdeffecten van Geslacht (*p* < 0,01) en Vooropleiding (*p* < 0,0001) zijn wel significant.[^18] Voer daarom de Games_howell post-hoc toets uit voor beide variabelen. Gebruik hiervoor de functie `posthocTGH()$output` van het package `userfriendlyscience`. Het eerste argument is de afhankelijke variabele `Hoofdeffecten_Gemiddelde_cijfers_psychologie$Gemiddeld_cijfer`, het tweede argument is de onafhankelijke variabele (bijvoorbeeld `Hoofdeffecten_Gemiddelde_cijfers_psychologie$Geslacht`) en het derde argument `method = \"games-howell\"` om aan te geven dat de Games-Howell post-hoc toets uitgevoerd moet worden.\n",
    "<!-- ## /TEKSTBLOK: PHtest4.R -->\n",
    "\n",
    "<!-- ## OPENBLOK: PHtest5.R -->"
   ]
  },
  {
   "cell_type": "code",
   "execution_count": null,
   "id": "cfaf973b",
   "metadata": {
    "lines_to_next_cell": 0
   },
   "outputs": [],
   "source": [
    "library(userfriendlyscience)\n",
    "\n",
    "# Voer de post-hoc toets uit voor de onafhankelijke variabele Vooropleiding\n",
    "Games_Howell_vooropleiding <- posthocTGH(Hoofdeffecten_Gemiddelde_cijfers_psychologie$Gemiddeld_cijfer,\n",
    "           Hoofdeffecten_Gemiddelde_cijfers_psychologie$Vooropleiding,\n",
    "           method = \"games-howell\")$output\n",
    "\n",
    "# Voer de post-hoc toets uit voor de onafhankelijke variabele Geslacht\n",
    "Games_Howell_geslacht <- posthocTGH(Hoofdeffecten_Gemiddelde_cijfers_psychologie$Gemiddeld_cijfer,\n",
    "           Hoofdeffecten_Gemiddelde_cijfers_psychologie$Geslacht,\n",
    "           method = \"games-howell\")$output\n",
    "\n",
    "# Geef de resultaten weer van de Games-Howell post-hoc toets\n",
    "Games_Howell_vooropleiding$games.howell\n",
    "Games_Howell_geslacht$games.howell\n",
    "\n"
   ]
  },
  {
   "cell_type": "markdown",
   "id": "ccfa47f6",
   "metadata": {
    "lines_to_next_cell": 0
   },
   "source": [
    "<!-- ## /OPENBLOK: PHtest5.R -->\n",
    "\n",
    "<!-- ## CLOSEDBLOK: PHtest6.R -->\n",
    "````{r, echo=FALSE}\n",
    "\n",
    "GH_Vooropleiding <- Games_Howell_vooropleiding$games.howell\n",
    "GH_Geslacht <- Games_Howell_geslacht$games.howell\n",
    "\n",
    "\n",
    "```\n",
    "<!-- ## /CLOSEDBLOK: PHtest6.R -->\n",
    "\n",
    "<!-- ## TEKSTBLOK: PHtest7.R -->\n",
    "De verschillen voor de groepen van de onafhankelijke variabele Vooropleiding zijn[^18]:\n",
    "\n",
    "* Hbo-p versus vwo: het verschil in gemiddelde (vwo - hbo-p) is `r Round_and_format(GH_Vooropleiding$diff[1])`, dit is een significant verschil (*p* < 0,0001).\n",
    "* Hbo-p versus overig: het verschil in gemiddelde (overig - hbo-p) is `r Round_and_format(GH_Vooropleiding$diff[2])`, dit is een significant verschil (*p* < 0,001).\n",
    "* Vwo versus overig: het verschil in gemiddelde (overig - vwo) is `r Round_and_format(GH_Vooropleiding$diff[3])`, dit is geen significant verschil (*p* = `r Round_and_format(GH_Vooropleiding$p[3])`).\n",
    "\n",
    "De verschillen voor de groepen van de onafhankelijke variabele Geslacht zijn[^18]:\n",
    "\n",
    "* Man versus Vrouw: het verschil in gemiddelde (vrouw - man) is `r Round_and_format(GH_Geslacht$diff[1])`, dit is een significant verschil (*p* = 0,009).\n",
    "\n",
    "<!-- ## /TEKSTBLOK: PHtest7.R -->\n",
    "\n",
    "Visualiseer de gemiddelden per groep om de resultaten ook visueel weer te geven. In de grafiek in Figuur 5 is te zien dat de lijnen redelijk parallel lopen wat overeenkomt met het feit dat er geen significant interactie-effect is. Het hoofdeffect van de variabele Geslacht is duidelijk zichtbaar: de gemiddeldes van vrouwen liggen voor alle vooropleiding hoger dan de gemiddeldes van mannen. Dit komt overeen met het significante verschil tussen beide groepen op de post-hoc toets. Het hoofdeffect van de variabele Vooropleiding is ook zichtbaar: de gemiddeldes voor de groepen vwo en overig verschillen onderling niet veel, maar liggen hoger dan het gemiddelde van de groep hbo-p. De post-hoc toetsen wijzen dat ook uit met een significant verschil tussen hbo-p en vwo, een significant verschil tussen hbo-p en overig en geen significant verschil tussen vwo en overig.\n",
    "\n",
    "<!-- ## OPENBLOK: PHtest8.R -->"
   ]
  },
  {
   "cell_type": "code",
   "execution_count": null,
   "id": "78a062f6",
   "metadata": {
    "lines_to_next_cell": 0
   },
   "outputs": [],
   "source": [
    "ggplot(Hoofdeffecten_Gemiddelde_cijfers_psychologie, \n",
    "       aes(x = Vooropleiding, y = Gemiddeld_cijfer, group = Geslacht, colour = Geslacht)) + \n",
    "  stat_summary(fun = mean, geom = \"point\") + \n",
    "  stat_summary(fun = mean, geom = \"line\", aes(group = Geslacht)) + \n",
    "  scale_color_manual(values = c(\"darkorange\", \"deepskyblue\")) \n"
   ]
  },
  {
   "cell_type": "markdown",
   "id": "80deccb3",
   "metadata": {},
   "source": [
    "<!-- ## /OPENBLOK: PHtest8.R -->\n",
    "\n",
    "*Figuur 5.  Gemiddelde van de gemiddelde cijfers per groep op basis van Vooropleiding en Geslacht voor de dataset Hoofdeffecten_Gemiddelde_cijfers_psychologie.*\n",
    "\n",
    "# Rapportage\n",
    "\n",
    "<!-- ## TEKSTBLOK: Rapportage.R -->\n",
    "De *factoriële ANOVA* is uitgevoerd om te toetsen of er verschillen zijn tussen mannen en vrouwen en studenten met een hbo-p vooropleiding, vwo vooropleiding of overige vooropleiding wat betreft het gemiddelde cijfer in het eerste jaar van de bachelor Psychologie. De resultaten lieten zien dat er een significant interactie-effect was tussen Vooropleiding en Geslacht op de gemiddelde cijfers van de studenten, *F* (`r vDF1`,`r vDF2`) = `r vF_waarde`, *p* < 0,0001, *η^2^* = `r Esq`. \n",
    "\n",
    "Om dit effect verder te onderzoeken, is er een *simple effects analyse* uitgevoerd met behulp van de Games-Howell post-hoc toets. Uit deze analyse bleek dat mannen met een vwo vooropleiding een significant hoger gemiddeld cijfer hadden dan mannen met een hbo-p vooropleiding (*p* < 0,0001), dat mannen met een overige vooropleiding ook een significant hoger gemiddeld cijfer hadden dan mannen met een hbo-p vooropleiding (*p* < 0,01) en dat er geen significant verschil was tussen mannen met een vwo en overige vooropleiding. Bij vrouwen was er geen enkel significant verschil tussen de groepen met een vwo, hbo-p of overige vooropleiding. Bij studenten met een hbo-p vooropleiding hadden vrouwen significant hogere gemiddelde cijfers (*p* < 0,0001) dan mannen, maar waren er geen significante verschillen voor studenten met een vwo of overige vooropleiding. In Figuur 6 zijn de gemiddeldes voor alle groepen weergegeven om de resultaten te ondersteunen. \n",
    "\n",
    "Samenvattend suggereren de resultaten dat er bij vrouwen geen verschillen zijn in gemiddeld cijfer tussen de studenten afkomstig van verschillende vooropleidingen, maar dat bij mannen studenten met een hbo-p vooropleiding minder goed presteren dan studenten met een vwo of overige vooropleiding. Daarnaast presteren vrouwen afkomstig van het hbo-p beter dan mannen afkomstig van het hbo-p, maar zijn er geen man-vrouw verschillen voor de studenten met een vwo of overige vooropleiding.\n",
    "<!-- ## /TEKSTBLOK: Rapportage.R -->\n",
    "\n"
   ]
  },
  {
   "cell_type": "markdown",
   "id": "6136565a",
   "metadata": {},
   "source": [
    "<!-- ## CLOSEDBLOK: Rapportage2.R -->"
   ]
  },
  {
   "cell_type": "code",
   "execution_count": null,
   "id": "670eb88f",
   "metadata": {
    "lines_to_next_cell": 0,
    "tags": [
     "remove_input"
    ]
   },
   "outputs": [],
   "source": [
    "ggplot(Gemiddelde_cijfers_psychologie, aes(x = Vooropleiding, y = Gemiddeld_cijfer, group = Geslacht, colour = Geslacht)) + stat_summary(fun = mean, geom = \"point\") + stat_summary(fun = mean, geom = \"line\", aes(group = Geslacht)) + scale_color_manual(values = c(\"darkorange\", \"deepskyblue\")) \n"
   ]
  },
  {
   "cell_type": "markdown",
   "id": "fb674938",
   "metadata": {},
   "source": [
    "<!-- ## /CLOSEDBLOK: Rapportage2.R -->\n",
    "\n",
    "*Figuur 6.  Gemiddelde van de gemiddelde cijfers per groep op basis van Vooropleiding en Geslacht voor de dataset Gemiddelde_cijfers_psychologie.*"
   ]
  },
  {
   "cell_type": "markdown",
   "id": "2737beb3",
   "metadata": {
    "lines_to_next_cell": 0
   },
   "source": [
    "<!-- ## CLOSEDBLOK: Footer.R -->"
   ]
  },
  {
   "cell_type": "code",
   "execution_count": null,
   "id": "0683f69d",
   "metadata": {
    "code": "#R_CODE#readLines(paste0(here::here(),\"/01. Includes/code/Footer.R\"))",
    "include": true,
    "lines_to_next_cell": 0,
    "name": "footer",
    "results": "asis",
    "tags": [
     "remove_input"
    ]
   },
   "outputs": [],
   "source": []
  },
  {
   "cell_type": "markdown",
   "id": "8b39847e",
   "metadata": {},
   "source": [
    "<!-- ## /CLOSEDBLOK: Footer.R -->\n",
    "\n",
    "[^1]: Laerd statistics (2018). *Two-way ANOVA in SPSS Statistics*. https://statistics.laerd.com/spss-tutorials/two-way-anova-using-spss-statistics.php. \n",
    "[^2]: Er zijn verschillende opties om variabelen te transformeren, zoals de logaritme, wortel of inverse (1 gedeeld door de variabele) nemen van de variabele. Zie *Discovering statistics using IBM SPSS statistics* van Field (2013) pagina 201-210 voor meer informatie over welke transformaties wanneer gebruikt kunnen worden.\n",
    "[^3]: Tabachnick, B.G. & Fidell, L.S. (2013). *Using multivariate statistics*. Sixth Edition, Pearson. Pagina 86.\n",
    "[^4]: Tabachnick, B.G. & Fidell, L.S. (2013). *Using multivariate statistics*. Sixth Edition, Pearson. Pagina 54 - 55.\n",
    "[^5]: Allen, P. & Bennett, K. (2012). *SPSS A practical Guide version 20.0*. Cengage Learning Australia Pty Limited. Pagina 84.\n",
    "[^6]: Field, A. (2013). *Discovering statistics using IBM SPSS statistics*. \n",
    "Sage. Pagina 458-460.\n",
    "[^7]: Laerd statistics (2018). *Testing for Normality using SPSS Statistics*. https://statistics.laerd.com/spss-tutorials/testing-for-normality-using-spss-statistics.php. \n",
    "[^8]: Universiteit van Amsterdam (14 juli 2014). *Normaliteit*. [UvA Wiki Methodologiewinkel](https://wiki.uva.nl/methodologiewinkel/index.php/Normaliteit).\n",
    "[^9]: De breedte van de staven van het histogram wordt vaak automatisch bepaald, maar kan handmatig aangepast worden. Aangezien de breedte van de staven bepalend zijn voor de indruk die de visualisatie geeft, is het verstandig om hier goed op te letten.\n",
    "[^10]: Field, A. (2013). *Discovering statistics using IBM SPSS statistics*. \n",
    "Sage. Pagina 507-542.\n",
    "[^11]: Field, A., Miles, J., & Field, Z. (2012). *Discovering statistics using R*. London: Sage publications.\n",
    "\n",
    "[^16]: Outliers (13 augustus 2016). [UvA Wiki Methodologiewinkel](https://wiki.uva.nl/methodologiewinkel/index.php/Outliers).\n",
    "[^17]: Outliers kunnen bepalend zijn voor de uitkomst van toetsen. Bekijk of de outliers valide outliers zijn en niet een meetfout of op een andere manier incorrect verkregen data. Het weghalen van outliers kan de uitkomst ook vertekenen, daarom is het belangrijk om verwijderde outliers te melden in een rapport. \n",
    "[^18]: In dit voorbeeld wordt uitgegaan van een waarschijnlijkheid van 95% c.q. een p-waardegrens van 0,05. De grens is naar eigen inzicht aan te passen; houd hierbij rekening met type I en type II fouten.\n",
    "[^19]: Met een deelnemer wordt het object bedoeld dat geobserveerd wordt, bijvoorbeeld een student, een inwoner van Nederland, een opleiding of een organisatie. Met een observatie wordt de waarde bedoeld die de deelnemer heeft voor een bepaalde variabele. Een deelnemer heeft dus meestal een observatie voor meerdere variabelen."
   ]
  }
 ],
 "metadata": {
  "jupytext": {
   "cell_metadata_filter": "message,tags,name,warning,echo,code,results,collapse,include,-all",
   "main_language": "R",
   "notebook_metadata_filter": "-all"
  },
  "language_info": {
   "codemirror_mode": {
    "name": "ipython",
    "version": 3
   },
   "file_extension": ".py",
   "mimetype": "text/x-python",
   "name": "python",
   "nbconvert_exporter": "python",
   "pygments_lexer": "ipython3",
   "version": "3.8.10"
  }
 },
 "nbformat": 4,
 "nbformat_minor": 5
}