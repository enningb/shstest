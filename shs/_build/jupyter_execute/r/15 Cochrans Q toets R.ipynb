{
 "cells": [
  {
   "cell_type": "raw",
   "id": "8e5d39f0",
   "metadata": {},
   "source": [
    "---\n",
    "title: \"Cochran's Q toets\"\n",
    "output:\n",
    "  html_document:\n",
    "    theme: lumen\n",
    "    toc: yes\n",
    "    toc_depth: 2\n",
    "    toc_float: \n",
    "      collapsed: FALSE \n",
    "    number_sections: true\n",
    "  keywords: [statistisch handboek, studiedata]\n",
    "---"
   ]
  },
  {
   "cell_type": "markdown",
   "id": "e797ed0e",
   "metadata": {
    "lines_to_next_cell": 0
   },
   "source": [
    "<!-- ## CLOSEDBLOK: Functies.R -->"
   ]
  },
  {
   "cell_type": "code",
   "execution_count": 1,
   "id": "54714a6e",
   "metadata": {
    "include": true,
    "lines_to_next_cell": 0,
    "message": false,
    "name": "functies",
    "results": "asis",
    "tags": [
     "remove_input"
    ],
    "warning": false
   },
   "outputs": [
    {
     "ename": "SyntaxError",
     "evalue": "invalid syntax (<ipython-input-1-924f26e6aa13>, line 2)",
     "output_type": "error",
     "traceback": [
      "\u001b[0;36m  File \u001b[0;32m\"<ipython-input-1-924f26e6aa13>\"\u001b[0;36m, line \u001b[0;32m2\u001b[0m\n\u001b[0;31m    if (!exists(\"Substitute_var\")) {\u001b[0m\n\u001b[0m        ^\u001b[0m\n\u001b[0;31mSyntaxError\u001b[0m\u001b[0;31m:\u001b[0m invalid syntax\n"
     ]
    }
   ],
   "source": [
    "library(here)\n",
    "if (!exists(\"Substitute_var\")) {\n",
    "  ## Installeer packages en functies\n",
    "  source(paste0(here::here(), \"/99. Functies en Libraries/00. Voorbereidingen.R\"), echo = FALSE)\n",
    "}"
   ]
  },
  {
   "cell_type": "markdown",
   "id": "4d70bbc2",
   "metadata": {
    "lines_to_next_cell": 0
   },
   "source": [
    "<!-- ## /CLOSEDBLOK: Functies.R -->\n",
    "\n",
    "<!-- ## CLOSEDBLOK: CSS -->\n",
    "<style>\n",
    "`r htmltools::includeHTML(paste0(here::here(),\"/01. Includes/css/Stylesheet_SHHO.css\"))`\n",
    "</style>\n",
    "<!-- ## /CLOSEDBLOK: CSS -->\n",
    "\n",
    "<!-- ## CLOSEDBLOK: Header.R -->"
   ]
  },
  {
   "cell_type": "code",
   "execution_count": null,
   "id": "5ffff990",
   "metadata": {
    "code": "#R_CODE#readLines(paste0(here::here(),\"/01. Includes/code/Header.R\"))",
    "include": true,
    "lines_to_next_cell": 0,
    "name": "header",
    "results": "asis",
    "tags": [
     "remove_input"
    ]
   },
   "outputs": [],
   "source": []
  },
  {
   "cell_type": "markdown",
   "id": "09c1aabc",
   "metadata": {
    "lines_to_next_cell": 0
   },
   "source": [
    "<!-- ## /CLOSEDBLOK: Header.R -->\n",
    "\n",
    "<!-- ## CLOSEDBLOK: Status.R -->"
   ]
  },
  {
   "cell_type": "code",
   "execution_count": null,
   "id": "cd409fd9",
   "metadata": {
    "code": "#R_CODE#readLines(paste0(here::here(),\"/01. Includes/code/Status.R\"))",
    "include": true,
    "lines_to_next_cell": 0,
    "name": "status",
    "results": "asis",
    "tags": [
     "remove_input"
    ]
   },
   "outputs": [],
   "source": []
  },
  {
   "cell_type": "markdown",
   "id": "f891c0b2",
   "metadata": {
    "lines_to_next_cell": 0
   },
   "source": [
    "<!-- ## /CLOSEDBLOK: Status.R -->\n",
    "\n",
    "<!-- ## CLOSEDBLOK: Reticulate.R -->\n",
    "\n",
    "<!-- ## /CLOSEDBLOK: Reticulate.R -->\n",
    "\n",
    "<!-- ## OPENBLOK: Data-aanmaken.R -->"
   ]
  },
  {
   "cell_type": "code",
   "execution_count": null,
   "id": "91ec5eb1",
   "metadata": {
    "echo": true,
    "lines_to_next_cell": 0,
    "name": "aanmaken data",
    "tags": [
     "remove_cell"
    ]
   },
   "outputs": [],
   "source": [
    "source(paste0(here::here(),\"/01. Includes/data/15.R\"))"
   ]
  },
  {
   "cell_type": "markdown",
   "id": "1346972f",
   "metadata": {},
   "source": [
    "<!-- ## /OPENBLOK: Data-aanmaken.R -->\n",
    "\n",
    "# Toepassing\n",
    "\n",
    "Gebruik *Cochran's Q toets* om te toetsen of er verschillen zijn op een binaire variabele[^1] tussen drie of meer herhaalde metingen van één groep of tussen drie of meer gepaarde groepen.[^2] "
   ]
  },
  {
   "cell_type": "markdown",
   "id": "03d256de",
   "metadata": {},
   "source": [
    "# Onderwijscasus\n",
    "<div id = \"casus\">\n",
    "De opleidingsdirecteur van de bacheloropleiding Kunstmatige Intelligentie van een universiteit merkt dat er tijdens het eerste studiejaar veel studenten zijn die niet alle vakken voldoende afsluiten. Hij wil uitvinden in welke onderwijsperiode dit vooral plaatsvindt om te onderzoeken waardoor de studievertraging veroorzaakt wordt. Op deze universiteit bestaat het eerste jaar uit vier onderwijsperiodes. Daarom vraagt hij studieresultaten op van eerstejaars studenten uit het vorige collegejaar die niet zijn uitgevallen gedurende dat jaar. Met deze resultaten wil hij onderzoeken of er een effect is van de onderwijsperiodes op het wel of niet hebben van herkansingen voor de eerstejaars studenten.\n",
    "\n",
    "Dit onderzoek vertaalt zich in de volgende combinatie van hypothesen, waarbij de nulhypothese zo geformuleerd is dat er geen effect of verschil is en de alternatieve hypothese zo geformuleerd is dat er wel een effect of verschil is.\n",
    "\n",
    "*H~0~*: Er is geen effect van de onderwijsperiode op het wel of niet hebben van herkansingen voor eerstejaars studenten.\n",
    "\n",
    "*H~A~*: Er is een effect van de onderwijsperiode op het wel of niet hebben van herkansingen voor eerstejaars studenten.\n",
    "</div>\n",
    "\n",
    "# Assumpties\n",
    "\n",
    "Om *Cochran's Q toets* uit te voeren, moeten de data aan een aantal voorwaarden voldoen. Er dient een categorische afhankelijke variabele te zijn met twee categorieën zonder overlap: elke observatie past slechts in een van beide categorieën. Daarnaast zijn er drie of meer herhaalde metingen van één groep of zijn er drie of meer gepaarde groepen. In beide gevallen zijn de deelnemers[^11] een willekeurige steekproef van de populatie.[^3]\n",
    "\n",
    "*Cochran's Q toets* is te gebruiken wanneer het product van het aantal deelnemers en het aantal herhaalde metingen groter dan of gelijk aan 24 is.[^4] Gebruik de exacte versie van *Cochran's Q toets* wanneer dit niet het geval is.[^5]\n",
    "\n",
    "# Post-hoc toetsen\n",
    "\n",
    "<!-- ## TEKSTBLOK: PH1.R -->\n",
    "*Cochran's Q toets* toetst of er verschillen zijn tussen een percentage op drie of meer herhaalde metingen. Voer een post-hoc toets uit om te bepalen welke metingen van elkaar verschillen. Gebruik de [McNemar toets](12-McNemar-toets-R.html) als post-hoc toets.\n",
    "<!-- ## /TEKSTBLOK: PH1.R -->\n",
    "\n",
    "Gebruik een correctie voor de p-waarden, omdat er meerdere toetsen tegelijkertijd worden gebruikt. Meerdere toetsen tegelijkertijd uitvoeren verhoogt de kans dat een van de nulhypotheses onterecht wordt verworpen en er bij toeval een verband wordt ontdekt dat er niet is (type I fout). In deze toetspagina wordt de *Bonferroni correctie* gebruikt. Deze correctie past de p-waarde aan door de p-waarde te vermenigvuldigen met het aantal uitgevoerde toetsen en verlaagt hiermee de kans op een type I fout.[^9] Een andere uitleg hiervan is dat het significantieniveau gedeeld wordt door het aantal toetsen wat leidt tot een lager significantieniveau en dus een strengere toets. Er zijn ook andere opties voor een correctie op de p-waarden.[^9]"
   ]
  },
  {
   "cell_type": "markdown",
   "id": "08df1a5b",
   "metadata": {
    "lines_to_next_cell": 0
   },
   "source": [
    "# De data bekijken\n",
    "<!-- ## TEKSTBLOK: Data-bekijken1.R -->\n",
    "Er is een dataset ingeladen genaamd `Herkansingen_kunstmatige_intelligentie`. In deze dataset is per onderwijsperiode aangegeven of een student wel of geen herkansingen heeft gemaakt.\n",
    "<!-- ## /TEKSTBLOK: Data-bekijken1.R -->\n",
    "\n",
    "<!-- ## OPENBLOK: Data-bekijken2.R -->"
   ]
  },
  {
   "cell_type": "code",
   "execution_count": null,
   "id": "5f00a941",
   "metadata": {
    "collapse": true,
    "lines_to_next_cell": 0,
    "name": "data bekijken"
   },
   "outputs": [],
   "source": [
    "## Eerste 6 observaties\n",
    "head(Herkansingen_kunstmatige_intelligentie)\n",
    "\n",
    "## Laatste 6 observaties\n",
    "tail(Herkansingen_kunstmatige_intelligentie)"
   ]
  },
  {
   "cell_type": "markdown",
   "id": "d3e2be15",
   "metadata": {
    "lines_to_next_cell": 0
   },
   "source": [
    "<!-- ## /OPENBLOK: Data-bekijken2.R -->\n",
    "\n",
    "<!-- ## TEKSTBLOK: Data-kruistabel1.R -->\n",
    "Een kruistabel geeft weer hoeveel eerstejaars studenten wel of geen herkansingen hebben in de vier onderwijsperiodes. Maak de kruistabel met de functie `table()` met als argumenten de variabele `Herkansingen_kunstmatige_intelligentie$Herkansingen` die aangeeft of eerstejaars studenten wel of geen herkansing hebben en de variabele `Herkansingen_kunstmatige_intelligentie$Onderwijsperiode` die aangeeft in welke onderwijsperiode een observatie is gedaan. \n",
    "<!-- ## /TEKSTBLOK: Data-kruistabel1.R -->\n",
    "\n",
    "<!-- ## OPENBLOK: Data-kruistabel2.R -->"
   ]
  },
  {
   "cell_type": "code",
   "execution_count": null,
   "id": "1cff4889",
   "metadata": {
    "lines_to_next_cell": 0,
    "name": "kruistabel"
   },
   "outputs": [],
   "source": [
    "## Maak een kruistabel\n",
    "Herkansingen_kruistabel <- table(Herkansingen_kunstmatige_intelligentie$Herkansingen, Herkansingen_kunstmatige_intelligentie$Onderwijsperiode)\n",
    "\n",
    "## Print de kruistabel \n",
    "print(Herkansingen_kruistabel)\n",
    "\n",
    "## Print een tabel met proporties, tweede argument 2 zorgt ervoor dat de \n",
    "## proporties per kolom berekend worden\n",
    "prop.table(Herkansingen_kruistabel, 2)"
   ]
  },
  {
   "cell_type": "markdown",
   "id": "2621cd99",
   "metadata": {
    "lines_to_next_cell": 0
   },
   "source": [
    "<!-- ## /OPENBLOK: Data-kruistabel2.R -->\n",
    "\n",
    "<!-- ## CLOSEDBLOK: Data-kruistabel3.R -->"
   ]
  },
  {
   "cell_type": "code",
   "execution_count": null,
   "id": "e76fd804",
   "metadata": {
    "echo": true,
    "lines_to_next_cell": 0,
    "name": "kruistabel2",
    "tags": [
     "remove_cell"
    ]
   },
   "outputs": [],
   "source": [
    "## Maak een kruistabel\n",
    "Herkansingen_kruistabel <- table(Herkansingen_kunstmatige_intelligentie$Herkansingen, Herkansingen_kunstmatige_intelligentie$Onderwijsperiode)\n",
    "\n",
    "## Print de kruistabel \n",
    "print(Herkansingen_kruistabel)\n",
    "\n",
    "## Print een tabel met proporties, tweede argument 2 zorgt ervoor dat de \n",
    "## proporties per kolom berekend worden\n",
    "proptable <- prop.table(Herkansingen_kruistabel, 2)"
   ]
  },
  {
   "cell_type": "markdown",
   "id": "077ff210",
   "metadata": {
    "lines_to_next_cell": 0
   },
   "source": [
    "<!-- ## /CLOSEDBLOK: Data-kruistabel3.R -->\n",
    "\n",
    "<!-- ## TEKSTBLOK: Data-kruistabel4.R -->\n",
    "De kruistabel en bijbehorende tabel met proporties laten zien dat het aantal eerstejaars studenten dat een herkansing doet in onderwijsperiode 1 (`r Herkansingen_kruistabel[1,1]`) relatief laag is en relatief hoog is in onderwijsperiode 2 (`r Herkansingen_kruistabel[1,2]`). Onderwijsperiode 3 en 4 (`r Herkansingen_kruistabel[1,3]` en `r Herkansingen_kruistabel[1,4]`) zitten qua aantal herkansende eerstejaars studenten ertussenin.\n",
    "<!-- ## /TEKSTBLOK: Data-kruistabel4.R -->\n",
    "\n",
    "# Uitvoering\n",
    "\n",
    "## Assumptie steekproefgrootte\n",
    "\n",
    "Een assumptie van *Cochran's Q toets* is dat het product van het aantal deelnemers en het aantal herhaalde metingen groter dan of gelijk is aan 24. In deze casus gaat het om het product van het aantal eerstejaars studenten en het aantal onderwijsperiodes. Toets deze assumpties door dit product te berekenen.\n",
    "\n",
    "<!-- ## OPENBLOK: steekproefgrootte1.R -->"
   ]
  },
  {
   "cell_type": "code",
   "execution_count": null,
   "id": "8e0081b7",
   "metadata": {
    "lines_to_next_cell": 0,
    "name": "data bekijken 2"
   },
   "outputs": [],
   "source": [
    "# Bereken het aantal eerstejaars studenten\n",
    "N <- length(unique(Herkansingen_kunstmatige_intelligentie$Studentnummer))\n",
    "\n",
    "# Bereken het aantal onderwijsperiodes\n",
    "k <- length(unique(Herkansingen_kunstmatige_intelligentie$Onderwijsperiode))\n",
    "\n",
    "# Bereken het product van beide\n",
    "Product <- N * k\n",
    "\n",
    "# Print het resultaat\n",
    "print(Product)"
   ]
  },
  {
   "cell_type": "markdown",
   "id": "0fbcc763",
   "metadata": {},
   "source": [
    "<!-- ## /OPENBLOK: steekproefgrootte1.R -->\n",
    "\n",
    "<!-- ## TEKSTBLOK: steekproefgrootte2.R -->\n",
    "Het product van het aantal eerstejaars studenten en het aantal onderwijsperiodes is `r Product`. Aangezien dit aantal groter dan 24 is, is aan de assumptie wat betreft de steekproefgrootte voldaan.\n",
    "<!-- ## /TEKSTBLOK: steekproefgrootte2.R -->"
   ]
  },
  {
   "cell_type": "markdown",
   "id": "9ce5607a",
   "metadata": {
    "lines_to_next_cell": 0
   },
   "source": [
    "## Cochran's Q toets\n",
    "<!-- ## TEKSTBLOK: Cochran1.R -->\n",
    "Voer *Cochran's Q toets* uit om te onderzoeken of er effect is van de onderwijsperiodes op het wel of niet hebben van herkansingen van eerstejaars studenten van de bachelor Kunstmatige Intelligentie. Gebruik de functie `CochransQTest()` met als eerste argument `Herkansingen ~ Onderwijsperiode | Studentnummer` waarin `Herkansingen` de afhankelijke variabele is, `Onderwijsperiode` de variabele is die de verschillende groepen aangeeft en `Studentnummer` de variabele is die de deelnemers aangeeft. Het tweede argument is de dataset `data = Herkansingen_kunstmatige_intelligentie`.\n",
    "<!-- ## /TEKSTBLOK: Cochran1.R -->\n",
    "\n",
    "<!-- ## OPENBLOK: Cochran2.R -->"
   ]
  },
  {
   "cell_type": "code",
   "execution_count": null,
   "id": "1179836d",
   "metadata": {
    "lines_to_next_cell": 0,
    "name": "cochran"
   },
   "outputs": [],
   "source": [
    "CochranQTest(Herkansingen ~ Onderwijsperiode | Studentnummer,\n",
    "              data = Herkansingen_kunstmatige_intelligentie)"
   ]
  },
  {
   "cell_type": "markdown",
   "id": "47744cda",
   "metadata": {
    "lines_to_next_cell": 0
   },
   "source": [
    "<!-- ## /OPENBLOK: Cochran2.R -->\n",
    "\n",
    "<!-- ## CLOSEDBLOK: Cochran3.R -->"
   ]
  },
  {
   "cell_type": "code",
   "execution_count": null,
   "id": "0a51daff",
   "metadata": {
    "echo": true,
    "lines_to_next_cell": 0,
    "name": "cochran object",
    "tags": [
     "remove_cell"
    ]
   },
   "outputs": [],
   "source": [
    "cochran <- CochranQTest(Herkansingen ~ Onderwijsperiode | Studentnummer,\n",
    "              data = Herkansingen_kunstmatige_intelligentie)\n",
    "\n",
    "vQ <- Round_and_format(cochran$statistic)\n",
    "vdf <- cochran$parameter\n",
    "vp <- Round_and_format(cochran$p.value, 3)\n"
   ]
  },
  {
   "cell_type": "markdown",
   "id": "7cd929d8",
   "metadata": {},
   "source": [
    "<!-- ## /CLOSEDBLOK: Cochran3.R -->\n",
    "\n",
    "<!-- ## TEKSTBLOK: Cochran4.R -->\n",
    "* Q (`r vdf`, *N* = `r N`) = `r vQ`, *p* = `r vp`\n",
    "* Aantal vrijheidsgraden is gelijk aan aantal herhaalde metingen minus één, in deze casus `r k` - 1 = `r vdf`\n",
    "* De p-waarde is kleiner dan 0,05, dus de H~0~ wordt verworpen.[^10]\n",
    "* Er is een significant effect van de vier onderwijsperiodes op het wel of niet hebben van herkansingen van eerstejaars studenten van de bachelor Kunstmatige Intelligentie\n",
    "\n",
    "<!-- ## /TEKSTBLOK: Cochran4.R -->"
   ]
  },
  {
   "cell_type": "markdown",
   "id": "e8d27be8",
   "metadata": {
    "lines_to_next_cell": 0
   },
   "source": [
    "## Post-hoc toets\n",
    "\n",
    "<!-- ## TEKSTBLOK: posthoc1.R -->\n",
    "Voer post-hoc toetsen uit om te onderzoeken tussen welke onderwijsperiodes er verschillen zijn in de verdeling van de eerstejaars studenten die wel of geen herkansingen hebben. Gebruik de [McNemar toets](12-McNemar-toets-R.html) als post-hoc toets. Maak eerst een aparte dataset aan voor iedere onderwijsperiode. Gebruik daarna om een [McNemar toets](12-McNemar-toets-R.html) uit te voeren de functie `exact2x2()` van het package `exact2x2` met als eerste twee argumenten de herkansingen voor de onderwijsperiodes die vergeleken gaan worden (bijvoorbeeld `P1$Herkansingen` en `P2$Herkansingen`) , als derde argument `paired = TRUE` omdat er een gepaarde vergelijking wordt gemaakt en als vierde argument `midp = TRUE` omdat de *mid p-value* methode gebruikt wordt.\n",
    "\n",
    "Voer de [McNemar toets](12-McNemar-toets-R.html) uit voor alle zes de combinaties van onderwijsperiodes. Hiervoor is het nodig om handmatig een correctie uit te voeren voor meerdere toetsen. Voer de Bonferroni correctie uit door het significantieniveau te delen door het aantal uitgevoerde toetsen. Het significatieniveau voor deze post-hoc toetsen wordt dan 0,05 / 6 ≈ 0,008. Vergelijk de p-waarden van de [McNemar toetsen](12-McNemar-toets-R.html) daarna met dit significantieniveau.\n",
    "<!-- ## /TEKSTBLOK: posthoc1.R -->\n",
    "\n",
    "<!-- ## OPENBLOK: posthoc2.R -->"
   ]
  },
  {
   "cell_type": "code",
   "execution_count": null,
   "id": "d9741cb7",
   "metadata": {
    "lines_to_next_cell": 0,
    "name": "mcnemar"
   },
   "outputs": [],
   "source": [
    "# Laad het package voor de McNemar toets in\n",
    "library(exact2x2)\n",
    "\n",
    "## Maak voor elke onderwijsperiode een aparte dataset\n",
    "P1 <- Herkansingen_kunstmatige_intelligentie[Herkansingen_kunstmatige_intelligentie$Onderwijsperiode == \"1\",]\n",
    "P2 <- Herkansingen_kunstmatige_intelligentie[Herkansingen_kunstmatige_intelligentie$Onderwijsperiode == 2,]\n",
    "P3 <- Herkansingen_kunstmatige_intelligentie[Herkansingen_kunstmatige_intelligentie$Onderwijsperiode == 3,]\n",
    "P4 <- Herkansingen_kunstmatige_intelligentie[Herkansingen_kunstmatige_intelligentie$Onderwijsperiode == 4,]\n",
    "\n",
    "# Voer McNemar toets uit\n",
    "exact2x2(P1$Herkansingen, P2$Herkansingen, paired = TRUE, midp = TRUE)\n",
    "exact2x2(P1$Herkansingen, P3$Herkansingen, paired = TRUE, midp = TRUE)\n",
    "exact2x2(P1$Herkansingen, P4$Herkansingen, paired = TRUE, midp = TRUE)\n",
    "exact2x2(P2$Herkansingen, P3$Herkansingen, paired = TRUE, midp = TRUE)\n",
    "exact2x2(P2$Herkansingen, P4$Herkansingen, paired = TRUE, midp = TRUE)\n",
    "exact2x2(P3$Herkansingen, P4$Herkansingen, paired = TRUE, midp = TRUE)\n",
    "\n"
   ]
  },
  {
   "cell_type": "markdown",
   "id": "5317096d",
   "metadata": {
    "lines_to_next_cell": 0
   },
   "source": [
    "<!-- ## /OPENBLOK: posthoc2.R -->\n",
    "\n",
    "<!-- ## CLOSEDBLOK: posthoc3.R -->"
   ]
  },
  {
   "cell_type": "code",
   "execution_count": null,
   "id": "a5cacd15",
   "metadata": {
    "echo": true,
    "lines_to_next_cell": 0,
    "tags": [
     "remove_cell"
    ]
   },
   "outputs": [],
   "source": [
    "p_P1_P2 <- exact2x2(P1$Herkansingen, P2$Herkansingen, paired = TRUE, midp = TRUE)$p.value\n"
   ]
  },
  {
   "cell_type": "markdown",
   "id": "8cbb0d43",
   "metadata": {},
   "source": [
    "<!-- ## /CLOSEDBLOK: posthoc3.R -->\n",
    "\n",
    "<!-- ## TEKSTBLOK: posthoc4.R -->\n",
    "* Er is een significant verschil gevonden in de verdeling van eerstejaars studenten wat betreft herkansingen  tussen onderwijsperiode 1 en onderwijsperiode 2 (*p* = `r Round_and_format(p_P1_P2, 3)`)\n",
    "* Er zijn geen significante verschillen gevonden bij de overige vergelijkingen tussen onderwijsperiodes\n",
    "\n",
    "<!-- ## /TEKSTBLOK: posthoc4.R -->\n"
   ]
  },
  {
   "cell_type": "markdown",
   "id": "f9edb37d",
   "metadata": {
    "lines_to_next_cell": 0
   },
   "source": [
    "# Rapportage\n",
    "<!-- ## CLOSEDBLOK: rapportage1.R -->"
   ]
  },
  {
   "cell_type": "code",
   "execution_count": null,
   "id": "b7d098a3",
   "metadata": {
    "echo": true,
    "lines_to_next_cell": 0,
    "name": "proptabel",
    "tags": [
     "remove_cell"
    ]
   },
   "outputs": [],
   "source": [
    "## Maak een kruistabel\n",
    "Herkansingen_kruistabel <- table(Herkansingen_kunstmatige_intelligentie$Herkansingen, Herkansingen_kunstmatige_intelligentie$Onderwijsperiode)\n",
    "\n",
    "## Print een tabel met proporties, tweede argument 2 zorgt ervoor dat de \n",
    "## proporties per kolom berekend worden\n",
    "tabel <- 100 * prop.table(Herkansingen_kruistabel, 2)"
   ]
  },
  {
   "cell_type": "markdown",
   "id": "b8862c92",
   "metadata": {},
   "source": [
    "<!-- ## /CLOSEDBLOK: rapportage1.R -->\n",
    "\n",
    "<!-- ## TEKSTBLOK: rapportage2.R -->\n",
    "*Cochran's Q toets* is uitgevoerd om te onderzoeken of er een effect is van de vier onderwijsperiodes op het wel of niet hebben van herkansingen van eerstejaars studenten van de bachelor Kunstmatige Intelligentie. Het percentage eerstejaars studenten dat een of meerdere herkansingen heeft is per onderwijsperiode weergegeven in Tabel 1. *Cochran's Q toets* toont aan dat er een significant effect is van de onderwijsperiodes op het wel of niet hebben van herkansingen, Q (`r vdf`, *N* = `r N`) = `r vQ`, *p* = `r vp`. \n",
    "\n",
    "Om te bepalen tussen welke onderwijsperiodes er verschillen zijn, is de [McNemar toets](12-McNemar-toets-R.html) als post-hoc toets uitgevoerd met een Benjamini-Hochberg correctie voor meerdere toetsen. Uit de post-hoc toetsen blijkt dat er alleen een significant verschil is tussen onderwijsperiode 1 (`r tabel[1,1]`% eerstejaars studenten met herkansingen) en onderwijsperiode 2 (`r tabel[1,2]`% eerstejaars studenten met herkansingen) met als gecorrigeerde p-waarde `r Round_and_format(p_P1_P2, 3)`. Er zijn dus significant meer eerstejaars studenten met een of meerdere herkansingen in periode 2 in vergelijking tot periode 1, maar verder zijn er geen verschillen tussen de onderwijsperiodes.\n",
    "<!-- ## /TEKSTBLOK: rapportage2.R -->\n"
   ]
  },
  {
   "cell_type": "markdown",
   "id": "40fc6482",
   "metadata": {},
   "source": [
    "<!-- ## TEKSTBLOK: rapportage3.R -->\n",
    "|                      | Periode 1          | Periode 2          | Periode 3          | Periode 4 |\n",
    "|-------------| -------------------- | -------------| ------------|-------------| ------------| \n",
    "|Herkansingen (%) | `r tabel[1,1]` | `r tabel[1,2]` | `r tabel[1,3]` | `r tabel[1,4]` |\n",
    "|Geen herkansingen (%) | `r tabel[2,1]` | `r tabel[2,2]` | `r tabel[2,3]` | `r tabel[2,4]` |\n",
    "\n",
    "*Tabel 1. Het percentage eerstejaars studenten van de bachelor Kunstmatige Intelligentie dat wel of geen herkansingen heeft voor de vakken in de vier onderwijsperiodes.*\n",
    "<!-- ## /TEKSTBLOK: rapportage3.R -->\n",
    "\n",
    "\n"
   ]
  },
  {
   "cell_type": "markdown",
   "id": "4a9eb6b2",
   "metadata": {
    "lines_to_next_cell": 0
   },
   "source": [
    "<!-- ## CLOSEDBLOK: Footer.R -->"
   ]
  },
  {
   "cell_type": "code",
   "execution_count": null,
   "id": "4fd3d824",
   "metadata": {
    "code": "#R_CODE#readLines(paste0(here::here(),\"/01. Includes/code/Footer.R\"))",
    "include": true,
    "lines_to_next_cell": 0,
    "name": "footer",
    "results": "asis",
    "tags": [
     "remove_input"
    ]
   },
   "outputs": [],
   "source": []
  },
  {
   "cell_type": "markdown",
   "id": "48d9b6d6",
   "metadata": {},
   "source": [
    "<!-- ## /CLOSEDBLOK: Footer.R -->\n",
    "\n",
    "[^1]: Binaire variabelen: twee elkaar uitsluitende waarden, zoals ja of nee, 0 of 1, aan of uit.\n",
    "[^2]: Allen, P. & Bennett, K. (2012). *SPSS A practical Guide version 20.0*. Cengage Learning Australia Pty Limited.\n",
    "[^3]: Laerd statistics (2018). *Cochran's Q test using SPSS Statistics*. [Laerd statistics](https://statistics.laerd.com/spss-tutorials/cochrans-q-test-in-spss-statistics.php#assumption4) \n",
    "[^4]: Statistics How To (18 juli 2016). *Cochran’s Q Test*. [Statistics How to](https://www.statisticshowto.datasciencecentral.com/cochrans-q-test/).\n",
    "[^5]: Er is geen package gevonden om de exacte versie van *Cochran's Q toets* uit te voeren in R. De exacte versie is echter wel uit te voeren in SPSS.\n",
    "[^9]: Field, A., Miles, J., & Field, Z. (2012). *Discovering statistics using R*. London: Sage publications.\n",
    "[^10]: In dit voorbeeld wordt uitgegaan van een waarschijnlijkheid van 95% c.q. een p-waardegrens van 0,05. De grens is naar eigen inzicht aan te passen; houd hierbij rekening met type I en type II fouten. \n",
    "[^11]: Met een deelnemer wordt het object bedoeld dat geobserveerd wordt, bijvoorbeeld een student, een inwoner van Nederland, een opleiding of een organisatie. Met een observatie wordt de waarde bedoeld die de deelnemer heeft voor een bepaalde variabele. Een deelnemer heeft dus meestal een observatie voor meerdere variabelen.\n",
    "[^12]: Additional file 1 van Fagerland, M.W., Lydersen, S., & Laake, P. (2013). *The McNemar test for binary matched-pairs data: mid-p and asymptotic are better than exact conditional*. BMC medical research methodology, 13, 91. https://doi.org/10.1186/1471-2288-13-91 . Te vinden op https://www.ncbi.nlm.nih.gov/pmc/articles/PMC3716987/#S1"
   ]
  }
 ],
 "metadata": {
  "jupytext": {
   "cell_metadata_filter": "message,tags,name,warning,echo,code,results,collapse,include,-all",
   "main_language": "R",
   "notebook_metadata_filter": "-all"
  },
  "language_info": {
   "codemirror_mode": {
    "name": "ipython",
    "version": 3
   },
   "file_extension": ".py",
   "mimetype": "text/x-python",
   "name": "python",
   "nbconvert_exporter": "python",
   "pygments_lexer": "ipython3",
   "version": "3.8.10"
  }
 },
 "nbformat": 4,
 "nbformat_minor": 5
}