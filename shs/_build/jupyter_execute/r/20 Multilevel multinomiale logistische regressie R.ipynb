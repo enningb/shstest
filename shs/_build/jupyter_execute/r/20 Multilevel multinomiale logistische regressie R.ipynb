{
 "cells": [
  {
   "cell_type": "raw",
   "id": "968db846",
   "metadata": {},
   "source": [
    "---\n",
    "title: \"Multilevel multinomiale logistische regressie\"\n",
    "output:\n",
    "  html_document:\n",
    "    theme: lumen\n",
    "    toc: yes\n",
    "    toc_depth: 2\n",
    "    toc_float: \n",
    "      collapsed: FALSE \n",
    "    number_sections: true\n",
    "  keywords: [statistisch handboek, studiedata]\n",
    "---"
   ]
  },
  {
   "cell_type": "markdown",
   "id": "477074d6",
   "metadata": {
    "lines_to_next_cell": 0
   },
   "source": [
    "<!-- ## CLOSEDBLOK: Functies.R -->"
   ]
  },
  {
   "cell_type": "code",
   "execution_count": 1,
   "id": "de9101c0",
   "metadata": {
    "include": true,
    "lines_to_next_cell": 0,
    "message": false,
    "name": "functies",
    "results": "asis",
    "tags": [
     "remove_input"
    ],
    "warning": false
   },
   "outputs": [
    {
     "ename": "SyntaxError",
     "evalue": "invalid syntax (<ipython-input-1-924f26e6aa13>, line 2)",
     "output_type": "error",
     "traceback": [
      "\u001b[0;36m  File \u001b[0;32m\"<ipython-input-1-924f26e6aa13>\"\u001b[0;36m, line \u001b[0;32m2\u001b[0m\n\u001b[0;31m    if (!exists(\"Substitute_var\")) {\u001b[0m\n\u001b[0m        ^\u001b[0m\n\u001b[0;31mSyntaxError\u001b[0m\u001b[0;31m:\u001b[0m invalid syntax\n"
     ]
    }
   ],
   "source": [
    "library(here)\n",
    "if (!exists(\"Substitute_var\")) {\n",
    "  ## Installeer packages en functies\n",
    "  source(paste0(here::here(), \"/99. Functies en Libraries/00. Voorbereidingen.R\"), echo = FALSE)\n",
    "}"
   ]
  },
  {
   "cell_type": "markdown",
   "id": "d6425e01",
   "metadata": {
    "lines_to_next_cell": 0
   },
   "source": [
    "<!-- ## /CLOSEDBLOK: Functies.R -->\n",
    "\n",
    "<!-- ## CLOSEDBLOK: CSS -->\n",
    "<style>\n",
    "`r htmltools::includeHTML(paste0(here::here(),\"/01. Includes/css/Stylesheet_SHHO.css\"))`\n",
    "</style>\n",
    "<!-- ## /CLOSEDBLOK: CSS -->\n",
    "\n",
    "<!-- ## CLOSEDBLOK: Header.R -->"
   ]
  },
  {
   "cell_type": "code",
   "execution_count": null,
   "id": "4d931753",
   "metadata": {
    "code": "#R_CODE#readLines(paste0(here::here(),\"/01. Includes/code/Header.R\"))",
    "include": true,
    "lines_to_next_cell": 0,
    "name": "header",
    "results": "asis",
    "tags": [
     "remove_input"
    ]
   },
   "outputs": [],
   "source": []
  },
  {
   "cell_type": "markdown",
   "id": "b32ae2d5",
   "metadata": {
    "lines_to_next_cell": 0
   },
   "source": [
    "<!-- ## /CLOSEDBLOK: Header.R -->\n",
    "\n",
    "<!-- ## CLOSEDBLOK: Status.R -->"
   ]
  },
  {
   "cell_type": "code",
   "execution_count": null,
   "id": "f11e3686",
   "metadata": {
    "code": "#R_CODE#readLines(paste0(here::here(),\"/01. Includes/code/Status.R\"))",
    "include": true,
    "lines_to_next_cell": 0,
    "name": "status",
    "results": "asis",
    "tags": [
     "remove_input"
    ]
   },
   "outputs": [],
   "source": []
  },
  {
   "cell_type": "markdown",
   "id": "f68686cd",
   "metadata": {
    "lines_to_next_cell": 0
   },
   "source": [
    "<!-- ## /CLOSEDBLOK: Status.R -->\n",
    "\n",
    "<!-- ## CLOSEDBLOK: Reticulate.R -->\n",
    "\n",
    "<!-- ## /CLOSEDBLOK: Reticulate.R -->\n",
    "\n",
    "<!-- ## OPENBLOK: Data-aanmaken.R -->"
   ]
  },
  {
   "cell_type": "code",
   "execution_count": null,
   "id": "da89def6",
   "metadata": {
    "echo": true,
    "lines_to_next_cell": 0,
    "name": "aanmaken data",
    "tags": [
     "remove_cell"
    ]
   },
   "outputs": [],
   "source": [
    "source(paste0(here::here(),\"/01. Includes/data/20.R\"))"
   ]
  },
  {
   "cell_type": "markdown",
   "id": "20e419e1",
   "metadata": {},
   "source": [
    "<!-- ## /OPENBLOK: Data-aanmaken.R -->\n",
    "\n",
    "# Toepassing\n",
    "\n",
    "Gebruik *multilevel multinomiale logistische regressie* om te toetsen of er verschillen zijn op een nominale variabele tussen drie of meer herhaalde metingen van één groep of tussen drie of meer gepaarde groepen.[^1] "
   ]
  },
  {
   "cell_type": "markdown",
   "id": "1b6571ab",
   "metadata": {
    "lines_to_next_cell": 0
   },
   "source": [
    "# Onderwijscasus\n",
    "<div id = \"casus\">\n",
    "\n",
    "In de bachelor Psychologie kiezen studenten aan het einde van het eerste jaar een specialisatie voor jaar 2 en 3. Hierbij kunnen studenten kiezen uit de richtingen Klinische Neuropsychologie (KNP), Sociale Psychologie (SP), en Arbeids- en Organisatiepsychologie (AOP). De opleidingsdirecteur wil onderzoeken op welk moment in het eerste studiejaar studenten ontdekken welke specialisatie zij willen doen. Daarom start zij een experiment waarin ze aan een groep eerstejaars studenten vraagt om na elke onderwijsperiode aan te geven welke specialisatie ze op dat moment zouden kiezen. Met dit experiment kan zij ontdekken op welk moment in het eerste studiejaar studenten de keuze maken, maar ook in welke periode studenten van voorkeur veranderen. Op basis van deze analyse kan de opleidingsdirecteur onderzoeken op welk moment in het jaar er behoefte is aan voorlichting over de verschillende specialisaties in de bachelor Psychologie. \n",
    "\n",
    "Dit onderzoek vertaalt zich in de volgende combinatie van hypothesen, waarbij de nulhypothese zo geformuleerd is dat er geen effect of verschil is en de alternatieve hypothese zo geformuleerd is dat er wel een effect of verschil is.\n",
    "\n",
    "*H~0~*: Er is geen afhankelijkheid tussen de verschillende periodes en de keuze voor een specialisatie.\n",
    "\n",
    "*H~A~*: Er is een afhankelijkheid tussen de verschillende periodes en de keuze voor een specialisatie.\n",
    "</div>\n",
    "\n",
    "# Multilevel multinomiale logistische regressie\n",
    "\n",
    "*Multilevel multinomiale logistische regressie* is een techniek waarbij een nominale afhankelijke variabele wordt voorspeld met behulp van één of meerdere onafhankelijke variabelen.[^1] De term *multilevel* houdt in dat rekening wordt gehouden met de hiërarchische structuur in de data. Elke student wordt gemeten in vijf onderwijsperiodes, wat betekent dat de observaties gekoppeld zijn aan een bepaalde student. Om met deze hiërarchie rekening te houden, wordt de multilevel variant van *multinomiale logistische regressie* uitgevoerd.[^1]<sup>,</sup>[^12]<sup>,</sup>[^13]\n",
    "\n",
    "Om de hypothese te toetsen dat er geen afhankelijkheid bestaat tussen de keuze voor een specialisatie en de onderwijsperiodes worden twee regressiemodellen geschat. In het eerste model wordt de afhankelijke variabele specialisatie voorspeld met behulp van een student specifieke intercept. In het tweede model wordt worden de onderwijsperiodes als onafhankelijke variabele toegevoegd waardoor de afhankelijke variabele specialisatie wordt voorspeld met een student specifieke intercept en de onderwijsperiodes. Daarna worden beide modellen vergeleken waarbij in feite wordt getoetst of de toevoeging van de onderwijsperiodes zorgt voor een significante verbetering van het model. Bij een significant resultaat is er een afhankelijkheid tussen de onderwijsperiodes en de specialisatie. Bij een niet significant verschil resultaat is er geen afhankelijkheid.\n",
    "\n",
    "## Modellen\n",
    "\n",
    "In de eerste vergelijking wordt de afhankelijke variabele specialisatie voorspeld met behulp van een student specifieke intercept. Reden hiervoor is dat er op deze manier gecontroleerd wordt voor het feit dat de observaties gekoppeld zijn aan een bepaalde student, i.e. de hiërarchische structuur van de data. Het eerste model noemt men het *intercept-only model* en is als volgt geformuleerd[^2]:\n",
    "\n",
    "$$ Specialisatie_{it} = \\beta_{0i} + e_{it}$$\n",
    "\n",
    "met $t$ als indicator van de onderwijsperiode, $i$ als indicator van de student, de afhankelijke variabele $Specialisatie_{it}$ die aangeeft welke specialisatie gekozen is, $\\beta_{0i}$ als student specifiek intercept (vanwege de index $i$) en $e_{it}$ als residu. \n",
    "\n",
    "In het tweede regressiemodel wordt de specialisatie voorspeld met behulp van een student specifiek intercept en variabelen voor de onderwijsperiodes. In dit model wordt de keuze voor een specialisatie voorspeld op basis van de onderwijsperiodes en een student specifiek intercept. Het model is als volgt geformuleerd[^2]:\n",
    "\n",
    "$$ Specialisatie_{it} = \\beta_{0i} + \\beta_1*P_2 + \\beta_2*P_3 + \\beta_3*P_4 + \\beta_4*P_5 + e_{it}$$\n",
    "met $t$ als indicator van de onderwijsperiode, $i$ als indicator van de student, de afhankelijke variabele $Specialisatie_{it}$ die aangeeft welke specialisatie gekozen is, $\\beta_{0i}$ als student specifiek intercept (vanwege de index $i$), $P_2$ als variabele voor onderwijsperiode 2 met bijbehorende regressiecoefficient $\\beta_1$, $P_3$, $P_4$ en $P_5$ als variabelen voor respectievelijk onderwijsperiodes 3, 4 en 5  en $e_{it}$ als residu. \n",
    "\n",
    "Model 1 en model 2 zijn geneste modellen. Bij geneste modellen is het ene model te schrijven als een versie van het andere model na het verwijderen van een aantal predictors. In deze casus zijn beide modellen genest, omdat model 1 te schrijven is als een versie van model 2 na het verwijderen van alle onderwijsperiodes uit de regressie-vergelijking van model 2. Het model waarbij de predictors verwijderd zijn, wordt als het ware gereduceerd. Daarom wordt dit het gereduceerde model genoemd. Het model waar de predictors niet verwijderd zijn, wordt het uitgebreide model genoemd. Model 1 is dus het gereduceerde model; model 2 het uitgebreide model.[^11]\n",
    "\n",
    "## Likelihood ratio toets\n",
    "\n",
    "De hypothese van afhankelijkheid tussen de keuze voor een specialisatie en de onderwijsperiodes wordt getoetst door beide modellen met elkaar te vergelijken met een *likelihood ratio toets*. Een *likelihood ratio toets* toetst of het verschil tussen twee geneste modellen significant is op basis van de log-likelihood van de modellen. De log-likelihood van een model is een maat voor de kwaliteit van het model en wordt berekend door voorspellingen en observaties te vergelijken. Deze toets wordt bij regressie-analyses gebruikt als meerdere predictors tegelijkertijd toegevoegd worden. Een niet significant resultaat bij de *likelihood ratio toets* betekent dat er geen significante verschil is tussen het gereduceerde en uitgebreide model. In andere woorden, het uitbreiden van het model is geen significante toevoeging en het gereduceerde model volstaat. Een significant resultaat bij de *likelihood ratio toets* betekent dat er wel een significant verschil is tussen het gereduceerde en uitgebreide model. In dat geval is het uitgebreide model een betere representatie van de werkelijkheid en heeft de toevoeging van predictors waarde.[^11]\n",
    "\n",
    "De toetsstatistiek van de *likelihood ratio toets* is te berekenen als $- 2 * (LL_r - LL_u)$ waarin $LL_r$ de loglikelihood van het gereduceerde model is en $LL_u$ de loglikelihood van het uitgebreide model is. De toetsstatistiek volgt een chi-kwadraat verdeling met als aantal vrijheidsgraden het aantal predictors dat is verwijderd in het gereduceerde model.[^11] In dit geval zijn er vier predictors verwijderd. Echter, bij multinomiale logistische regressie moet dit getal vermenigvuldigd worden met het aantal categorieën van de afhankelijke variabele minus één.[^3] In deze casus zijn er drie categorieën (de drie specialisaties), dus wordt het aantal verwijderde predictors (vier) vermenigvuldigd met twee. Het aantal vrijheidsgraden bij de *likelihood ratio toets* is dus acht.\n",
    "\n",
    "Om de afhankelijkheid tussen de keuze voor een specialisatie en de onderwijsperiodes te toetsen, worden model 1 en model 2 met een *likelihood ratio toets* vergeleken. Een significant resultaat betekent dat de toevoeging van de onderwijsperiodes als predictors waarde heeft. Dit betekent dat de onderwijsperiodes gerelateerd zijn aan de keuze van de specialisatie en er dus een afhankelijkheid is tussen beide. In dat geval wordt de nulhypothese dat er geen afhankelijkheid is tussen de keuze van de specialisatie en de onderwijsperiodes verworpen. Een niet significant resultaat bij de *likelihood ratio toets* betekent dat toevoeging van de onderwijsperiodes als predictors geen waarde heeft. In dat geval kan de nulhypothese dat er geen afhankelijkheid is niet worden verworpen.\n",
    "\n",
    "# Assumpties\n",
    "\n",
    "Om een *multilevel multinomiale logistische regressie* uit te voeren, moeten de data aan een aantal voorwaarden voldoen. Er dient een categorische afhankelijke variabele te zijn met meer dan twee categorieën zonder overlap: elke observatie past slechts in een van beide categorieën. Daarnaast zijn er drie of meer herhaalde metingen van één groep of zijn er drie of meer gepaarde groepen. In beide gevallen zijn de observationele eenheden een willekeurige steekproef van de populatie.[^4]\n",
    "\n",
    "## Complete informatie\n",
    "Bij *multilevel multinomiale logistische regressie* is de keuze voor de specialisatie de afhankelijke variabele en de onderwijsperiode de onafhankelijke variabele. Om *multilevel multinomiale logistische regressie* uit te voeren, moet er voor elke combinatie van de afhankelijke variabele en onafhankelijke variabele minimaal één observatie zijn.[^13] Met betrekking tot deze casus betekent dat dat er minimaal één observatie is voor elke specialisatie in elke periode. Toets deze assumptie met behulp van een kruistabel: een tabel waarin de aantallen observaties worden weergegeven per combinatie van de categorieën van beide variabelen. Een voorbeeld van een kruistabel voor de huidige casus is te vinden in Tabel 1.   \n",
    "\n",
    "|          | Periode 1   | Periode 2 | Periode 3 | Periode 4 | Periode 5 | \n",
    "| -------- | ---------| ------------| -------------| -------------| -------------| \n",
    "| Arbeids- en organisatiepsychologie  | 20 |  10 |  10 |  5  |  5  |\n",
    "| Klinische neuropsychologie          | 20 |  30 |  40 |  40 |  45 |\n",
    "| Sociale psychologie                 | 20 |  20 |  10 |  15 |  10 |\n",
    "*Tabel 1. Geobserveerde aantallen per specialisatie in elke onderwijsperiode.*\n",
    "\n",
    "In Tabel 1 is te zien dat er voor elke combinatie van onderwijsperiode en specialisatie meer dan één observatie is. Dit betekent dat er aan de assumptie van complete informatie is voldaan.\n",
    "\n",
    "# Post-hoc toetsen\n",
    "\n",
    "Met *multilevel multinomiale logistische regressie* wordt getoetst of er een afhankelijkheid is tussen de keuze voor een specialisatie en de verschillende onderwijsperiodes. Voer een post-hoc toets uit om daarna te bepalen welke onderwijsperiodes van elkaar verschillen wat betreft de keuze voor specialisaties. Gebruik hiervoor de [Bhapkar toets](18-Bhapkar-toets-R.html) als post-hoc toets.[^6] \n",
    "\n",
    "Gebruik een correctie voor de p-waarden, omdat er meerdere toetsen tegelijkertijd worden gebruikt. Meerdere toetsen tegelijkertijd uitvoeren verhoogt de kans dat een van de nulhypotheses onterecht wordt verworpen en er bij toeval een verband wordt ontdekt dat er niet is (type I fout). In deze toetspagina wordt de *Bonferroni correctie* gebruikt. Deze correctie past de p-waarde aan door de p-waarde te vermenigvuldigen met het aantal uitgevoerde toetsen en verlaagt hiermee de kans op een type I fout.[^8] Een andere uitleg hiervan is dat het significantieniveau gedeeld wordt door het aantal toetsen wat leidt tot een lager significantieniveau en dus een strengere toets. Er zijn ook nog andere opties voor een correctie op de p-waarden.[^9] \n",
    "\n",
    "# De data bekijken\n",
    "<!-- ## TEKSTBLOK: Data-bekijken1.R -->\n",
    "Er is een dataset ingeladen genaamd `Data_Specialisatie`. In deze dataset is per onderwijsperiode aangegeven welke specialisatie de student kiest.\n",
    "<!-- ## /TEKSTBLOK: Data-bekijken1.R -->\n",
    "\n",
    "<!-- ## OPENBLOK: Data-bekijken2.R -->"
   ]
  },
  {
   "cell_type": "code",
   "execution_count": null,
   "id": "8ef441a6",
   "metadata": {
    "collapse": true,
    "lines_to_next_cell": 0,
    "name": "data bekijken"
   },
   "outputs": [],
   "source": [
    "## Eerste 6 observaties\n",
    "head(Data_Specialisatie)\n",
    "\n",
    "## Laatste 6 observaties\n",
    "tail(Data_Specialisatie)"
   ]
  },
  {
   "cell_type": "markdown",
   "id": "ce2464ab",
   "metadata": {
    "lines_to_next_cell": 0
   },
   "source": [
    "<!-- ## /OPENBLOK: Data-bekijken2.R -->\n",
    "\n",
    "<!-- ## TEKSTBLOK: Data-kruistabel1.R -->\n",
    "Een kruistabel geeft weer hoeveel eerstejaars studenten er kiezen voor een bepaalde specialisatie in elke onderwijsperiode. Maak de kruistabel met de functie `table()` met als argumenten de variabele `Data_Specialisatie$Specialisatie` die aangeeft welke specialisatie de student kiest en de variabele `Data_Specialisatie$Onderwijsperiode` die aangeeft in welke onderwijsperiode de observatie is gedaan. \n",
    "<!-- ## /TEKSTBLOK: Data-kruistabel1.R -->\n",
    "\n",
    "<!-- ## OPENBLOK: Data-kruistabel2.R -->"
   ]
  },
  {
   "cell_type": "code",
   "execution_count": null,
   "id": "b1a95ac5",
   "metadata": {
    "lines_to_next_cell": 0,
    "name": "kruistabel"
   },
   "outputs": [],
   "source": [
    "## Maak een kruistabel\n",
    "Specialisatie_kruistabel <- table(Data_Specialisatie$Specialisatie, Data_Specialisatie$Onderwijsperiode)\n",
    "\n",
    "## Print de kruistabel \n",
    "print(Specialisatie_kruistabel)"
   ]
  },
  {
   "cell_type": "markdown",
   "id": "f189c53c",
   "metadata": {
    "lines_to_next_cell": 0
   },
   "source": [
    "<!-- ## /OPENBLOK: Data-kruistabel2.R -->\n",
    "\n",
    "<!-- ## CLOSEDBLOK: Data-kruistabel3.R -->"
   ]
  },
  {
   "cell_type": "code",
   "execution_count": null,
   "id": "d11f7d0c",
   "metadata": {
    "echo": true,
    "lines_to_next_cell": 0,
    "name": "kruistabel2",
    "tags": [
     "remove_cell"
    ]
   },
   "outputs": [],
   "source": [
    "## Maak een kruistabel\n",
    "Specialisatie_kruistabel <- table(Data_Specialisatie$Specialisatie, Data_Specialisatie$Onderwijsperiode)"
   ]
  },
  {
   "cell_type": "markdown",
   "id": "78fb4db8",
   "metadata": {},
   "source": [
    "<!-- ## /CLOSEDBLOK: Data-kruistabel3.R -->\n",
    "\n",
    "De kruistabel laat zien dat alle drie de specialisaties even vaak door studenten zijn gekozen, maar dat dat daarna veranderd. In onderwijsperiode 5 kiezen de meeste studenten voor de specialisatie Klinische neuropsychologie."
   ]
  },
  {
   "cell_type": "markdown",
   "id": "e0886393",
   "metadata": {
    "lines_to_next_cell": 0
   },
   "source": [
    "# Uitvoering\n",
    "\n",
    "## Assumptie complete informatie\n",
    "\n",
    "Een assumptie bij *multilevel multinomiale logistische regressie* is dat er minimaal één observatie is voor elke combinatie van afhankelijke en onafhankelijke variabele. Toets deze assumptie door de kruistabel te controleren op het aantal observaties per cel. Maak de kruistabel met de functie `table()` met als argumenten de variabele `Data_Specialisatie$Specialisatie` die aangeeft welke specialisatie de student kiest en de variabele `Data_Specialisatie$Onderwijsperiode` die aangeeft in welke onderwijsperiode de observatie is gedaan.\n",
    "\n",
    "<!-- ## OPENBLOK: steekproefgrootte1.R -->"
   ]
  },
  {
   "cell_type": "code",
   "execution_count": null,
   "id": "1ffd94e8",
   "metadata": {
    "lines_to_next_cell": 0,
    "name": "ass kruistabel 2"
   },
   "outputs": [],
   "source": [
    "## Maak een kruistabel\n",
    "Specialisatie_kruistabel <- table(Data_Specialisatie$Specialisatie, Data_Specialisatie$Onderwijsperiode)\n",
    "\n",
    "## Print de kruistabel \n",
    "print(Specialisatie_kruistabel)"
   ]
  },
  {
   "cell_type": "markdown",
   "id": "95e23010",
   "metadata": {
    "lines_to_next_cell": 0
   },
   "source": [
    "<!-- ## /OPENBLOK: steekproefgrootte1.R -->\n",
    "\n",
    "Elke cel van de kruistabel heeft meerdere observaties. Dit betekent dat er voor elke combinatie van de afhankelijke en onafhankelijke variabele minimaal één observatie is. Er is dus aan de assumptie van complete informatie voldaan.\n",
    "\n",
    "## Multilevel multinomiale logistische regressie\n",
    "<!-- ## TEKSTBLOK: MMLR1.R -->\n",
    "Voer een *multilevel multinomiale logistische regressie* uit om te onderzoeken of er een afhankelijkheid is tussen de keuze voor de specialisatie en de onderwijsperiodes bij eerstejaars studenten van de bachelor Psychologie. Fit eerst het gereduceerde en uitgebreide model met behulp van de functie `brm()` van het `brms` package. Bereken daarna van beide modellen de log-likelihood. Voer tenslotte de *likelihood ratio toets* uit.\n",
    "\n",
    "Fit het gereduceerde model met de functie `brm()` met als argument `formula = Specialisatie ~ (1 | Studentnummer)` met daarin de afhankelijke variabele `specialisatie` en `(1 | Studentnummer)` om een student specifiek intercept in te stellen, `data = Data_Specialisatie` voor de gebruikte dataset, `family = \"categorical\"` om aan te geven dat de afhankelijke variabele nominaal is, een seed `seed = 12345` zodat de uitkomsten bij opnieuw runnen van de code hetzelfde zijn en `save_all_pars = TRUE` om de loglikelihood te berekenen. Voor de seed kan elk willekeurig getal gekozen worden, in deze casus is het getal 12345 gekozen.\n",
    "\n",
    "Fit het uitgebreide model met de functie `brm()` met als argument `formula = Specialisatie ~ Onderwijsperiode + (1 | Studentnummer)` met daarin de afhankelijke variabele `Specialisatie`, als onafhankelijke variabele `Onderwijsperiode` en `(1 | Studentnummer)` om een student specifiek intercept in te stellen, `data = Data_Specialisatie` voor de gebruikte dataset, `family = \"categorical\"` om aan te geven dat de afhankelijke variabele nominaal is, een seed `seed = 12345` zodat de uitkomsten bij opnieuw runnen van de code hetzelfde zijn en `save_all_pars = TRUE` om de loglikelihood te berekenen.Voor de seed kan elk willekeurig getal gekozen worden, in deze casus is het getal 12345 gekozen.\n",
    "\n",
    "Bereken daarna de loglikelihood voor beide modellen met de zelfgemaakte functie `Loglikelihood_Functie` en voer de *likelihood ratio toets* uit. \n",
    "\n",
    "<!-- ## /TEKSTBLOK: MMLR1.R -->\n",
    "\n",
    "<!-- ## OPENBLOK: MMLR2.R -->"
   ]
  },
  {
   "cell_type": "code",
   "execution_count": null,
   "id": "84e97d52",
   "metadata": {
    "lines_to_next_cell": 0,
    "message": false,
    "name": "brms",
    "warning": false
   },
   "outputs": [],
   "source": [
    "library(brms)"
   ]
  },
  {
   "cell_type": "code",
   "execution_count": null,
   "id": "5e4557cb",
   "metadata": {
    "cache": true,
    "lines_to_next_cell": 0,
    "message": false,
    "tags": [
     "remove_output"
    ]
   },
   "outputs": [],
   "source": [
    "# Stel model 1 op: student specifiek intercept\n",
    "Model_1 <- \"Specialisatie ~ (1 | Studentnummer)\"\n",
    "\n",
    "# Stel model 2 op: student specifiek intercept plus onderwijsperiodes\n",
    "Model_2 <- \"Specialisatie ~ Onderwijsperiode + (1 | Studentnummer)\"\n",
    "\n",
    "# Fit het gereduceerde model: student specifiek intercept\n",
    "Fit_1 <- brm(formula = Model_1,\n",
    "           data = Data_Specialisatie, \n",
    "           family = \"categorical\",\n",
    "           seed = 12345, save_all_pars = TRUE)\n",
    "\n",
    "# Fit het uitgebeide model: student specifiek intercept plus onderwijsperiodes\n",
    "Fit_2 <- brm(formula = Model_2, \n",
    "           data = Data_Specialisatie, \n",
    "           family = \"categorical\",\n",
    "           seed = 12345, save_all_pars = TRUE)"
   ]
  },
  {
   "cell_type": "code",
   "execution_count": null,
   "id": "3c8ddde8",
   "metadata": {
    "cache": true,
    "lines_to_next_cell": 0
   },
   "outputs": [],
   "source": [
    "# Maak een functie om de loglikelihood voor een model te berekenen\n",
    "LogLikelihood_Functie <- function(fit){\n",
    "  # Sla de matrix met loglikelihood samples op\n",
    "  LL1 <- log_lik(fit)\n",
    "  # Neem de exponent om de likelihood in plaats van de loglikelihood te krijgen\n",
    "  LL2 <- exp(LL1)\n",
    "  # Bereken de gemiddelde likelihood per kolom (per student) met colMeans\n",
    "  LL3 <- colMeans(LL2)\n",
    "  # Neem logaritme om terug te gaan naar de log-likelihood\n",
    "  LL4 <- log(LL3)\n",
    "  # Neem de som zodat je de loglikelihood voor alle studenten krijgt\n",
    "  LL5 <- sum(LL4)\n",
    "  # Retourneer de loglikelihood\n",
    "  return(LL5)\n",
    "}\n",
    "\n",
    "# Bereken de loglikelihood voor beide modellen\n",
    "Loglikelihood_Model_1 <- LogLikelihood_Functie(Fit_1)\n",
    "Loglikelihood_Model_2 <- LogLikelihood_Functie(Fit_2)\n",
    "\n",
    "# Bereken de toetsstatistiek van de likelihood ratio toets\n",
    "Toetsstatistiek <- -2 * (Loglikelihood_Model_1 - Loglikelihood_Model_2)\n",
    "\n",
    "# Stel het aantal predictors in dat is verwijderd bij het gereduceerde model\n",
    "Vrijheidsgraden <- 8\n",
    "\n",
    "# Bereken de p-waarde\n",
    "p_waarde <- 1 - pchisq(Toetsstatistiek, df = Vrijheidsgraden)\n",
    "\n",
    "# Print de toetsstatistiek en de p-waarde\n",
    "Toetsstatistiek\n",
    "p_waarde"
   ]
  },
  {
   "cell_type": "markdown",
   "id": "928f5b12",
   "metadata": {},
   "source": [
    "<!-- ## /OPENBLOK: MMLR2.R -->\n"
   ]
  },
  {
   "cell_type": "markdown",
   "id": "2ab66ec1",
   "metadata": {},
   "source": [
    "<!-- ## TEKSTBLOK: MMLR4.R -->\n",
    "* &chi;^2^ ~8~ = `r Round_and_format(Toetsstatistiek)`, *df* = 8, *p* < 0,0001\n",
    "* Vrijheidsgraden: *df* = *p*(*c*-1), waar *p* staat voor het aantal verwijderde predictors en *c* voor het aantal categorieën van de afhankelijke variabele. In dit geval is *df* = 4(3 - 1) = 8.  \n",
    "* p-waarde < 0,05, dus de H~0~ wordt verworpen.[^10]\n",
    "* Er is een afhankelijkheid tussen de onderwijsperiodes en de keuze voor de specialisatie.\n",
    "\n",
    "<!-- ## /TEKSTBLOK: MMLR4.R -->"
   ]
  },
  {
   "cell_type": "markdown",
   "id": "5ecaccff",
   "metadata": {},
   "source": [
    "## Post-hoc toets\n",
    "\n",
    "<!-- ## TEKSTBLOK: posthoc1.R -->\n",
    "Voer post-hoc toetsen uit om te onderzoeken tussen welke onderwijsperiodes er verschillen zijn in de verdeling van de keuzes voor de specialisaties van de eerstejaars studenten Psychologie. Gebruik de [Bhapkar toets](18-Bhapkar-toets-R.html) als post-hoc toets. \n",
    "\n",
    "Voer de post-hoc toetsen uit met de functie `bhapkar()` van het package `irr` met als argument `cbind(P1, P2)` waarin `P1` de vector met de gekozen specialisaties in onderwijsperiode 1 is en `P2` de vector met de gekozen specialisaties in onderwijsperiode 2 is. Maak hiervoor eerst een vector aan met de gekozen specialisaties in elke onderwijsperiode en voer daarna voor elke combinatie van onderwijsperiodes een post-hoc toets uit. Voer de Bonferroni correctie uit door het significantieniveau te delen door het aantal uitgevoerde toetsen. Het significatieniveau voor deze post-hoc toetsen wordt dan 0,05 / 10 ≈ 0,005. Vergelijk de p-waarden van de [Bhapkar toets](18-Bhapkar-toets-R.html) daarna met dit significantieniveau. \n",
    "\n",
    "<!-- ## /TEKSTBLOK: posthoc1.R -->"
   ]
  },
  {
   "cell_type": "markdown",
   "id": "ee67a9a7",
   "metadata": {
    "lines_to_next_cell": 0
   },
   "source": [
    "<!-- ## OPENBLOK: posthoc2.R -->"
   ]
  },
  {
   "cell_type": "code",
   "execution_count": null,
   "id": "eb6cfdee",
   "metadata": {
    "lines_to_next_cell": 0,
    "name": "mcnemar"
   },
   "outputs": [],
   "source": [
    "## Laad het package van de Bhapkar toets in\n",
    "library(irr)\n",
    "\n",
    "## Sla de voorlopige en definitieve BSA-adviezen op in een vector\n",
    "P1 <- Data_Specialisatie$Specialisatie[Data_Specialisatie$Onderwijsperiode == \"P1\"]\n",
    "P2 <- Data_Specialisatie$Specialisatie[Data_Specialisatie$Onderwijsperiode == \"P2\"]\n",
    "P3 <- Data_Specialisatie$Specialisatie[Data_Specialisatie$Onderwijsperiode == \"P3\"]\n",
    "P4 <- Data_Specialisatie$Specialisatie[Data_Specialisatie$Onderwijsperiode == \"P4\"]\n",
    "P5 <- Data_Specialisatie$Specialisatie[Data_Specialisatie$Onderwijsperiode == \"P5\"]\n",
    "\n",
    "## Voer de Bhapkar toets uit voor alle combinaties van onderwijsperiodes\n",
    "bhapkar(cbind(P1, P2))\n",
    "bhapkar(cbind(P1, P3))\n",
    "bhapkar(cbind(P1, P4))\n",
    "bhapkar(cbind(P1, P5))\n",
    "bhapkar(cbind(P2, P3))\n",
    "bhapkar(cbind(P2, P4))\n",
    "bhapkar(cbind(P2, P5))\n",
    "bhapkar(cbind(P3, P4))\n",
    "bhapkar(cbind(P3, P5))\n",
    "bhapkar(cbind(P4, P5))"
   ]
  },
  {
   "cell_type": "markdown",
   "id": "783eedaf",
   "metadata": {
    "lines_to_next_cell": 0
   },
   "source": [
    "<!-- ## /OPENBLOK: posthoc2.R -->\n",
    "\n",
    "<!-- ## CLOSEDBLOK: posthoc3.R -->"
   ]
  },
  {
   "cell_type": "code",
   "execution_count": null,
   "id": "502de5a9",
   "metadata": {
    "echo": true,
    "lines_to_next_cell": 0,
    "name": "dd",
    "tags": [
     "remove_cell"
    ]
   },
   "outputs": [],
   "source": [
    "## Laad het package van de Bhapkar toets in\n",
    "library(irr)\n",
    "\n",
    "## Sla de voorlopige en definitieve BSA-adviezen op in een vector\n",
    "P1 <- Data_Specialisatie$Specialisatie[Data_Specialisatie$Onderwijsperiode == \"P1\"]\n",
    "P2 <- Data_Specialisatie$Specialisatie[Data_Specialisatie$Onderwijsperiode == \"P2\"]\n",
    "P3 <- Data_Specialisatie$Specialisatie[Data_Specialisatie$Onderwijsperiode == \"P3\"]\n",
    "P4 <- Data_Specialisatie$Specialisatie[Data_Specialisatie$Onderwijsperiode == \"P4\"]\n",
    "P5 <- Data_Specialisatie$Specialisatie[Data_Specialisatie$Onderwijsperiode == \"P5\"]\n",
    "\n",
    "## Voer de Bhapkar toets uit voor alle combinaties van onderwijsperiodes\n",
    "PH_P1_P3 <-  bhapkar(cbind(P1, P3))\n",
    "PH_P1_P4 <-  bhapkar(cbind(P1, P4))\n",
    "PH_P1_P5 <-  bhapkar(cbind(P1, P5))\n"
   ]
  },
  {
   "cell_type": "markdown",
   "id": "b5aba8cd",
   "metadata": {},
   "source": [
    "<!-- ## /CLOSEDBLOK: posthoc3.R -->\n",
    "\n",
    "<!-- ## TEKSTBLOK: posthoc4.R -->\n",
    "* Er zijn significante verschillen gevonden tussen de verdeling van de keuzes voor specialisaties tussen onderwijsperiode 1 en 3 (*&chi;^2^ ~2~* = `r Round_and_format(PH_P1_P3$statistic)`, *p* < 0,001), onderwijsperiode 1 en 4 (*&chi;^2^ ~2~* = `r Round_and_format(PH_P1_P4$statistic)`, *p* < 0,001) en onderwijsperiode 1 en 5 (*&chi;^2^ ~2~* = `r Round_and_format(PH_P1_P5$statistic)`, *p* < 0,0001). \n",
    "* Tussen de overige onderwijsperiodes is geen significant verschil gevonden wat betreft de verdeling van keuzes voor specialisaties.\n",
    "\n",
    "<!-- ## TEKSTBLOK: posthoc4.R -->\n"
   ]
  },
  {
   "cell_type": "markdown",
   "id": "dd95a7ec",
   "metadata": {},
   "source": [
    "# Rapportage\n",
    "\n",
    "<!-- ## TEKSTBLOK: rapportage2.R -->\n",
    "\n",
    "Een *multilevel multinomiale logistische regressie* is uitgevoerd om te onderzoeken of er een afhankelijkheid is tussen de onderwijsperiode en de keuze voor een specialisatie van eerstejaars studenten van de bachelor psychologie. De verdeling van de keuzes voor de specialisaties in de verschillende onderwijsperiodes is weergegeven in Tabel 2. De nulhypothese dat er geen afhankelijkheid tussen onderwijsperiode en keuze voor specialisatie is kan verworpen worden, &chi;^2^ ~8~ = `r Round_and_format(Toetsstatistiek)`, *df* = 8, *p* < 0,0001. Er zijn dus verschillen in de verdeling van de keuze voor specialisaties tussen de verschillende onderwijsperiodes.\n",
    "\n",
    "Om te bepalen tussen welke onderwijsperiodes deze percentages verschillen, is de [Bhapkar toets](18-Bhapkar-toets-R.html) als post-hoc toets uitgevoerd met een Bonferroni correctie voor meerdere toetsen. Uit de post-hoc toetsen blijkt dat er alleen significante verschillen zijn gevonden tussen de verdeling van de keuzes voor specialisaties tussen onderwijsperiode 1 en 3 (*&chi;^2^ ~2~* = `r Round_and_format(PH_P1_P3$statistic)`, *p* < 0,001), onderwijsperiode 1 en 4 (*&chi;^2^ ~2~* = `r Round_and_format(PH_P1_P4$statistic)`, *p* < 0,001) en onderwijsperiode 1 en 5 (*&chi;^2^ ~2~* = `r Round_and_format(PH_P1_P5$statistic)`, *p* < 0,0001). De frequenties in Tabel 2 lijken te suggereren dat in onderwijsperiode 1 alle specialisaties even vaak gekozen worden en dat er vanaf onderwijsperiode 3 afwijkingen hiervan ontstaan waarbij Klinische neuropsychologie het populairst is.\n",
    "<!-- ## /TEKSTBLOK: rapportage2.R -->\n"
   ]
  },
  {
   "cell_type": "markdown",
   "id": "10294ba2",
   "metadata": {},
   "source": [
    "|          | Periode 1   | Periode 2 | Periode 3 | Periode 4 | Periode 5 | \n",
    "| -------- | ---------| ------------| -------------| -------------| -------------| \n",
    "| Arbeids- en organisatiepsychologie  | 20 |  10 |  10 |  5  |  5  |\n",
    "| Klinische neuropsychologie          | 20 |  30 |  40 |  40 |  45 |\n",
    "| Sociale psychologie                 | 20 |  20 |  10 |  15 |  10 |\n",
    "*Tabel 2. Geobserveerde aantallen per specialisatie in elke onderwijsperiode.*\n"
   ]
  },
  {
   "cell_type": "markdown",
   "id": "a39b1a0c",
   "metadata": {
    "lines_to_next_cell": 0
   },
   "source": [
    "<!-- ## CLOSEDBLOK: Footer.R -->"
   ]
  },
  {
   "cell_type": "code",
   "execution_count": null,
   "id": "073527a5",
   "metadata": {
    "code": "#R_CODE#readLines(paste0(here::here(),\"/01. Includes/code/Footer.R\"))",
    "include": true,
    "lines_to_next_cell": 0,
    "name": "footer",
    "results": "asis",
    "tags": [
     "remove_input"
    ]
   },
   "outputs": [],
   "source": []
  },
  {
   "cell_type": "markdown",
   "id": "e1befbe6",
   "metadata": {},
   "source": [
    "<!-- ## /CLOSEDBLOK: Footer.R -->\n",
    "\n",
    "[^1]: Hox, J. J., Moerbeek, M., & Van de Schoot, R. (2010). Multilevel analysis: Techniques and applications. Routledge.\n",
    "[^2]: Om precies te zijn wordt de logaritme van de kans dat de observatie in categorie $i$ valt gedeeld door de kans dat de observatie in de referentiecategorie $ref$ valt, i.e. $\\log(\\frac{\\pi_i}{\\pi_{ref}})$. Er wordt een aparte vergelijking voor alle categorieën ten opzichte van de referentiecategorie geschat. Dus er zijn in feite meerdere regressievergelijkingen die geschat worden. \n",
    "[^3]: Bij multinomiale logistische regressie bestaat de afhankelijke variabele uit meer dan twee categorieën. Daarom wordt de kans voorspeld dat een observatie in een categorie valt ten opzichte van een referentiecategorie. De referentiecategorie is voor alle andere categorieën hetzelfde. Er worden dus meerdere regressievergelijkingen geschat, om precies te zijn het aantal categorieën minus één (dat is de referentiecategorie). Daarom wordt het aantal verwijderde predictors vermenigvuldigd met dit aantal.\n",
    "[^4]: Laerd Statistics (2018). *Multinomial Logistic Regression using SPSS Statistics*. https://statistics.laerd.com/spss-tutorials/multinomial-logistic-regression-using-spss-statistics.php\n",
    "[^8]: Statistics How To (12 oktober 2015). *Benjamini-Hochberg Procedure*. [Statistics How to](https://www.statisticshowto.datasciencecentral.com/benjamini-hochberg-procedure/). \n",
    "[^9]: Field, A., Miles, J., & Field, Z. (2012). *Discovering statistics using R*. London: Sage publications.\n",
    "[^10]: In dit voorbeeld wordt uitgegaan van een waarschijnlijkheid van 95% c.q. een p-waardegrens van 0,05. De grens is naar eigen inzicht aan te passen; houd hierbij rekening met type I en type II fouten. \n",
    "[^11]: Stat 504. *6.2.3 - More on Goodness-of-Fit and Likelihood ratio tests*. [PennState Eberly College of Science](https://online.stat.psu.edu/stat504/node/220/).\n",
    "[^12]: Stat 504. *8.1 - Polytomous (Multinomial) Logistic Regression*. [PennState Eberly College of Science](https://online.stat.psu.edu/stat504/node/172/).\n",
    "[^13]: Stat 504. *8.2 - Baseline-Category Logit Model*. [PennState Eberly College of Science](https://online.stat.psu.edu/stat504/node/173/).\n",
    "[^19]: Met een deelnemer wordt het object bedoeld dat geobserveerd wordt, bijvoorbeeld een student, een inwoner van Nederland, een opleiding of een organisatie. Met een observatie wordt de waarde bedoeld die de deelnemer heeft voor een bepaalde variabele. Een deelnemer heeft dus meestal een observatie voor meerdere variabelen."
   ]
  }
 ],
 "metadata": {
  "jupytext": {
   "cell_metadata_filter": "cache,message,tags,name,warning,echo,code,results,collapse,include,-all",
   "main_language": "R",
   "notebook_metadata_filter": "-all"
  },
  "language_info": {
   "codemirror_mode": {
    "name": "ipython",
    "version": 3
   },
   "file_extension": ".py",
   "mimetype": "text/x-python",
   "name": "python",
   "nbconvert_exporter": "python",
   "pygments_lexer": "ipython3",
   "version": "3.8.10"
  }
 },
 "nbformat": 4,
 "nbformat_minor": 5
}