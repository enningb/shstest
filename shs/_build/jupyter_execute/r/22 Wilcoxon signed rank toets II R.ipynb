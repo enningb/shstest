{
 "cells": [
  {
   "cell_type": "raw",
   "id": "4740f185",
   "metadata": {},
   "source": [
    "---\n",
    "title: \"Wilcoxon signed rank toets\"\n",
    "output:\n",
    "  html_document:\n",
    "    theme: lumen\n",
    "    toc: yes\n",
    "    toc_depth: 2\n",
    "    toc_float: \n",
    "      collapsed: FALSE \n",
    "    number_sections: true\n",
    "    includes:\n",
    "      in_header: [\"../01. Includes/html/nocache.html\", \"../01. Includes/html/favicon.html\", \"../01. Includes/html/analytics.html\"]\n",
    "  keywords: [statistisch handboek, studiedata]\n",
    "---"
   ]
  },
  {
   "cell_type": "markdown",
   "id": "cdb80483",
   "metadata": {
    "lines_to_next_cell": 0
   },
   "source": [
    "<!-- ## CLOSEDBLOK: Functies.R -->"
   ]
  },
  {
   "cell_type": "code",
   "execution_count": 1,
   "id": "3064f15f",
   "metadata": {
    "include": true,
    "lines_to_next_cell": 0,
    "message": false,
    "name": "functies",
    "results": "asis",
    "tags": [
     "remove_input"
    ],
    "warning": false
   },
   "outputs": [
    {
     "ename": "SyntaxError",
     "evalue": "invalid syntax (<ipython-input-1-924f26e6aa13>, line 2)",
     "output_type": "error",
     "traceback": [
      "\u001b[0;36m  File \u001b[0;32m\"<ipython-input-1-924f26e6aa13>\"\u001b[0;36m, line \u001b[0;32m2\u001b[0m\n\u001b[0;31m    if (!exists(\"Substitute_var\")) {\u001b[0m\n\u001b[0m        ^\u001b[0m\n\u001b[0;31mSyntaxError\u001b[0m\u001b[0;31m:\u001b[0m invalid syntax\n"
     ]
    }
   ],
   "source": [
    "library(here)\n",
    "if (!exists(\"Substitute_var\")) {\n",
    "  ## Installeer packages en functies\n",
    "  source(paste0(here::here(), \"/99. Functies en Libraries/00. Voorbereidingen.R\"), echo = FALSE)\n",
    "}"
   ]
  },
  {
   "cell_type": "markdown",
   "id": "beec5e09",
   "metadata": {
    "lines_to_next_cell": 0
   },
   "source": [
    "<!-- ## /CLOSEDBLOK: Functies.R -->\n",
    "\n",
    "<!-- ## CLOSEDBLOK: CSS -->\n",
    "<style>\n",
    "`r htmltools::includeHTML(paste0(here::here(),\"/01. Includes/css/Stylesheet_SHHO.css\"))`\n",
    "</style>\n",
    "<!-- ## /CLOSEDBLOK: CSS -->\n",
    "\n",
    "<!-- ## CLOSEDBLOK: Header.R -->"
   ]
  },
  {
   "cell_type": "code",
   "execution_count": null,
   "id": "084da1da",
   "metadata": {
    "code": "#R_CODE#readLines(paste0(here::here(),\"/01. Includes/code/Header.R\"))",
    "include": true,
    "lines_to_next_cell": 0,
    "name": "header",
    "results": "asis",
    "tags": [
     "remove_input"
    ]
   },
   "outputs": [],
   "source": []
  },
  {
   "cell_type": "markdown",
   "id": "e5c97ccf",
   "metadata": {
    "lines_to_next_cell": 0
   },
   "source": [
    "<!-- ## /CLOSEDBLOK: Header.R -->\n",
    "\n",
    "<!-- ## CLOSEDBLOK: Status.R -->"
   ]
  },
  {
   "cell_type": "code",
   "execution_count": null,
   "id": "c0213fbb",
   "metadata": {
    "code": "#R_CODE#readLines(paste0(here::here(),\"/01. Includes/code/Status.R\"))",
    "include": true,
    "lines_to_next_cell": 0,
    "name": "status",
    "results": "asis",
    "tags": [
     "remove_input"
    ]
   },
   "outputs": [],
   "source": []
  },
  {
   "cell_type": "markdown",
   "id": "e3b4ff60",
   "metadata": {
    "lines_to_next_cell": 0
   },
   "source": [
    "<!-- ## /CLOSEDBLOK: Status.R -->\n",
    "\n",
    "<!-- ## CLOSEDBLOK: Reticulate.R -->\n",
    "\n",
    "<!-- ## /CLOSEDBLOK: Reticulate.R -->\n",
    "\n",
    "<!-- ## OPENBLOK: Data-aanmaken.R -->"
   ]
  },
  {
   "cell_type": "code",
   "execution_count": null,
   "id": "5fee0f96",
   "metadata": {
    "echo": true,
    "lines_to_next_cell": 0,
    "name": "aanmaken data",
    "tags": [
     "remove_cell"
    ]
   },
   "outputs": [],
   "source": [
    "source(paste0(here::here(),\"/01. Includes/data/22.R\"))"
   ]
  },
  {
   "cell_type": "markdown",
   "id": "1ea9a5c0",
   "metadata": {
    "lines_to_next_cell": 0
   },
   "source": [
    "<!-- ## /OPENBLOK: Data-aanmaken.R -->\n",
    "\n",
    "# Toepassing\n",
    "Gebruik de *Wilcoxon signed rank toets* om te toetsen of twee gepaarde groepen van elkaar verschillen op een ordinale[^10] variabele. Als de variabele beter als nominaal[^11] beschouwd kan worden, is de *McNemar toets* een alternatief. Bij de *McNemar toets* wordt echter geen rekening gehouden met de ordening van de categorieën van de ordinale variabele: de variabele wordt behandeld als een nominale variabele.\n",
    "\n",
    "# Onderwijscasus\n",
    "<div id =\"casus\">\n",
    "De hoofddocent van het vak ‘Speech schrijven’ van de bachelor Politicologie is benieuwd naar de effectiviteit van zijn eigen vak. Daarom laat hij studenten bij de eerste bijeenkomst van het vak een speech schrijven die zij beoordeelt als onvoldoende, voldoende, goed of uitstekend. Gedurende het vak leren studenten het schrijven van speeches vanuit verschillende perspectieven. Aan het einde van het vak schrijven studenten wederom een speech die op dezelfde wijze door de hoofddocent beoordeeld wordt. Op deze manier kan hij onderzoeken of zijn lessen ervoor zorgen dat studenten beter worden in het schrijven van speeches.\n",
    "\n",
    "Dit onderzoek vertaalt zich in de volgende combinatie van hypothesen, waarbij de nulhypothese zo geformuleerd is dat er geen effect of verschil is en de alternatieve hypothese zo geformuleerd is dat er wel een effect of verschil is.\n",
    "\n",
    "*H~0~*: Er is geen verschil tussen de (som van rangschikkingen van de) beoordelingen van de speeches geschreven door studenten aan het begin en aan het eind van het vak.\n",
    "\n",
    "*H~A~*: Er is een verschil tussen de (som van rangschikkingen van de) beoordelingen van de speeches geschreven door studenten aan het begin en aan het eind van het vak. De beoordelingen zijn hoger voor een van de twee meetmomenten.\n",
    " \n",
    "</div>\n",
    "\n",
    "# Assumpties\n",
    "\n",
    "Het meetniveau van de afhankelijke variabele is ordinaal[^10] of continu.[^1] In deze toetspagina staat een casus met ordinale data centraal; een casus met continue data met bijbehorende uitwerking zijn te vinden in [de Wilcoxon signed rank toets I](07-Wilcoxon-signed-rank-toets-I-R.html).\n",
    "\n",
    "Om de *Wilcoxon signed rank toets* uit te voeren met een ordinale afhankelijke variabele, moet deze variabele omgezet worden in getallen. Wanneer er vier categorieën zijn, worden ze genummerd van 1 tot en met 4 op basis van de ordening van de variabele. De categorieën onvoldoende, voldoende, goed en uitstekend worden dan omgezet in respectievelijk 1, 2, 3 en 4. Met behulp van deze getallen worden verschilscores berekend per deelnemer[^19]. Een persoon die van voldoende naar uitstekend gaat, krijgt als verschilscore 2. Hierbij wordt impliciet aangenomen dat de afstand tussen alle categorieën even groot is. In andere woorden, het verschil tussen onvoldoende en voldoende is even groot als het verschil tussen voldoende en goed en tussen goed en uitstekend. Bij de [Bhapkar toets](18-Bhapkar-toets-R.html) wordt deze aanname niet gedaan, maar wordt de ordinale variabele als nominaal[^11] beschouwd. De *Wilcoxon signed rank toets* maakt een rangschikking van de absolute waarden van de verschilscores en telt vervolgens de rangschikkingen op voor de positieve en negatieve verschilscores. Het verschil tussen de som van de positieve en negatieve rangschikkingen bepaalt de significantie van de toets.  \n",
    "\n",
    "# Effectmaat\n",
    "\n",
    "De p-waarde geeft aan of een (mogelijk) verschil tussen twee groepen significant is. De grootte van het verschil of effect is echter ook relevant. Een effectmaat is een gestandaardiseerde maat die de grootte van een effect weergeeft, zodat effecten van verschillende onderzoeken met elkaar vergeleken kunnen worden.[^6] \n",
    "\n",
    "De *Wilcoxon signed rank toets* heeft als effectmaat *r*. Een indicatie om *r* te interpreteren is: rond 0,1 is het een klein effect, rond 0,3 is het een gemiddeld effect en rond 0,5 is het een groot effect.[^8] De effectmaat *r* wordt voor de *Wilcoxon signed rank toets* berekend door de *z*-waarde behorend bij de p-waarde van de toets te delen door de wortel van het aantal deelnemers, i.e. $\\frac{z}{\\sqrt{N}}$.[^8] Een correlatie tussen twee variabelen wordt vaak ook aangeduid met het symbool *r*. Beide zijn effectmaten, maar er is verder geen verband tussen de correlatie en de effectmaat van de *Wilcoxon signed rank toets*.\n",
    "\n",
    "# Uitvoering\n",
    "\n",
    "## De data bekijken\n",
    "<!-- ## TEKSTBLOK: Data-bekijken.R -->\n",
    "Er is data ingeladen met de beoordeling van studenten van het vak 'Speech schrijven' aan het begin en eind van het vak. Gebruik `head()` en `tail()` om de structuur van de data te bekijken.\n",
    "<!-- ## /TEKSTBLOK: Data-bekijken.R -->\n",
    "\n",
    "<!-- ## OPENBLOK: Data-bekijken.R -->"
   ]
  },
  {
   "cell_type": "code",
   "execution_count": null,
   "id": "95dc01bc",
   "metadata": {
    "collapse": true,
    "lines_to_next_cell": 0,
    "name": "data bekijken"
   },
   "outputs": [],
   "source": [
    "## Eerste 6 observaties\n",
    "head(Beoordelingen_speech_schrijven)\n",
    "\n",
    "## Laatste 6 observaties\n",
    "tail(Beoordelingen_speech_schrijven)"
   ]
  },
  {
   "cell_type": "markdown",
   "id": "249df066",
   "metadata": {},
   "source": [
    "<!-- ## /OPENBLOK: Data-bekijken.R -->\n",
    "\n",
    "<!-- ## TEKSTBLOK: Data-kruistabel1.R -->\n",
    "Een kruistabel geeft de aantallen observaties weer voor de combinaties van de categorieën van de variabelen `Meetmoment` en `Beoordeling`. In feite laat dit zien welke beoordelingen studenten krijgen aan het begin en eind van de cursus. Maak de kruistabel met de functie `table()` met als argumenten de variabele `Beoordelingen_speech_schrijven$Meetmoment`, die weergeeft of de speech aan het begin of eind van de cursus is geschreven en de variabele `Beoordelingen_speech_schrijven$Beoordeling` die de beoordeling weergeeft.\n",
    "<!-- ## /TEKSTBLOK: Data-kruistabel1.R -->\n",
    "\n",
    "<!-- ## OPENBLOK: Data-kruistabel2.R -->"
   ]
  },
  {
   "cell_type": "code",
   "execution_count": null,
   "id": "3dc2c0b8",
   "metadata": {
    "lines_to_next_cell": 0,
    "name": "kruistabel"
   },
   "outputs": [],
   "source": [
    "## Maak een kruistabel\n",
    "Beoordelingen_kruistabel <- table(Beoordelingen_speech_schrijven$Meetmoment, Beoordelingen_speech_schrijven$Beoordeling)\n",
    "\n",
    "## Bepaal de volgorde van de beoordelingen\n",
    "Volgorde <- c(\"Onvoldoende\", \"Voldoende\", \"Goed\", \"Uitstekend\")\n",
    "\n",
    "## Print de kruistabel \n",
    "print(Beoordelingen_kruistabel[,Volgorde])\n",
    "\n",
    "## Print een tabel met proporties; het tweede argument `1` zorgt ervoor dat de \n",
    "## proporties per kolom berekend worden\n",
    "prop.table(Beoordelingen_kruistabel[,Volgorde], 1)"
   ]
  },
  {
   "cell_type": "markdown",
   "id": "fb5e3c4a",
   "metadata": {
    "lines_to_next_cell": 0
   },
   "source": [
    "<!-- ## /OPENBLOK: Data-kruistabel2.R -->\n",
    "\n",
    "De kruistabel laat zien dat er aan het eind van het vak meer speeches als goed en uitstekend worden beoordeeld en minder speeches als onvoldoende of voldoende. Dit is ook te zien in de kruistabel met proporties.\n",
    "\n",
    "Naast de kruistabel, is de confusiematrix ook relevant om te bekijken. Bij een confusiematrix worden de beoordelingen van studenten aan het begin en eind van de cursus tegen elkaar uitgezet. Sla daarom de variabele `Beoordeling` apart op in twee vectoren: een voor het begin van het vak en een voor het eind. Maak daarna de confusiematrix.\n",
    "\n",
    "<!-- ## OPENBLOK: Data-beschrijven.R -->"
   ]
  },
  {
   "cell_type": "code",
   "execution_count": null,
   "id": "1b1d4f2b",
   "metadata": {
    "lines_to_next_cell": 0,
    "name": "data aanmaken"
   },
   "outputs": [],
   "source": [
    "## Definieer de groepen\n",
    "Begin <- Beoordelingen_speech_schrijven$Beoordeling[Beoordelingen_speech_schrijven$Meetmoment == \"Begin\"]\n",
    "Eind <- Beoordelingen_speech_schrijven$Beoordeling[Beoordelingen_speech_schrijven$Meetmoment == \"Eind\"]\n",
    "\n",
    "## Bepaal de volgorde van de beoordelingen\n",
    "Volgorde <- c(\"Onvoldoende\", \"Voldoende\", \"Goed\", \"Uitstekend\")\n",
    "\n",
    "## Maak een confusiematrix\n",
    "Beoordelingen_confusiematrix <- table(Begin, Eind)\n",
    "\n",
    "## Print de confusiematrix \n",
    "print(Beoordelingen_confusiematrix[Volgorde, Volgorde])"
   ]
  },
  {
   "cell_type": "markdown",
   "id": "89a7b19e",
   "metadata": {},
   "source": [
    "<!-- ## /OPENBLOK: Data-beschrijven.R -->\n",
    "\n",
    "De confusiematrix geeft informatie over de verschillen tussen de beoordelingen aan het begin en eind van het vak. Er zijn bijvoorbeeld 16 studenten die aan het begin goed als beoordeling ontvingen en aan het eind de beoordeling uitstekend."
   ]
  },
  {
   "cell_type": "markdown",
   "id": "1e8f82b3",
   "metadata": {
    "lines_to_next_cell": 0
   },
   "source": [
    "## De data visualiseren\n",
    "\n",
    "Maak een staafdiagram om de verdeling van de beoordelingen aan het begin en eind van het vak visueel weer te geven.\n",
    "\n",
    "<!-- ## OPENBLOK: Histogram1.R -->"
   ]
  },
  {
   "cell_type": "code",
   "execution_count": null,
   "id": "169162d9",
   "metadata": {
    "lines_to_next_cell": 0,
    "message": false,
    "name": "histogram",
    "warnings": false
   },
   "outputs": [],
   "source": [
    "## Histogram met ggplot2\n",
    "library(ggplot2)\n",
    "\n",
    "ggplot(Beoordelingen_speech_schrijven,\n",
    "  aes(Beoordeling)) +\n",
    "  geom_bar(color = \"grey30\",\n",
    "                 fill = \"#0089CF\") +\n",
    "  scale_x_discrete(limits = c(\"Onvoldoende\", \"Voldoende\", \"Goed\", \"Uitstekend\")) +\n",
    "  facet_wrap(~ Meetmoment, labeller = labeller(Meetmoment = c(Begin = \"Begin van het vak\", Eind = \"Eind van het vak\"))) +\n",
    "  ylab(\"Frequentie\") +\n",
    "  labs(title = \"Beoordeling van het speech schrijven aan het begin en eind van het vak\")"
   ]
  },
  {
   "cell_type": "markdown",
   "id": "5d910770",
   "metadata": {},
   "source": [
    "<!-- ## /OPENBLOK: Histogram1.R -->\n",
    "\n",
    "Aan het eind van het vak zijn er meer speeches als goed en uitstekend beoordeeld in vergelijking tot het begin van het vak. Daarnaast zijn er minder speeches als onvoldoende en voldoende beoordeeld."
   ]
  },
  {
   "cell_type": "markdown",
   "id": "e59bc472",
   "metadata": {
    "lines_to_next_cell": 0
   },
   "source": [
    "## Wilcoxon signed rank toets\n",
    "<!-- ## TEKSTBLOK: Wilcoxon-signed-rank-toets.R -->\n",
    "Voer de *Wilcoxon signed rank toets* uit om de vraag te beantwoorden of de beoordelingen van het schrijven van speeches bij het vak 'Speech schrijven' verschillen tussen het begin en eind van het vak. Zet eerst de categorische variabele `Beoordeling` om in een numerieke variabele door de categorieën onvoldoende, voldoende, goed en uitstekend om te zetten in respectievelijk 1, 2, 3 en 4. Gebruik daarna de functie `wilcox.test()` met als eerste argument `Beoordeling ~ Meetmoment` waarin `Beoordeling` de afhankelijke variabele is en `Meetmoment` de onafhankelijke variabele is die twee meetmomenten aangeeft. Gebruik het argument `paired = TRUE` om aan te geven dat de twee meetmomenten aan elkaar gepaard zijn.  Toets tweezijdig door het argument `alternative = \"two.sided\"` te gebruiken.\n",
    "<!-- ## /TEKSTBLOK: Wilcoxon-signed-rank-toets.R -->\n",
    "\n",
    "<!-- ## OPENBLOK: Wilcoxon-signed-rank-toets.R -->"
   ]
  },
  {
   "cell_type": "code",
   "execution_count": null,
   "id": "14832c52",
   "metadata": {
    "lines_to_next_cell": 0,
    "name": "wilcox test"
   },
   "outputs": [],
   "source": [
    "# Zet de categorieën om in getallen\n",
    "Beoordelingen_speech_schrijven$Beoordeling_numeriek[Beoordelingen_speech_schrijven$Beoordeling == \"Onvoldoende\"] <- 1\n",
    "Beoordelingen_speech_schrijven$Beoordeling_numeriek[Beoordelingen_speech_schrijven$Beoordeling == \"Voldoende\"] <- 2\n",
    "Beoordelingen_speech_schrijven$Beoordeling_numeriek[Beoordelingen_speech_schrijven$Beoordeling == \"Goed\"] <- 3\n",
    "Beoordelingen_speech_schrijven$Beoordeling_numeriek[Beoordelingen_speech_schrijven$Beoordeling == \"Uitstekend\"] <- 4\n",
    "\n",
    "# Maak de variabele numeriek\n",
    "Beoordelingen_speech_schrijven$Beoordeling_numeriek <- as.numeric(Beoordelingen_speech_schrijven$Beoordeling_numeriek)\n",
    "\n",
    "# Voer de wilcoxon signed rank toets uit\n",
    "wilcox.test(Beoordeling_numeriek ~ Meetmoment, Beoordelingen_speech_schrijven, \n",
    "            paired = TRUE, alternative = \"two.sided\")"
   ]
  },
  {
   "cell_type": "markdown",
   "id": "69059bc4",
   "metadata": {
    "lines_to_next_cell": 0
   },
   "source": [
    "<!-- ## /OPENBLOK: Wilcoxon-signed-rank-toets.R -->\n",
    "\n",
    "<!-- ## OPENBLOK: Wilcoxon-signed-rank-toets2.R -->\n",
    "Bereken de effectmaat *r* vervolgens op basis van de p-waarde van de *Wilcoxon signed rank toets*."
   ]
  },
  {
   "cell_type": "code",
   "execution_count": null,
   "id": "f8e60050",
   "metadata": {
    "lines_to_next_cell": 0,
    "name": "effectgrootte"
   },
   "outputs": [],
   "source": [
    "# Sla de p-waarde op\n",
    "pwaarde <- wilcox.test(Beoordeling_numeriek ~ Meetmoment, Beoordelingen_speech_schrijven, \n",
    "            paired = TRUE, alternative = \"two.sided\")$p.value\n",
    "\n",
    "# Bereken de effectgrootte voor een tweezijdige toets\n",
    "r <- abs(qnorm(pwaarde/2)) / sqrt(length(Beoordelingen_speech_schrijven))\n",
    "# Bereken de effectgrootte voor een eenzijdige toets\n",
    "#r <- abs(qnorm(pwaarde)) / sqrt(length(Beoordelingen_speech_schrijven))\n",
    "\n",
    "# Print de effectgrootte\n",
    "paste(\"De effectmaat is\", r)\n"
   ]
  },
  {
   "cell_type": "markdown",
   "id": "ff3320d6",
   "metadata": {
    "lines_to_next_cell": 0
   },
   "source": [
    "<!-- ## /OPENBLOK: Wilcoxon-signed-rank-toets2.R -->\n",
    "\n",
    "Bereken de aantallen en de sommen van positieve en negatieve rangschikkingen op basis van de verschilscores.\n",
    "\n",
    "<!-- ## OPENBLOK: Wilcoxon-signed-rank-toets3.R -->"
   ]
  },
  {
   "cell_type": "code",
   "execution_count": null,
   "id": "1d82d6de",
   "metadata": {
    "collapse": true,
    "lines_to_next_cell": 0,
    "name": "sommen"
   },
   "outputs": [],
   "source": [
    "# Bereken de verschilscores\n",
    "Verschilscores <- Beoordelingen_speech_schrijven$Beoordeling_numeriek[Beoordelingen_speech_schrijven$Meetmoment == \"Eind\"] - Beoordelingen_speech_schrijven$Beoordeling_numeriek[Beoordelingen_speech_schrijven$Meetmoment == \"Begin\"]\n",
    "\n",
    "# Rangschik de absolute waarden van de verschilscores\n",
    "Rangschikkingen <- rank(abs(Verschilscores))\n",
    "\n",
    "# Maak een vector met daarin de tekens (plus of min) van de verschilscores)\n",
    "Tekens <- sign(Verschilscores)\n",
    "\n",
    "# Bereken het aantal en de som van de positieve rangschikkingen\n",
    "N_positief <- length(Tekens[Tekens == 1])\n",
    "Som_positief <- sum(Rangschikkingen[Tekens == 1])\n",
    "\n",
    "# Bereken het aantal en de som van de negatieve rangschikkingen\n",
    "N_negatief <- length(Tekens[Tekens == -1])\n",
    "Som_negatief <- sum(Rangschikkingen[Tekens == -1])\n",
    "\n",
    "# Print de resultaten\n",
    "N_positief\n",
    "Som_positief\n",
    "N_negatief\n",
    "Som_negatief\n"
   ]
  },
  {
   "cell_type": "markdown",
   "id": "1273e495",
   "metadata": {},
   "source": [
    "<!-- ## /OPENBLOK: Wilcoxon-signed-rank-toets3.R -->"
   ]
  },
  {
   "cell_type": "markdown",
   "id": "1e6695e7",
   "metadata": {
    "lines_to_next_cell": 0
   },
   "source": [
    "<!-- ## CLOSEDBLOK: Wilcoxon-signed-rank-toets.R -->"
   ]
  },
  {
   "cell_type": "code",
   "execution_count": null,
   "id": "68e3fbe6",
   "metadata": {
    "echo": true,
    "lines_to_next_cell": 0,
    "name": "wilcox test als object",
    "tags": [
     "remove_cell"
    ]
   },
   "outputs": [],
   "source": [
    "wilcox <- wilcox.test(Beoordeling_numeriek ~ Meetmoment, Beoordelingen_speech_schrijven, \n",
    "            paired = TRUE, alternative = \"two.sided\")\n",
    "vVstatistic <- Round_and_format(wilcox$statistic)"
   ]
  },
  {
   "cell_type": "markdown",
   "id": "d3f3affb",
   "metadata": {},
   "source": [
    "<!-- ## /CLOSEDBLOK: Wilcoxon-signed-rank-toets.R -->\n",
    "\n",
    "<!-- ## TEKSTBLOK: Wilcoxon-signed-rank-toets4.R -->\n",
    "* *V* = `r vVstatistic`, *p* < 0,0001 , *r* = `r Round_and_format(r)`\n",
    "* p-waarde < 0,05, dus de H~0~ wordt verworpen[^9]\n",
    "* Het aantal positieve rangschikkingen is `r N_positief`; de som is `r format(round(Som_positief), scientific = FALSE)`\n",
    "* Het aantal negatieve rangschikkingen is `r N_negatief`; de som is `r round(Som_negatief)`\n",
    "* De som van de positieve rangschikkingen is hoger dan de som van de negatieve rangschikkingen. Er zijn dus hogere beoordelingen aan het eind van het vak in vergelijking tot het begin van het vak.\n",
    "* Effectmaat is `r Round_and_format(r)`, dus een groot effect"
   ]
  },
  {
   "cell_type": "markdown",
   "id": "2ffbfe02",
   "metadata": {
    "lines_to_next_cell": 0
   },
   "source": [
    "<!-- ## /TEKSTBLOK: Wilcoxon-signed-rank-toets4.R -->\n",
    "\n",
    "# Rapportage\n",
    "<!-- ## TEKSTBLOK: Rapportage.R -->\n",
    "De *Wilcoxon signed rank toets* is uitgevoerd om de vraag te beantwoorden of er verschil is tussen de beoordelingen van het schrijven van speeches aan het begin en eind van het vak 'Speech schrijven'. De resultaten van de toets laten zien dat er een significant verschil is tussen het de beoordelingen aan het begin en eind van het vak, *V* = `r vVstatistic`, *p* < 0,0001, *r* = `r Round_and_format(r)`. Er zijn `r N_positief` studenten met een hogere beoordeling aan het eind van het vak (som van rangschikkingen is `r format(round(Som_positief), scientific = FALSE)`) en er zijn `r N_negatief` studenten met een lagere beoordeling aan het eind van het vak. Studenten lijken dus beter speeches te schrijven aan het eind vak het vak.\n",
    "<!-- ## /TEKSTBLOK: Rapportage.R -->\n",
    "\n",
    "<!-- ## CLOSEDBLOK: Footer.R -->"
   ]
  },
  {
   "cell_type": "code",
   "execution_count": null,
   "id": "8ab52e00",
   "metadata": {
    "code": "#R_CODE#readLines(paste0(here::here(),\"/01. Includes/code/Footer.R\"))",
    "include": true,
    "lines_to_next_cell": 0,
    "name": "footer",
    "results": "asis",
    "tags": [
     "remove_input"
    ]
   },
   "outputs": [],
   "source": []
  },
  {
   "cell_type": "markdown",
   "id": "f113293b",
   "metadata": {},
   "source": [
    "<!-- ## /CLOSEDBLOK: Footer.R -->\n",
    "\n",
    "[^1]: Laerd Statistics (2018). *Wilcoxon Signed-Rank Test using SPSS Statistics*. https://statistics.laerd.com/spss-tutorials/wilcoxon-signed-rank-test-using-spss-statistics.php\n",
    "[^6]: Field, A., Miles, J., & Field, Z. (2012). *Discovering statistics using R*. London: Sage publications.\n",
    "[^8]: Allen, P. & Bennett, K. (2012). *SPSS A practical Guide version 20.0*. Cengage Learning Australia Pty Limited.\n",
    "[^9]: In dit voorbeeld wordt uitgegaan van een waarschijnlijkheid van 95% c.q. een p-waardegrens van 0,05. De grens is naar eigen inzicht aan te passen; houd hierbij rekening met type I en type II fouten.\n",
    "[^10]: Een ordinale variabele is een categorische variabele waarbij de categorieën geordend kunnen worden. Een voorbeeld is de variabele beoordeling met de categorieën Onvoldoende, Voldoende, Goed en Uitstekend.\n",
    "[^11]: Een nominale variabele is een categorische variabele waarbij de categorieën niet geordend kunnen worden. Een voorbeeld is de variabele windstreek (noord, oost, zuid, west) en geslacht (man of vrouw).\n",
    "[^19]: Met een deelnemer wordt het object bedoeld dat geobserveerd wordt, bijvoorbeeld een student, een inwoner van Nederland, een opleiding of een organisatie. Met een observatie wordt de waarde bedoeld die de deelnemer heeft voor een bepaalde variabele. Een deelnemer heeft dus meestal een observatie voor meerdere variabelen.\n"
   ]
  }
 ],
 "metadata": {
  "jupytext": {
   "cell_metadata_filter": "message,tags,name,warning,echo,code,results,collapse,include,warnings,-all",
   "main_language": "R",
   "notebook_metadata_filter": "-all"
  },
  "language_info": {
   "codemirror_mode": {
    "name": "ipython",
    "version": 3
   },
   "file_extension": ".py",
   "mimetype": "text/x-python",
   "name": "python",
   "nbconvert_exporter": "python",
   "pygments_lexer": "ipython3",
   "version": "3.8.10"
  }
 },
 "nbformat": 4,
 "nbformat_minor": 5
}